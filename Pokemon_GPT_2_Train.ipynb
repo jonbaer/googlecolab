{
  "nbformat": 4,
  "nbformat_minor": 0,
  "metadata": {
    "colab": {
      "name": "Pokemon GPT-2 Train",
      "provenance": [],
      "toc_visible": true,
      "include_colab_link": true
    },
    "kernelspec": {
      "name": "python3",
      "display_name": "Python 3"
    },
    "accelerator": "GPU"
  },
  "cells": [
    {
      "cell_type": "markdown",
      "metadata": {
        "id": "view-in-github",
        "colab_type": "text"
      },
      "source": [
        "<a href=\"https://colab.research.google.com/github/jonbaer/googlecolab/blob/master/Pokemon_GPT_2_Train.ipynb\" target=\"_parent\"><img src=\"https://colab.research.google.com/assets/colab-badge.svg\" alt=\"Open In Colab\"/></a>"
      ]
    },
    {
      "cell_type": "markdown",
      "metadata": {
        "id": "KjR_y1DcZif1"
      },
      "source": [
        "# Pokemon GPT-2 Train\n",
        "\n",
        "This notebook will let you convert a folder of images to a text-based format and then train a GPT-2 model.\n",
        "\n",
        "To use this notebook just follow along with the instructions and run each cell as directed.\n",
        "\n",
        "*If you don't want to train a new model, but instead generate new Pokemon sprites with an existing model, you can skip to the generation notebook here: [Pokemon GPT-2 Generate](https://colab.research.google.com/drive/1qgt8cSwKF957PgPTKhRcNwDIfWrMhbV9)*\n",
        "\n",
        "---\n",
        "\n",
        "**Please Note**: Due to specifics of the text-based image format images can only be up to 99x99 pixels. If you want to change this, you'll need to modify the text conversion code to allow line numbers greater than 2 digits.\n",
        "\n",
        "---\n",
        "\n",
        "GPT-2 portions of this notebook are based on the notebook for [GPT-2-Simple](https://github.com/minimaxir/gpt-2-simple)"
      ]
    },
    {
      "cell_type": "markdown",
      "metadata": {
        "id": "Ly6hQe18GDM8"
      },
      "source": [
        "## 1. Setup\n",
        "\n",
        "First we import everything we need and download the 124M GPT-2 model for retraining:"
      ]
    },
    {
      "cell_type": "code",
      "metadata": {
        "id": "oLfKBltYZVeq"
      },
      "source": [
        "import sys\n",
        "import math\n",
        "from PIL import Image\n",
        "from os import listdir\n",
        "import shutil\n",
        "\n",
        "%tensorflow_version 1.x\n",
        "!pip install -q gpt-2-simple\n",
        "import gpt_2_simple as gpt2\n",
        "from datetime import datetime\n",
        "from google.colab import files, drive\n",
        "\n",
        "gpt2.download_gpt2(model_name=\"124M\")"
      ],
      "execution_count": null,
      "outputs": []
    },
    {
      "cell_type": "markdown",
      "metadata": {
        "id": "G-bTKkWvGSNn"
      },
      "source": [
        "## 2. Google Drive\n",
        "\n",
        "Google Drive is used to load training images and store the resulting model. Here we mount your Google Drive:"
      ]
    },
    {
      "cell_type": "code",
      "metadata": {
        "id": "W0WMCYr-GRJ1"
      },
      "source": [
        "drive.mount('/content/drive')"
      ],
      "execution_count": null,
      "outputs": []
    },
    {
      "cell_type": "markdown",
      "metadata": {
        "id": "o_pjyGAKazlR"
      },
      "source": [
        "## 3. Convert Images for Training\n",
        "\n",
        "Now we'll convert your training images into one long text file that we'll use for training. By default we use a folder in your Google Drive titled \"input-images\". This folder can contain PNGs, GIFs, or JPGs. But as noted above, all images must be 99x99 pixels or smaller. My training used 64x64 sprites.\n",
        "\n",
        "Please change this to the name of the folder in your Google Drive you want to convert, then run the cell:"
      ]
    },
    {
      "cell_type": "code",
      "metadata": {
        "id": "19xxIiv4ayi5"
      },
      "source": [
        "output = ''\n",
        "input_folder = 'input-images' #@param {type:\"string\"}\n",
        "input_folder_path = '/content/drive/My Drive/%s' % input_folder\n",
        "\n",
        "for f in listdir(input_folder_path):\n",
        "    ext = f.split('.')[-1]\n",
        "    if ext not in ['png', 'gif', 'jpg', 'jpeg']:\n",
        "      continue\n",
        "\n",
        "    print('converting %s' % f)\n",
        "\n",
        "    path = '%s/%s' % (input_folder_path, f)\n",
        "    image = Image.open(path)\n",
        "    pixels = image.load()\n",
        "    width = image.size[0]\n",
        "    height = image.size[1]\n",
        "\n",
        "    lines = []\n",
        "\n",
        "    for y in range(height):\n",
        "        split = ['%02dd' % y]\n",
        "\n",
        "        for x in range(width):\n",
        "            color = pixels[x, y] \n",
        "\n",
        "            s = '~'\n",
        "\n",
        "            if color[3] > 128:\n",
        "                r = color[0]\n",
        "                g = color[1]\n",
        "                b = color[2]\n",
        "               \n",
        "                if r == 85 and g == 85 and b == 85:\n",
        "                    s = 'a' # use grayscale character 1\n",
        "\n",
        "                elif r == 170 and g == 170 and b == 170:\n",
        "                    s = 'b' # use grayscale character 2\n",
        "\n",
        "                else: # use one of 64 color characters\n",
        "                    mR = math.floor(r/64)\n",
        "                    mG = math.floor(g/64)\n",
        "                    mB = math.floor(b/64)\n",
        "\n",
        "                    c = 0;\n",
        "\n",
        "                    c += mR\n",
        "                    c = c << 2\n",
        "                    c += mG\n",
        "                    c = c << 2\n",
        "                    c += mB\n",
        "\n",
        "                    s = chr(c+33)\n",
        "\n",
        "            split.append(s)\n",
        "\n",
        "        lines.append(' '.join(split))\n",
        "\n",
        "    reversed = []\n",
        "    for line in lines:\n",
        "        reversed.insert(0, (line.replace('d ', 'u ', 1)))\n",
        "\n",
        "    output += '\\n'.join(lines)\n",
        "    output += '\\n'.join(reversed)\n",
        "\n",
        "print('saving output')\n",
        "with open('all-images.txt', 'w') as output_file:\n",
        "    output_file.write(output)\n",
        "print('done !')"
      ],
      "execution_count": null,
      "outputs": []
    },
    {
      "cell_type": "markdown",
      "metadata": {
        "id": "-nHOKC7JH7vQ"
      },
      "source": [
        "## 4. Train the Model\n",
        "\n",
        "Now we will train a GPT-2 model on the converted images.\n",
        "\n",
        "Set the checkpoint_folder to the name of the folder you want to save to in your Google Drive.\n",
        "\n",
        "Also set run_name to a name that represents this training set.\n",
        "\n",
        "The number of steps controls how long you will train your model on this data. Longer will probably lead to better results. 5000 is enough to see something. But 30000 or more is probably better. Try 5000, see what you get, and go from there.\n",
        "\n",
        "Once you've set these values, run the cell:"
      ]
    },
    {
      "cell_type": "code",
      "metadata": {
        "id": "uiKWUHWkCRvW"
      },
      "source": [
        "checkpoint_folder = 'pokemon-gpt-2-checkpoints'  #@param {type:\"string\"}\n",
        "run_name = 'pokemon-gpt-2-run' #@param {type:\"string\"}\n",
        "steps = 5000 #@param {type:\"integer\"}\n",
        "session = gpt2.start_tf_sess()\n",
        "\n",
        "session = gpt2.reset_session(session)\n",
        "gpt2.finetune(session,\n",
        "    dataset='all-images.txt',\n",
        "    model_name='124M',\n",
        "    steps=steps,\n",
        "    restore_from='latest',\n",
        "    run_name=run_name,\n",
        "    print_every=10,\n",
        "    sample_every=500,\n",
        "    save_every=500\n",
        "  )\n",
        "\n",
        "shutil.copytree('checkpoint/%s' % run_name, '/content/drive/My Drive/%s/%s' % (checkpoint_folder, run_name))"
      ],
      "execution_count": null,
      "outputs": []
    },
    {
      "cell_type": "markdown",
      "metadata": {
        "id": "HL2U4MO9JlqC"
      },
      "source": [
        "## 5. Now Generate !\n",
        "\n",
        "Once you've completed this notebook, head over to the [Pokemon GPT-2 Generate](https://colab.research.google.com/drive/1qgt8cSwKF957PgPTKhRcNwDIfWrMhbV9) notebook to generate sprites with your new model."
      ]
    }
  ]
}