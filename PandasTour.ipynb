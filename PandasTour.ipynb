{
  "nbformat": 4,
  "nbformat_minor": 0,
  "metadata": {
    "colab": {
      "name": "PandasTour.ipynb",
      "version": "0.3.2",
      "provenance": [],
      "include_colab_link": true
    }
  },
  "cells": [
    {
      "cell_type": "markdown",
      "metadata": {
        "id": "view-in-github",
        "colab_type": "text"
      },
      "source": [
        "[View in Colaboratory](https://colab.research.google.com/github/jonbaer/googlecolab/blob/master/PandasTour.ipynb)"
      ]
    },
    {
      "metadata": {
        "id": "_126ZOURCTX9",
        "colab_type": "code",
        "colab": {}
      },
      "cell_type": "code",
      "source": [
        "import numpy as np\n",
        "import pandas as pd\n",
        "from datetime import time\n",
        "pd.set_option('html', False)"
      ],
      "execution_count": 0,
      "outputs": []
    },
    {
      "metadata": {
        "id": "pMSZOyipCTYA",
        "colab_type": "code",
        "colab": {},
        "outputId": "f0a856c6-1ac7-4fe6-b79f-6686f39b9d57"
      },
      "cell_type": "code",
      "source": [
        "from IPython.core.display import Image\n",
        "Image('http://akamaicovers.oreilly.com/images/0636920023784/lrg.jpg')"
      ],
      "execution_count": 0,
      "outputs": [
        {
          "output_type": "execute_result",
          "data": {},
          "metadata": {
            "tags": []
          },
          "execution_count": 2
        }
      ]
    },
    {
      "metadata": {
        "id": "e1Bh2MctCTYE",
        "colab_type": "text"
      },
      "cell_type": "markdown",
      "source": [
        "Important Features in pandas\n",
        "==="
      ]
    },
    {
      "metadata": {
        "id": "JKNtvbu9CTYF",
        "colab_type": "code",
        "colab": {}
      },
      "cell_type": "code",
      "source": [
        "import pandas as pd\n",
        "import numpy as np"
      ],
      "execution_count": 0,
      "outputs": []
    },
    {
      "metadata": {
        "id": "jmYGSl7NCTYH",
        "colab_type": "text"
      },
      "cell_type": "markdown",
      "source": [
        "Fast tabular data IO\n",
        "---"
      ]
    },
    {
      "metadata": {
        "id": "KgIfhiKHCTYI",
        "colab_type": "code",
        "colab": {},
        "outputId": "3006487e-1670-4b6e-d21f-24632ad392c8"
      },
      "cell_type": "code",
      "source": [
        "temp = '/Users/wesm/Downloads/minutebars/%s.csv'\n",
        "path = temp % 'AAPL'\n",
        "!wc -l $path"
      ],
      "execution_count": 0,
      "outputs": [
        {
          "output_type": "stream",
          "text": [
            "  489598 /Users/wesm/Downloads/minutebars/AAPL.csv\r\n"
          ],
          "name": "stdout"
        }
      ]
    },
    {
      "metadata": {
        "id": "sAcmIQzaCTYK",
        "colab_type": "code",
        "colab": {},
        "outputId": "9a65c603-a13a-4dca-cdd4-9c432284dc35"
      },
      "cell_type": "code",
      "source": [
        "aapl_bars = pd.read_csv(temp % 'AAPL')\n",
        "aapl_bars"
      ],
      "execution_count": 0,
      "outputs": [
        {
          "output_type": "execute_result",
          "data": {},
          "metadata": {
            "tags": []
          },
          "execution_count": 63
        }
      ]
    },
    {
      "metadata": {
        "id": "hJHlVN1MCTYN",
        "colab_type": "code",
        "colab": {},
        "outputId": "32eb7bd4-3660-4943-8196-500f9cf042d9"
      },
      "cell_type": "code",
      "source": [
        "%time _ = pd.read_csv(path)"
      ],
      "execution_count": 0,
      "outputs": [
        {
          "output_type": "stream",
          "text": [
            "CPU times: user 0.72 s, sys: 0.18 s, total: 0.90 s\n",
            "Wall time: 0.90 s\n"
          ],
          "name": "stdout"
        }
      ]
    },
    {
      "metadata": {
        "id": "kE3hu7RrCTYQ",
        "colab_type": "text"
      },
      "cell_type": "markdown",
      "source": [
        "Time series operations\n",
        "---"
      ]
    },
    {
      "metadata": {
        "id": "cDo11LJJCTYR",
        "colab_type": "code",
        "colab": {},
        "outputId": "f7d204ba-911b-4c9e-9794-18241d8d8460"
      },
      "cell_type": "code",
      "source": [
        "aapl_bars.dt"
      ],
      "execution_count": 0,
      "outputs": [
        {
          "output_type": "execute_result",
          "data": {},
          "metadata": {
            "tags": []
          },
          "execution_count": 65
        }
      ]
    },
    {
      "metadata": {
        "id": "eP_Zy2TZCTYT",
        "colab_type": "code",
        "colab": {}
      },
      "cell_type": "code",
      "source": [
        "aapl_bars.index = pd.to_datetime(aapl_bars.pop('dt'))"
      ],
      "execution_count": 0,
      "outputs": []
    },
    {
      "metadata": {
        "id": "XHTBvcm0CTYW",
        "colab_type": "code",
        "colab": {},
        "outputId": "a362b3df-9bf3-4520-c954-db370cc0c522"
      },
      "cell_type": "code",
      "source": [
        "aapl_bars.head()"
      ],
      "execution_count": 0,
      "outputs": [
        {
          "output_type": "execute_result",
          "data": {},
          "metadata": {
            "tags": []
          },
          "execution_count": 69
        }
      ]
    },
    {
      "metadata": {
        "id": "AmpDLr3mCTYZ",
        "colab_type": "code",
        "colab": {}
      },
      "cell_type": "code",
      "source": [
        "def load_bars(ticker):\n",
        "    bars = pd.read_csv(temp % ticker)\n",
        "    bars.index = pd.to_datetime(bars.pop('dt'))\n",
        "    return bars"
      ],
      "execution_count": 0,
      "outputs": []
    },
    {
      "metadata": {
        "id": "fDybzsAbCTYb",
        "colab_type": "code",
        "colab": {},
        "outputId": "3785b77a-18e0-4978-c5aa-2e17736a0ee6"
      },
      "cell_type": "code",
      "source": [
        "aapl_bars.at_time(time(15, 0)).head(10)"
      ],
      "execution_count": 0,
      "outputs": [
        {
          "output_type": "execute_result",
          "data": {},
          "metadata": {
            "tags": []
          },
          "execution_count": 79
        }
      ]
    },
    {
      "metadata": {
        "id": "c5zW1rlcCTYe",
        "colab_type": "code",
        "colab": {},
        "outputId": "26f7ea74-a51d-4a16-d6d5-18435b3ed97a"
      },
      "cell_type": "code",
      "source": [
        "aapl_bars.close_price['2009-10-15']"
      ],
      "execution_count": 0,
      "outputs": [
        {
          "output_type": "execute_result",
          "data": {},
          "metadata": {
            "tags": []
          },
          "execution_count": 80
        }
      ]
    },
    {
      "metadata": {
        "id": "fDrvW0hrCTYh",
        "colab_type": "code",
        "colab": {},
        "outputId": "52feb407-b86a-428c-d973-395b543ffc22"
      },
      "cell_type": "code",
      "source": [
        "aapl_bars.close_price"
      ],
      "execution_count": 0,
      "outputs": [
        {
          "output_type": "execute_result",
          "data": {},
          "metadata": {
            "tags": []
          },
          "execution_count": 81
        }
      ]
    },
    {
      "metadata": {
        "id": "NZuBaakACTYk",
        "colab_type": "code",
        "colab": {},
        "outputId": "a57bff8e-82a4-46b7-9957-9dc1ba5582b4"
      },
      "cell_type": "code",
      "source": [
        "mth_mean = aapl_bars.close_price.resample('M', how=['mean', 'median', 'std'])\n",
        "mth_mean"
      ],
      "execution_count": 0,
      "outputs": [
        {
          "output_type": "execute_result",
          "data": {},
          "metadata": {
            "tags": []
          },
          "execution_count": 82
        }
      ]
    },
    {
      "metadata": {
        "id": "Fnp2J04VCTYm",
        "colab_type": "code",
        "colab": {},
        "outputId": "b84a64c1-2f03-42de-c3ef-3431344df7fe"
      },
      "cell_type": "code",
      "source": [
        "mth_mean.plot()"
      ],
      "execution_count": 0,
      "outputs": [
        {
          "output_type": "execute_result",
          "data": {},
          "metadata": {
            "tags": []
          },
          "execution_count": 83
        },
        {
          "output_type": "display_data",
          "data": {},
          "metadata": {
            "tags": []
          }
        }
      ]
    },
    {
      "metadata": {
        "id": "IdBKE0fnCTYq",
        "colab_type": "code",
        "colab": {},
        "outputId": "b467c133-d2ab-4683-d894-4f68dcd274b0"
      },
      "cell_type": "code",
      "source": [
        "close = aapl_bars.close_price\n",
        "close / close.shift(1) - 1"
      ],
      "execution_count": 0,
      "outputs": [
        {
          "output_type": "execute_result",
          "data": {},
          "metadata": {
            "tags": []
          },
          "execution_count": 84
        }
      ]
    },
    {
      "metadata": {
        "id": "eqnVcXGsCTYr",
        "colab_type": "code",
        "colab": {},
        "outputId": "c82aa7ae-a0d1-4a71-94ad-5e1fc1c5dd06"
      },
      "cell_type": "code",
      "source": [
        "minute_returns = aapl_bars.close_price.pct_change()\n",
        "std_10day = pd.rolling_std(minute_returns, 390 * 10)\n",
        "std_10day.resample('B').plot()"
      ],
      "execution_count": 0,
      "outputs": [
        {
          "output_type": "execute_result",
          "data": {},
          "metadata": {
            "tags": []
          },
          "execution_count": 85
        },
        {
          "output_type": "display_data",
          "data": {},
          "metadata": {
            "tags": []
          }
        }
      ]
    },
    {
      "metadata": {
        "id": "LvT48MS4CTYt",
        "colab_type": "text"
      },
      "cell_type": "markdown",
      "source": [
        "Data alignment\n",
        "---"
      ]
    },
    {
      "metadata": {
        "id": "UyGSbV4cCTYu",
        "colab_type": "code",
        "colab": {},
        "outputId": "06fbe54e-bf70-4dd5-d41b-8e00096861ad"
      },
      "cell_type": "code",
      "source": [
        "ts1 = pd.Series(np.random.randn(10), \n",
        "                index=pd.date_range('1/1/2000', periods=10))\n",
        "ts1"
      ],
      "execution_count": 0,
      "outputs": [
        {
          "output_type": "execute_result",
          "data": {},
          "metadata": {
            "tags": []
          },
          "execution_count": 86
        }
      ]
    },
    {
      "metadata": {
        "id": "O7VsHPQyCTYx",
        "colab_type": "code",
        "colab": {},
        "outputId": "857cf6e9-a7e8-4e8d-d58f-cc0878a7c2c4"
      },
      "cell_type": "code",
      "source": [
        "ts2 = ts1[[0, 2, 4, 5, 6, 7, 8]]\n",
        "ts2"
      ],
      "execution_count": 0,
      "outputs": [
        {
          "output_type": "execute_result",
          "data": {},
          "metadata": {
            "tags": []
          },
          "execution_count": 87
        }
      ]
    },
    {
      "metadata": {
        "id": "qSqU23gJCTY0",
        "colab_type": "code",
        "colab": {},
        "outputId": "c17dfbde-5cd8-47a3-87f4-283a8009c7cc"
      },
      "cell_type": "code",
      "source": [
        "ts1 + ts2"
      ],
      "execution_count": 0,
      "outputs": [
        {
          "output_type": "execute_result",
          "data": {},
          "metadata": {
            "tags": []
          },
          "execution_count": 88
        }
      ]
    },
    {
      "metadata": {
        "id": "mU98D8OaCTY6",
        "colab_type": "code",
        "colab": {},
        "outputId": "64d0d60b-8cf6-4520-b9c5-07ba499d5741"
      },
      "cell_type": "code",
      "source": [
        "df = pd.DataFrame({'A': ts1, 'B': ts2})\n",
        "df"
      ],
      "execution_count": 0,
      "outputs": [
        {
          "output_type": "execute_result",
          "data": {},
          "metadata": {
            "tags": []
          },
          "execution_count": 89
        }
      ]
    },
    {
      "metadata": {
        "id": "JnOIZHy6CTY9",
        "colab_type": "code",
        "colab": {}
      },
      "cell_type": "code",
      "source": [
        "ibm_bars = load_bars('IBM')"
      ],
      "execution_count": 0,
      "outputs": []
    },
    {
      "metadata": {
        "id": "kiKJRcnICTY_",
        "colab_type": "code",
        "colab": {},
        "outputId": "784ef82c-b7a6-4b3d-9710-24b31f90cef3"
      },
      "cell_type": "code",
      "source": [
        "def subsample(frame, pct=0.9):\n",
        "    N = len(frame)\n",
        "    indexer = np.sort(np.random.permutation(N)[:pct*N])\n",
        "    return frame.take(indexer)\n",
        "\n",
        "f1 = subsample(ibm_bars)\n",
        "f2 = subsample(aapl_bars)\n",
        "f1"
      ],
      "execution_count": 0,
      "outputs": [
        {
          "output_type": "execute_result",
          "data": {},
          "metadata": {
            "tags": []
          },
          "execution_count": 91
        }
      ]
    },
    {
      "metadata": {
        "id": "_jhaygaqCTZB",
        "colab_type": "code",
        "colab": {},
        "outputId": "bd948564-10e3-4e00-c65c-eb14cd060637"
      },
      "cell_type": "code",
      "source": [
        "both = pd.concat([f1, f2], axis=1, keys=['IBM', 'AAPL'])\n",
        "both.head(20)"
      ],
      "execution_count": 0,
      "outputs": [
        {
          "output_type": "execute_result",
          "data": {},
          "metadata": {
            "tags": []
          },
          "execution_count": 92
        }
      ]
    },
    {
      "metadata": {
        "id": "zeohZhLlCTZD",
        "colab_type": "text"
      },
      "cell_type": "markdown",
      "source": [
        "Missing data handling\n",
        "---"
      ]
    },
    {
      "metadata": {
        "id": "Q8eB24TsCTZD",
        "colab_type": "code",
        "colab": {},
        "outputId": "4d35f148-dfbf-4743-f902-d8dd4630913d"
      },
      "cell_type": "code",
      "source": [
        "df"
      ],
      "execution_count": 0,
      "outputs": [
        {
          "output_type": "execute_result",
          "data": {},
          "metadata": {
            "tags": []
          },
          "execution_count": 93
        }
      ]
    },
    {
      "metadata": {
        "id": "6rpbgcxJCTZG",
        "colab_type": "code",
        "colab": {},
        "outputId": "6e45674d-9396-4075-84f4-895386c8001f"
      },
      "cell_type": "code",
      "source": [
        "df.count()"
      ],
      "execution_count": 0,
      "outputs": [
        {
          "output_type": "execute_result",
          "data": {},
          "metadata": {
            "tags": []
          },
          "execution_count": 94
        }
      ]
    },
    {
      "metadata": {
        "id": "kKa9ESTuCTZJ",
        "colab_type": "code",
        "colab": {},
        "outputId": "00ca734a-cf9a-428c-c4a9-6a8a066e3d40"
      },
      "cell_type": "code",
      "source": [
        "both.count()"
      ],
      "execution_count": 0,
      "outputs": [
        {
          "output_type": "execute_result",
          "data": {},
          "metadata": {
            "tags": []
          },
          "execution_count": 95
        }
      ]
    },
    {
      "metadata": {
        "id": "iSO-cvWgCTZM",
        "colab_type": "code",
        "colab": {},
        "outputId": "fa78d1f0-6db4-4d05-bc6f-7295faa7f497"
      },
      "cell_type": "code",
      "source": [
        "df.sum()"
      ],
      "execution_count": 0,
      "outputs": [
        {
          "output_type": "execute_result",
          "data": {},
          "metadata": {
            "tags": []
          },
          "execution_count": 96
        }
      ]
    },
    {
      "metadata": {
        "id": "FooR5GJxCTZO",
        "colab_type": "code",
        "colab": {},
        "outputId": "e61557f9-3c3d-47da-f355-12086b7a733e"
      },
      "cell_type": "code",
      "source": [
        "df.mean(1)"
      ],
      "execution_count": 0,
      "outputs": [
        {
          "output_type": "execute_result",
          "data": {},
          "metadata": {
            "tags": []
          },
          "execution_count": 97
        }
      ]
    },
    {
      "metadata": {
        "id": "pT-J1oV8CTZS",
        "colab_type": "code",
        "colab": {},
        "outputId": "4c95fccc-c6e7-4877-e3bb-9f42d42f360c"
      },
      "cell_type": "code",
      "source": [
        "df.dropna()"
      ],
      "execution_count": 0,
      "outputs": [
        {
          "output_type": "execute_result",
          "data": {},
          "metadata": {
            "tags": []
          },
          "execution_count": 98
        }
      ]
    },
    {
      "metadata": {
        "id": "zgoYpBccCTZT",
        "colab_type": "code",
        "colab": {},
        "outputId": "150a23d7-934f-4901-f820-374f9ea8d479"
      },
      "cell_type": "code",
      "source": [
        "df.fillna(0)"
      ],
      "execution_count": 0,
      "outputs": [
        {
          "output_type": "execute_result",
          "data": {},
          "metadata": {
            "tags": []
          },
          "execution_count": 99
        }
      ]
    },
    {
      "metadata": {
        "id": "REUzDHjiCTZW",
        "colab_type": "code",
        "colab": {},
        "outputId": "9defc70b-d93e-48a7-ac6d-9660799d0935"
      },
      "cell_type": "code",
      "source": [
        "df.fillna(method='ffill')"
      ],
      "execution_count": 0,
      "outputs": [
        {
          "output_type": "execute_result",
          "data": {},
          "metadata": {
            "tags": []
          },
          "execution_count": 100
        }
      ]
    },
    {
      "metadata": {
        "id": "DQhYcnVECTZZ",
        "colab_type": "code",
        "colab": {},
        "outputId": "63090a2a-7a83-4992-afcb-999a1688a209"
      },
      "cell_type": "code",
      "source": [
        "df.asfreq('4h')"
      ],
      "execution_count": 0,
      "outputs": [
        {
          "output_type": "execute_result",
          "data": {},
          "metadata": {
            "tags": []
          },
          "execution_count": 101
        }
      ]
    },
    {
      "metadata": {
        "id": "pjCvLW2rCTZb",
        "colab_type": "code",
        "colab": {},
        "outputId": "deaf6c9e-ee4b-43f6-be5f-9a1a3c2a96d1"
      },
      "cell_type": "code",
      "source": [
        "df.asfreq('4h').ffill(limit=3)"
      ],
      "execution_count": 0,
      "outputs": [
        {
          "output_type": "execute_result",
          "data": {},
          "metadata": {
            "tags": []
          },
          "execution_count": 102
        }
      ]
    },
    {
      "metadata": {
        "id": "GiXQD8rHCTZc",
        "colab_type": "text"
      },
      "cell_type": "markdown",
      "source": [
        "Groupby operations\n",
        "---"
      ]
    },
    {
      "metadata": {
        "id": "YbTZV8aQCTZd",
        "colab_type": "code",
        "colab": {}
      },
      "cell_type": "code",
      "source": [
        "import random, string\n",
        "import matplotlib as mpl\n",
        "def rands(n):\n",
        "    choices = string.ascii_letters\n",
        "    return ''.join([random.choice(choices) for _ in xrange(n)])\n",
        "mpl.rc('figure', figsize=(12, 8))\n",
        "\n",
        "ind_names = np.array(['ENERGY', 'FINANCIAL', 'TECH', \n",
        "                      'CONSDUR', 'SERVICES', 'UTILITIES'], dtype='O')\n",
        "ccys = np.array(['USD', 'EUR'], dtype='O')\n",
        "\n",
        "Nfull = 2000\n",
        "tickers = np.array(sorted(rands(5).upper() for _ in xrange(Nfull)), dtype='O')\n",
        "tickers = np.unique(tickers)\n",
        "\n",
        "industries = pd.Series(ind_names.take(np.random.randint(0, 6, Nfull)), \n",
        "                       index=tickers, name='industry')\n",
        "ccy = pd.Series(ccys.take(np.random.randint(0, len(ccys), Nfull)), \n",
        "                index=tickers, name='ccy')"
      ],
      "execution_count": 0,
      "outputs": []
    },
    {
      "metadata": {
        "id": "kEbZAtmaCTZf",
        "colab_type": "code",
        "colab": {},
        "outputId": "09d33772-8404-4e06-cff5-ddd49b2a1857"
      },
      "cell_type": "code",
      "source": [
        "ccy"
      ],
      "execution_count": 0,
      "outputs": [
        {
          "output_type": "execute_result",
          "data": {},
          "metadata": {
            "tags": []
          },
          "execution_count": 104
        }
      ]
    },
    {
      "metadata": {
        "id": "uXf-OwJHCTZh",
        "colab_type": "code",
        "colab": {},
        "outputId": "e1792bc6-f6c0-4841-f918-abf21bdd002c"
      },
      "cell_type": "code",
      "source": [
        "df = pd.DataFrame({'Momentum' : np.random.randn(1000) / 200 + 0.03,\n",
        "                'Value' : np.random.randn(1000) / 200 + 0.08,\n",
        "                'ShortInterest' : np.random.randn(1000) / 200 - 0.02},\n",
        "                index=tickers.take(np.random.permutation(Nfull)[:1000]))\n",
        "df.head()"
      ],
      "execution_count": 0,
      "outputs": [
        {
          "output_type": "execute_result",
          "data": {},
          "metadata": {
            "tags": []
          },
          "execution_count": 105
        }
      ]
    },
    {
      "metadata": {
        "id": "L98IEb-3CTZo",
        "colab_type": "code",
        "colab": {},
        "outputId": "9413cf00-2a32-444d-e1ae-bf79e91c8473"
      },
      "cell_type": "code",
      "source": [
        "means = df.groupby(industries).mean()\n",
        "means"
      ],
      "execution_count": 0,
      "outputs": [
        {
          "output_type": "execute_result",
          "data": {},
          "metadata": {
            "tags": []
          },
          "execution_count": 106
        }
      ]
    },
    {
      "metadata": {
        "id": "FYpjR_gXCTZr",
        "colab_type": "code",
        "colab": {},
        "outputId": "6cc14dc9-da24-4df5-91bc-723f51daae9e"
      },
      "cell_type": "code",
      "source": [
        "means.plot(kind='barh')"
      ],
      "execution_count": 0,
      "outputs": [
        {
          "output_type": "execute_result",
          "data": {},
          "metadata": {
            "tags": []
          },
          "execution_count": 107
        },
        {
          "output_type": "display_data",
          "data": {},
          "metadata": {
            "tags": []
          }
        }
      ]
    },
    {
      "metadata": {
        "id": "t--ngUGqCTZu",
        "colab_type": "code",
        "colab": {},
        "outputId": "639eb7c4-a4ef-4ed5-e938-acad5b488058"
      },
      "cell_type": "code",
      "source": [
        "means = df.groupby([industries, ccy]).mean()\n",
        "means"
      ],
      "execution_count": 0,
      "outputs": [
        {
          "output_type": "execute_result",
          "data": {},
          "metadata": {
            "tags": []
          },
          "execution_count": 108
        }
      ]
    },
    {
      "metadata": {
        "id": "dt8erzmOCTZy",
        "colab_type": "code",
        "colab": {}
      },
      "cell_type": "code",
      "source": [
        "keys = [industries, ccy]\n",
        "zscore = lambda x: (x - x.mean()) / x.std()\n",
        "normed = df.groupby(keys).apply(zscore)"
      ],
      "execution_count": 0,
      "outputs": []
    },
    {
      "metadata": {
        "id": "JtK7fPhECTZ0",
        "colab_type": "code",
        "colab": {},
        "outputId": "bffc9610-7ed1-45a6-db8a-e4b72e1ea56e"
      },
      "cell_type": "code",
      "source": [
        "normed.groupby(keys).agg(['mean', 'std'])"
      ],
      "execution_count": 0,
      "outputs": [
        {
          "output_type": "execute_result",
          "data": {},
          "metadata": {
            "tags": []
          },
          "execution_count": 110
        }
      ]
    },
    {
      "metadata": {
        "id": "8fcTiq26CTZ3",
        "colab_type": "text"
      },
      "cell_type": "markdown",
      "source": [
        "Hierarchical indexing\n",
        "---"
      ]
    },
    {
      "metadata": {
        "id": "MzHiRXWeCTZ3",
        "colab_type": "code",
        "colab": {},
        "outputId": "895bd614-8709-4d1d-f214-535f114b45bb"
      },
      "cell_type": "code",
      "source": [
        "means"
      ],
      "execution_count": 0,
      "outputs": [
        {
          "output_type": "execute_result",
          "data": {},
          "metadata": {
            "tags": []
          },
          "execution_count": 111
        }
      ]
    },
    {
      "metadata": {
        "id": "7VNe8pFCCTZ6",
        "colab_type": "code",
        "colab": {},
        "outputId": "1165f584-2985-4db5-e504-65ba1ee98f17"
      },
      "cell_type": "code",
      "source": [
        "means['Momentum']"
      ],
      "execution_count": 0,
      "outputs": [
        {
          "output_type": "execute_result",
          "data": {},
          "metadata": {
            "tags": []
          },
          "execution_count": 112
        }
      ]
    },
    {
      "metadata": {
        "id": "9FHU0bK2CTZ7",
        "colab_type": "code",
        "colab": {},
        "outputId": "dfdc1e66-ec3b-4ab1-b7f4-2b55becb0d3e"
      },
      "cell_type": "code",
      "source": [
        "means.ix['TECH']"
      ],
      "execution_count": 0,
      "outputs": [
        {
          "output_type": "execute_result",
          "data": {},
          "metadata": {
            "tags": []
          },
          "execution_count": 113
        }
      ]
    },
    {
      "metadata": {
        "id": "q0yHTJKsCTZ-",
        "colab_type": "code",
        "colab": {},
        "outputId": "3694d064-1a92-47c5-e416-42490b84e2cf"
      },
      "cell_type": "code",
      "source": [
        "means.stack()"
      ],
      "execution_count": 0,
      "outputs": [
        {
          "output_type": "execute_result",
          "data": {},
          "metadata": {
            "tags": []
          },
          "execution_count": 114
        }
      ]
    },
    {
      "metadata": {
        "id": "arEC8-ovCTZ_",
        "colab_type": "code",
        "colab": {},
        "outputId": "1dedefc8-e702-4d54-b486-7c7480f36ca7"
      },
      "cell_type": "code",
      "source": [
        "means.stack().unstack('industry')"
      ],
      "execution_count": 0,
      "outputs": [
        {
          "output_type": "execute_result",
          "data": {},
          "metadata": {
            "tags": []
          },
          "execution_count": 115
        }
      ]
    },
    {
      "metadata": {
        "id": "088kGV9mCTaC",
        "colab_type": "text"
      },
      "cell_type": "markdown",
      "source": [
        "Merging and joining\n",
        "---"
      ]
    },
    {
      "metadata": {
        "id": "TSDyWKVICTaC",
        "colab_type": "code",
        "colab": {}
      },
      "cell_type": "code",
      "source": [
        "base = '/Users/wesm/Dropbox/book/svn/book_scripts/movielens/ml-1m'\n",
        "get_path = lambda x: '%s/%s.dat' % (base, x)\n",
        "\n",
        "unames = ['user_id', 'gender', 'age', 'occupation', 'zip']\n",
        "users = pd.read_table(get_path('users'), sep='::', header=None, names=unames)\n",
        "\n",
        "rnames = ['user_id', 'movie_id', 'rating', 'timestamp']\n",
        "ratings = pd.read_table(get_path('ratings'), sep='::', header=None, names=rnames)\n",
        "mnames = ['movie_id', 'title', 'genres']\n",
        "movies = pd.read_table(get_path('movies'), sep='::', header=None, names=mnames)"
      ],
      "execution_count": 0,
      "outputs": []
    },
    {
      "metadata": {
        "id": "w0NoQN62CTaH",
        "colab_type": "code",
        "colab": {},
        "outputId": "860855a0-1672-4f35-f35d-0ac353042c0c"
      },
      "cell_type": "code",
      "source": [
        "movies.head()"
      ],
      "execution_count": 0,
      "outputs": [
        {
          "output_type": "execute_result",
          "data": {},
          "metadata": {
            "tags": []
          },
          "execution_count": 119
        }
      ]
    },
    {
      "metadata": {
        "id": "YX-qbaDTCTaK",
        "colab_type": "code",
        "colab": {},
        "outputId": "9745b7c9-dfcc-4fcc-d411-ed0a52bfdd96"
      },
      "cell_type": "code",
      "source": [
        "ratings.head()"
      ],
      "execution_count": 0,
      "outputs": [
        {
          "output_type": "execute_result",
          "data": {},
          "metadata": {
            "tags": []
          },
          "execution_count": 120
        }
      ]
    },
    {
      "metadata": {
        "id": "Bg_J6rUkCTaL",
        "colab_type": "code",
        "colab": {},
        "outputId": "8bd289f8-d681-4555-e5a7-97f2622a8257"
      },
      "cell_type": "code",
      "source": [
        "users.head()"
      ],
      "execution_count": 0,
      "outputs": [
        {
          "output_type": "execute_result",
          "data": {},
          "metadata": {
            "tags": []
          },
          "execution_count": 121
        }
      ]
    },
    {
      "metadata": {
        "id": "-H9huY2sCTaO",
        "colab_type": "code",
        "colab": {},
        "outputId": "df36b7e2-d1e3-41f4-efca-79a18be709ec"
      },
      "cell_type": "code",
      "source": [
        "data = pd.merge(pd.merge(ratings, users), movies)\n",
        "data"
      ],
      "execution_count": 0,
      "outputs": [
        {
          "output_type": "execute_result",
          "data": {},
          "metadata": {
            "tags": []
          },
          "execution_count": 122
        }
      ]
    },
    {
      "metadata": {
        "id": "GfpcuYWmCTaP",
        "colab_type": "code",
        "colab": {},
        "outputId": "f09a62d9-f3a8-4d68-9d7c-aa585bff9ff6"
      },
      "cell_type": "code",
      "source": [
        "rating_counts = data.groupby('title').size()\n",
        "freq_titles = rating_counts.index[rating_counts > 1000]\n",
        "freq_titles"
      ],
      "execution_count": 0,
      "outputs": [
        {
          "output_type": "execute_result",
          "data": {},
          "metadata": {
            "tags": []
          },
          "execution_count": 123
        }
      ]
    },
    {
      "metadata": {
        "id": "GWViEizuCTaQ",
        "colab_type": "code",
        "colab": {},
        "outputId": "32f64124-0778-4a21-d72a-504c2bedf9a8"
      },
      "cell_type": "code",
      "source": [
        "highest_rated = data.groupby('title').rating.mean()[freq_titles].order()[-20:]\n",
        "highest_rated"
      ],
      "execution_count": 0,
      "outputs": [
        {
          "output_type": "execute_result",
          "data": {},
          "metadata": {
            "tags": []
          },
          "execution_count": 124
        }
      ]
    },
    {
      "metadata": {
        "id": "-gqpAPvaCTaT",
        "colab_type": "code",
        "colab": {},
        "outputId": "42194cd6-edf9-418f-c520-5f9eaa32e704"
      },
      "cell_type": "code",
      "source": [
        "filtered = data[data.title.isin(highest_rated.index)]\n",
        "filtered.title = filtered.title.str[:25]\n",
        "filtered.groupby(['title', 'gender']).rating.count().unstack()"
      ],
      "execution_count": 0,
      "outputs": [
        {
          "output_type": "execute_result",
          "data": {},
          "metadata": {
            "tags": []
          },
          "execution_count": 125
        }
      ]
    },
    {
      "metadata": {
        "id": "-5vTJAB0CTaV",
        "colab_type": "text"
      },
      "cell_type": "markdown",
      "source": [
        "Pivot tables\n",
        "---"
      ]
    },
    {
      "metadata": {
        "id": "kRPNd861CTaW",
        "colab_type": "code",
        "colab": {},
        "outputId": "1e2b2319-24ca-4a8e-fbbe-af4014d73a43"
      },
      "cell_type": "code",
      "source": [
        "mean_ratings = data.pivot_table('rating', rows='title',\n",
        "                                cols='gender', aggfunc='mean')\n",
        "mean_ratings.tail(20)"
      ],
      "execution_count": 0,
      "outputs": [
        {
          "output_type": "execute_result",
          "data": {},
          "metadata": {
            "tags": []
          },
          "execution_count": 126
        }
      ]
    },
    {
      "metadata": {
        "id": "5k5KRppCCTaY",
        "colab_type": "text"
      },
      "cell_type": "markdown",
      "source": [
        "Data summary, statistics\n",
        "---\n",
        "summary, value_counts, etc."
      ]
    },
    {
      "metadata": {
        "id": "xdgvvE3VCTaY",
        "colab_type": "code",
        "colab": {},
        "outputId": "59591532-b485-483e-89fa-3fdbb8b9f314"
      },
      "cell_type": "code",
      "source": [
        "data.title.value_counts()"
      ],
      "execution_count": 0,
      "outputs": [
        {
          "output_type": "execute_result",
          "data": {},
          "metadata": {
            "tags": []
          },
          "execution_count": 127
        }
      ]
    },
    {
      "metadata": {
        "id": "EOA02FQ5CTaa",
        "colab_type": "code",
        "colab": {},
        "outputId": "235f83ed-1acc-4a93-c414-3d8280b00212"
      },
      "cell_type": "code",
      "source": [
        "data.rating.describe()"
      ],
      "execution_count": 0,
      "outputs": [
        {
          "output_type": "execute_result",
          "data": {},
          "metadata": {
            "tags": []
          },
          "execution_count": 128
        }
      ]
    },
    {
      "metadata": {
        "id": "rVde9wJ5CTab",
        "colab_type": "code",
        "colab": {},
        "outputId": "976ee685-6bb8-4aff-814f-257c4a22efc5"
      },
      "cell_type": "code",
      "source": [
        "by_gender = data.groupby('gender').rating.describe()\n",
        "by_gender"
      ],
      "execution_count": 0,
      "outputs": [
        {
          "output_type": "execute_result",
          "data": {},
          "metadata": {
            "tags": []
          },
          "execution_count": 129
        }
      ]
    },
    {
      "metadata": {
        "id": "r_wpCovhCTac",
        "colab_type": "code",
        "colab": {},
        "outputId": "359ba76b-9a5d-4425-a854-0d29ec147dd7"
      },
      "cell_type": "code",
      "source": [
        "by_gender.unstack(0)"
      ],
      "execution_count": 0,
      "outputs": [
        {
          "output_type": "execute_result",
          "data": {},
          "metadata": {
            "tags": []
          },
          "execution_count": 130
        }
      ]
    },
    {
      "metadata": {
        "id": "a1TwB9_qCTae",
        "colab_type": "code",
        "colab": {}
      },
      "cell_type": "code",
      "source": [
        ""
      ],
      "execution_count": 0,
      "outputs": []
    }
  ]
}