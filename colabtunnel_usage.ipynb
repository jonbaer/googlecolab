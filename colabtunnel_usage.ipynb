{
  "cells": [
    {
      "cell_type": "markdown",
      "metadata": {
        "id": "view-in-github",
        "colab_type": "text"
      },
      "source": [
        "<a href=\"https://colab.research.google.com/github/jonbaer/googlecolab/blob/master/colabtunnel_usage.ipynb\" target=\"_parent\"><img src=\"https://colab.research.google.com/assets/colab-badge.svg\" alt=\"Open In Colab\"/></a>"
      ]
    },
    {
      "cell_type": "markdown",
      "metadata": {
        "id": "85rFLznaGor2"
      },
      "source": [
        "# ColabTunnel\n",
        "\n",
        "Make a copy of this notebook from `File > Save a Copy in Drive`"
      ]
    },
    {
      "cell_type": "code",
      "execution_count": null,
      "metadata": {
        "colab": {
          "base_uri": "https://localhost:8080/"
        },
        "id": "lIYdn1woOS1n",
        "outputId": "2e63a43e-09df-4601-88ee-78e103c6bfd7"
      },
      "outputs": [
        {
          "output_type": "stream",
          "name": "stdout",
          "text": [
            "Looking in indexes: https://pypi.org/simple, https://us-python.pkg.dev/colab-wheels/public/simple/\n",
            "Collecting colabtunnel\n",
            "  Downloading colabtunnel-0.0.5-py3-none-any.whl (4.3 kB)\n",
            "Installing collected packages: colabtunnel\n",
            "Successfully installed colabtunnel-0.0.5\n"
          ]
        }
      ],
      "source": [
        "!pip install -U colabtunnel"
      ]
    },
    {
      "cell_type": "markdown",
      "metadata": {
        "id": "IagqfpSHGqCw"
      },
      "source": [
        "## Create a tunnel\n",
        "- You will be asked to login on Google drive and GitHub\n",
        "- Once it's say ready, open your local VSCode Editor, open command prompt and select **Remote-Tunnels: Connect to Tunnel**\n",
        "- Choose the tunnel which says \"online\" beside it"
      ]
    },
    {
      "cell_type": "code",
      "source": [
        "from colabtunnel import colabtunnel\n",
        "\n",
        "colabtunnel()"
      ],
      "metadata": {
        "id": "AndBoWVFc6Nj"
      },
      "execution_count": null,
      "outputs": []
    }
  ],
  "metadata": {
    "colab": {
      "provenance": [],
      "include_colab_link": true
    },
    "kernelspec": {
      "display_name": "Python 3",
      "name": "python3"
    },
    "accelerator": "GPU",
    "gpuClass": "standard"
  },
  "nbformat": 4,
  "nbformat_minor": 0
}