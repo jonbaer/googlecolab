{
  "nbformat": 4,
  "nbformat_minor": 0,
  "metadata": {
    "colab": {
      "provenance": [],
      "include_colab_link": true
    },
    "kernelspec": {
      "name": "python3",
      "display_name": "Python 3"
    },
    "language_info": {
      "name": "python"
    }
  },
  "cells": [
    {
      "cell_type": "markdown",
      "metadata": {
        "id": "view-in-github",
        "colab_type": "text"
      },
      "source": [
        "<a href=\"https://colab.research.google.com/github/jonbaer/googlecolab/blob/master/YT_Gemini_Context_Caching.ipynb\" target=\"_parent\"><img src=\"https://colab.research.google.com/assets/colab-badge.svg\" alt=\"Open In Colab\"/></a>"
      ]
    },
    {
      "cell_type": "code",
      "source": [
        "!pip install -q -U google-generativeai\n"
      ],
      "metadata": {
        "colab": {
          "base_uri": "https://localhost:8080/"
        },
        "id": "EBP7XsoXgBru",
        "outputId": "6689c294-716a-472c-d26f-62234450aec5"
      },
      "execution_count": null,
      "outputs": [
        {
          "output_type": "stream",
          "name": "stdout",
          "text": [
            "\u001b[2K     \u001b[90m━━━━━━━━━━━━━━━━━━━━━━━━━━━━━━━━━━━━━━━━\u001b[0m \u001b[32m163.1/163.1 kB\u001b[0m \u001b[31m3.4 MB/s\u001b[0m eta \u001b[36m0:00:00\u001b[0m\n",
            "\u001b[2K     \u001b[90m━━━━━━━━━━━━━━━━━━━━━━━━━━━━━━━━━━━━━━━━\u001b[0m \u001b[32m717.3/717.3 kB\u001b[0m \u001b[31m19.7 MB/s\u001b[0m eta \u001b[36m0:00:00\u001b[0m\n",
            "\u001b[?25h"
          ]
        }
      ]
    },
    {
      "cell_type": "code",
      "execution_count": null,
      "metadata": {
        "colab": {
          "base_uri": "https://localhost:8080/"
        },
        "id": "YEEz_rYBIG7q",
        "outputId": "a6f6a304-d467-4e8d-8c39-3277679125d1"
      },
      "outputs": [
        {
          "output_type": "stream",
          "name": "stdout",
          "text": [
            "--2024-06-20 07:16:17--  https://storage.googleapis.com/generativeai-downloads/data/Sherlock_Jr_FullMovie.mp4\n",
            "Resolving storage.googleapis.com (storage.googleapis.com)... 142.250.157.207, 142.251.8.207, 142.251.170.207, ...\n",
            "Connecting to storage.googleapis.com (storage.googleapis.com)|142.250.157.207|:443... connected.\n",
            "HTTP request sent, awaiting response... 200 OK\n",
            "Length: 331623233 (316M) [video/mp4]\n",
            "Saving to: ‘Sherlock_Jr_FullMovie.mp4.1’\n",
            "\n",
            "Sherlock_Jr_FullMov 100%[===================>] 316.26M  25.9MB/s    in 13s     \n",
            "\n",
            "2024-06-20 07:16:30 (24.2 MB/s) - ‘Sherlock_Jr_FullMovie.mp4.1’ saved [331623233/331623233]\n",
            "\n"
          ]
        }
      ],
      "source": [
        "# Download video file\n",
        "!wget https://storage.googleapis.com/generativeai-downloads/data/Sherlock_Jr_FullMovie.mp4\n"
      ]
    },
    {
      "cell_type": "code",
      "source": [
        "from google.generativeai import caching\n",
        "import datetime\n",
        "import time\n",
        "\n"
      ],
      "metadata": {
        "id": "cSq8xamMJJvv"
      },
      "execution_count": null,
      "outputs": []
    },
    {
      "cell_type": "code",
      "source": [
        "from google.colab import output\n",
        "from IPython.display import display, Markdown\n",
        "from IPython.display import Image\n",
        "\n",
        "import google.generativeai as genai"
      ],
      "metadata": {
        "id": "_1jD0GdQpcfP"
      },
      "execution_count": null,
      "outputs": []
    },
    {
      "cell_type": "code",
      "source": [
        "from google.colab import userdata\n",
        "GOOGLE_API_KEY= userdata.get('GOOGLE_API_KEY')\n",
        "\n",
        "genai.configure(api_key=GOOGLE_API_KEY)"
      ],
      "metadata": {
        "id": "2ADx021aoRJP"
      },
      "execution_count": null,
      "outputs": []
    },
    {
      "cell_type": "code",
      "source": [
        "video_file_name = \"Sherlock_Jr_FullMovie.mp4\"\n",
        "\n",
        "# Upload the video using the Files API\n",
        "video_file = genai.upload_file(path=video_file_name)"
      ],
      "metadata": {
        "id": "8MDPVRiZgFRe"
      },
      "execution_count": null,
      "outputs": []
    },
    {
      "cell_type": "code",
      "source": [
        "# Wait for the file to finish processing\n",
        "while video_file.state.name == \"PROCESSING\":\n",
        "    print('Waiting for video to be processed.')\n",
        "    time.sleep(2)\n",
        "    video_file = genai.get_file(video_file.name)\n",
        "\n",
        "print(f'Video processing complete: {video_file.uri}')"
      ],
      "metadata": {
        "colab": {
          "base_uri": "https://localhost:8080/",
          "height": 225
        },
        "id": "fCAljyRhgIEw",
        "outputId": "27aa6940-6103-4844-cbbd-479d593d1730"
      },
      "execution_count": null,
      "outputs": [
        {
          "output_type": "stream",
          "name": "stdout",
          "text": [
            "Waiting for video to be processed.\n",
            "Waiting for video to be processed.\n",
            "Waiting for video to be processed.\n",
            "Waiting for video to be processed.\n",
            "Waiting for video to be processed.\n",
            "Waiting for video to be processed.\n",
            "Waiting for video to be processed.\n",
            "Waiting for video to be processed.\n",
            "Waiting for video to be processed.\n",
            "Waiting for video to be processed.\n",
            "Waiting for video to be processed.\n",
            "Video processing complete: https://generativelanguage.googleapis.com/v1beta/files/7szod27omkea\n"
          ]
        }
      ]
    },
    {
      "cell_type": "code",
      "source": [
        "model = genai.GenerativeModel(model_name=\"models/gemini-1.5-flash-001\")"
      ],
      "metadata": {
        "id": "ahybNoZTqId-"
      },
      "execution_count": null,
      "outputs": []
    },
    {
      "cell_type": "code",
      "source": [
        "%%time\n",
        "normal_call = model.generate_content([video_file,\"Tell me about the video and its themes\"])"
      ],
      "metadata": {
        "colab": {
          "base_uri": "https://localhost:8080/",
          "height": 52
        },
        "id": "y3Y0iIexlN0f",
        "outputId": "178297de-b66d-4758-d40d-45afaa9a568d"
      },
      "execution_count": null,
      "outputs": [
        {
          "output_type": "stream",
          "name": "stdout",
          "text": [
            "CPU times: user 853 ms, sys: 106 ms, total: 959 ms\n",
            "Wall time: 1min 13s\n"
          ]
        }
      ]
    },
    {
      "cell_type": "code",
      "source": [
        "Markdown(normal_call.text)"
      ],
      "metadata": {
        "colab": {
          "base_uri": "https://localhost:8080/",
          "height": 81
        },
        "id": "uWl6CONvr4a1",
        "outputId": "67edf4b6-4e5f-465f-a3cb-5beac2be0fe4"
      },
      "execution_count": null,
      "outputs": [
        {
          "output_type": "execute_result",
          "data": {
            "text/plain": [
              "<IPython.core.display.Markdown object>"
            ],
            "text/markdown": "The video is a clip from the 1924 Buster Keaton film Sherlock Jr. The film is about a young projectionist who dreams of being a detective. In the clip, the projectionist is reading a book about how to be a detective and gets distracted when a woman asks for help finding a lost dollar. He searches the theater for the dollar and uses his detective skills, but ultimately fails to find it. The film explores the themes of fantasy, escapism, and the struggle to achieve one's dreams. \n"
          },
          "metadata": {},
          "execution_count": 11
        }
      ]
    },
    {
      "cell_type": "code",
      "source": [
        "print(normal_call.usage_metadata)"
      ],
      "metadata": {
        "colab": {
          "base_uri": "https://localhost:8080/"
        },
        "id": "K102cq5slldD",
        "outputId": "3d96a91d-d0b4-41dd-ea25-aad4d32ba563"
      },
      "execution_count": null,
      "outputs": [
        {
          "output_type": "stream",
          "name": "stdout",
          "text": [
            "prompt_token_count: 696170\n",
            "candidates_token_count: 105\n",
            "total_token_count: 696275\n",
            "\n"
          ]
        }
      ]
    },
    {
      "cell_type": "code",
      "source": [
        "# Create a cache with a 10 minute TTL\n",
        "cache = caching.CachedContent.create(\n",
        "    model=\"models/gemini-1.5-flash-001\",\n",
        "    display_name=\"sherlock jr movie\", # used to identify the cache\n",
        "    system_instruction=\"You are an expert video analyzer, and your job is to answer user's query based on the video file you have access to.\",\n",
        "    contents=[video_file],\n",
        "    ttl=datetime.timedelta(minutes=10),\n",
        ")"
      ],
      "metadata": {
        "id": "oi3j6mkrJJzY"
      },
      "execution_count": null,
      "outputs": []
    },
    {
      "cell_type": "code",
      "source": [
        "cache.expire_time"
      ],
      "metadata": {
        "colab": {
          "base_uri": "https://localhost:8080/"
        },
        "id": "v1sknM1TjD0r",
        "outputId": "78e6812b-79f5-4904-e443-f40edd3a584e"
      },
      "execution_count": null,
      "outputs": [
        {
          "output_type": "execute_result",
          "data": {
            "text/plain": [
              "DatetimeWithNanoseconds(2024, 6, 20, 8, 17, 52, 446821, tzinfo=datetime.timezone.utc)"
            ]
          },
          "metadata": {},
          "execution_count": 13
        }
      ]
    },
    {
      "cell_type": "code",
      "source": [
        "%%time\n",
        "\n",
        "# Construct a GenerativeModel which uses the created cache.\n",
        "model = genai.GenerativeModel.from_cached_content(cached_content=cache)\n",
        "\n",
        "# Query the model\n",
        "response = model.generate_content([\"Introduce different characters in the movie by describing their personality, looks, and names. Also list the timestamps they were introduced for the first time.\"])\n",
        "\n",
        "print(response.usage_metadata)\n"
      ],
      "metadata": {
        "colab": {
          "base_uri": "https://localhost:8080/",
          "height": 138
        },
        "id": "FPkQAIDTi7qm",
        "outputId": "cac3d63a-1edc-4a3e-e396-af1d6fc7b00f"
      },
      "execution_count": null,
      "outputs": [
        {
          "output_type": "stream",
          "name": "stdout",
          "text": [
            "prompt_token_count: 696218\n",
            "candidates_token_count: 305\n",
            "total_token_count: 696523\n",
            "cached_content_token_count: 696189\n",
            "\n",
            "CPU times: user 597 ms, sys: 70.5 ms, total: 668 ms\n",
            "Wall time: 51.2 s\n"
          ]
        }
      ]
    },
    {
      "cell_type": "code",
      "source": [
        "Markdown(response.text)"
      ],
      "metadata": {
        "colab": {
          "base_uri": "https://localhost:8080/",
          "height": 372
        },
        "id": "6Iep4xh2jphI",
        "outputId": "deee14cb-ff2d-4eef-8143-b21d9d7dc3fd"
      },
      "execution_count": null,
      "outputs": [
        {
          "output_type": "execute_result",
          "data": {
            "text/plain": [
              "<IPython.core.display.Markdown object>"
            ],
            "text/markdown": "Here are some of the main characters in the movie \"Sherlock Jr\", and how they are presented:\n\n**Buster Keaton:** \n* **First Appearance:** 01:26\n* **Personality:** Young, eager, and somewhat naive. He is a film projectionist and aspiring detective. \n* **Looks:** Keaton is known for his deadpan expression and his signature bowler hat. In this film, he wears a white shirt, a dark tie, a dark vest, and pants.\n\n**Kathryn McGuire:**\n* **First Appearance:** 02:13\n* **Personality:** A young woman who is the daughter of a wealthy family. She is innocent and trusting, and she becomes a target for criminals. \n* **Looks:** Kathryn wears a plaid dress and a black hat. \n\n**Erwin Connelly:** \n* **First Appearance:** 02:17\n* **Personality:**  He is portrayed as a lovable but clumsy character. He is hired to help the girl's father.\n* **Looks:**  He wears a dark shirt with suspenders, a white vest, and a hat.\n\n**Ward Crane:** \n* **First Appearance:** 03:41\n* **Personality:** A wealthy and arrogant man who is the \"sheik\" of the town. \n* **Looks:** Ward wears a pinstriped suit, a tie, a shirt, and a hat. He also has a mustache.\n"
          },
          "metadata": {},
          "execution_count": 15
        }
      ]
    },
    {
      "cell_type": "code",
      "source": [
        "%%time\n",
        "# Query the model\n",
        "response = model.generate_content([\"What is the last time Buster Keaton appears in the movie?\"])\n",
        "\n",
        "print(response.usage_metadata)"
      ],
      "metadata": {
        "colab": {
          "base_uri": "https://localhost:8080/",
          "height": 138
        },
        "id": "KepljK_Mj9JK",
        "outputId": "4a91f734-7144-4c4b-cfd1-9c4764152912"
      },
      "execution_count": null,
      "outputs": [
        {
          "output_type": "stream",
          "name": "stdout",
          "text": [
            "prompt_token_count: 696202\n",
            "candidates_token_count: 40\n",
            "total_token_count: 696242\n",
            "cached_content_token_count: 696189\n",
            "\n",
            "CPU times: user 513 ms, sys: 52.4 ms, total: 566 ms\n",
            "Wall time: 42.7 s\n"
          ]
        }
      ]
    },
    {
      "cell_type": "code",
      "source": [
        "Markdown(response.text)"
      ],
      "metadata": {
        "colab": {
          "base_uri": "https://localhost:8080/",
          "height": 46
        },
        "id": "-68oabsZtSUC",
        "outputId": "bb6883c1-00d5-482c-aace-4027177b9d8b"
      },
      "execution_count": null,
      "outputs": [
        {
          "output_type": "execute_result",
          "data": {
            "text/plain": [
              "<IPython.core.display.Markdown object>"
            ],
            "text/markdown": "Buster Keaton appears last at the 4:47 mark. He is seen in a hallway looking at a suit of clothes. \n"
          },
          "metadata": {},
          "execution_count": 17
        }
      ]
    },
    {
      "cell_type": "code",
      "source": [],
      "metadata": {
        "id": "o_gJV-lTt1Sd"
      },
      "execution_count": null,
      "outputs": []
    }
  ]
}