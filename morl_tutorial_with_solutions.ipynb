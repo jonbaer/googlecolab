{
  "cells": [
    {
      "cell_type": "markdown",
      "metadata": {
        "id": "view-in-github",
        "colab_type": "text"
      },
      "source": [
        "<a href=\"https://colab.research.google.com/github/jonbaer/googlecolab/blob/master/morl_tutorial_with_solutions.ipynb\" target=\"_parent\"><img src=\"https://colab.research.google.com/assets/colab-badge.svg\" alt=\"Open In Colab\"/></a>"
      ]
    },
    {
      "cell_type": "markdown",
      "source": [
        "# Multi-Objective RL Tutorial\n",
        "\n",
        "Author: Lucas N. Alegre\n",
        "\n",
        "https://lucasalegre.github.io\n",
        "\n",
        "\n"
      ],
      "metadata": {
        "id": "Ovnzh88NsJ2u"
      },
      "id": "Ovnzh88NsJ2u"
    },
    {
      "cell_type": "markdown",
      "source": [],
      "metadata": {
        "id": "3nP5n6ThDU6U"
      },
      "id": "3nP5n6ThDU6U"
    },
    {
      "cell_type": "markdown",
      "source": [
        "This is a tutorial on running MORL Baselines algorithms on MO-Gymnasium's environments.\n",
        "\n",
        "* MO-Gymnasium's documentation: https://mo-gymnasium.farama.org/\n",
        "\n",
        "* MORL Baselines' documentation: https://lucasalegre.github.io/morl-baselines\n",
        "\n",
        "* Create a Weights and Biases account (https://wandb.ai) to see the dashboard with all evaluation and learning metrics!"
      ],
      "metadata": {
        "id": "HGfvuEUkrJ3s"
      },
      "id": "HGfvuEUkrJ3s"
    },
    {
      "cell_type": "markdown",
      "source": [
        "# 1) **Set-up MO-Gymnasium**\n"
      ],
      "metadata": {
        "id": "NSC3vnr0oTyS"
      },
      "id": "NSC3vnr0oTyS"
    },
    {
      "cell_type": "markdown",
      "source": [
        "First, let's install MO-Gymnasium!"
      ],
      "metadata": {
        "id": "VHvjI9BGD9T9"
      },
      "id": "VHvjI9BGD9T9"
    },
    {
      "cell_type": "markdown",
      "id": "ab7f2ffc",
      "metadata": {
        "id": "ab7f2ffc"
      },
      "source": [
        "## Step 1: install and import the libraries"
      ]
    },
    {
      "cell_type": "code",
      "execution_count": null,
      "id": "o8lMdzzrRf0O",
      "metadata": {
        "colab": {
          "base_uri": "https://localhost:8080/"
        },
        "id": "o8lMdzzrRf0O",
        "outputId": "6be7c386-8cc2-494a-f571-320650ec0f94"
      },
      "outputs": [
        {
          "output_type": "stream",
          "name": "stdout",
          "text": [
            "Requirement already satisfied: mo-gymnasium in /usr/local/lib/python3.10/dist-packages (1.0.0)\n",
            "Requirement already satisfied: gymnasium>=0.27 in /usr/local/lib/python3.10/dist-packages (from mo-gymnasium) (0.29.0)\n",
            "Requirement already satisfied: numpy>=1.21.0 in /usr/local/lib/python3.10/dist-packages (from mo-gymnasium) (1.22.4)\n",
            "Requirement already satisfied: pygame>=2.1.0 in /usr/local/lib/python3.10/dist-packages (from mo-gymnasium) (2.5.0)\n",
            "Requirement already satisfied: scipy>=1.7.3 in /usr/local/lib/python3.10/dist-packages (from mo-gymnasium) (1.10.1)\n",
            "Requirement already satisfied: pymoo>=0.6.0 in /usr/local/lib/python3.10/dist-packages (from mo-gymnasium) (0.6.0.1)\n",
            "Requirement already satisfied: cloudpickle>=1.2.0 in /usr/local/lib/python3.10/dist-packages (from gymnasium>=0.27->mo-gymnasium) (2.2.1)\n",
            "Requirement already satisfied: typing-extensions>=4.3.0 in /usr/local/lib/python3.10/dist-packages (from gymnasium>=0.27->mo-gymnasium) (4.7.1)\n",
            "Requirement already satisfied: farama-notifications>=0.0.1 in /usr/local/lib/python3.10/dist-packages (from gymnasium>=0.27->mo-gymnasium) (0.0.4)\n",
            "Requirement already satisfied: matplotlib>=3 in /usr/local/lib/python3.10/dist-packages (from pymoo>=0.6.0->mo-gymnasium) (3.7.1)\n",
            "Requirement already satisfied: autograd>=1.4 in /usr/local/lib/python3.10/dist-packages (from pymoo>=0.6.0->mo-gymnasium) (1.6.2)\n",
            "Requirement already satisfied: cma==3.2.2 in /usr/local/lib/python3.10/dist-packages (from pymoo>=0.6.0->mo-gymnasium) (3.2.2)\n",
            "Requirement already satisfied: alive-progress in /usr/local/lib/python3.10/dist-packages (from pymoo>=0.6.0->mo-gymnasium) (3.1.4)\n",
            "Requirement already satisfied: dill in /usr/local/lib/python3.10/dist-packages (from pymoo>=0.6.0->mo-gymnasium) (0.3.7)\n",
            "Requirement already satisfied: Deprecated in /usr/local/lib/python3.10/dist-packages (from pymoo>=0.6.0->mo-gymnasium) (1.2.14)\n",
            "Requirement already satisfied: future>=0.15.2 in /usr/local/lib/python3.10/dist-packages (from autograd>=1.4->pymoo>=0.6.0->mo-gymnasium) (0.18.3)\n",
            "Requirement already satisfied: contourpy>=1.0.1 in /usr/local/lib/python3.10/dist-packages (from matplotlib>=3->pymoo>=0.6.0->mo-gymnasium) (1.1.0)\n",
            "Requirement already satisfied: cycler>=0.10 in /usr/local/lib/python3.10/dist-packages (from matplotlib>=3->pymoo>=0.6.0->mo-gymnasium) (0.11.0)\n",
            "Requirement already satisfied: fonttools>=4.22.0 in /usr/local/lib/python3.10/dist-packages (from matplotlib>=3->pymoo>=0.6.0->mo-gymnasium) (4.41.1)\n",
            "Requirement already satisfied: kiwisolver>=1.0.1 in /usr/local/lib/python3.10/dist-packages (from matplotlib>=3->pymoo>=0.6.0->mo-gymnasium) (1.4.4)\n",
            "Requirement already satisfied: packaging>=20.0 in /usr/local/lib/python3.10/dist-packages (from matplotlib>=3->pymoo>=0.6.0->mo-gymnasium) (23.1)\n",
            "Requirement already satisfied: pillow>=6.2.0 in /usr/local/lib/python3.10/dist-packages (from matplotlib>=3->pymoo>=0.6.0->mo-gymnasium) (9.4.0)\n",
            "Requirement already satisfied: pyparsing>=2.3.1 in /usr/local/lib/python3.10/dist-packages (from matplotlib>=3->pymoo>=0.6.0->mo-gymnasium) (3.1.0)\n",
            "Requirement already satisfied: python-dateutil>=2.7 in /usr/local/lib/python3.10/dist-packages (from matplotlib>=3->pymoo>=0.6.0->mo-gymnasium) (2.8.2)\n",
            "Requirement already satisfied: about-time==4.2.1 in /usr/local/lib/python3.10/dist-packages (from alive-progress->pymoo>=0.6.0->mo-gymnasium) (4.2.1)\n",
            "Requirement already satisfied: grapheme==0.6.0 in /usr/local/lib/python3.10/dist-packages (from alive-progress->pymoo>=0.6.0->mo-gymnasium) (0.6.0)\n",
            "Requirement already satisfied: wrapt<2,>=1.10 in /usr/local/lib/python3.10/dist-packages (from Deprecated->pymoo>=0.6.0->mo-gymnasium) (1.14.1)\n",
            "Requirement already satisfied: six>=1.5 in /usr/local/lib/python3.10/dist-packages (from python-dateutil>=2.7->matplotlib>=3->pymoo>=0.6.0->mo-gymnasium) (1.16.0)\n"
          ]
        }
      ],
      "source": [
        "!pip install mo-gymnasium"
      ]
    },
    {
      "cell_type": "markdown",
      "source": [
        "This is required to record videos of our learned agents:"
      ],
      "metadata": {
        "id": "TxE7ntrtEImf"
      },
      "id": "TxE7ntrtEImf"
    },
    {
      "cell_type": "code",
      "execution_count": null,
      "id": "43bddbf7",
      "metadata": {
        "colab": {
          "base_uri": "https://localhost:8080/"
        },
        "id": "43bddbf7",
        "outputId": "295ceb6d-75d9-49d1-ce3f-64652ccb7e30"
      },
      "outputs": [
        {
          "output_type": "stream",
          "name": "stdout",
          "text": [
            "Requirement already satisfied: moviepy in /usr/local/lib/python3.10/dist-packages (1.0.3)\n",
            "Requirement already satisfied: decorator<5.0,>=4.0.2 in /usr/local/lib/python3.10/dist-packages (from moviepy) (4.4.2)\n",
            "Requirement already satisfied: tqdm<5.0,>=4.11.2 in /usr/local/lib/python3.10/dist-packages (from moviepy) (4.65.0)\n",
            "Requirement already satisfied: requests<3.0,>=2.8.1 in /usr/local/lib/python3.10/dist-packages (from moviepy) (2.27.1)\n",
            "Requirement already satisfied: proglog<=1.0.0 in /usr/local/lib/python3.10/dist-packages (from moviepy) (0.1.10)\n",
            "Requirement already satisfied: numpy>=1.17.3 in /usr/local/lib/python3.10/dist-packages (from moviepy) (1.22.4)\n",
            "Requirement already satisfied: imageio<3.0,>=2.5 in /usr/local/lib/python3.10/dist-packages (from moviepy) (2.25.1)\n",
            "Requirement already satisfied: imageio-ffmpeg>=0.2.0 in /usr/local/lib/python3.10/dist-packages (from moviepy) (0.4.8)\n",
            "Requirement already satisfied: pillow>=8.3.2 in /usr/local/lib/python3.10/dist-packages (from imageio<3.0,>=2.5->moviepy) (9.4.0)\n",
            "Requirement already satisfied: urllib3<1.27,>=1.21.1 in /usr/local/lib/python3.10/dist-packages (from requests<3.0,>=2.8.1->moviepy) (1.26.16)\n",
            "Requirement already satisfied: certifi>=2017.4.17 in /usr/local/lib/python3.10/dist-packages (from requests<3.0,>=2.8.1->moviepy) (2023.7.22)\n",
            "Requirement already satisfied: charset-normalizer~=2.0.0 in /usr/local/lib/python3.10/dist-packages (from requests<3.0,>=2.8.1->moviepy) (2.0.12)\n",
            "Requirement already satisfied: idna<4,>=2.5 in /usr/local/lib/python3.10/dist-packages (from requests<3.0,>=2.8.1->moviepy) (3.4)\n"
          ]
        }
      ],
      "source": [
        "import sys\n",
        "!{sys.executable} -m pip install moviepy"
      ]
    },
    {
      "cell_type": "code",
      "execution_count": null,
      "id": "846b9364",
      "metadata": {
        "id": "846b9364"
      },
      "outputs": [],
      "source": [
        "import gymnasium as gym\n",
        "import mo_gymnasium as mo_gym"
      ]
    },
    {
      "cell_type": "markdown",
      "id": "f4fef046",
      "metadata": {
        "id": "f4fef046"
      },
      "source": [
        "## Step 2: create an environment"
      ]
    },
    {
      "cell_type": "code",
      "execution_count": null,
      "id": "d5415397",
      "metadata": {
        "id": "d5415397"
      },
      "outputs": [],
      "source": [
        "env = mo_gym.make(\"mo-mountaincar-v0\", render_mode=\"rgb_array\")"
      ]
    },
    {
      "cell_type": "markdown",
      "id": "870ae1a4",
      "metadata": {
        "id": "870ae1a4"
      },
      "source": [
        "## Step 3: extract environment information"
      ]
    },
    {
      "cell_type": "markdown",
      "source": [
        "The state of the agent is a 2-d vector containing:\n",
        "\n",
        "* position of the car along the x-axis (between -1.2 and 0.6)\n",
        "* velocity of the car (between -0.07 and 0.07)"
      ],
      "metadata": {
        "id": "toSxXfRjEOqu"
      },
      "id": "toSxXfRjEOqu"
    },
    {
      "cell_type": "code",
      "execution_count": null,
      "id": "8db784fa",
      "metadata": {
        "colab": {
          "base_uri": "https://localhost:8080/"
        },
        "id": "8db784fa",
        "outputId": "1874ad70-8dd9-41c8-fcff-0f4f43bfcd44"
      },
      "outputs": [
        {
          "output_type": "execute_result",
          "data": {
            "text/plain": [
              "Box([-1.2  -0.07], [0.6  0.07], (2,), float32)"
            ]
          },
          "metadata": {},
          "execution_count": 35
        }
      ],
      "source": [
        "env.observation_space"
      ]
    },
    {
      "cell_type": "markdown",
      "source": [
        "There are 3 discrete deterministic actions:\n",
        "\n",
        "* 0: Accelerate to the left\n",
        "* 1: Don’t accelerate\n",
        "* 2: Accelerate to the right"
      ],
      "metadata": {
        "id": "sVReaWTOE3Ad"
      },
      "id": "sVReaWTOE3Ad"
    },
    {
      "cell_type": "code",
      "execution_count": null,
      "id": "8e8d91c7",
      "metadata": {
        "colab": {
          "base_uri": "https://localhost:8080/"
        },
        "id": "8e8d91c7",
        "outputId": "042af214-435b-43b7-dced-1a9acb1d0e51"
      },
      "outputs": [
        {
          "output_type": "execute_result",
          "data": {
            "text/plain": [
              "Discrete(3)"
            ]
          },
          "metadata": {},
          "execution_count": 6
        }
      ],
      "source": [
        "env.action_space"
      ]
    },
    {
      "cell_type": "markdown",
      "source": [
        "The reward space is a 3D vector containing the time penalty, and penalties for reversing and going forward.\n",
        "\n",
        "* time penalty: -1.0 for each time step\n",
        "* reverse penalty: -1.0 for each time step the action is 0 (reverse) else 0\n",
        "* forward penalty: -1.0 for each time step the action is 2 (forward) else 0"
      ],
      "metadata": {
        "id": "szQqzMrFFa95"
      },
      "id": "szQqzMrFFa95"
    },
    {
      "cell_type": "code",
      "execution_count": null,
      "id": "5bff02b6",
      "metadata": {
        "colab": {
          "base_uri": "https://localhost:8080/"
        },
        "id": "5bff02b6",
        "outputId": "2cfb09b0-e0e4-44e3-f8e4-31f2b932dd5b"
      },
      "outputs": [
        {
          "output_type": "stream",
          "name": "stderr",
          "text": [
            "/usr/local/lib/python3.10/dist-packages/gymnasium/core.py:297: UserWarning: \u001b[33mWARN: env.reward_space to get variables from other wrappers is deprecated and will be removed in v1.0, to get this variable you can do `env.unwrapped.reward_space` for environment variables or `env.get_attr('reward_space')` that will search the reminding wrappers.\u001b[0m\n",
            "  logger.warn(\n"
          ]
        },
        {
          "output_type": "execute_result",
          "data": {
            "text/plain": [
              "Box(-1.0, [-1.  0.  0.], (3,), float32)"
            ]
          },
          "metadata": {},
          "execution_count": 7
        }
      ],
      "source": [
        "env.reward_space"
      ]
    },
    {
      "cell_type": "markdown",
      "id": "f01faaa2",
      "metadata": {
        "id": "f01faaa2"
      },
      "source": [
        "## Step 4: use Gymnasium features in MO-Gymnasium"
      ]
    },
    {
      "cell_type": "markdown",
      "source": [
        "MO-Gymnasium is compatible with most Gymnasium's (https://gymnasium.farama.org/) features, such as the wrappers."
      ],
      "metadata": {
        "id": "7XeV2dWVFkeY"
      },
      "id": "7XeV2dWVFkeY"
    },
    {
      "cell_type": "code",
      "execution_count": null,
      "id": "c64e5417",
      "metadata": {
        "id": "c64e5417"
      },
      "outputs": [],
      "source": [
        "from gymnasium.wrappers.record_video import RecordVideo"
      ]
    },
    {
      "cell_type": "code",
      "execution_count": null,
      "id": "a4190496",
      "metadata": {
        "colab": {
          "base_uri": "https://localhost:8080/"
        },
        "id": "a4190496",
        "outputId": "18bd8ffb-e82e-4c4b-f994-f9d937bd9947"
      },
      "outputs": [
        {
          "output_type": "stream",
          "name": "stderr",
          "text": [
            "/usr/local/lib/python3.10/dist-packages/gymnasium/core.py:297: UserWarning: \u001b[33mWARN: env.is_vector_env to get variables from other wrappers is deprecated and will be removed in v1.0, to get this variable you can do `env.unwrapped.is_vector_env` for environment variables or `env.get_attr('is_vector_env')` that will search the reminding wrappers.\u001b[0m\n",
            "  logger.warn(\n"
          ]
        }
      ],
      "source": [
        "env = RecordVideo(env, \"videos/demo\", episode_trigger=lambda e: True)"
      ]
    },
    {
      "cell_type": "markdown",
      "id": "dbde25c4",
      "metadata": {
        "id": "dbde25c4"
      },
      "source": [
        "## Step 5: go through the environment with a random agent\n",
        "\n",
        "Below, we follow a random policy and save a video of the episode at \"videos/demo\" folder"
      ]
    },
    {
      "cell_type": "code",
      "execution_count": null,
      "id": "066db701",
      "metadata": {
        "id": "066db701",
        "colab": {
          "base_uri": "https://localhost:8080/"
        },
        "outputId": "890d50bd-40f1-4830-96d5-00c5312b4543"
      },
      "outputs": [
        {
          "output_type": "stream",
          "name": "stdout",
          "text": [
            "Moviepy - Building video /content/videos/demo/rl-video-episode-0.mp4.\n",
            "Moviepy - Writing video /content/videos/demo/rl-video-episode-0.mp4\n",
            "\n"
          ]
        },
        {
          "output_type": "stream",
          "name": "stderr",
          "text": []
        },
        {
          "output_type": "stream",
          "name": "stdout",
          "text": [
            "Moviepy - Done !\n",
            "Moviepy - video ready /content/videos/demo/rl-video-episode-0.mp4\n"
          ]
        }
      ],
      "source": [
        "env.reset()\n",
        "done = False\n",
        "\n",
        "while not done:\n",
        "    obs, vec_reward, terminated, truncated, info = env.step(env.action_space.sample())\n",
        "    done = terminated or truncated"
      ]
    },
    {
      "cell_type": "markdown",
      "id": "IG7S7nx3cces",
      "metadata": {
        "id": "IG7S7nx3cces"
      },
      "source": [
        "## Step 6: scalarize env and run it with stable-baselines3\n",
        "\n"
      ]
    },
    {
      "cell_type": "markdown",
      "source": [
        "It is also possible to scalarize the reward function and run standard single-objective RL libraries!"
      ],
      "metadata": {
        "id": "pQ1ZC_WBF3S5"
      },
      "id": "pQ1ZC_WBF3S5"
    },
    {
      "cell_type": "code",
      "execution_count": null,
      "id": "DHkO3R7uccOy",
      "metadata": {
        "colab": {
          "base_uri": "https://localhost:8080/"
        },
        "id": "DHkO3R7uccOy",
        "outputId": "7dcaa4a2-f566-40e8-f62a-12d4320c3df4"
      },
      "outputs": [
        {
          "name": "stdout",
          "output_type": "stream",
          "text": [
            "Requirement already satisfied: stable-baselines3 in /home/lucas/miniconda3/envs/PhD/lib/python3.9/site-packages (1.5.0)\n",
            "Collecting stable-baselines3\n",
            "  Obtaining dependency information for stable-baselines3 from https://files.pythonhosted.org/packages/d9/57/13d4e4b7bbbc940815964ac31e205263b8133f1f2a0147bd4ca884a6e174/stable_baselines3-2.0.0-py3-none-any.whl.metadata\n",
            "  Using cached stable_baselines3-2.0.0-py3-none-any.whl.metadata (5.4 kB)\n",
            "Requirement already satisfied: gymnasium==0.28.1 in /home/lucas/miniconda3/envs/PhD/lib/python3.9/site-packages (from stable-baselines3) (0.28.1)\n",
            "Requirement already satisfied: numpy>=1.20 in /home/lucas/miniconda3/envs/PhD/lib/python3.9/site-packages (from stable-baselines3) (1.25.1)\n",
            "Collecting torch>=1.11 (from stable-baselines3)\n",
            "  Using cached torch-2.0.1-cp39-cp39-manylinux1_x86_64.whl (619.9 MB)\n",
            "Requirement already satisfied: cloudpickle in /home/lucas/miniconda3/envs/PhD/lib/python3.9/site-packages (from stable-baselines3) (2.0.0)\n",
            "Requirement already satisfied: pandas in /home/lucas/miniconda3/envs/PhD/lib/python3.9/site-packages (from stable-baselines3) (1.3.4)\n",
            "Requirement already satisfied: matplotlib in /home/lucas/miniconda3/envs/PhD/lib/python3.9/site-packages (from stable-baselines3) (3.5.1)\n",
            "Requirement already satisfied: jax-jumpy>=1.0.0 in /home/lucas/miniconda3/envs/PhD/lib/python3.9/site-packages (from gymnasium==0.28.1->stable-baselines3) (1.0.0)\n",
            "Requirement already satisfied: typing-extensions>=4.3.0 in /home/lucas/miniconda3/envs/PhD/lib/python3.9/site-packages (from gymnasium==0.28.1->stable-baselines3) (4.7.1)\n",
            "Requirement already satisfied: farama-notifications>=0.0.1 in /home/lucas/miniconda3/envs/PhD/lib/python3.9/site-packages (from gymnasium==0.28.1->stable-baselines3) (0.0.4)\n",
            "Requirement already satisfied: importlib-metadata>=4.8.0 in /home/lucas/miniconda3/envs/PhD/lib/python3.9/site-packages (from gymnasium==0.28.1->stable-baselines3) (4.11.2)\n",
            "Requirement already satisfied: filelock in /home/lucas/miniconda3/envs/PhD/lib/python3.9/site-packages (from torch>=1.11->stable-baselines3) (3.4.0)\n",
            "Requirement already satisfied: sympy in /home/lucas/miniconda3/envs/PhD/lib/python3.9/site-packages (from torch>=1.11->stable-baselines3) (1.12)\n",
            "Requirement already satisfied: networkx in /home/lucas/miniconda3/envs/PhD/lib/python3.9/site-packages (from torch>=1.11->stable-baselines3) (2.6.3)\n",
            "Requirement already satisfied: jinja2 in /home/lucas/miniconda3/envs/PhD/lib/python3.9/site-packages (from torch>=1.11->stable-baselines3) (3.0.3)\n",
            "Requirement already satisfied: nvidia-cuda-nvrtc-cu11==11.7.99 in /home/lucas/miniconda3/envs/PhD/lib/python3.9/site-packages (from torch>=1.11->stable-baselines3) (11.7.99)\n",
            "Requirement already satisfied: nvidia-cuda-runtime-cu11==11.7.99 in /home/lucas/miniconda3/envs/PhD/lib/python3.9/site-packages (from torch>=1.11->stable-baselines3) (11.7.99)\n",
            "Requirement already satisfied: nvidia-cuda-cupti-cu11==11.7.101 in /home/lucas/miniconda3/envs/PhD/lib/python3.9/site-packages (from torch>=1.11->stable-baselines3) (11.7.101)\n",
            "Requirement already satisfied: nvidia-cudnn-cu11==8.5.0.96 in /home/lucas/miniconda3/envs/PhD/lib/python3.9/site-packages (from torch>=1.11->stable-baselines3) (8.5.0.96)\n",
            "Requirement already satisfied: nvidia-cublas-cu11==11.10.3.66 in /home/lucas/miniconda3/envs/PhD/lib/python3.9/site-packages (from torch>=1.11->stable-baselines3) (11.10.3.66)\n",
            "Requirement already satisfied: nvidia-cufft-cu11==10.9.0.58 in /home/lucas/miniconda3/envs/PhD/lib/python3.9/site-packages (from torch>=1.11->stable-baselines3) (10.9.0.58)\n",
            "Requirement already satisfied: nvidia-curand-cu11==10.2.10.91 in /home/lucas/miniconda3/envs/PhD/lib/python3.9/site-packages (from torch>=1.11->stable-baselines3) (10.2.10.91)\n",
            "Requirement already satisfied: nvidia-cusolver-cu11==11.4.0.1 in /home/lucas/miniconda3/envs/PhD/lib/python3.9/site-packages (from torch>=1.11->stable-baselines3) (11.4.0.1)\n",
            "Requirement already satisfied: nvidia-cusparse-cu11==11.7.4.91 in /home/lucas/miniconda3/envs/PhD/lib/python3.9/site-packages (from torch>=1.11->stable-baselines3) (11.7.4.91)\n",
            "Requirement already satisfied: nvidia-nccl-cu11==2.14.3 in /home/lucas/miniconda3/envs/PhD/lib/python3.9/site-packages (from torch>=1.11->stable-baselines3) (2.14.3)\n",
            "Requirement already satisfied: nvidia-nvtx-cu11==11.7.91 in /home/lucas/miniconda3/envs/PhD/lib/python3.9/site-packages (from torch>=1.11->stable-baselines3) (11.7.91)\n",
            "Requirement already satisfied: triton==2.0.0 in /home/lucas/miniconda3/envs/PhD/lib/python3.9/site-packages (from torch>=1.11->stable-baselines3) (2.0.0)\n",
            "Requirement already satisfied: setuptools in /home/lucas/miniconda3/envs/PhD/lib/python3.9/site-packages (from nvidia-cublas-cu11==11.10.3.66->torch>=1.11->stable-baselines3) (58.0.4)\n",
            "Requirement already satisfied: wheel in /home/lucas/miniconda3/envs/PhD/lib/python3.9/site-packages (from nvidia-cublas-cu11==11.10.3.66->torch>=1.11->stable-baselines3) (0.37.0)\n",
            "Requirement already satisfied: cmake in /home/lucas/miniconda3/envs/PhD/lib/python3.9/site-packages (from triton==2.0.0->torch>=1.11->stable-baselines3) (3.27.0)\n",
            "Requirement already satisfied: lit in /home/lucas/miniconda3/envs/PhD/lib/python3.9/site-packages (from triton==2.0.0->torch>=1.11->stable-baselines3) (16.0.6)\n",
            "Requirement already satisfied: cycler>=0.10 in /home/lucas/miniconda3/envs/PhD/lib/python3.9/site-packages (from matplotlib->stable-baselines3) (0.10.0)\n",
            "Requirement already satisfied: fonttools>=4.22.0 in /home/lucas/miniconda3/envs/PhD/lib/python3.9/site-packages (from matplotlib->stable-baselines3) (4.28.5)\n",
            "Requirement already satisfied: kiwisolver>=1.0.1 in /home/lucas/miniconda3/envs/PhD/lib/python3.9/site-packages (from matplotlib->stable-baselines3) (1.3.2)\n",
            "Requirement already satisfied: packaging>=20.0 in /home/lucas/miniconda3/envs/PhD/lib/python3.9/site-packages (from matplotlib->stable-baselines3) (21.3)\n",
            "Requirement already satisfied: pillow>=6.2.0 in /home/lucas/miniconda3/envs/PhD/lib/python3.9/site-packages (from matplotlib->stable-baselines3) (8.4.0)\n",
            "Requirement already satisfied: pyparsing>=2.2.1 in /home/lucas/miniconda3/envs/PhD/lib/python3.9/site-packages (from matplotlib->stable-baselines3) (2.4.7)\n",
            "Requirement already satisfied: python-dateutil>=2.7 in /home/lucas/miniconda3/envs/PhD/lib/python3.9/site-packages (from matplotlib->stable-baselines3) (2.8.2)\n",
            "Requirement already satisfied: pytz>=2017.3 in /home/lucas/miniconda3/envs/PhD/lib/python3.9/site-packages (from pandas->stable-baselines3) (2021.3)\n",
            "Requirement already satisfied: six in /home/lucas/miniconda3/envs/PhD/lib/python3.9/site-packages (from cycler>=0.10->matplotlib->stable-baselines3) (1.16.0)\n",
            "Requirement already satisfied: zipp>=0.5 in /home/lucas/miniconda3/envs/PhD/lib/python3.9/site-packages (from importlib-metadata>=4.8.0->gymnasium==0.28.1->stable-baselines3) (3.7.0)\n",
            "Requirement already satisfied: MarkupSafe>=2.0 in /home/lucas/miniconda3/envs/PhD/lib/python3.9/site-packages (from jinja2->torch>=1.11->stable-baselines3) (2.1.0)\n",
            "Requirement already satisfied: mpmath>=0.19 in /home/lucas/miniconda3/envs/PhD/lib/python3.9/site-packages (from sympy->torch>=1.11->stable-baselines3) (1.3.0)\n",
            "Using cached stable_baselines3-2.0.0-py3-none-any.whl (178 kB)\n",
            "Installing collected packages: torch, stable-baselines3\n",
            "  Attempting uninstall: stable-baselines3\n",
            "    Found existing installation: stable-baselines3 1.5.0\n",
            "    Uninstalling stable-baselines3-1.5.0:\n",
            "      Successfully uninstalled stable-baselines3-1.5.0\n",
            "Successfully installed stable-baselines3-2.0.0 torch-2.0.1\n"
          ]
        }
      ],
      "source": [
        "!pip install stable-baselines3 --upgrade"
      ]
    },
    {
      "cell_type": "code",
      "execution_count": null,
      "id": "lgPC1qU8c-0A",
      "metadata": {
        "id": "lgPC1qU8c-0A"
      },
      "outputs": [],
      "source": [
        "import stable_baselines3 as sb3\n",
        "import numpy as np\n",
        "import mo_gymnasium as mo_gym"
      ]
    },
    {
      "cell_type": "code",
      "execution_count": null,
      "id": "mn7dMweScz1U",
      "metadata": {
        "colab": {
          "base_uri": "https://localhost:8080/"
        },
        "id": "mn7dMweScz1U",
        "outputId": "fe80d623-a46d-4d9e-bd27-75188c12aa19"
      },
      "outputs": [
        {
          "name": "stderr",
          "output_type": "stream",
          "text": [
            "/home/lucas/miniconda3/envs/PhD/lib/python3.9/site-packages/gymnasium/core.py:297: UserWarning: \u001b[33mWARN: env.reward_space to get variables from other wrappers is deprecated and will be removed in v1.0, to get this variable you can do `env.unwrapped.reward_space` for environment variables or `env.get_attr('reward_space')` that will search the reminding wrappers.\u001b[0m\n",
            "  logger.warn(\n"
          ]
        },
        {
          "data": {
            "text/plain": [
              "<stable_baselines3.dqn.dqn.DQN at 0x7f9b66f70ee0>"
            ]
          },
          "execution_count": 9,
          "metadata": {},
          "output_type": "execute_result"
        }
      ],
      "source": [
        "# Linear scalarizes the environment\n",
        "env = mo_gym.LinearReward(mo_gym.make(\"mo-mountaincar-v0\"), weight=np.array([0.9, 0.1, 0.0]))\n",
        "\n",
        "# Run DQN agent!\n",
        "agent = sb3.DQN(\"MlpPolicy\", env)\n",
        "agent.learn(100000)"
      ]
    },
    {
      "cell_type": "markdown",
      "source": [
        "## 2) Running Experiments with *MORL-Baselines*"
      ],
      "metadata": {
        "id": "SVpo5j3Bo0iG"
      },
      "id": "SVpo5j3Bo0iG"
    },
    {
      "cell_type": "markdown",
      "source": [
        "Now, we will start playing with MORL algorithms!"
      ],
      "metadata": {
        "id": "IZmS9miSGA1C"
      },
      "id": "IZmS9miSGA1C"
    },
    {
      "cell_type": "markdown",
      "source": [
        "## Install MORL Baselines"
      ],
      "metadata": {
        "id": "VrLvdHSKpOZp"
      },
      "id": "VrLvdHSKpOZp"
    },
    {
      "cell_type": "code",
      "source": [
        "!apt-get install libgmp-dev python3-dev\n",
        "!pip install pycddlib  # required for computing linear support"
      ],
      "metadata": {
        "colab": {
          "base_uri": "https://localhost:8080/"
        },
        "id": "G6g_K6rnZQYI",
        "outputId": "c8e53365-734f-4176-e41c-52f7365e2e6a"
      },
      "id": "G6g_K6rnZQYI",
      "execution_count": null,
      "outputs": [
        {
          "output_type": "stream",
          "name": "stdout",
          "text": [
            "Reading package lists... Done\n",
            "Building dependency tree... Done\n",
            "Reading state information... Done\n",
            "python3-dev is already the newest version (3.10.6-1~22.04).\n",
            "python3-dev set to manually installed.\n",
            "Suggested packages:\n",
            "  gmp-doc libgmp10-doc libmpfr-dev\n",
            "The following NEW packages will be installed:\n",
            "  libgmp-dev libgmpxx4ldbl\n",
            "0 upgraded, 2 newly installed, 0 to remove and 8 not upgraded.\n",
            "Need to get 346 kB of archives.\n",
            "After this operation, 1,702 kB of additional disk space will be used.\n",
            "Get:1 http://archive.ubuntu.com/ubuntu jammy/main amd64 libgmpxx4ldbl amd64 2:6.2.1+dfsg-3ubuntu1 [9,580 B]\n",
            "Get:2 http://archive.ubuntu.com/ubuntu jammy/main amd64 libgmp-dev amd64 2:6.2.1+dfsg-3ubuntu1 [337 kB]\n",
            "Fetched 346 kB in 0s (2,948 kB/s)\n",
            "Selecting previously unselected package libgmpxx4ldbl:amd64.\n",
            "(Reading database ... 120493 files and directories currently installed.)\n",
            "Preparing to unpack .../libgmpxx4ldbl_2%3a6.2.1+dfsg-3ubuntu1_amd64.deb ...\n",
            "Unpacking libgmpxx4ldbl:amd64 (2:6.2.1+dfsg-3ubuntu1) ...\n",
            "Selecting previously unselected package libgmp-dev:amd64.\n",
            "Preparing to unpack .../libgmp-dev_2%3a6.2.1+dfsg-3ubuntu1_amd64.deb ...\n",
            "Unpacking libgmp-dev:amd64 (2:6.2.1+dfsg-3ubuntu1) ...\n",
            "Setting up libgmpxx4ldbl:amd64 (2:6.2.1+dfsg-3ubuntu1) ...\n",
            "Setting up libgmp-dev:amd64 (2:6.2.1+dfsg-3ubuntu1) ...\n",
            "Processing triggers for libc-bin (2.35-0ubuntu3.1) ...\n",
            "Collecting pycddlib\n",
            "  Downloading pycddlib-2.1.6.tar.gz (159 kB)\n",
            "\u001b[2K     \u001b[90m━━━━━━━━━━━━━━━━━━━━━━━━━━━━━━━━━━━━━━━\u001b[0m \u001b[32m159.3/159.3 kB\u001b[0m \u001b[31m1.4 MB/s\u001b[0m eta \u001b[36m0:00:00\u001b[0m\n",
            "\u001b[?25h  Preparing metadata (setup.py) ... \u001b[?25l\u001b[?25hdone\n",
            "Building wheels for collected packages: pycddlib\n",
            "  Building wheel for pycddlib (setup.py) ... \u001b[?25l\u001b[?25hdone\n",
            "  Created wheel for pycddlib: filename=pycddlib-2.1.6-cp310-cp310-linux_x86_64.whl size=776275 sha256=4afdbe731a661d455dcd5a60063df8f31a5bf4a4edd550b5fca077fef5911765\n",
            "  Stored in directory: /root/.cache/pip/wheels/dd/ea/16/90bc8756ce4c9ce3fba39a9a4314dc393d3a8cccea0e63269e\n",
            "Successfully built pycddlib\n",
            "Installing collected packages: pycddlib\n",
            "Successfully installed pycddlib-2.1.6\n"
          ]
        }
      ]
    },
    {
      "cell_type": "code",
      "source": [
        "!pip install git+https://github.com/LucasAlegre/morl-baselines.git"
      ],
      "metadata": {
        "colab": {
          "base_uri": "https://localhost:8080/"
        },
        "id": "OudBMdFepN9m",
        "outputId": "8097b48e-c544-47e4-99dc-423809dd6c01"
      },
      "id": "OudBMdFepN9m",
      "execution_count": null,
      "outputs": [
        {
          "output_type": "stream",
          "name": "stdout",
          "text": [
            "Collecting git+https://github.com/LucasAlegre/morl-baselines.git\n",
            "  Cloning https://github.com/LucasAlegre/morl-baselines.git to /tmp/pip-req-build-cm5fj0kk\n",
            "  Running command git clone --filter=blob:none --quiet https://github.com/LucasAlegre/morl-baselines.git /tmp/pip-req-build-cm5fj0kk\n",
            "  Resolved https://github.com/LucasAlegre/morl-baselines.git to commit 448434abb878498e6f38416d0fe3d14072a50cb1\n",
            "  Installing build dependencies ... \u001b[?25l\u001b[?25hdone\n",
            "  Getting requirements to build wheel ... \u001b[?25l\u001b[?25hdone\n",
            "  Installing backend dependencies ... \u001b[?25l\u001b[?25hdone\n",
            "  Preparing metadata (pyproject.toml) ... \u001b[?25l\u001b[?25hdone\n",
            "Requirement already satisfied: mo-gymnasium>=1.0.0 in /usr/local/lib/python3.10/dist-packages (from morl-baselines==1.0.0) (1.0.0)\n",
            "Requirement already satisfied: gymnasium<0.30,>=0.28.1 in /usr/local/lib/python3.10/dist-packages (from morl-baselines==1.0.0) (0.29.0)\n",
            "Requirement already satisfied: numpy>=1.21.0 in /usr/local/lib/python3.10/dist-packages (from morl-baselines==1.0.0) (1.22.4)\n",
            "Requirement already satisfied: torch>=1.12.0 in /usr/local/lib/python3.10/dist-packages (from morl-baselines==1.0.0) (2.0.1+cu118)\n",
            "Requirement already satisfied: pygame>=2.1.0 in /usr/local/lib/python3.10/dist-packages (from morl-baselines==1.0.0) (2.5.0)\n",
            "Requirement already satisfied: scipy>=1.7.3 in /usr/local/lib/python3.10/dist-packages (from morl-baselines==1.0.0) (1.10.1)\n",
            "Requirement already satisfied: pymoo>=0.6.0 in /usr/local/lib/python3.10/dist-packages (from morl-baselines==1.0.0) (0.6.0.1)\n",
            "Collecting wandb>=0.14.0 (from morl-baselines==1.0.0)\n",
            "  Downloading wandb-0.15.7-py3-none-any.whl (2.1 MB)\n",
            "\u001b[2K     \u001b[90m━━━━━━━━━━━━━━━━━━━━━━━━━━━━━━━━━━━━━━━━\u001b[0m \u001b[32m2.1/2.1 MB\u001b[0m \u001b[31m14.3 MB/s\u001b[0m eta \u001b[36m0:00:00\u001b[0m\n",
            "\u001b[?25hRequirement already satisfied: imageio in /usr/local/lib/python3.10/dist-packages (from morl-baselines==1.0.0) (2.25.1)\n",
            "Requirement already satisfied: moviepy in /usr/local/lib/python3.10/dist-packages (from morl-baselines==1.0.0) (1.0.3)\n",
            "Requirement already satisfied: seaborn in /usr/local/lib/python3.10/dist-packages (from morl-baselines==1.0.0) (0.12.2)\n",
            "Requirement already satisfied: cvxpy in /usr/local/lib/python3.10/dist-packages (from morl-baselines==1.0.0) (1.3.2)\n",
            "Collecting fire (from morl-baselines==1.0.0)\n",
            "  Downloading fire-0.5.0.tar.gz (88 kB)\n",
            "\u001b[2K     \u001b[90m━━━━━━━━━━━━━━━━━━━━━━━━━━━━━━━━━━━━━━━━\u001b[0m \u001b[32m88.3/88.3 kB\u001b[0m \u001b[31m9.8 MB/s\u001b[0m eta \u001b[36m0:00:00\u001b[0m\n",
            "\u001b[?25h  Preparing metadata (setup.py) ... \u001b[?25l\u001b[?25hdone\n",
            "Requirement already satisfied: cloudpickle>=1.2.0 in /usr/local/lib/python3.10/dist-packages (from gymnasium<0.30,>=0.28.1->morl-baselines==1.0.0) (2.2.1)\n",
            "Requirement already satisfied: typing-extensions>=4.3.0 in /usr/local/lib/python3.10/dist-packages (from gymnasium<0.30,>=0.28.1->morl-baselines==1.0.0) (4.7.1)\n",
            "Requirement already satisfied: farama-notifications>=0.0.1 in /usr/local/lib/python3.10/dist-packages (from gymnasium<0.30,>=0.28.1->morl-baselines==1.0.0) (0.0.4)\n",
            "Requirement already satisfied: matplotlib>=3 in /usr/local/lib/python3.10/dist-packages (from pymoo>=0.6.0->morl-baselines==1.0.0) (3.7.1)\n",
            "Requirement already satisfied: autograd>=1.4 in /usr/local/lib/python3.10/dist-packages (from pymoo>=0.6.0->morl-baselines==1.0.0) (1.6.2)\n",
            "Requirement already satisfied: cma==3.2.2 in /usr/local/lib/python3.10/dist-packages (from pymoo>=0.6.0->morl-baselines==1.0.0) (3.2.2)\n",
            "Requirement already satisfied: alive-progress in /usr/local/lib/python3.10/dist-packages (from pymoo>=0.6.0->morl-baselines==1.0.0) (3.1.4)\n",
            "Requirement already satisfied: dill in /usr/local/lib/python3.10/dist-packages (from pymoo>=0.6.0->morl-baselines==1.0.0) (0.3.7)\n",
            "Requirement already satisfied: Deprecated in /usr/local/lib/python3.10/dist-packages (from pymoo>=0.6.0->morl-baselines==1.0.0) (1.2.14)\n",
            "Requirement already satisfied: filelock in /usr/local/lib/python3.10/dist-packages (from torch>=1.12.0->morl-baselines==1.0.0) (3.12.2)\n",
            "Requirement already satisfied: sympy in /usr/local/lib/python3.10/dist-packages (from torch>=1.12.0->morl-baselines==1.0.0) (1.11.1)\n",
            "Requirement already satisfied: networkx in /usr/local/lib/python3.10/dist-packages (from torch>=1.12.0->morl-baselines==1.0.0) (3.1)\n",
            "Requirement already satisfied: jinja2 in /usr/local/lib/python3.10/dist-packages (from torch>=1.12.0->morl-baselines==1.0.0) (3.1.2)\n",
            "Requirement already satisfied: triton==2.0.0 in /usr/local/lib/python3.10/dist-packages (from torch>=1.12.0->morl-baselines==1.0.0) (2.0.0)\n",
            "Requirement already satisfied: cmake in /usr/local/lib/python3.10/dist-packages (from triton==2.0.0->torch>=1.12.0->morl-baselines==1.0.0) (3.25.2)\n",
            "Requirement already satisfied: lit in /usr/local/lib/python3.10/dist-packages (from triton==2.0.0->torch>=1.12.0->morl-baselines==1.0.0) (16.0.6)\n",
            "Requirement already satisfied: Click!=8.0.0,>=7.1 in /usr/local/lib/python3.10/dist-packages (from wandb>=0.14.0->morl-baselines==1.0.0) (8.1.6)\n",
            "Collecting GitPython!=3.1.29,>=1.0.0 (from wandb>=0.14.0->morl-baselines==1.0.0)\n",
            "  Downloading GitPython-3.1.32-py3-none-any.whl (188 kB)\n",
            "\u001b[2K     \u001b[90m━━━━━━━━━━━━━━━━━━━━━━━━━━━━━━━━━━━━━━\u001b[0m \u001b[32m188.5/188.5 kB\u001b[0m \u001b[31m18.8 MB/s\u001b[0m eta \u001b[36m0:00:00\u001b[0m\n",
            "\u001b[?25hRequirement already satisfied: requests<3,>=2.0.0 in /usr/local/lib/python3.10/dist-packages (from wandb>=0.14.0->morl-baselines==1.0.0) (2.27.1)\n",
            "Requirement already satisfied: psutil>=5.0.0 in /usr/local/lib/python3.10/dist-packages (from wandb>=0.14.0->morl-baselines==1.0.0) (5.9.5)\n",
            "Collecting sentry-sdk>=1.0.0 (from wandb>=0.14.0->morl-baselines==1.0.0)\n",
            "  Downloading sentry_sdk-1.28.1-py2.py3-none-any.whl (214 kB)\n",
            "\u001b[2K     \u001b[90m━━━━━━━━━━━━━━━━━━━━━━━━━━━━━━━━━━━━━━\u001b[0m \u001b[32m214.7/214.7 kB\u001b[0m \u001b[31m21.0 MB/s\u001b[0m eta \u001b[36m0:00:00\u001b[0m\n",
            "\u001b[?25hCollecting docker-pycreds>=0.4.0 (from wandb>=0.14.0->morl-baselines==1.0.0)\n",
            "  Downloading docker_pycreds-0.4.0-py2.py3-none-any.whl (9.0 kB)\n",
            "Requirement already satisfied: PyYAML in /usr/local/lib/python3.10/dist-packages (from wandb>=0.14.0->morl-baselines==1.0.0) (6.0.1)\n",
            "Collecting pathtools (from wandb>=0.14.0->morl-baselines==1.0.0)\n",
            "  Downloading pathtools-0.1.2.tar.gz (11 kB)\n",
            "  Preparing metadata (setup.py) ... \u001b[?25l\u001b[?25hdone\n",
            "Collecting setproctitle (from wandb>=0.14.0->morl-baselines==1.0.0)\n",
            "  Downloading setproctitle-1.3.2-cp310-cp310-manylinux_2_5_x86_64.manylinux1_x86_64.manylinux_2_17_x86_64.manylinux2014_x86_64.whl (30 kB)\n",
            "Requirement already satisfied: setuptools in /usr/local/lib/python3.10/dist-packages (from wandb>=0.14.0->morl-baselines==1.0.0) (67.7.2)\n",
            "Requirement already satisfied: appdirs>=1.4.3 in /usr/local/lib/python3.10/dist-packages (from wandb>=0.14.0->morl-baselines==1.0.0) (1.4.4)\n",
            "Requirement already satisfied: protobuf!=4.21.0,<5,>=3.19.0 in /usr/local/lib/python3.10/dist-packages (from wandb>=0.14.0->morl-baselines==1.0.0) (3.20.3)\n",
            "Requirement already satisfied: osqp>=0.4.1 in /usr/local/lib/python3.10/dist-packages (from cvxpy->morl-baselines==1.0.0) (0.6.2.post8)\n",
            "Requirement already satisfied: ecos>=2 in /usr/local/lib/python3.10/dist-packages (from cvxpy->morl-baselines==1.0.0) (2.0.12)\n",
            "Requirement already satisfied: scs>=1.1.6 in /usr/local/lib/python3.10/dist-packages (from cvxpy->morl-baselines==1.0.0) (3.2.3)\n",
            "Requirement already satisfied: six in /usr/local/lib/python3.10/dist-packages (from fire->morl-baselines==1.0.0) (1.16.0)\n",
            "Requirement already satisfied: termcolor in /usr/local/lib/python3.10/dist-packages (from fire->morl-baselines==1.0.0) (2.3.0)\n",
            "Requirement already satisfied: pillow>=8.3.2 in /usr/local/lib/python3.10/dist-packages (from imageio->morl-baselines==1.0.0) (9.4.0)\n",
            "Requirement already satisfied: decorator<5.0,>=4.0.2 in /usr/local/lib/python3.10/dist-packages (from moviepy->morl-baselines==1.0.0) (4.4.2)\n",
            "Requirement already satisfied: tqdm<5.0,>=4.11.2 in /usr/local/lib/python3.10/dist-packages (from moviepy->morl-baselines==1.0.0) (4.65.0)\n",
            "Requirement already satisfied: proglog<=1.0.0 in /usr/local/lib/python3.10/dist-packages (from moviepy->morl-baselines==1.0.0) (0.1.10)\n",
            "Requirement already satisfied: imageio-ffmpeg>=0.2.0 in /usr/local/lib/python3.10/dist-packages (from moviepy->morl-baselines==1.0.0) (0.4.8)\n",
            "Requirement already satisfied: pandas>=0.25 in /usr/local/lib/python3.10/dist-packages (from seaborn->morl-baselines==1.0.0) (1.5.3)\n",
            "Requirement already satisfied: future>=0.15.2 in /usr/local/lib/python3.10/dist-packages (from autograd>=1.4->pymoo>=0.6.0->morl-baselines==1.0.0) (0.18.3)\n",
            "Collecting gitdb<5,>=4.0.1 (from GitPython!=3.1.29,>=1.0.0->wandb>=0.14.0->morl-baselines==1.0.0)\n",
            "  Downloading gitdb-4.0.10-py3-none-any.whl (62 kB)\n",
            "\u001b[2K     \u001b[90m━━━━━━━━━━━━━━━━━━━━━━━━━━━━━━━━━━━━━━━━\u001b[0m \u001b[32m62.7/62.7 kB\u001b[0m \u001b[31m6.9 MB/s\u001b[0m eta \u001b[36m0:00:00\u001b[0m\n",
            "\u001b[?25hRequirement already satisfied: contourpy>=1.0.1 in /usr/local/lib/python3.10/dist-packages (from matplotlib>=3->pymoo>=0.6.0->morl-baselines==1.0.0) (1.1.0)\n",
            "Requirement already satisfied: cycler>=0.10 in /usr/local/lib/python3.10/dist-packages (from matplotlib>=3->pymoo>=0.6.0->morl-baselines==1.0.0) (0.11.0)\n",
            "Requirement already satisfied: fonttools>=4.22.0 in /usr/local/lib/python3.10/dist-packages (from matplotlib>=3->pymoo>=0.6.0->morl-baselines==1.0.0) (4.41.1)\n",
            "Requirement already satisfied: kiwisolver>=1.0.1 in /usr/local/lib/python3.10/dist-packages (from matplotlib>=3->pymoo>=0.6.0->morl-baselines==1.0.0) (1.4.4)\n",
            "Requirement already satisfied: packaging>=20.0 in /usr/local/lib/python3.10/dist-packages (from matplotlib>=3->pymoo>=0.6.0->morl-baselines==1.0.0) (23.1)\n",
            "Requirement already satisfied: pyparsing>=2.3.1 in /usr/local/lib/python3.10/dist-packages (from matplotlib>=3->pymoo>=0.6.0->morl-baselines==1.0.0) (3.1.0)\n",
            "Requirement already satisfied: python-dateutil>=2.7 in /usr/local/lib/python3.10/dist-packages (from matplotlib>=3->pymoo>=0.6.0->morl-baselines==1.0.0) (2.8.2)\n",
            "Requirement already satisfied: qdldl in /usr/local/lib/python3.10/dist-packages (from osqp>=0.4.1->cvxpy->morl-baselines==1.0.0) (0.1.7.post0)\n",
            "Requirement already satisfied: pytz>=2020.1 in /usr/local/lib/python3.10/dist-packages (from pandas>=0.25->seaborn->morl-baselines==1.0.0) (2022.7.1)\n",
            "Requirement already satisfied: urllib3<1.27,>=1.21.1 in /usr/local/lib/python3.10/dist-packages (from requests<3,>=2.0.0->wandb>=0.14.0->morl-baselines==1.0.0) (1.26.16)\n",
            "Requirement already satisfied: certifi>=2017.4.17 in /usr/local/lib/python3.10/dist-packages (from requests<3,>=2.0.0->wandb>=0.14.0->morl-baselines==1.0.0) (2023.7.22)\n",
            "Requirement already satisfied: charset-normalizer~=2.0.0 in /usr/local/lib/python3.10/dist-packages (from requests<3,>=2.0.0->wandb>=0.14.0->morl-baselines==1.0.0) (2.0.12)\n",
            "Requirement already satisfied: idna<4,>=2.5 in /usr/local/lib/python3.10/dist-packages (from requests<3,>=2.0.0->wandb>=0.14.0->morl-baselines==1.0.0) (3.4)\n",
            "Requirement already satisfied: about-time==4.2.1 in /usr/local/lib/python3.10/dist-packages (from alive-progress->pymoo>=0.6.0->morl-baselines==1.0.0) (4.2.1)\n",
            "Requirement already satisfied: grapheme==0.6.0 in /usr/local/lib/python3.10/dist-packages (from alive-progress->pymoo>=0.6.0->morl-baselines==1.0.0) (0.6.0)\n",
            "Requirement already satisfied: wrapt<2,>=1.10 in /usr/local/lib/python3.10/dist-packages (from Deprecated->pymoo>=0.6.0->morl-baselines==1.0.0) (1.14.1)\n",
            "Requirement already satisfied: MarkupSafe>=2.0 in /usr/local/lib/python3.10/dist-packages (from jinja2->torch>=1.12.0->morl-baselines==1.0.0) (2.1.3)\n",
            "Requirement already satisfied: mpmath>=0.19 in /usr/local/lib/python3.10/dist-packages (from sympy->torch>=1.12.0->morl-baselines==1.0.0) (1.3.0)\n",
            "Collecting smmap<6,>=3.0.1 (from gitdb<5,>=4.0.1->GitPython!=3.1.29,>=1.0.0->wandb>=0.14.0->morl-baselines==1.0.0)\n",
            "  Downloading smmap-5.0.0-py3-none-any.whl (24 kB)\n",
            "Building wheels for collected packages: morl-baselines, fire, pathtools\n",
            "  Building wheel for morl-baselines (pyproject.toml) ... \u001b[?25l\u001b[?25hdone\n",
            "  Created wheel for morl-baselines: filename=morl_baselines-1.0.0-py3-none-any.whl size=111915 sha256=b96ab169be04f1278e942e4a3ee9f2e11789925a02c2cf59c6855f5080eeb075\n",
            "  Stored in directory: /tmp/pip-ephem-wheel-cache-lifeyls2/wheels/d4/f2/66/ee4280d62ca76e54aea00ba7b4046c5eb20c6541c18454ee12\n",
            "  Building wheel for fire (setup.py) ... \u001b[?25l\u001b[?25hdone\n",
            "  Created wheel for fire: filename=fire-0.5.0-py2.py3-none-any.whl size=116932 sha256=fd3d9fc24d027bf98d901cf20c26b2115aee25617d5e13d67fc0cf343bc9b5b5\n",
            "  Stored in directory: /root/.cache/pip/wheels/90/d4/f7/9404e5db0116bd4d43e5666eaa3e70ab53723e1e3ea40c9a95\n",
            "  Building wheel for pathtools (setup.py) ... \u001b[?25l\u001b[?25hdone\n",
            "  Created wheel for pathtools: filename=pathtools-0.1.2-py3-none-any.whl size=8791 sha256=9df9b52edc3148168fc91be0af8e4439e1d4e5548e75039ca408ed29b57d0ae0\n",
            "  Stored in directory: /root/.cache/pip/wheels/e7/f3/22/152153d6eb222ee7a56ff8617d80ee5207207a8c00a7aab794\n",
            "Successfully built morl-baselines fire pathtools\n",
            "Installing collected packages: pathtools, smmap, setproctitle, sentry-sdk, fire, docker-pycreds, gitdb, GitPython, wandb, morl-baselines\n",
            "Successfully installed GitPython-3.1.32 docker-pycreds-0.4.0 fire-0.5.0 gitdb-4.0.10 morl-baselines-1.0.0 pathtools-0.1.2 sentry-sdk-1.28.1 setproctitle-1.3.2 smmap-5.0.0 wandb-0.15.7\n"
          ]
        }
      ]
    },
    {
      "cell_type": "markdown",
      "source": [
        "## Deep Sea Treasure"
      ],
      "metadata": {
        "id": "xVl9_iayroUj"
      },
      "id": "xVl9_iayroUj"
    },
    {
      "cell_type": "markdown",
      "source": [
        "Here, we will use Pareto Q-Learning (https://lucasalegre.github.io/morl-baselines/algos/multi_policy/pareto_q_learning/) to solve the DST problem (https://mo-gymnasium.farama.org/environments/deep-sea-treasure/)."
      ],
      "metadata": {
        "id": "F5PgYGD-GRTI"
      },
      "id": "F5PgYGD-GRTI"
    },
    {
      "cell_type": "code",
      "source": [
        "import gymnasium as gym\n",
        "import mo_gymnasium as mo_gym\n",
        "from mo_gymnasium.utils import MORecordEpisodeStatistics\n",
        "\n",
        "GAMMA = 0.99\n",
        "\n",
        "env = mo_gym.make(\"deep-sea-treasure-v0\")\n",
        "env = MORecordEpisodeStatistics(env, gamma=GAMMA)  # wrapper for recording statistics\n",
        "\n",
        "eval_env = mo_gym.make(\"deep-sea-treasure-v0\") # environment used for evaluation"
      ],
      "metadata": {
        "colab": {
          "base_uri": "https://localhost:8080/"
        },
        "id": "XAdB4N8irqcQ",
        "outputId": "d77ccacf-9196-4bf7-df5b-438b90feb561"
      },
      "id": "XAdB4N8irqcQ",
      "execution_count": null,
      "outputs": [
        {
          "output_type": "stream",
          "name": "stderr",
          "text": [
            "/usr/local/lib/python3.10/dist-packages/gymnasium/core.py:297: UserWarning: \u001b[33mWARN: env.num_envs to get variables from other wrappers is deprecated and will be removed in v1.0, to get this variable you can do `env.unwrapped.num_envs` for environment variables or `env.get_attr('num_envs')` that will search the reminding wrappers.\u001b[0m\n",
            "  logger.warn(\n",
            "/usr/local/lib/python3.10/dist-packages/gymnasium/core.py:297: UserWarning: \u001b[33mWARN: env.reward_space to get variables from other wrappers is deprecated and will be removed in v1.0, to get this variable you can do `env.unwrapped.reward_space` for environment variables or `env.get_attr('reward_space')` that will search the reminding wrappers.\u001b[0m\n",
            "  logger.warn(\n"
          ]
        }
      ]
    },
    {
      "cell_type": "markdown",
      "source": [
        "### Pareto Q-Learning"
      ],
      "metadata": {
        "id": "Fw1VBm6Yy76Y"
      },
      "id": "Fw1VBm6Yy76Y"
    },
    {
      "cell_type": "markdown",
      "source": [
        "Check the metrics on weights and biases!\n",
        "\n",
        "Tip: at the runs.summary[\"eval/front\"] panel, change Render as to Combined plot to see a 2D plot of the Pareto front."
      ],
      "metadata": {
        "id": "_UySTFCmGkN7"
      },
      "id": "_UySTFCmGkN7"
    },
    {
      "cell_type": "code",
      "source": [
        "import numpy as np\n",
        "from morl_baselines.multi_policy.pareto_q_learning.pql import PQL\n",
        "\n",
        "agent = PQL(\n",
        "    env=env,\n",
        "    ref_point=np.array([0, -50]),  # used to compute hypervolume\n",
        "    gamma=GAMMA,\n",
        "    log=True,  # use weights and biases to see the results!\n",
        ")\n",
        "\n",
        "agent.train(total_timesteps=100000, eval_env=eval_env, ref_point=np.array([0, -50]))"
      ],
      "metadata": {
        "colab": {
          "base_uri": "https://localhost:8080/",
          "height": 419
        },
        "id": "rO5CqgUftR55",
        "outputId": "471acc02-ba95-4852-e827-1c14a9d44f04"
      },
      "id": "rO5CqgUftR55",
      "execution_count": null,
      "outputs": [
        {
          "output_type": "stream",
          "name": "stderr",
          "text": [
            "/usr/local/lib/python3.10/dist-packages/gymnasium/core.py:297: UserWarning: \u001b[33mWARN: env.reward_space to get variables from other wrappers is deprecated and will be removed in v1.0, to get this variable you can do `env.unwrapped.reward_space` for environment variables or `env.get_attr('reward_space')` that will search the reminding wrappers.\u001b[0m\n",
            "  logger.warn(\n"
          ]
        },
        {
          "output_type": "display_data",
          "data": {
            "text/plain": [
              "<IPython.core.display.Javascript object>"
            ],
            "application/javascript": [
              "\n",
              "        window._wandbApiKey = new Promise((resolve, reject) => {\n",
              "            function loadScript(url) {\n",
              "            return new Promise(function(resolve, reject) {\n",
              "                let newScript = document.createElement(\"script\");\n",
              "                newScript.onerror = reject;\n",
              "                newScript.onload = resolve;\n",
              "                document.body.appendChild(newScript);\n",
              "                newScript.src = url;\n",
              "            });\n",
              "            }\n",
              "            loadScript(\"https://cdn.jsdelivr.net/npm/postmate/build/postmate.min.js\").then(() => {\n",
              "            const iframe = document.createElement('iframe')\n",
              "            iframe.style.cssText = \"width:0;height:0;border:none\"\n",
              "            document.body.appendChild(iframe)\n",
              "            const handshake = new Postmate({\n",
              "                container: iframe,\n",
              "                url: 'https://wandb.ai/authorize'\n",
              "            });\n",
              "            const timeout = setTimeout(() => reject(\"Couldn't auto authenticate\"), 5000)\n",
              "            handshake.then(function(child) {\n",
              "                child.on('authorize', data => {\n",
              "                    clearTimeout(timeout)\n",
              "                    resolve(data)\n",
              "                });\n",
              "            });\n",
              "            })\n",
              "        });\n",
              "    "
            ]
          },
          "metadata": {}
        },
        {
          "output_type": "stream",
          "name": "stderr",
          "text": [
            "\u001b[34m\u001b[1mwandb\u001b[0m: Logging into wandb.ai. (Learn how to deploy a W&B server locally: https://wandb.me/wandb-server)\n",
            "\u001b[34m\u001b[1mwandb\u001b[0m: You can find your API key in your browser here: https://wandb.ai/authorize\n",
            "wandb: Paste an API key from your profile and hit enter, or press ctrl+c to quit:"
          ]
        },
        {
          "name": "stdout",
          "output_type": "stream",
          "text": [
            " ··········\n"
          ]
        },
        {
          "output_type": "stream",
          "name": "stderr",
          "text": [
            "\u001b[34m\u001b[1mwandb\u001b[0m: Appending key for api.wandb.ai to your netrc file: /root/.netrc\n"
          ]
        },
        {
          "output_type": "display_data",
          "data": {
            "text/plain": [
              "<IPython.core.display.HTML object>"
            ],
            "text/html": [
              "Tracking run with wandb version 0.15.5"
            ]
          },
          "metadata": {}
        },
        {
          "output_type": "display_data",
          "data": {
            "text/plain": [
              "<IPython.core.display.HTML object>"
            ],
            "text/html": [
              "Run data is saved locally in <code>/content/wandb/run-20230724_212353-32as3rpw</code>"
            ]
          },
          "metadata": {}
        },
        {
          "output_type": "display_data",
          "data": {
            "text/plain": [
              "<IPython.core.display.HTML object>"
            ],
            "text/html": [
              "Syncing run <strong><a href='https://wandb.ai/lnalegre/MORL-baselines/runs/32as3rpw' target=\"_blank\">deep-sea-treasure-v0__Pareto Q-Learning__None__1690233803</a></strong> to <a href='https://wandb.ai/lnalegre/MORL-baselines' target=\"_blank\">Weights & Biases</a> (<a href='https://wandb.me/run' target=\"_blank\">docs</a>)<br/>"
            ]
          },
          "metadata": {}
        },
        {
          "output_type": "display_data",
          "data": {
            "text/plain": [
              "<IPython.core.display.HTML object>"
            ],
            "text/html": [
              " View project at <a href='https://wandb.ai/lnalegre/MORL-baselines' target=\"_blank\">https://wandb.ai/lnalegre/MORL-baselines</a>"
            ]
          },
          "metadata": {}
        },
        {
          "output_type": "display_data",
          "data": {
            "text/plain": [
              "<IPython.core.display.HTML object>"
            ],
            "text/html": [
              " View run at <a href='https://wandb.ai/lnalegre/MORL-baselines/runs/32as3rpw' target=\"_blank\">https://wandb.ai/lnalegre/MORL-baselines/runs/32as3rpw</a>"
            ]
          },
          "metadata": {}
        },
        {
          "output_type": "execute_result",
          "data": {
            "text/plain": [
              "{(0.699999988079071, -1.0),\n",
              " (8.03681981306076, -2.9701),\n",
              " (11.046854115, -4.90099501),\n",
              " (13.180722091614, -6.793465209301),\n",
              " (14.074187108950262, -7.72553055720799),\n",
              " (14.85618993228868, -8.64827525163591),\n",
              " (17.373143823765123, -12.247897700103202),\n",
              " (17.813676097383638, -13.12541872310217),\n",
              " (19.07265374771985, -15.705680661607312),\n",
              " (19.777976783050544, -17.383137616441328)}"
            ]
          },
          "metadata": {},
          "execution_count": 25
        }
      ]
    },
    {
      "cell_type": "markdown",
      "source": [
        "### Exercise 1:\n",
        "\n",
        "Solving Resource Gathering using GPI-LS / GPI-PD\n",
        "\n",
        "- Resource Gathering environment (see https://mo-gymnasium.farama.org/environments/resource-gathering/)\n",
        "- GPI-LS (see https://lucasalegre.github.io/morl-baselines/algos/multi_policy/mp_mo_q_learning/).\n",
        "\n",
        "Tips:\n",
        "- You need to set weight_selection_algo='gpi-ls' and use_gpi_policy=True in the MPMOQLearning constructor in order to use GPI-LS.\n",
        "- To use GPI-PD (the model-based version of GPI-LS), set dyna=True and gpi_pd=True\n",
        "- Because this environment has stochastic transitions, set num_eval_episodes_for_front=50 in the train() method in order to evaluate the value of the policies with more precision.\n",
        "- Use 10 iterations of 10k steps:\n",
        " total_timesteps=100000, timesteps_per_iteration=10000\n",
        "- Use epsilon-greedy exploration with\n",
        "    initial_epsilon=1.0,\n",
        "    final_epsilon=0.05,\n",
        "    epsilon_decay_steps=100000\n",
        "- Observe the metrics in \"eval/\" panel of weights and biases (e.g., \"eval/eum\" for expected utility)"
      ],
      "metadata": {
        "id": "OmlsOuT7EXiV"
      },
      "id": "OmlsOuT7EXiV"
    },
    {
      "cell_type": "code",
      "source": [
        "import gymnasium as gym\n",
        "import mo_gymnasium as mo_gym\n",
        "from mo_gymnasium.utils import MORecordEpisodeStatistics\n",
        "import numpy as np\n",
        "\n",
        "GAMMA = 0.9\n",
        "ref_point = np.array([-1., -1., -2.])\n",
        "\n",
        "env = mo_gym.make(\"resource-gathering-v0\")\n",
        "env = MORecordEpisodeStatistics(env, gamma=GAMMA)  # wrapper for recording statistics\n",
        "\n",
        "eval_env = mo_gym.make(\"resource-gathering-v0\") # environment used for evaluation\n",
        "\n",
        "env.pareto_front(GAMMA) # known Pareto front"
      ],
      "metadata": {
        "colab": {
          "base_uri": "https://localhost:8080/"
        },
        "id": "WXJAU4irYK_x",
        "outputId": "7917b0bc-eac2-4925-e247-81ce0f7a1a04"
      },
      "id": "WXJAU4irYK_x",
      "execution_count": null,
      "outputs": [
        {
          "output_type": "stream",
          "name": "stderr",
          "text": [
            "/usr/local/lib/python3.10/dist-packages/gymnasium/core.py:297: UserWarning: \u001b[33mWARN: env.num_envs to get variables from other wrappers is deprecated and will be removed in v1.0, to get this variable you can do `env.unwrapped.num_envs` for environment variables or `env.get_attr('num_envs')` that will search the reminding wrappers.\u001b[0m\n",
            "  logger.warn(\n",
            "/usr/local/lib/python3.10/dist-packages/gymnasium/core.py:297: UserWarning: \u001b[33mWARN: env.reward_space to get variables from other wrappers is deprecated and will be removed in v1.0, to get this variable you can do `env.unwrapped.reward_space` for environment variables or `env.get_attr('reward_space')` that will search the reminding wrappers.\u001b[0m\n",
            "  logger.warn(\n"
          ]
        }
      ]
    },
    {
      "cell_type": "code",
      "source": [
        "from morl_baselines.multi_policy.multi_policy_moqlearning.mp_mo_q_learning import MPMOQLearning\n",
        "\n",
        "# Your code here:\n",
        "agent = MPMOQLearning(\n",
        "    env,\n",
        "    initial_epsilon=1.0,\n",
        "    final_epsilon=0.05,\n",
        "    epsilon_decay_steps=100000,\n",
        "    gamma=GAMMA,\n",
        "    dyna=True,\n",
        "    gpi_pd=True,\n",
        "    weight_selection_algo='gpi-ls',\n",
        "    use_gpi_policy=True\n",
        ")\n",
        "\n",
        "agent.train(total_timesteps=100000, timesteps_per_iteration=10000, eval_env=eval_env, num_eval_episodes_for_front=50, ref_point=ref_point)"
      ],
      "metadata": {
        "colab": {
          "base_uri": "https://localhost:8080/",
          "height": 1000
        },
        "id": "tAqU-B61YRiK",
        "outputId": "7671602b-b23f-4113-91be-d2b2e3f8fc6d"
      },
      "id": "tAqU-B61YRiK",
      "execution_count": null,
      "outputs": [
        {
          "output_type": "stream",
          "name": "stderr",
          "text": [
            "WARNING:py.warnings:/usr/local/lib/python3.10/dist-packages/gymnasium/core.py:297: UserWarning: \u001b[33mWARN: env.reward_space to get variables from other wrappers is deprecated and will be removed in v1.0, to get this variable you can do `env.unwrapped.reward_space` for environment variables or `env.get_attr('reward_space')` that will search the reminding wrappers.\u001b[0m\n",
            "  logger.warn(\n",
            "\n"
          ]
        },
        {
          "output_type": "display_data",
          "data": {
            "text/plain": [
              "<IPython.core.display.HTML object>"
            ],
            "text/html": [
              "Tracking run with wandb version 0.15.7"
            ]
          },
          "metadata": {}
        },
        {
          "output_type": "display_data",
          "data": {
            "text/plain": [
              "<IPython.core.display.HTML object>"
            ],
            "text/html": [
              "Run data is saved locally in <code>/content/wandb/run-20230727_145616-8jn5j5ac</code>"
            ]
          },
          "metadata": {}
        },
        {
          "output_type": "display_data",
          "data": {
            "text/plain": [
              "<IPython.core.display.HTML object>"
            ],
            "text/html": [
              "Syncing run <strong><a href='https://wandb.ai/lnalegre/MORL-baselines/runs/8jn5j5ac' target=\"_blank\">resource-gathering-v0__MultiPolicy MO Q-Learning__None__1690469776</a></strong> to <a href='https://wandb.ai/lnalegre/MORL-baselines' target=\"_blank\">Weights & Biases</a> (<a href='https://wandb.me/run' target=\"_blank\">docs</a>)<br/>"
            ]
          },
          "metadata": {}
        },
        {
          "output_type": "display_data",
          "data": {
            "text/plain": [
              "<IPython.core.display.HTML object>"
            ],
            "text/html": [
              " View project at <a href='https://wandb.ai/lnalegre/MORL-baselines' target=\"_blank\">https://wandb.ai/lnalegre/MORL-baselines</a>"
            ]
          },
          "metadata": {}
        },
        {
          "output_type": "display_data",
          "data": {
            "text/plain": [
              "<IPython.core.display.HTML object>"
            ],
            "text/html": [
              " View run at <a href='https://wandb.ai/lnalegre/MORL-baselines/runs/8jn5j5ac' target=\"_blank\">https://wandb.ai/lnalegre/MORL-baselines/runs/8jn5j5ac</a>"
            ]
          },
          "metadata": {}
        },
        {
          "output_type": "stream",
          "name": "stdout",
          "text": [
            "CCS: [] CCS size: 0\n",
            "Next weight: [1. 0. 0.]\n",
            "Adding value: [0. 0. 0.] to CCS.\n",
            "W_corner: [array([1., 0., 0.]), array([0., 1., 0.]), array([0., 0., 1.])] W_corner size: 3\n",
            "CCS: [array([0., 0., 0.], dtype=float32)] CCS size: 1\n",
            "Next weight: [0. 1. 0.]\n",
            "Adding value: [-0.0849  0.4209  0.    ] to CCS.\n",
            "W_corner: [array([0.8321, 0.1679, 0.    ]), array([1., 0., 0.]), array([0., 1., 0.]), array([0., 0., 1.])] W_corner size: 4\n",
            "CCS: [array([0., 0., 0.], dtype=float32), array([-0.0849,  0.4209,  0.    ])] CCS size: 2\n",
            "Next weight: [0.8321 0.1679 0.    ]\n",
            "Adding value: [0.     0.3138 0.    ] to CCS.\n",
            "removed value [0. 0. 0.]\n",
            "W_corner: [array([0.5578, 0.4422, 0.    ]), array([1., 0., 0.]), array([0., 1., 0.]), array([0., 0., 1.])] W_corner size: 4\n",
            "CCS: [array([-0.0849,  0.4209,  0.    ]), array([0.    , 0.3138, 0.    ])] CCS size: 2\n",
            "Next weight: [0. 0. 1.]\n",
            "Adding value: [0.     0.     0.3874] to CCS.\n",
            "W_corner: [array([1., 0., 0.]), array([0.5578, 0.4422, 0.    ]), array([0.4107, 0.3256, 0.2637]), array([0.    , 0.4793, 0.5207]), array([0., 1., 0.]), array([0., 0., 1.])] W_corner size: 6\n",
            "CCS: [array([-0.0849,  0.4209,  0.    ]), array([0.    , 0.3138, 0.    ]), array([0.    , 0.    , 0.3874])] CCS size: 3\n",
            "Next weight: [0.     0.4793 0.5207]\n",
            "Adding value: [-0.1243  0.2573  0.2573] to CCS.\n",
            "W_corner: [array([0.3993, 0.3299, 0.2709]), array([0.4107, 0.3256, 0.2637]), array([0.5578, 0.4422, 0.    ]), array([1., 0., 0.]), array([0., 0., 1.]), array([0., 1., 0.]), array([0.    , 0.6113, 0.3887]), array([0.    , 0.3358, 0.6642])] W_corner size: 8\n",
            "CCS: [array([-0.0849,  0.4209,  0.    ]), array([0.    , 0.3138, 0.    ]), array([0.    , 0.    , 0.3874]), array([-0.1243,  0.2573,  0.2573])] CCS size: 4\n",
            "Next weight: [0.3993 0.3299 0.2709]\n",
            "Adding value: [-0.2215  0.2197  0.2197] to CCS.\n",
            "Value [-0.2215  0.2197  0.2197] is dominated. Discarding.\n",
            "W_corner: [array([0.3993, 0.3299, 0.2709]), array([0.4107, 0.3256, 0.2637]), array([0.5578, 0.4422, 0.    ]), array([1., 0., 0.]), array([0., 0., 1.]), array([0., 1., 0.]), array([0.    , 0.6113, 0.3887]), array([0.    , 0.3358, 0.6642])] W_corner size: 8\n",
            "CCS: [array([-0.0849,  0.4209,  0.    ]), array([0.    , 0.3138, 0.    ]), array([0.    , 0.    , 0.3874]), array([-0.1243,  0.2573,  0.2573])] CCS size: 4\n",
            "Next weight: [0.     0.6113 0.3887]\n",
            "Adding value: [-0.1326  0.2259  0.2259] to CCS.\n",
            "Value [-0.1326  0.2259  0.2259] is dominated. Discarding.\n",
            "W_corner: [array([0.3993, 0.3299, 0.2709]), array([0.4107, 0.3256, 0.2637]), array([0.5578, 0.4422, 0.    ]), array([1., 0., 0.]), array([0., 0., 1.]), array([0., 1., 0.]), array([0.    , 0.6113, 0.3887]), array([0.    , 0.3358, 0.6642])] W_corner size: 8\n",
            "CCS: [array([-0.0849,  0.4209,  0.    ]), array([0.    , 0.3138, 0.    ]), array([0.    , 0.    , 0.3874]), array([-0.1243,  0.2573,  0.2573])] CCS size: 4\n",
            "Next weight: [0.3993 0.3299 0.2709]\n",
            "Adding value: [-0.2276  0.2197  0.2197] to CCS.\n",
            "Value [-0.2276  0.2197  0.2197] is dominated. Discarding.\n",
            "W_corner: [array([0.3993, 0.3299, 0.2709]), array([0.4107, 0.3256, 0.2637]), array([0.5578, 0.4422, 0.    ]), array([1., 0., 0.]), array([0., 0., 1.]), array([0., 1., 0.]), array([0.    , 0.6113, 0.3887]), array([0.    , 0.3358, 0.6642])] W_corner size: 8\n",
            "CCS: [array([-0.0849,  0.4209,  0.    ]), array([0.    , 0.3138, 0.    ]), array([0.    , 0.    , 0.3874]), array([-0.1243,  0.2573,  0.2573])] CCS size: 4\n",
            "Next weight: [0.4107 0.3256 0.2637]\n",
            "Adding value: [-0.1304  0.2573  0.2573] to CCS.\n",
            "W_corner: [array([1., 0., 0.]), array([0.5578, 0.4422, 0.    ]), array([0.4107, 0.3256, 0.2637]), array([0.3993, 0.3299, 0.2709]), array([0., 1., 0.]), array([0., 0., 1.]), array([1.3400e-15, 6.1131e-01, 3.8869e-01]), array([6.9350e-16, 3.3583e-01, 6.6417e-01])] W_corner size: 8\n",
            "CCS: [array([-0.0849,  0.4209,  0.    ]), array([0.    , 0.3138, 0.    ]), array([0.    , 0.    , 0.3874]), array([-0.1243,  0.2573,  0.2573]), array([-0.1304,  0.2573,  0.2573])] CCS size: 5\n",
            "Next weight: [1.3400e-15 6.1131e-01 3.8869e-01]\n",
            "Adding value: [-0.179   0.2385  0.2385] to CCS.\n",
            "Value [-0.179   0.2385  0.2385] is dominated. Discarding.\n"
          ]
        },
        {
          "output_type": "display_data",
          "data": {
            "text/plain": [
              "<IPython.core.display.HTML object>"
            ],
            "text/html": [
              "Waiting for W&B process to finish... <strong style=\"color:green\">(success).</strong>"
            ]
          },
          "metadata": {}
        },
        {
          "output_type": "display_data",
          "data": {
            "text/plain": [
              "<IPython.core.display.HTML object>"
            ],
            "text/html": [
              "<style>\n",
              "    table.wandb td:nth-child(1) { padding: 0 10px; text-align: left ; width: auto;} td:nth-child(2) {text-align: left ; width: 100%}\n",
              "    .wandb-row { display: flex; flex-direction: row; flex-wrap: wrap; justify-content: flex-start; width: 100% }\n",
              "    .wandb-col { display: flex; flex-direction: column; flex-basis: 100%; flex: 1; padding: 10px; }\n",
              "    </style>\n",
              "<div class=\"wandb-row\"><div class=\"wandb-col\"><h3>Run history:</h3><br/><table class=\"wandb\"><tr><td>charts_0/epsilon</td><td>█▇▆▆▅▄▃▃▂▁</td></tr><tr><td>charts_1/epsilon</td><td>█▇▆▆▅▄▃▃▂▁</td></tr><tr><td>charts_2/epsilon</td><td>█▇▆▆▅▄▃▃▂▁</td></tr><tr><td>charts_3/epsilon</td><td>█▇▆▆▅▄▃▃▂▁</td></tr><tr><td>charts_4/SPS</td><td>█▁</td></tr><tr><td>charts_4/episode_time</td><td>█▁</td></tr><tr><td>charts_4/epsilon</td><td>█▇▆▆▅▄▃▃▂▁</td></tr><tr><td>charts_4/timesteps_per_episode</td><td>▁█</td></tr><tr><td>charts_5/epsilon</td><td>█▇▆▆▅▄▃▃▂▁</td></tr><tr><td>charts_6/epsilon</td><td>█▇▆▆▅▄▃▃▂▁</td></tr><tr><td>charts_7/SPS</td><td>▁</td></tr><tr><td>charts_7/episode_time</td><td>▁</td></tr><tr><td>charts_7/epsilon</td><td>█▇▆▆▅▄▃▃▂▁</td></tr><tr><td>charts_7/timesteps_per_episode</td><td>▁</td></tr><tr><td>charts_8/SPS</td><td>█▁▁</td></tr><tr><td>charts_8/episode_time</td><td>▁█▄</td></tr><tr><td>charts_8/epsilon</td><td>█▇▆▆▅▄▃▃▂▁</td></tr><tr><td>charts_8/timesteps_per_episode</td><td>▁▆█</td></tr><tr><td>charts_9/SPS</td><td>▁</td></tr><tr><td>charts_9/episode_time</td><td>▁</td></tr><tr><td>charts_9/epsilon</td><td>█▇▆▆▅▄▃▃▂▁</td></tr><tr><td>charts_9/timesteps_per_episode</td><td>▁</td></tr><tr><td>eval/eum</td><td>▁▅▇███████</td></tr><tr><td>eval/hypervolume</td><td>▁▆▇███████</td></tr><tr><td>eval/sparsity</td><td>▁▂██▆▇███▇</td></tr><tr><td>eval_0/discounted_vec_0</td><td>▁▁▁▁▁▁▁▁▁▁</td></tr><tr><td>eval_0/discounted_vec_1</td><td>▁▁▁▁▁▁▁▁▁▁</td></tr><tr><td>eval_0/discounted_vec_2</td><td>▁▁▁▁▁▁▁▁▁▁</td></tr><tr><td>eval_0/scalarized_discounted_return</td><td>▁▁▁▁▁▁▁▁▁▁</td></tr><tr><td>eval_0/scalarized_return</td><td>▁▁▁▁▁▁▁▁▁▁</td></tr><tr><td>eval_0/vec_0</td><td>▁▁▁▁▁▁▁▁▁▁</td></tr><tr><td>eval_0/vec_1</td><td>▁▁▁▁▁▁▁▁▁▁</td></tr><tr><td>eval_0/vec_2</td><td>▁▁▁▁▁▁▁▁▁▁</td></tr><tr><td>eval_1/discounted_vec_0</td><td>▆▂█▆█▂▆▂▆▁</td></tr><tr><td>eval_1/discounted_vec_1</td><td>▆▃█▆█▃▆▃▆▁</td></tr><tr><td>eval_1/discounted_vec_2</td><td>▁▁▁▁▁▁▁▁▁▁</td></tr><tr><td>eval_1/scalarized_discounted_return</td><td>▆▃█▆█▃▆▃▆▁</td></tr><tr><td>eval_1/scalarized_return</td><td>▆▃█▆█▃▆▃▆▁</td></tr><tr><td>eval_1/vec_0</td><td>▆▃█▆█▃▆▃▆▁</td></tr><tr><td>eval_1/vec_1</td><td>▆▃█▆█▃▆▃▆▁</td></tr><tr><td>eval_1/vec_2</td><td>▁▁▁▁▁▁▁▁▁▁</td></tr><tr><td>eval_2/discounted_vec_0</td><td>████▁█████</td></tr><tr><td>eval_2/discounted_vec_1</td><td>▁▁██▇█▇▇▇▇</td></tr><tr><td>eval_2/discounted_vec_2</td><td>▁▁▁▁▁▁▁▁▁▁</td></tr><tr><td>eval_2/scalarized_discounted_return</td><td>▅▅██▁█▇▇▇▇</td></tr><tr><td>eval_2/scalarized_return</td><td>▂▂██▁█████</td></tr><tr><td>eval_2/vec_0</td><td>████▁█████</td></tr><tr><td>eval_2/vec_1</td><td>▁▁██▇█████</td></tr><tr><td>eval_2/vec_2</td><td>▁▁▁▁▁▁▁▁▁▁</td></tr><tr><td>eval_3/discounted_vec_0</td><td>▁▁▁▁▁▁▁▁▁▁</td></tr><tr><td>eval_3/discounted_vec_1</td><td>▁▁▁▁▁▁▁▁▁▁</td></tr><tr><td>eval_3/discounted_vec_2</td><td>▁▁▁▁▁▁▁▁▁▁</td></tr><tr><td>eval_3/scalarized_discounted_return</td><td>▁▁▁▁▁▁▁▁▁▁</td></tr><tr><td>eval_3/scalarized_return</td><td>▁▁▁▁▁▁▁▁▁▁</td></tr><tr><td>eval_3/vec_0</td><td>▁▁▁▁▁▁▁▁▁▁</td></tr><tr><td>eval_3/vec_1</td><td>▁▁▁▁▁▁▁▁▁▁</td></tr><tr><td>eval_3/vec_2</td><td>▁▁▁▁▁▁▁▁▁▁</td></tr><tr><td>eval_4/discounted_vec_0</td><td>█▂▁▅▂▁▆▅█▅</td></tr><tr><td>eval_4/discounted_vec_1</td><td>█▁▁▅▁▁▅▅█▅</td></tr><tr><td>eval_4/discounted_vec_2</td><td>█▁▁▅▁▁▅▅█▅</td></tr><tr><td>eval_4/scalarized_discounted_return</td><td>█▁▁▅▁▁▅▅█▅</td></tr><tr><td>eval_4/scalarized_return</td><td>█▁▁▅▁▁▅▅█▅</td></tr><tr><td>eval_4/vec_0</td><td>█▁▁▅▁▁▅▅█▅</td></tr><tr><td>eval_4/vec_1</td><td>█▁▁▅▁▁▅▅█▅</td></tr><tr><td>eval_4/vec_2</td><td>█▁▁▅▁▁▅▅█▅</td></tr><tr><td>eval_5/discounted_vec_0</td><td>▄▅▅█▅▁▄███</td></tr><tr><td>eval_5/discounted_vec_1</td><td>▅▅▅█▅▁▅███</td></tr><tr><td>eval_5/discounted_vec_2</td><td>▅▅▅█▅▁▅███</td></tr><tr><td>eval_5/scalarized_discounted_return</td><td>▄▅▅█▅▁▄███</td></tr><tr><td>eval_5/scalarized_return</td><td>▅▅▅█▅▁▅███</td></tr><tr><td>eval_5/vec_0</td><td>▅▅▅█▅▁▅███</td></tr><tr><td>eval_5/vec_1</td><td>▅▅▅█▅▁▅███</td></tr><tr><td>eval_5/vec_2</td><td>▅▅▅█▅▁▅███</td></tr><tr><td>eval_6/discounted_vec_0</td><td>▆▃▆██▁▁▂▆█</td></tr><tr><td>eval_6/discounted_vec_1</td><td>▆▃▆██▁▁▁▆█</td></tr><tr><td>eval_6/discounted_vec_2</td><td>▆▃▆██▁▁▁▆█</td></tr><tr><td>eval_6/scalarized_discounted_return</td><td>▆▃▆██▁▁▁▆█</td></tr><tr><td>eval_6/scalarized_return</td><td>▆▃▆██▁▁▁▆█</td></tr><tr><td>eval_6/vec_0</td><td>▆▃▆██▁▁▁▆█</td></tr><tr><td>eval_6/vec_1</td><td>▆▃▆██▁▁▁▆█</td></tr><tr><td>eval_6/vec_2</td><td>▆▃▆██▁▁▁▆█</td></tr><tr><td>eval_7/discounted_vec_0</td><td>█▅██▅▃█▁▅▅</td></tr><tr><td>eval_7/discounted_vec_1</td><td>█▆██▆▃█▁▆▆</td></tr><tr><td>eval_7/discounted_vec_2</td><td>█▆██▆▃█▁▆▆</td></tr><tr><td>eval_7/scalarized_discounted_return</td><td>█▅██▅▃█▁▅▅</td></tr><tr><td>eval_7/scalarized_return</td><td>█▆██▆▃█▁▆▆</td></tr><tr><td>eval_7/vec_0</td><td>█▆██▆▃█▁▆▆</td></tr><tr><td>eval_7/vec_1</td><td>█▆██▆▃█▁▆▆</td></tr><tr><td>eval_7/vec_2</td><td>█▆██▆▃█▁▆▆</td></tr><tr><td>eval_8/discounted_vec_0</td><td>█▅▁▄██▅█▅▄</td></tr><tr><td>eval_8/discounted_vec_1</td><td>█▅▁▅██▅█▅▅</td></tr><tr><td>eval_8/discounted_vec_2</td><td>█▅▁▅██▅█▅▅</td></tr><tr><td>eval_8/scalarized_discounted_return</td><td>█▅▁▄██▅█▅▄</td></tr><tr><td>eval_8/scalarized_return</td><td>█▅▁▅██▅█▅▅</td></tr><tr><td>eval_8/vec_0</td><td>█▅▁▅██▅█▅▅</td></tr><tr><td>eval_8/vec_1</td><td>█▅▁▅██▅█▅▅</td></tr><tr><td>eval_8/vec_2</td><td>█▅▁▅██▅█▅▅</td></tr><tr><td>eval_9/discounted_vec_0</td><td>███▁▃▂▁██▁</td></tr><tr><td>eval_9/discounted_vec_1</td><td>███▁▁▁▁██▁</td></tr><tr><td>eval_9/discounted_vec_2</td><td>███▁▁▁▁██▁</td></tr><tr><td>eval_9/scalarized_discounted_return</td><td>███▁▁▁▁██▁</td></tr><tr><td>eval_9/scalarized_return</td><td>███▁▁▁▁██▁</td></tr><tr><td>eval_9/vec_0</td><td>███▁▁▁▁██▁</td></tr><tr><td>eval_9/vec_1</td><td>███▁▁▁▁██▁</td></tr><tr><td>eval_9/vec_2</td><td>███▁▁▁▁██▁</td></tr><tr><td>global_step</td><td>▁▁▁▂▂▂▂▂▂▃▃▃▃▃▄▄▄▄▄▅▅▅▅▅▅▆▆▆▆▆▆▇▇▇▇▇▇███</td></tr><tr><td>losses_0/mean_td_error</td><td>▁▁▁▁▁▁▁▁▁▁</td></tr><tr><td>losses_0/scalarized_td_error</td><td>▁▁▁▁▁▁▁▁▁▁</td></tr><tr><td>losses_1/mean_td_error</td><td>█▃▃▃▃▁▅▃▃▃</td></tr><tr><td>losses_1/scalarized_td_error</td><td>█▂▂▂▂▁▂▂▂▂</td></tr><tr><td>losses_2/mean_td_error</td><td>▂▂█▁▂▂▂▂▂▁</td></tr><tr><td>losses_2/scalarized_td_error</td><td>▁▁█▁▁▁▁▁▁▁</td></tr><tr><td>losses_3/mean_td_error</td><td>█▁▁▁▁▇▁▁▁▁</td></tr><tr><td>losses_3/scalarized_td_error</td><td>█▁▁▁▁█▁▁▁▁</td></tr><tr><td>losses_4/mean_td_error</td><td>▃▅█▁▃▂▃▃▃▃</td></tr><tr><td>losses_4/scalarized_td_error</td><td>▃▄█▁▃▂▃▃▃▃</td></tr><tr><td>losses_5/mean_td_error</td><td>▁▅▂▂▂▂▂█▁▂</td></tr><tr><td>losses_5/scalarized_td_error</td><td>▁▅▂▂▂▂▂█▁▂</td></tr><tr><td>losses_6/mean_td_error</td><td>▅▄▅▅█▅▅▁█▃</td></tr><tr><td>losses_6/scalarized_td_error</td><td>▅▃▅▅█▅▅▁█▃</td></tr><tr><td>losses_7/mean_td_error</td><td>▇▇▇▇▇█▇▁▇▇</td></tr><tr><td>losses_7/scalarized_td_error</td><td>▇▇▇▇▇█▇▁▇▇</td></tr><tr><td>losses_8/mean_td_error</td><td>▄▆▅▆▁▆▆█▆▆</td></tr><tr><td>losses_8/scalarized_td_error</td><td>▄▆▅▆▁▆▆█▆▆</td></tr><tr><td>losses_9/mean_td_error</td><td>█▅▆▅▅█▅▁▅▅</td></tr><tr><td>losses_9/scalarized_td_error</td><td>▇▅▆▅▅█▅▁▄▅</td></tr><tr><td>metrics_4/disc_episode_return_obj_0</td><td>▁▁</td></tr><tr><td>metrics_4/disc_episode_return_obj_1</td><td>█▁</td></tr><tr><td>metrics_4/disc_episode_return_obj_2</td><td>█▁</td></tr><tr><td>metrics_4/discounted_scalarized_episode_return</td><td>█▁</td></tr><tr><td>metrics_4/episode_return_obj_0</td><td>▁▁</td></tr><tr><td>metrics_4/episode_return_obj_1</td><td>▁▁</td></tr><tr><td>metrics_4/episode_return_obj_2</td><td>▁▁</td></tr><tr><td>metrics_4/scalarized_episode_return</td><td>▁▁</td></tr><tr><td>metrics_7/disc_episode_return_obj_0</td><td>▁</td></tr><tr><td>metrics_7/disc_episode_return_obj_1</td><td>▁</td></tr><tr><td>metrics_7/disc_episode_return_obj_2</td><td>▁</td></tr><tr><td>metrics_7/discounted_scalarized_episode_return</td><td>▁</td></tr><tr><td>metrics_7/episode_return_obj_0</td><td>▁</td></tr><tr><td>metrics_7/episode_return_obj_1</td><td>▁</td></tr><tr><td>metrics_7/episode_return_obj_2</td><td>▁</td></tr><tr><td>metrics_7/scalarized_episode_return</td><td>▁</td></tr><tr><td>metrics_8/disc_episode_return_obj_0</td><td>▁▁▁</td></tr><tr><td>metrics_8/disc_episode_return_obj_1</td><td>█▃▁</td></tr><tr><td>metrics_8/disc_episode_return_obj_2</td><td>█▃▁</td></tr><tr><td>metrics_8/discounted_scalarized_episode_return</td><td>█▃▁</td></tr><tr><td>metrics_8/episode_return_obj_0</td><td>▁▁▁</td></tr><tr><td>metrics_8/episode_return_obj_1</td><td>▁▁▁</td></tr><tr><td>metrics_8/episode_return_obj_2</td><td>▁▁▁</td></tr><tr><td>metrics_8/scalarized_episode_return</td><td>▁▁▁</td></tr><tr><td>metrics_9/disc_episode_return_obj_0</td><td>▁</td></tr><tr><td>metrics_9/disc_episode_return_obj_1</td><td>▁</td></tr><tr><td>metrics_9/disc_episode_return_obj_2</td><td>▁</td></tr><tr><td>metrics_9/discounted_scalarized_episode_return</td><td>▁</td></tr><tr><td>metrics_9/episode_return_obj_0</td><td>▁</td></tr><tr><td>metrics_9/episode_return_obj_1</td><td>▁</td></tr><tr><td>metrics_9/episode_return_obj_2</td><td>▁</td></tr><tr><td>metrics_9/scalarized_episode_return</td><td>▁</td></tr></table><br/></div><div class=\"wandb-col\"><h3>Run summary:</h3><br/><table class=\"wandb\"><tr><td>charts_0/epsilon</td><td>0.905</td></tr><tr><td>charts_1/epsilon</td><td>0.81</td></tr><tr><td>charts_2/epsilon</td><td>0.715</td></tr><tr><td>charts_3/epsilon</td><td>0.62</td></tr><tr><td>charts_4/SPS</td><td>1835</td></tr><tr><td>charts_4/episode_time</td><td>0.09082</td></tr><tr><td>charts_4/epsilon</td><td>0.525</td></tr><tr><td>charts_4/timesteps_per_episode</td><td>39</td></tr><tr><td>charts_5/epsilon</td><td>0.43</td></tr><tr><td>charts_6/epsilon</td><td>0.335</td></tr><tr><td>charts_7/SPS</td><td>3312</td></tr><tr><td>charts_7/episode_time</td><td>0.01856</td></tr><tr><td>charts_7/epsilon</td><td>0.24</td></tr><tr><td>charts_7/timesteps_per_episode</td><td>5</td></tr><tr><td>charts_8/SPS</td><td>2830</td></tr><tr><td>charts_8/episode_time</td><td>0.03686</td></tr><tr><td>charts_8/epsilon</td><td>0.145</td></tr><tr><td>charts_8/timesteps_per_episode</td><td>15</td></tr><tr><td>charts_9/SPS</td><td>3889</td></tr><tr><td>charts_9/episode_time</td><td>0.03589</td></tr><tr><td>charts_9/epsilon</td><td>0.05</td></tr><tr><td>charts_9/timesteps_per_episode</td><td>14</td></tr><tr><td>eval/eum</td><td>0.21612</td></tr><tr><td>eval/hypervolume</td><td>3.34868</td></tr><tr><td>eval/sparsity</td><td>0.0243</td></tr><tr><td>eval_0/discounted_vec_0</td><td>0.0</td></tr><tr><td>eval_0/discounted_vec_1</td><td>0.0</td></tr><tr><td>eval_0/discounted_vec_2</td><td>0.0</td></tr><tr><td>eval_0/scalarized_discounted_return</td><td>0.0</td></tr><tr><td>eval_0/scalarized_return</td><td>0.0</td></tr><tr><td>eval_0/vec_0</td><td>0.0</td></tr><tr><td>eval_0/vec_1</td><td>0.0</td></tr><tr><td>eval_0/vec_2</td><td>0.0</td></tr><tr><td>eval_1/discounted_vec_0</td><td>-0.39366</td></tr><tr><td>eval_1/discounted_vec_1</td><td>0.19132</td></tr><tr><td>eval_1/discounted_vec_2</td><td>0.0</td></tr><tr><td>eval_1/scalarized_discounted_return</td><td>0.19132</td></tr><tr><td>eval_1/scalarized_return</td><td>0.4</td></tr><tr><td>eval_1/vec_0</td><td>-0.6</td></tr><tr><td>eval_1/vec_1</td><td>0.4</td></tr><tr><td>eval_1/vec_2</td><td>0.0</td></tr><tr><td>eval_2/discounted_vec_0</td><td>0.0</td></tr><tr><td>eval_2/discounted_vec_1</td><td>0.31381</td></tr><tr><td>eval_2/discounted_vec_2</td><td>0.0</td></tr><tr><td>eval_2/scalarized_discounted_return</td><td>0.05267</td></tr><tr><td>eval_2/scalarized_return</td><td>0.16785</td></tr><tr><td>eval_2/vec_0</td><td>0.0</td></tr><tr><td>eval_2/vec_1</td><td>1.0</td></tr><tr><td>eval_2/vec_2</td><td>0.0</td></tr><tr><td>eval_3/discounted_vec_0</td><td>0.0</td></tr><tr><td>eval_3/discounted_vec_1</td><td>0.0</td></tr><tr><td>eval_3/discounted_vec_2</td><td>0.38742</td></tr><tr><td>eval_3/scalarized_discounted_return</td><td>0.38742</td></tr><tr><td>eval_3/scalarized_return</td><td>1.0</td></tr><tr><td>eval_3/vec_0</td><td>0.0</td></tr><tr><td>eval_3/vec_1</td><td>0.0</td></tr><tr><td>eval_3/vec_2</td><td>1.0</td></tr><tr><td>eval_4/discounted_vec_0</td><td>-0.13122</td></tr><tr><td>eval_4/discounted_vec_1</td><td>0.25105</td></tr><tr><td>eval_4/discounted_vec_2</td><td>0.25105</td></tr><tr><td>eval_4/scalarized_discounted_return</td><td>0.25105</td></tr><tr><td>eval_4/scalarized_return</td><td>0.8</td></tr><tr><td>eval_4/vec_0</td><td>-0.2</td></tr><tr><td>eval_4/vec_1</td><td>0.8</td></tr><tr><td>eval_4/vec_2</td><td>0.8</td></tr><tr><td>eval_5/discounted_vec_0</td><td>0.0</td></tr><tr><td>eval_5/discounted_vec_1</td><td>0.31381</td></tr><tr><td>eval_5/discounted_vec_2</td><td>0.31381</td></tr><tr><td>eval_5/scalarized_discounted_return</td><td>0.18851</td></tr><tr><td>eval_5/scalarized_return</td><td>0.60072</td></tr><tr><td>eval_5/vec_0</td><td>0.0</td></tr><tr><td>eval_5/vec_1</td><td>1.0</td></tr><tr><td>eval_5/vec_2</td><td>1.0</td></tr><tr><td>eval_6/discounted_vec_0</td><td>0.0</td></tr><tr><td>eval_6/discounted_vec_1</td><td>0.31381</td></tr><tr><td>eval_6/discounted_vec_2</td><td>0.31381</td></tr><tr><td>eval_6/scalarized_discounted_return</td><td>0.31381</td></tr><tr><td>eval_6/scalarized_return</td><td>1.0</td></tr><tr><td>eval_6/vec_0</td><td>0.0</td></tr><tr><td>eval_6/vec_1</td><td>1.0</td></tr><tr><td>eval_6/vec_2</td><td>1.0</td></tr><tr><td>eval_7/discounted_vec_0</td><td>-0.162</td></tr><tr><td>eval_7/discounted_vec_1</td><td>0.25105</td></tr><tr><td>eval_7/discounted_vec_2</td><td>0.25105</td></tr><tr><td>eval_7/scalarized_discounted_return</td><td>0.08613</td></tr><tr><td>eval_7/scalarized_return</td><td>0.40072</td></tr><tr><td>eval_7/vec_0</td><td>-0.2</td></tr><tr><td>eval_7/vec_1</td><td>0.8</td></tr><tr><td>eval_7/vec_2</td><td>0.8</td></tr><tr><td>eval_8/discounted_vec_0</td><td>-0.162</td></tr><tr><td>eval_8/discounted_vec_1</td><td>0.25105</td></tr><tr><td>eval_8/discounted_vec_2</td><td>0.25105</td></tr><tr><td>eval_8/scalarized_discounted_return</td><td>0.08141</td></tr><tr><td>eval_8/scalarized_return</td><td>0.38929</td></tr><tr><td>eval_8/vec_0</td><td>-0.2</td></tr><tr><td>eval_8/vec_1</td><td>0.8</td></tr><tr><td>eval_8/vec_2</td><td>0.8</td></tr><tr><td>eval_9/discounted_vec_0</td><td>-0.13122</td></tr><tr><td>eval_9/discounted_vec_1</td><td>0.25105</td></tr><tr><td>eval_9/discounted_vec_2</td><td>0.25105</td></tr><tr><td>eval_9/scalarized_discounted_return</td><td>0.25105</td></tr><tr><td>eval_9/scalarized_return</td><td>0.8</td></tr><tr><td>eval_9/vec_0</td><td>-0.2</td></tr><tr><td>eval_9/vec_1</td><td>0.8</td></tr><tr><td>eval_9/vec_2</td><td>0.8</td></tr><tr><td>global_step</td><td>100000</td></tr><tr><td>losses_0/mean_td_error</td><td>0.0</td></tr><tr><td>losses_0/scalarized_td_error</td><td>0.0</td></tr><tr><td>losses_1/mean_td_error</td><td>0.0001</td></tr><tr><td>losses_1/scalarized_td_error</td><td>0.00015</td></tr><tr><td>losses_2/mean_td_error</td><td>-0.00751</td></tr><tr><td>losses_2/scalarized_td_error</td><td>-0.00156</td></tr><tr><td>losses_3/mean_td_error</td><td>1e-05</td></tr><tr><td>losses_3/scalarized_td_error</td><td>8e-05</td></tr><tr><td>losses_4/mean_td_error</td><td>7e-05</td></tr><tr><td>losses_4/scalarized_td_error</td><td>0.00011</td></tr><tr><td>losses_5/mean_td_error</td><td>0.0</td></tr><tr><td>losses_5/scalarized_td_error</td><td>0.0</td></tr><tr><td>losses_6/mean_td_error</td><td>-0.00647</td></tr><tr><td>losses_6/scalarized_td_error</td><td>-0.00618</td></tr><tr><td>losses_7/mean_td_error</td><td>0.0</td></tr><tr><td>losses_7/scalarized_td_error</td><td>0.0</td></tr><tr><td>losses_8/mean_td_error</td><td>0.0</td></tr><tr><td>losses_8/scalarized_td_error</td><td>0.0</td></tr><tr><td>losses_9/mean_td_error</td><td>0.0</td></tr><tr><td>losses_9/scalarized_td_error</td><td>0.0</td></tr><tr><td>metrics_4/disc_episode_return_obj_0</td><td>0.0</td></tr><tr><td>metrics_4/disc_episode_return_obj_1</td><td>0.01642</td></tr><tr><td>metrics_4/disc_episode_return_obj_2</td><td>0.01642</td></tr><tr><td>metrics_4/discounted_scalarized_episode_return</td><td>0.01642</td></tr><tr><td>metrics_4/episode_return_obj_0</td><td>0.0</td></tr><tr><td>metrics_4/episode_return_obj_1</td><td>1.0</td></tr><tr><td>metrics_4/episode_return_obj_2</td><td>1.0</td></tr><tr><td>metrics_4/scalarized_episode_return</td><td>1.0</td></tr><tr><td>metrics_7/disc_episode_return_obj_0</td><td>-0.59049</td></tr><tr><td>metrics_7/disc_episode_return_obj_1</td><td>0.0</td></tr><tr><td>metrics_7/disc_episode_return_obj_2</td><td>0.0</td></tr><tr><td>metrics_7/discounted_scalarized_episode_return</td><td>-0.23577</td></tr><tr><td>metrics_7/episode_return_obj_0</td><td>-1.0</td></tr><tr><td>metrics_7/episode_return_obj_1</td><td>0.0</td></tr><tr><td>metrics_7/episode_return_obj_2</td><td>0.0</td></tr><tr><td>metrics_7/scalarized_episode_return</td><td>-0.39928</td></tr><tr><td>metrics_8/disc_episode_return_obj_0</td><td>0.0</td></tr><tr><td>metrics_8/disc_episode_return_obj_1</td><td>0.20589</td></tr><tr><td>metrics_8/disc_episode_return_obj_2</td><td>0.20589</td></tr><tr><td>metrics_8/discounted_scalarized_episode_return</td><td>0.12133</td></tr><tr><td>metrics_8/episode_return_obj_0</td><td>0.0</td></tr><tr><td>metrics_8/episode_return_obj_1</td><td>1.0</td></tr><tr><td>metrics_8/episode_return_obj_2</td><td>1.0</td></tr><tr><td>metrics_8/scalarized_episode_return</td><td>0.58929</td></tr><tr><td>metrics_9/disc_episode_return_obj_0</td><td>0.0</td></tr><tr><td>metrics_9/disc_episode_return_obj_1</td><td>0.22877</td></tr><tr><td>metrics_9/disc_episode_return_obj_2</td><td>0.22877</td></tr><tr><td>metrics_9/discounted_scalarized_episode_return</td><td>0.22877</td></tr><tr><td>metrics_9/episode_return_obj_0</td><td>0.0</td></tr><tr><td>metrics_9/episode_return_obj_1</td><td>1.0</td></tr><tr><td>metrics_9/episode_return_obj_2</td><td>1.0</td></tr><tr><td>metrics_9/scalarized_episode_return</td><td>1.0</td></tr></table><br/></div></div>"
            ]
          },
          "metadata": {}
        },
        {
          "output_type": "display_data",
          "data": {
            "text/plain": [
              "<IPython.core.display.HTML object>"
            ],
            "text/html": [
              " View run <strong style=\"color:#cdcd00\">resource-gathering-v0__MultiPolicy MO Q-Learning__None__1690469776</strong> at: <a href='https://wandb.ai/lnalegre/MORL-baselines/runs/8jn5j5ac' target=\"_blank\">https://wandb.ai/lnalegre/MORL-baselines/runs/8jn5j5ac</a><br/> View job at <a href='https://wandb.ai/lnalegre/MORL-baselines/jobs/QXJ0aWZhY3RDb2xsZWN0aW9uOjg1OTMxNjMy/version_details/v18' target=\"_blank\">https://wandb.ai/lnalegre/MORL-baselines/jobs/QXJ0aWZhY3RDb2xsZWN0aW9uOjg1OTMxNjMy/version_details/v18</a><br/>Synced 5 W&B file(s), 10 media file(s), 14 artifact file(s) and 1 other file(s)"
            ]
          },
          "metadata": {}
        },
        {
          "output_type": "display_data",
          "data": {
            "text/plain": [
              "<IPython.core.display.HTML object>"
            ],
            "text/html": [
              "Find logs at: <code>./wandb/run-20230727_145616-8jn5j5ac/logs</code>"
            ]
          },
          "metadata": {}
        }
      ]
    },
    {
      "cell_type": "code",
      "source": [
        "env.pareto_front(0.9)"
      ],
      "metadata": {
        "colab": {
          "base_uri": "https://localhost:8080/"
        },
        "id": "va-S0RXOuuLd",
        "outputId": "951af83f-818e-4721-a575-e496b0c4f02a"
      },
      "id": "va-S0RXOuuLd",
      "execution_count": null,
      "outputs": [
        {
          "output_type": "execute_result",
          "data": {
            "text/plain": [
              "[array([-0.0827,  0.2288,  0.2288]),\n",
              " array([-0.126 ,  0.3487,  0.    ]),\n",
              " array([0.    , 0.    , 0.3487]),\n",
              " array([-0.0478,  0.2059,  0.2059]),\n",
              " array([-0.0478,  0.3138,  0.    ]),\n",
              " array([0.    , 0.2824, 0.    ])]"
            ]
          },
          "metadata": {},
          "execution_count": 8
        }
      ]
    },
    {
      "cell_type": "code",
      "source": [
        "agent.linear_support.ccs"
      ],
      "metadata": {
        "colab": {
          "base_uri": "https://localhost:8080/"
        },
        "id": "L-4h4w7A2RGP",
        "outputId": "643f2635-9a9f-4272-82a5-ea8ceeda7217"
      },
      "id": "L-4h4w7A2RGP",
      "execution_count": null,
      "outputs": [
        {
          "output_type": "execute_result",
          "data": {
            "text/plain": [
              "[array([-0.0849,  0.4209,  0.    ]),\n",
              " array([0.    , 0.3138, 0.    ]),\n",
              " array([0.    , 0.    , 0.3874]),\n",
              " array([-0.1243,  0.2573,  0.2573]),\n",
              " array([-0.1304,  0.2573,  0.2573])]"
            ]
          },
          "metadata": {},
          "execution_count": 20
        }
      ]
    },
    {
      "cell_type": "markdown",
      "source": [
        "### Exercise 2:\n",
        "\n",
        "Use your learned agent and visualize how the learned behaviours change depending on the utility!\n",
        "\n",
        "Use the make_gif function of morl-baselines (https://lucasalegre.github.io/morl-baselines/features/misc/#morl_baselines.common.utils.make_gif).\n",
        "\n",
        "How does the policy for the following linear weights differ?\n",
        "* [0.9, 0.1, 0.0]\n",
        "* [0.3, 0.7, 0.0]\n",
        "* [0.0, 1.0, 0.0]"
      ],
      "metadata": {
        "id": "3aTjgtHXr2o1"
      },
      "id": "3aTjgtHXr2o1"
    },
    {
      "cell_type": "code",
      "source": [
        "from morl_baselines.common.utils import make_gif\n",
        "\n",
        "env2 = mo_gym.make(\"resource-gathering-v0\", render_mode='rgb_array')  # you need to set the render_mode to render the gifs\n",
        "\n",
        "# Your code here:\n",
        "make_gif(env2, agent, weight=np.array([0.9, 0.1, 0.0]), fps=10, fullpath=\"./myagent1\")\n",
        "make_gif(env2, agent, weight=np.array([0.3, 0.7, 0.0]), fps=10, fullpath=\"./myagent2\")\n",
        "make_gif(env2, agent, weight=np.array([0.0, 1.0, 0.0]), fps=10, fullpath=\"./myagent3\")"
      ],
      "metadata": {
        "colab": {
          "base_uri": "https://localhost:8080/"
        },
        "id": "PaNsPhvkr3Ce",
        "outputId": "38f9e11d-d2d2-4549-855a-39d591c0a7ef"
      },
      "id": "PaNsPhvkr3Ce",
      "execution_count": null,
      "outputs": [
        {
          "output_type": "stream",
          "name": "stdout",
          "text": [
            "MoviePy - Building file ./myagent1.gif with imageio.\n"
          ]
        },
        {
          "output_type": "stream",
          "name": "stderr",
          "text": []
        },
        {
          "output_type": "stream",
          "name": "stdout",
          "text": [
            "Saved gif at: ./myagent1.gif\n",
            "MoviePy - Building file ./myagent2.gif with imageio.\n"
          ]
        },
        {
          "output_type": "stream",
          "name": "stderr",
          "text": []
        },
        {
          "output_type": "stream",
          "name": "stdout",
          "text": [
            "Saved gif at: ./myagent2.gif\n",
            "MoviePy - Building file ./myagent3.gif with imageio.\n"
          ]
        },
        {
          "output_type": "stream",
          "name": "stderr",
          "text": [
            "                                                  "
          ]
        },
        {
          "output_type": "stream",
          "name": "stdout",
          "text": [
            "Saved gif at: ./myagent3.gif\n"
          ]
        },
        {
          "output_type": "stream",
          "name": "stderr",
          "text": [
            "\r"
          ]
        }
      ]
    },
    {
      "cell_type": "markdown",
      "source": [
        "## Minecart"
      ],
      "metadata": {
        "id": "68VIpuJCzBAd"
      },
      "id": "68VIpuJCzBAd"
    },
    {
      "cell_type": "markdown",
      "source": [
        "Next, we will play with continuous states and function approximation!"
      ],
      "metadata": {
        "id": "TrWT4HxtIMXv"
      },
      "id": "TrWT4HxtIMXv"
    },
    {
      "cell_type": "code",
      "source": [
        "import gymnasium as gym\n",
        "import mo_gymnasium as mo_gym\n",
        "from mo_gymnasium.utils import MORecordEpisodeStatistics"
      ],
      "metadata": {
        "colab": {
          "base_uri": "https://localhost:8080/"
        },
        "id": "tmH1f_LasqBS",
        "outputId": "a031e91a-18b3-4920-d0fb-f0b5cc4d3c7b"
      },
      "id": "tmH1f_LasqBS",
      "execution_count": null,
      "outputs": [
        {
          "output_type": "stream",
          "name": "stderr",
          "text": [
            "/usr/local/lib/python3.10/dist-packages/gymnasium/core.py:297: UserWarning: \u001b[33mWARN: env.num_envs to get variables from other wrappers is deprecated and will be removed in v1.0, to get this variable you can do `env.unwrapped.num_envs` for environment variables or `env.get_attr('num_envs')` that will search the reminding wrappers.\u001b[0m\n",
            "  logger.warn(\n",
            "/usr/local/lib/python3.10/dist-packages/gymnasium/core.py:297: UserWarning: \u001b[33mWARN: env.reward_space to get variables from other wrappers is deprecated and will be removed in v1.0, to get this variable you can do `env.unwrapped.reward_space` for environment variables or `env.get_attr('reward_space')` that will search the reminding wrappers.\u001b[0m\n",
            "  logger.warn(\n"
          ]
        }
      ]
    },
    {
      "cell_type": "markdown",
      "source": [
        "### Pareto Conditioned Network (PCN)"
      ],
      "metadata": {
        "id": "-y5m18pH9-b-"
      },
      "id": "-y5m18pH9-b-"
    },
    {
      "cell_type": "markdown",
      "source": [
        "Let's solve the Minecart problem (https://mo-gymnasium.farama.org/environments/minecart-deterministic) using PCN (https://lucasalegre.github.io/morl-baselines/algos/multi_policy/pcn)!"
      ],
      "metadata": {
        "id": "0dFhwGLkIT_N"
      },
      "id": "0dFhwGLkIT_N"
    },
    {
      "cell_type": "code",
      "source": [
        "from morl_baselines.multi_policy.pcn.pcn import PCN\n",
        "\n",
        "\n",
        "GAMMA = 1.0\n",
        "\n",
        "env = mo_gym.make(\"minecart-deterministic-v0\")\n",
        "env = MORecordEpisodeStatistics(env, gamma=GAMMA)  # wrapper for recording statistics\n",
        "\n",
        "eval_env = mo_gym.make(\"minecart-deterministic-v0\") # environment used for evaluation\n",
        "\n",
        "agent = PCN(\n",
        "    env,\n",
        "    scaling_factor=np.array([1.0, 1.0, 0.1, 0.1]),\n",
        ")\n",
        "\n",
        "agent.train(1000000,\n",
        "            eval_env=eval_env,\n",
        "            ref_point=np.array([-1,-1,-200]),\n",
        "            max_return=np.array([1.5,1.5,0.0]),\n",
        "            max_buffer_size=200,\n",
        " )"
      ],
      "metadata": {
        "colab": {
          "base_uri": "https://localhost:8080/",
          "height": 1000,
          "referenced_widgets": [
            "4da4b44fdbb643e69977eaf8a741f2e4",
            "0be4c519b8f846d3a39ba4b89bc4494c",
            "ed60a50a4f7840bf8468aa464d88d441",
            "fa786a37ab324b9da94615aef681a00c",
            "273d2eed4c9d4a6992e7e555120e7229",
            "51f052cd124545858054f9537449446d",
            "67a601cc436c49e7b93053e320b608f4",
            "4c88479a1ee3423ab5afd6c096429745"
          ]
        },
        "id": "7nQUAzo39-D7",
        "outputId": "d56eee05-1f6c-4139-fc5e-6aa54fb54fe0"
      },
      "id": "7nQUAzo39-D7",
      "execution_count": null,
      "outputs": [
        {
          "output_type": "display_data",
          "data": {
            "text/plain": [
              "<IPython.core.display.HTML object>"
            ],
            "text/html": [
              "Finishing last run (ID:32as3rpw) before initializing another..."
            ]
          },
          "metadata": {}
        },
        {
          "output_type": "display_data",
          "data": {
            "text/plain": [
              "<IPython.core.display.HTML object>"
            ],
            "text/html": [
              "Waiting for W&B process to finish... <strong style=\"color:green\">(success).</strong>"
            ]
          },
          "metadata": {}
        },
        {
          "output_type": "display_data",
          "data": {
            "text/plain": [
              "VBox(children=(Label(value='0.566 MB of 0.566 MB uploaded (0.000 MB deduped)\\r'), FloatProgress(value=1.0, max…"
            ],
            "application/vnd.jupyter.widget-view+json": {
              "version_major": 2,
              "version_minor": 0,
              "model_id": "4da4b44fdbb643e69977eaf8a741f2e4"
            }
          },
          "metadata": {}
        },
        {
          "output_type": "display_data",
          "data": {
            "text/plain": [
              "<IPython.core.display.HTML object>"
            ],
            "text/html": [
              "<style>\n",
              "    table.wandb td:nth-child(1) { padding: 0 10px; text-align: left ; width: auto;} td:nth-child(2) {text-align: left ; width: 100%}\n",
              "    .wandb-row { display: flex; flex-direction: row; flex-wrap: wrap; justify-content: flex-start; width: 100% }\n",
              "    .wandb-col { display: flex; flex-direction: column; flex-basis: 100%; flex: 1; padding: 10px; }\n",
              "    </style>\n",
              "<div class=\"wandb-row\"><div class=\"wandb-col\"><h3>Run history:</h3><br/><table class=\"wandb\"><tr><td>eval/eum</td><td>▁▆▆████████████</td></tr><tr><td>eval/hypervolume</td><td>▁▆▆████████████</td></tr><tr><td>eval/sparsity</td><td>█▅▅▁▁▁▁▁▁▁▁▁▁▁▁</td></tr><tr><td>global_step</td><td>▁▁▁▁▂▂▃▃▃▃▃▃▄▄▅▅▅▅▅▅▆▆▇▇▇▇▇▇██</td></tr></table><br/></div><div class=\"wandb-col\"><h3>Run summary:</h3><br/><table class=\"wandb\"><tr><td>eval/eum</td><td>5.60456</td></tr><tr><td>eval/hypervolume</td><td>854.85038</td></tr><tr><td>eval/sparsity</td><td>12.61937</td></tr><tr><td>global_step</td><td>150000</td></tr></table><br/></div></div>"
            ]
          },
          "metadata": {}
        },
        {
          "output_type": "display_data",
          "data": {
            "text/plain": [
              "<IPython.core.display.HTML object>"
            ],
            "text/html": [
              " View run <strong style=\"color:#cdcd00\">deep-sea-treasure-v0__Pareto Q-Learning__None__1690233803</strong> at: <a href='https://wandb.ai/lnalegre/MORL-baselines/runs/32as3rpw' target=\"_blank\">https://wandb.ai/lnalegre/MORL-baselines/runs/32as3rpw</a><br/>Synced 5 W&B file(s), 15 media file(s), 18 artifact file(s) and 1 other file(s)"
            ]
          },
          "metadata": {}
        },
        {
          "output_type": "display_data",
          "data": {
            "text/plain": [
              "<IPython.core.display.HTML object>"
            ],
            "text/html": [
              "Find logs at: <code>./wandb/run-20230724_212353-32as3rpw/logs</code>"
            ]
          },
          "metadata": {}
        },
        {
          "output_type": "display_data",
          "data": {
            "text/plain": [
              "<IPython.core.display.HTML object>"
            ],
            "text/html": [
              "Successfully finished last run (ID:32as3rpw). Initializing new run:<br/>"
            ]
          },
          "metadata": {}
        },
        {
          "output_type": "display_data",
          "data": {
            "text/plain": [
              "<IPython.core.display.HTML object>"
            ],
            "text/html": [
              "Tracking run with wandb version 0.15.5"
            ]
          },
          "metadata": {}
        },
        {
          "output_type": "display_data",
          "data": {
            "text/plain": [
              "<IPython.core.display.HTML object>"
            ],
            "text/html": [
              "Run data is saved locally in <code>/content/wandb/run-20230724_222110-g8e88f56</code>"
            ]
          },
          "metadata": {}
        },
        {
          "output_type": "display_data",
          "data": {
            "text/plain": [
              "<IPython.core.display.HTML object>"
            ],
            "text/html": [
              "Syncing run <strong><a href='https://wandb.ai/lnalegre/MORL-baselines/runs/g8e88f56' target=\"_blank\">minecart-deterministic-v0__PCN__None__1690237270</a></strong> to <a href='https://wandb.ai/lnalegre/MORL-baselines' target=\"_blank\">Weights & Biases</a> (<a href='https://wandb.me/run' target=\"_blank\">docs</a>)<br/>"
            ]
          },
          "metadata": {}
        },
        {
          "output_type": "display_data",
          "data": {
            "text/plain": [
              "<IPython.core.display.HTML object>"
            ],
            "text/html": [
              " View project at <a href='https://wandb.ai/lnalegre/MORL-baselines' target=\"_blank\">https://wandb.ai/lnalegre/MORL-baselines</a>"
            ]
          },
          "metadata": {}
        },
        {
          "output_type": "display_data",
          "data": {
            "text/plain": [
              "<IPython.core.display.HTML object>"
            ],
            "text/html": [
              " View run at <a href='https://wandb.ai/lnalegre/MORL-baselines/runs/g8e88f56' target=\"_blank\">https://wandb.ai/lnalegre/MORL-baselines/runs/g8e88f56</a>"
            ]
          },
          "metadata": {}
        },
        {
          "output_type": "stream",
          "name": "stderr",
          "text": [
            "/usr/local/lib/python3.10/dist-packages/morl_baselines/multi_policy/pcn/pcn.py:177: UserWarning: Creating a tensor from a list of numpy.ndarrays is extremely slow. Please consider converting the list to a single numpy.ndarray with numpy.array() before converting to a tensor. (Triggered internally at ../torch/csrc/utils/tensor_new.cpp:245.)\n",
            "  th.tensor(obs).to(self.device),\n"
          ]
        },
        {
          "output_type": "stream",
          "name": "stdout",
          "text": [
            "step 6062 \t return [  0.45       0.38     -12.942019], ([0.59999996 0.50705034 7.158154  ]) \t loss 1.791E+00\n",
            "step 8320 \t return [  0.375      0.385    -15.606035], ([0.32190838 0.34788647 6.6768785 ]) \t loss 1.789E+00\n",
            "step 10573 \t return [  0.3        0.3      -15.596042], ([ 0.501996  0.501996 11.752216]) \t loss 1.788E+00\n",
            "step 12188 \t return [  0.35999998   0.17       -11.290022  ], ([0.5969925 0.3407345 9.013392 ]) \t loss 1.786E+00\n",
            "step 13789 \t return [  0.45       0.55     -10.822019], ([0.32863355 0.3847077  8.187723  ]) \t loss 1.786E+00\n",
            "step 14619 \t return [ 0.15        0.53000003 -6.029998  ], ([0.3074085  0.59169245 2.2210867 ]) \t loss 1.787E+00\n",
            "step 16065 \t return [  0.182      0.368    -10.872014], ([0.29071635 0.520784   6.7859497 ]) \t loss 1.787E+00\n",
            "step 18032 \t return [  0.385        0.14500001 -14.024031  ], ([0.51090604 0.29021543 8.266772  ]) \t loss 1.784E+00\n",
            "step 18990 \t return [ 0.12799999  0.47199997 -6.8460007 ], ([0.20846103 0.5941851  3.290925  ]) \t loss 1.785E+00\n",
            "step 20092 \t return [ 0.19000001  0.51000005 -8.264009  ], ([0.29137605 0.5923681  7.8587465 ]) \t loss 1.783E+00\n",
            "step 21193 \t return [ 0.04       0.06      -7.7920036], ([0.12     0.18     4.302614]) \t loss 1.782E+00\n",
            "step 22166 \t return [ 0.26999998  0.38       -7.106003  ], ([0.33406585 0.47444704 3.8242867 ]) \t loss 1.779E+00\n",
            "step 22931 \t return [ 0.06        0.24000001 -5.719999  ], ([0.18       0.49839744 2.7683218 ]) \t loss 1.775E+00\n",
            "step 23985 \t return [ 0.075     0.075    -7.488003], ([0.22500002 0.22500002 3.3274088 ]) \t loss 1.776E+00\n",
            "step 24812 \t return [ 0.        0.       -5.743998], ([0.       0.       1.765078]) \t loss 1.775E+00\n",
            "step 25525 \t return [ 0.285      0.315     -5.2959986], ([0.35146126 0.3879755  2.4359617 ]) \t loss 1.771E+00\n",
            "step 26037 \t return [ 0.075     0.075    -4.193999], ([0.22500001 0.22500001 1.0628651 ]) \t loss 1.771E+00\n",
            "step 27317 \t return [ 0.075     0.225    -9.360005], ([0.22500001 0.48023432 2.595755  ]) \t loss 1.769E+00\n",
            "step 28798 \t return [  0.282      0.248    -10.732011], ([0.36347765 0.3938731  4.567886  ]) \t loss 1.770E+00\n",
            "step 29365 \t return [ 0.075     0.075    -4.103999], ([0.22500002 0.22500002 1.6902723 ]) \t loss 1.768E+00\n",
            "step 29941 \t return [ 0.04       0.06      -4.0819983], ([0.12      0.18      1.1861002]) \t loss 1.763E+00\n",
            "step 31792 \t return [  0.14       0.31     -12.682024], ([0.28089145 0.5073461  9.5297785 ]) \t loss 1.765E+00\n",
            "step 32801 \t return [ 0.24000001  0.21       -7.047998  ], ([0.36864614 0.3231099  2.5936887 ]) \t loss 1.762E+00\n",
            "step 34509 \t return [  0.25       0.33     -12.286017], ([0.31937438 0.34583235 4.2712846 ]) \t loss 1.763E+00\n",
            "step 35869 \t return [  0.19500001   0.305      -10.120009  ], ([0.3003748  0.46928138 3.7186954 ]) \t loss 1.762E+00\n",
            "step 37570 \t return [  0.375      0.455    -12.582024], ([0.503612  0.5012235 8.020745 ]) \t loss 1.765E+00\n",
            "step 38050 \t return [ 0.15       0.08      -3.4400005], ([0.45000002 0.23999998 2.5905082 ]) \t loss 1.762E+00\n",
            "step 38634 \t return [ 0.         0.        -4.4279985], ([0.        0.        1.7439759]) \t loss 1.756E+00\n",
            "step 39801 \t return [ 0.385     0.365    -8.664011], ([0.47013295 0.45389977 5.369288  ]) \t loss 1.752E+00\n",
            "step 40326 \t return [ 0.        0.       -3.709999], ([0.        0.        0.9202277]) \t loss 1.758E+00\n",
            "step 40662 \t return [ 0.         0.        -2.4119995], ([0.         0.         0.88810784]) \t loss 1.753E+00\n",
            "step 42600 \t return [  0.3        0.3      -13.486025], ([0.50199604 0.501996   6.5932074 ]) \t loss 1.742E+00\n",
            "step 43087 \t return [ 0.         0.        -3.4039989], ([0.        0.        0.9793788]) \t loss 1.743E+00\n",
            "step 43502 \t return [ 0.         0.08      -2.7099996], ([0.         0.24       0.76400244]) \t loss 1.739E+00\n",
            "step 43978 \t return [ 0.        0.15     -3.671999], ([0.         0.45000005 0.9720981 ]) \t loss 1.743E+00\n",
            "step 45570 \t return [  0.35999998   0.39000002 -11.0640135 ], ([0.49386233 0.5161395  6.161282  ]) \t loss 1.735E+00\n",
            "step 46043 \t return [ 0.        0.       -3.525999], ([0.        0.        0.9686708]) \t loss 1.734E+00\n",
            "step 46609 \t return [ 0.12        0.17999999 -3.9119987 ], ([0.24000001 0.35999998 0.9235664 ]) \t loss 1.736E+00\n",
            "step 47744 \t return [ 0.375      0.375     -7.9800024], ([0.38095275 0.38095275 2.8598356 ]) \t loss 1.729E+00\n",
            "step 48165 \t return [ 0.        0.       -2.531999], ([0.        0.        0.4411075]) \t loss 1.735E+00\n",
            "step 48713 \t return [ 0.23499998  0.215      -3.8559985 ], ([0.36609426 0.3361919  0.83851254]) \t loss 1.729E+00\n",
            "step 49210 \t return [ 0.         0.08      -3.7139988], ([0.        0.24      2.4722455]) \t loss 1.725E+00\n",
            "step 49630 \t return [ 0.         0.        -3.1499991], ([0.         0.         0.77713543]) \t loss 1.720E+00\n",
            "step 50076 \t return [ 0.08       0.        -3.0419993], ([0.24      0.        0.8410681]) \t loss 1.720E+00\n",
            "step 51697 \t return [  0.34       0.41     -10.812017], ([0.43058097 0.4877499  4.8530636 ]) \t loss 1.720E+00\n",
            "step 53262 \t return [  0.46999997   0.53       -10.50002   ], ([0.34292856 0.39698866 6.5849285 ]) \t loss 1.722E+00\n",
            "step 54210 \t return [ 0.185      0.215     -6.6559973], ([0.30004168 0.3361919  2.1021283 ]) \t loss 1.720E+00\n",
            "step 55446 \t return [ 0.28        0.26999998 -8.912004  ], ([0.36823905 0.34073448 3.6628501 ]) \t loss 1.718E+00\n",
            "step 56834 \t return [ 0.205       0.34499997 -9.496012  ], ([0.3335041 0.483968  4.0167837]) \t loss 1.726E+00\n",
            "step 57214 \t return [ 0.         0.        -2.3499994], ([0.        0.        0.4007242]) \t loss 1.724E+00\n",
            "step 58724 \t return [  0.585      0.465    -10.030012], ([0.55903935 0.5084535  4.030088  ]) \t loss 1.718E+00\n",
            "step 59246 \t return [ 0.04       0.06      -3.5439987], ([0.11999999 0.18       1.3008238 ]) \t loss 1.716E+00\n",
            "step 59576 \t return [ 0.08       0.        -2.1199996], ([0.24       0.         0.33069614]) \t loss 1.717E+00\n"
          ]
        },
        {
          "output_type": "error",
          "ename": "KeyboardInterrupt",
          "evalue": "ignored",
          "traceback": [
            "\u001b[0;31m---------------------------------------------------------------------------\u001b[0m",
            "\u001b[0;31mKeyboardInterrupt\u001b[0m                         Traceback (most recent call last)",
            "\u001b[0;32m<ipython-input-36-558770b14684>\u001b[0m in \u001b[0;36m<cell line: 16>\u001b[0;34m()\u001b[0m\n\u001b[1;32m     14\u001b[0m )\n\u001b[1;32m     15\u001b[0m \u001b[0;34m\u001b[0m\u001b[0m\n\u001b[0;32m---> 16\u001b[0;31m agent.train(1000000,\n\u001b[0m\u001b[1;32m     17\u001b[0m             \u001b[0meval_env\u001b[0m\u001b[0;34m=\u001b[0m\u001b[0meval_env\u001b[0m\u001b[0;34m,\u001b[0m\u001b[0;34m\u001b[0m\u001b[0;34m\u001b[0m\u001b[0m\n\u001b[1;32m     18\u001b[0m             \u001b[0mref_point\u001b[0m\u001b[0;34m=\u001b[0m\u001b[0mnp\u001b[0m\u001b[0;34m.\u001b[0m\u001b[0marray\u001b[0m\u001b[0;34m(\u001b[0m\u001b[0;34m[\u001b[0m\u001b[0;34m-\u001b[0m\u001b[0;36m1\u001b[0m\u001b[0;34m,\u001b[0m\u001b[0;34m-\u001b[0m\u001b[0;36m1\u001b[0m\u001b[0;34m,\u001b[0m\u001b[0;34m-\u001b[0m\u001b[0;36m200\u001b[0m\u001b[0;34m]\u001b[0m\u001b[0;34m)\u001b[0m\u001b[0;34m,\u001b[0m\u001b[0;34m\u001b[0m\u001b[0;34m\u001b[0m\u001b[0m\n",
            "\u001b[0;32m/usr/local/lib/python3.10/dist-packages/morl_baselines/multi_policy/pcn/pcn.py\u001b[0m in \u001b[0;36mtrain\u001b[0;34m(self, total_timesteps, eval_env, ref_point, known_pareto_front, num_er_episodes, num_step_episodes, num_model_updates, max_return, max_buffer_size, num_points_pf)\u001b[0m\n\u001b[1;32m    440\u001b[0m                 \u001b[0mself\u001b[0m\u001b[0;34m.\u001b[0m\u001b[0msave\u001b[0m\u001b[0;34m(\u001b[0m\u001b[0;34m)\u001b[0m\u001b[0;34m\u001b[0m\u001b[0;34m\u001b[0m\u001b[0m\n\u001b[1;32m    441\u001b[0m                 \u001b[0mn_checkpoints\u001b[0m \u001b[0;34m+=\u001b[0m \u001b[0;36m1\u001b[0m\u001b[0;34m\u001b[0m\u001b[0;34m\u001b[0m\u001b[0m\n\u001b[0;32m--> 442\u001b[0;31m                 \u001b[0me_returns\u001b[0m\u001b[0;34m,\u001b[0m \u001b[0m_\u001b[0m\u001b[0;34m,\u001b[0m \u001b[0m_\u001b[0m \u001b[0;34m=\u001b[0m \u001b[0mself\u001b[0m\u001b[0;34m.\u001b[0m\u001b[0mevaluate\u001b[0m\u001b[0;34m(\u001b[0m\u001b[0meval_env\u001b[0m\u001b[0;34m,\u001b[0m \u001b[0mmax_return\u001b[0m\u001b[0;34m,\u001b[0m \u001b[0mn\u001b[0m\u001b[0;34m=\u001b[0m\u001b[0mnum_points_pf\u001b[0m\u001b[0;34m)\u001b[0m\u001b[0;34m\u001b[0m\u001b[0;34m\u001b[0m\u001b[0m\n\u001b[0m\u001b[1;32m    443\u001b[0m \u001b[0;34m\u001b[0m\u001b[0m\n\u001b[1;32m    444\u001b[0m                 \u001b[0;32mif\u001b[0m \u001b[0mself\u001b[0m\u001b[0;34m.\u001b[0m\u001b[0mlog\u001b[0m\u001b[0;34m:\u001b[0m\u001b[0;34m\u001b[0m\u001b[0;34m\u001b[0m\u001b[0m\n",
            "\u001b[0;32m/usr/local/lib/python3.10/dist-packages/morl_baselines/multi_policy/pcn/pcn.py\u001b[0m in \u001b[0;36mevaluate\u001b[0;34m(self, env, max_return, n)\u001b[0m\n\u001b[1;32m    310\u001b[0m         \u001b[0me_returns\u001b[0m \u001b[0;34m=\u001b[0m \u001b[0;34m[\u001b[0m\u001b[0;34m]\u001b[0m\u001b[0;34m\u001b[0m\u001b[0;34m\u001b[0m\u001b[0m\n\u001b[1;32m    311\u001b[0m         \u001b[0;32mfor\u001b[0m \u001b[0mi\u001b[0m \u001b[0;32min\u001b[0m \u001b[0mrange\u001b[0m\u001b[0;34m(\u001b[0m\u001b[0mn\u001b[0m\u001b[0;34m)\u001b[0m\u001b[0;34m:\u001b[0m\u001b[0;34m\u001b[0m\u001b[0;34m\u001b[0m\u001b[0m\n\u001b[0;32m--> 312\u001b[0;31m             \u001b[0mtransitions\u001b[0m \u001b[0;34m=\u001b[0m \u001b[0mself\u001b[0m\u001b[0;34m.\u001b[0m\u001b[0m_run_episode\u001b[0m\u001b[0;34m(\u001b[0m\u001b[0menv\u001b[0m\u001b[0;34m,\u001b[0m \u001b[0mreturns\u001b[0m\u001b[0;34m[\u001b[0m\u001b[0mi\u001b[0m\u001b[0;34m]\u001b[0m\u001b[0;34m,\u001b[0m \u001b[0mnp\u001b[0m\u001b[0;34m.\u001b[0m\u001b[0mfloat32\u001b[0m\u001b[0;34m(\u001b[0m\u001b[0mhorizons\u001b[0m\u001b[0;34m[\u001b[0m\u001b[0mi\u001b[0m\u001b[0;34m]\u001b[0m \u001b[0;34m-\u001b[0m \u001b[0;36m2\u001b[0m\u001b[0;34m)\u001b[0m\u001b[0;34m,\u001b[0m \u001b[0mmax_return\u001b[0m\u001b[0;34m)\u001b[0m\u001b[0;34m\u001b[0m\u001b[0;34m\u001b[0m\u001b[0m\n\u001b[0m\u001b[1;32m    313\u001b[0m             \u001b[0;31m# compute return\u001b[0m\u001b[0;34m\u001b[0m\u001b[0;34m\u001b[0m\u001b[0m\n\u001b[1;32m    314\u001b[0m             \u001b[0;32mfor\u001b[0m \u001b[0mi\u001b[0m \u001b[0;32min\u001b[0m \u001b[0mreversed\u001b[0m\u001b[0;34m(\u001b[0m\u001b[0mrange\u001b[0m\u001b[0;34m(\u001b[0m\u001b[0mlen\u001b[0m\u001b[0;34m(\u001b[0m\u001b[0mtransitions\u001b[0m\u001b[0;34m)\u001b[0m \u001b[0;34m-\u001b[0m \u001b[0;36m1\u001b[0m\u001b[0;34m)\u001b[0m\u001b[0;34m)\u001b[0m\u001b[0;34m:\u001b[0m\u001b[0;34m\u001b[0m\u001b[0;34m\u001b[0m\u001b[0m\n",
            "\u001b[0;32m/usr/local/lib/python3.10/dist-packages/morl_baselines/multi_policy/pcn/pcn.py\u001b[0m in \u001b[0;36m_run_episode\u001b[0;34m(self, env, desired_return, desired_horizon, max_return)\u001b[0m\n\u001b[1;32m    271\u001b[0m         \u001b[0;32mwhile\u001b[0m \u001b[0;32mnot\u001b[0m \u001b[0mdone\u001b[0m\u001b[0;34m:\u001b[0m\u001b[0;34m\u001b[0m\u001b[0;34m\u001b[0m\u001b[0m\n\u001b[1;32m    272\u001b[0m             \u001b[0maction\u001b[0m \u001b[0;34m=\u001b[0m \u001b[0mself\u001b[0m\u001b[0;34m.\u001b[0m\u001b[0m_act\u001b[0m\u001b[0;34m(\u001b[0m\u001b[0mobs\u001b[0m\u001b[0;34m,\u001b[0m \u001b[0mdesired_return\u001b[0m\u001b[0;34m,\u001b[0m \u001b[0mdesired_horizon\u001b[0m\u001b[0;34m)\u001b[0m\u001b[0;34m\u001b[0m\u001b[0;34m\u001b[0m\u001b[0m\n\u001b[0;32m--> 273\u001b[0;31m             \u001b[0mn_obs\u001b[0m\u001b[0;34m,\u001b[0m \u001b[0mreward\u001b[0m\u001b[0;34m,\u001b[0m \u001b[0mterminated\u001b[0m\u001b[0;34m,\u001b[0m \u001b[0mtruncated\u001b[0m\u001b[0;34m,\u001b[0m \u001b[0m_\u001b[0m \u001b[0;34m=\u001b[0m \u001b[0menv\u001b[0m\u001b[0;34m.\u001b[0m\u001b[0mstep\u001b[0m\u001b[0;34m(\u001b[0m\u001b[0maction\u001b[0m\u001b[0;34m)\u001b[0m\u001b[0;34m\u001b[0m\u001b[0;34m\u001b[0m\u001b[0m\n\u001b[0m\u001b[1;32m    274\u001b[0m             \u001b[0mdone\u001b[0m \u001b[0;34m=\u001b[0m \u001b[0mterminated\u001b[0m \u001b[0;32mor\u001b[0m \u001b[0mtruncated\u001b[0m\u001b[0;34m\u001b[0m\u001b[0;34m\u001b[0m\u001b[0m\n\u001b[1;32m    275\u001b[0m \u001b[0;34m\u001b[0m\u001b[0m\n",
            "\u001b[0;32m/usr/local/lib/python3.10/dist-packages/gymnasium/wrappers/time_limit.py\u001b[0m in \u001b[0;36mstep\u001b[0;34m(self, action)\u001b[0m\n\u001b[1;32m     55\u001b[0m \u001b[0;34m\u001b[0m\u001b[0m\n\u001b[1;32m     56\u001b[0m         \"\"\"\n\u001b[0;32m---> 57\u001b[0;31m         \u001b[0mobservation\u001b[0m\u001b[0;34m,\u001b[0m \u001b[0mreward\u001b[0m\u001b[0;34m,\u001b[0m \u001b[0mterminated\u001b[0m\u001b[0;34m,\u001b[0m \u001b[0mtruncated\u001b[0m\u001b[0;34m,\u001b[0m \u001b[0minfo\u001b[0m \u001b[0;34m=\u001b[0m \u001b[0mself\u001b[0m\u001b[0;34m.\u001b[0m\u001b[0menv\u001b[0m\u001b[0;34m.\u001b[0m\u001b[0mstep\u001b[0m\u001b[0;34m(\u001b[0m\u001b[0maction\u001b[0m\u001b[0;34m)\u001b[0m\u001b[0;34m\u001b[0m\u001b[0;34m\u001b[0m\u001b[0m\n\u001b[0m\u001b[1;32m     58\u001b[0m         \u001b[0mself\u001b[0m\u001b[0;34m.\u001b[0m\u001b[0m_elapsed_steps\u001b[0m \u001b[0;34m+=\u001b[0m \u001b[0;36m1\u001b[0m\u001b[0;34m\u001b[0m\u001b[0;34m\u001b[0m\u001b[0m\n\u001b[1;32m     59\u001b[0m \u001b[0;34m\u001b[0m\u001b[0m\n",
            "\u001b[0;32m/usr/local/lib/python3.10/dist-packages/gymnasium/wrappers/order_enforcing.py\u001b[0m in \u001b[0;36mstep\u001b[0;34m(self, action)\u001b[0m\n\u001b[1;32m     54\u001b[0m         \u001b[0;32mif\u001b[0m \u001b[0;32mnot\u001b[0m \u001b[0mself\u001b[0m\u001b[0;34m.\u001b[0m\u001b[0m_has_reset\u001b[0m\u001b[0;34m:\u001b[0m\u001b[0;34m\u001b[0m\u001b[0;34m\u001b[0m\u001b[0m\n\u001b[1;32m     55\u001b[0m             \u001b[0;32mraise\u001b[0m \u001b[0mResetNeeded\u001b[0m\u001b[0;34m(\u001b[0m\u001b[0;34m\"Cannot call env.step() before calling env.reset()\"\u001b[0m\u001b[0;34m)\u001b[0m\u001b[0;34m\u001b[0m\u001b[0;34m\u001b[0m\u001b[0m\n\u001b[0;32m---> 56\u001b[0;31m         \u001b[0;32mreturn\u001b[0m \u001b[0mself\u001b[0m\u001b[0;34m.\u001b[0m\u001b[0menv\u001b[0m\u001b[0;34m.\u001b[0m\u001b[0mstep\u001b[0m\u001b[0;34m(\u001b[0m\u001b[0maction\u001b[0m\u001b[0;34m)\u001b[0m\u001b[0;34m\u001b[0m\u001b[0;34m\u001b[0m\u001b[0m\n\u001b[0m\u001b[1;32m     57\u001b[0m \u001b[0;34m\u001b[0m\u001b[0m\n\u001b[1;32m     58\u001b[0m     \u001b[0;32mdef\u001b[0m \u001b[0mreset\u001b[0m\u001b[0;34m(\u001b[0m\u001b[0mself\u001b[0m\u001b[0;34m,\u001b[0m \u001b[0;34m**\u001b[0m\u001b[0mkwargs\u001b[0m\u001b[0;34m)\u001b[0m\u001b[0;34m:\u001b[0m\u001b[0;34m\u001b[0m\u001b[0;34m\u001b[0m\u001b[0m\n",
            "\u001b[0;32m/usr/local/lib/python3.10/dist-packages/mo_gymnasium/envs/minecart/minecart.py\u001b[0m in \u001b[0;36mstep\u001b[0;34m(self, action)\u001b[0m\n\u001b[1;32m    463\u001b[0m \u001b[0;34m\u001b[0m\u001b[0m\n\u001b[1;32m    464\u001b[0m             \u001b[0;32mfor\u001b[0m \u001b[0m_\u001b[0m \u001b[0;32min\u001b[0m \u001b[0mrange\u001b[0m\u001b[0;34m(\u001b[0m\u001b[0;36m1\u001b[0m \u001b[0;32mif\u001b[0m \u001b[0mself\u001b[0m\u001b[0;34m.\u001b[0m\u001b[0mincremental_frame_skip\u001b[0m \u001b[0;32melse\u001b[0m \u001b[0mself\u001b[0m\u001b[0;34m.\u001b[0m\u001b[0mframe_skip\u001b[0m\u001b[0;34m)\u001b[0m\u001b[0;34m:\u001b[0m\u001b[0;34m\u001b[0m\u001b[0;34m\u001b[0m\u001b[0m\n\u001b[0;32m--> 465\u001b[0;31m                 \u001b[0mchange\u001b[0m \u001b[0;34m=\u001b[0m \u001b[0mself\u001b[0m\u001b[0;34m.\u001b[0m\u001b[0mcart\u001b[0m\u001b[0;34m.\u001b[0m\u001b[0mstep\u001b[0m\u001b[0;34m(\u001b[0m\u001b[0;34m)\u001b[0m \u001b[0;32mor\u001b[0m \u001b[0mchange\u001b[0m\u001b[0;34m\u001b[0m\u001b[0;34m\u001b[0m\u001b[0m\n\u001b[0m\u001b[1;32m    466\u001b[0m \u001b[0;34m\u001b[0m\u001b[0m\n\u001b[1;32m    467\u001b[0m             \u001b[0mdistanceFromBase\u001b[0m \u001b[0;34m=\u001b[0m \u001b[0mmag\u001b[0m\u001b[0;34m(\u001b[0m\u001b[0mself\u001b[0m\u001b[0;34m.\u001b[0m\u001b[0mcart\u001b[0m\u001b[0;34m.\u001b[0m\u001b[0mpos\u001b[0m \u001b[0;34m-\u001b[0m \u001b[0mHOME_POS\u001b[0m\u001b[0;34m)\u001b[0m\u001b[0;34m\u001b[0m\u001b[0;34m\u001b[0m\u001b[0m\n",
            "\u001b[0;32m/usr/local/lib/python3.10/dist-packages/mo_gymnasium/envs/minecart/minecart.py\u001b[0m in \u001b[0;36mstep\u001b[0;34m(self)\u001b[0m\n\u001b[1;32m    756\u001b[0m         \u001b[0;32mif\u001b[0m \u001b[0mx\u001b[0m \u001b[0;34m!=\u001b[0m \u001b[0;36m0\u001b[0m \u001b[0;32mand\u001b[0m \u001b[0mx\u001b[0m \u001b[0;34m!=\u001b[0m \u001b[0;36m1\u001b[0m \u001b[0;32mand\u001b[0m \u001b[0;34m(\u001b[0m\u001b[0mx_velocity\u001b[0m \u001b[0;34m>\u001b[0m \u001b[0;36m0\u001b[0m \u001b[0;34m+\u001b[0m \u001b[0mEPS_SPEED\u001b[0m \u001b[0;32mor\u001b[0m \u001b[0mx_velocity\u001b[0m \u001b[0;34m<\u001b[0m \u001b[0;36m0\u001b[0m \u001b[0;34m-\u001b[0m \u001b[0mEPS_SPEED\u001b[0m\u001b[0;34m)\u001b[0m\u001b[0;34m:\u001b[0m\u001b[0;34m\u001b[0m\u001b[0;34m\u001b[0m\u001b[0m\n\u001b[1;32m    757\u001b[0m             \u001b[0;32mif\u001b[0m \u001b[0my\u001b[0m \u001b[0;34m==\u001b[0m \u001b[0;36m1\u001b[0m \u001b[0;32mand\u001b[0m \u001b[0my_velocity\u001b[0m \u001b[0;34m>\u001b[0m \u001b[0;36m0\u001b[0m\u001b[0;34m:\u001b[0m\u001b[0;34m\u001b[0m\u001b[0;34m\u001b[0m\u001b[0m\n\u001b[0;32m--> 758\u001b[0;31m                 \u001b[0mself\u001b[0m\u001b[0;34m.\u001b[0m\u001b[0mangle\u001b[0m \u001b[0;34m-=\u001b[0m \u001b[0mmath\u001b[0m\u001b[0;34m.\u001b[0m\u001b[0mcopysign\u001b[0m\u001b[0;34m(\u001b[0m\u001b[0mROTATION\u001b[0m\u001b[0;34m,\u001b[0m \u001b[0mx_velocity\u001b[0m\u001b[0;34m)\u001b[0m\u001b[0;34m\u001b[0m\u001b[0;34m\u001b[0m\u001b[0m\n\u001b[0m\u001b[1;32m    759\u001b[0m \u001b[0;34m\u001b[0m\u001b[0m\n\u001b[1;32m    760\u001b[0m             \u001b[0;32mif\u001b[0m \u001b[0my\u001b[0m \u001b[0;34m==\u001b[0m \u001b[0;36m0\u001b[0m \u001b[0;32mand\u001b[0m \u001b[0my_velocity\u001b[0m \u001b[0;34m<\u001b[0m \u001b[0;36m0\u001b[0m\u001b[0;34m:\u001b[0m\u001b[0;34m\u001b[0m\u001b[0;34m\u001b[0m\u001b[0m\n",
            "\u001b[0;31mKeyboardInterrupt\u001b[0m: "
          ]
        }
      ]
    },
    {
      "cell_type": "markdown",
      "source": [
        "### GPI-Linear Support (GPI-LS)"
      ],
      "metadata": {
        "id": "urqiPz9Z6vo7"
      },
      "id": "urqiPz9Z6vo7"
    },
    {
      "cell_type": "markdown",
      "source": [
        "### Exercise 3"
      ],
      "metadata": {
        "id": "oPeVFTsSI0-P"
      },
      "id": "oPeVFTsSI0-P"
    },
    {
      "cell_type": "markdown",
      "source": [
        "Now try to solve the stochastic version with GPI-LS (https://lucasalegre.github.io/morl-baselines/algos/multi_policy/gpi_pd)!"
      ],
      "metadata": {
        "id": "zH89-26zI9Vr"
      },
      "id": "zH89-26zI9Vr"
    },
    {
      "cell_type": "code",
      "source": [
        "from morl_baselines.multi_policy.gpi_pd.gpi_pd import GPILS\n",
        "\n",
        "GAMMA = 0.98\n",
        "\n",
        "env = mo_gym.make(\"minecart-v0\")\n",
        "env = MORecordEpisodeStatistics(env, gamma=GAMMA)  # wrapper for recording statistics\n",
        "\n",
        "eval_env = mo_gym.make(\"minecart-v0\") # environment used for evaluation\n",
        "\n",
        "# Your code here:\n",
        "agent = GPILS(\n",
        "    env,\n",
        "    per=True,\n",
        "    initial_epsilon=1.0,\n",
        "    final_epsilon=0.05,\n",
        "    epsilon_decay_steps=200000,\n",
        "    target_net_update_freq=200,\n",
        "    gradient_updates=10\n",
        ")\n",
        "\n",
        "agent.train(total_timesteps=200000,\n",
        "            eval_env=eval_env,\n",
        "            ref_point=np.array([-1,-1,-200])\n",
        ")"
      ],
      "metadata": {
        "colab": {
          "base_uri": "https://localhost:8080/",
          "height": 1000
        },
        "id": "AVomV3nf6xE6",
        "outputId": "bd6f7bc5-90c7-449a-bbf0-465866e75478"
      },
      "id": "AVomV3nf6xE6",
      "execution_count": null,
      "outputs": [
        {
          "output_type": "display_data",
          "data": {
            "text/plain": [
              "<IPython.core.display.HTML object>"
            ],
            "text/html": [
              "Finishing last run (ID:g8e88f56) before initializing another..."
            ]
          },
          "metadata": {}
        },
        {
          "output_type": "display_data",
          "data": {
            "text/plain": [
              "<IPython.core.display.HTML object>"
            ],
            "text/html": [
              "Waiting for W&B process to finish... <strong style=\"color:green\">(success).</strong>"
            ]
          },
          "metadata": {}
        },
        {
          "output_type": "display_data",
          "data": {
            "text/plain": [
              "<IPython.core.display.HTML object>"
            ],
            "text/html": [
              "<style>\n",
              "    table.wandb td:nth-child(1) { padding: 0 10px; text-align: left ; width: auto;} td:nth-child(2) {text-align: left ; width: 100%}\n",
              "    .wandb-row { display: flex; flex-direction: row; flex-wrap: wrap; justify-content: flex-start; width: 100% }\n",
              "    .wandb-col { display: flex; flex-direction: column; flex-basis: 100%; flex: 1; padding: 10px; }\n",
              "    </style>\n",
              "<div class=\"wandb-row\"><div class=\"wandb-col\"><h3>Run history:</h3><br/><table class=\"wandb\"><tr><td>eval/eum</td><td>▃▁▄▅▃▄▆▆▆▆▆▆▆▆▆▆▅▆▆▅▆▇▆▆▆▇▆▆▆▇▆▆▅▆▇▆▇▆█▆</td></tr><tr><td>eval/hypervolume</td><td>█▇▆▇▇█▇▇▂█▇▇▇▇█▇▇▇▅▃▇▇▆█▇▇▃▇▇▇▁▆▅▇▇▂▇▇█▇</td></tr><tr><td>eval/sparsity</td><td>▇▇▂▂▂▃▁▁▄▂▁▂▁▁▁█▁▁▁▂▁▁▂▂▁▁▁▁▁▁▁▁▂▂▁▃▁▁▁▁</td></tr><tr><td>global_step</td><td>▁▁▂▂▂▃▃▃▃▃▃▄▄▄▄▄▄▅▅▅▅▅▅▆▆▆▆▆▆▇▇▇▇▇▇▇████</td></tr><tr><td>train/desired_return_0</td><td>▇▄▇▃▅▁▄▇▄▄▃▅▅▃▃▃▃▂▄▅▁▃▇▁▄▇▇▁▃▂▃▂█▃▄▄▃▃▃▅</td></tr><tr><td>train/desired_return_1</td><td>▂▅▁▅▅█▅▃▅▅▆▄▅▆▇▅▅█▅▄▁▅▁▁▆▁▂▅▅▇▇▁▁▅▆▅█▅▆▅</td></tr><tr><td>train/desired_return_2</td><td>▆▇█▅▁▆▇▆▇▇▆▇▇▅▅█▁▆▆▄█▅▇▇▇▇▇▇▇▆▇▇▇▅▄▇▅▇▅▇</td></tr><tr><td>train/entropy</td><td>███████▇▇▇▇▇▆▆▆▆▆▅▅▅▆▅▅▄▃▃▃▃▃▂▂▂▁▁▁▁▂▁▁▁</td></tr><tr><td>train/episode</td><td>▁▁▁▂▂▂▂▂▂▃▃▃▃▃▃▄▄▄▄▄▅▅▅▅▅▅▆▆▆▆▆▇▇▇▇▇▇███</td></tr><tr><td>train/horizon_desired</td><td>▂▂▂▄█▂▃▂▁▁▃▂▁▃▃▁█▂▃▄▁▄▁▁▁▁▁▁▁▂▂▁▁▄▄▂▃▁▃▁</td></tr><tr><td>train/hypervolume</td><td>▁▂▂▃▄▅▅▆▆▆▆▆▆▆▆▆▆▆▆▆▆▆▆▆▆▆▆▆▆▆▆▆▇▇██████</td></tr><tr><td>train/loss</td><td>██████▇▇▇▇▇▆▆▆▆▅▆▅▅▆▅▄▅▄▃▃▃▃▃▂▂▂▁▁▂▁▂▂▁▁</td></tr><tr><td>train/mean_horizon_distance</td><td>▂▃▃▂█▂▂▂▂▁▂▁▁▁▂▁▇▁▁▃▁▂▁▁▁▁▁▁▁▁▁▁▁▂▃▁▂▁▂▁</td></tr><tr><td>train/mean_return_0</td><td>▆▅▅▆▃▃▃▃▁▂▂▁▂▂▄▁▃▄▃▅▃▆▁▁▁▁▁▁▂▅▄▁▁▅▇▃▃▁█▂</td></tr><tr><td>train/mean_return_1</td><td>▆▆▅██▆▇▇▂▄▂▁▂▄▄▂▅▄▅▇▂▆▁▁▁▂▃▁▃▆▄▂▁▆█▄▅▁▇▁</td></tr><tr><td>train/mean_return_2</td><td>▂▁▁▃▆▃▆▅▅▆▅▆▇▄▄▇▃▅▄▃▇▅▇█▇█▇▇▇▅▇▇▇▃▄▆▄█▄█</td></tr><tr><td>train/mean_return_distance_0</td><td>▅▂▅▁▄▂▃▆▃▃▂▅▄▃▁▃▃▁▃▃▁▂▇▁▄▇▇▁▃▁▂▂█▂▂▃▂▂▁▄</td></tr><tr><td>train/mean_return_distance_1</td><td>▂▃▃▃▃▇▃▂▆▅▇▄▅▆▇▆▄█▄▂▁▄▁▁▇▁▁▅▅▆▇▁▁▃▄▄▇▅▄▅</td></tr><tr><td>train/mean_return_distance_2</td><td>▂▅▅▂█▂▂▂▂▁▁▁▁▁▂▂▆▂▁▃▂▂▂▁▁▁▁▁▁▁▁▂▁▂▃▁▂▁▂▁</td></tr></table><br/></div><div class=\"wandb-col\"><h3>Run summary:</h3><br/><table class=\"wandb\"><tr><td>eval/eum</td><td>0.05932</td></tr><tr><td>eval/hypervolume</td><td>934.17215</td></tr><tr><td>eval/sparsity</td><td>1.57886</td></tr><tr><td>global_step</td><td>59576</td></tr><tr><td>train/desired_return_0</td><td>0.96368</td></tr><tr><td>train/desired_return_1</td><td>0.75</td></tr><tr><td>train/desired_return_2</td><td>-2.26</td></tr><tr><td>train/entropy</td><td>441.63425</td></tr><tr><td>train/episode</td><td>550</td></tr><tr><td>train/horizon_desired</td><td>31.0</td></tr><tr><td>train/hypervolume</td><td>980.2123</td></tr><tr><td>train/loss</td><td>1.71653</td></tr><tr><td>train/mean_horizon_distance</td><td>2.0</td></tr><tr><td>train/mean_return_0</td><td>0.08</td></tr><tr><td>train/mean_return_1</td><td>0.0</td></tr><tr><td>train/mean_return_2</td><td>-2.12</td></tr><tr><td>train/mean_return_distance_0</td><td>0.88368</td></tr><tr><td>train/mean_return_distance_1</td><td>0.75</td></tr><tr><td>train/mean_return_distance_2</td><td>0.14</td></tr></table><br/></div></div>"
            ]
          },
          "metadata": {}
        },
        {
          "output_type": "display_data",
          "data": {
            "text/plain": [
              "<IPython.core.display.HTML object>"
            ],
            "text/html": [
              " View run <strong style=\"color:#cdcd00\">minecart-deterministic-v0__PCN__None__1690237270</strong> at: <a href='https://wandb.ai/lnalegre/MORL-baselines/runs/g8e88f56' target=\"_blank\">https://wandb.ai/lnalegre/MORL-baselines/runs/g8e88f56</a><br/>Synced 5 W&B file(s), 52 media file(s), 52 artifact file(s) and 0 other file(s)"
            ]
          },
          "metadata": {}
        },
        {
          "output_type": "display_data",
          "data": {
            "text/plain": [
              "<IPython.core.display.HTML object>"
            ],
            "text/html": [
              "Find logs at: <code>./wandb/run-20230724_222110-g8e88f56/logs</code>"
            ]
          },
          "metadata": {}
        },
        {
          "output_type": "display_data",
          "data": {
            "text/plain": [
              "<IPython.core.display.HTML object>"
            ],
            "text/html": [
              "Successfully finished last run (ID:g8e88f56). Initializing new run:<br/>"
            ]
          },
          "metadata": {}
        },
        {
          "output_type": "display_data",
          "data": {
            "text/plain": [
              "<IPython.core.display.HTML object>"
            ],
            "text/html": [
              "Tracking run with wandb version 0.15.5"
            ]
          },
          "metadata": {}
        },
        {
          "output_type": "display_data",
          "data": {
            "text/plain": [
              "<IPython.core.display.HTML object>"
            ],
            "text/html": [
              "Run data is saved locally in <code>/content/wandb/run-20230724_222801-mndtagsv</code>"
            ]
          },
          "metadata": {}
        },
        {
          "output_type": "display_data",
          "data": {
            "text/plain": [
              "<IPython.core.display.HTML object>"
            ],
            "text/html": [
              "Syncing run <strong><a href='https://wandb.ai/lnalegre/MORL-baselines/runs/mndtagsv' target=\"_blank\">minecart-deterministic-v0__GPI-LS__None__1690237681</a></strong> to <a href='https://wandb.ai/lnalegre/MORL-baselines' target=\"_blank\">Weights & Biases</a> (<a href='https://wandb.me/run' target=\"_blank\">docs</a>)<br/>"
            ]
          },
          "metadata": {}
        },
        {
          "output_type": "display_data",
          "data": {
            "text/plain": [
              "<IPython.core.display.HTML object>"
            ],
            "text/html": [
              " View project at <a href='https://wandb.ai/lnalegre/MORL-baselines' target=\"_blank\">https://wandb.ai/lnalegre/MORL-baselines</a>"
            ]
          },
          "metadata": {}
        },
        {
          "output_type": "display_data",
          "data": {
            "text/plain": [
              "<IPython.core.display.HTML object>"
            ],
            "text/html": [
              " View run at <a href='https://wandb.ai/lnalegre/MORL-baselines/runs/mndtagsv' target=\"_blank\">https://wandb.ai/lnalegre/MORL-baselines/runs/mndtagsv</a>"
            ]
          },
          "metadata": {}
        },
        {
          "output_type": "stream",
          "name": "stdout",
          "text": [
            "CCS: [] CCS size: 0\n",
            "Next weight: [1. 0. 0.]\n",
            "Next weight vector: [1. 0. 0.]\n",
            "Episode infos:\n",
            "Steps: 26, Time: 0.011230000294744968\n",
            "Total Reward: [ 0.    0.   -1.02], Discounted: [ 0.      0.     -0.8909]\n",
            "Scalarized Reward: 0.0, Discounted: 0.0\n",
            "Episode infos:\n",
            "Steps: 231, Time: 6.251953125\n",
            "Total Reward: [  0.7    0.8  -15.12], Discounted: [ 0.0687  0.0785 -5.7549]\n",
            "Scalarized Reward: 0.699999988079071, Discounted: 0.06867963820695877\n",
            "Episode infos:\n",
            "Steps: 75, Time: 2.1308600902557373\n",
            "Total Reward: [ 0.   0.  -5.6], Discounted: [ 0.      0.     -3.9749]\n",
            "Scalarized Reward: 0.0, Discounted: 0.0\n",
            "Episode infos:\n",
            "Steps: 310, Time: 9.98876953125\n",
            "Total Reward: [  0.75     0.75   -20.2001], Discounted: [ 0.0333  0.0333 -6.1631]\n",
            "Scalarized Reward: 0.75, Discounted: 0.03326378017663956\n",
            "Episode infos:\n",
            "Steps: 259, Time: 8.2783203125\n",
            "Total Reward: [  1.5      0.     -17.9801], Discounted: [ 0.1111  0.     -6.7974]\n",
            "Scalarized Reward: 0.0, Discounted: 0.0\n",
            "Episode infos:\n",
            "Steps: 76, Time: 2.241698980331421\n",
            "Total Reward: [ 0.6   0.4  -4.62], Discounted: [ 0.2795  0.1864 -3.2375]\n",
            "Scalarized Reward: 0.4000000059604645, Discounted: 0.18635231256484985\n"
          ]
        }
      ]
    }
  ],
  "metadata": {
    "colab": {
      "provenance": [],
      "toc_visible": true,
      "include_colab_link": true
    },
    "kernelspec": {
      "display_name": "Python 3 (ipykernel)",
      "language": "python",
      "name": "python3"
    },
    "language_info": {
      "codemirror_mode": {
        "name": "ipython",
        "version": 3
      },
      "file_extension": ".py",
      "mimetype": "text/x-python",
      "name": "python",
      "nbconvert_exporter": "python",
      "pygments_lexer": "ipython3",
      "version": "3.9.14"
    },
    "vscode": {
      "interpreter": {
        "hash": "ac2eaa0ea0ebeafcc7822e65e46aa9d4f966f30b695406963e145ea4a91cd4fc"
      }
    },
    "widgets": {
      "application/vnd.jupyter.widget-state+json": {
        "4da4b44fdbb643e69977eaf8a741f2e4": {
          "model_module": "@jupyter-widgets/controls",
          "model_name": "VBoxModel",
          "model_module_version": "1.5.0",
          "state": {
            "_dom_classes": [],
            "_model_module": "@jupyter-widgets/controls",
            "_model_module_version": "1.5.0",
            "_model_name": "VBoxModel",
            "_view_count": null,
            "_view_module": "@jupyter-widgets/controls",
            "_view_module_version": "1.5.0",
            "_view_name": "VBoxView",
            "box_style": "",
            "children": [
              "IPY_MODEL_0be4c519b8f846d3a39ba4b89bc4494c",
              "IPY_MODEL_ed60a50a4f7840bf8468aa464d88d441"
            ],
            "layout": "IPY_MODEL_fa786a37ab324b9da94615aef681a00c"
          }
        },
        "0be4c519b8f846d3a39ba4b89bc4494c": {
          "model_module": "@jupyter-widgets/controls",
          "model_name": "LabelModel",
          "model_module_version": "1.5.0",
          "state": {
            "_dom_classes": [],
            "_model_module": "@jupyter-widgets/controls",
            "_model_module_version": "1.5.0",
            "_model_name": "LabelModel",
            "_view_count": null,
            "_view_module": "@jupyter-widgets/controls",
            "_view_module_version": "1.5.0",
            "_view_name": "LabelView",
            "description": "",
            "description_tooltip": null,
            "layout": "IPY_MODEL_273d2eed4c9d4a6992e7e555120e7229",
            "placeholder": "​",
            "style": "IPY_MODEL_51f052cd124545858054f9537449446d",
            "value": "0.566 MB of 0.566 MB uploaded (0.000 MB deduped)\r"
          }
        },
        "ed60a50a4f7840bf8468aa464d88d441": {
          "model_module": "@jupyter-widgets/controls",
          "model_name": "FloatProgressModel",
          "model_module_version": "1.5.0",
          "state": {
            "_dom_classes": [],
            "_model_module": "@jupyter-widgets/controls",
            "_model_module_version": "1.5.0",
            "_model_name": "FloatProgressModel",
            "_view_count": null,
            "_view_module": "@jupyter-widgets/controls",
            "_view_module_version": "1.5.0",
            "_view_name": "ProgressView",
            "bar_style": "",
            "description": "",
            "description_tooltip": null,
            "layout": "IPY_MODEL_67a601cc436c49e7b93053e320b608f4",
            "max": 1,
            "min": 0,
            "orientation": "horizontal",
            "style": "IPY_MODEL_4c88479a1ee3423ab5afd6c096429745",
            "value": 1
          }
        },
        "fa786a37ab324b9da94615aef681a00c": {
          "model_module": "@jupyter-widgets/base",
          "model_name": "LayoutModel",
          "model_module_version": "1.2.0",
          "state": {
            "_model_module": "@jupyter-widgets/base",
            "_model_module_version": "1.2.0",
            "_model_name": "LayoutModel",
            "_view_count": null,
            "_view_module": "@jupyter-widgets/base",
            "_view_module_version": "1.2.0",
            "_view_name": "LayoutView",
            "align_content": null,
            "align_items": null,
            "align_self": null,
            "border": null,
            "bottom": null,
            "display": null,
            "flex": null,
            "flex_flow": null,
            "grid_area": null,
            "grid_auto_columns": null,
            "grid_auto_flow": null,
            "grid_auto_rows": null,
            "grid_column": null,
            "grid_gap": null,
            "grid_row": null,
            "grid_template_areas": null,
            "grid_template_columns": null,
            "grid_template_rows": null,
            "height": null,
            "justify_content": null,
            "justify_items": null,
            "left": null,
            "margin": null,
            "max_height": null,
            "max_width": null,
            "min_height": null,
            "min_width": null,
            "object_fit": null,
            "object_position": null,
            "order": null,
            "overflow": null,
            "overflow_x": null,
            "overflow_y": null,
            "padding": null,
            "right": null,
            "top": null,
            "visibility": null,
            "width": null
          }
        },
        "273d2eed4c9d4a6992e7e555120e7229": {
          "model_module": "@jupyter-widgets/base",
          "model_name": "LayoutModel",
          "model_module_version": "1.2.0",
          "state": {
            "_model_module": "@jupyter-widgets/base",
            "_model_module_version": "1.2.0",
            "_model_name": "LayoutModel",
            "_view_count": null,
            "_view_module": "@jupyter-widgets/base",
            "_view_module_version": "1.2.0",
            "_view_name": "LayoutView",
            "align_content": null,
            "align_items": null,
            "align_self": null,
            "border": null,
            "bottom": null,
            "display": null,
            "flex": null,
            "flex_flow": null,
            "grid_area": null,
            "grid_auto_columns": null,
            "grid_auto_flow": null,
            "grid_auto_rows": null,
            "grid_column": null,
            "grid_gap": null,
            "grid_row": null,
            "grid_template_areas": null,
            "grid_template_columns": null,
            "grid_template_rows": null,
            "height": null,
            "justify_content": null,
            "justify_items": null,
            "left": null,
            "margin": null,
            "max_height": null,
            "max_width": null,
            "min_height": null,
            "min_width": null,
            "object_fit": null,
            "object_position": null,
            "order": null,
            "overflow": null,
            "overflow_x": null,
            "overflow_y": null,
            "padding": null,
            "right": null,
            "top": null,
            "visibility": null,
            "width": null
          }
        },
        "51f052cd124545858054f9537449446d": {
          "model_module": "@jupyter-widgets/controls",
          "model_name": "DescriptionStyleModel",
          "model_module_version": "1.5.0",
          "state": {
            "_model_module": "@jupyter-widgets/controls",
            "_model_module_version": "1.5.0",
            "_model_name": "DescriptionStyleModel",
            "_view_count": null,
            "_view_module": "@jupyter-widgets/base",
            "_view_module_version": "1.2.0",
            "_view_name": "StyleView",
            "description_width": ""
          }
        },
        "67a601cc436c49e7b93053e320b608f4": {
          "model_module": "@jupyter-widgets/base",
          "model_name": "LayoutModel",
          "model_module_version": "1.2.0",
          "state": {
            "_model_module": "@jupyter-widgets/base",
            "_model_module_version": "1.2.0",
            "_model_name": "LayoutModel",
            "_view_count": null,
            "_view_module": "@jupyter-widgets/base",
            "_view_module_version": "1.2.0",
            "_view_name": "LayoutView",
            "align_content": null,
            "align_items": null,
            "align_self": null,
            "border": null,
            "bottom": null,
            "display": null,
            "flex": null,
            "flex_flow": null,
            "grid_area": null,
            "grid_auto_columns": null,
            "grid_auto_flow": null,
            "grid_auto_rows": null,
            "grid_column": null,
            "grid_gap": null,
            "grid_row": null,
            "grid_template_areas": null,
            "grid_template_columns": null,
            "grid_template_rows": null,
            "height": null,
            "justify_content": null,
            "justify_items": null,
            "left": null,
            "margin": null,
            "max_height": null,
            "max_width": null,
            "min_height": null,
            "min_width": null,
            "object_fit": null,
            "object_position": null,
            "order": null,
            "overflow": null,
            "overflow_x": null,
            "overflow_y": null,
            "padding": null,
            "right": null,
            "top": null,
            "visibility": null,
            "width": null
          }
        },
        "4c88479a1ee3423ab5afd6c096429745": {
          "model_module": "@jupyter-widgets/controls",
          "model_name": "ProgressStyleModel",
          "model_module_version": "1.5.0",
          "state": {
            "_model_module": "@jupyter-widgets/controls",
            "_model_module_version": "1.5.0",
            "_model_name": "ProgressStyleModel",
            "_view_count": null,
            "_view_module": "@jupyter-widgets/base",
            "_view_module_version": "1.2.0",
            "_view_name": "StyleView",
            "bar_color": null,
            "description_width": ""
          }
        }
      }
    }
  },
  "nbformat": 4,
  "nbformat_minor": 5
}