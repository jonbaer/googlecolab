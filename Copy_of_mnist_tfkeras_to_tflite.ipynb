{
  "nbformat": 4,
  "nbformat_minor": 0,
  "metadata": {
    "colab": {
      "name": "Copy of mnist_tfkeras_to_tflite.ipynb",
      "provenance": [],
      "private_outputs": true,
      "collapsed_sections": [],
      "include_colab_link": true
    },
    "kernelspec": {
      "name": "python3",
      "display_name": "Python 3"
    },
    "accelerator": "GPU"
  },
  "cells": [
    {
      "cell_type": "markdown",
      "metadata": {
        "id": "view-in-github",
        "colab_type": "text"
      },
      "source": [
        "<a href=\"https://colab.research.google.com/github/jonbaer/googlecolab/blob/master/Copy_of_mnist_tfkeras_to_tflite.ipynb\" target=\"_parent\"><img src=\"https://colab.research.google.com/assets/colab-badge.svg\" alt=\"Open In Colab\"/></a>"
      ]
    },
    {
      "cell_type": "markdown",
      "metadata": {
        "id": "oY3YSP69c8Hr",
        "colab_type": "text"
      },
      "source": [
        "# End to End: tf.Keras to TF Lite to Android\n",
        "\n",
        "By Margaret Maynard-Reid, updated 6/18/2019\n",
        "\n",
        "This tutorial demonstrates how to train a simple classifier, convert a keras model to tflite model which will then be used on Android.\n",
        "\n",
        " We will create a simple CNN model to classify MNIST digit with [tf.keras](https://www.tensorflow.org/programmers_guide/keras), convert the Keras model to tflite with the TOCO converter, and use the tflite model to create a DigitRecognizer Android app.\n",
        "\n"
      ]
    },
    {
      "cell_type": "markdown",
      "metadata": {
        "id": "S2qmIQonBWmB",
        "colab_type": "toc"
      },
      "source": [
        "**Table of conents**\n",
        "\n",
        ">>>[Installs & Imports](#scrollTo=hlD6Za2otrpz)\n",
        "\n",
        ">>>[Get MNIST dataset](#scrollTo=P4vs-cagt0XD)\n",
        "\n",
        ">>>[Preprocess data](#scrollTo=0P1C_0ZXux7N)\n",
        "\n",
        ">>>[Create the model](#scrollTo=JEkp9ZrNwCl0)\n",
        "\n",
        ">>>[Inspect model architecture](#scrollTo=RVkPFj5D_qRy)\n",
        "\n",
        ">>>[Train the model](#scrollTo=o94eQubW6EMb)\n",
        "\n",
        ">>>[Save a Keras model](#scrollTo=1x0Cxiyb25KA)\n",
        "\n",
        ">>>[Convert Keras model to TensorFlow Lite model](#scrollTo=yi9B0yFR5J1b)\n",
        "\n",
        ">>>[Download the tflite model for Android](#scrollTo=2lrX0Bj97jor)\n",
        "\n"
      ]
    },
    {
      "cell_type": "markdown",
      "metadata": {
        "id": "hlD6Za2otrpz",
        "colab_type": "text"
      },
      "source": [
        "### Installs & Imports"
      ]
    },
    {
      "cell_type": "code",
      "metadata": {
        "id": "iKA_IsssrQcl",
        "colab_type": "code",
        "colab": {}
      },
      "source": [
        "# !pip install tf-nightly-2.0-preview"
      ],
      "execution_count": 0,
      "outputs": []
    },
    {
      "cell_type": "code",
      "metadata": {
        "id": "4Da1szfTk1Px",
        "colab_type": "code",
        "colab": {}
      },
      "source": [
        "# Inport TensorFlow and tf.keras\n",
        "import tensorflow as tf\n",
        "keras = tf.keras\n",
        "\n",
        "# Import helper libraries\n",
        "import numpy as np\n",
        "import matplotlib.pyplot as plt\n",
        "\n",
        "# Import date for tflite file name\n",
        "from datetime import date\n",
        "\n",
        "# Print TensorFlow version\n",
        "tf.__version__"
      ],
      "execution_count": 0,
      "outputs": []
    },
    {
      "cell_type": "markdown",
      "metadata": {
        "id": "P4vs-cagt0XD",
        "colab_type": "text"
      },
      "source": [
        "### Get MNIST dataset"
      ]
    },
    {
      "cell_type": "code",
      "metadata": {
        "id": "o3tavj6Dtpx3",
        "colab_type": "code",
        "colab": {}
      },
      "source": [
        "(x_train, y_train), (x_test, y_test) = keras.datasets.mnist.load_data()\n",
        "\n",
        "print(\"x_train shape:\", x_train.shape, \"y_train shape:\", y_train.shape)"
      ],
      "execution_count": 0,
      "outputs": []
    },
    {
      "cell_type": "markdown",
      "metadata": {
        "id": "0P1C_0ZXux7N",
        "colab_type": "text"
      },
      "source": [
        "### Preprocess data\n",
        "Next we will reshape the input image from 28x28 to 28x28x1, normalize it and one-hot encode the labels."
      ]
    },
    {
      "cell_type": "code",
      "metadata": {
        "id": "Ge0HvdoBuLg9",
        "colab_type": "code",
        "colab": {}
      },
      "source": [
        "num_classes = 10\n",
        "x_train = x_train.astype('float32')\n",
        "x_test = x_test.astype('float32')\n",
        "\n",
        "# Normalize the input data\n",
        "x_train = x_train.astype('float32') / 255\n",
        "x_test = x_test.astype('float32') / 255\n",
        "\n",
        "# Reshape input data from (28, 28) to (28, 28, 1)\n",
        "w, h = 28, 28\n",
        "x_train = x_train.reshape(x_train.shape[0], w, h, 1)\n",
        "x_test = x_test.reshape(x_test.shape[0], w, h, 1)\n",
        "\n",
        "# One-hot encode the labels\n",
        "y_train = keras.utils.to_categorical(y_train, num_classes)\n",
        "y_test = keras.utils.to_categorical(y_test, num_classes)\n",
        "\n",
        "# Take a look at the dataset shape after conversion with keras.utils.to_categorical\n",
        "print(\"x_train shape:\", x_train.shape, \"y_train shape:\", y_train.shape)"
      ],
      "execution_count": 0,
      "outputs": []
    },
    {
      "cell_type": "markdown",
      "metadata": {
        "id": "JEkp9ZrNwCl0",
        "colab_type": "text"
      },
      "source": [
        "### Create the model\n",
        "\n",
        "There are 3 ways to define a model in tf.Keras:\n",
        "1. Sequential model API\n",
        "2. Functional API\n",
        "3. Model subclassing\n",
        "\n",
        "We will create a simple Convolutional Neural Network with tf.Keras Sequential model API."
      ]
    },
    {
      "cell_type": "code",
      "metadata": {
        "id": "PcJmINMbvJNI",
        "colab_type": "code",
        "colab": {}
      },
      "source": [
        "def create_model():\n",
        "  \n",
        "  # Define the model architecture\n",
        "  model = keras.models.Sequential([\n",
        "    # Must define the input shape in the first layer of the neural network\n",
        "    keras.layers.Conv2D(filters=32, kernel_size=3, padding='same', activation='relu', input_shape=(28,28,1)),\n",
        "    keras.layers.MaxPooling2D(pool_size=2),\n",
        "    keras.layers.Dropout(0.3),\n",
        "\n",
        "    keras.layers.Conv2D(filters=64, kernel_size=3, padding='same', activation='relu'),\n",
        "    keras.layers.MaxPooling2D(pool_size=2),\n",
        "    keras.layers.Dropout(0.3),\n",
        "\n",
        "    keras.layers.Flatten(),\n",
        "    keras.layers.Dense(128, activation='relu'),\n",
        "    keras.layers.Dropout(0.5),\n",
        "    keras.layers.Dense(10, activation='softmax')\n",
        "  ])\n",
        "  \n",
        "  # Compile the model\n",
        "  model.compile(loss=keras.losses.categorical_crossentropy,\n",
        "         optimizer=keras.optimizers.Adam(),\n",
        "         metrics=['accuracy'])\n",
        "      \n",
        "  return model"
      ],
      "execution_count": 0,
      "outputs": []
    },
    {
      "cell_type": "markdown",
      "metadata": {
        "id": "RVkPFj5D_qRy",
        "colab_type": "text"
      },
      "source": [
        "### Inspect model architecture\n",
        "Let's take a look at the model architecture"
      ]
    },
    {
      "cell_type": "code",
      "metadata": {
        "id": "y_ohfbxK-wJH",
        "colab_type": "code",
        "colab": {}
      },
      "source": [
        "model = create_model()\n",
        "\n",
        "# Take a look at the model summary\n",
        "model.summary()"
      ],
      "execution_count": 0,
      "outputs": []
    },
    {
      "cell_type": "markdown",
      "metadata": {
        "id": "o94eQubW6EMb",
        "colab_type": "text"
      },
      "source": [
        "### Train the model"
      ]
    },
    {
      "cell_type": "code",
      "metadata": {
        "id": "iLvBMV6ewO8H",
        "colab_type": "code",
        "colab": {}
      },
      "source": [
        "%%time \n",
        "model.fit(x_train,\n",
        "         y_train,\n",
        "         batch_size=64,\n",
        "         epochs=3,\n",
        "         validation_data=(x_test, y_test))"
      ],
      "execution_count": 0,
      "outputs": []
    },
    {
      "cell_type": "markdown",
      "metadata": {
        "id": "1x0Cxiyb25KA",
        "colab_type": "text"
      },
      "source": [
        "### Save a Keras model\n",
        "We will use the save_model() method to save a Keras model in .h5 format"
      ]
    },
    {
      "cell_type": "code",
      "metadata": {
        "id": "ScdmzQPcwftI",
        "colab_type": "code",
        "colab": {}
      },
      "source": [
        "# Save tf.keras model in HDF5 format\n",
        "keras_model = \"mnist_keras_model.h5\"\n",
        "keras.models.save_model(model, keras_model)"
      ],
      "execution_count": 0,
      "outputs": []
    },
    {
      "cell_type": "markdown",
      "metadata": {
        "id": "yi9B0yFR5J1b",
        "colab_type": "text"
      },
      "source": [
        " ### Convert Keras model to TensorFlow Lite model\n",
        " \n",
        " Now let's convert the Keras model to TensorFlow Lite format. \n",
        " \n",
        " It is recommended that you do the model conversion through Python code; however, in case you don't have access to your model code, you can also convert the model through command line. "
      ]
    },
    {
      "cell_type": "code",
      "metadata": {
        "id": "pI8SeGfl3F4C",
        "colab_type": "code",
        "colab": {}
      },
      "source": [
        "# converter=tf.contrib.lite.TocoConverter.from_keras_model_file(keras_model) # TF 1.11.0\n",
        "# converter=tf.contrib.lite.TFLiteConverter.from_keras_model_file(keras_model) # TF 1.12 or 1.13\n",
        "converter = tf.lite.TFLiteConverter.from_keras_model_file(keras_model) # TF 2.0\n",
        "tflite_model = converter.convert()\n",
        "tflite_model_file_name = \"mnist_\" + version + \"_\" + str(date.today()) + \".tflite\"\n",
        "open(tflite_model_file_name, \"wb\").write(tflite_model)"
      ],
      "execution_count": 0,
      "outputs": []
    },
    {
      "cell_type": "markdown",
      "metadata": {
        "id": "2lrX0Bj97jor",
        "colab_type": "text"
      },
      "source": [
        "### Download the tflite model for Android\n",
        "Let's verify the tflite model has been generated and download it to use in your mobile app such as Android."
      ]
    },
    {
      "cell_type": "code",
      "metadata": {
        "id": "o2vfLYC17c_o",
        "colab_type": "code",
        "colab": {}
      },
      "source": [
        "# Take a look at the files in the directory\n",
        "import os\n",
        "os.listdir(\".\")"
      ],
      "execution_count": 0,
      "outputs": []
    },
    {
      "cell_type": "code",
      "metadata": {
        "id": "aEyS9vie7dbv",
        "colab_type": "code",
        "colab": {}
      },
      "source": [
        "# Download the .tflite model file for deployment\n",
        "from google.colab import files\n",
        "files.download(tflite_model_file_name) "
      ],
      "execution_count": 0,
      "outputs": []
    }
  ]
}