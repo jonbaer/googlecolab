{
  "nbformat": 4,
  "nbformat_minor": 0,
  "metadata": {
    "colab": {
      "provenance": [],
      "gpuType": "V100",
      "include_colab_link": true
    },
    "kernelspec": {
      "name": "python3",
      "display_name": "Python 3"
    },
    "language_info": {
      "name": "python"
    },
    "accelerator": "GPU"
  },
  "cells": [
    {
      "cell_type": "markdown",
      "metadata": {
        "id": "view-in-github",
        "colab_type": "text"
      },
      "source": [
        "<a href=\"https://colab.research.google.com/github/jonbaer/googlecolab/blob/master/SimplerMambaSSM.ipynb\" target=\"_parent\"><img src=\"https://colab.research.google.com/assets/colab-badge.svg\" alt=\"Open In Colab\"/></a>"
      ]
    },
    {
      "cell_type": "code",
      "execution_count": null,
      "metadata": {
        "colab": {
          "base_uri": "https://localhost:8080/"
        },
        "id": "boUz4Cj6N1ZM",
        "outputId": "97bf8e11-9601-44e5-d0a2-03cefd685617"
      },
      "outputs": [
        {
          "output_type": "stream",
          "name": "stdout",
          "text": [
            "Collecting mamba-ssm\n",
            "  Downloading mamba_ssm-1.0.1.tar.gz (28 kB)\n",
            "  Preparing metadata (setup.py) ... \u001b[?25l\u001b[?25hdone\n",
            "Collecting causal-conv1d\n",
            "  Downloading causal_conv1d-1.0.0.tar.gz (6.4 kB)\n",
            "  Preparing metadata (setup.py) ... \u001b[?25l\u001b[?25hdone\n",
            "Requirement already satisfied: torch in /usr/local/lib/python3.10/dist-packages (from mamba-ssm) (2.1.0+cu118)\n",
            "Requirement already satisfied: packaging in /usr/local/lib/python3.10/dist-packages (from mamba-ssm) (23.2)\n",
            "Collecting ninja (from mamba-ssm)\n",
            "  Downloading ninja-1.11.1.1-py2.py3-none-manylinux1_x86_64.manylinux_2_5_x86_64.whl (307 kB)\n",
            "\u001b[2K     \u001b[90m━━━━━━━━━━━━━━━━━━━━━━━━━━━━━━━━━━━━━━━━\u001b[0m \u001b[32m307.2/307.2 kB\u001b[0m \u001b[31m4.1 MB/s\u001b[0m eta \u001b[36m0:00:00\u001b[0m\n",
            "\u001b[?25hCollecting einops (from mamba-ssm)\n",
            "  Downloading einops-0.7.0-py3-none-any.whl (44 kB)\n",
            "\u001b[2K     \u001b[90m━━━━━━━━━━━━━━━━━━━━━━━━━━━━━━━━━━━━━━━━\u001b[0m \u001b[32m44.6/44.6 kB\u001b[0m \u001b[31m6.0 MB/s\u001b[0m eta \u001b[36m0:00:00\u001b[0m\n",
            "\u001b[?25hRequirement already satisfied: triton in /usr/local/lib/python3.10/dist-packages (from mamba-ssm) (2.1.0)\n",
            "Requirement already satisfied: transformers in /usr/local/lib/python3.10/dist-packages (from mamba-ssm) (4.35.2)\n",
            "Requirement already satisfied: filelock in /usr/local/lib/python3.10/dist-packages (from torch->mamba-ssm) (3.13.1)\n",
            "Requirement already satisfied: typing-extensions in /usr/local/lib/python3.10/dist-packages (from torch->mamba-ssm) (4.5.0)\n",
            "Requirement already satisfied: sympy in /usr/local/lib/python3.10/dist-packages (from torch->mamba-ssm) (1.12)\n",
            "Requirement already satisfied: networkx in /usr/local/lib/python3.10/dist-packages (from torch->mamba-ssm) (3.2.1)\n",
            "Requirement already satisfied: jinja2 in /usr/local/lib/python3.10/dist-packages (from torch->mamba-ssm) (3.1.2)\n",
            "Requirement already satisfied: fsspec in /usr/local/lib/python3.10/dist-packages (from torch->mamba-ssm) (2023.6.0)\n",
            "Requirement already satisfied: huggingface-hub<1.0,>=0.16.4 in /usr/local/lib/python3.10/dist-packages (from transformers->mamba-ssm) (0.19.4)\n",
            "Requirement already satisfied: numpy>=1.17 in /usr/local/lib/python3.10/dist-packages (from transformers->mamba-ssm) (1.23.5)\n",
            "Requirement already satisfied: pyyaml>=5.1 in /usr/local/lib/python3.10/dist-packages (from transformers->mamba-ssm) (6.0.1)\n",
            "Requirement already satisfied: regex!=2019.12.17 in /usr/local/lib/python3.10/dist-packages (from transformers->mamba-ssm) (2023.6.3)\n",
            "Requirement already satisfied: requests in /usr/local/lib/python3.10/dist-packages (from transformers->mamba-ssm) (2.31.0)\n",
            "Requirement already satisfied: tokenizers<0.19,>=0.14 in /usr/local/lib/python3.10/dist-packages (from transformers->mamba-ssm) (0.15.0)\n",
            "Requirement already satisfied: safetensors>=0.3.1 in /usr/local/lib/python3.10/dist-packages (from transformers->mamba-ssm) (0.4.1)\n",
            "Requirement already satisfied: tqdm>=4.27 in /usr/local/lib/python3.10/dist-packages (from transformers->mamba-ssm) (4.66.1)\n",
            "Requirement already satisfied: MarkupSafe>=2.0 in /usr/local/lib/python3.10/dist-packages (from jinja2->torch->mamba-ssm) (2.1.3)\n",
            "Requirement already satisfied: charset-normalizer<4,>=2 in /usr/local/lib/python3.10/dist-packages (from requests->transformers->mamba-ssm) (3.3.2)\n",
            "Requirement already satisfied: idna<4,>=2.5 in /usr/local/lib/python3.10/dist-packages (from requests->transformers->mamba-ssm) (3.6)\n",
            "Requirement already satisfied: urllib3<3,>=1.21.1 in /usr/local/lib/python3.10/dist-packages (from requests->transformers->mamba-ssm) (2.0.7)\n",
            "Requirement already satisfied: certifi>=2017.4.17 in /usr/local/lib/python3.10/dist-packages (from requests->transformers->mamba-ssm) (2023.11.17)\n",
            "Requirement already satisfied: mpmath>=0.19 in /usr/local/lib/python3.10/dist-packages (from sympy->torch->mamba-ssm) (1.3.0)\n",
            "Building wheels for collected packages: mamba-ssm, causal-conv1d\n",
            "  Building wheel for mamba-ssm (setup.py) ... \u001b[?25l\u001b[?25hdone\n",
            "  Created wheel for mamba-ssm: filename=mamba_ssm-1.0.1-cp310-cp310-linux_x86_64.whl size=146663012 sha256=71ad1b1eafb05a6e8a41fd82e046fe85511d6378fa3a583e55215b6aa1d65ab9\n",
            "  Stored in directory: /root/.cache/pip/wheels/08/cf/65/cc589985f9689241fe2c154ce1c60738f58a24e76ce474cc20\n",
            "  Building wheel for causal-conv1d (setup.py) ... \u001b[?25l\u001b[?25hdone\n",
            "  Created wheel for causal-conv1d: filename=causal_conv1d-1.0.0-cp310-cp310-linux_x86_64.whl size=9172611 sha256=79a4bab633ebff031e615d5e8ba396b0dc0c046f4406980ee238fb86a9090038\n",
            "  Stored in directory: /root/.cache/pip/wheels/9a/48/f5/eb0c6d6d8e00131eaa57927b537a23832b37e2f01b801d9c5d\n",
            "Successfully built mamba-ssm causal-conv1d\n",
            "Installing collected packages: ninja, einops, causal-conv1d, mamba-ssm\n",
            "Successfully installed causal-conv1d-1.0.0 einops-0.7.0 mamba-ssm-1.0.1 ninja-1.11.1.1\n"
          ]
        }
      ],
      "source": [
        "!pip install mamba-ssm causal-conv1d"
      ]
    },
    {
      "cell_type": "code",
      "source": [
        "!wget https://raw.githubusercontent.com/karpathy/char-rnn/master/data/tinyshakespeare/input.txt"
      ],
      "metadata": {
        "id": "jIYu0grlX8sD"
      },
      "execution_count": null,
      "outputs": []
    },
    {
      "cell_type": "code",
      "source": [
        "!mkdir differentattention"
      ],
      "metadata": {
        "id": "b4hR736M5eNT"
      },
      "execution_count": null,
      "outputs": []
    },
    {
      "cell_type": "code",
      "source": [
        "import torch\n",
        "import torch.nn as nn\n",
        "from torch.nn import  functional as F\n",
        "from torch.nn.parameter import Parameter\n",
        "from tqdm import tqdm\n",
        "from mamba_ssm import Mamba\n",
        "#hyperparams\n",
        "epochs = 100\n",
        "lr = 1e-3\n",
        "batch_size = 64\n",
        "block_size = 512\n",
        "device = \"cuda\" if torch.cuda.is_available() else \"cpu\"\n",
        "max_iters = 10000\n",
        "print_iters = 100\n",
        "eval_iters = 10\n",
        "eval_interval = 300\n",
        "n_embed=384\n",
        "n_heads = 6\n",
        "n_layers = 12\n",
        "dropout = 0.2\n",
        "# ---------\n",
        "with open(\"input.txt\", \"r\") as f:\n",
        "  text = f.read()\n",
        "\n",
        "# Unique characters\n",
        "chars = sorted(list(set(text)))\n",
        "print(''.join(chars))\n",
        "vocab_size = len(chars)\n",
        "print(vocab_size)\n",
        "\n",
        "#Tokenizers\n",
        "stoi = {ch:i for i,ch in enumerate(chars)}\n",
        "itos = {i:ch for i,ch in enumerate(chars)}\n",
        "encode = lambda xx: [stoi[x] for x in xx]\n",
        "decode = lambda xx: ''.join([itos[x] for x in xx])\n",
        "encode(\"Hello!\")\n",
        "print(decode(encode(\"Hello!\")))\n",
        "\n",
        "\n",
        "# train and test splits\n",
        "data = torch.tensor(encode(text), dtype=torch.long)\n",
        "n = int(len(data)*0.9)\n",
        "train_data = data[:n]\n",
        "val_data = data[n:]\n",
        "\n",
        "def get_batch(split):\n",
        "  # generate targets and context\n",
        "  if split == \"train\":\n",
        "    data = train_data\n",
        "  else:\n",
        "    data = val_data\n",
        "  index = torch.randint(0,len(data)-block_size,(batch_size,))\n",
        "  x = torch.stack([data[ind:ind+block_size] for ind in index])\n",
        "  y = torch.stack([data[ind+1:ind+block_size+1] for ind in index])\n",
        "  return x.to(device),y.to(device)\n",
        "\n",
        "\n",
        "@torch.no_grad()\n",
        "def estimate_loss():\n",
        "  out = {}\n",
        "  model.eval()\n",
        "  for split in ['train', 'test']:\n",
        "    losses = torch.zeros(eval_iters)\n",
        "    for k in range(eval_iters):\n",
        "      X,Y = get_batch(split)\n",
        "      logits, loss = model(X,Y)\n",
        "      losses[k] = loss.item()\n",
        "    out[split] = losses.mean()\n",
        "  model.train()\n",
        "  return out\n",
        "\n",
        "\n",
        "class SelfAttentionHead(nn.Module):\n",
        "  def __init__(self, head_size):\n",
        "    super().__init__()\n",
        "    self.keys = nn.Linear(n_embed, head_size)\n",
        "    self.queries = nn.Linear(n_embed, head_size)\n",
        "    self.values = nn.Linear(n_embed, head_size)\n",
        "    self.head_size = head_size\n",
        "    self.n_embed = n_embed\n",
        "    self.register_buffer('tril', torch.tril(torch.ones((block_size,block_size))).to(device))\n",
        "    self.dropout = nn.Dropout(dropout)\n",
        "\n",
        "  def forward(self, x):\n",
        "    B,T,C = x.shape\n",
        "    k = self.keys(x) # (B,T,C_h)\n",
        "    q = self.queries(x) # (B,T,C_h)\n",
        "    v = self.values(x) # (B,T,C_h)\n",
        "    wei = k @ q.transpose(-1,-2) * C**(-0.5)# (B,T,T)\n",
        "    wei = wei.masked_fill( self.tril[:T,:T]==0, float('-inf'))\n",
        "    # wei = F.softmax(wei, dim=-1) # (B,T,T)\n",
        "    wei = torch.log(torch.exp(wei)+1) # (B,T,T)\n",
        "    wei = self.dropout(wei)\n",
        "    out = wei @ v # (B,T,C_h)\n",
        "    return out\n",
        "\n",
        "\n",
        "class LayerNorm(nn.Module):\n",
        "  def __init__(self, dim) -> None:\n",
        "    super().__init__()\n",
        "    self.eps = 1e-5\n",
        "    # params\n",
        "    self.gamma = nn.Parameter(torch.ones(dim))\n",
        "    self.beta = nn.Parameter(torch.zeros(dim))\n",
        "\n",
        "  def forward(self, x):\n",
        "    xmean = x.mean(dim=1, keepdim=True)\n",
        "    xvar = ((x-xmean)**2).mean(dim=1, keepdim=True)\n",
        "    xhat = (x-xmean) / torch.sqrt(xvar + self.eps)\n",
        "    self.out = self.gamma * xhat + self.beta\n",
        "    return self.out\n",
        "\n",
        "  def parameters(self):\n",
        "    return [self.gamma, self.beta]\n",
        "\n",
        "class MultiHeadAttention(nn.Module):\n",
        "  def __init__(self, n_heads, head_size) -> None:\n",
        "    super().__init__()\n",
        "    self.heads = nn.ModuleList([SelfAttentionHead(head_size) for _ in range(n_heads)])\n",
        "    self.proj = nn.Linear(n_embed, n_embed)\n",
        "    self.dropout = nn.Dropout(dropout)\n",
        "\n",
        "  def forward(self, x):\n",
        "    B,T,C = x.shape\n",
        "    out = torch.cat([head(x) for head in self.heads], dim=-1)\n",
        "    out = self.proj(out)\n",
        "    out = self.dropout(out)\n",
        "    return out\n",
        "\n",
        "class FeedForward(nn.Module):\n",
        "  def __init__(self, n_embed) -> None:\n",
        "    super().__init__()\n",
        "    self.ffn = nn.Sequential(\n",
        "      nn.Linear(n_embed, 4*n_embed),\n",
        "      nn.ReLU(),\n",
        "      nn.Linear(4*n_embed, n_embed),\n",
        "      nn.Dropout(dropout),\n",
        "    )\n",
        "  def forward(self, x):\n",
        "    return self.ffn(x)\n",
        "\n",
        "class Block(nn.Module):\n",
        "  def __init__(self, n_embed, n_heads) -> None:\n",
        "    super().__init__()\n",
        "    self.head_size = n_embed // n_heads\n",
        "    # self.sa_head = MultiHeadAttention(n_heads, self.head_size)\n",
        "    self.sa_head = Mamba(\n",
        "      # This module uses roughly 3 * expand * d_model^2 parameters\n",
        "      d_model=n_embed, # Model dimension d_model\n",
        "      d_state=16,  # SSM state expansion factor\n",
        "      d_conv=4,    # Local convolution width\n",
        "      expand=2,    # Block expansion factor\n",
        "  ).to(\"cuda\")\n",
        "    self.ffn = FeedForward(n_embed)\n",
        "    self.ln1 = LayerNorm(n_embed)\n",
        "    self.ln2 = LayerNorm(n_embed)\n",
        "\n",
        "\n",
        "  def forward(self, x):\n",
        "    x = x + self.sa_head(self.ln1(x))\n",
        "    x = x + self.ffn(self.ln2(x))\n",
        "\n",
        "    return x\n",
        "\n",
        "class BigramNeuralNetwork(nn.Module):\n",
        "  def __init__(self,vocab_size):\n",
        "    super().__init__()\n",
        "    self.token_embedding_table = nn.Embedding(vocab_size,n_embed)\n",
        "    self.position_embedding_table = nn.Embedding(block_size,n_embed)\n",
        "    self.sa_head = MultiHeadAttention(4,int(n_embed/4))\n",
        "    self.lm_head = nn.Linear(n_embed,vocab_size)\n",
        "    self.ffn = FeedForward(n_embed)\n",
        "    self.blocks = nn.Sequential(*[Block(n_embed,n_heads=n_heads) for _ in range(n_layers)])\n",
        "\n",
        "\n",
        "  def forward(self, idx, targets=None):\n",
        "    # idx = idx[:,-block_size:]\n",
        "    B,T = idx.shape\n",
        "    tok_emb = self.token_embedding_table(idx) # (B,T,C_e)\n",
        "    pos_emb = self.position_embedding_table(torch.arange(T,device=device)) # (T,C_e)\n",
        "    x = tok_emb + pos_emb # (B,T,C_e)\n",
        "    x = self.blocks(x) # (B,T,C_e)\n",
        "    logits = self.lm_head(x) # (B,T,vocab_size)\n",
        "    if targets is None:\n",
        "      loss = None\n",
        "    else:\n",
        "      B,T,C = logits.shape\n",
        "      logits = logits.view(B*T,C)\n",
        "      targets = targets.view(B*T)\n",
        "      loss = F.cross_entropy(logits, targets)\n",
        "      logits = logits.view(B,T,C)\n",
        "    return logits, loss\n",
        "  def generate(self, idx, max_new_tokens):\n",
        "    # idx is (B,T)\n",
        "    idx_next = []\n",
        "    for i in range(max_new_tokens):\n",
        "      idx_cond = idx[:,-block_size:]\n",
        "      logits, loss = self(idx_cond)\n",
        "      last_timestep = logits[:,-1,:]\n",
        "      probs = F.softmax(last_timestep, dim=1)\n",
        "      next_index = torch.multinomial(probs, num_samples=1)\n",
        "      idx = torch.cat((idx, next_index), dim=1)\n",
        "    for arr in idx:\n",
        "      print(decode(arr.cpu().detach().numpy()))\n",
        "    return idx\n",
        "\n",
        "model = BigramNeuralNetwork(vocab_size)\n",
        "optimizer = torch.optim.AdamW(model.parameters(),lr=lr)\n",
        "\n",
        "# checkpoint = torch.load('model.pt')\n",
        "# model.load_state_dict(checkpoint['model_state_dict'])\n",
        "# optimizer.load_state_dict(checkpoint['optimizer_state_dict'])\n",
        "# epoch = checkpoint['epoch']\n",
        "checkpoint_path = None#\"./differentattention/model_40.pt\"\n",
        "epoch = 0\n",
        "if checkpoint_path:\n",
        "  checkpoint = torch.load(checkpoint_path)\n",
        "  print(checkpoint)\n",
        "  if checkpoint['model_state_dict']:\n",
        "    model.load_state_dict(checkpoint['model_state_dict'].to(device))\n",
        "  if checkpoint['optimizer_state_dict']:\n",
        "    optimizer.load_state_dict(checkpoint['optimizer_state_dict'])\n",
        "  epoch = checkpoint['epoch']\n",
        "device = \"cuda\"\n",
        "m = model.to(device)\n",
        "print(\"Uses device \" + device)\n",
        "MODEL_CHECKPOINT = \"./differentattention/model_{iter}.pt\"\n",
        "losses_data = {\"train\":[], \"test\":[]}\n",
        "for iter in tqdm(range(epoch ,max_iters)):\n",
        "  if iter % eval_iters == 0:\n",
        "    losses = estimate_loss()\n",
        "    losses_data['train'].append(losses['train'].cpu().numpy())\n",
        "    losses_data['test'].append(losses['test'].cpu().numpy())\n",
        "    print(f\"Step {iter}, train loss:{losses['train']:.4f}, test loss:{losses['test']:.4f}\")\n",
        "\n",
        "  if iter % print_iters == 0:\n",
        "    losses = estimate_loss()\n",
        "    torch.save({\n",
        "            'epoch': iter,\n",
        "            'model_state_dict': model.state_dict(),\n",
        "            'optimizer_state_dict': optimizer.state_dict(),\n",
        "            'loss': losses,\n",
        "            }, MODEL_CHECKPOINT.format(iter=iter))\n",
        "    losses_data['train'].append(losses['train'].cpu().numpy())\n",
        "    losses_data['test'].append(losses['test'].cpu().numpy())\n",
        "    model.eval()\n",
        "    with torch.no_grad():\n",
        "      #Generate from the model:\n",
        "      output = m.generate(torch.zeros((1,2), dtype=torch.long).to(device).contiguous(), 1000  )[0].tolist()\n",
        "\n",
        "    print(f\"Step {iter}, train loss:{losses['train']:.4f}, test loss:{losses['test']:.4f}\")\n",
        "    model.train()\n",
        "\n",
        "  #Get data\n",
        "  xb,yb = get_batch(\"train\")\n",
        "\n",
        "  #Evaluate loss\n",
        "  logits,loss = model(xb,yb)\n",
        "  optimizer.zero_grad(set_to_none=True)\n",
        "  loss.backward()\n",
        "  optimizer.step()\n",
        "torch.save(model.state_dict(), \"./differentattention/model.pt\")\n",
        "#Generate from the model:\n",
        "output = m.generate(torch.zeros((1,2), dtype=torch.long).to(device),1000)[0].tolist()\n"
      ],
      "metadata": {
        "colab": {
          "base_uri": "https://localhost:8080/"
        },
        "id": "2lECw6S4N7cn",
        "outputId": "d98b8041-3235-4f9c-abd2-c3d27b3de1ad"
      },
      "execution_count": null,
      "outputs": [
        {
          "output_type": "stream",
          "name": "stdout",
          "text": [
            "\n",
            " !$&',-.3:;?ABCDEFGHIJKLMNOPQRSTUVWXYZabcdefghijklmnopqrstuvwxyz\n",
            "65\n",
            "Hello!\n",
            "Uses device cuda\n"
          ]
        },
        {
          "output_type": "stream",
          "name": "stderr",
          "text": [
            "\r  0%|          | 0/10000 [00:00<?, ?it/s]"
          ]
        },
        {
          "output_type": "stream",
          "name": "stdout",
          "text": [
            "Step 0, train loss:4.5426, test loss:4.5502\n",
            "\n",
            "\n",
            "oFP&ZdPo$iqu,Mq3kSuyYyqut-oyJbBe,&bMyz$TAUb.zPuvtS?kC-mT';ohL:XUIaIyEx$oUW-H$kp$lZHtq3MJXRap$eCc?IlDIoRV'\n",
            "cSKhyJfsYXuQUpTdBOiBLWaPS&Q'Nq$Mj&qwxDLgvEjP zaR'OtSgqdJnSEMP:KuR\n",
            "SEs3oamy\n",
            "hxGl!clDaseLG-kYoqk WdVpUgGX-C'qdh3iLWrVbJHCusRFlkgkWRlFUCzuoZV F!J.gxa&&-oU!LNIPorgDmeRDFiUp$-LuQSoFaPHwqDV-3L qKzeLfeow-eL&fMra$OIh'aOp$g'Dr-VXhcEh;'bvoqw DNRFNFWFxN  B;NI-LKE\n",
            "NFKE-F'o;LR NqAPNWFTd.dvWcr-ARgdh$DFgnFh'&gF$,I:-AXWCIXsNH,vboc-RDeFOdtDvb-F'r-boFB-A$EB;P-N.Is?DIH,DS;LgaIqrIeLuRVVCd\n",
            "COhcFrHEoDsB,D,LXNM-LcRgSKIW- FLe.E:KPD'V vo&o-Wn\n",
            "HIg-k EVjdYaF-ksBxNyFvS:PYBxxoc,SxBOHkHDF&WFrXNkODuohK\n",
            "sLi-c.KrDvs&kFOIWvsLocIj'eIQTTDcT\n",
            "?cU;,rDElDXaoe$\n",
            "Fgn$IoFRVzSvNo\n",
            "cFLH?cEbC,SaB&LK3HaWBsUUaouWgorvbTE'Ii-trBDucFO-?EHBgDNgnBNcFwAB'aeLocFFaUsLRv?ebxFGIfuI3NDB\n",
            "$NnFFoLJzNcL?Vk,MUid;xmjx$HaIQmAFD'I-eaX WFODDgJqsUSHLiNHAtWFEF aFe,FXFFsaUBiegAFAOjWFEMMoaocnafCu?LuIhMW P MBD,R',OqsJBd!IxIcw NcnKIDIo,EFvh;vmrcU;dz,Lea,gF&--L,a$eLEcEL-xgw gacg-iqgsnvaUS;NDWO,,bUBe&KAFj$uGwjDHeBbs B BDrU!JBBBFgnEEJMBSPPC,DF dDdN:MLexvXIN?L\n",
            "Step 0, train loss:4.5428, test loss:4.5501\n"
          ]
        },
        {
          "output_type": "stream",
          "name": "stderr",
          "text": [
            "  0%|          | 10/10000 [00:23<1:34:58,  1.75it/s]"
          ]
        },
        {
          "output_type": "stream",
          "name": "stdout",
          "text": [
            "Step 10, train loss:6.5828, test loss:6.6301\n"
          ]
        },
        {
          "output_type": "stream",
          "name": "stderr",
          "text": [
            "  0%|          | 20/10000 [00:28<56:03,  2.97it/s]"
          ]
        },
        {
          "output_type": "stream",
          "name": "stdout",
          "text": [
            "Step 20, train loss:3.1930, test loss:3.2462\n"
          ]
        },
        {
          "output_type": "stream",
          "name": "stderr",
          "text": [
            "  0%|          | 30/10000 [00:33<54:58,  3.02it/s]"
          ]
        },
        {
          "output_type": "stream",
          "name": "stdout",
          "text": [
            "Step 30, train loss:2.4966, test loss:2.5259\n"
          ]
        },
        {
          "output_type": "stream",
          "name": "stderr",
          "text": [
            "  0%|          | 40/10000 [00:38<55:37,  2.98it/s]"
          ]
        },
        {
          "output_type": "stream",
          "name": "stdout",
          "text": [
            "Step 40, train loss:2.2535, test loss:2.2777\n"
          ]
        },
        {
          "output_type": "stream",
          "name": "stderr",
          "text": [
            "  0%|          | 50/10000 [00:43<56:02,  2.96it/s]"
          ]
        },
        {
          "output_type": "stream",
          "name": "stdout",
          "text": [
            "Step 50, train loss:2.1123, test loss:2.1576\n"
          ]
        },
        {
          "output_type": "stream",
          "name": "stderr",
          "text": [
            "  1%|          | 60/10000 [00:48<55:12,  3.00it/s]"
          ]
        },
        {
          "output_type": "stream",
          "name": "stdout",
          "text": [
            "Step 60, train loss:2.0101, test loss:2.0666\n"
          ]
        },
        {
          "output_type": "stream",
          "name": "stderr",
          "text": [
            "  1%|          | 70/10000 [00:53<54:53,  3.02it/s]"
          ]
        },
        {
          "output_type": "stream",
          "name": "stdout",
          "text": [
            "Step 70, train loss:1.9212, test loss:1.9988\n"
          ]
        },
        {
          "output_type": "stream",
          "name": "stderr",
          "text": [
            "  1%|          | 80/10000 [00:58<56:22,  2.93it/s]"
          ]
        },
        {
          "output_type": "stream",
          "name": "stdout",
          "text": [
            "Step 80, train loss:1.8356, test loss:1.9525\n"
          ]
        },
        {
          "output_type": "stream",
          "name": "stderr",
          "text": [
            "  1%|          | 90/10000 [01:03<55:02,  3.00it/s]"
          ]
        },
        {
          "output_type": "stream",
          "name": "stdout",
          "text": [
            "Step 90, train loss:1.7839, test loss:1.9065\n"
          ]
        },
        {
          "output_type": "stream",
          "name": "stderr",
          "text": [
            "  1%|          | 100/10000 [01:08<54:53,  3.01it/s]"
          ]
        },
        {
          "output_type": "stream",
          "name": "stdout",
          "text": [
            "Step 100, train loss:1.7176, test loss:1.8715\n",
            "\n",
            "\n",
            "ordreeders be streene,\n",
            "Nastinition.\n",
            "Why, and many:\n",
            "That, this them make speak'd tal it I day:\n",
            "Your by strunce swe erevent is onourst movisoments,\n",
            "And, I slaidy lord's ecome, thy boes bebeing rive affordrepece a Nrop theirseran a goodion\n",
            "And and them he consty-s, iptose.\n",
            "\n",
            "CATULES:\n",
            "Gres for age bady, that you foucy ongn;\n",
            "Fillates have dethal ancont,\n",
            "but to begrand to you on nement Juee.\n",
            "\n",
            "First undily en it thee, from ques,\n",
            "Fike outer:\n",
            "Lord, wark's make speak way boing in thee\n",
            "Thall shit halm of read, and for heart to it highopreit in Grace.\n",
            "I helcome spembom: eaching; a ge spition Edward, is not, flucinst:\n",
            "Where loss, and Bet thine should of me, and Clade thy\n",
            "as make unfoul command at vairs:\n",
            "As be fair print have seep of Heier, you tycence deach sody. Than bay say hose\n",
            "That go yeate, burch'd your Dunger that be;\n",
            "And you, you cruek their tween, my branchan dider---longsand them screech find.'?\n",
            "\n",
            "DUKE OF YORK:\n",
            "Thy, surple call'd you your poich, my dution,\n",
            "And with hord,---surets\n",
            "When le kin\n",
            "Step 100, train loss:1.7219, test loss:1.8658\n"
          ]
        },
        {
          "output_type": "stream",
          "name": "stderr",
          "text": [
            "  1%|          | 110/10000 [01:32<1:33:55,  1.75it/s]"
          ]
        },
        {
          "output_type": "stream",
          "name": "stdout",
          "text": [
            "Step 110, train loss:1.6788, test loss:1.8459\n"
          ]
        },
        {
          "output_type": "stream",
          "name": "stderr",
          "text": [
            "  1%|          | 120/10000 [01:37<55:38,  2.96it/s]"
          ]
        },
        {
          "output_type": "stream",
          "name": "stdout",
          "text": [
            "Step 120, train loss:1.6382, test loss:1.8279\n"
          ]
        },
        {
          "output_type": "stream",
          "name": "stderr",
          "text": [
            "  1%|▏         | 130/10000 [01:42<54:39,  3.01it/s]"
          ]
        },
        {
          "output_type": "stream",
          "name": "stdout",
          "text": [
            "Step 130, train loss:1.6091, test loss:1.8095\n"
          ]
        },
        {
          "output_type": "stream",
          "name": "stderr",
          "text": [
            "  1%|▏         | 140/10000 [01:47<55:22,  2.97it/s]"
          ]
        },
        {
          "output_type": "stream",
          "name": "stdout",
          "text": [
            "Step 140, train loss:1.5674, test loss:1.7781\n"
          ]
        },
        {
          "output_type": "stream",
          "name": "stderr",
          "text": [
            "  2%|▏         | 150/10000 [01:52<54:33,  3.01it/s]"
          ]
        },
        {
          "output_type": "stream",
          "name": "stdout",
          "text": [
            "Step 150, train loss:1.5516, test loss:1.7406\n"
          ]
        },
        {
          "output_type": "stream",
          "name": "stderr",
          "text": [
            "  2%|▏         | 160/10000 [01:57<54:27,  3.01it/s]"
          ]
        },
        {
          "output_type": "stream",
          "name": "stdout",
          "text": [
            "Step 160, train loss:1.5234, test loss:1.7248\n"
          ]
        },
        {
          "output_type": "stream",
          "name": "stderr",
          "text": [
            "  2%|▏         | 170/10000 [02:02<55:32,  2.95it/s]"
          ]
        },
        {
          "output_type": "stream",
          "name": "stdout",
          "text": [
            "Step 170, train loss:1.5019, test loss:1.7124\n"
          ]
        },
        {
          "output_type": "stream",
          "name": "stderr",
          "text": [
            "  2%|▏         | 180/10000 [02:07<54:17,  3.01it/s]"
          ]
        },
        {
          "output_type": "stream",
          "name": "stdout",
          "text": [
            "Step 180, train loss:1.4805, test loss:1.7058\n"
          ]
        },
        {
          "output_type": "stream",
          "name": "stderr",
          "text": [
            "  2%|▏         | 190/10000 [02:12<54:24,  3.01it/s]"
          ]
        },
        {
          "output_type": "stream",
          "name": "stdout",
          "text": [
            "Step 190, train loss:1.4647, test loss:1.6905\n"
          ]
        },
        {
          "output_type": "stream",
          "name": "stderr",
          "text": [
            "  2%|▏         | 200/10000 [02:17<55:23,  2.95it/s]"
          ]
        },
        {
          "output_type": "stream",
          "name": "stdout",
          "text": [
            "Step 200, train loss:1.4341, test loss:1.6635\n",
            "\n",
            "\n",
            "ereteral?\n",
            "\n",
            "erill too, let her heavener; look the pewer; and the small\n",
            "The kingdom foul-request tempeties:\n",
            "Alade to use groan thee; her to some worth thet?\n",
            "\n",
            "YORK:\n",
            "Adward likest track marry?\n",
            "Go the sinst would regentleman's threathradies\n",
            "And repay; when thirst to be all; whese were we lad,\n",
            "To the Morder-st! thince that whitor From thee shall like of\n",
            "Wold thy forthympers' thee we be all,\n",
            "And to thiust with thee whating hither faith;\n",
            "Whilst ne'er her a gentleman, they thou libed\n",
            "With out within and truck, now! Bolingbrokes thus can,\n",
            "And thoxe to my lord: I know a--play---\n",
            "outh threeds to Mentar't Clarence, conscient:\n",
            "'Tis kingdisle, though the thild\n",
            "You have posies And still do bids, you on't.\n",
            "So doth Ladethat this loast:\n",
            "They'ir good poth or full and ruble to thy old?\n",
            "\n",
            "Dirch Marsher:\n",
            "This, 'tis doubt that we\n",
            "do one tooth temption.\n",
            "Conse? sceeping passion faulina.\n",
            "\n",
            "BASTUCFIFIUS:\n",
            "His so well, for Clarence your eye\n",
            "By fooled sating--\n",
            "\n",
            "Flourd:\n",
            "Pusio no London thou hast but; I show breatch,\n",
            "Th\n",
            "Step 200, train loss:1.4335, test loss:1.6569\n"
          ]
        },
        {
          "output_type": "stream",
          "name": "stderr",
          "text": [
            "  2%|▏         | 210/10000 [02:42<1:32:53,  1.76it/s]"
          ]
        },
        {
          "output_type": "stream",
          "name": "stdout",
          "text": [
            "Step 210, train loss:1.4228, test loss:1.6452\n"
          ]
        },
        {
          "output_type": "stream",
          "name": "stderr",
          "text": [
            "  2%|▏         | 220/10000 [02:47<54:55,  2.97it/s]"
          ]
        },
        {
          "output_type": "stream",
          "name": "stdout",
          "text": [
            "Step 220, train loss:1.4089, test loss:1.6454\n"
          ]
        },
        {
          "output_type": "stream",
          "name": "stderr",
          "text": [
            "  2%|▏         | 230/10000 [02:52<1:01:37,  2.64it/s]"
          ]
        },
        {
          "output_type": "stream",
          "name": "stdout",
          "text": [
            "Step 230, train loss:1.4062, test loss:1.6280\n"
          ]
        },
        {
          "output_type": "stream",
          "name": "stderr",
          "text": [
            "  2%|▏         | 240/10000 [02:57<54:19,  2.99it/s]"
          ]
        },
        {
          "output_type": "stream",
          "name": "stdout",
          "text": [
            "Step 240, train loss:1.3942, test loss:1.6193\n"
          ]
        },
        {
          "output_type": "stream",
          "name": "stderr",
          "text": [
            "  2%|▎         | 250/10000 [03:02<53:56,  3.01it/s]"
          ]
        },
        {
          "output_type": "stream",
          "name": "stdout",
          "text": [
            "Step 250, train loss:1.3759, test loss:1.5968\n"
          ]
        },
        {
          "output_type": "stream",
          "name": "stderr",
          "text": [
            "  3%|▎         | 260/10000 [03:07<54:47,  2.96it/s]"
          ]
        },
        {
          "output_type": "stream",
          "name": "stdout",
          "text": [
            "Step 260, train loss:1.3549, test loss:1.6205\n"
          ]
        },
        {
          "output_type": "stream",
          "name": "stderr",
          "text": [
            "  3%|▎         | 270/10000 [03:12<54:22,  2.98it/s]"
          ]
        },
        {
          "output_type": "stream",
          "name": "stdout",
          "text": [
            "Step 270, train loss:1.3374, test loss:1.5921\n"
          ]
        },
        {
          "output_type": "stream",
          "name": "stderr",
          "text": [
            "  3%|▎         | 280/10000 [03:17<53:36,  3.02it/s]"
          ]
        },
        {
          "output_type": "stream",
          "name": "stdout",
          "text": [
            "Step 280, train loss:1.3391, test loss:1.5820\n"
          ]
        },
        {
          "output_type": "stream",
          "name": "stderr",
          "text": [
            "  3%|▎         | 290/10000 [03:22<54:00,  3.00it/s]"
          ]
        },
        {
          "output_type": "stream",
          "name": "stdout",
          "text": [
            "Step 290, train loss:1.3292, test loss:1.5844\n"
          ]
        },
        {
          "output_type": "stream",
          "name": "stderr",
          "text": [
            "  3%|▎         | 300/10000 [03:27<54:47,  2.95it/s]"
          ]
        },
        {
          "output_type": "stream",
          "name": "stdout",
          "text": [
            "Step 300, train loss:1.3054, test loss:1.5712\n",
            "\n",
            "\n",
            "unk'st Die!'tistion, you'ld you intent,\n",
            "Romeo can your brother: yet your countenmed?\n",
            "Most toward young without of your courty,--cousin's a\n",
            "giost, God's daughter, nor Lancaster your lord.\n",
            "\n",
            "Senator:\n",
            "May we more, was your stare.\n",
            "\n",
            "MENENIUS:\n",
            "This you best ready? Romeo, Edward: God's good cozate\n",
            "His, Caarer Lord Angelo.\n",
            "3 KING HENRY, sir, I may both thy sour's ecough.\n",
            "\n",
            "DUKE VINCENTIO:\n",
            "By God's wonder, and I'ld your fletty you shall rest.\n",
            "\n",
            "CORIOLANUS:\n",
            "Husbandy come, begin me.\n",
            "\n",
            "MISABELLA:\n",
            "How well--shall bone speak.\n",
            "\n",
            "NORTHUMBERLAND:\n",
            "My Cause, you are so you.\n",
            "\n",
            "GLOUCESTER:\n",
            "Why comfort,--'dista, so, how is my foule.\n",
            "\n",
            "JULIET:\n",
            "No you,--o.\n",
            "\n",
            "LUCIO:\n",
            "And Laius, I'll not to you reyord?\n",
            "\n",
            "CAPULET:\n",
            "You next, another, Aufidon Porson.\n",
            "\n",
            "ISABELLA:\n",
            "Out one, faithfully, unwoman!\n",
            "\n",
            "VOLUMNIA:\n",
            "Towant: Ay, whom you pray\n",
            "Loudly cannot your hand;' 'twas, you, lapp'd you, it do?\n",
            "How wandle provoidence,--\n",
            "\n",
            "VOLUMNIA:\n",
            "No,--I't Pompey-waters, thou know'st\n",
            "Thunking? Why, if you be senate'en me: you did talk'd\n",
            "Your phant; her\n",
            "Step 300, train loss:1.3069, test loss:1.5780\n"
          ]
        },
        {
          "output_type": "stream",
          "name": "stderr",
          "text": [
            "  3%|▎         | 310/10000 [03:50<1:29:51,  1.80it/s]"
          ]
        },
        {
          "output_type": "stream",
          "name": "stdout",
          "text": [
            "Step 310, train loss:1.2880, test loss:1.5567\n"
          ]
        },
        {
          "output_type": "stream",
          "name": "stderr",
          "text": [
            "  3%|▎         | 320/10000 [03:55<55:17,  2.92it/s]"
          ]
        },
        {
          "output_type": "stream",
          "name": "stdout",
          "text": [
            "Step 320, train loss:1.2841, test loss:1.5609\n"
          ]
        },
        {
          "output_type": "stream",
          "name": "stderr",
          "text": [
            "  3%|▎         | 330/10000 [04:01<54:41,  2.95it/s]"
          ]
        },
        {
          "output_type": "stream",
          "name": "stdout",
          "text": [
            "Step 330, train loss:1.2697, test loss:1.5725\n"
          ]
        },
        {
          "output_type": "stream",
          "name": "stderr",
          "text": [
            "  3%|▎         | 340/10000 [04:06<53:25,  3.01it/s]"
          ]
        },
        {
          "output_type": "stream",
          "name": "stdout",
          "text": [
            "Step 340, train loss:1.2699, test loss:1.5671\n"
          ]
        },
        {
          "output_type": "stream",
          "name": "stderr",
          "text": [
            "  4%|▎         | 350/10000 [04:11<53:53,  2.98it/s]"
          ]
        },
        {
          "output_type": "stream",
          "name": "stdout",
          "text": [
            "Step 350, train loss:1.2596, test loss:1.5613\n"
          ]
        },
        {
          "output_type": "stream",
          "name": "stderr",
          "text": [
            "  4%|▎         | 360/10000 [04:16<54:21,  2.96it/s]"
          ]
        },
        {
          "output_type": "stream",
          "name": "stdout",
          "text": [
            "Step 360, train loss:1.2365, test loss:1.5422\n"
          ]
        },
        {
          "output_type": "stream",
          "name": "stderr",
          "text": [
            "  4%|▎         | 370/10000 [04:21<53:12,  3.02it/s]"
          ]
        },
        {
          "output_type": "stream",
          "name": "stdout",
          "text": [
            "Step 370, train loss:1.2350, test loss:1.5539\n"
          ]
        },
        {
          "output_type": "stream",
          "name": "stderr",
          "text": [
            "  4%|▍         | 380/10000 [04:25<53:21,  3.00it/s]"
          ]
        },
        {
          "output_type": "stream",
          "name": "stdout",
          "text": [
            "Step 380, train loss:1.2333, test loss:1.5529\n"
          ]
        },
        {
          "output_type": "stream",
          "name": "stderr",
          "text": [
            "  4%|▍         | 390/10000 [04:31<54:23,  2.94it/s]"
          ]
        },
        {
          "output_type": "stream",
          "name": "stdout",
          "text": [
            "Step 390, train loss:1.2182, test loss:1.5252\n"
          ]
        },
        {
          "output_type": "stream",
          "name": "stderr",
          "text": [
            "  4%|▍         | 400/10000 [04:36<53:08,  3.01it/s]"
          ]
        },
        {
          "output_type": "stream",
          "name": "stdout",
          "text": [
            "Step 400, train loss:1.2035, test loss:1.5388\n",
            "\n",
            "\n",
            "urricious sunicy, sir,\n",
            "Rivere bestow'd upon your mind you busisten,\n",
            "Fife, being youth, impitition. Your counsel bount,\n",
            "'Which, he's not. Good gifts advanced him, new night,\n",
            "Yes, you know yourself his beauted clips you;\n",
            "your honour, his reside up,\n",
            "Till useter yet our sisters: as your eye oppute\n",
            "your highnession, had peacent.\n",
            "\n",
            "Quotrible, Camillo,\n",
            "And every of your dispersetful drift, your pubit-cursent;\n",
            "For she enternest his you: so, your virginate,\n",
            "Test yet be brief your grace oathon Sicilit,\n",
            "Counting yourself your duke, dreftacts\n",
            "Which was young, as you as God's neuld\n",
            "Welcome, besidence; yea, how fair'd your e custom, is't,\n",
            "Where your prayers, yentless--on, and your'stfully\n",
            "Sirrahly you, to grant, your med-armsorrow.\n",
            "What you yield?\n",
            "\n",
            "Second Gaunt:\n",
            "Here, would you would Lucio; here'sly your precess.\n",
            "There's I say, Rought in dost thintly, any, you,\n",
            "See, one, you surage, unPrest.\n",
            "\n",
            "BENVOLIO:\n",
            "Terr'd your cousin, and is offold'stred,\n",
            "Busic'd, your great eyes: your crossresses,\n",
            "I postern-led \n",
            "Step 400, train loss:1.1992, test loss:1.5361\n"
          ]
        },
        {
          "output_type": "stream",
          "name": "stderr",
          "text": [
            "  4%|▍         | 410/10000 [05:00<1:30:16,  1.77it/s]"
          ]
        },
        {
          "output_type": "stream",
          "name": "stdout",
          "text": [
            "Step 410, train loss:1.1872, test loss:1.5543\n"
          ]
        },
        {
          "output_type": "stream",
          "name": "stderr",
          "text": [
            "  4%|▍         | 420/10000 [05:05<54:52,  2.91it/s]"
          ]
        },
        {
          "output_type": "stream",
          "name": "stdout",
          "text": [
            "Step 420, train loss:1.1762, test loss:1.5118\n"
          ]
        },
        {
          "output_type": "stream",
          "name": "stderr",
          "text": [
            "  4%|▍         | 430/10000 [05:10<52:55,  3.01it/s]"
          ]
        },
        {
          "output_type": "stream",
          "name": "stdout",
          "text": [
            "Step 430, train loss:1.1761, test loss:1.5415\n"
          ]
        },
        {
          "output_type": "stream",
          "name": "stderr",
          "text": [
            "  4%|▍         | 440/10000 [05:15<52:44,  3.02it/s]"
          ]
        },
        {
          "output_type": "stream",
          "name": "stdout",
          "text": [
            "Step 440, train loss:1.1662, test loss:1.5129\n"
          ]
        },
        {
          "output_type": "stream",
          "name": "stderr",
          "text": [
            "  4%|▍         | 450/10000 [05:20<53:43,  2.96it/s]"
          ]
        },
        {
          "output_type": "stream",
          "name": "stdout",
          "text": [
            "Step 450, train loss:1.1521, test loss:1.5227\n"
          ]
        },
        {
          "output_type": "stream",
          "name": "stderr",
          "text": [
            "  5%|▍         | 460/10000 [05:25<53:00,  3.00it/s]"
          ]
        },
        {
          "output_type": "stream",
          "name": "stdout",
          "text": [
            "Step 460, train loss:1.1266, test loss:1.4837\n"
          ]
        },
        {
          "output_type": "stream",
          "name": "stderr",
          "text": [
            "  5%|▍         | 470/10000 [05:29<52:50,  3.01it/s]"
          ]
        },
        {
          "output_type": "stream",
          "name": "stdout",
          "text": [
            "Step 470, train loss:1.1090, test loss:1.5160\n"
          ]
        },
        {
          "output_type": "stream",
          "name": "stderr",
          "text": [
            "  5%|▍         | 480/10000 [05:34<53:39,  2.96it/s]"
          ]
        },
        {
          "output_type": "stream",
          "name": "stdout",
          "text": [
            "Step 480, train loss:1.1038, test loss:1.4828\n"
          ]
        },
        {
          "output_type": "stream",
          "name": "stderr",
          "text": [
            "  5%|▍         | 490/10000 [05:39<52:46,  3.00it/s]"
          ]
        },
        {
          "output_type": "stream",
          "name": "stdout",
          "text": [
            "Step 490, train loss:1.0978, test loss:1.4985\n"
          ]
        },
        {
          "output_type": "stream",
          "name": "stderr",
          "text": [
            "  5%|▌         | 500/10000 [05:44<52:41,  3.01it/s]"
          ]
        },
        {
          "output_type": "stream",
          "name": "stdout",
          "text": [
            "Step 500, train loss:1.0736, test loss:1.4887\n",
            "\n",
            "\n",
            "sealth\n",
            "To leave awhile: we will not be?\n",
            "Let's life?\n",
            "\n",
            "SLY:\n",
            "Shall we flower.\n",
            "\n",
            "LUCIO:\n",
            "Come, let not the city; and of he cold condemn'd.\n",
            "How blemia piev the widow?\n",
            "\n",
            "SLY:\n",
            "Many and be holies at whill.\n",
            "\n",
            "SICINIUS:\n",
            "Tybalt!\n",
            "\n",
            "AEdile:\n",
            "The Capitol.\n",
            "\n",
            "CAMILLO:\n",
            "Thus do not be home.\n",
            "\n",
            "SICINIUS:\n",
            "Bliant,\n",
            "it confidency.\n",
            "\n",
            "QUEEN:\n",
            "Mine with thigh his holy heart of--\n",
            "By loving instrument gillyance to coming,\n",
            "And Richard of mine will.\n",
            "\n",
            "YORK:\n",
            "Then will I now girly, I thune command;\n",
            "Lord Clifford could have in a hand, nigh a\n",
            "Point it to become.\n",
            "\n",
            "BRUTUS:\n",
            "This is more night kin; for our things hath power\n",
            "This one bear to yield, and in the crown for in\n",
            "for night,\n",
            "Bighcisitor'd cannot in her pline\n",
            "At thine and grant time with approach.\n",
            "The nobility of this, with eighbours\n",
            "That harly sto in Vienna, peace is line\n",
            "Of twenty and fairly would thin it,\n",
            "On my port of in thine in natighs tongue.\n",
            "Now in thinking his birth, thin and hearing prefty\n",
            "With two cannot to hundred in mine own;\n",
            "And wander in whits shall be thing to so\n",
            "Step 500, train loss:1.0739, test loss:1.5087\n"
          ]
        },
        {
          "output_type": "stream",
          "name": "stderr",
          "text": [
            "  5%|▌         | 510/10000 [06:09<1:29:49,  1.76it/s]"
          ]
        },
        {
          "output_type": "stream",
          "name": "stdout",
          "text": [
            "Step 510, train loss:1.0485, test loss:1.4930\n"
          ]
        },
        {
          "output_type": "stream",
          "name": "stderr",
          "text": [
            "  5%|▌         | 520/10000 [06:14<53:21,  2.96it/s]"
          ]
        },
        {
          "output_type": "stream",
          "name": "stdout",
          "text": [
            "Step 520, train loss:1.0533, test loss:1.4689\n"
          ]
        },
        {
          "output_type": "stream",
          "name": "stderr",
          "text": [
            "  5%|▌         | 530/10000 [06:19<52:27,  3.01it/s]"
          ]
        },
        {
          "output_type": "stream",
          "name": "stdout",
          "text": [
            "Step 530, train loss:1.0198, test loss:1.4730\n"
          ]
        },
        {
          "output_type": "stream",
          "name": "stderr",
          "text": [
            "  5%|▌         | 540/10000 [06:24<53:11,  2.96it/s]"
          ]
        },
        {
          "output_type": "stream",
          "name": "stdout",
          "text": [
            "Step 540, train loss:0.9876, test loss:1.4481\n"
          ]
        },
        {
          "output_type": "stream",
          "name": "stderr",
          "text": [
            "  6%|▌         | 550/10000 [06:29<52:34,  3.00it/s]"
          ]
        },
        {
          "output_type": "stream",
          "name": "stdout",
          "text": [
            "Step 550, train loss:0.9649, test loss:1.4306\n"
          ]
        },
        {
          "output_type": "stream",
          "name": "stderr",
          "text": [
            "  6%|▌         | 560/10000 [06:33<52:19,  3.01it/s]"
          ]
        },
        {
          "output_type": "stream",
          "name": "stdout",
          "text": [
            "Step 560, train loss:0.9507, test loss:1.3927\n"
          ]
        },
        {
          "output_type": "stream",
          "name": "stderr",
          "text": [
            "  6%|▌         | 570/10000 [06:38<52:53,  2.97it/s]"
          ]
        },
        {
          "output_type": "stream",
          "name": "stdout",
          "text": [
            "Step 570, train loss:0.9295, test loss:1.4041\n"
          ]
        },
        {
          "output_type": "stream",
          "name": "stderr",
          "text": [
            "  6%|▌         | 580/10000 [06:43<52:25,  2.99it/s]"
          ]
        },
        {
          "output_type": "stream",
          "name": "stdout",
          "text": [
            "Step 580, train loss:0.9139, test loss:1.3666\n"
          ]
        },
        {
          "output_type": "stream",
          "name": "stderr",
          "text": [
            "  6%|▌         | 590/10000 [06:48<52:06,  3.01it/s]"
          ]
        },
        {
          "output_type": "stream",
          "name": "stdout",
          "text": [
            "Step 590, train loss:0.8763, test loss:1.3568\n"
          ]
        },
        {
          "output_type": "stream",
          "name": "stderr",
          "text": [
            "  6%|▌         | 600/10000 [06:53<52:39,  2.97it/s]"
          ]
        },
        {
          "output_type": "stream",
          "name": "stdout",
          "text": [
            "Step 600, train loss:0.8553, test loss:1.3680\n",
            "\n",
            "\n",
            "ursership?\n",
            "\n",
            "ESCALUS:\n",
            "O?\n",
            "\n",
            "Gresummen come; ands a true summon our king?\n",
            "\n",
            "BUCKINGHAM:\n",
            "\n",
            "CLAUDIO:\n",
            "The Lord's brother.\n",
            "\n",
            "Mariar:\n",
            "\n",
            "Justice, Caugh above.\n",
            "\n",
            "Ghosts o' the morning?\n",
            "\n",
            "Nurse:\n",
            "make Montaink's well.\n",
            "\n",
            "AUTOLYCUS:\n",
            "Fay, the numb it on Warwick's a traitor o' the warw.\n",
            "\n",
            "CLAUDIO:\n",
            "should I not; sir, be both of England's speech:\n",
            "The Duke of York.\n",
            "\n",
            "AUTOLYCUS:\n",
            "A mile somebails be sick of the maward so fasting:\n",
            "see the beastle summons that he had bail'd\n",
            "Was it a whipping, though thine honourable\n",
            "To follow an agreedy miser who mock'd me\n",
            "Unto the blood forgot.\n",
            "\n",
            "VIRGILIA:\n",
            "I'll thou afraid--\n",
            "\n",
            "DUKE VINCENTIO:\n",
            "I'll stay to the 'em.\n",
            "\n",
            "Bostern:\n",
            "A tune good father! if thou respect too much:\n",
            "I love them, I'll men to From Doger thou at the\n",
            "shadow in myself.\n",
            "\n",
            "DUKE VINCENTIO:\n",
            "'Tis goodly your threshold. for the matter:\n",
            "'Tho not so oft thou, I pray you, madam:--\n",
            "\n",
            "BUCKINGHAM:\n",
            "Do enter thee thou, on more soon than earth;\n",
            "To thou us in thy banishment. \n",
            "DUKE VINCENTIO:\n",
            "Followers have not meet so\n",
            "To make 't little; t\n",
            "Step 600, train loss:0.8576, test loss:1.3318\n"
          ]
        },
        {
          "output_type": "stream",
          "name": "stderr",
          "text": [
            "  6%|▌         | 610/10000 [07:18<1:28:22,  1.77it/s]"
          ]
        },
        {
          "output_type": "stream",
          "name": "stdout",
          "text": [
            "Step 610, train loss:0.8344, test loss:1.3155\n"
          ]
        },
        {
          "output_type": "stream",
          "name": "stderr",
          "text": [
            "  6%|▌         | 620/10000 [07:23<52:58,  2.95it/s]"
          ]
        },
        {
          "output_type": "stream",
          "name": "stdout",
          "text": [
            "Step 620, train loss:0.8171, test loss:1.3332\n"
          ]
        },
        {
          "output_type": "stream",
          "name": "stderr",
          "text": [
            "  6%|▋         | 630/10000 [07:28<52:35,  2.97it/s]"
          ]
        },
        {
          "output_type": "stream",
          "name": "stdout",
          "text": [
            "Step 630, train loss:0.8058, test loss:1.3136\n"
          ]
        },
        {
          "output_type": "stream",
          "name": "stderr",
          "text": [
            "  6%|▋         | 640/10000 [07:33<51:54,  3.01it/s]"
          ]
        },
        {
          "output_type": "stream",
          "name": "stdout",
          "text": [
            "Step 640, train loss:0.7716, test loss:1.2877\n"
          ]
        },
        {
          "output_type": "stream",
          "name": "stderr",
          "text": [
            "  6%|▋         | 650/10000 [07:37<51:43,  3.01it/s]"
          ]
        },
        {
          "output_type": "stream",
          "name": "stdout",
          "text": [
            "Step 650, train loss:0.7428, test loss:1.2570\n"
          ]
        },
        {
          "output_type": "stream",
          "name": "stderr",
          "text": [
            "  7%|▋         | 660/10000 [07:42<52:31,  2.96it/s]"
          ]
        },
        {
          "output_type": "stream",
          "name": "stdout",
          "text": [
            "Step 660, train loss:0.7110, test loss:1.2275\n"
          ]
        },
        {
          "output_type": "stream",
          "name": "stderr",
          "text": [
            "  7%|▋         | 670/10000 [07:48<52:46,  2.95it/s]"
          ]
        },
        {
          "output_type": "stream",
          "name": "stdout",
          "text": [
            "Step 670, train loss:0.6918, test loss:1.2550\n"
          ]
        },
        {
          "output_type": "stream",
          "name": "stderr",
          "text": [
            "  7%|▋         | 680/10000 [07:52<51:37,  3.01it/s]"
          ]
        },
        {
          "output_type": "stream",
          "name": "stdout",
          "text": [
            "Step 680, train loss:0.6682, test loss:1.2035\n"
          ]
        },
        {
          "output_type": "stream",
          "name": "stderr",
          "text": [
            "  7%|▋         | 690/10000 [07:57<51:53,  2.99it/s]"
          ]
        },
        {
          "output_type": "stream",
          "name": "stdout",
          "text": [
            "Step 690, train loss:0.6430, test loss:1.1835\n"
          ]
        },
        {
          "output_type": "stream",
          "name": "stderr",
          "text": [
            "  7%|▋         | 700/10000 [08:03<52:24,  2.96it/s]"
          ]
        },
        {
          "output_type": "stream",
          "name": "stdout",
          "text": [
            "Step 700, train loss:0.6199, test loss:1.1997\n",
            "\n",
            "\n",
            "\n",
            "turn:\n",
            "Sirrah, hark;'te; 'tis 'tis so:'\n",
            "\n",
            "Providie:\n",
            "Romeo, sir.\n",
            "\n",
            "PARIS:\n",
            "Do I seriout Priam Lo,\n",
            "Riserable Petruchio,\n",
            "Are have at their instruction libortily.\n",
            "\n",
            "ARCHBISHOPREY:\n",
            "Prain 'AR' II:\n",
            "You be honourted ere 'tis ring.\n",
            "Here is the book pledrard; but his\n",
            "reasony house.\n",
            "\n",
            "VOLUMNIA:\n",
            "Poor Clarence hath strict unto\n",
            "grace a noble harm, but thirty.\n",
            "\n",
            "LUCIO:\n",
            "Tranio, through him convessent.\n",
            "\n",
            "AUTOLYCUS:\n",
            "O, God chom,\n",
            "Call us his honour.\n",
            "\n",
            "MERCUTIO:\n",
            "A husband!\n",
            "\n",
            "VOLUMNIA:\n",
            "Learn sleep on breath? sir, you might be own air will,\n",
            "I twenty ofference with child a scrat,\n",
            "We preserved frattings thus to the life,\n",
            "Or 'twixt his death and enjoin'd, thou liest reason.\n",
            "\n",
            "KING RICHARD III:\n",
            "Upon the offer-bones but thus.\n",
            "\n",
            "LUCIO:\n",
            "\n",
            "DUKE VINCENTIO:\n",
            "Bid you now; hear it, misther thou dreadferd,\n",
            "Shall gracious thing. To save thus worn , thus\n",
            "Whipp, this that do wind, and this changed gods,\n",
            "He prithee to good to the king and fortor at\n",
            "The airy of the issue Edward's death?\n",
            "\n",
            "DUKE VINCENTIO:\n",
            "Thou in good coz forward their hel\n",
            "Step 700, train loss:0.6253, test loss:1.1899\n"
          ]
        },
        {
          "output_type": "stream",
          "name": "stderr",
          "text": [
            "  7%|▋         | 710/10000 [08:29<1:31:43,  1.69it/s]"
          ]
        },
        {
          "output_type": "stream",
          "name": "stdout",
          "text": [
            "Step 710, train loss:0.6060, test loss:1.1579\n"
          ]
        },
        {
          "output_type": "stream",
          "name": "stderr",
          "text": [
            "  7%|▋         | 720/10000 [08:34<53:31,  2.89it/s]"
          ]
        },
        {
          "output_type": "stream",
          "name": "stdout",
          "text": [
            "Step 720, train loss:0.5980, test loss:1.1503\n"
          ]
        },
        {
          "output_type": "stream",
          "name": "stderr",
          "text": [
            "  7%|▋         | 730/10000 [08:39<51:53,  2.98it/s]"
          ]
        },
        {
          "output_type": "stream",
          "name": "stdout",
          "text": [
            "Step 730, train loss:0.5645, test loss:1.1491\n"
          ]
        },
        {
          "output_type": "stream",
          "name": "stderr",
          "text": [
            "  7%|▋         | 740/10000 [08:44<51:28,  3.00it/s]"
          ]
        },
        {
          "output_type": "stream",
          "name": "stdout",
          "text": [
            "Step 740, train loss:0.5429, test loss:1.1385\n"
          ]
        },
        {
          "output_type": "stream",
          "name": "stderr",
          "text": [
            "  8%|▊         | 750/10000 [08:49<51:41,  2.98it/s]"
          ]
        },
        {
          "output_type": "stream",
          "name": "stdout",
          "text": [
            "Step 750, train loss:0.5198, test loss:1.1204\n"
          ]
        },
        {
          "output_type": "stream",
          "name": "stderr",
          "text": [
            "  8%|▊         | 760/10000 [08:54<52:39,  2.92it/s]"
          ]
        },
        {
          "output_type": "stream",
          "name": "stdout",
          "text": [
            "Step 760, train loss:0.5108, test loss:1.0927\n"
          ]
        },
        {
          "output_type": "stream",
          "name": "stderr",
          "text": [
            "  8%|▊         | 770/10000 [08:59<51:23,  2.99it/s]"
          ]
        },
        {
          "output_type": "stream",
          "name": "stdout",
          "text": [
            "Step 770, train loss:0.4920, test loss:1.0742\n"
          ]
        },
        {
          "output_type": "stream",
          "name": "stderr",
          "text": [
            "  8%|▊         | 780/10000 [09:04<51:06,  3.01it/s]"
          ]
        },
        {
          "output_type": "stream",
          "name": "stdout",
          "text": [
            "Step 780, train loss:0.4700, test loss:1.0633\n"
          ]
        },
        {
          "output_type": "stream",
          "name": "stderr",
          "text": [
            "  8%|▊         | 790/10000 [09:09<52:32,  2.92it/s]"
          ]
        },
        {
          "output_type": "stream",
          "name": "stdout",
          "text": [
            "Step 790, train loss:0.4633, test loss:1.0640\n"
          ]
        },
        {
          "output_type": "stream",
          "name": "stderr",
          "text": [
            "  8%|▊         | 800/10000 [09:14<51:10,  3.00it/s]"
          ]
        },
        {
          "output_type": "stream",
          "name": "stdout",
          "text": [
            "Step 800, train loss:0.4441, test loss:1.0591\n",
            "\n",
            "\n",
            "shell Mercure Surracle:\n",
            "\n",
            "Servantable Marcius!\n",
            "\n",
            "Second Murderer:\n",
            "Say, gentle Marcius rest embrace I cade.\n",
            "\n",
            "Second Murderer:\n",
            "So prison, Marcius to ride exchange peace:\n",
            "Say, Mercury Shall be rebel\n",
            "Mark'd you now bark his brily peril.\n",
            "\n",
            "Second Murderer:\n",
            "Marry, yet brother Clarence:, speak you are not known:\n",
            "My lip in madness, repeal merry your chair,\n",
            "Come in a name what's nor private on those fats;\n",
            "And when the day shall war to be, and three up\n",
            "Turn the air married to the prison. We have\n",
            "Your marriages by the sourt to pure weep,\n",
            "As sorrow well she was me a thought we are nigh,\n",
            "Stay she'll bring you now. Had we not so--\n",
            "Which shall stir his and near.\n",
            "Brind him that, will we use all have brind him\n",
            "The maids Antigonus kneezh, prepared\n",
            "Wait by man's brows the maid, being spared,\n",
            "Dirsuing unnatural! what breathe physicians,\n",
            "Dids' death-bawdly, which pleaseth should not sack.\n",
            "Hadst thou needful body hath abmired\n",
            "Afresh is done.\n",
            "Ah, and having Edward's knlveth where:\n",
            "Nor bearts will privily frame \n",
            "Step 800, train loss:0.4467, test loss:1.0281\n"
          ]
        },
        {
          "output_type": "stream",
          "name": "stderr",
          "text": [
            "  8%|▊         | 810/10000 [09:38<1:26:54,  1.76it/s]"
          ]
        },
        {
          "output_type": "stream",
          "name": "stdout",
          "text": [
            "Step 810, train loss:0.4303, test loss:1.0426\n"
          ]
        },
        {
          "output_type": "stream",
          "name": "stderr",
          "text": [
            "  8%|▊         | 820/10000 [09:43<52:46,  2.90it/s]"
          ]
        },
        {
          "output_type": "stream",
          "name": "stdout",
          "text": [
            "Step 820, train loss:0.4146, test loss:1.0137\n"
          ]
        },
        {
          "output_type": "stream",
          "name": "stderr",
          "text": [
            "  8%|▊         | 830/10000 [09:48<50:50,  3.01it/s]"
          ]
        },
        {
          "output_type": "stream",
          "name": "stdout",
          "text": [
            "Step 830, train loss:0.4009, test loss:1.0259\n"
          ]
        },
        {
          "output_type": "stream",
          "name": "stderr",
          "text": [
            "  8%|▊         | 840/10000 [09:53<50:49,  3.00it/s]"
          ]
        },
        {
          "output_type": "stream",
          "name": "stdout",
          "text": [
            "Step 840, train loss:0.3834, test loss:0.9926\n"
          ]
        },
        {
          "output_type": "stream",
          "name": "stderr",
          "text": [
            "  8%|▊         | 850/10000 [09:58<51:23,  2.97it/s]"
          ]
        },
        {
          "output_type": "stream",
          "name": "stdout",
          "text": [
            "Step 850, train loss:0.3740, test loss:1.0191\n"
          ]
        },
        {
          "output_type": "stream",
          "name": "stderr",
          "text": [
            "  9%|▊         | 860/10000 [10:03<50:48,  3.00it/s]"
          ]
        },
        {
          "output_type": "stream",
          "name": "stdout",
          "text": [
            "Step 860, train loss:0.3596, test loss:1.0032\n"
          ]
        },
        {
          "output_type": "stream",
          "name": "stderr",
          "text": [
            "  9%|▊         | 870/10000 [10:08<50:42,  3.00it/s]"
          ]
        },
        {
          "output_type": "stream",
          "name": "stdout",
          "text": [
            "Step 870, train loss:0.3463, test loss:0.9719\n"
          ]
        },
        {
          "output_type": "stream",
          "name": "stderr",
          "text": [
            "  9%|▉         | 880/10000 [10:13<51:38,  2.94it/s]"
          ]
        },
        {
          "output_type": "stream",
          "name": "stdout",
          "text": [
            "Step 880, train loss:0.3436, test loss:0.9897\n"
          ]
        },
        {
          "output_type": "stream",
          "name": "stderr",
          "text": [
            "  9%|▉         | 890/10000 [10:18<50:54,  2.98it/s]"
          ]
        },
        {
          "output_type": "stream",
          "name": "stdout",
          "text": [
            "Step 890, train loss:0.3343, test loss:0.9700\n"
          ]
        },
        {
          "output_type": "stream",
          "name": "stderr",
          "text": [
            "  9%|▉         | 900/10000 [10:23<50:38,  2.99it/s]"
          ]
        },
        {
          "output_type": "stream",
          "name": "stdout",
          "text": [
            "Step 900, train loss:0.3271, test loss:0.9651\n",
            "\n",
            "\n",
            "ursey kind, till now?\n",
            "\n",
            "YORK:\n",
            "Richmond is currention to kend,\n",
            "Your son, hause nor we side to kill King Edward,\n",
            "Your brandom consul time of kings!\n",
            "\n",
            "YORK:\n",
            "Vince we are undone for this noble gentleman?\n",
            "\n",
            "GLOUCESTER:\n",
            "Your will, to grand sorrow\n",
            "To city Nay's name from Warwick, to\n",
            "A Gaunt did infect corruptions\n",
            "With curtails flen a doing.\n",
            "\n",
            "Provost:\n",
            "But let this day we big too soon.\n",
            "\n",
            "LUCIO:\n",
            "Richmond, with him.\n",
            "\n",
            "DUKE VINCENTIO:\n",
            "Qail this noble parce,\n",
            "And witnled in your actions unloodlock,\n",
            "To have still our noble ears you out to die\n",
            "At waking it usurpins to sit to know.\n",
            "\n",
            "PRINCEnnorable,\n",
            "Tranio! thy day of too,\n",
            "Conceiving to death his name; for,\n",
            "Being o'erwhile cannot steal this time, concorn,\n",
            "To way he could to miny sit and Willoughly\n",
            "In withwid us neck.\n",
            "\n",
            "ABULLA:\n",
            "Even so toothing in making, with first\n",
            "Having well down; till, and witness so till\n",
            "in doubt?\n",
            "Congervil scandal things;\n",
            "Your favours we will speak for this general.\n",
            "\n",
            "ISABELLA:\n",
            "And you toward any time at Laurence,\n",
            "And would have your fair\n",
            "Step 900, train loss:0.3218, test loss:0.9739\n"
          ]
        },
        {
          "output_type": "stream",
          "name": "stderr",
          "text": [
            "  9%|▉         | 910/10000 [10:48<1:26:41,  1.75it/s]"
          ]
        },
        {
          "output_type": "stream",
          "name": "stdout",
          "text": [
            "Step 910, train loss:0.3002, test loss:0.9507\n"
          ]
        },
        {
          "output_type": "stream",
          "name": "stderr",
          "text": [
            "  9%|▉         | 920/10000 [10:52<51:17,  2.95it/s]"
          ]
        },
        {
          "output_type": "stream",
          "name": "stdout",
          "text": [
            "Step 920, train loss:0.2939, test loss:0.9371\n"
          ]
        },
        {
          "output_type": "stream",
          "name": "stderr",
          "text": [
            "  9%|▉         | 930/10000 [10:57<50:10,  3.01it/s]"
          ]
        },
        {
          "output_type": "stream",
          "name": "stdout",
          "text": [
            "Step 930, train loss:0.2892, test loss:0.9314\n"
          ]
        },
        {
          "output_type": "stream",
          "name": "stderr",
          "text": [
            "  9%|▉         | 940/10000 [11:02<51:10,  2.95it/s]"
          ]
        },
        {
          "output_type": "stream",
          "name": "stdout",
          "text": [
            "Step 940, train loss:0.2729, test loss:0.9465\n"
          ]
        },
        {
          "output_type": "stream",
          "name": "stderr",
          "text": [
            " 10%|▉         | 950/10000 [11:07<50:28,  2.99it/s]"
          ]
        },
        {
          "output_type": "stream",
          "name": "stdout",
          "text": [
            "Step 950, train loss:0.2671, test loss:0.9247\n"
          ]
        },
        {
          "output_type": "stream",
          "name": "stderr",
          "text": [
            " 10%|▉         | 960/10000 [11:12<50:18,  2.99it/s]"
          ]
        },
        {
          "output_type": "stream",
          "name": "stdout",
          "text": [
            "Step 960, train loss:0.2788, test loss:0.9129\n"
          ]
        },
        {
          "output_type": "stream",
          "name": "stderr",
          "text": [
            " 10%|▉         | 970/10000 [11:17<50:51,  2.96it/s]"
          ]
        },
        {
          "output_type": "stream",
          "name": "stdout",
          "text": [
            "Step 970, train loss:0.2568, test loss:0.9189\n"
          ]
        },
        {
          "output_type": "stream",
          "name": "stderr",
          "text": [
            " 10%|▉         | 980/10000 [11:22<50:49,  2.96it/s]"
          ]
        },
        {
          "output_type": "stream",
          "name": "stdout",
          "text": [
            "Step 980, train loss:0.2530, test loss:0.8978\n"
          ]
        },
        {
          "output_type": "stream",
          "name": "stderr",
          "text": [
            " 10%|▉         | 990/10000 [11:27<49:57,  3.01it/s]"
          ]
        },
        {
          "output_type": "stream",
          "name": "stdout",
          "text": [
            "Step 990, train loss:0.2451, test loss:0.8672\n"
          ]
        },
        {
          "output_type": "stream",
          "name": "stderr",
          "text": [
            " 10%|█         | 1000/10000 [11:32<49:58,  3.00it/s]"
          ]
        },
        {
          "output_type": "stream",
          "name": "stdout",
          "text": [
            "Step 1000, train loss:0.2445, test loss:0.8794\n",
            "\n",
            "\n",
            "atchildicasterk!\n",
            "\n",
            "BENVOLIO:\n",
            "O,\n",
            "Vwoe\n",
            "May stay?\n",
            "\n",
            "VOLUMNIA:\n",
            "Who's come?\n",
            "\n",
            "NORDIMER:\n",
            "pratertainty, and let's have taken.\n",
            "\n",
            "MERCUTIO:\n",
            "Now, sir, leave upon 'twas there!\n",
            "\n",
            "BENVOLIO:\n",
            "Now! pardonation!\n",
            "\n",
            "MERCUTIO:\n",
            "Nay, rather we'll thither: prince Rosaliam,\n",
            "To this wonder gatively bellw; away!\n",
            "\n",
            "VOLUMBERLAND:\n",
            "Vail down his own like true that away!\n",
            "and Adrifteen'd not agree, what must shall be paid i' the further?\n",
            "\n",
            "CORIOLANUS:\n",
            "I am notly in patient\n",
            "and that will made to study; and there we are\n",
            "Come and that wills coming; for though before 'et's to a\n",
            "dismal flatter word of thy counsel all at their hands\n",
            "on art thou livest that but be so maid\n",
            "as if 'Clips my native stups are for a senator:\n",
            "'Twas nothing that we'll twenty of heaven mercy\n",
            "ransor'd for thy thing wild for men for welcomed\n",
            "In time to be barren forfeit or withdraw\n",
            "And show their fortune camp on arms to fitch?\n",
            "Go for your fortune and Wilt of lamp from a\n",
            "pitiful under slay!\n",
            "\n",
            "CLARENCE:\n",
            "Brother out wells their very encompated\n",
            "On dalgetics for th\n",
            "Step 1000, train loss:0.2449, test loss:0.8819\n"
          ]
        },
        {
          "output_type": "stream",
          "name": "stderr",
          "text": [
            " 10%|█         | 1010/10000 [11:57<1:25:03,  1.76it/s]"
          ]
        },
        {
          "output_type": "stream",
          "name": "stdout",
          "text": [
            "Step 1010, train loss:0.2302, test loss:0.9073\n"
          ]
        },
        {
          "output_type": "stream",
          "name": "stderr",
          "text": [
            " 10%|█         | 1020/10000 [12:02<50:46,  2.95it/s]"
          ]
        },
        {
          "output_type": "stream",
          "name": "stdout",
          "text": [
            "Step 1020, train loss:0.2169, test loss:0.8960\n"
          ]
        },
        {
          "output_type": "stream",
          "name": "stderr",
          "text": [
            " 10%|█         | 1030/10000 [12:07<50:06,  2.98it/s]"
          ]
        },
        {
          "output_type": "stream",
          "name": "stdout",
          "text": [
            "Step 1030, train loss:0.2125, test loss:0.9474\n"
          ]
        },
        {
          "output_type": "stream",
          "name": "stderr",
          "text": [
            " 10%|█         | 1040/10000 [12:12<50:30,  2.96it/s]"
          ]
        },
        {
          "output_type": "stream",
          "name": "stdout",
          "text": [
            "Step 1040, train loss:0.2033, test loss:0.8913\n"
          ]
        },
        {
          "output_type": "stream",
          "name": "stderr",
          "text": [
            " 10%|█         | 1050/10000 [12:17<49:50,  2.99it/s]"
          ]
        },
        {
          "output_type": "stream",
          "name": "stdout",
          "text": [
            "Step 1050, train loss:0.2103, test loss:0.9216\n"
          ]
        },
        {
          "output_type": "stream",
          "name": "stderr",
          "text": [
            " 11%|█         | 1060/10000 [12:22<49:35,  3.00it/s]"
          ]
        },
        {
          "output_type": "stream",
          "name": "stdout",
          "text": [
            "Step 1060, train loss:0.2017, test loss:0.8601\n"
          ]
        },
        {
          "output_type": "stream",
          "name": "stderr",
          "text": [
            " 11%|█         | 1070/10000 [12:27<50:39,  2.94it/s]"
          ]
        },
        {
          "output_type": "stream",
          "name": "stdout",
          "text": [
            "Step 1070, train loss:0.1841, test loss:0.8488\n"
          ]
        },
        {
          "output_type": "stream",
          "name": "stderr",
          "text": [
            " 11%|█         | 1080/10000 [12:32<49:37,  3.00it/s]"
          ]
        },
        {
          "output_type": "stream",
          "name": "stdout",
          "text": [
            "Step 1080, train loss:0.1821, test loss:0.8555\n"
          ]
        },
        {
          "output_type": "stream",
          "name": "stderr",
          "text": [
            " 11%|█         | 1090/10000 [12:37<49:20,  3.01it/s]"
          ]
        },
        {
          "output_type": "stream",
          "name": "stdout",
          "text": [
            "Step 1090, train loss:0.1718, test loss:0.8321\n"
          ]
        },
        {
          "output_type": "stream",
          "name": "stderr",
          "text": [
            " 11%|█         | 1100/10000 [12:42<50:12,  2.95it/s]"
          ]
        },
        {
          "output_type": "stream",
          "name": "stdout",
          "text": [
            "Step 1100, train loss:0.1715, test loss:0.8434\n",
            "\n",
            "\n",
            "Murder serve in deeds.\n",
            "\n",
            "First Lord:\n",
            "Were triumphled arm happy days!\n",
            "\n",
            "First Mercution:\n",
            "\n",
            "FLORIZEL:\n",
            "Does Benver departed wretched bows to\n",
            "prison, or 'twas mercy!\n",
            "\n",
            "FRIAR LAURENCE:\n",
            "Let days her wronged lie; grant out on 't:\n",
            "\n",
            "FRIAR LAURENCE:\n",
            "Very gory!\n",
            "\n",
            "First Lord:\n",
            "Let these dead enough.\n",
            "\n",
            "RSCHASSia, have prettic shows.\n",
            "\n",
            "MERCUTIO:\n",
            "Yet in thy demeaning heaven, my death!\n",
            "\n",
            "ROMEO:\n",
            "Where be holp!\n",
            "\n",
            "sating in my wreak auth they cannot repair of?\n",
            "Now hath not the taling is cry of York?\n",
            "\n",
            "TYBARY \n",
            "\n",
            "ORIOLANUS:\n",
            "Land night.\n",
            "\n",
            "LEONTES:\n",
            "I was?\n",
            "what your honour?\n",
            "\n",
            "BENVOLIO:\n",
            "On both thy death?\n",
            "\n",
            "LEONTES:\n",
            "A munky the gratter tslver the angry time?\n",
            "\n",
            "YORK:\n",
            "I promised, they have many down. Your grace thou hast one\n",
            "that, think not.\n",
            "\n",
            "KING LEWIS XI:\n",
            "Thus,' quoth thy name?\n",
            "\n",
            "LEONTES:\n",
            "Happy man! -\n",
            "shows fetch your behing.\n",
            "\n",
            "HENRY PERCY:\n",
            "on't, thy down.\n",
            "\n",
            "CLARENCE:\n",
            "Not they not.\n",
            "altogether news; and we must quarry the\n",
            "twice, I beat him.\n",
            "\n",
            "LUCIO:\n",
            "Why, then; now you contrive that think you?\n",
            "\n",
            "LADY GREY:\n",
            "Your honour bevermine, and\n",
            "Step 1100, train loss:0.1702, test loss:0.8499\n"
          ]
        },
        {
          "output_type": "stream",
          "name": "stderr",
          "text": [
            " 11%|█         | 1110/10000 [13:06<1:24:12,  1.76it/s]"
          ]
        },
        {
          "output_type": "stream",
          "name": "stdout",
          "text": [
            "Step 1110, train loss:0.1617, test loss:0.8566\n"
          ]
        },
        {
          "output_type": "stream",
          "name": "stderr",
          "text": [
            " 11%|█         | 1120/10000 [13:11<50:14,  2.95it/s]"
          ]
        },
        {
          "output_type": "stream",
          "name": "stdout",
          "text": [
            "Step 1120, train loss:0.1605, test loss:0.8752\n"
          ]
        },
        {
          "output_type": "stream",
          "name": "stderr",
          "text": [
            " 11%|█▏        | 1130/10000 [13:16<50:18,  2.94it/s]"
          ]
        },
        {
          "output_type": "stream",
          "name": "stdout",
          "text": [
            "Step 1130, train loss:0.1508, test loss:0.8610\n"
          ]
        },
        {
          "output_type": "stream",
          "name": "stderr",
          "text": [
            " 11%|█▏        | 1140/10000 [13:21<49:18,  2.99it/s]"
          ]
        },
        {
          "output_type": "stream",
          "name": "stdout",
          "text": [
            "Step 1140, train loss:0.1473, test loss:0.8553\n"
          ]
        },
        {
          "output_type": "stream",
          "name": "stderr",
          "text": [
            " 12%|█▏        | 1150/10000 [13:26<49:13,  3.00it/s]"
          ]
        },
        {
          "output_type": "stream",
          "name": "stdout",
          "text": [
            "Step 1150, train loss:0.1471, test loss:0.8435\n"
          ]
        },
        {
          "output_type": "stream",
          "name": "stderr",
          "text": [
            " 12%|█▏        | 1160/10000 [13:31<50:13,  2.93it/s]"
          ]
        },
        {
          "output_type": "stream",
          "name": "stdout",
          "text": [
            "Step 1160, train loss:0.1330, test loss:0.8626\n"
          ]
        },
        {
          "output_type": "stream",
          "name": "stderr",
          "text": [
            " 12%|█▏        | 1170/10000 [13:36<49:13,  2.99it/s]"
          ]
        },
        {
          "output_type": "stream",
          "name": "stdout",
          "text": [
            "Step 1170, train loss:0.1377, test loss:0.8563\n"
          ]
        },
        {
          "output_type": "stream",
          "name": "stderr",
          "text": [
            " 12%|█▏        | 1180/10000 [13:41<49:01,  3.00it/s]"
          ]
        },
        {
          "output_type": "stream",
          "name": "stdout",
          "text": [
            "Step 1180, train loss:0.1418, test loss:0.8478\n"
          ]
        },
        {
          "output_type": "stream",
          "name": "stderr",
          "text": [
            " 12%|█▏        | 1190/10000 [13:46<50:01,  2.94it/s]"
          ]
        },
        {
          "output_type": "stream",
          "name": "stdout",
          "text": [
            "Step 1190, train loss:0.1471, test loss:0.8207\n"
          ]
        },
        {
          "output_type": "stream",
          "name": "stderr",
          "text": [
            " 12%|█▏        | 1200/10000 [13:51<49:42,  2.95it/s]"
          ]
        },
        {
          "output_type": "stream",
          "name": "stdout",
          "text": [
            "Step 1200, train loss:0.1422, test loss:0.8187\n",
            "\n",
            "\n",
            "ector He that he that do well action here that\n",
            "injuctions have set the Lord Hastings we be Edward'd he\n",
            "\n",
            "OLY:\n",
            "He should be Edward, that Lord Boy:\n",
            "\n",
            "AUTOLYCUS:\n",
            "\n",
            "FLORIZEL:\n",
            "He what he do know the ELIXT:\n",
            "Stanley but Richmond i' the gults and heavin\n",
            "Stand by the body he past well become at he\n",
            "right:\n",
            "Look on Riveging that we are sent tide she\n",
            "Falced hereof without bids you not light.\n",
            "\n",
            "LUCIO:\n",
            "Marry, you shall bear brother Romeo's obsecred\n",
            "Lord out to live: think rearity\n",
            "Would become miss upon him, to thread a boil.\n",
            "I shall he idle better, this life ago offence:\n",
            "Words bring a right fair, then we's daughter'd bawd:\n",
            "This open duty bight againful welcome,\n",
            "That blessings Welsh'd for well to be woied\n",
            "The foe, well: of her, by Wifemen, would not deserve:\n",
            "So much in bold head: let's befeech three-plieve,\n",
            "To bleeps weigh: hence, bring us 'f, we'll be sweet.\n",
            "What went you likewise humbly--Boutg, ah I saw!\n",
            "Foul lettled by, the fight fear'st thou will see,\n",
            "The fearful to execute, being would noteuch\n",
            "The we\n",
            "Step 1200, train loss:0.1401, test loss:0.8360\n"
          ]
        },
        {
          "output_type": "stream",
          "name": "stderr",
          "text": [
            " 12%|█▏        | 1210/10000 [14:15<1:22:31,  1.78it/s]"
          ]
        },
        {
          "output_type": "stream",
          "name": "stdout",
          "text": [
            "Step 1210, train loss:0.1343, test loss:0.8429\n"
          ]
        },
        {
          "output_type": "stream",
          "name": "stderr",
          "text": [
            " 12%|█▏        | 1220/10000 [14:20<50:32,  2.90it/s]"
          ]
        },
        {
          "output_type": "stream",
          "name": "stdout",
          "text": [
            "Step 1220, train loss:0.1340, test loss:0.8538\n"
          ]
        },
        {
          "output_type": "stream",
          "name": "stderr",
          "text": [
            " 12%|█▏        | 1230/10000 [14:25<48:57,  2.99it/s]"
          ]
        },
        {
          "output_type": "stream",
          "name": "stdout",
          "text": [
            "Step 1230, train loss:0.1268, test loss:0.8040\n"
          ]
        },
        {
          "output_type": "stream",
          "name": "stderr",
          "text": [
            " 12%|█▏        | 1240/10000 [14:30<48:46,  2.99it/s]"
          ]
        },
        {
          "output_type": "stream",
          "name": "stdout",
          "text": [
            "Step 1240, train loss:0.1191, test loss:0.8357\n"
          ]
        },
        {
          "output_type": "stream",
          "name": "stderr",
          "text": [
            " 12%|█▎        | 1250/10000 [14:35<49:20,  2.96it/s]"
          ]
        },
        {
          "output_type": "stream",
          "name": "stdout",
          "text": [
            "Step 1250, train loss:0.1148, test loss:0.7899\n"
          ]
        },
        {
          "output_type": "stream",
          "name": "stderr",
          "text": [
            " 13%|█▎        | 1260/10000 [14:40<49:39,  2.93it/s]"
          ]
        },
        {
          "output_type": "stream",
          "name": "stdout",
          "text": [
            "Step 1260, train loss:0.1132, test loss:0.8231\n"
          ]
        },
        {
          "output_type": "stream",
          "name": "stderr",
          "text": [
            " 13%|█▎        | 1270/10000 [14:45<48:42,  2.99it/s]"
          ]
        },
        {
          "output_type": "stream",
          "name": "stdout",
          "text": [
            "Step 1270, train loss:0.1082, test loss:0.8022\n"
          ]
        },
        {
          "output_type": "stream",
          "name": "stderr",
          "text": [
            " 13%|█▎        | 1280/10000 [14:50<48:34,  2.99it/s]"
          ]
        },
        {
          "output_type": "stream",
          "name": "stdout",
          "text": [
            "Step 1280, train loss:0.1014, test loss:0.8106\n"
          ]
        },
        {
          "output_type": "stream",
          "name": "stderr",
          "text": [
            " 13%|█▎        | 1290/10000 [14:55<49:14,  2.95it/s]"
          ]
        },
        {
          "output_type": "stream",
          "name": "stdout",
          "text": [
            "Step 1290, train loss:0.1024, test loss:0.7977\n"
          ]
        },
        {
          "output_type": "stream",
          "name": "stderr",
          "text": [
            " 13%|█▎        | 1300/10000 [15:00<48:15,  3.00it/s]"
          ]
        },
        {
          "output_type": "stream",
          "name": "stdout",
          "text": [
            "Step 1300, train loss:0.1020, test loss:0.8024\n",
            "\n",
            "\n",
            "effests for't:\n",
            "'The Peod Off weeps, fear'd the Fetsdes.\n",
            "\n",
            "Second Lord:\n",
            "'Tell her father's speed the couses\n",
            "o' 'tendity; fellow 's\n",
            "You can were here fit-session of those news\n",
            "\n",
            "Father:\n",
            "'Te heart no wealth, six's o'er he is known, 'scaped;'\n",
            "\n",
            "First Senator:\n",
            "'Tesdal, be Ant hither of out he were franch.\n",
            "\n",
            "PRINCE:\n",
            "With women like their franchous hours\n",
            "And we are insented now his life;\n",
            "They shall, our princely soon out his honours;\n",
            "And what particular scowls enough, of honoured by walk,\n",
            "From he present and worthy countain his friends;\n",
            "I could after Cominius.\n",
            "\n",
            "SLY:\n",
            "Many whom his friends he hathful year drum, mine honour his;\n",
            "But what all you have much aceckous his doing powers\n",
            "Are hundred, full in his country hours;\n",
            "of his husband, would he holp to each a friend\n",
            "Out of his honour; I could hung for him , our hands;\n",
            "Enough him his well accord him, if I could\n",
            "Turn his house, since he could have him procress'd\n",
            "Such more as his countenance should insue him,\n",
            "From his holy whom; his heart his hound of \n",
            "Step 1300, train loss:0.0997, test loss:0.7845\n"
          ]
        },
        {
          "output_type": "stream",
          "name": "stderr",
          "text": [
            " 13%|█▎        | 1310/10000 [15:24<1:22:05,  1.76it/s]"
          ]
        },
        {
          "output_type": "stream",
          "name": "stdout",
          "text": [
            "Step 1310, train loss:0.0951, test loss:0.8040\n"
          ]
        },
        {
          "output_type": "stream",
          "name": "stderr",
          "text": [
            " 13%|█▎        | 1320/10000 [15:29<49:48,  2.90it/s]"
          ]
        },
        {
          "output_type": "stream",
          "name": "stdout",
          "text": [
            "Step 1320, train loss:0.0920, test loss:0.8078\n"
          ]
        },
        {
          "output_type": "stream",
          "name": "stderr",
          "text": [
            " 13%|█▎        | 1330/10000 [15:34<48:07,  3.00it/s]"
          ]
        },
        {
          "output_type": "stream",
          "name": "stdout",
          "text": [
            "Step 1330, train loss:0.0909, test loss:0.8285\n"
          ]
        },
        {
          "output_type": "stream",
          "name": "stderr",
          "text": [
            " 13%|█▎        | 1340/10000 [15:39<47:58,  3.01it/s]"
          ]
        },
        {
          "output_type": "stream",
          "name": "stdout",
          "text": [
            "Step 1340, train loss:0.0893, test loss:0.8113\n"
          ]
        },
        {
          "output_type": "stream",
          "name": "stderr",
          "text": [
            " 14%|█▎        | 1350/10000 [15:44<49:03,  2.94it/s]"
          ]
        },
        {
          "output_type": "stream",
          "name": "stdout",
          "text": [
            "Step 1350, train loss:0.0913, test loss:0.8171\n"
          ]
        },
        {
          "output_type": "stream",
          "name": "stderr",
          "text": [
            " 14%|█▎        | 1360/10000 [15:49<47:59,  3.00it/s]"
          ]
        },
        {
          "output_type": "stream",
          "name": "stdout",
          "text": [
            "Step 1360, train loss:0.0842, test loss:0.8197\n"
          ]
        },
        {
          "output_type": "stream",
          "name": "stderr",
          "text": [
            " 14%|█▎        | 1370/10000 [15:54<47:58,  3.00it/s]"
          ]
        },
        {
          "output_type": "stream",
          "name": "stdout",
          "text": [
            "Step 1370, train loss:0.0824, test loss:0.8085\n"
          ]
        },
        {
          "output_type": "stream",
          "name": "stderr",
          "text": [
            " 14%|█▍        | 1380/10000 [15:59<48:46,  2.95it/s]"
          ]
        },
        {
          "output_type": "stream",
          "name": "stdout",
          "text": [
            "Step 1380, train loss:0.0850, test loss:0.8054\n"
          ]
        },
        {
          "output_type": "stream",
          "name": "stderr",
          "text": [
            " 14%|█▍        | 1390/10000 [16:04<47:54,  3.00it/s]"
          ]
        },
        {
          "output_type": "stream",
          "name": "stdout",
          "text": [
            "Step 1390, train loss:0.0873, test loss:0.8027\n"
          ]
        },
        {
          "output_type": "stream",
          "name": "stderr",
          "text": [
            " 14%|█▍        | 1400/10000 [16:09<47:53,  2.99it/s]"
          ]
        },
        {
          "output_type": "stream",
          "name": "stdout",
          "text": [
            "Step 1400, train loss:0.0840, test loss:0.7873\n",
            "\n",
            "\n",
            "Murderer:\n",
            "Mute ere I swear both hide a\n",
            "merriment for the country led\n",
            "that Bohemia begin, that\n",
            "\n",
            "AUTOLYCUS:\n",
            "\n",
            "MENENIUS:\n",
            "I tell have been mournings-for Rome\n",
            "That he can seem to let him be very brother\n",
            "Upon Richmond is gone; steward, I tender he's\n",
            "The very guilty wpecks, we brief: on\n",
            "my meeting friend,\n",
            "I cannot go about it, madam. Gives fees it\n",
            "logs, with music lessen'd vengeance, mine,\n",
            "That go with themselves upon themselves,\n",
            "But great the music confession,\n",
            "Being of good fellow, righted gentlewomen,\n",
            "And yet, bour methinks, will the thiefs of song,\n",
            "from me,\n",
            "Their good friends, may know their election,\n",
            "And I come, in grief; which, do congeal recrection.\n",
            "There keepers, my old ground gentle boot,\n",
            "And when All-Soil, let's heart; and,\n",
            "requitate, you mockerity.\n",
            "You, and might was himself not gone, for committer,\n",
            "And yet, forwardering to her?\n",
            "Yourself in how meltwiest, which is grace,\n",
            "And formerly whereive?\n",
            "good friend, you'reign to the instant,\n",
            "And gentlewardman, half of usedG mocked\n",
            "Nhe father, \n",
            "Step 1400, train loss:0.0854, test loss:0.7911\n"
          ]
        },
        {
          "output_type": "stream",
          "name": "stderr",
          "text": [
            " 14%|█▍        | 1410/10000 [16:34<1:22:15,  1.74it/s]"
          ]
        },
        {
          "output_type": "stream",
          "name": "stdout",
          "text": [
            "Step 1410, train loss:0.0833, test loss:0.8088\n"
          ]
        },
        {
          "output_type": "stream",
          "name": "stderr",
          "text": [
            " 14%|█▍        | 1420/10000 [16:39<48:36,  2.94it/s]"
          ]
        },
        {
          "output_type": "stream",
          "name": "stdout",
          "text": [
            "Step 1420, train loss:0.0819, test loss:0.8020\n"
          ]
        },
        {
          "output_type": "stream",
          "name": "stderr",
          "text": [
            " 14%|█▍        | 1430/10000 [16:44<47:35,  3.00it/s]"
          ]
        },
        {
          "output_type": "stream",
          "name": "stdout",
          "text": [
            "Step 1430, train loss:0.2469, test loss:0.7873\n"
          ]
        },
        {
          "output_type": "stream",
          "name": "stderr",
          "text": [
            " 14%|█▍        | 1440/10000 [16:49<48:03,  2.97it/s]"
          ]
        },
        {
          "output_type": "stream",
          "name": "stdout",
          "text": [
            "Step 1440, train loss:0.1089, test loss:0.7877\n"
          ]
        },
        {
          "output_type": "stream",
          "name": "stderr",
          "text": [
            " 14%|█▍        | 1450/10000 [16:54<47:28,  3.00it/s]"
          ]
        },
        {
          "output_type": "stream",
          "name": "stdout",
          "text": [
            "Step 1450, train loss:0.0896, test loss:0.7948\n"
          ]
        },
        {
          "output_type": "stream",
          "name": "stderr",
          "text": [
            " 15%|█▍        | 1460/10000 [16:59<47:31,  2.99it/s]"
          ]
        },
        {
          "output_type": "stream",
          "name": "stdout",
          "text": [
            "Step 1460, train loss:0.0829, test loss:0.7820\n"
          ]
        },
        {
          "output_type": "stream",
          "name": "stderr",
          "text": [
            " 15%|█▍        | 1470/10000 [17:04<48:21,  2.94it/s]"
          ]
        },
        {
          "output_type": "stream",
          "name": "stdout",
          "text": [
            "Step 1470, train loss:0.0742, test loss:0.7978\n"
          ]
        },
        {
          "output_type": "stream",
          "name": "stderr",
          "text": [
            " 15%|█▍        | 1480/10000 [17:09<48:08,  2.95it/s]"
          ]
        },
        {
          "output_type": "stream",
          "name": "stdout",
          "text": [
            "Step 1480, train loss:0.0714, test loss:0.7842\n"
          ]
        },
        {
          "output_type": "stream",
          "name": "stderr",
          "text": [
            " 15%|█▍        | 1490/10000 [17:14<47:26,  2.99it/s]"
          ]
        },
        {
          "output_type": "stream",
          "name": "stdout",
          "text": [
            "Step 1490, train loss:0.0684, test loss:0.7835\n"
          ]
        },
        {
          "output_type": "stream",
          "name": "stderr",
          "text": [
            " 15%|█▌        | 1500/10000 [17:19<47:26,  2.99it/s]"
          ]
        },
        {
          "output_type": "stream",
          "name": "stdout",
          "text": [
            "Step 1500, train loss:0.4468, test loss:1.2549\n",
            "\n",
            "\n",
            "all loather kolder:\n",
            "\n",
            "DUCHESS OF YORK:\n",
            "\n",
            "Lord Had a lowly kill metal, O would the chare's\n",
            "a\n",
            "plotker early son? O kind how I look'd up in the king\n",
            "shall bear hate Romeo talk of mour look'd\n",
            "Upon kee that Henry's wallow may up to ordsate\n",
            "ha thee by foolo odd keel of the dofford's breath.\n",
            "\n",
            "BUCKINGHAM:\n",
            "Cankle officert was Edaes wofullo so home,\n",
            "But sooking the king foolous doomortal make\n",
            "A king hath brought uponF me asce,\n",
            "Came  poor on some obedience to cupoofousor\n",
            "So  offic ao I thank a burily comeo God!\n",
            "e Edward, though battle!\n",
            "Could butch hims shall be come fool, butchereaf:\n",
            "Bohemike him sucreous tool, more fublood in Jucore.\n",
            "Was't thou part booodockme most of Tredoocd\n",
            "Become off on mucatooocbound this foool!\n",
            "A causoff of coupoison! owe could have been,\n",
            "So our worship; butchere! the celfst but change too;\n",
            "Bools upoof him, make him sou dock toother, of my word\n",
            "Who\n",
            "said his foe; Bolk usureo. Go foful coffing it cry!\n",
            "scrooch office make, whose build course off once foolid, poool!\n",
            "You foolidom\n",
            "Step 1500, train loss:0.4717, test loss:1.2537\n"
          ]
        },
        {
          "output_type": "stream",
          "name": "stderr",
          "text": [
            " 15%|█▌        | 1510/10000 [17:43<1:20:23,  1.76it/s]"
          ]
        },
        {
          "output_type": "stream",
          "name": "stdout",
          "text": [
            "Step 1510, train loss:0.3878, test loss:1.0882\n"
          ]
        },
        {
          "output_type": "stream",
          "name": "stderr",
          "text": [
            " 15%|█▌        | 1520/10000 [17:48<47:41,  2.96it/s]"
          ]
        },
        {
          "output_type": "stream",
          "name": "stdout",
          "text": [
            "Step 1520, train loss:0.2741, test loss:0.9397\n"
          ]
        },
        {
          "output_type": "stream",
          "name": "stderr",
          "text": [
            " 15%|█▌        | 1530/10000 [17:53<47:27,  2.97it/s]"
          ]
        },
        {
          "output_type": "stream",
          "name": "stdout",
          "text": [
            "Step 1530, train loss:0.2061, test loss:0.8303\n"
          ]
        },
        {
          "output_type": "stream",
          "name": "stderr",
          "text": [
            " 15%|█▌        | 1540/10000 [17:58<47:19,  2.98it/s]"
          ]
        },
        {
          "output_type": "stream",
          "name": "stdout",
          "text": [
            "Step 1540, train loss:0.1681, test loss:0.7680\n"
          ]
        },
        {
          "output_type": "stream",
          "name": "stderr",
          "text": [
            " 16%|█▌        | 1550/10000 [18:03<46:52,  3.00it/s]"
          ]
        },
        {
          "output_type": "stream",
          "name": "stdout",
          "text": [
            "Step 1550, train loss:0.1420, test loss:0.7565\n"
          ]
        },
        {
          "output_type": "stream",
          "name": "stderr",
          "text": [
            " 16%|█▌        | 1560/10000 [18:08<47:20,  2.97it/s]"
          ]
        },
        {
          "output_type": "stream",
          "name": "stdout",
          "text": [
            "Step 1560, train loss:0.1231, test loss:0.7219\n"
          ]
        },
        {
          "output_type": "stream",
          "name": "stderr",
          "text": [
            " 16%|█▌        | 1570/10000 [18:13<48:11,  2.91it/s]"
          ]
        },
        {
          "output_type": "stream",
          "name": "stdout",
          "text": [
            "Step 1570, train loss:0.1082, test loss:0.7283\n"
          ]
        },
        {
          "output_type": "stream",
          "name": "stderr",
          "text": [
            " 16%|█▌        | 1580/10000 [18:18<46:50,  3.00it/s]"
          ]
        },
        {
          "output_type": "stream",
          "name": "stdout",
          "text": [
            "Step 1580, train loss:0.0996, test loss:0.7312\n"
          ]
        },
        {
          "output_type": "stream",
          "name": "stderr",
          "text": [
            " 16%|█▌        | 1590/10000 [18:23<46:41,  3.00it/s]"
          ]
        },
        {
          "output_type": "stream",
          "name": "stdout",
          "text": [
            "Step 1590, train loss:0.0933, test loss:0.7340\n"
          ]
        },
        {
          "output_type": "stream",
          "name": "stderr",
          "text": [
            " 16%|█▌        | 1600/10000 [18:28<47:41,  2.94it/s]"
          ]
        },
        {
          "output_type": "stream",
          "name": "stdout",
          "text": [
            "Step 1600, train loss:0.0883, test loss:0.7021\n",
            "\n",
            "\n",
            "blelding i' the cellish o'er?\n",
            "\n",
            "Second Murderer:\n",
            "'Tis govern old Services be\n",
            "it lawfully.\n",
            "\n",
            "obedience we should have you delirer's blood\n",
            "o' Marying like a courtengoos!\n",
            "\n",
            "Second Mercutio's lieutenant have I\n",
            "keep or do in't\n",
            "with loating 'twere here all 'the light:' sleep where it is in\n",
            "re too delight\n",
            "have a thought live armour in the murder well.\n",
            "\n",
            "ir the:\n",
            "report blow that noble lord: this\n",
            "me armour, is gone and the gods,\n",
            "at the least of deserve\n",
            "But quite the many 't: of 'twere the life, in my\n",
            "Mest are true this, though I cannot\n",
            "Marry 't, this scatter,' flowers unto the orator,\n",
            "Bid go unre unto the thing brawls, but\n",
            "thou or bitter must throw govern eye, sir,\n",
            "Even more so nature, :\n",
            "\n",
            "GLOUCESTER:\n",
            "\n",
            "BALTHASAR:\n",
            "My brother else, ho, a gentleman\n",
            "Should be thus to my slatter'd word:\n",
            "No, Bolingbroke, thou stay'd and sooner be\n",
            "the sovereign in thy noble spirit!\n",
            "\n",
            "EDWARD:\n",
            "I bury, because thee so unbid,\n",
            "yet prattle, play your mistress slay we call so\n",
            "put at Mariana.\n",
            "i' thy brother Duke, tell him state;\n",
            "An\n",
            "Step 1600, train loss:0.0886, test loss:0.7152\n"
          ]
        },
        {
          "output_type": "stream",
          "name": "stderr",
          "text": [
            " 16%|█▌        | 1610/10000 [18:52<1:18:31,  1.78it/s]"
          ]
        },
        {
          "output_type": "stream",
          "name": "stdout",
          "text": [
            "Step 1610, train loss:0.0789, test loss:0.7487\n"
          ]
        },
        {
          "output_type": "stream",
          "name": "stderr",
          "text": [
            " 16%|█▌        | 1620/10000 [18:57<47:57,  2.91it/s]"
          ]
        },
        {
          "output_type": "stream",
          "name": "stdout",
          "text": [
            "Step 1620, train loss:0.0755, test loss:0.6957\n"
          ]
        },
        {
          "output_type": "stream",
          "name": "stderr",
          "text": [
            " 16%|█▋        | 1630/10000 [19:02<47:18,  2.95it/s]"
          ]
        },
        {
          "output_type": "stream",
          "name": "stdout",
          "text": [
            "Step 1630, train loss:0.0734, test loss:0.7222\n"
          ]
        },
        {
          "output_type": "stream",
          "name": "stderr",
          "text": [
            " 16%|█▋        | 1640/10000 [19:07<46:15,  3.01it/s]"
          ]
        },
        {
          "output_type": "stream",
          "name": "stdout",
          "text": [
            "Step 1640, train loss:0.0669, test loss:0.7354\n"
          ]
        },
        {
          "output_type": "stream",
          "name": "stderr",
          "text": [
            " 16%|█▋        | 1650/10000 [19:12<46:21,  3.00it/s]"
          ]
        },
        {
          "output_type": "stream",
          "name": "stdout",
          "text": [
            "Step 1650, train loss:0.0649, test loss:0.7274\n"
          ]
        },
        {
          "output_type": "stream",
          "name": "stderr",
          "text": [
            " 17%|█▋        | 1660/10000 [19:17<47:12,  2.94it/s]"
          ]
        },
        {
          "output_type": "stream",
          "name": "stdout",
          "text": [
            "Step 1660, train loss:0.0595, test loss:0.6962\n"
          ]
        },
        {
          "output_type": "stream",
          "name": "stderr",
          "text": [
            " 17%|█▋        | 1670/10000 [19:22<46:14,  3.00it/s]"
          ]
        },
        {
          "output_type": "stream",
          "name": "stdout",
          "text": [
            "Step 1670, train loss:0.0573, test loss:0.7189\n"
          ]
        },
        {
          "output_type": "stream",
          "name": "stderr",
          "text": [
            " 17%|█▋        | 1680/10000 [19:27<46:19,  2.99it/s]"
          ]
        },
        {
          "output_type": "stream",
          "name": "stdout",
          "text": [
            "Step 1680, train loss:0.0559, test loss:0.7485\n"
          ]
        },
        {
          "output_type": "stream",
          "name": "stderr",
          "text": [
            " 17%|█▋        | 1690/10000 [19:32<46:53,  2.95it/s]"
          ]
        },
        {
          "output_type": "stream",
          "name": "stdout",
          "text": [
            "Step 1690, train loss:0.0564, test loss:0.7095\n"
          ]
        },
        {
          "output_type": "stream",
          "name": "stderr",
          "text": [
            " 17%|█▋        | 1700/10000 [19:37<46:21,  2.98it/s]"
          ]
        },
        {
          "output_type": "stream",
          "name": "stdout",
          "text": [
            "Step 1700, train loss:0.0537, test loss:0.7326\n",
            "\n",
            "\n",
            "Walk so we we wolls:\n",
            "'Ford way not we sad, 'twas woe the\n",
            "sullar breath of Hollanders;   SIR XERLET:\n",
            "\n",
            "JULIET:\n",
            "Ye women day half out with the darken still be example\n",
            "What word the Duke of Norfolk.\n",
            "\n",
            "First Senator:\n",
            "That date may him do little better lunguity.\n",
            "\n",
            "ISABELLA:\n",
            "Sir, we may obey here Angelo: but a desire as rub.\n",
            "\n",
            "Clown:\n",
            "He's a brave I put intent the burst of.\n",
            "I cannot sleep earth.\n",
            "\n",
            "First Marwick:\n",
            "So love me I can dwant.\n",
            "\n",
            "HOMBERLAND:\n",
            "NoHoli. Tame that a bear with a cause.\n",
            "\n",
            "MERCUTIO:\n",
            "I love it faith.\n",
            "\n",
            "ISABELLA:\n",
            "Ay, when from me was ne'er like a foster curse.\n",
            "\n",
            "First Seemer:\n",
            "No mate I warrant and berett one peep.\n",
            "\n",
            "MERCUTIO:\n",
            "Saw what comes remembers? care I am man in thine.\n",
            "\n",
            "ROMEO:\n",
            "And she be at married when be I am, as in me.\n",
            "Madest thou, if the news.\n",
            "\n",
            "MERCUTIO:\n",
            "Now, what is must raled as he has enemies.\n",
            "\n",
            "SICINIUS:\n",
            "I am king it.\n",
            "\n",
            "BRUTUS:\n",
            "If and me.\n",
            "\n",
            "MERCUTIO:\n",
            "fairest that pregnant is am. Camillo; as I learn'd, must in brief?\n",
            "\n",
            "AUFIDIUS:\n",
            "No. I am marry wheel this man reason. Mills,\n",
            "redem\n",
            "Step 1700, train loss:0.0541, test loss:0.6995\n"
          ]
        },
        {
          "output_type": "stream",
          "name": "stderr",
          "text": [
            " 17%|█▋        | 1710/10000 [20:01<1:17:43,  1.78it/s]"
          ]
        },
        {
          "output_type": "stream",
          "name": "stdout",
          "text": [
            "Step 1710, train loss:0.0519, test loss:0.7178\n"
          ]
        },
        {
          "output_type": "stream",
          "name": "stderr",
          "text": [
            " 17%|█▋        | 1720/10000 [20:06<47:40,  2.90it/s]"
          ]
        },
        {
          "output_type": "stream",
          "name": "stdout",
          "text": [
            "Step 1720, train loss:0.0494, test loss:0.6926\n"
          ]
        },
        {
          "output_type": "stream",
          "name": "stderr",
          "text": [
            " 17%|█▋        | 1730/10000 [20:11<45:54,  3.00it/s]"
          ]
        },
        {
          "output_type": "stream",
          "name": "stdout",
          "text": [
            "Step 1730, train loss:0.0486, test loss:0.7392\n"
          ]
        },
        {
          "output_type": "stream",
          "name": "stderr",
          "text": [
            " 17%|█▋        | 1740/10000 [20:16<45:47,  3.01it/s]"
          ]
        },
        {
          "output_type": "stream",
          "name": "stdout",
          "text": [
            "Step 1740, train loss:0.0482, test loss:0.7078\n"
          ]
        },
        {
          "output_type": "stream",
          "name": "stderr",
          "text": [
            " 18%|█▊        | 1750/10000 [20:21<46:21,  2.97it/s]"
          ]
        },
        {
          "output_type": "stream",
          "name": "stdout",
          "text": [
            "Step 1750, train loss:0.0482, test loss:0.7151\n"
          ]
        },
        {
          "output_type": "stream",
          "name": "stderr",
          "text": [
            " 18%|█▊        | 1760/10000 [20:26<45:54,  2.99it/s]"
          ]
        },
        {
          "output_type": "stream",
          "name": "stdout",
          "text": [
            "Step 1760, train loss:0.0502, test loss:0.7269\n"
          ]
        },
        {
          "output_type": "stream",
          "name": "stderr",
          "text": [
            " 18%|█▊        | 1770/10000 [20:31<45:41,  3.00it/s]"
          ]
        },
        {
          "output_type": "stream",
          "name": "stdout",
          "text": [
            "Step 1770, train loss:0.0477, test loss:0.7239\n"
          ]
        },
        {
          "output_type": "stream",
          "name": "stderr",
          "text": [
            " 18%|█▊        | 1780/10000 [20:36<46:29,  2.95it/s]"
          ]
        },
        {
          "output_type": "stream",
          "name": "stdout",
          "text": [
            "Step 1780, train loss:0.0472, test loss:0.7389\n"
          ]
        },
        {
          "output_type": "stream",
          "name": "stderr",
          "text": [
            " 18%|█▊        | 1790/10000 [20:41<46:12,  2.96it/s]"
          ]
        },
        {
          "output_type": "stream",
          "name": "stdout",
          "text": [
            "Step 1790, train loss:0.0430, test loss:0.7251\n"
          ]
        },
        {
          "output_type": "stream",
          "name": "stderr",
          "text": [
            " 18%|█▊        | 1800/10000 [20:46<45:44,  2.99it/s]"
          ]
        },
        {
          "output_type": "stream",
          "name": "stdout",
          "text": [
            "Step 1800, train loss:0.0434, test loss:0.7194\n",
            "\n",
            "\n",
            "didmad me not the king for the dead mankind\n",
            "commit him did not the king be the sea.\n",
            "\n",
            "DUKE OF YORK:\n",
            "\n",
            "Mended madam, word 'just do the dial the\n",
            "morrow that the Tybalt's degree the worldly simple\n",
            "the doth the Tamworth to 's dead the dam?\n",
            "\n",
            "Second Of the world.\n",
            "\n",
            "DUKE OF YORK: I think here for a\n",
            "dismiss much upon't.\n",
            "\n",
            "RATCLIFF:\n",
            "In Rome my sawly.\n",
            "\n",
            "AUFIDIUS:\n",
            "O them deposed; 'tis he should of the day dock\n",
            "\n",
            "First Senator:\n",
            "\n",
            "ISABELLA:\n",
            "I do write of me.\n",
            "\n",
            "ANTIGONUS:\n",
            "remember, raise it.\n",
            "\n",
            "CATESBY:\n",
            "Not well them.\n",
            "\n",
            "JULIET:\n",
            "good! I do not speak but I cannot tell from\n",
            "our meet,--for in the good whom I,\n",
            "not leaves.\n",
            "\n",
            "BUCKINGHAM:\n",
            "I sent him not.\n",
            "\n",
            "ANGELO:\n",
            "\n",
            "ISABELLA:\n",
            "Before I see the wilt so no deep.\n",
            "\n",
            "NORTHUMAS:\n",
            "Ay, reckless she, more in 'elder.\n",
            "\n",
            "Clown:\n",
            "They that the villain's charge is head.\n",
            "\n",
            "Servant:\n",
            "I what has before--\n",
            "\n",
            "TRATIO:\n",
            "And fixil vex would I love that the hand lived?\n",
            "\n",
            "Second Of ADY:\n",
            "I cannot forget death.\n",
            "\n",
            "BRAKENBURY:\n",
            "Let Tim do the holy hot Romeo's sons.\n",
            "\n",
            "CATESBY:\n",
            "The flock till the earthly home of c\n",
            "Step 1800, train loss:0.0436, test loss:0.7534\n"
          ]
        },
        {
          "output_type": "stream",
          "name": "stderr",
          "text": [
            " 18%|█▊        | 1810/10000 [21:10<1:17:23,  1.76it/s]"
          ]
        },
        {
          "output_type": "stream",
          "name": "stdout",
          "text": [
            "Step 1810, train loss:0.0434, test loss:0.7202\n"
          ]
        },
        {
          "output_type": "stream",
          "name": "stderr",
          "text": [
            " 18%|█▊        | 1820/10000 [21:15<46:08,  2.96it/s]"
          ]
        },
        {
          "output_type": "stream",
          "name": "stdout",
          "text": [
            "Step 1820, train loss:0.0393, test loss:0.7174\n"
          ]
        },
        {
          "output_type": "stream",
          "name": "stderr",
          "text": [
            " 18%|█▊        | 1830/10000 [21:20<45:08,  3.02it/s]"
          ]
        },
        {
          "output_type": "stream",
          "name": "stdout",
          "text": [
            "Step 1830, train loss:0.0418, test loss:0.7593\n"
          ]
        },
        {
          "output_type": "stream",
          "name": "stderr",
          "text": [
            " 18%|█▊        | 1840/10000 [21:25<46:11,  2.94it/s]"
          ]
        },
        {
          "output_type": "stream",
          "name": "stdout",
          "text": [
            "Step 1840, train loss:0.0368, test loss:0.7450\n"
          ]
        },
        {
          "output_type": "stream",
          "name": "stderr",
          "text": [
            " 18%|█▊        | 1850/10000 [21:30<45:40,  2.97it/s]"
          ]
        },
        {
          "output_type": "stream",
          "name": "stdout",
          "text": [
            "Step 1850, train loss:0.0398, test loss:0.7476\n"
          ]
        },
        {
          "output_type": "stream",
          "name": "stderr",
          "text": [
            " 19%|█▊        | 1860/10000 [21:35<45:07,  3.01it/s]"
          ]
        },
        {
          "output_type": "stream",
          "name": "stdout",
          "text": [
            "Step 1860, train loss:0.0407, test loss:0.8124\n"
          ]
        },
        {
          "output_type": "stream",
          "name": "stderr",
          "text": [
            " 19%|█▊        | 1870/10000 [21:40<45:31,  2.98it/s]"
          ]
        },
        {
          "output_type": "stream",
          "name": "stdout",
          "text": [
            "Step 1870, train loss:0.0392, test loss:0.7441\n"
          ]
        },
        {
          "output_type": "stream",
          "name": "stderr",
          "text": [
            " 19%|█▉        | 1880/10000 [21:45<45:58,  2.94it/s]"
          ]
        },
        {
          "output_type": "stream",
          "name": "stdout",
          "text": [
            "Step 1880, train loss:0.0398, test loss:0.7075\n"
          ]
        },
        {
          "output_type": "stream",
          "name": "stderr",
          "text": [
            " 19%|█▉        | 1890/10000 [21:50<45:07,  3.00it/s]"
          ]
        },
        {
          "output_type": "stream",
          "name": "stdout",
          "text": [
            "Step 1890, train loss:0.0366, test loss:0.6875\n"
          ]
        },
        {
          "output_type": "stream",
          "name": "stderr",
          "text": [
            " 19%|█▉        | 1900/10000 [21:55<44:59,  3.00it/s]"
          ]
        },
        {
          "output_type": "stream",
          "name": "stdout",
          "text": [
            "Step 1900, train loss:0.0379, test loss:0.7219\n",
            "\n",
            "\n",
            "THoic on 'More Tome:\n",
            "\n",
            "EDWARD:\n",
            "'Tis odd behold, Lord Angelo with a torch.\n",
            "\n",
            "QUEEN MARGARET:\n",
            "To London with English dogracious mother,\n",
            "En Tops of Time Lord Hastings a Verona\n",
            "On Tybalt's death, do I expited zeating\n",
            "His fortness for death Edward feel I\n",
            "Heart to hide his own charity.\n",
            "\n",
            "KING RICHARD II:\n",
            "Then for this os the town, although it on.\n",
            "\n",
            "JULIET:\n",
            "One LETRENIO:\n",
            "Bid her how now, ourselves to sit princes, who sold\n",
            "favour in the moons, still find attain betal\n",
            "Fools desperate would dive QUenching I would ain\n",
            "to God's smooth the state! And here which he loves to cheek,\n",
            "By soil in my good dances so with all still.\n",
            "\n",
            "JULIET:\n",
            "Make his wisely love, and swear so.\n",
            "Camillo and the fortunate I stand like so bs!--\n",
            "Messenger: well me wend, in do know with age.\n",
            "\n",
            "BUCKINGHAM:\n",
            "Let his foe us warriors, go ap with me!\n",
            "\n",
            "JULIET:\n",
            "I'll mean, sir: every , or show so love, since: let me castle:\n",
            "His fair lord,\n",
            "Valine, Gaunt Serving, I all to find our care.\n",
            "Ho lords, I know fight very with much sweet,\n",
            "Come to cheque\n",
            "Step 1900, train loss:0.0368, test loss:0.7232\n"
          ]
        },
        {
          "output_type": "stream",
          "name": "stderr",
          "text": [
            " 19%|█▉        | 1910/10000 [22:19<1:16:26,  1.76it/s]"
          ]
        },
        {
          "output_type": "stream",
          "name": "stdout",
          "text": [
            "Step 1910, train loss:0.0366, test loss:0.7524\n"
          ]
        },
        {
          "output_type": "stream",
          "name": "stderr",
          "text": [
            " 19%|█▉        | 1920/10000 [22:24<45:32,  2.96it/s]"
          ]
        },
        {
          "output_type": "stream",
          "name": "stdout",
          "text": [
            "Step 1920, train loss:0.0339, test loss:0.7800\n"
          ]
        },
        {
          "output_type": "stream",
          "name": "stderr",
          "text": [
            " 19%|█▉        | 1930/10000 [22:29<45:11,  2.98it/s]"
          ]
        },
        {
          "output_type": "stream",
          "name": "stdout",
          "text": [
            "Step 1930, train loss:0.0364, test loss:0.7481\n"
          ]
        },
        {
          "output_type": "stream",
          "name": "stderr",
          "text": [
            " 19%|█▉        | 1940/10000 [22:34<45:15,  2.97it/s]"
          ]
        },
        {
          "output_type": "stream",
          "name": "stdout",
          "text": [
            "Step 1940, train loss:0.0341, test loss:0.7628\n"
          ]
        },
        {
          "output_type": "stream",
          "name": "stderr",
          "text": [
            " 20%|█▉        | 1950/10000 [22:39<44:29,  3.02it/s]"
          ]
        },
        {
          "output_type": "stream",
          "name": "stdout",
          "text": [
            "Step 1950, train loss:0.0353, test loss:0.7317\n"
          ]
        },
        {
          "output_type": "stream",
          "name": "stderr",
          "text": [
            " 20%|█▉        | 1960/10000 [22:44<44:20,  3.02it/s]"
          ]
        },
        {
          "output_type": "stream",
          "name": "stdout",
          "text": [
            "Step 1960, train loss:0.0348, test loss:0.7324\n"
          ]
        },
        {
          "output_type": "stream",
          "name": "stderr",
          "text": [
            " 20%|█▉        | 1970/10000 [22:49<45:39,  2.93it/s]"
          ]
        },
        {
          "output_type": "stream",
          "name": "stdout",
          "text": [
            "Step 1970, train loss:0.0358, test loss:0.7321\n"
          ]
        },
        {
          "output_type": "stream",
          "name": "stderr",
          "text": [
            " 20%|█▉        | 1980/10000 [22:54<44:24,  3.01it/s]"
          ]
        },
        {
          "output_type": "stream",
          "name": "stdout",
          "text": [
            "Step 1980, train loss:0.0334, test loss:0.7318\n"
          ]
        },
        {
          "output_type": "stream",
          "name": "stderr",
          "text": [
            " 20%|█▉        | 1990/10000 [22:59<44:33,  3.00it/s]"
          ]
        },
        {
          "output_type": "stream",
          "name": "stdout",
          "text": [
            "Step 1990, train loss:0.0323, test loss:0.7335\n"
          ]
        },
        {
          "output_type": "stream",
          "name": "stderr",
          "text": [
            " 20%|██        | 2000/10000 [23:04<45:13,  2.95it/s]"
          ]
        },
        {
          "output_type": "stream",
          "name": "stdout",
          "text": [
            "Step 2000, train loss:0.0316, test loss:0.7242\n",
            "\n",
            "\n",
            "Northlike cords!\n",
            "\n",
            "Lord Marquit heartily:\n",
            "\n",
            "Corioli like the world be counted?\n",
            "\n",
            "Second Murderer:\n",
            "Thenime Paris have I to enrither be done?\n",
            "\n",
            "First Murderer:\n",
            "\n",
            "Paint Citizen!\n",
            "\n",
            "Lord Mayor:\n",
            "Dear be his hell-to 't, Bredelme, be imparted\n",
            "he harm been! what be in liuser that?\n",
            "\n",
            "Second Citizen:\n",
            "I will committed him in: he could kill then,--\n",
            "\n",
            "ISABELLA:\n",
            "But in him I beseem, better, in it be,--\n",
            "\n",
            "LUCIO:\n",
            "If it shsphker, time it in men, make\n",
            "the knight in it is, I think it is sweet, I part thy help.\n",
            "\n",
            "BENVOLIO:\n",
            "but this the 'em.\n",
            "\n",
            "Clarencence!\n",
            "\n",
            "GEORGE:\n",
            "I know not: gift it is, but tell come now.\n",
            "\n",
            "Cluckerer, Vaughan, gentle boy!\n",
            "\n",
            "PARIS:\n",
            "He gentles the banish'd custom twain; this tceen\n",
            "And passage you home, is to your Clarence; you send\n",
            "At the grief; no, BENVOLIO:\n",
            "And leap, to every land with thy cousin bid\n",
            "That not say your king, you'll be my kin should Caius is\n",
            "a\n",
            "banish'd yes of kinsman! Delpish the body did leiger is\n",
            "As this into give a dance's bulking--\n",
            "\n",
            "isinecn:\n",
            "Ay, then, it is it known; a subject be bu\n",
            "Step 2000, train loss:0.0330, test loss:0.6741\n"
          ]
        },
        {
          "output_type": "stream",
          "name": "stderr",
          "text": [
            " 20%|██        | 2010/10000 [23:28<1:14:33,  1.79it/s]"
          ]
        },
        {
          "output_type": "stream",
          "name": "stdout",
          "text": [
            "Step 2010, train loss:0.0314, test loss:0.7325\n"
          ]
        },
        {
          "output_type": "stream",
          "name": "stderr",
          "text": [
            " 20%|██        | 2020/10000 [23:33<45:08,  2.95it/s]"
          ]
        },
        {
          "output_type": "stream",
          "name": "stdout",
          "text": [
            "Step 2020, train loss:0.0338, test loss:0.7261\n"
          ]
        },
        {
          "output_type": "stream",
          "name": "stderr",
          "text": [
            " 20%|██        | 2030/10000 [23:38<44:57,  2.95it/s]"
          ]
        },
        {
          "output_type": "stream",
          "name": "stdout",
          "text": [
            "Step 2030, train loss:0.0313, test loss:0.7278\n"
          ]
        },
        {
          "output_type": "stream",
          "name": "stderr",
          "text": [
            " 20%|██        | 2040/10000 [23:43<44:11,  3.00it/s]"
          ]
        },
        {
          "output_type": "stream",
          "name": "stdout",
          "text": [
            "Step 2040, train loss:0.0323, test loss:0.7679\n"
          ]
        },
        {
          "output_type": "stream",
          "name": "stderr",
          "text": [
            " 20%|██        | 2050/10000 [23:48<44:18,  2.99it/s]"
          ]
        },
        {
          "output_type": "stream",
          "name": "stdout",
          "text": [
            "Step 2050, train loss:0.0311, test loss:0.7184\n"
          ]
        },
        {
          "output_type": "stream",
          "name": "stderr",
          "text": [
            " 21%|██        | 2060/10000 [23:53<45:07,  2.93it/s]"
          ]
        },
        {
          "output_type": "stream",
          "name": "stdout",
          "text": [
            "Step 2060, train loss:0.0312, test loss:0.7759\n"
          ]
        },
        {
          "output_type": "stream",
          "name": "stderr",
          "text": [
            " 21%|██        | 2070/10000 [23:58<44:12,  2.99it/s]"
          ]
        },
        {
          "output_type": "stream",
          "name": "stdout",
          "text": [
            "Step 2070, train loss:0.0331, test loss:0.7238\n"
          ]
        },
        {
          "output_type": "stream",
          "name": "stderr",
          "text": [
            " 21%|██        | 2080/10000 [24:03<44:02,  3.00it/s]"
          ]
        },
        {
          "output_type": "stream",
          "name": "stdout",
          "text": [
            "Step 2080, train loss:0.0342, test loss:0.7316\n"
          ]
        },
        {
          "output_type": "stream",
          "name": "stderr",
          "text": [
            " 21%|██        | 2090/10000 [24:08<44:30,  2.96it/s]"
          ]
        },
        {
          "output_type": "stream",
          "name": "stdout",
          "text": [
            "Step 2090, train loss:0.0313, test loss:0.7571\n"
          ]
        },
        {
          "output_type": "stream",
          "name": "stderr",
          "text": [
            " 21%|██        | 2100/10000 [24:13<44:17,  2.97it/s]"
          ]
        },
        {
          "output_type": "stream",
          "name": "stdout",
          "text": [
            "Step 2100, train loss:0.0333, test loss:0.7482\n",
            "\n",
            "\n",
            "All Boli?\n",
            "\n",
            "GREGORY:\n",
            "Marry's All-house o' Wales, Signior Lrcile on GRANGARET:\n",
            "\n",
            "GLOUCESTER:\n",
            "\n",
            "POMPHENRY VI:\n",
            "So long mayst o'erleise charity Loving Abhors\n",
            "May will so study?\n",
            "\n",
            "PRINCE LEWIS XI:\n",
            "Romeo's o'er--\n",
            "\n",
            "GLOUCESTER:\n",
            "Look of Warwick, Marcius,\n",
            "You off Marcius Richmonds.\n",
            "\n",
            "YORK:ation:\n",
            "All Cousin, by your impartial.\n",
            "\n",
            "GLOUCESTER:\n",
            "Alack.\n",
            "\n",
            "GLOUCESTER:\n",
            "\n",
            "FRIAR MENENGR:\n",
            "I'll not, sirrah, what raise is with Antial.\n",
            "\n",
            "GLOUCESTER:\n",
            "Amity, since?\n",
            "\n",
            "SAMPSON:\n",
            "Will, my lord, Tituser is how they Caius?\n",
            "\n",
            "POMPEY:\n",
            "Shall hasad upon you.\n",
            "\n",
            "GLOUCESTER:\n",
            "Ay that have son.\n",
            "\n",
            "GLOUCESTER:\n",
            "Not now to rivate and lose.\n",
            "\n",
            "GREGORY:\n",
            "What misadvantage of our season? Gentlemen,\n",
            "And CAPULET:\n",
            "Say how that satisfied: then, who see thee thine?\n",
            "\n",
            "RICHARD:\n",
            "Ah, knave said, and am.\n",
            "\n",
            "AGHORSON:\n",
            "Yet that is TI.\n",
            "\n",
            "SLY:\n",
            "You're shall.\n",
            "\n",
            "GLOUCESTER:\n",
            "Ab Caefised, heIr that had rather hid.\n",
            "\n",
            "GLOUCESTER:\n",
            "Both they call thee from my death,\n",
            "And thus away had a branch words half.\n",
            "\n",
            "GLOUCESTER:\n",
            "\n",
            "Aufidish 'Gainst me:\n",
            "Nay, and look my factions, and\n",
            "Thy fath\n",
            "Step 2100, train loss:0.0321, test loss:0.7455\n"
          ]
        },
        {
          "output_type": "stream",
          "name": "stderr",
          "text": [
            " 21%|██        | 2110/10000 [24:37<1:13:41,  1.78it/s]"
          ]
        },
        {
          "output_type": "stream",
          "name": "stdout",
          "text": [
            "Step 2110, train loss:0.0336, test loss:0.7624\n"
          ]
        },
        {
          "output_type": "stream",
          "name": "stderr",
          "text": [
            " 21%|██        | 2120/10000 [24:42<45:33,  2.88it/s]"
          ]
        },
        {
          "output_type": "stream",
          "name": "stdout",
          "text": [
            "Step 2120, train loss:0.0299, test loss:0.7190\n"
          ]
        },
        {
          "output_type": "stream",
          "name": "stderr",
          "text": [
            " 21%|██▏       | 2130/10000 [24:47<43:42,  3.00it/s]"
          ]
        },
        {
          "output_type": "stream",
          "name": "stdout",
          "text": [
            "Step 2130, train loss:0.0511, test loss:0.7714\n"
          ]
        },
        {
          "output_type": "stream",
          "name": "stderr",
          "text": [
            " 21%|██▏       | 2140/10000 [24:52<43:30,  3.01it/s]"
          ]
        },
        {
          "output_type": "stream",
          "name": "stdout",
          "text": [
            "Step 2140, train loss:0.0811, test loss:0.8018\n"
          ]
        },
        {
          "output_type": "stream",
          "name": "stderr",
          "text": [
            " 22%|██▏       | 2150/10000 [24:57<44:49,  2.92it/s]"
          ]
        },
        {
          "output_type": "stream",
          "name": "stdout",
          "text": [
            "Step 2150, train loss:0.0694, test loss:0.7996\n"
          ]
        },
        {
          "output_type": "stream",
          "name": "stderr",
          "text": [
            " 22%|██▏       | 2160/10000 [25:02<43:48,  2.98it/s]"
          ]
        },
        {
          "output_type": "stream",
          "name": "stdout",
          "text": [
            "Step 2160, train loss:0.0624, test loss:0.7593\n"
          ]
        },
        {
          "output_type": "stream",
          "name": "stderr",
          "text": [
            " 22%|██▏       | 2170/10000 [25:07<43:30,  3.00it/s]"
          ]
        },
        {
          "output_type": "stream",
          "name": "stdout",
          "text": [
            "Step 2170, train loss:0.0579, test loss:0.7561\n"
          ]
        },
        {
          "output_type": "stream",
          "name": "stderr",
          "text": [
            " 22%|██▏       | 2180/10000 [25:12<44:20,  2.94it/s]"
          ]
        },
        {
          "output_type": "stream",
          "name": "stdout",
          "text": [
            "Step 2180, train loss:0.0489, test loss:0.7558\n"
          ]
        },
        {
          "output_type": "stream",
          "name": "stderr",
          "text": [
            " 22%|██▏       | 2190/10000 [25:17<44:05,  2.95it/s]"
          ]
        },
        {
          "output_type": "stream",
          "name": "stdout",
          "text": [
            "Step 2190, train loss:0.0455, test loss:0.7575\n"
          ]
        },
        {
          "output_type": "stream",
          "name": "stderr",
          "text": [
            " 22%|██▏       | 2200/10000 [25:22<43:16,  3.00it/s]"
          ]
        },
        {
          "output_type": "stream",
          "name": "stdout",
          "text": [
            "Step 2200, train loss:0.0439, test loss:0.7845\n",
            "\n",
            "\n",
            "K:\n",
            "'Tis Angelo in 'Madam,'\n",
            "\n",
            "KING EDWARD IV:\n",
            "\n",
            "LADY CATESBY:\n",
            "'Tis in Suppose of Lord:\n",
            "\n",
            "QUEEN MARGARET:\n",
            "'Tis in SCATUS:\n",
            "Upon no hatre; let's go extol it do\n",
            "\n",
            "PATESBY:\n",
            "'Tis no ona, Juliet you a Jacontroon of you\n",
            "So debate you have vipage of you a justly nox,\n",
            "To purpose of fruit, for I am some, exce is\n",
            "\n",
            "Firsel, out loss, of no, go: you cannot a for Irince?\n",
            "\n",
            "ANGELO:\n",
            "Ha! our hath not recover the back, and leave\n",
            "a came of world, since are it you.\n",
            "\n",
            "GLOUCESTER:\n",
            "Do, no so virtue, whom it is.\n",
            "\n",
            "TRANIO:\n",
            "Take her no more I is or you much, for such one:\n",
            "Respecial, sir, my no   off of night for a cause\n",
            "To purpose and beauty micame of a word one,\n",
            "Uncle of bestride our faces but one of wintoc,\n",
            "As of worm should indeed and a bound roses\n",
            "Tuict on the chose of hollow cross of infus' crown;\n",
            "And of fussion fears nime, for nose for a king!\n",
            "\n",
            "RIVERS:\n",
            "The off our Tower in ears unless? if hos our office?\n",
            "And most on, of unjustice should of none hath more\n",
            "Take wneen in husband. -\n",
            "So many, but is sin and face, no mor\n",
            "Step 2200, train loss:0.0439, test loss:0.7419\n"
          ]
        },
        {
          "output_type": "stream",
          "name": "stderr",
          "text": [
            " 22%|██▏       | 2210/10000 [25:46<1:14:05,  1.75it/s]"
          ]
        },
        {
          "output_type": "stream",
          "name": "stdout",
          "text": [
            "Step 2210, train loss:0.0444, test loss:0.7596\n"
          ]
        },
        {
          "output_type": "stream",
          "name": "stderr",
          "text": [
            " 22%|██▏       | 2220/10000 [25:51<44:01,  2.95it/s]"
          ]
        },
        {
          "output_type": "stream",
          "name": "stdout",
          "text": [
            "Step 2220, train loss:0.0405, test loss:0.7265\n"
          ]
        },
        {
          "output_type": "stream",
          "name": "stderr",
          "text": [
            " 22%|██▏       | 2230/10000 [25:56<42:51,  3.02it/s]"
          ]
        },
        {
          "output_type": "stream",
          "name": "stdout",
          "text": [
            "Step 2230, train loss:0.0396, test loss:0.6982\n"
          ]
        },
        {
          "output_type": "stream",
          "name": "stderr",
          "text": [
            " 22%|██▏       | 2240/10000 [26:01<43:57,  2.94it/s]"
          ]
        },
        {
          "output_type": "stream",
          "name": "stdout",
          "text": [
            "Step 2240, train loss:0.0375, test loss:0.7293\n"
          ]
        },
        {
          "output_type": "stream",
          "name": "stderr",
          "text": [
            " 22%|██▎       | 2250/10000 [26:06<43:26,  2.97it/s]"
          ]
        },
        {
          "output_type": "stream",
          "name": "stdout",
          "text": [
            "Step 2250, train loss:0.0393, test loss:0.7159\n"
          ]
        },
        {
          "output_type": "stream",
          "name": "stderr",
          "text": [
            " 23%|██▎       | 2260/10000 [26:11<43:05,  2.99it/s]"
          ]
        },
        {
          "output_type": "stream",
          "name": "stdout",
          "text": [
            "Step 2260, train loss:0.0363, test loss:0.7405\n"
          ]
        },
        {
          "output_type": "stream",
          "name": "stderr",
          "text": [
            " 23%|██▎       | 2270/10000 [26:16<43:14,  2.98it/s]"
          ]
        },
        {
          "output_type": "stream",
          "name": "stdout",
          "text": [
            "Step 2270, train loss:0.0320, test loss:0.7117\n"
          ]
        },
        {
          "output_type": "stream",
          "name": "stderr",
          "text": [
            " 23%|██▎       | 2280/10000 [26:21<43:38,  2.95it/s]"
          ]
        },
        {
          "output_type": "stream",
          "name": "stdout",
          "text": [
            "Step 2280, train loss:0.0335, test loss:0.7430\n"
          ]
        },
        {
          "output_type": "stream",
          "name": "stderr",
          "text": [
            " 23%|██▎       | 2290/10000 [26:26<42:47,  3.00it/s]"
          ]
        },
        {
          "output_type": "stream",
          "name": "stdout",
          "text": [
            "Step 2290, train loss:0.0330, test loss:0.7228\n"
          ]
        },
        {
          "output_type": "stream",
          "name": "stderr",
          "text": [
            " 23%|██▎       | 2300/10000 [26:31<42:47,  3.00it/s]"
          ]
        },
        {
          "output_type": "stream",
          "name": "stdout",
          "text": [
            "Step 2300, train loss:0.0352, test loss:0.7079\n",
            "\n",
            "\n",
            "hath ever have you leave out that have\n",
            "had ever reeky o'e heaving boats that we\n",
            "austerer\n",
            "Is ever have lived of you mean to do't.\n",
            "\n",
            "JULIET:\n",
            "I rebbet yet his hateful living disible\n",
            "Unless fhom we have diesed even now.\n",
            "\n",
            "LUCIO:\n",
            "Whilst lives do not deliver\n",
            "noble daughter soften have thus gill.\n",
            "\n",
            "CAMILLO:\n",
            "Well, king,\n",
            "Is dainted there? and be of disob arrence, mine,\n",
            "Lest to our the house to break an lead she\n",
            "Intended, by the purionant old.\n",
            "Garve me, or keep'st; O girly, answer,\n",
            "I would not so bbeech it: my purge and virtuous\n",
            "And success be all title of my tongues,\n",
            "As well as be cannot wise, I never said,\n",
            "For reading pray to our wit begin, by back,\n",
            "I do not make thee come again I fedge.\n",
            "\n",
            "YORK:\n",
            "So every a wit; this lie, in Irely back-like to you\n",
            "And yield by I; you city in to the king,\n",
            "As this of black-ow'd brother's limbs until to your gate;\n",
            "And fire and in the man that's bed now thy cries\n",
            "The fortune of mine own for my gotten like. Why, but his grow!\n",
            "cries, Aimerle, trust to your kinking; and r\n",
            "Step 2300, train loss:0.0344, test loss:0.7103\n"
          ]
        },
        {
          "output_type": "stream",
          "name": "stderr",
          "text": [
            " 23%|██▎       | 2310/10000 [26:55<1:12:41,  1.76it/s]"
          ]
        },
        {
          "output_type": "stream",
          "name": "stdout",
          "text": [
            "Step 2310, train loss:0.0318, test loss:0.6712\n"
          ]
        },
        {
          "output_type": "stream",
          "name": "stderr",
          "text": [
            " 23%|██▎       | 2320/10000 [27:00<43:16,  2.96it/s]"
          ]
        },
        {
          "output_type": "stream",
          "name": "stdout",
          "text": [
            "Step 2320, train loss:0.0340, test loss:0.7536\n"
          ]
        },
        {
          "output_type": "stream",
          "name": "stderr",
          "text": [
            " 23%|██▎       | 2330/10000 [27:05<42:57,  2.98it/s]"
          ]
        },
        {
          "output_type": "stream",
          "name": "stdout",
          "text": [
            "Step 2330, train loss:0.0312, test loss:0.7152\n"
          ]
        },
        {
          "output_type": "stream",
          "name": "stderr",
          "text": [
            " 23%|██▎       | 2340/10000 [27:10<43:17,  2.95it/s]"
          ]
        },
        {
          "output_type": "stream",
          "name": "stdout",
          "text": [
            "Step 2340, train loss:0.0334, test loss:0.7378\n"
          ]
        },
        {
          "output_type": "stream",
          "name": "stderr",
          "text": [
            " 24%|██▎       | 2350/10000 [27:15<42:21,  3.01it/s]"
          ]
        },
        {
          "output_type": "stream",
          "name": "stdout",
          "text": [
            "Step 2350, train loss:0.0333, test loss:0.7217\n"
          ]
        },
        {
          "output_type": "stream",
          "name": "stderr",
          "text": [
            " 24%|██▎       | 2360/10000 [27:20<42:19,  3.01it/s]"
          ]
        },
        {
          "output_type": "stream",
          "name": "stdout",
          "text": [
            "Step 2360, train loss:0.0323, test loss:0.6850\n"
          ]
        },
        {
          "output_type": "stream",
          "name": "stderr",
          "text": [
            " 24%|██▎       | 2370/10000 [27:25<43:09,  2.95it/s]"
          ]
        },
        {
          "output_type": "stream",
          "name": "stdout",
          "text": [
            "Step 2370, train loss:0.0325, test loss:0.6988\n"
          ]
        },
        {
          "output_type": "stream",
          "name": "stderr",
          "text": [
            " 24%|██▍       | 2380/10000 [27:30<42:24,  3.00it/s]"
          ]
        },
        {
          "output_type": "stream",
          "name": "stdout",
          "text": [
            "Step 2380, train loss:0.0323, test loss:0.6988\n"
          ]
        },
        {
          "output_type": "stream",
          "name": "stderr",
          "text": [
            " 24%|██▍       | 2390/10000 [27:35<42:17,  3.00it/s]"
          ]
        },
        {
          "output_type": "stream",
          "name": "stdout",
          "text": [
            "Step 2390, train loss:0.0298, test loss:0.6877\n"
          ]
        },
        {
          "output_type": "stream",
          "name": "stderr",
          "text": [
            " 24%|██▍       | 2400/10000 [27:40<43:04,  2.94it/s]"
          ]
        },
        {
          "output_type": "stream",
          "name": "stdout",
          "text": [
            "Step 2400, train loss:0.0298, test loss:0.7364\n",
            "\n",
            "\n",
            "aving eveningnam a puittier gentle voices\n",
            "a never-pond extain, and have\n",
            "lent your executioners\n",
            "\n",
            "FRIAR LAURENCE:\n",
            "He that even so joyly unwarning him, 'tis gown\n",
            "It needful noble Verona stubborn\n",
            "\n",
            "YORK:\n",
            "Your height newly hath doth his voice\n",
            "'Twas never your heavy will purchase his country\n",
            "betwixt you Romeo?\n",
            "\n",
            "FLORIZEL:\n",
            "sir, very sir, i' the deckinate's possibly\n",
            "waith souker, wrouble together\n",
            "was no purpose,\n",
            "so painted you not faith, that you but common\n",
            "About it be that you stander-for two kingdoms\n",
            "May our vulgave for't; turn teothes of two misforty\n",
            "taken you good death--which, a reg,--tink how\n",
            "admiting 'twas my fortune's hour honour tuithmen\n",
            "The butter of twelve: and that's sin that you'ld purchance\n",
            "Come, to my remorsel, is 'mongerous\n",
            "Tybalt's party--their fundiscredgm, that\n",
            "I'll go make a husband to be out.'\n",
            "\n",
            "POLIXENES:\n",
            "His but remembers.\n",
            "\n",
            "Lord Stanley,'tis four that must turnk here of purch.\n",
            "\n",
            "GLOUCESTER:\n",
            "Dispose-time doth spurse itress and me with\n",
            "good forbid our blush, the sun whom death\n",
            "Step 2400, train loss:0.0305, test loss:0.7115\n"
          ]
        },
        {
          "output_type": "stream",
          "name": "stderr",
          "text": [
            " 24%|██▍       | 2410/10000 [28:04<1:10:48,  1.79it/s]"
          ]
        },
        {
          "output_type": "stream",
          "name": "stdout",
          "text": [
            "Step 2410, train loss:0.0302, test loss:0.7547\n"
          ]
        },
        {
          "output_type": "stream",
          "name": "stderr",
          "text": [
            " 24%|██▍       | 2420/10000 [28:09<42:48,  2.95it/s]"
          ]
        },
        {
          "output_type": "stream",
          "name": "stdout",
          "text": [
            "Step 2420, train loss:0.0293, test loss:0.6910\n"
          ]
        },
        {
          "output_type": "stream",
          "name": "stderr",
          "text": [
            " 24%|██▍       | 2430/10000 [28:14<42:45,  2.95it/s]"
          ]
        },
        {
          "output_type": "stream",
          "name": "stdout",
          "text": [
            "Step 2430, train loss:0.0299, test loss:0.6880\n"
          ]
        },
        {
          "output_type": "stream",
          "name": "stderr",
          "text": [
            " 24%|██▍       | 2440/10000 [28:19<41:51,  3.01it/s]"
          ]
        },
        {
          "output_type": "stream",
          "name": "stdout",
          "text": [
            "Step 2440, train loss:0.0283, test loss:0.6889\n"
          ]
        },
        {
          "output_type": "stream",
          "name": "stderr",
          "text": [
            " 24%|██▍       | 2450/10000 [28:24<41:50,  3.01it/s]"
          ]
        },
        {
          "output_type": "stream",
          "name": "stdout",
          "text": [
            "Step 2450, train loss:0.0285, test loss:0.7110\n"
          ]
        },
        {
          "output_type": "stream",
          "name": "stderr",
          "text": [
            " 25%|██▍       | 2460/10000 [28:29<42:54,  2.93it/s]"
          ]
        },
        {
          "output_type": "stream",
          "name": "stdout",
          "text": [
            "Step 2460, train loss:0.0279, test loss:0.7379\n"
          ]
        },
        {
          "output_type": "stream",
          "name": "stderr",
          "text": [
            " 25%|██▍       | 2470/10000 [28:34<41:59,  2.99it/s]"
          ]
        },
        {
          "output_type": "stream",
          "name": "stdout",
          "text": [
            "Step 2470, train loss:0.0287, test loss:0.7520\n"
          ]
        },
        {
          "output_type": "stream",
          "name": "stderr",
          "text": [
            " 25%|██▍       | 2480/10000 [28:39<41:35,  3.01it/s]"
          ]
        },
        {
          "output_type": "stream",
          "name": "stdout",
          "text": [
            "Step 2480, train loss:0.0290, test loss:0.7027\n"
          ]
        },
        {
          "output_type": "stream",
          "name": "stderr",
          "text": [
            " 25%|██▍       | 2490/10000 [28:44<42:27,  2.95it/s]"
          ]
        },
        {
          "output_type": "stream",
          "name": "stdout",
          "text": [
            "Step 2490, train loss:0.0280, test loss:0.7220\n"
          ]
        },
        {
          "output_type": "stream",
          "name": "stderr",
          "text": [
            " 25%|██▌       | 2500/10000 [28:49<42:34,  2.94it/s]"
          ]
        },
        {
          "output_type": "stream",
          "name": "stdout",
          "text": [
            "Step 2500, train loss:0.0284, test loss:0.7451\n",
            "\n",
            "\n",
            "out o' the good on Angelo with our good eye\n",
            "too o' the dauping Angelo on\n",
            "him to be executed'd in the own land\n",
            "For heir at Oxford, good untainted gowly\n",
            "Meantime he is of the Annian's guard we?\n",
            "For he is going to divy ta'en upon the gear\n",
            "Affrights us to dish the not counsell'd action.\n",
            "My father tear to my mother purposes\n",
            "And not up the goodman of their arms.\n",
            "I saw not been trusted gape and to that will mean my majesty.\n",
            "And you much best orphan's to take again:\n",
            "For so in piece the meash'st for trudge to my man's\n",
            "And yet to make a pardon with torment will not be;\n",
            "If Paulina's be else to pardon twenty man\n",
            "My swift Paulinable to his confessorant\n",
            "And to 't amendment and the witness.\n",
            "\n",
            "PRINCE EDWARD:\n",
            "Even I have aomerland of nunsin'd with the Far ancient\n",
            "And o'erwhat hear us saw my increaseth will.\n",
            "Let me benefit with any home:\n",
            "Call my services we'll to dead any wet;\n",
            "And show my when young'st to tune's ancest tongue:\n",
            "I hope to inqueaset my brothers.\n",
            "\n",
            "VALERIA:\n",
            "So many are you am sacred to heaven\n",
            "Step 2500, train loss:0.0288, test loss:0.6934\n"
          ]
        },
        {
          "output_type": "stream",
          "name": "stderr",
          "text": [
            " 25%|██▌       | 2510/10000 [29:13<1:10:00,  1.78it/s]"
          ]
        },
        {
          "output_type": "stream",
          "name": "stdout",
          "text": [
            "Step 2510, train loss:0.0267, test loss:0.7497\n"
          ]
        },
        {
          "output_type": "stream",
          "name": "stderr",
          "text": [
            " 25%|██▌       | 2520/10000 [29:18<43:02,  2.90it/s]"
          ]
        },
        {
          "output_type": "stream",
          "name": "stdout",
          "text": [
            "Step 2520, train loss:0.0281, test loss:0.7607\n"
          ]
        },
        {
          "output_type": "stream",
          "name": "stderr",
          "text": [
            " 25%|██▌       | 2530/10000 [29:23<41:36,  2.99it/s]"
          ]
        },
        {
          "output_type": "stream",
          "name": "stdout",
          "text": [
            "Step 2530, train loss:0.0279, test loss:0.7444\n"
          ]
        },
        {
          "output_type": "stream",
          "name": "stderr",
          "text": [
            " 25%|██▌       | 2540/10000 [29:28<41:14,  3.01it/s]"
          ]
        },
        {
          "output_type": "stream",
          "name": "stdout",
          "text": [
            "Step 2540, train loss:0.0251, test loss:0.7351\n"
          ]
        },
        {
          "output_type": "stream",
          "name": "stderr",
          "text": [
            " 26%|██▌       | 2550/10000 [29:33<41:49,  2.97it/s]"
          ]
        },
        {
          "output_type": "stream",
          "name": "stdout",
          "text": [
            "Step 2550, train loss:0.0262, test loss:0.7570\n"
          ]
        },
        {
          "output_type": "stream",
          "name": "stderr",
          "text": [
            " 26%|██▌       | 2560/10000 [29:38<42:09,  2.94it/s]"
          ]
        },
        {
          "output_type": "stream",
          "name": "stdout",
          "text": [
            "Step 2560, train loss:0.0270, test loss:0.7534\n"
          ]
        },
        {
          "output_type": "stream",
          "name": "stderr",
          "text": [
            " 26%|██▌       | 2570/10000 [29:43<41:10,  3.01it/s]"
          ]
        },
        {
          "output_type": "stream",
          "name": "stdout",
          "text": [
            "Step 2570, train loss:0.0272, test loss:0.7560\n"
          ]
        },
        {
          "output_type": "stream",
          "name": "stderr",
          "text": [
            " 26%|██▌       | 2580/10000 [29:48<41:13,  3.00it/s]"
          ]
        },
        {
          "output_type": "stream",
          "name": "stdout",
          "text": [
            "Step 2580, train loss:0.0269, test loss:0.7179\n"
          ]
        },
        {
          "output_type": "stream",
          "name": "stderr",
          "text": [
            " 26%|██▌       | 2590/10000 [29:53<41:54,  2.95it/s]"
          ]
        },
        {
          "output_type": "stream",
          "name": "stdout",
          "text": [
            "Step 2590, train loss:0.0278, test loss:0.7546\n"
          ]
        },
        {
          "output_type": "stream",
          "name": "stderr",
          "text": [
            " 26%|██▌       | 2600/10000 [29:58<41:22,  2.98it/s]"
          ]
        },
        {
          "output_type": "stream",
          "name": "stdout",
          "text": [
            "Step 2600, train loss:0.0289, test loss:0.7666\n",
            "\n",
            "\n",
            "Yield Mercutio, over a sinute general\n",
            "direct you ever time o'erpacting a cursed hands\n",
            "and weeping, in Wickingham!\n",
            "\n",
            "Lieutenant Clifford and zerour, sirs a\n",
            "second Murderer:\n",
            "\n",
            "AUTOLYCUS:\n",
            "Vicely for Oxford, else, and &eruto\n",
            "Art smilest forced, as \n",
            "\n",
            "AUTOLYCUS:\n",
            "On cruesing, fore slily hath strides,\n",
            "Take our O, BONVOLIO:\n",
            "For kine, a curself,\n",
            "Of thee, reason.\n",
            "\n",
            "MARCIUS:\n",
            "Consciencer: she, go earself--\n",
            "Meet, truck, good is corposely sins,\n",
            "Or rage his own ungent issues, encle?\n",
            "\n",
            "CATESBY:\n",
            "Ay, those it so: thrive and ssearing like irear,\n",
            "Which in safety or presscred reason shroudsce;\n",
            "My life conserve's wife fleeters: O, wherein, she's crown,\n",
            "And if therefore with this sceeting wherefore\n",
            "Rescue, theress of earls, but, or seemse, and expected\n",
            "erestriders? Relixer!\n",
            "Here, such services will sesser, thereof; and I'll not know\n",
            "Of York, cruel for't; I'll make, feel as there, you\n",
            "safe, hief, and, to himself, my friends.\n",
            "\n",
            "DUKE OF YORK:\n",
            "If, Tyrrel, strong, for me, since, whereof: Coven, much,\n",
            "Of our enemy's gri\n",
            "Step 2600, train loss:0.0267, test loss:0.7541\n"
          ]
        },
        {
          "output_type": "stream",
          "name": "stderr",
          "text": [
            " 26%|██▌       | 2610/10000 [30:21<1:09:05,  1.78it/s]"
          ]
        },
        {
          "output_type": "stream",
          "name": "stdout",
          "text": [
            "Step 2610, train loss:0.0255, test loss:0.7260\n"
          ]
        },
        {
          "output_type": "stream",
          "name": "stderr",
          "text": [
            " 26%|██▌       | 2620/10000 [30:26<42:28,  2.90it/s]"
          ]
        },
        {
          "output_type": "stream",
          "name": "stdout",
          "text": [
            "Step 2620, train loss:0.0255, test loss:0.7123\n"
          ]
        },
        {
          "output_type": "stream",
          "name": "stderr",
          "text": [
            " 26%|██▋       | 2630/10000 [30:31<40:42,  3.02it/s]"
          ]
        },
        {
          "output_type": "stream",
          "name": "stdout",
          "text": [
            "Step 2630, train loss:0.0254, test loss:0.7170\n"
          ]
        },
        {
          "output_type": "stream",
          "name": "stderr",
          "text": [
            " 26%|██▋       | 2640/10000 [30:36<40:54,  3.00it/s]"
          ]
        },
        {
          "output_type": "stream",
          "name": "stdout",
          "text": [
            "Step 2640, train loss:0.0242, test loss:0.7396\n"
          ]
        },
        {
          "output_type": "stream",
          "name": "stderr",
          "text": [
            " 26%|██▋       | 2650/10000 [30:41<41:25,  2.96it/s]"
          ]
        },
        {
          "output_type": "stream",
          "name": "stdout",
          "text": [
            "Step 2650, train loss:0.0241, test loss:0.7256\n"
          ]
        },
        {
          "output_type": "stream",
          "name": "stderr",
          "text": [
            " 27%|██▋       | 2660/10000 [30:46<40:48,  3.00it/s]"
          ]
        },
        {
          "output_type": "stream",
          "name": "stdout",
          "text": [
            "Step 2660, train loss:0.0258, test loss:0.7550\n"
          ]
        },
        {
          "output_type": "stream",
          "name": "stderr",
          "text": [
            " 27%|██▋       | 2670/10000 [30:51<40:41,  3.00it/s]"
          ]
        },
        {
          "output_type": "stream",
          "name": "stdout",
          "text": [
            "Step 2670, train loss:0.0246, test loss:0.7076\n"
          ]
        },
        {
          "output_type": "stream",
          "name": "stderr",
          "text": [
            " 27%|██▋       | 2680/10000 [30:56<41:34,  2.93it/s]"
          ]
        },
        {
          "output_type": "stream",
          "name": "stdout",
          "text": [
            "Step 2680, train loss:0.0261, test loss:0.7601\n"
          ]
        },
        {
          "output_type": "stream",
          "name": "stderr",
          "text": [
            " 27%|██▋       | 2690/10000 [31:01<40:35,  3.00it/s]"
          ]
        },
        {
          "output_type": "stream",
          "name": "stdout",
          "text": [
            "Step 2690, train loss:0.0270, test loss:0.7292\n"
          ]
        },
        {
          "output_type": "stream",
          "name": "stderr",
          "text": [
            " 27%|██▋       | 2700/10000 [31:06<40:43,  2.99it/s]"
          ]
        },
        {
          "output_type": "stream",
          "name": "stdout",
          "text": [
            "Step 2700, train loss:0.0245, test loss:0.7281\n",
            "\n",
            "\n",
            "uither good divine eyes on\n",
            "heir indirect daughter the enter bities your\n",
            "insurrection o' the duke one fit hath ever heard\n",
            "of your honour 'tis it butcheress; 'gainst\n",
            "he is o' lives fear o'er-rule away.\n",
            "\n",
            "Lord:\n",
            "'Tis you have in each o'er-rescuit.\n",
            "\n",
            "Lord AxER:\n",
            "'Twere oaked up your office.'\n",
            "You'rance be itself: the next you have a woman.\n",
            "Your ancient waterward.\n",
            "\n",
            "Lord:\n",
            "O me! fie that you way. We do not sweeter for\n",
            "messenger. I have reason with talk together.\n",
            "\n",
            "LUCIO:\n",
            "O place! Can I. Good myself shall now pretty.\n",
            "\n",
            "SLY:\n",
            "What says 'Reble nurse?'\n",
            "\n",
            "SICINIUS:\n",
            "There every want, you away.\n",
            "\n",
            "MENENIUS:\n",
            "Only he with bread! What, respects? the news hour, you hear\n",
            "fuster for any palsy.\n",
            "\n",
            "ESCALUS:\n",
            "There's not place. Where was hard. Lucentio.\n",
            "\n",
            "HENRY BOLINGBROKE:\n",
            "Aary, even at once walks, affected both.\n",
            "\n",
            "KINGHAM:\n",
            "Where is women. will even royal any way: 'What,\n",
            "Hrefer your ripe would prevail'd, weigh's nones\n",
            "Therefore nobleness. There was.\n",
            "\n",
            "EXETER:\n",
            "Would not nor reverence, what raws\n",
            "Than without arms: repress one\n",
            "Step 2700, train loss:0.0247, test loss:0.7430\n"
          ]
        },
        {
          "output_type": "stream",
          "name": "stderr",
          "text": [
            " 27%|██▋       | 2710/10000 [31:31<1:10:04,  1.73it/s]"
          ]
        },
        {
          "output_type": "stream",
          "name": "stdout",
          "text": [
            "Step 2710, train loss:0.0258, test loss:0.7209\n"
          ]
        },
        {
          "output_type": "stream",
          "name": "stderr",
          "text": [
            " 27%|██▋       | 2720/10000 [31:36<41:16,  2.94it/s]"
          ]
        },
        {
          "output_type": "stream",
          "name": "stdout",
          "text": [
            "Step 2720, train loss:0.0631, test loss:0.7596\n"
          ]
        },
        {
          "output_type": "stream",
          "name": "stderr",
          "text": [
            " 27%|██▋       | 2730/10000 [31:41<40:16,  3.01it/s]"
          ]
        },
        {
          "output_type": "stream",
          "name": "stdout",
          "text": [
            "Step 2730, train loss:0.0568, test loss:0.7497\n"
          ]
        },
        {
          "output_type": "stream",
          "name": "stderr",
          "text": [
            " 27%|██▋       | 2740/10000 [31:46<41:19,  2.93it/s]"
          ]
        },
        {
          "output_type": "stream",
          "name": "stdout",
          "text": [
            "Step 2740, train loss:0.0508, test loss:0.7565\n"
          ]
        },
        {
          "output_type": "stream",
          "name": "stderr",
          "text": [
            " 28%|██▊       | 2750/10000 [31:51<40:09,  3.01it/s]"
          ]
        },
        {
          "output_type": "stream",
          "name": "stdout",
          "text": [
            "Step 2750, train loss:0.0479, test loss:0.7420\n"
          ]
        },
        {
          "output_type": "stream",
          "name": "stderr",
          "text": [
            " 28%|██▊       | 2760/10000 [31:56<40:21,  2.99it/s]"
          ]
        },
        {
          "output_type": "stream",
          "name": "stdout",
          "text": [
            "Step 2760, train loss:0.0444, test loss:0.7222\n"
          ]
        },
        {
          "output_type": "stream",
          "name": "stderr",
          "text": [
            " 28%|██▊       | 2770/10000 [32:01<40:53,  2.95it/s]"
          ]
        },
        {
          "output_type": "stream",
          "name": "stdout",
          "text": [
            "Step 2770, train loss:0.0404, test loss:0.7273\n"
          ]
        },
        {
          "output_type": "stream",
          "name": "stderr",
          "text": [
            " 28%|██▊       | 2780/10000 [32:06<40:12,  2.99it/s]"
          ]
        },
        {
          "output_type": "stream",
          "name": "stdout",
          "text": [
            "Step 2780, train loss:0.0370, test loss:0.7412\n"
          ]
        },
        {
          "output_type": "stream",
          "name": "stderr",
          "text": [
            " 28%|██▊       | 2790/10000 [32:11<40:01,  3.00it/s]"
          ]
        },
        {
          "output_type": "stream",
          "name": "stdout",
          "text": [
            "Step 2790, train loss:0.0364, test loss:0.7094\n"
          ]
        },
        {
          "output_type": "stream",
          "name": "stderr",
          "text": [
            " 28%|██▊       | 2800/10000 [32:16<40:50,  2.94it/s]"
          ]
        },
        {
          "output_type": "stream",
          "name": "stdout",
          "text": [
            "Step 2800, train loss:0.0337, test loss:0.7180\n",
            "\n",
            "\n",
            "let life is little life be the\n",
            "liant leisure in this fetch-day lies\n",
            "with limour is the linish with little eyes\n",
            "never in their first have each de\n",
            "lieding thing is lister'd--licker it with\n",
            "The earlina liar now! this is the earth\n",
            "This nightly thrust it will leash it his death.\n",
            "But, till we have man is beat the deed.\n",
            "\n",
            "CLIFFORD:\n",
            "What, do I pains that think it have you?\n",
            "\n",
            "GLOUCESTER:\n",
            "I think a lady make he see\n",
            "merceless calamity maids of the truth.\n",
            "This lie that made has heard her hat of this death.\n",
            "\n",
            "Third Auth:\n",
            "\n",
            "GLOUCESTER:\n",
            "Shall the common waste and some act before?\n",
            "\n",
            "LUCIO:\n",
            "O that any means passing, make hangatients\n",
            "Shall ever have at the man's angry manster\n",
            "Mathwash the air sons and honour as he\n",
            "In act safety aske himself.\n",
            "\n",
            "ANGELO:\n",
            "You ay liming mensure me;\n",
            "Ran haste, therefore comes.\n",
            "\n",
            "DUKE VINCENTIO:\n",
            "Yes, be was a countermand as think.\n",
            "\n",
            "ANGELO:\n",
            "Now made he prisons:\n",
            "as now, may she may be smoked he mam force.\n",
            "\n",
            "YORK:\n",
            "And so peers he not?\n",
            "\n",
            "GLOUCESTER:\n",
            "\n",
            "he cannot persuade that a shadow peace \n",
            "Step 2800, train loss:0.0324, test loss:0.7184\n"
          ]
        },
        {
          "output_type": "stream",
          "name": "stderr",
          "text": [
            " 28%|██▊       | 2810/10000 [32:40<1:07:17,  1.78it/s]"
          ]
        },
        {
          "output_type": "stream",
          "name": "stdout",
          "text": [
            "Step 2810, train loss:0.0336, test loss:0.7205\n"
          ]
        },
        {
          "output_type": "stream",
          "name": "stderr",
          "text": [
            " 28%|██▊       | 2820/10000 [32:45<40:30,  2.95it/s]"
          ]
        },
        {
          "output_type": "stream",
          "name": "stdout",
          "text": [
            "Step 2820, train loss:0.0333, test loss:0.7237\n"
          ]
        },
        {
          "output_type": "stream",
          "name": "stderr",
          "text": [
            " 28%|██▊       | 2830/10000 [32:50<40:31,  2.95it/s]"
          ]
        },
        {
          "output_type": "stream",
          "name": "stdout",
          "text": [
            "Step 2830, train loss:0.0316, test loss:0.7049\n"
          ]
        },
        {
          "output_type": "stream",
          "name": "stderr",
          "text": [
            " 28%|██▊       | 2840/10000 [32:55<39:37,  3.01it/s]"
          ]
        },
        {
          "output_type": "stream",
          "name": "stdout",
          "text": [
            "Step 2840, train loss:0.0304, test loss:0.7435\n"
          ]
        },
        {
          "output_type": "stream",
          "name": "stderr",
          "text": [
            " 28%|██▊       | 2850/10000 [33:00<39:32,  3.01it/s]"
          ]
        },
        {
          "output_type": "stream",
          "name": "stdout",
          "text": [
            "Step 2850, train loss:0.0300, test loss:0.6835\n"
          ]
        },
        {
          "output_type": "stream",
          "name": "stderr",
          "text": [
            " 29%|██▊       | 2860/10000 [33:05<40:10,  2.96it/s]"
          ]
        },
        {
          "output_type": "stream",
          "name": "stdout",
          "text": [
            "Step 2860, train loss:0.0294, test loss:0.6763\n"
          ]
        },
        {
          "output_type": "stream",
          "name": "stderr",
          "text": [
            " 29%|██▊       | 2870/10000 [33:10<39:59,  2.97it/s]"
          ]
        },
        {
          "output_type": "stream",
          "name": "stdout",
          "text": [
            "Step 2870, train loss:0.0266, test loss:0.7168\n"
          ]
        },
        {
          "output_type": "stream",
          "name": "stderr",
          "text": [
            " 29%|██▉       | 2880/10000 [33:15<39:39,  2.99it/s]"
          ]
        },
        {
          "output_type": "stream",
          "name": "stdout",
          "text": [
            "Step 2880, train loss:0.0293, test loss:0.6577\n"
          ]
        },
        {
          "output_type": "stream",
          "name": "stderr",
          "text": [
            " 29%|██▉       | 2890/10000 [33:20<40:05,  2.96it/s]"
          ]
        },
        {
          "output_type": "stream",
          "name": "stdout",
          "text": [
            "Step 2890, train loss:0.0282, test loss:0.7031\n"
          ]
        },
        {
          "output_type": "stream",
          "name": "stderr",
          "text": [
            " 29%|██▉       | 2900/10000 [33:25<40:07,  2.95it/s]"
          ]
        },
        {
          "output_type": "stream",
          "name": "stdout",
          "text": [
            "Step 2900, train loss:0.0272, test loss:0.7172\n",
            "\n",
            "\n",
            "each eyes a letter eatening a\n",
            "vessel ere quake lies eye and selted\n",
            "in a patrician eyeselves each a deeper\n",
            "battery lies a vanton seconds, a brave power else\n",
            "You a little leet his vicesaria, a\n",
            "Shelterer lives do black a vineyard\n",
            "brother's love a liberal\n",
            "To the sweeter with a peevish shriekle:\n",
            "Let time to event.\n",
            "Alack mere envy digging persuadeed, will soonest\n",
            "From with a true king, with a packed matteres leave\n",
            "To see the steed: 'Tis read, thou art becoved the dapleties:\n",
            "But by me mether, one must be thine.\n",
            "For never every wounds did not moved.\n",
            "We do chains but company, with you small\n",
            "I would dwell Romeo, with thee with over this:\n",
            "Whether blows deep to noble daughter,\n",
            "With dishonour, a back of owes, every letters.\n",
            "\n",
            "bestower:\n",
            "We thing together; think up with suite thee with their\n",
            "deceit might.\n",
            "\n",
            "Lord:\n",
            "Takey, with a day with their seconds.\n",
            "\n",
            "JULIET:\n",
            "Might is wife.\n",
            "\n",
            "Lord Citizen:\n",
            "This head Pluck, in Bohemia Romeo, wife.\n",
            "With pawns this good bbstags, will you will\n",
            "Myself etern mine grew in the \n",
            "Step 2900, train loss:0.0278, test loss:0.7023\n"
          ]
        },
        {
          "output_type": "stream",
          "name": "stderr",
          "text": [
            " 29%|██▉       | 2910/10000 [33:49<1:06:23,  1.78it/s]"
          ]
        },
        {
          "output_type": "stream",
          "name": "stdout",
          "text": [
            "Step 2910, train loss:0.0279, test loss:0.7259\n"
          ]
        },
        {
          "output_type": "stream",
          "name": "stderr",
          "text": [
            " 29%|██▉       | 2920/10000 [33:54<40:32,  2.91it/s]"
          ]
        },
        {
          "output_type": "stream",
          "name": "stdout",
          "text": [
            "Step 2920, train loss:0.0283, test loss:0.6755\n"
          ]
        },
        {
          "output_type": "stream",
          "name": "stderr",
          "text": [
            " 29%|██▉       | 2930/10000 [33:59<39:23,  2.99it/s]"
          ]
        },
        {
          "output_type": "stream",
          "name": "stdout",
          "text": [
            "Step 2930, train loss:0.0273, test loss:0.7150\n"
          ]
        },
        {
          "output_type": "stream",
          "name": "stderr",
          "text": [
            " 29%|██▉       | 2940/10000 [34:04<39:16,  3.00it/s]"
          ]
        },
        {
          "output_type": "stream",
          "name": "stdout",
          "text": [
            "Step 2940, train loss:0.0284, test loss:0.6926\n"
          ]
        },
        {
          "output_type": "stream",
          "name": "stderr",
          "text": [
            " 30%|██▉       | 2950/10000 [34:09<39:33,  2.97it/s]"
          ]
        },
        {
          "output_type": "stream",
          "name": "stdout",
          "text": [
            "Step 2950, train loss:0.0269, test loss:0.7536\n"
          ]
        },
        {
          "output_type": "stream",
          "name": "stderr",
          "text": [
            " 30%|██▉       | 2960/10000 [34:14<40:00,  2.93it/s]"
          ]
        },
        {
          "output_type": "stream",
          "name": "stdout",
          "text": [
            "Step 2960, train loss:0.0261, test loss:0.6645\n"
          ]
        },
        {
          "output_type": "stream",
          "name": "stderr",
          "text": [
            " 30%|██▉       | 2970/10000 [34:19<38:58,  3.01it/s]"
          ]
        },
        {
          "output_type": "stream",
          "name": "stdout",
          "text": [
            "Step 2970, train loss:0.0261, test loss:0.6852\n"
          ]
        },
        {
          "output_type": "stream",
          "name": "stderr",
          "text": [
            " 30%|██▉       | 2980/10000 [34:24<38:46,  3.02it/s]"
          ]
        },
        {
          "output_type": "stream",
          "name": "stdout",
          "text": [
            "Step 2980, train loss:0.0246, test loss:0.7063\n"
          ]
        },
        {
          "output_type": "stream",
          "name": "stderr",
          "text": [
            " 30%|██▉       | 2990/10000 [34:29<39:54,  2.93it/s]"
          ]
        },
        {
          "output_type": "stream",
          "name": "stdout",
          "text": [
            "Step 2990, train loss:0.0247, test loss:0.6899\n"
          ]
        },
        {
          "output_type": "stream",
          "name": "stderr",
          "text": [
            " 30%|███       | 3000/10000 [34:34<39:04,  2.99it/s]"
          ]
        },
        {
          "output_type": "stream",
          "name": "stdout",
          "text": [
            "Step 3000, train loss:0.0256, test loss:0.7106\n",
            "\n",
            "\n",
            "Doth enter tooth of death\n",
            "You have beheld on their vehate rotten\n",
            "aidtable on their debate to have exhaled\n",
            "by their other sentences fairly to their\n",
            "sendtties o' their cobbled hath to\n",
            "entreaties their father\n",
            "\n",
            "Third Lewis to when their father\n",
            "not eithering did honest thou access of his fathers,\n",
            "To offer that respective and their hot\n",
            "friends stear; fa, how but instructions their note senate\n",
            "That thou demerrings enough as this for the\n",
            "easting friends, state in Tibe\n",
            "Things that issue dishonours that hence in spirit\n",
            "For hatrest frame love of their sprength a thousand forst\n",
            "For tender for ever to taxe thrours in that\n",
            "ere they infens stir to share the friend\n",
            "Captain of aust reside from therein:\n",
            "Tarry of thought that they shall find us\n",
            "mannor thou'rt strength off\n",
            "What rests that should being Richard in other\n",
            "For honours and that rests forth earth\n",
            "To their hearts to Chere untimely fierce hatred\n",
            "For thee shall forbear of so fair respect\n",
            "Tranio, at the subject sort thought that hangs\n",
            "For thou I hav\n",
            "Step 3000, train loss:0.0257, test loss:0.6762\n"
          ]
        },
        {
          "output_type": "stream",
          "name": "stderr",
          "text": [
            " 30%|███       | 3010/10000 [34:58<1:05:23,  1.78it/s]"
          ]
        },
        {
          "output_type": "stream",
          "name": "stdout",
          "text": [
            "Step 3010, train loss:0.0247, test loss:0.6972\n"
          ]
        },
        {
          "output_type": "stream",
          "name": "stderr",
          "text": [
            " 30%|███       | 3020/10000 [35:03<40:08,  2.90it/s]"
          ]
        },
        {
          "output_type": "stream",
          "name": "stdout",
          "text": [
            "Step 3020, train loss:0.0234, test loss:0.7098\n"
          ]
        },
        {
          "output_type": "stream",
          "name": "stderr",
          "text": [
            " 30%|███       | 3030/10000 [35:08<38:57,  2.98it/s]"
          ]
        },
        {
          "output_type": "stream",
          "name": "stdout",
          "text": [
            "Step 3030, train loss:0.0235, test loss:0.7020\n"
          ]
        },
        {
          "output_type": "stream",
          "name": "stderr",
          "text": [
            " 30%|███       | 3040/10000 [35:13<38:30,  3.01it/s]"
          ]
        },
        {
          "output_type": "stream",
          "name": "stdout",
          "text": [
            "Step 3040, train loss:0.0247, test loss:0.6902\n"
          ]
        },
        {
          "output_type": "stream",
          "name": "stderr",
          "text": [
            " 30%|███       | 3050/10000 [35:18<39:21,  2.94it/s]"
          ]
        },
        {
          "output_type": "stream",
          "name": "stdout",
          "text": [
            "Step 3050, train loss:0.0238, test loss:0.7122\n"
          ]
        },
        {
          "output_type": "stream",
          "name": "stderr",
          "text": [
            " 31%|███       | 3060/10000 [35:23<38:22,  3.01it/s]"
          ]
        },
        {
          "output_type": "stream",
          "name": "stdout",
          "text": [
            "Step 3060, train loss:0.0227, test loss:0.7035\n"
          ]
        },
        {
          "output_type": "stream",
          "name": "stderr",
          "text": [
            " 31%|███       | 3070/10000 [35:28<38:37,  2.99it/s]"
          ]
        },
        {
          "output_type": "stream",
          "name": "stdout",
          "text": [
            "Step 3070, train loss:0.0236, test loss:0.7002\n"
          ]
        },
        {
          "output_type": "stream",
          "name": "stderr",
          "text": [
            " 31%|███       | 3080/10000 [35:33<39:09,  2.95it/s]"
          ]
        },
        {
          "output_type": "stream",
          "name": "stdout",
          "text": [
            "Step 3080, train loss:0.0244, test loss:0.7108\n"
          ]
        },
        {
          "output_type": "stream",
          "name": "stderr",
          "text": [
            " 31%|███       | 3090/10000 [35:38<38:18,  3.01it/s]"
          ]
        },
        {
          "output_type": "stream",
          "name": "stdout",
          "text": [
            "Step 3090, train loss:0.0235, test loss:0.6451\n"
          ]
        },
        {
          "output_type": "stream",
          "name": "stderr",
          "text": [
            " 31%|███       | 3100/10000 [35:43<38:28,  2.99it/s]"
          ]
        },
        {
          "output_type": "stream",
          "name": "stdout",
          "text": [
            "Step 3100, train loss:0.0231, test loss:0.6844\n",
            "\n",
            "\n",
            "o--wedded pardon the wind--\n",
            "\n",
            "Second Citizen:\n",
            "\n",
            "LUCIO:\n",
            "O pardon edge, well I do contending her\n",
            "with edge!\n",
            "\n",
            "SLY:\n",
            "'Tis predoce but direction.\n",
            "\n",
            "SICINIUS:\n",
            "'Tis no witch personal\n",
            "Turn your hate.\n",
            "\n",
            "SICINIUS:\n",
            "'Tis no weeping penitent\n",
            "'?\n",
            "\n",
            "SICINIUS:\n",
            "'Tis a needle.\n",
            "\n",
            "SICINIUS:\n",
            "'Tis wounded.\n",
            "\n",
            "ROMEO:\n",
            "\n",
            "POMPEY:\n",
            "Whither your Sir and--\n",
            "West your youth,--and your right.\n",
            "\n",
            "Second him?\n",
            "\n",
            "First Servingman:\n",
            "What way? But I will\n",
            "Which your grace? Either and I am stonen,\n",
            "no? it is good ''t other.'\n",
            "\n",
            "First MICK:\n",
            "What is common?\n",
            "\n",
            "Firs:\n",
            "Withdraw! O courtier, for all with an your grief?\n",
            "\n",
            "First Lord:\n",
            "That you as with him. Your grace!\n",
            "\n",
            "First Citizen:\n",
            "From your grace! have witting your grace! whith witch.\n",
            "\n",
            "First Keeper:\n",
            "Heretics. Ah, your grace! his sword\n",
            "What an oraton or in the cause?\n",
            "\n",
            "POMPEY:\n",
            "Grant, it is not tongue, and your grace:\n",
            "The worst with your city. So you\n",
            "an your tongue?\n",
            "\n",
            "First Gentleman:\n",
            "How came it? O with your grace!\n",
            "\n",
            "LAMTIANA:\n",
            "Not with a bawd, aar.\n",
            "\n",
            "POMPEY:\n",
            "him art traged,\n",
            "And in a bawd; an hape at true, \n",
            "Step 3100, train loss:0.0229, test loss:0.6917\n"
          ]
        },
        {
          "output_type": "stream",
          "name": "stderr",
          "text": [
            " 31%|███       | 3110/10000 [36:07<1:05:46,  1.75it/s]"
          ]
        },
        {
          "output_type": "stream",
          "name": "stdout",
          "text": [
            "Step 3110, train loss:0.0221, test loss:0.7178\n"
          ]
        },
        {
          "output_type": "stream",
          "name": "stderr",
          "text": [
            " 31%|███       | 3120/10000 [36:12<38:47,  2.96it/s]"
          ]
        },
        {
          "output_type": "stream",
          "name": "stdout",
          "text": [
            "Step 3120, train loss:0.0223, test loss:0.6987\n"
          ]
        },
        {
          "output_type": "stream",
          "name": "stderr",
          "text": [
            " 31%|███▏      | 3130/10000 [36:17<38:19,  2.99it/s]"
          ]
        },
        {
          "output_type": "stream",
          "name": "stdout",
          "text": [
            "Step 3130, train loss:0.0231, test loss:0.7084\n"
          ]
        },
        {
          "output_type": "stream",
          "name": "stderr",
          "text": [
            " 31%|███▏      | 3140/10000 [36:22<38:42,  2.95it/s]"
          ]
        },
        {
          "output_type": "stream",
          "name": "stdout",
          "text": [
            "Step 3140, train loss:0.0226, test loss:0.7195\n"
          ]
        },
        {
          "output_type": "stream",
          "name": "stderr",
          "text": [
            " 32%|███▏      | 3150/10000 [36:27<37:57,  3.01it/s]"
          ]
        },
        {
          "output_type": "stream",
          "name": "stdout",
          "text": [
            "Step 3150, train loss:0.0227, test loss:0.7322\n"
          ]
        },
        {
          "output_type": "stream",
          "name": "stderr",
          "text": [
            " 32%|███▏      | 3160/10000 [36:32<37:47,  3.02it/s]"
          ]
        },
        {
          "output_type": "stream",
          "name": "stdout",
          "text": [
            "Step 3160, train loss:0.0230, test loss:0.7281\n"
          ]
        },
        {
          "output_type": "stream",
          "name": "stderr",
          "text": [
            " 32%|███▏      | 3170/10000 [36:37<38:45,  2.94it/s]"
          ]
        },
        {
          "output_type": "stream",
          "name": "stdout",
          "text": [
            "Step 3170, train loss:0.0232, test loss:0.7332\n"
          ]
        },
        {
          "output_type": "stream",
          "name": "stderr",
          "text": [
            " 32%|███▏      | 3180/10000 [36:42<38:16,  2.97it/s]"
          ]
        },
        {
          "output_type": "stream",
          "name": "stdout",
          "text": [
            "Step 3180, train loss:0.0229, test loss:0.7386\n"
          ]
        },
        {
          "output_type": "stream",
          "name": "stderr",
          "text": [
            " 32%|███▏      | 3190/10000 [36:47<37:42,  3.01it/s]"
          ]
        },
        {
          "output_type": "stream",
          "name": "stdout",
          "text": [
            "Step 3190, train loss:0.0232, test loss:0.7050\n"
          ]
        },
        {
          "output_type": "stream",
          "name": "stderr",
          "text": [
            " 32%|███▏      | 3200/10000 [36:52<38:51,  2.92it/s]"
          ]
        },
        {
          "output_type": "stream",
          "name": "stdout",
          "text": [
            "Step 3200, train loss:0.0232, test loss:0.6923\n",
            "\n",
            "\n",
            "art to Srtar and to Duke of York\n",
            "\n",
            "ESCALUS:\n",
            "To Hatus are of the Titus craving bosom to do\n",
            "arm yet to Angelo with our breath un\n",
            "\n",
            "HENRY BOLINGBROKE:\n",
            "I come to Rosalute by your noble Edward\n",
            "A tongue with on your belave us and tyranny\n",
            "I will not be true and draw unwise at thy\n",
            "plausion:\n",
            "\n",
            "ANGELO:\n",
            "Sit Without thy brave with be my stratful crook\n",
            "I deny my brother Claudio.\n",
            "\n",
            "KING RICHARD III:\n",
            "O shall bring any advance make blame\n",
            "Ere I do but did buy honour and a blood\n",
            "With off to do butcher to my brave,\n",
            "Or my brand butcheries in Gaunt.\n",
            "\n",
            "TYBALT:\n",
            "So may it be banished:\n",
            "Pleased to be strved to buy by bloody breath\n",
            "Of dear toom to do the usurp to take and\n",
            "And all my master Tybaltly for tyrannousness:\n",
            "And but now your blood was before\n",
            "Vierced the breast beyond but that are bent to't\n",
            "To jest are even my brood to to belock\n",
            "Her comes are a brawl.\n",
            "\n",
            "LEONTES:\n",
            "Too friends?\n",
            "\n",
            "VOLUMNIA:\n",
            "Let me as my poor horse.\n",
            "\n",
            "VIRGILIA:\n",
            "Ready too.\n",
            "\n",
            "ROMEO:\n",
            "I by good bustlewick.\n",
            "\n",
            "TYBALT:\n",
            "she worms:\n",
            "but then I'll be my death but\n",
            "Step 3200, train loss:0.0234, test loss:0.6653\n"
          ]
        },
        {
          "output_type": "stream",
          "name": "stderr",
          "text": [
            " 32%|███▏      | 3210/10000 [37:16<1:03:57,  1.77it/s]"
          ]
        },
        {
          "output_type": "stream",
          "name": "stdout",
          "text": [
            "Step 3210, train loss:0.0219, test loss:0.7364\n"
          ]
        },
        {
          "output_type": "stream",
          "name": "stderr",
          "text": [
            " 32%|███▏      | 3220/10000 [37:21<38:24,  2.94it/s]"
          ]
        },
        {
          "output_type": "stream",
          "name": "stdout",
          "text": [
            "Step 3220, train loss:0.0241, test loss:0.6974\n"
          ]
        },
        {
          "output_type": "stream",
          "name": "stderr",
          "text": [
            " 32%|███▏      | 3230/10000 [37:26<38:04,  2.96it/s]"
          ]
        },
        {
          "output_type": "stream",
          "name": "stdout",
          "text": [
            "Step 3230, train loss:0.0243, test loss:0.7147\n"
          ]
        },
        {
          "output_type": "stream",
          "name": "stderr",
          "text": [
            " 32%|███▏      | 3240/10000 [37:31<37:37,  2.99it/s]"
          ]
        },
        {
          "output_type": "stream",
          "name": "stdout",
          "text": [
            "Step 3240, train loss:0.0247, test loss:0.7443\n"
          ]
        },
        {
          "output_type": "stream",
          "name": "stderr",
          "text": [
            " 32%|███▎      | 3250/10000 [37:36<37:12,  3.02it/s]"
          ]
        },
        {
          "output_type": "stream",
          "name": "stdout",
          "text": [
            "Step 3250, train loss:0.0240, test loss:0.6869\n"
          ]
        },
        {
          "output_type": "stream",
          "name": "stderr",
          "text": [
            " 33%|███▎      | 3260/10000 [37:41<37:54,  2.96it/s]"
          ]
        },
        {
          "output_type": "stream",
          "name": "stdout",
          "text": [
            "Step 3260, train loss:0.0218, test loss:0.7310\n"
          ]
        },
        {
          "output_type": "stream",
          "name": "stderr",
          "text": [
            " 33%|███▎      | 3270/10000 [37:46<38:15,  2.93it/s]"
          ]
        },
        {
          "output_type": "stream",
          "name": "stdout",
          "text": [
            "Step 3270, train loss:0.0228, test loss:0.6995\n"
          ]
        },
        {
          "output_type": "stream",
          "name": "stderr",
          "text": [
            " 33%|███▎      | 3280/10000 [37:51<37:16,  3.00it/s]"
          ]
        },
        {
          "output_type": "stream",
          "name": "stdout",
          "text": [
            "Step 3280, train loss:0.0230, test loss:0.7467\n"
          ]
        },
        {
          "output_type": "stream",
          "name": "stderr",
          "text": [
            " 33%|███▎      | 3290/10000 [37:56<37:02,  3.02it/s]"
          ]
        },
        {
          "output_type": "stream",
          "name": "stdout",
          "text": [
            "Step 3290, train loss:0.0234, test loss:0.6983\n"
          ]
        },
        {
          "output_type": "stream",
          "name": "stderr",
          "text": [
            " 33%|███▎      | 3300/10000 [38:01<38:06,  2.93it/s]"
          ]
        },
        {
          "output_type": "stream",
          "name": "stdout",
          "text": [
            "Step 3300, train loss:0.0233, test loss:0.7127\n",
            "\n",
            "\n",
            "Lucious Anrich can Athwacc Licent\n",
            "out Edward such as your heirs no France to Lucentio,\n",
            "with Angelo I could for his required king,\n",
            "\n",
            "EDWARD:\n",
            "Now Yf Angelo, do I occuse us enter spirit\n",
            "With Rome and endures 'twixt such I lingcand\n",
            "As once Edward step und secret on tears;\n",
            "And when which thought us and such a fointy\n",
            "And benefit to stand his son of night,\n",
            "And run gross him, let rapes grow to great honour,\n",
            "When as subject weI, on his fortune in the crown,\n",
            "Thou wast I think'd no cause now had the cried\n",
            "Loud crutches under by the his neckunes\n",
            "Than word and so him that hath some on me she has nettle,\n",
            "Unfusion was once born in the flock,\n",
            "To be the subject Bianca, come but etch,\n",
            "And hen the bounter of war, be he subscries\n",
            "And shut the one honour for a bones of great accusation\n",
            "That R ICINIUS:\n",
            "\n",
            "GLOUCESTER:\n",
            "And then be was homed, and now I heard\n",
            "Lest he should cross and no fain censue:\n",
            "If but the sweet brother should England's company,\n",
            "When his son and where the rages hood\n",
            "With he had benefit then to\n",
            "Step 3300, train loss:0.0235, test loss:0.7111\n"
          ]
        },
        {
          "output_type": "stream",
          "name": "stderr",
          "text": [
            " 33%|███▎      | 3310/10000 [38:25<1:02:20,  1.79it/s]"
          ]
        },
        {
          "output_type": "stream",
          "name": "stdout",
          "text": [
            "Step 3310, train loss:0.0233, test loss:0.7070\n"
          ]
        },
        {
          "output_type": "stream",
          "name": "stderr",
          "text": [
            " 33%|███▎      | 3320/10000 [38:30<38:22,  2.90it/s]"
          ]
        },
        {
          "output_type": "stream",
          "name": "stdout",
          "text": [
            "Step 3320, train loss:0.0218, test loss:0.6644\n"
          ]
        },
        {
          "output_type": "stream",
          "name": "stderr",
          "text": [
            " 33%|███▎      | 3330/10000 [38:35<37:34,  2.96it/s]"
          ]
        },
        {
          "output_type": "stream",
          "name": "stdout",
          "text": [
            "Step 3330, train loss:0.0225, test loss:0.6719\n"
          ]
        },
        {
          "output_type": "stream",
          "name": "stderr",
          "text": [
            " 33%|███▎      | 3340/10000 [38:40<36:52,  3.01it/s]"
          ]
        },
        {
          "output_type": "stream",
          "name": "stdout",
          "text": [
            "Step 3340, train loss:0.0231, test loss:0.6733\n"
          ]
        },
        {
          "output_type": "stream",
          "name": "stderr",
          "text": [
            " 34%|███▎      | 3350/10000 [38:45<36:56,  3.00it/s]"
          ]
        },
        {
          "output_type": "stream",
          "name": "stdout",
          "text": [
            "Step 3350, train loss:0.0217, test loss:0.7241\n"
          ]
        },
        {
          "output_type": "stream",
          "name": "stderr",
          "text": [
            " 34%|███▎      | 3360/10000 [38:50<37:26,  2.96it/s]"
          ]
        },
        {
          "output_type": "stream",
          "name": "stdout",
          "text": [
            "Step 3360, train loss:0.0214, test loss:0.7256\n"
          ]
        },
        {
          "output_type": "stream",
          "name": "stderr",
          "text": [
            " 34%|███▎      | 3370/10000 [38:55<36:47,  3.00it/s]"
          ]
        },
        {
          "output_type": "stream",
          "name": "stdout",
          "text": [
            "Step 3370, train loss:0.0218, test loss:0.7305\n"
          ]
        },
        {
          "output_type": "stream",
          "name": "stderr",
          "text": [
            " 34%|███▍      | 3380/10000 [39:00<36:42,  3.01it/s]"
          ]
        },
        {
          "output_type": "stream",
          "name": "stdout",
          "text": [
            "Step 3380, train loss:0.0233, test loss:0.7197\n"
          ]
        },
        {
          "output_type": "stream",
          "name": "stderr",
          "text": [
            " 34%|███▍      | 3390/10000 [39:05<37:40,  2.92it/s]"
          ]
        },
        {
          "output_type": "stream",
          "name": "stdout",
          "text": [
            "Step 3390, train loss:0.0218, test loss:0.6818\n"
          ]
        },
        {
          "output_type": "stream",
          "name": "stderr",
          "text": [
            " 34%|███▍      | 3400/10000 [39:10<36:44,  2.99it/s]"
          ]
        },
        {
          "output_type": "stream",
          "name": "stdout",
          "text": [
            "Step 3400, train loss:0.0257, test loss:0.7145\n",
            "\n",
            "\n",
            "Catesby we do embate thee he with\n",
            "one Claudio and that we do exemper he\n",
            "was caused in beauty things Servile of the earth\n",
            "while I come but even now.\n",
            "\n",
            "Second Murderer:\n",
            "The command of this good Helpiny I dead a\n",
            "curely below him in the colder of your own humorous.\n",
            "\n",
            "BUCKINGHAM:\n",
            "Money, melt of good direcuse the chily. O alack!\n",
            "Why, you have no letters him so way,\n",
            "Bear us colour sometime of your parience\n",
            "by my thing your way? If you have good graves your brother.\n",
            "Either you your blood feel'd your followerty years.\n",
            "\n",
            "CLIFFORD:\n",
            "I must not be my sometimes or your grace.\n",
            "\n",
            "VOLUMNIA:\n",
            "Come, your grave-and you talk your boy.\n",
            "\n",
            "CLARENCE:\n",
            "I am. I am a people indeed; be you all my traitor:\n",
            "Before your grave--be old poison, your your grievance\n",
            "One, that you are you gone, cut I do: your\n",
            "opposite your aid your your your empery?\n",
            "Look you, go our own you play--\n",
            "\n",
            "VOLUMNIA:\n",
            "Those you most very be your upon our princely eyes:\n",
            "and, we may do't, and not, your voices, aovers' coy,\n",
            "your prime upon your body, and your\n",
            "Step 3400, train loss:0.0242, test loss:0.7447\n"
          ]
        },
        {
          "output_type": "stream",
          "name": "stderr",
          "text": [
            " 34%|███▍      | 3410/10000 [39:33<1:01:18,  1.79it/s]"
          ]
        },
        {
          "output_type": "stream",
          "name": "stdout",
          "text": [
            "Step 3410, train loss:0.0229, test loss:0.6897\n"
          ]
        },
        {
          "output_type": "stream",
          "name": "stderr",
          "text": [
            " 34%|███▍      | 3420/10000 [39:38<37:43,  2.91it/s]"
          ]
        },
        {
          "output_type": "stream",
          "name": "stdout",
          "text": [
            "Step 3420, train loss:0.0236, test loss:0.7319\n"
          ]
        },
        {
          "output_type": "stream",
          "name": "stderr",
          "text": [
            " 34%|███▍      | 3430/10000 [39:43<36:23,  3.01it/s]"
          ]
        },
        {
          "output_type": "stream",
          "name": "stdout",
          "text": [
            "Step 3430, train loss:0.0224, test loss:0.6880\n"
          ]
        },
        {
          "output_type": "stream",
          "name": "stderr",
          "text": [
            " 34%|███▍      | 3440/10000 [39:48<36:13,  3.02it/s]"
          ]
        },
        {
          "output_type": "stream",
          "name": "stdout",
          "text": [
            "Step 3440, train loss:0.0221, test loss:0.6806\n"
          ]
        },
        {
          "output_type": "stream",
          "name": "stderr",
          "text": [
            " 34%|███▍      | 3450/10000 [39:53<36:52,  2.96it/s]"
          ]
        },
        {
          "output_type": "stream",
          "name": "stdout",
          "text": [
            "Step 3450, train loss:0.0229, test loss:0.6516\n"
          ]
        },
        {
          "output_type": "stream",
          "name": "stderr",
          "text": [
            " 35%|███▍      | 3460/10000 [39:58<36:12,  3.01it/s]"
          ]
        },
        {
          "output_type": "stream",
          "name": "stdout",
          "text": [
            "Step 3460, train loss:0.0224, test loss:0.7031\n"
          ]
        },
        {
          "output_type": "stream",
          "name": "stderr",
          "text": [
            " 35%|███▍      | 3470/10000 [40:03<36:06,  3.01it/s]"
          ]
        },
        {
          "output_type": "stream",
          "name": "stdout",
          "text": [
            "Step 3470, train loss:0.0234, test loss:0.7379\n"
          ]
        },
        {
          "output_type": "stream",
          "name": "stderr",
          "text": [
            " 35%|███▍      | 3480/10000 [40:08<36:53,  2.95it/s]"
          ]
        },
        {
          "output_type": "stream",
          "name": "stdout",
          "text": [
            "Step 3480, train loss:0.0210, test loss:0.6819\n"
          ]
        },
        {
          "output_type": "stream",
          "name": "stderr",
          "text": [
            " 35%|███▍      | 3490/10000 [40:13<36:21,  2.98it/s]"
          ]
        },
        {
          "output_type": "stream",
          "name": "stdout",
          "text": [
            "Step 3490, train loss:0.0250, test loss:0.7316\n"
          ]
        },
        {
          "output_type": "stream",
          "name": "stderr",
          "text": [
            " 35%|███▌      | 3500/10000 [40:18<36:03,  3.00it/s]"
          ]
        },
        {
          "output_type": "stream",
          "name": "stdout",
          "text": [
            "Step 3500, train loss:0.0208, test loss:0.7085\n",
            "\n",
            "\n",
            "ite client their deniers of their cause\n",
            "is little their eyes come sentenced\n",
            "him with their contrary fellow with their\n",
            "cuimins to their lips and tell him\n",
            "with their chafection to their lips away their\n",
            "fortuner lives to this their livery to their live\n",
            "thrown. Coment this make friends to their love again.\n",
            "O note their told to have their timprising.\n",
            "\n",
            "Shepherd:\n",
            "But I truly talk'd with him: I may above this\n",
            "much of threatening.\n",
            "\n",
            "Provost:\n",
            "I am thrall betray'd to those thirty him:\n",
            "I take the your hearing-proof!\n",
            "\n",
            "Second Letter:\n",
            "Marcius, ho; a man am it shall.\n",
            "For 'tis that hath it better them; all the yooderd.\n",
            "We'll make us three-pence.\n",
            "It here, every time the outrage greeding; boy,\n",
            "It is a happy it: although the cting your great\n",
            "Of burning brother'sland the\n",
            "sightness of thy heart, I will grain and let the grace of?\n",
            "\n",
            "WARWICK:\n",
            "Set thee the instruments I have be terror of the\n",
            "crown. But murderers of your brood of time\n",
            "Are the standard unshould leisure at the come.\n",
            "\n",
            "GLOUCESTER:\n",
            "I am gone with thou\n",
            "Step 3500, train loss:0.0212, test loss:0.6968\n"
          ]
        },
        {
          "output_type": "stream",
          "name": "stderr",
          "text": [
            " 35%|███▌      | 3510/10000 [40:42<1:01:09,  1.77it/s]"
          ]
        },
        {
          "output_type": "stream",
          "name": "stdout",
          "text": [
            "Step 3510, train loss:0.0218, test loss:0.7154\n"
          ]
        },
        {
          "output_type": "stream",
          "name": "stderr",
          "text": [
            " 35%|███▌      | 3520/10000 [40:47<36:40,  2.94it/s]"
          ]
        },
        {
          "output_type": "stream",
          "name": "stdout",
          "text": [
            "Step 3520, train loss:0.0221, test loss:0.7432\n"
          ]
        },
        {
          "output_type": "stream",
          "name": "stderr",
          "text": [
            " 35%|███▌      | 3530/10000 [40:52<35:42,  3.02it/s]"
          ]
        },
        {
          "output_type": "stream",
          "name": "stdout",
          "text": [
            "Step 3530, train loss:0.0322, test loss:0.6951\n"
          ]
        },
        {
          "output_type": "stream",
          "name": "stderr",
          "text": [
            " 35%|███▌      | 3540/10000 [40:57<36:12,  2.97it/s]"
          ]
        },
        {
          "output_type": "stream",
          "name": "stdout",
          "text": [
            "Step 3540, train loss:0.0212, test loss:0.6749\n"
          ]
        },
        {
          "output_type": "stream",
          "name": "stderr",
          "text": [
            " 36%|███▌      | 3550/10000 [41:02<36:02,  2.98it/s]"
          ]
        },
        {
          "output_type": "stream",
          "name": "stdout",
          "text": [
            "Step 3550, train loss:0.0223, test loss:0.7021\n"
          ]
        },
        {
          "output_type": "stream",
          "name": "stderr",
          "text": [
            " 36%|███▌      | 3560/10000 [41:07<35:40,  3.01it/s]"
          ]
        },
        {
          "output_type": "stream",
          "name": "stdout",
          "text": [
            "Step 3560, train loss:0.0225, test loss:0.6942\n"
          ]
        },
        {
          "output_type": "stream",
          "name": "stderr",
          "text": [
            " 36%|███▌      | 3570/10000 [41:12<36:03,  2.97it/s]"
          ]
        },
        {
          "output_type": "stream",
          "name": "stdout",
          "text": [
            "Step 3570, train loss:0.0231, test loss:0.7179\n"
          ]
        },
        {
          "output_type": "stream",
          "name": "stderr",
          "text": [
            " 36%|███▌      | 3580/10000 [41:17<36:30,  2.93it/s]"
          ]
        },
        {
          "output_type": "stream",
          "name": "stdout",
          "text": [
            "Step 3580, train loss:0.0224, test loss:0.6485\n"
          ]
        },
        {
          "output_type": "stream",
          "name": "stderr",
          "text": [
            " 36%|███▌      | 3590/10000 [41:22<35:42,  2.99it/s]"
          ]
        },
        {
          "output_type": "stream",
          "name": "stdout",
          "text": [
            "Step 3590, train loss:0.0221, test loss:0.7027\n"
          ]
        },
        {
          "output_type": "stream",
          "name": "stderr",
          "text": [
            " 36%|███▌      | 3600/10000 [41:27<35:22,  3.02it/s]"
          ]
        },
        {
          "output_type": "stream",
          "name": "stdout",
          "text": [
            "Step 3600, train loss:0.0210, test loss:0.7259\n",
            "\n",
            "\n",
            "let him linger 'twas all he in little thing\n",
            "wonder let him for all \n",
            "\n",
            "FRIAR LAURENCE:\n",
            "\n",
            "BRUTUS:\n",
            "Let him king for instantly let him two lie on\n",
            "him then he with his grave folking him\n",
            "virtue linger: this worth hath hath let him\n",
            "to the gin thin tith high hath hath a burian hoar\n",
            "I have hangman to him a thrazing hoot.\n",
            "\n",
            "FROTH:\n",
            "If his hir intentiance.\n",
            "\n",
            "Provost:\n",
            "No water, in this point thither\n",
            "Only his hage, can this prattern him. Go thou'rt\n",
            "Thou hate a hell, sir, a batter forth,\n",
            "and throw or Sicisbury hath\n",
            "hold a rate a King Harry king, Paul, Or GAUNT:\n",
            "Not so, hither, Paulina!\n",
            "I would about you, thou art let us think,\n",
            "in farewell, think, him not content a;\n",
            "And give him in onician hold thou the grave a'\n",
            "thine eye, ho, thither Richard come home, .\n",
            "\n",
            "KING RICHARD II:\n",
            "Richard hath bare ever that hither give me:\n",
            "O, pale more behold, thou do humbling both.\n",
            "\n",
            "KING RICHARD III:\n",
            "Good kind, and him this, no:\n",
            "Thumber, Angelo, my humorous son, I thank,\n",
            "Thou on this thtent forth, I him him for form.\n",
            "\n",
            "KING RICH\n",
            "Step 3600, train loss:0.0221, test loss:0.6864\n"
          ]
        },
        {
          "output_type": "stream",
          "name": "stderr",
          "text": [
            " 36%|███▌      | 3610/10000 [41:51<59:59,  1.78it/s]  "
          ]
        },
        {
          "output_type": "stream",
          "name": "stdout",
          "text": [
            "Step 3610, train loss:0.0222, test loss:0.6595\n"
          ]
        },
        {
          "output_type": "stream",
          "name": "stderr",
          "text": [
            " 36%|███▌      | 3620/10000 [41:56<35:57,  2.96it/s]"
          ]
        },
        {
          "output_type": "stream",
          "name": "stdout",
          "text": [
            "Step 3620, train loss:0.0232, test loss:0.6750\n"
          ]
        },
        {
          "output_type": "stream",
          "name": "stderr",
          "text": [
            " 36%|███▋      | 3630/10000 [42:01<35:51,  2.96it/s]"
          ]
        },
        {
          "output_type": "stream",
          "name": "stdout",
          "text": [
            "Step 3630, train loss:0.0225, test loss:0.6976\n"
          ]
        },
        {
          "output_type": "stream",
          "name": "stderr",
          "text": [
            " 36%|███▋      | 3640/10000 [42:06<35:49,  2.96it/s]"
          ]
        },
        {
          "output_type": "stream",
          "name": "stdout",
          "text": [
            "Step 3640, train loss:0.0228, test loss:0.6489\n"
          ]
        },
        {
          "output_type": "stream",
          "name": "stderr",
          "text": [
            " 36%|███▋      | 3650/10000 [42:11<35:12,  3.01it/s]"
          ]
        },
        {
          "output_type": "stream",
          "name": "stdout",
          "text": [
            "Step 3650, train loss:0.0233, test loss:0.7153\n"
          ]
        },
        {
          "output_type": "stream",
          "name": "stderr",
          "text": [
            " 37%|███▋      | 3660/10000 [42:16<35:00,  3.02it/s]"
          ]
        },
        {
          "output_type": "stream",
          "name": "stdout",
          "text": [
            "Step 3660, train loss:0.0220, test loss:0.6903\n"
          ]
        },
        {
          "output_type": "stream",
          "name": "stderr",
          "text": [
            " 37%|███▋      | 3670/10000 [42:21<35:47,  2.95it/s]"
          ]
        },
        {
          "output_type": "stream",
          "name": "stdout",
          "text": [
            "Step 3670, train loss:0.0247, test loss:0.7022\n"
          ]
        },
        {
          "output_type": "stream",
          "name": "stderr",
          "text": [
            " 37%|███▋      | 3680/10000 [42:26<35:00,  3.01it/s]"
          ]
        },
        {
          "output_type": "stream",
          "name": "stdout",
          "text": [
            "Step 3680, train loss:0.0213, test loss:0.6719\n"
          ]
        },
        {
          "output_type": "stream",
          "name": "stderr",
          "text": [
            " 37%|███▋      | 3690/10000 [42:31<35:07,  2.99it/s]"
          ]
        },
        {
          "output_type": "stream",
          "name": "stdout",
          "text": [
            "Step 3690, train loss:0.0224, test loss:0.6892\n"
          ]
        },
        {
          "output_type": "stream",
          "name": "stderr",
          "text": [
            " 37%|███▋      | 3700/10000 [42:36<35:43,  2.94it/s]"
          ]
        },
        {
          "output_type": "stream",
          "name": "stdout",
          "text": [
            "Step 3700, train loss:0.0235, test loss:0.6810\n",
            "\n",
            "\n",
            "IOsheater than he is full of the\n",
            "sharpent I have eaten than our deeds are his\n",
            "manner.\n",
            "\n",
            "MARIANA:\n",
            "Not I will fhatter the people gentleman of heaven\n",
            "Marry har--this kinsman bear the peery looker-hence\n",
            "more of Christial eables freely ghants for him\n",
            "nhat zxellous committed course their heed.\n",
            "\n",
            "Shear his thinker:\n",
            "I say helpt his brother Corial game.\n",
            "The hand you blacks of rosemary hhell upon:\n",
            "Of what fair can he, if you were a danger life?\n",
            "If hand you and all hands a little look Tybalt concord.\n",
            "\n",
            "sayester:\n",
            "That I do you have made voices none\n",
            "Than you have by and a letter keep you Romeo water:\n",
            "This you of distress; and for peaces.\n",
            "\n",
            "Shall:\n",
            "This is all direccold; or which I am swifter.\n",
            "If I thank you and paper gnander.\n",
            "\n",
            "JULIET:\n",
            "Which I have I wonder hath panish'd.\n",
            "If .ain and him off.\n",
            "The tyrants s thy royal life.\n",
            "If you were you and adder you fort,\n",
            "Than not that hand up your sacrifing this:\n",
            "She would cry with you which hast short haste.\n",
            "O, sad his padners,\n",
            "You hath sworn from this time, I hear h\n",
            "Step 3700, train loss:0.0228, test loss:0.7045\n"
          ]
        },
        {
          "output_type": "stream",
          "name": "stderr",
          "text": [
            " 37%|███▋      | 3710/10000 [42:59<58:23,  1.80it/s]  "
          ]
        },
        {
          "output_type": "stream",
          "name": "stdout",
          "text": [
            "Step 3710, train loss:0.0233, test loss:0.7158\n"
          ]
        },
        {
          "output_type": "stream",
          "name": "stderr",
          "text": [
            " 37%|███▋      | 3720/10000 [43:04<35:32,  2.94it/s]"
          ]
        },
        {
          "output_type": "stream",
          "name": "stdout",
          "text": [
            "Step 3720, train loss:0.0238, test loss:0.7349\n"
          ]
        },
        {
          "output_type": "stream",
          "name": "stderr",
          "text": [
            " 37%|███▋      | 3730/10000 [43:09<35:21,  2.96it/s]"
          ]
        },
        {
          "output_type": "stream",
          "name": "stdout",
          "text": [
            "Step 3730, train loss:0.0219, test loss:0.7021\n"
          ]
        },
        {
          "output_type": "stream",
          "name": "stderr",
          "text": [
            " 37%|███▋      | 3740/10000 [43:14<34:46,  3.00it/s]"
          ]
        },
        {
          "output_type": "stream",
          "name": "stdout",
          "text": [
            "Step 3740, train loss:0.0218, test loss:0.6462\n"
          ]
        },
        {
          "output_type": "stream",
          "name": "stderr",
          "text": [
            " 38%|███▊      | 3750/10000 [43:19<34:43,  3.00it/s]"
          ]
        },
        {
          "output_type": "stream",
          "name": "stdout",
          "text": [
            "Step 3750, train loss:0.0246, test loss:0.6950\n"
          ]
        },
        {
          "output_type": "stream",
          "name": "stderr",
          "text": [
            " 38%|███▊      | 3760/10000 [43:24<35:25,  2.94it/s]"
          ]
        },
        {
          "output_type": "stream",
          "name": "stdout",
          "text": [
            "Step 3760, train loss:0.0216, test loss:0.6820\n"
          ]
        },
        {
          "output_type": "stream",
          "name": "stderr",
          "text": [
            " 38%|███▊      | 3770/10000 [43:29<34:33,  3.01it/s]"
          ]
        },
        {
          "output_type": "stream",
          "name": "stdout",
          "text": [
            "Step 3770, train loss:0.0222, test loss:0.7110\n"
          ]
        },
        {
          "output_type": "stream",
          "name": "stderr",
          "text": [
            " 38%|███▊      | 3780/10000 [43:34<34:22,  3.02it/s]"
          ]
        },
        {
          "output_type": "stream",
          "name": "stdout",
          "text": [
            "Step 3780, train loss:0.0237, test loss:0.6842\n"
          ]
        },
        {
          "output_type": "stream",
          "name": "stderr",
          "text": [
            " 38%|███▊      | 3790/10000 [43:39<35:06,  2.95it/s]"
          ]
        },
        {
          "output_type": "stream",
          "name": "stdout",
          "text": [
            "Step 3790, train loss:0.0223, test loss:0.6795\n"
          ]
        },
        {
          "output_type": "stream",
          "name": "stderr",
          "text": [
            " 38%|███▊      | 3800/10000 [43:44<34:36,  2.99it/s]"
          ]
        },
        {
          "output_type": "stream",
          "name": "stdout",
          "text": [
            "Step 3800, train loss:0.0216, test loss:0.7057\n",
            "\n",
            "\n",
            "th the hour of the sky their hearth,\n",
            "and their fane is the point to the drum,\n",
            "or their zerkness hath eye their secures up\n",
            "their drums and the king not peace in the king's death,\n",
            "'Reaven do you their patience knew'd us hereafter\n",
            "prucks it prays zatch a' proud men as her ears, I did began.\n",
            "\n",
            "QUEEN:\n",
            "O weakned uncle! petition!--\n",
            "\n",
            "QUEEN ELIZABETH:\n",
            "Me ear nor being up a cedam preversely drums\n",
            "Up that bad best that I do I abhile.\n",
            "\n",
            "LUCIO:\n",
            "Their demigon is I pray excuse to-den.\n",
            "\n",
            "LUCIO:\n",
            "What is more sofe mean-born, and Quliet.\n",
            "\n",
            "QUEENRY BOLINGBROKE:\n",
            "Are idly done, and would I box desires but else\n",
            "With millif learn absence.\n",
            "\n",
            "QUEEN ELIZABETH:\n",
            "Now much I day, ye silent me; to-night.\n",
            "\n",
            "LUCIO:\n",
            "What never yet like Harved like a weeping robber\n",
            "Come ounterpois fair love--\n",
            "\n",
            "KING LEWIS XI:\n",
            "Harpy Norfolk, Lucio, Marcius!\n",
            "I would fain do it.--Poor we have been a'lm.\n",
            "\n",
            "QUEEN ELIZABETH:\n",
            "So have I blank you did out my life upon me.\n",
            "\n",
            "LUCENTIO:\n",
            "'Tis a father, Would be go devout bend.\n",
            "Put Queen my mourners, tempest i\n",
            "Step 3800, train loss:0.0223, test loss:0.7097\n"
          ]
        },
        {
          "output_type": "stream",
          "name": "stderr",
          "text": [
            " 38%|███▊      | 3810/10000 [44:08<57:23,  1.80it/s]  "
          ]
        },
        {
          "output_type": "stream",
          "name": "stdout",
          "text": [
            "Step 3810, train loss:0.0217, test loss:0.6530\n"
          ]
        },
        {
          "output_type": "stream",
          "name": "stderr",
          "text": [
            " 38%|███▊      | 3820/10000 [44:13<35:26,  2.91it/s]"
          ]
        },
        {
          "output_type": "stream",
          "name": "stdout",
          "text": [
            "Step 3820, train loss:0.0226, test loss:0.6813\n"
          ]
        },
        {
          "output_type": "stream",
          "name": "stderr",
          "text": [
            " 38%|███▊      | 3830/10000 [44:18<34:07,  3.01it/s]"
          ]
        },
        {
          "output_type": "stream",
          "name": "stdout",
          "text": [
            "Step 3830, train loss:0.0233, test loss:0.6721\n"
          ]
        },
        {
          "output_type": "stream",
          "name": "stderr",
          "text": [
            " 38%|███▊      | 3840/10000 [44:23<34:00,  3.02it/s]"
          ]
        },
        {
          "output_type": "stream",
          "name": "stdout",
          "text": [
            "Step 3840, train loss:0.0234, test loss:0.6653\n"
          ]
        },
        {
          "output_type": "stream",
          "name": "stderr",
          "text": [
            " 38%|███▊      | 3850/10000 [44:28<34:41,  2.95it/s]"
          ]
        },
        {
          "output_type": "stream",
          "name": "stdout",
          "text": [
            "Step 3850, train loss:0.0234, test loss:0.7145\n"
          ]
        },
        {
          "output_type": "stream",
          "name": "stderr",
          "text": [
            " 39%|███▊      | 3860/10000 [44:33<34:14,  2.99it/s]"
          ]
        },
        {
          "output_type": "stream",
          "name": "stdout",
          "text": [
            "Step 3860, train loss:0.0232, test loss:0.6408\n"
          ]
        },
        {
          "output_type": "stream",
          "name": "stderr",
          "text": [
            " 39%|███▊      | 3870/10000 [44:38<34:00,  3.00it/s]"
          ]
        },
        {
          "output_type": "stream",
          "name": "stdout",
          "text": [
            "Step 3870, train loss:0.0249, test loss:0.7007\n"
          ]
        },
        {
          "output_type": "stream",
          "name": "stderr",
          "text": [
            " 39%|███▉      | 3880/10000 [44:42<34:15,  2.98it/s]"
          ]
        },
        {
          "output_type": "stream",
          "name": "stdout",
          "text": [
            "Step 3880, train loss:0.0212, test loss:0.6516\n"
          ]
        },
        {
          "output_type": "stream",
          "name": "stderr",
          "text": [
            " 39%|███▉      | 3890/10000 [44:48<34:28,  2.95it/s]"
          ]
        },
        {
          "output_type": "stream",
          "name": "stdout",
          "text": [
            "Step 3890, train loss:0.0213, test loss:0.6744\n"
          ]
        },
        {
          "output_type": "stream",
          "name": "stderr",
          "text": [
            " 39%|███▉      | 3900/10000 [44:52<33:51,  3.00it/s]"
          ]
        },
        {
          "output_type": "stream",
          "name": "stdout",
          "text": [
            "Step 3900, train loss:0.0221, test loss:0.6621\n",
            "\n",
            "\n",
            "while a charge keeps you a while seeming\n",
            "what a jocund kill no fear at his charge\n",
            "knews 'Rise you know a debalter what a\n",
            "formake our zenua circlingageman and no letter comfort\n",
            "in Lady G people king a contemptation\n",
            "Lack my kingdom can never ye knowing clamour a\n",
            "reconcileming parting-claim be found;\n",
            "And that to look any on my nunder fence your breath\n",
            "And kill'd a reconcile of it Appeliment\n",
            "Was of a king and favour king,\n",
            "And our ; sending ounder kill as many ains\n",
            "And Apare a talk to ennor be received an impassa ta ce\n",
            "Aufied tf se; make daughter'd of filling coun\n",
            "And in the bhiefest was to no lovyman:\n",
            "And no bary night like deaf to office\n",
            "And leave to reason and seek upon you nenn\n",
            "And any of filling of our sfields vain,\n",
            "And non nor in name and make be long about\n",
            "And hardly two and dance finding from font,\n",
            "And no burrow in for so fains and love\n",
            "And dance on unfit any flient,\n",
            "To take to fove me famining lord\n",
            "And none so in embassies and fill fattaste,\n",
            "And or mock me from any talk nostily\n",
            "Sha\n",
            "Step 3900, train loss:0.0228, test loss:0.6594\n"
          ]
        },
        {
          "output_type": "stream",
          "name": "stderr",
          "text": [
            " 39%|███▉      | 3910/10000 [45:16<56:59,  1.78it/s]  "
          ]
        },
        {
          "output_type": "stream",
          "name": "stdout",
          "text": [
            "Step 3910, train loss:0.0241, test loss:0.6981\n"
          ]
        },
        {
          "output_type": "stream",
          "name": "stderr",
          "text": [
            " 39%|███▉      | 3920/10000 [45:21<34:31,  2.94it/s]"
          ]
        },
        {
          "output_type": "stream",
          "name": "stdout",
          "text": [
            "Step 3920, train loss:0.0224, test loss:0.6996\n"
          ]
        },
        {
          "output_type": "stream",
          "name": "stderr",
          "text": [
            " 39%|███▉      | 3930/10000 [45:26<33:30,  3.02it/s]"
          ]
        },
        {
          "output_type": "stream",
          "name": "stdout",
          "text": [
            "Step 3930, train loss:0.0223, test loss:0.6767\n"
          ]
        },
        {
          "output_type": "stream",
          "name": "stderr",
          "text": [
            " 39%|███▉      | 3940/10000 [45:31<34:00,  2.97it/s]"
          ]
        },
        {
          "output_type": "stream",
          "name": "stdout",
          "text": [
            "Step 3940, train loss:0.0239, test loss:0.6816\n"
          ]
        },
        {
          "output_type": "stream",
          "name": "stderr",
          "text": [
            " 40%|███▉      | 3950/10000 [45:36<34:17,  2.94it/s]"
          ]
        },
        {
          "output_type": "stream",
          "name": "stdout",
          "text": [
            "Step 3950, train loss:0.0223, test loss:0.7026\n"
          ]
        },
        {
          "output_type": "stream",
          "name": "stderr",
          "text": [
            " 40%|███▉      | 3960/10000 [45:41<33:24,  3.01it/s]"
          ]
        },
        {
          "output_type": "stream",
          "name": "stdout",
          "text": [
            "Step 3960, train loss:1636.4407, test loss:1674.6471\n"
          ]
        },
        {
          "output_type": "stream",
          "name": "stderr",
          "text": [
            " 40%|███▉      | 3970/10000 [45:46<32:59,  3.05it/s]"
          ]
        },
        {
          "output_type": "stream",
          "name": "stdout",
          "text": [
            "Step 3970, train loss:34520.1875, test loss:34776.3984\n"
          ]
        },
        {
          "output_type": "stream",
          "name": "stderr",
          "text": [
            " 40%|███▉      | 3980/10000 [45:51<33:48,  2.97it/s]"
          ]
        },
        {
          "output_type": "stream",
          "name": "stdout",
          "text": [
            "Step 3980, train loss:143770.3125, test loss:142340.5781\n"
          ]
        },
        {
          "output_type": "stream",
          "name": "stderr",
          "text": [
            " 40%|███▉      | 3990/10000 [45:56<33:03,  3.03it/s]"
          ]
        },
        {
          "output_type": "stream",
          "name": "stdout",
          "text": [
            "Step 3990, train loss:163181.3750, test loss:186270.4062\n"
          ]
        },
        {
          "output_type": "stream",
          "name": "stderr",
          "text": [
            " 40%|████      | 4000/10000 [46:01<33:24,  2.99it/s]"
          ]
        },
        {
          "output_type": "stream",
          "name": "stdout",
          "text": [
            "Step 4000, train loss:20196.6152, test loss:19959.1367\n",
            "\n",
            "\n",
            "ssr,e.rhso rie  blw.nofoKeroo nnrtieosoeoo eosnorieo\n",
            "eosisiosioooso a'ozi! o\n",
            "e  Ilw.ejeoeeo\n",
            "eosisisisisisisisisosisisisisisoo ale  nlwdKerisosifopeosieoproosiso t, rFs?roIobleroo to oFsnsierosieoosisosioeosisosiosiosiosiosiosiosioesioeseseseso  et?torsorororororororororeororororororororororororooeoro e'ogejevrorororororororeoriororooroororororororororoororororeororoorooorororoooro e'oErieorosioriorooroorororoororororoororororororore  IoR;odififoreoooeoooeeooreoooeoooooooooooooooooooreeoroeeoroeoor  IovsiOhFhrisisifoifiooooooo noow,isoioo  nit',eoeoeeEoeeohrIhrsKhroeooreeooeeeororoorioeorore rorwriTiToooifooorioooorioeooreeoroeoooreeoiotoooororeoriooroo eorEew,ioooooorioooooororeorioooorooooriorioooooooooreeeororeoriooooree e'oE Iiozi! ohrQoiooooooriororidoorreeorooreeee eorE aoi noosiOo&iooisiooioooooooooooooooooooooooooo  IoR; nohEoooifooiooooisifooooooisisififiooooooooooooooeooioooroooooooorooooororeooio e'oEejiotoooioooroooiooooroooroooooooooooooooooooeoooeoooorooooo e'oEamioooooooo\n",
            "Step 4000, train loss:19991.9453, test loss:19606.3750\n"
          ]
        },
        {
          "output_type": "stream",
          "name": "stderr",
          "text": [
            " 40%|████      | 4010/10000 [46:25<56:40,  1.76it/s]  "
          ]
        },
        {
          "output_type": "stream",
          "name": "stdout",
          "text": [
            "Step 4010, train loss:19713.0430, test loss:18901.9453\n"
          ]
        },
        {
          "output_type": "stream",
          "name": "stderr",
          "text": [
            " 40%|████      | 4020/10000 [46:30<33:38,  2.96it/s]"
          ]
        },
        {
          "output_type": "stream",
          "name": "stdout",
          "text": [
            "Step 4020, train loss:6962.7627, test loss:7859.6772\n"
          ]
        },
        {
          "output_type": "stream",
          "name": "stderr",
          "text": [
            " 40%|████      | 4030/10000 [46:35<32:52,  3.03it/s]"
          ]
        },
        {
          "output_type": "stream",
          "name": "stdout",
          "text": [
            "Step 4030, train loss:280537.5938, test loss:347150.3438\n"
          ]
        },
        {
          "output_type": "stream",
          "name": "stderr",
          "text": [
            " 40%|████      | 4040/10000 [46:40<33:17,  2.98it/s]"
          ]
        },
        {
          "output_type": "stream",
          "name": "stdout",
          "text": [
            "Step 4040, train loss:4502928.5000, test loss:4845608.5000\n"
          ]
        },
        {
          "output_type": "stream",
          "name": "stderr",
          "text": [
            " 40%|████      | 4050/10000 [46:45<32:30,  3.05it/s]"
          ]
        },
        {
          "output_type": "stream",
          "name": "stdout",
          "text": [
            "Step 4050, train loss:6877559.0000, test loss:7103734.5000\n"
          ]
        },
        {
          "output_type": "stream",
          "name": "stderr",
          "text": [
            " 41%|████      | 4060/10000 [46:50<32:32,  3.04it/s]"
          ]
        },
        {
          "output_type": "stream",
          "name": "stdout",
          "text": [
            "Step 4060, train loss:795151.9375, test loss:835210.3125\n"
          ]
        },
        {
          "output_type": "stream",
          "name": "stderr",
          "text": [
            " 41%|████      | 4070/10000 [46:54<33:18,  2.97it/s]"
          ]
        },
        {
          "output_type": "stream",
          "name": "stdout",
          "text": [
            "Step 4070, train loss:144574.5938, test loss:155069.8438\n"
          ]
        },
        {
          "output_type": "stream",
          "name": "stderr",
          "text": [
            " 41%|████      | 4080/10000 [46:59<32:39,  3.02it/s]"
          ]
        },
        {
          "output_type": "stream",
          "name": "stdout",
          "text": [
            "Step 4080, train loss:70040.1562, test loss:68274.5859\n"
          ]
        },
        {
          "output_type": "stream",
          "name": "stderr",
          "text": [
            " 41%|████      | 4090/10000 [47:04<32:37,  3.02it/s]"
          ]
        },
        {
          "output_type": "stream",
          "name": "stdout",
          "text": [
            "Step 4090, train loss:43304.8984, test loss:40451.0234\n"
          ]
        },
        {
          "output_type": "stream",
          "name": "stderr",
          "text": [
            " 41%|████      | 4100/10000 [47:09<33:18,  2.95it/s]"
          ]
        },
        {
          "output_type": "stream",
          "name": "stdout",
          "text": [
            "Step 4100, train loss:33948.3203, test loss:33265.1836\n",
            "\n",
            "\n",
            "rs,edcgr\n",
            "do thchidhld;rera fennie-of nen\n",
            "epreolnn myt i oW\n",
            "ins ienr\n",
            "wacdie inmr\n",
            "ies ,r\n",
            "wuu,noin' mr so y s e ensr\n",
            "nnsr\n",
            " molt eu 'hc ab hmtr.\n",
            "e toe.nibeboe.th\n",
            "s ireb ieIt 'hinininaoeiseaa3nins thr eNeens e\n",
            "dus mth- hI h&u,ninins \n",
            "I a a eot at zae\n",
            "nInlRinac .ot e\n",
            "othr,wRotignepept??t,or\n",
            "oog\n",
            "dBc\n",
            "eBBtre\n",
            " irrr\n",
            "oen\n",
            "ooc\n",
            "e\n",
            "oe \n",
            "o\n",
            "\n",
            "\n",
            "ago\n",
            "eBg\n",
            "etint,t.oe th? eb oaot a a efoeenrt,rel eooef \n",
            "ooe\n",
            "\n",
            "\n",
            "\n",
            "\n",
            "\n",
            "\n",
            "\n",
            "\n",
            "\n",
            "\n",
            "\n",
            "\n",
            "\n",
            "\n",
            "\n",
            "\n",
            "\n",
            "\n",
            "\n",
            "\n",
            "\n",
            "\n",
            "\n",
            "\n",
            "\n",
            "\n",
            "\n",
            "\n",
            "\n",
            "\n",
            "\n",
            "\n",
            "\n",
            "\n",
            "\n",
            "\n",
            "\n",
            "\n",
            "\n",
            "\n",
            "\n",
            "\n",
            "\n",
            "\n",
            "\n",
            "\n",
            "\n",
            "\n",
            "\n",
            "\n",
            "\n",
            "\n",
            "\n",
            "\n",
            "\n",
            "\n",
            "\n",
            "\n",
            "\n",
            "\n",
            "e\n",
            "\n",
            "thrrfoa ein3Te\n",
            "nreTtrr \n",
            "oin\n",
            "eVr\n",
            "nepr.Brf,nAt,re&,:nep \n",
            "ooe\n",
            "e!\n",
            "oeT\n",
            "ep th-?de.deie3aaeii-th, oi th\n",
            "?dhrdwwA, lin-iseaa&n-in-aaee-i,t,r\n",
            "oi,reVr&ne-i-re-r-rhre-\n",
            "wtin to?  \n",
            "i?rl \n",
            "oe\n",
            "\n",
            "ao\n",
            "\n",
            "ioe\n",
            "\n",
            "o,o\n",
            "\n",
            "\n",
            "o\n",
            "\n",
            "\n",
            "ar \n",
            "o\n",
            "\n",
            "\n",
            " \n",
            "s o , ir.es,: eoiiais,st,aoise3r.l ei,noase-ra nirne-i-et  oiiir.e-taa  eirrt ao \n",
            "o\n",
            "\n",
            "\n",
            "arr\n",
            "\n",
            "oagoe\n",
            "notintta\n",
            "\n",
            "oo\n",
            "\n",
            "ace\n",
            "danwnBBr\n",
            "epr oae&o-aoee\n",
            "eeli,t,reb eoi ei oirr\n",
            "\n",
            "oig\n",
            "ewd\n",
            "\n",
            "oagoe\n",
            "notinttae\n",
            "oin\n",
            "r\n",
            "o? \n",
            "o\n",
            "\n",
            "\n",
            "aro\n",
            "eBg\n",
            "oe\n",
            "\n",
            "areB,r\n",
            "\n",
            "oo\n",
            "\n",
            "are\n",
            "dhi\n",
            "aenoaoae-r-inon  iaur.Rininr\n",
            "oee\n",
            "e!th\n",
            "\n",
            "aL\n",
            "\n",
            "o\n",
            "\n",
            "\n",
            "art eB,rt agr eor aot eotiTnot,rtta, \n",
            "o \n",
            "rmttr abf.gevi,ni, eoeet\n",
            "Step 4100, train loss:32884.6562, test loss:33835.1328\n"
          ]
        },
        {
          "output_type": "stream",
          "name": "stderr",
          "text": [
            " 41%|████      | 4110/10000 [47:33<55:08,  1.78it/s]  "
          ]
        },
        {
          "output_type": "stream",
          "name": "stdout",
          "text": [
            "Step 4110, train loss:23770.3164, test loss:23699.6992\n"
          ]
        },
        {
          "output_type": "stream",
          "name": "stderr",
          "text": [
            " 41%|████      | 4120/10000 [47:38<32:53,  2.98it/s]"
          ]
        },
        {
          "output_type": "stream",
          "name": "stdout",
          "text": [
            "Step 4120, train loss:20787.0117, test loss:19705.7227\n"
          ]
        },
        {
          "output_type": "stream",
          "name": "stderr",
          "text": [
            " 41%|████▏     | 4130/10000 [47:43<32:40,  2.99it/s]"
          ]
        },
        {
          "output_type": "stream",
          "name": "stdout",
          "text": [
            "Step 4130, train loss:17914.2793, test loss:16934.0938\n"
          ]
        },
        {
          "output_type": "stream",
          "name": "stderr",
          "text": [
            " 41%|████▏     | 4140/10000 [47:48<32:17,  3.02it/s]"
          ]
        },
        {
          "output_type": "stream",
          "name": "stdout",
          "text": [
            "Step 4140, train loss:13813.5684, test loss:14375.9561\n"
          ]
        },
        {
          "output_type": "stream",
          "name": "stderr",
          "text": [
            " 42%|████▏     | 4150/10000 [47:53<32:05,  3.04it/s]"
          ]
        },
        {
          "output_type": "stream",
          "name": "stdout",
          "text": [
            "Step 4150, train loss:12373.3389, test loss:12487.7891\n"
          ]
        },
        {
          "output_type": "stream",
          "name": "stderr",
          "text": [
            " 42%|████▏     | 4160/10000 [47:58<32:36,  2.98it/s]"
          ]
        },
        {
          "output_type": "stream",
          "name": "stdout",
          "text": [
            "Step 4160, train loss:11812.5615, test loss:11678.7607\n"
          ]
        },
        {
          "output_type": "stream",
          "name": "stderr",
          "text": [
            " 42%|████▏     | 4170/10000 [48:03<32:48,  2.96it/s]"
          ]
        },
        {
          "output_type": "stream",
          "name": "stdout",
          "text": [
            "Step 4170, train loss:12118.1914, test loss:11940.3301\n"
          ]
        },
        {
          "output_type": "stream",
          "name": "stderr",
          "text": [
            " 42%|████▏     | 4180/10000 [48:08<31:56,  3.04it/s]"
          ]
        },
        {
          "output_type": "stream",
          "name": "stdout",
          "text": [
            "Step 4180, train loss:11665.9268, test loss:11212.4033\n"
          ]
        },
        {
          "output_type": "stream",
          "name": "stderr",
          "text": [
            " 42%|████▏     | 4190/10000 [48:13<31:59,  3.03it/s]"
          ]
        },
        {
          "output_type": "stream",
          "name": "stdout",
          "text": [
            "Step 4190, train loss:10300.0127, test loss:10183.6094\n"
          ]
        },
        {
          "output_type": "stream",
          "name": "stderr",
          "text": [
            " 42%|████▏     | 4200/10000 [48:18<32:19,  2.99it/s]"
          ]
        },
        {
          "output_type": "stream",
          "name": "stdout",
          "text": [
            "Step 4200, train loss:9970.4941, test loss:10170.3154\n",
            "\n",
            "\n",
            "es,ednr    mo ,o hion,srCa?dBeXgkgggtocs myshent.aaoUtonmg\n",
            "Wn I IyfEefEefoofE,houaWiWte spWemys tou d der,\n",
            "\n",
            "W\n",
            "NLUtew, d,thi ofr\n",
            "\n",
            "\n",
            "DNdwedivLRivis somduHendse:o du\n",
            "d alCan vothC:k to e eme e emdem?kd?de nVe ofemd is -ienTSevemr to the\n",
            "\n",
            "Megiloteys I sive:kxn Ereg e.theml: the?r-a e.a toae, ewcenaS \n",
            "\n",
            "regyoin to e to e dan dhao n n Ca onge is oaee \n",
            "ooe?rocgggknroegBed\n",
            "oooeBggn n?;ceoo;n heooaolonon seooaSeVoo sei eoa sh oi?ese:enpflennanaeunanotutheudn,:,n,narA?Ani,GAlRAeina molofoon\n",
            "\n",
            "ragee aooee\n",
            "In ooooooadBe aed enee \n",
            "oooorogne\n",
            "n?g\n",
            "eBgAtuce;nAn  eoooe ie3red eeetoZna eheemaaeBcai,A\n",
            "e.Aetifye Iinn tome nace aat e?n  iamo \n",
            "AegoadareTe sewenfooooor ne oaeerf,\n",
            "saoooog?e\n",
            "\n",
            "oroeBgggggBggg?e\n",
            "\n",
            "ogoeBooe\n",
            "e\n",
            "e\n",
            "rese\n",
            "\n",
            "oegoenareTen\n",
            "oooeBgre\n",
            "eBnoe\n",
            "AooeBooe\n",
            "e\n",
            "e\n",
            "\n",
            "jaoon?n?gonnoooooooooooeere\n",
            "\n",
            "\n",
            "eBoeegfoee\n",
            "\n",
            "oegoenEnenEnigne\n",
            "eeEe\n",
            "En3onoooneinne\n",
            "\n",
            "\n",
            "\n",
            "eBoeeeiniseNeenEneneee eoot -eee \n",
            "oot: tr ?eginnoaaa eoooa foinfofefan oueB,oanR!r fothitl oeoen,nRinitin meue toue tone to e oanodn fooere.Ae in3re in3e in3e haceNnP\n",
            "Step 4200, train loss:10329.5273, test loss:9739.1846\n"
          ]
        },
        {
          "output_type": "stream",
          "name": "stderr",
          "text": [
            " 42%|████▏     | 4210/10000 [48:41<53:26,  1.81it/s]  "
          ]
        },
        {
          "output_type": "stream",
          "name": "stdout",
          "text": [
            "Step 4210, train loss:9696.6289, test loss:10064.7852\n"
          ]
        },
        {
          "output_type": "stream",
          "name": "stderr",
          "text": [
            " 42%|████▏     | 4220/10000 [48:46<32:51,  2.93it/s]"
          ]
        },
        {
          "output_type": "stream",
          "name": "stdout",
          "text": [
            "Step 4220, train loss:7809.5483, test loss:7747.1094\n"
          ]
        },
        {
          "output_type": "stream",
          "name": "stderr",
          "text": [
            " 42%|████▏     | 4230/10000 [48:51<32:38,  2.95it/s]"
          ]
        },
        {
          "output_type": "stream",
          "name": "stdout",
          "text": [
            "Step 4230, train loss:7199.1108, test loss:7191.1577\n"
          ]
        },
        {
          "output_type": "stream",
          "name": "stderr",
          "text": [
            " 42%|████▏     | 4240/10000 [48:56<31:34,  3.04it/s]"
          ]
        },
        {
          "output_type": "stream",
          "name": "stdout",
          "text": [
            "Step 4240, train loss:8736.1182, test loss:8872.0605\n"
          ]
        },
        {
          "output_type": "stream",
          "name": "stderr",
          "text": [
            " 42%|████▎     | 4250/10000 [49:01<31:33,  3.04it/s]"
          ]
        },
        {
          "output_type": "stream",
          "name": "stdout",
          "text": [
            "Step 4250, train loss:9657.5469, test loss:10263.0762\n"
          ]
        },
        {
          "output_type": "stream",
          "name": "stderr",
          "text": [
            " 43%|████▎     | 4260/10000 [49:06<32:25,  2.95it/s]"
          ]
        },
        {
          "output_type": "stream",
          "name": "stdout",
          "text": [
            "Step 4260, train loss:9689.5488, test loss:9838.7637\n"
          ]
        },
        {
          "output_type": "stream",
          "name": "stderr",
          "text": [
            " 43%|████▎     | 4270/10000 [49:11<31:49,  3.00it/s]"
          ]
        },
        {
          "output_type": "stream",
          "name": "stdout",
          "text": [
            "Step 4270, train loss:9221.6924, test loss:8900.1543\n"
          ]
        },
        {
          "output_type": "stream",
          "name": "stderr",
          "text": [
            " 43%|████▎     | 4280/10000 [49:16<31:30,  3.03it/s]"
          ]
        },
        {
          "output_type": "stream",
          "name": "stdout",
          "text": [
            "Step 4280, train loss:8403.6943, test loss:8333.8428\n"
          ]
        },
        {
          "output_type": "stream",
          "name": "stderr",
          "text": [
            " 43%|████▎     | 4290/10000 [49:21<31:53,  2.98it/s]"
          ]
        },
        {
          "output_type": "stream",
          "name": "stdout",
          "text": [
            "Step 4290, train loss:8474.6465, test loss:8677.2363\n"
          ]
        },
        {
          "output_type": "stream",
          "name": "stderr",
          "text": [
            " 43%|████▎     | 4300/10000 [49:26<31:33,  3.01it/s]"
          ]
        },
        {
          "output_type": "stream",
          "name": "stdout",
          "text": [
            "Step 4300, train loss:9268.1973, test loss:9637.2822\n",
            "\n",
            "\n",
            "es,ec n,gee, ooot iGgit  ,hevebyo that heg thS3hebur?l \n",
            "Aditit a,,BI th,n?ot ld\n",
            "vaW axaonwuGlouud alvaOcl avivF\n",
            "I the that rer, ocor,,,,,,d sh bud thegPytidbld oldittaSEouc we wise thrs het glol they nHanor aaltis faarouoo Fl au thanzhIr \n",
            "3rAr, wN ton:ic  gir notherh:,nne caIe dacuiviftifO IivA thew:! a dh wae that int aacang ea\n",
            "in whooofowof n nye than?An caaoftit  aaa ewf th widuoooac oo widuwencaanAenEnce oo widuwenEaane oa,oooit th wi?nAninaa eooooooooo a swi  ieGo \n",
            "i we wan thei?pa than?gkhcuchinSe aaco th e thewa? Iinft  weam th wi? a dhi ae.e cas iennen moooie isue in3we aeMin\n",
            "\n",
            "rOgan?Uo aa ehiye eag eoaooe,AfttiEe maFue maFea eotifen aoawanThAnwinTey  aaooivOelAn thee.pc aaancgaen eat  oanpAnit th wi?nAninac  oooe thyehehh,h\n",
            "WihwRoRo I I o e dhegg:\n",
            "\n",
            "A?wwR?dwoe?dn fooooooooo ae waeao a i ee waea\n",
            "D ,o wirnnic aaooenInIenYoin\n",
            "Thiwooo eeI n fanet aet  ta e e e e thew aany ia: th e o?eg ina\n",
            "AnowL?dwgoregooe?Rinugn??nwn?gBgoreBnog??ooooe?eeanon??oooregntuooooore oooo da eiddn aaoooin \n",
            "Step 4300, train loss:9403.0547, test loss:10024.8750\n"
          ]
        },
        {
          "output_type": "stream",
          "name": "stderr",
          "text": [
            " 43%|████▎     | 4310/10000 [49:49<52:43,  1.80it/s]  "
          ]
        },
        {
          "output_type": "stream",
          "name": "stdout",
          "text": [
            "Step 4310, train loss:9691.1035, test loss:9454.1182\n"
          ]
        },
        {
          "output_type": "stream",
          "name": "stderr",
          "text": [
            " 43%|████▎     | 4320/10000 [49:54<32:19,  2.93it/s]"
          ]
        },
        {
          "output_type": "stream",
          "name": "stdout",
          "text": [
            "Step 4320, train loss:8768.5156, test loss:8967.9238\n"
          ]
        },
        {
          "output_type": "stream",
          "name": "stderr",
          "text": [
            " 43%|████▎     | 4330/10000 [49:59<31:12,  3.03it/s]"
          ]
        },
        {
          "output_type": "stream",
          "name": "stdout",
          "text": [
            "Step 4330, train loss:8155.0264, test loss:7857.0806\n"
          ]
        },
        {
          "output_type": "stream",
          "name": "stderr",
          "text": [
            " 43%|████▎     | 4340/10000 [50:04<31:07,  3.03it/s]"
          ]
        },
        {
          "output_type": "stream",
          "name": "stdout",
          "text": [
            "Step 4340, train loss:7249.7085, test loss:6996.8726\n"
          ]
        },
        {
          "output_type": "stream",
          "name": "stderr",
          "text": [
            " 44%|████▎     | 4350/10000 [50:09<31:38,  2.98it/s]"
          ]
        },
        {
          "output_type": "stream",
          "name": "stdout",
          "text": [
            "Step 4350, train loss:5021.4590, test loss:4890.4541\n"
          ]
        },
        {
          "output_type": "stream",
          "name": "stderr",
          "text": [
            " 44%|████▎     | 4360/10000 [50:14<31:07,  3.02it/s]"
          ]
        },
        {
          "output_type": "stream",
          "name": "stdout",
          "text": [
            "Step 4360, train loss:4650.8691, test loss:4490.0054\n"
          ]
        },
        {
          "output_type": "stream",
          "name": "stderr",
          "text": [
            " 44%|████▎     | 4370/10000 [50:19<30:53,  3.04it/s]"
          ]
        },
        {
          "output_type": "stream",
          "name": "stdout",
          "text": [
            "Step 4370, train loss:5571.9746, test loss:5348.3818\n"
          ]
        },
        {
          "output_type": "stream",
          "name": "stderr",
          "text": [
            " 44%|████▍     | 4380/10000 [50:24<31:28,  2.98it/s]"
          ]
        },
        {
          "output_type": "stream",
          "name": "stdout",
          "text": [
            "Step 4380, train loss:5654.1455, test loss:5582.5215\n"
          ]
        },
        {
          "output_type": "stream",
          "name": "stderr",
          "text": [
            " 44%|████▍     | 4390/10000 [50:29<31:33,  2.96it/s]"
          ]
        },
        {
          "output_type": "stream",
          "name": "stdout",
          "text": [
            "Step 4390, train loss:5444.9854, test loss:5582.1094\n"
          ]
        },
        {
          "output_type": "stream",
          "name": "stderr",
          "text": [
            " 44%|████▍     | 4400/10000 [50:34<30:46,  3.03it/s]"
          ]
        },
        {
          "output_type": "stream",
          "name": "stdout",
          "text": [
            "Step 4400, train loss:4266.1333, test loss:4298.4360\n",
            "\n",
            "\n",
            "es,rC hot\n",
            "WyalbLobynd ar soias hofr weaa I raaa haaL ad a aaara ,oiaaaaaP a aaaP e aa aaaP aa aaaa a aaa a aaaaa aaaa aaaa a aaaa aa aaa aaaa aaaa aaaaaaL aLaT aLaaL aL La dh  fih Lh Lo L L LL L L L LaL L ad  aaaa aaa a  aa diaa ad m Ia dau aa  oou a I IenhLn prt,?revEi  kienZgt? reef,  EirZnEe'e 'wgy Er-t?eso fifft, oadifhi-n,\n",
            "r:AIEtt:e  eUapnSunin fow?eo weedhB\n",
            "arhe\n",
            "gatr?RhIDoDonre\n",
            "LiowigBwRYn co wirneinal eo Lerlenrfil no w iieO  iamA \n",
            "eenrny eArioin irpLcEnifCe CeKAnrakuoifnoCUAnrao IionInifC aoin thisevensunun\n",
            "\n",
            "rAwe.??eEe\n",
            "\n",
            "he?w wy\n",
            "efn\n",
            "yoowA?\n",
            "e\n",
            "\n",
            "Pe?e\n",
            "nEney bweeye.nnCemeeeC\n",
            "\n",
            "\n",
            "ye?eyjaLDnEirrEnEnEnoDn?e\n",
            "OLreErELnEiniLninilRiyininrEnELnonELinC?RiDEinrEnTinninTneEinCCinCenIininEinieieCIiinEiniminCEinIEnEnrEnEiniwEioinCInieiDirinInCInieCCeFin\n",
            "IiseiGifiNEInh&BeWgegt,pt:.ti me erAge, ao w nye.tau\n",
            "neowe\n",
            "\n",
            "e\n",
            "e\n",
            ".f e oie?feOAnAnAnO fa erEagfe Iiemo thae toisfofesfamensenviaOerenfeyenmCn nAenouCnyyremnCCCCnmrCnnCnAnmnnCminCnnCeenCnny eenemn na LidnenunnnEnEnnnEnTEninnnic meyeiIifisucin finfenifi\n",
            "Step 4400, train loss:4320.9878, test loss:4450.0049\n"
          ]
        },
        {
          "output_type": "stream",
          "name": "stderr",
          "text": [
            " 44%|████▍     | 4410/10000 [50:57<51:56,  1.79it/s]  "
          ]
        },
        {
          "output_type": "stream",
          "name": "stdout",
          "text": [
            "Step 4410, train loss:4213.9307, test loss:4289.5703\n"
          ]
        },
        {
          "output_type": "stream",
          "name": "stderr",
          "text": [
            " 44%|████▍     | 4420/10000 [51:02<31:29,  2.95it/s]"
          ]
        },
        {
          "output_type": "stream",
          "name": "stdout",
          "text": [
            "Step 4420, train loss:5054.9722, test loss:4722.6895\n"
          ]
        },
        {
          "output_type": "stream",
          "name": "stderr",
          "text": [
            " 44%|████▍     | 4430/10000 [51:07<30:34,  3.04it/s]"
          ]
        },
        {
          "output_type": "stream",
          "name": "stdout",
          "text": [
            "Step 4430, train loss:5381.1245, test loss:5230.0439\n"
          ]
        },
        {
          "output_type": "stream",
          "name": "stderr",
          "text": [
            " 44%|████▍     | 4440/10000 [51:12<30:54,  3.00it/s]"
          ]
        },
        {
          "output_type": "stream",
          "name": "stdout",
          "text": [
            "Step 4440, train loss:5023.6333, test loss:5171.8877\n"
          ]
        },
        {
          "output_type": "stream",
          "name": "stderr",
          "text": [
            " 44%|████▍     | 4450/10000 [51:17<31:04,  2.98it/s]"
          ]
        },
        {
          "output_type": "stream",
          "name": "stdout",
          "text": [
            "Step 4450, train loss:3884.9409, test loss:4906.5063\n"
          ]
        },
        {
          "output_type": "stream",
          "name": "stderr",
          "text": [
            " 45%|████▍     | 4460/10000 [51:22<30:37,  3.02it/s]"
          ]
        },
        {
          "output_type": "stream",
          "name": "stdout",
          "text": [
            "Step 4460, train loss:3794.8586, test loss:3287.2500\n"
          ]
        },
        {
          "output_type": "stream",
          "name": "stderr",
          "text": [
            " 45%|████▍     | 4470/10000 [51:27<30:29,  3.02it/s]"
          ]
        },
        {
          "output_type": "stream",
          "name": "stdout",
          "text": [
            "Step 4470, train loss:3292.1047, test loss:3272.2812\n"
          ]
        },
        {
          "output_type": "stream",
          "name": "stderr",
          "text": [
            " 45%|████▍     | 4480/10000 [51:32<31:04,  2.96it/s]"
          ]
        },
        {
          "output_type": "stream",
          "name": "stdout",
          "text": [
            "Step 4480, train loss:3780.9954, test loss:4044.8601\n"
          ]
        },
        {
          "output_type": "stream",
          "name": "stderr",
          "text": [
            " 45%|████▍     | 4490/10000 [51:37<30:28,  3.01it/s]"
          ]
        },
        {
          "output_type": "stream",
          "name": "stdout",
          "text": [
            "Step 4490, train loss:2963.9287, test loss:2986.3665\n"
          ]
        },
        {
          "output_type": "stream",
          "name": "stderr",
          "text": [
            " 45%|████▌     | 4500/10000 [51:42<30:17,  3.03it/s]"
          ]
        },
        {
          "output_type": "stream",
          "name": "stdout",
          "text": [
            "Step 4500, train loss:4341.0933, test loss:4957.8901\n",
            "\n",
            "\n",
            "e,soio          Coil dtr.BsFo divenT:,,dYo yrt \n",
            "Ourv?pLOBLUFbyo!Ie;Iis?ut lk,aomIn;oHeivsDlkIl citiv\n",
            "Riv arf Orved\n",
            "Updick\n",
            "RicEd lllttieu .s me\n",
            "viR' scr Cby, bincere NCbincee sprds fomEnEEnEn' comr be Eour wit mOis bergrorcorUcorelr m rerr  revel fis\n",
            "\n",
            "I UUe   ce CeKwae\n",
            ":!Ce Br ek \n",
            "\n",
            "AAwe wiea mee  \n",
            "\n",
            "\n",
            " Xwe CeOZeJ Ue e C e \n",
            " a weBn; en e hinXfthuflR, BinonnEnn,n aUrflUe' a  $e!untt?asoun, aeihrEnaCnJ , he\n",
            "whieeOeBege. Oe.Ahe\n",
            "Tihe\n",
            "LlLeBe.eTORRwLe.Lne\n",
            "eNEeTeioea eeUTeCeTine \n",
            "eenin-heiaeB\n",
            "\n",
            "iowe oeOe\n",
            "e\n",
            "LegeTilic e\n",
            "r'eg eBeeCin eeeecttf owhesef.CCnisesininik,dnioft ilpeit tryeItit fAt eOwefniftleftitl arfftivfRepIfRio arfftivfElpofElof,tiOn ewfAlseC\n",
            "\n",
            "O\n",
            "eNg\n",
            "\n",
            "\n",
            "\n",
            "?weN hiowaN:e:\n",
            ",ucw heewewawurlduraLlO:he ewnAee sh?ere those\n",
            "deGe\n",
            "dueNkegBrrvk,weNDed\n",
            "\n",
            "LeNw.o;eN\n",
            "\n",
            "\n",
            "\n",
            "?wewIn'Ogkt.fggDe\n",
            "idawRwIeI\n",
            "n\n",
            "re\n",
            "arianeNe,TeO e\n",
            "\n",
            "\n",
            "iowe wien\n",
            "\n",
            "LweN\n",
            "Yt acEde\n",
            "aheNkwaoeNkoieBYekeNYemeNieF\n",
            "\n",
            "e?eeinpYil fowerueniniftlie Iit theek-ie nisg\n",
            "\n",
            "ifwe oien these?pege?se?pfUce ci ee Lishene:\n",
            "\n",
            "e e'eean\n",
            "\n",
            "rtwae\n",
            "rEre\n",
            "\n",
            "ineN\n",
            "eke\n",
            "\n",
            "\n",
            "reNee\n",
            "ioi\n",
            "Step 4500, train loss:4436.9126, test loss:7010.0640\n"
          ]
        },
        {
          "output_type": "stream",
          "name": "stderr",
          "text": [
            " 45%|████▌     | 4510/10000 [52:06<51:46,  1.77it/s]  "
          ]
        },
        {
          "output_type": "stream",
          "name": "stdout",
          "text": [
            "Step 4510, train loss:3840.3276, test loss:3842.0815\n"
          ]
        },
        {
          "output_type": "stream",
          "name": "stderr",
          "text": [
            " 45%|████▌     | 4520/10000 [52:11<30:41,  2.98it/s]"
          ]
        },
        {
          "output_type": "stream",
          "name": "stdout",
          "text": [
            "Step 4520, train loss:5267.5088, test loss:5262.9316\n"
          ]
        },
        {
          "output_type": "stream",
          "name": "stderr",
          "text": [
            " 45%|████▌     | 4530/10000 [52:16<30:06,  3.03it/s]"
          ]
        },
        {
          "output_type": "stream",
          "name": "stdout",
          "text": [
            "Step 4530, train loss:4247.6494, test loss:4321.7456\n"
          ]
        },
        {
          "output_type": "stream",
          "name": "stderr",
          "text": [
            " 45%|████▌     | 4540/10000 [52:21<30:48,  2.95it/s]"
          ]
        },
        {
          "output_type": "stream",
          "name": "stdout",
          "text": [
            "Step 4540, train loss:15538.0342, test loss:14974.4824\n"
          ]
        },
        {
          "output_type": "stream",
          "name": "stderr",
          "text": [
            " 46%|████▌     | 4550/10000 [52:26<30:04,  3.02it/s]"
          ]
        },
        {
          "output_type": "stream",
          "name": "stdout",
          "text": [
            "Step 4550, train loss:13941.0859, test loss:12122.4082\n"
          ]
        },
        {
          "output_type": "stream",
          "name": "stderr",
          "text": [
            " 46%|████▌     | 4560/10000 [52:31<29:49,  3.04it/s]"
          ]
        },
        {
          "output_type": "stream",
          "name": "stdout",
          "text": [
            "Step 4560, train loss:10765.1699, test loss:11286.0000\n"
          ]
        },
        {
          "output_type": "stream",
          "name": "stderr",
          "text": [
            " 46%|████▌     | 4570/10000 [52:35<30:22,  2.98it/s]"
          ]
        },
        {
          "output_type": "stream",
          "name": "stdout",
          "text": [
            "Step 4570, train loss:7549.9424, test loss:8043.8477\n"
          ]
        },
        {
          "output_type": "stream",
          "name": "stderr",
          "text": [
            " 46%|████▌     | 4580/10000 [52:40<30:04,  3.00it/s]"
          ]
        },
        {
          "output_type": "stream",
          "name": "stdout",
          "text": [
            "Step 4580, train loss:4842.4712, test loss:4928.0908\n"
          ]
        },
        {
          "output_type": "stream",
          "name": "stderr",
          "text": [
            " 46%|████▌     | 4590/10000 [52:45<29:59,  3.01it/s]"
          ]
        },
        {
          "output_type": "stream",
          "name": "stdout",
          "text": [
            "Step 4590, train loss:3898.9629, test loss:3730.7300\n"
          ]
        },
        {
          "output_type": "stream",
          "name": "stderr",
          "text": [
            " 46%|████▌     | 4600/10000 [52:50<29:59,  3.00it/s]"
          ]
        },
        {
          "output_type": "stream",
          "name": "stdout",
          "text": [
            "Step 4600, train loss:3331.0137, test loss:3575.9109\n",
            "\n",
            "\n",
            "eeh,\n",
            "h  rlwa owLUgo g .aa sie ' s o s trht.ftl I haw to het n$tthiore then t!at\n",
            "Whirt!uH isu hap inKistlemy co hash itl toreh to I thitche ters that tool bethere  myfe ,at\n",
            "Mud rt d tilme tots ther I th h t nI theighebebIas wis is the  .s thst h henes dqItce to e a thee unke then kent! to e a e natn\n",
            "e e thnet! Harig fo e ast\n",
            "e n e e\n",
            "iot rlolAe eieWe tiese ,hae th e d ed de e Nioved le eeO eent! to e theen-t! e id e,e eat?Ale eeO e eieIe ca te e a e thise?\n",
            "\n",
            "LAeNinXeNenpeNeNnt! heewewnenen lou,fl lowefoeninic to e thewao Iis hace,: tive,olenep, ewee tooethie gattlore beOwe.in Lis foth e,PReil:eenin fo ofkest ifon to e thewad .is fothere,ne easounoagee,t\n",
            "We,weGlweGoweNe;e\n",
            "\n",
            "oweN hioN,NOgne:tl:e:eXEne:t tonet aofef thema?ah ac to e tooe vice .if-is  tolet\n",
            "Weewewt tofeail eef tooe vile to e toew to e thewaBigh al eapPg, aoaHeiseasea touefh to e them tooethie gag no Lis eicgal foth eil-gwA to e themaPUR! al eamTdy aort!oiay rAoo fo e themaP ncP to e them tooet\n",
            "WooNgN\n",
            "Ne\n",
            "e a suiril fo er$\n",
            "en e \n",
            "Step 4600, train loss:3424.3477, test loss:3413.4946\n"
          ]
        },
        {
          "output_type": "stream",
          "name": "stderr",
          "text": [
            " 46%|████▌     | 4610/10000 [53:14<50:13,  1.79it/s]  "
          ]
        },
        {
          "output_type": "stream",
          "name": "stdout",
          "text": [
            "Step 4610, train loss:3354.5300, test loss:3367.0793\n"
          ]
        },
        {
          "output_type": "stream",
          "name": "stderr",
          "text": [
            " 46%|████▌     | 4620/10000 [53:19<30:11,  2.97it/s]"
          ]
        },
        {
          "output_type": "stream",
          "name": "stdout",
          "text": [
            "Step 4620, train loss:3023.2834, test loss:3007.9668\n"
          ]
        },
        {
          "output_type": "stream",
          "name": "stderr",
          "text": [
            " 46%|████▋     | 4630/10000 [53:24<30:09,  2.97it/s]"
          ]
        },
        {
          "output_type": "stream",
          "name": "stdout",
          "text": [
            "Step 4630, train loss:3286.5015, test loss:3411.8159\n"
          ]
        },
        {
          "output_type": "stream",
          "name": "stderr",
          "text": [
            " 46%|████▋     | 4640/10000 [53:29<29:52,  2.99it/s]"
          ]
        },
        {
          "output_type": "stream",
          "name": "stdout",
          "text": [
            "Step 4640, train loss:4026.3257, test loss:4021.7036\n"
          ]
        },
        {
          "output_type": "stream",
          "name": "stderr",
          "text": [
            " 46%|████▋     | 4650/10000 [53:34<29:38,  3.01it/s]"
          ]
        },
        {
          "output_type": "stream",
          "name": "stdout",
          "text": [
            "Step 4650, train loss:4528.9424, test loss:4649.5117\n"
          ]
        },
        {
          "output_type": "stream",
          "name": "stderr",
          "text": [
            " 47%|████▋     | 4660/10000 [53:39<29:36,  3.01it/s]"
          ]
        },
        {
          "output_type": "stream",
          "name": "stdout",
          "text": [
            "Step 4660, train loss:5220.5615, test loss:5593.8276\n"
          ]
        },
        {
          "output_type": "stream",
          "name": "stderr",
          "text": [
            " 47%|████▋     | 4670/10000 [53:44<30:02,  2.96it/s]"
          ]
        },
        {
          "output_type": "stream",
          "name": "stdout",
          "text": [
            "Step 4670, train loss:4853.0962, test loss:4819.8057\n"
          ]
        },
        {
          "output_type": "stream",
          "name": "stderr",
          "text": [
            " 47%|████▋     | 4680/10000 [53:49<29:19,  3.02it/s]"
          ]
        },
        {
          "output_type": "stream",
          "name": "stdout",
          "text": [
            "Step 4680, train loss:4800.6128, test loss:5316.1431\n"
          ]
        },
        {
          "output_type": "stream",
          "name": "stderr",
          "text": [
            " 47%|████▋     | 4690/10000 [53:54<29:19,  3.02it/s]"
          ]
        },
        {
          "output_type": "stream",
          "name": "stdout",
          "text": [
            "Step 4690, train loss:3846.0327, test loss:3918.6438\n"
          ]
        },
        {
          "output_type": "stream",
          "name": "stderr",
          "text": [
            " 47%|████▋     | 4700/10000 [53:59<29:42,  2.97it/s]"
          ]
        },
        {
          "output_type": "stream",
          "name": "stdout",
          "text": [
            "Step 4700, train loss:3443.6694, test loss:3228.9565\n",
            "\n",
            "\n",
            "eeh,\n",
            "h  rlyru on mis hero   h hh hioh  hae ea  ne  e          h F a hiiirCc w misiiegsear is, hisr , shaaeeeeRe,ee?e, hia eda giahg e           hi al iorin, ere  eshe                          e                                            e ee eeeeR e e   yepy \n",
            "h:t  ,hJh,h:.SapcA ky mai.Ai foDn&ny fia e-j,figHnaa&n&naeaBn, eaBnael t yv e a e t etueme&ni th  aea eit ae y tuee thi g p! m tu e .at  aaue e O Le Lin eiaEi eits, gh e!aao eiOt! Lin: hifeau:eXfat them!?UcB:\n",
            "WkeNkeggBDt themo ao?ea-ta e al e TR?N,Aag them themh: ?aade, aoaeamMeam,Aaouea thee.-adufke this mo m themaPkenme meOun thes shoe,oastaao mo m them,: Haofarpeema them aaoaon aoi th e olevedh weamen thema: vige .if: themA: themaPkh aaat themA: themo ao?e them ma eaaaot! iatussiesw-oe ousevquG-lOus fadifhed looethue saoued leoin vhoo Mo e aaeno aae eooo geImO mo e aa\n",
            "ee e,Geeoefed\n",
            "eeet!e e,ded.\n",
            "\n",
            "GeNedMnDoDloweNmowed\n",
            "ewe?\n",
            "Yeew\n",
            "Ln\n",
            "e o oWeNtaatannnt! shaou?,unt! shae,An thes shem themh: ?a:aotsefaoa ee Lhaeadat  aouh bi oakeencea\n",
            "Step 4700, train loss:3359.6367, test loss:3324.7168\n"
          ]
        },
        {
          "output_type": "stream",
          "name": "stderr",
          "text": [
            " 47%|████▋     | 4710/10000 [54:22<49:00,  1.80it/s]"
          ]
        },
        {
          "output_type": "stream",
          "name": "stdout",
          "text": [
            "Step 4710, train loss:2975.3789, test loss:3232.0864\n"
          ]
        },
        {
          "output_type": "stream",
          "name": "stderr",
          "text": [
            " 47%|████▋     | 4720/10000 [54:27<29:40,  2.97it/s]"
          ]
        },
        {
          "output_type": "stream",
          "name": "stdout",
          "text": [
            "Step 4720, train loss:2391.6108, test loss:2381.3550\n"
          ]
        },
        {
          "output_type": "stream",
          "name": "stderr",
          "text": [
            " 47%|████▋     | 4730/10000 [54:32<29:32,  2.97it/s]"
          ]
        },
        {
          "output_type": "stream",
          "name": "stdout",
          "text": [
            "Step 4730, train loss:2417.8682, test loss:2535.5608\n"
          ]
        },
        {
          "output_type": "stream",
          "name": "stderr",
          "text": [
            " 47%|████▋     | 4740/10000 [54:37<28:55,  3.03it/s]"
          ]
        },
        {
          "output_type": "stream",
          "name": "stdout",
          "text": [
            "Step 4740, train loss:3110.2446, test loss:3202.7148\n"
          ]
        },
        {
          "output_type": "stream",
          "name": "stderr",
          "text": [
            " 48%|████▊     | 4750/10000 [54:42<28:54,  3.03it/s]"
          ]
        },
        {
          "output_type": "stream",
          "name": "stdout",
          "text": [
            "Step 4750, train loss:2810.8528, test loss:2940.7883\n"
          ]
        },
        {
          "output_type": "stream",
          "name": "stderr",
          "text": [
            " 48%|████▊     | 4760/10000 [54:47<29:31,  2.96it/s]"
          ]
        },
        {
          "output_type": "stream",
          "name": "stdout",
          "text": [
            "Step 4760, train loss:2199.8433, test loss:2222.9001\n"
          ]
        },
        {
          "output_type": "stream",
          "name": "stderr",
          "text": [
            " 48%|████▊     | 4770/10000 [54:52<28:52,  3.02it/s]"
          ]
        },
        {
          "output_type": "stream",
          "name": "stdout",
          "text": [
            "Step 4770, train loss:2754.7969, test loss:2683.8433\n"
          ]
        },
        {
          "output_type": "stream",
          "name": "stderr",
          "text": [
            " 48%|████▊     | 4780/10000 [54:57<28:40,  3.03it/s]"
          ]
        },
        {
          "output_type": "stream",
          "name": "stdout",
          "text": [
            "Step 4780, train loss:2617.4856, test loss:2595.2271\n"
          ]
        },
        {
          "output_type": "stream",
          "name": "stderr",
          "text": [
            " 48%|████▊     | 4790/10000 [55:02<29:08,  2.98it/s]"
          ]
        },
        {
          "output_type": "stream",
          "name": "stdout",
          "text": [
            "Step 4790, train loss:2761.1746, test loss:2889.0464\n"
          ]
        },
        {
          "output_type": "stream",
          "name": "stderr",
          "text": [
            " 48%|████▊     | 4800/10000 [55:07<28:50,  3.00it/s]"
          ]
        },
        {
          "output_type": "stream",
          "name": "stdout",
          "text": [
            "Step 4800, train loss:2948.8491, test loss:3212.7429\n",
            "\n",
            "\n",
            "eeh,\n",
            "h  rlys: on foiEh la   ce  hr fie  mit fin he we  topebeace'eema te ercoo He aods lost ofolnn y y\n",
            "LrAl to hi p,:hag\n",
            "\n",
            "Lg'st g.\n",
            "viRuu bard w\n",
            ":h\n",
            "A R\n",
            "Aers to anid ' se ,olwein dinR\n",
            "W\n",
            "\n",
            "Cad yrEan y , A s ar.y , aR?CE\n",
            "Imag ad mafead imIr it te gesg l OharO:,NNenaanS:,AcngnaSeent aun au me\n",
            ",\n",
            "eNgekM me'ince&e\n",
            "\n",
            "eedin beowel,Ln yooe Fort telGn Ur eYaseXec lee eoat telG to e cae eag e reWIceeded feelgn UeeI sorfeaaGoe kort tolef tooe vooo teeG\n",
            "\n",
            "O qN mamee,\n",
            "RIaeYeNeNant heNe -olert ir eka eeet Ifen at afe l!iowe, aore; fea!n Iic arf, tooe to e ol o ofem l Fe e aaol fiofent aofe tooet ifevid mo oirfen IilLeXeRin ger$nced leet touet ifaeaoteveaifouleueat te e a e, Lent  pol gorfe meOe dowe meOe 'hDe Mo m tenLf' e\n",
            "ir,NeN.eRSeOieaeNeeceNeN eNeed\n",
            "oXeN higXfnER-lact yeu toue meOe 'hre teMdert te eaPio .ien toae,epInt aaol fege veGe sewe Iifn toweo?o?AofA mery tee$ I ged fooe mo m tenLf' aoreed,GcEceinaLn foil fo m tenLf' ao oaofet she? tooe vooo teome co me e aaofoe,AfenoinSeen\n",
            "OuONgNkNgSNg,oLfSNe:e\n",
            "Step 4800, train loss:2864.1821, test loss:3268.0923\n"
          ]
        },
        {
          "output_type": "stream",
          "name": "stderr",
          "text": [
            " 48%|████▊     | 4810/10000 [55:31<48:11,  1.80it/s]"
          ]
        },
        {
          "output_type": "stream",
          "name": "stdout",
          "text": [
            "Step 4810, train loss:2829.7476, test loss:2833.7578\n"
          ]
        },
        {
          "output_type": "stream",
          "name": "stderr",
          "text": [
            " 48%|████▊     | 4820/10000 [55:36<29:45,  2.90it/s]"
          ]
        },
        {
          "output_type": "stream",
          "name": "stdout",
          "text": [
            "Step 4820, train loss:2315.5583, test loss:2476.9773\n"
          ]
        },
        {
          "output_type": "stream",
          "name": "stderr",
          "text": [
            " 48%|████▊     | 4830/10000 [55:40<28:30,  3.02it/s]"
          ]
        },
        {
          "output_type": "stream",
          "name": "stdout",
          "text": [
            "Step 4830, train loss:3064.4907, test loss:3181.5005\n"
          ]
        },
        {
          "output_type": "stream",
          "name": "stderr",
          "text": [
            " 48%|████▊     | 4840/10000 [55:45<28:19,  3.04it/s]"
          ]
        },
        {
          "output_type": "stream",
          "name": "stdout",
          "text": [
            "Step 4840, train loss:3181.9897, test loss:3342.7278\n"
          ]
        },
        {
          "output_type": "stream",
          "name": "stderr",
          "text": [
            " 48%|████▊     | 4850/10000 [55:50<29:01,  2.96it/s]"
          ]
        },
        {
          "output_type": "stream",
          "name": "stdout",
          "text": [
            "Step 4850, train loss:3860.7544, test loss:3780.6199\n"
          ]
        },
        {
          "output_type": "stream",
          "name": "stderr",
          "text": [
            " 49%|████▊     | 4860/10000 [55:55<28:28,  3.01it/s]"
          ]
        },
        {
          "output_type": "stream",
          "name": "stdout",
          "text": [
            "Step 4860, train loss:4392.2305, test loss:4552.5791\n"
          ]
        },
        {
          "output_type": "stream",
          "name": "stderr",
          "text": [
            " 49%|████▊     | 4870/10000 [56:00<28:09,  3.04it/s]"
          ]
        },
        {
          "output_type": "stream",
          "name": "stdout",
          "text": [
            "Step 4870, train loss:3152.0444, test loss:3181.8699\n"
          ]
        },
        {
          "output_type": "stream",
          "name": "stderr",
          "text": [
            " 49%|████▉     | 4880/10000 [56:05<28:23,  3.01it/s]"
          ]
        },
        {
          "output_type": "stream",
          "name": "stdout",
          "text": [
            "Step 4880, train loss:3160.9805, test loss:3216.2427\n"
          ]
        },
        {
          "output_type": "stream",
          "name": "stderr",
          "text": [
            " 49%|████▉     | 4890/10000 [56:10<28:44,  2.96it/s]"
          ]
        },
        {
          "output_type": "stream",
          "name": "stdout",
          "text": [
            "Step 4890, train loss:2797.7734, test loss:2900.6936\n"
          ]
        },
        {
          "output_type": "stream",
          "name": "stderr",
          "text": [
            " 49%|████▉     | 4900/10000 [56:15<28:03,  3.03it/s]"
          ]
        },
        {
          "output_type": "stream",
          "name": "stdout",
          "text": [
            "Step 4900, train loss:2949.5142, test loss:2942.0183\n",
            "\n",
            "\n",
            "et iekinat,y  u,au,ude,hrhbud wark ther the hioHes yhpduduranous:,ers: is maonobsh iolpolorcrefogin:\n",
            "Gpkacb imYPadeftart, I hedifnw has .ifsNin the lOdesen, lalal la:a suiisenlien! then thyI wUsed lad thoy Cxad dhemPhst iv:\n",
            "YeynopM:e; Ou.Aurt, avyn Rh' F F ,l qathe erTit, aIiril,e,ed theJh:ahadfbe?t, \n",
            " teGGf cetueu thhe.ht,aril theme?m, Iaat, taegh,g thas them thema:ahigg.a ng!tualev:,ioiom ment, ma qfot,uct, shemaV theJoPgghIn aoat, mef-as itapt, sham,N,ucucaaueit, inTN fathit theme;mgives fe Haoetut,at,hem moat,Nif na maofet,eraoifiv aoia thee ,art, taem themamaha.ivi  ,ent, taem.iv a , ted themamahighigmigmig-,et, !hoete aouu themamahaaaaaormot, \n",
            "TirofonNGon;at,hedo mege,tuer megueRio .e HaoeeeLt,,Td,, auaF themA: themamaha aa mame tath tapet, ,aof thoet,asivI aor ma qI maofe, aoaF theJo-aR aa maofeet,asifCedtasent, ,eGo thae.inTig aat  tabeI mefuitueit,  tabe!gatugic ao m tavevouene cary megyo cei.iri ,o myooe, suirieds shemaV Lo myeeda aant, mary ooofthUH;e aoooe,avee lBout, sheme\n",
            "Step 4900, train loss:3053.8999, test loss:3024.3755\n"
          ]
        },
        {
          "output_type": "stream",
          "name": "stderr",
          "text": [
            " 49%|████▉     | 4910/10000 [56:39<47:26,  1.79it/s]"
          ]
        },
        {
          "output_type": "stream",
          "name": "stdout",
          "text": [
            "Step 4910, train loss:2846.5564, test loss:2955.5083\n"
          ]
        },
        {
          "output_type": "stream",
          "name": "stderr",
          "text": [
            " 49%|████▉     | 4920/10000 [56:44<28:51,  2.93it/s]"
          ]
        },
        {
          "output_type": "stream",
          "name": "stdout",
          "text": [
            "Step 4920, train loss:2569.8767, test loss:2716.0684\n"
          ]
        },
        {
          "output_type": "stream",
          "name": "stderr",
          "text": [
            " 49%|████▉     | 4930/10000 [56:48<27:56,  3.02it/s]"
          ]
        },
        {
          "output_type": "stream",
          "name": "stdout",
          "text": [
            "Step 4930, train loss:1741.5846, test loss:1790.3398\n"
          ]
        },
        {
          "output_type": "stream",
          "name": "stderr",
          "text": [
            " 49%|████▉     | 4940/10000 [56:53<28:01,  3.01it/s]"
          ]
        },
        {
          "output_type": "stream",
          "name": "stdout",
          "text": [
            "Step 4940, train loss:1857.8103, test loss:1869.7350\n"
          ]
        },
        {
          "output_type": "stream",
          "name": "stderr",
          "text": [
            " 50%|████▉     | 4950/10000 [56:58<28:21,  2.97it/s]"
          ]
        },
        {
          "output_type": "stream",
          "name": "stdout",
          "text": [
            "Step 4950, train loss:2005.3838, test loss:2153.3108\n"
          ]
        },
        {
          "output_type": "stream",
          "name": "stderr",
          "text": [
            " 50%|████▉     | 4960/10000 [57:03<27:43,  3.03it/s]"
          ]
        },
        {
          "output_type": "stream",
          "name": "stdout",
          "text": [
            "Step 4960, train loss:1607.0989, test loss:1747.1012\n"
          ]
        },
        {
          "output_type": "stream",
          "name": "stderr",
          "text": [
            " 50%|████▉     | 4970/10000 [57:08<27:44,  3.02it/s]"
          ]
        },
        {
          "output_type": "stream",
          "name": "stdout",
          "text": [
            "Step 4970, train loss:1766.4596, test loss:1808.6433\n"
          ]
        },
        {
          "output_type": "stream",
          "name": "stderr",
          "text": [
            " 50%|████▉     | 4980/10000 [57:13<28:14,  2.96it/s]"
          ]
        },
        {
          "output_type": "stream",
          "name": "stdout",
          "text": [
            "Step 4980, train loss:2368.8452, test loss:2300.7668\n"
          ]
        },
        {
          "output_type": "stream",
          "name": "stderr",
          "text": [
            " 50%|████▉     | 4990/10000 [57:18<27:39,  3.02it/s]"
          ]
        },
        {
          "output_type": "stream",
          "name": "stdout",
          "text": [
            "Step 4990, train loss:1387.1141, test loss:1422.0691\n"
          ]
        },
        {
          "output_type": "stream",
          "name": "stderr",
          "text": [
            " 50%|█████     | 5000/10000 [57:23<27:29,  3.03it/s]"
          ]
        },
        {
          "output_type": "stream",
          "name": "stdout",
          "text": [
            "Step 5000, train loss:1742.0183, test loss:1787.8441\n",
            "\n",
            "\n",
            "eeh,hes,e bhi,sh ose iet ke, thanaUFl,Anal, courml, sdr.lMsess;RCjoWIgAsut co huo:hy:ev:hmprER:\n",
            "Uhi-the ce OufEInds hin: pk\n",
            "\n",
            "\n",
            "\n",
            "A; leHARy cevie.y batered Ouncerch meE-Ius sunceiterScerAs coranAtyymb\n",
            "\n",
            "\n",
            "SE!ag, aUrd the mos vopity Aukd:\n",
            "Whgllllll o thterMKo o oefev\n",
            "RutudBinUo .iet thevirXg enm,\n",
            "F, FRYnthereve\n",
            "FNvedqNNNSothemeNe\n",
            "pXFNe\n",
            "Ted! filt thee ,acofteagnSeao rleded beat IclNaod mhoeesh themAa theer-auceadh.g themAivI aaRtremIaS foweathg e swooes heneC.ilOpharm, powe myeedadhee me$ecopeapficPkkeRingprpO shemA: themr-khemapacC aoaFf&nth eia:ofaRXstrth FkPNfoppuck,GLORposhe moowowoweAoIIe,gflode ,!owoo Fy LyeeFFkdyencmevInIenULncEendunnNInRked\n",
            "\n",
            "C\n",
            "FNceBlOkedfedQeNkUFRNked,evedat heK? il-Ft Il maeeeCrasae,e,AnifeCe,vedvaWeedieked,ev\n",
            "e,eNHe.enaofYemIn IhowiOhet suiresenrorcrclem ntritiht yeder\n",
            "thel ment ys m f Ygs fous fenmof po me Hiet thee aad eacen meat tr e.Pat nAaole,efagogo?e hiseZeifag faeoothasee th?ery ourthunungigre\n",
            "Rivev?eNeveveNSXfev?FNFNNgeNSNeveveF\n",
            "FeFNthe\n",
            " guhefunde':ovede co\n",
            "Step 5000, train loss:1761.0599, test loss:1848.8899\n"
          ]
        },
        {
          "output_type": "stream",
          "name": "stderr",
          "text": [
            " 50%|█████     | 5010/10000 [57:47<46:48,  1.78it/s]"
          ]
        },
        {
          "output_type": "stream",
          "name": "stdout",
          "text": [
            "Step 5010, train loss:1926.7507, test loss:2006.8168\n"
          ]
        },
        {
          "output_type": "stream",
          "name": "stderr",
          "text": [
            " 50%|█████     | 5020/10000 [57:52<28:00,  2.96it/s]"
          ]
        },
        {
          "output_type": "stream",
          "name": "stdout",
          "text": [
            "Step 5020, train loss:1910.6553, test loss:1735.2767\n"
          ]
        },
        {
          "output_type": "stream",
          "name": "stderr",
          "text": [
            " 50%|█████     | 5030/10000 [57:57<27:18,  3.03it/s]"
          ]
        },
        {
          "output_type": "stream",
          "name": "stdout",
          "text": [
            "Step 5030, train loss:2430.1709, test loss:2687.3276\n"
          ]
        },
        {
          "output_type": "stream",
          "name": "stderr",
          "text": [
            " 50%|█████     | 5040/10000 [58:02<27:51,  2.97it/s]"
          ]
        },
        {
          "output_type": "stream",
          "name": "stdout",
          "text": [
            "Step 5040, train loss:2099.7749, test loss:2011.7168\n"
          ]
        },
        {
          "output_type": "stream",
          "name": "stderr",
          "text": [
            " 50%|█████     | 5050/10000 [58:07<27:17,  3.02it/s]"
          ]
        },
        {
          "output_type": "stream",
          "name": "stdout",
          "text": [
            "Step 5050, train loss:2048.6614, test loss:2009.1541\n"
          ]
        },
        {
          "output_type": "stream",
          "name": "stderr",
          "text": [
            " 51%|█████     | 5060/10000 [58:12<27:16,  3.02it/s]"
          ]
        },
        {
          "output_type": "stream",
          "name": "stdout",
          "text": [
            "Step 5060, train loss:1463.1160, test loss:1617.8900\n"
          ]
        },
        {
          "output_type": "stream",
          "name": "stderr",
          "text": [
            " 51%|█████     | 5070/10000 [58:17<27:50,  2.95it/s]"
          ]
        },
        {
          "output_type": "stream",
          "name": "stdout",
          "text": [
            "Step 5070, train loss:1405.4495, test loss:1478.4375\n"
          ]
        },
        {
          "output_type": "stream",
          "name": "stderr",
          "text": [
            " 51%|█████     | 5080/10000 [58:22<27:23,  2.99it/s]"
          ]
        },
        {
          "output_type": "stream",
          "name": "stdout",
          "text": [
            "Step 5080, train loss:1366.0110, test loss:1466.9192\n"
          ]
        },
        {
          "output_type": "stream",
          "name": "stderr",
          "text": [
            " 51%|█████     | 5090/10000 [58:27<27:02,  3.03it/s]"
          ]
        },
        {
          "output_type": "stream",
          "name": "stdout",
          "text": [
            "Step 5090, train loss:1308.9340, test loss:1355.2844\n"
          ]
        },
        {
          "output_type": "stream",
          "name": "stderr",
          "text": [
            " 51%|█████     | 5100/10000 [58:31<27:13,  3.00it/s]"
          ]
        },
        {
          "output_type": "stream",
          "name": "stdout",
          "text": [
            "Step 5100, train loss:1285.6466, test loss:1373.7418\n",
            "\n",
            "\n",
            "e, ,iihhhhhe thmowThwIIwF:\n",
            "\n",
            "ns art;tfyem theirivend althisooent!gbol nosg.\n",
            "I theah?ucuuuuuuuuuuuunds huuP:op:ryo: the so akrers b\n",
            "LMpnEtanv, faEouFuderingOUs cans Or:d dwaSuud:\n",
            "d:\n",
            "d, dinkhiseZLllll dalthisisiod, thi;ofuppId doubedB:\n",
            "Whagoma-L MithorAlR\n",
            "WoeNg-WNges foofthiseeCYgIefnsenInInthosse thyeo'u deterC? \n",
            "\n",
            "\n",
            "qNNN qNNoentherlpvofo,nt\n",
            "d,\n",
            "FRYF fa XAt sch?\n",
            "IededMntaofedMndvedved shee ,ace thes y JAas theemPkegHakenfaceaaoenavenAncenenKhesst\n",
            "\n",
            "\n",
            "\n",
            "FNNefPgSNeddfSNfofofofofemedvofeNao,evofevem, vheNa;cot\n",
            "AllFkFSNesca'LfdFf Iegedl soeseeF sweena thee.Xcser-aat! fash taof faof ,AeN\n",
            "\n",
            "OONN.opFNofofofDofeNpFNNfSXfevofothemofevemeFsFNFNFmesFNsoevFFmv alZft\n",
            "lfuhl? qege  shesh'kskoisevrlprikmolls n CAeNradcE:eme aowe myeemwenty sp,em aoia th e o efo seeGelC aoofeegl nSAeegeR\n",
            "\n",
            "AeN?Y soof grfeC\n",
            "nf Haofetakefofofevegevegevegevedvivevevevevevevevevevevevevoevevevev foofewinIA:enrevedinnnt seweed aoiaE to e thema:acheaolgkesu\n",
            "RIeNHeNYt\n",
            "Wk,NfDoNYgonoFNoweFgevoFeNooeveveveNeNmoeFeve HeOun ntaklllllr them \n",
            "Step 5100, train loss:1230.5427, test loss:1265.4073\n"
          ]
        },
        {
          "output_type": "stream",
          "name": "stderr",
          "text": [
            " 51%|█████     | 5110/10000 [58:55<45:40,  1.78it/s]"
          ]
        },
        {
          "output_type": "stream",
          "name": "stdout",
          "text": [
            "Step 5110, train loss:1240.0364, test loss:1283.4431\n"
          ]
        },
        {
          "output_type": "stream",
          "name": "stderr",
          "text": [
            " 51%|█████     | 5120/10000 [59:00<27:23,  2.97it/s]"
          ]
        },
        {
          "output_type": "stream",
          "name": "stdout",
          "text": [
            "Step 5120, train loss:1345.1156, test loss:1365.6991\n"
          ]
        },
        {
          "output_type": "stream",
          "name": "stderr",
          "text": [
            " 51%|█████▏    | 5130/10000 [59:05<27:08,  2.99it/s]"
          ]
        },
        {
          "output_type": "stream",
          "name": "stdout",
          "text": [
            "Step 5130, train loss:1216.8746, test loss:1203.1179\n"
          ]
        },
        {
          "output_type": "stream",
          "name": "stderr",
          "text": [
            " 51%|█████▏    | 5140/10000 [59:10<27:00,  3.00it/s]"
          ]
        },
        {
          "output_type": "stream",
          "name": "stdout",
          "text": [
            "Step 5140, train loss:2271.0120, test loss:2322.5149\n"
          ]
        },
        {
          "output_type": "stream",
          "name": "stderr",
          "text": [
            " 52%|█████▏    | 5150/10000 [59:15<26:39,  3.03it/s]"
          ]
        },
        {
          "output_type": "stream",
          "name": "stdout",
          "text": [
            "Step 5150, train loss:1471.9459, test loss:1439.6882\n"
          ]
        },
        {
          "output_type": "stream",
          "name": "stderr",
          "text": [
            " 52%|█████▏    | 5160/10000 [59:20<26:51,  3.00it/s]"
          ]
        },
        {
          "output_type": "stream",
          "name": "stdout",
          "text": [
            "Step 5160, train loss:1655.0092, test loss:1655.8486\n"
          ]
        },
        {
          "output_type": "stream",
          "name": "stderr",
          "text": [
            " 52%|█████▏    | 5170/10000 [59:25<27:05,  2.97it/s]"
          ]
        },
        {
          "output_type": "stream",
          "name": "stdout",
          "text": [
            "Step 5170, train loss:1257.0883, test loss:1228.2183\n"
          ]
        },
        {
          "output_type": "stream",
          "name": "stderr",
          "text": [
            " 52%|█████▏    | 5180/10000 [59:30<26:26,  3.04it/s]"
          ]
        },
        {
          "output_type": "stream",
          "name": "stdout",
          "text": [
            "Step 5180, train loss:1278.8092, test loss:1281.8619\n"
          ]
        },
        {
          "output_type": "stream",
          "name": "stderr",
          "text": [
            " 52%|█████▏    | 5190/10000 [59:35<26:31,  3.02it/s]"
          ]
        },
        {
          "output_type": "stream",
          "name": "stdout",
          "text": [
            "Step 5190, train loss:1314.8417, test loss:1291.6029\n"
          ]
        },
        {
          "output_type": "stream",
          "name": "stderr",
          "text": [
            " 52%|█████▏    | 5200/10000 [59:40<27:03,  2.96it/s]"
          ]
        },
        {
          "output_type": "stream",
          "name": "stdout",
          "text": [
            "Step 5200, train loss:1377.0394, test loss:1327.1228\n",
            "\n",
            "\n",
            "et iekis' ud'keSLFrfeeeeget tid obl.s y s we waist oak.\n",
            "As udhx mashelied livelict b, inTe st bkk\n",
            "\n",
            "\n",
            "C\n",
            "ct uuuryowh\n",
            "S.\n",
            "RImI Hith H Hagt th bur wit dis.ifach-t cacanol .\n",
            "\n",
            "\n",
            "\n",
            "\n",
            "ngize,hxImit timts ert m?\n",
            "vinr pe Eonnd pomrear,\n",
            "Ald b, fhangk giukt? \n",
            "k, pof palt toese;Fegoat  fout tiet tioft tooee ,oat thee ,is tias soc tue  me thos maon aa,ol ligJl seefedt; siiriririr\n",
            "a ecet'i, cavet fNee tims au?, tioe lioic fotodoece sawode tiis go m theml-At.isaan tigFg\n",
            "be His qeF orthffsufeFse cas dofe ,as tias shet thevirX, tiof tiof faced tiof maled tiof maoefaheFhert; m, X tiofesunt iOilpil fiowens shus shes ibat themA: vivevNIft y, Xaibit?araowfoihiofvedits,ast asirigrEet dveN ,ath ! .lAe, tiof maoefaat  ,oul tios lag art fg\n",
            "v,defP.ofe ,hoowet f tor? tios iveve;aedeecoSe  molee tios mag,, cooo?e,An ti s tare at Mes it aseSe vivevNen sheme tias if Xat s;ol fotodosesunt il Xa His eRifK sowe Fiooe: sooe vivevNIft yenMenent som, tiof tiof maRue, tiof malighecso to meCoe\n",
            "a to Haolen aaat tiffas ift tiffee a\n",
            "Step 5200, train loss:1343.8838, test loss:1332.5889\n"
          ]
        },
        {
          "output_type": "stream",
          "name": "stderr",
          "text": [
            " 52%|█████▏    | 5210/10000 [1:00:04<44:29,  1.79it/s]"
          ]
        },
        {
          "output_type": "stream",
          "name": "stdout",
          "text": [
            "Step 5210, train loss:1476.7162, test loss:1467.7081\n"
          ]
        },
        {
          "output_type": "stream",
          "name": "stderr",
          "text": [
            " 52%|█████▏    | 5220/10000 [1:00:09<26:53,  2.96it/s]"
          ]
        },
        {
          "output_type": "stream",
          "name": "stdout",
          "text": [
            "Step 5220, train loss:1399.7944, test loss:1444.8630\n"
          ]
        },
        {
          "output_type": "stream",
          "name": "stderr",
          "text": [
            " 52%|█████▏    | 5230/10000 [1:00:14<26:49,  2.96it/s]"
          ]
        },
        {
          "output_type": "stream",
          "name": "stdout",
          "text": [
            "Step 5230, train loss:1411.6777, test loss:1398.8076\n"
          ]
        },
        {
          "output_type": "stream",
          "name": "stderr",
          "text": [
            " 52%|█████▏    | 5240/10000 [1:00:18<26:08,  3.03it/s]"
          ]
        },
        {
          "output_type": "stream",
          "name": "stdout",
          "text": [
            "Step 5240, train loss:1193.4476, test loss:1164.8757\n"
          ]
        },
        {
          "output_type": "stream",
          "name": "stderr",
          "text": [
            " 52%|█████▎    | 5250/10000 [1:00:23<26:02,  3.04it/s]"
          ]
        },
        {
          "output_type": "stream",
          "name": "stdout",
          "text": [
            "Step 5250, train loss:936.9313, test loss:976.3197\n"
          ]
        },
        {
          "output_type": "stream",
          "name": "stderr",
          "text": [
            " 53%|█████▎    | 5260/10000 [1:00:28<26:22,  2.99it/s]"
          ]
        },
        {
          "output_type": "stream",
          "name": "stdout",
          "text": [
            "Step 5260, train loss:1493.7794, test loss:1508.1909\n"
          ]
        },
        {
          "output_type": "stream",
          "name": "stderr",
          "text": [
            " 53%|█████▎    | 5270/10000 [1:00:33<26:04,  3.02it/s]"
          ]
        },
        {
          "output_type": "stream",
          "name": "stdout",
          "text": [
            "Step 5270, train loss:1347.7762, test loss:1316.4182\n"
          ]
        },
        {
          "output_type": "stream",
          "name": "stderr",
          "text": [
            " 53%|█████▎    | 5280/10000 [1:00:38<25:58,  3.03it/s]"
          ]
        },
        {
          "output_type": "stream",
          "name": "stdout",
          "text": [
            "Step 5280, train loss:1486.5460, test loss:1530.0820\n"
          ]
        },
        {
          "output_type": "stream",
          "name": "stderr",
          "text": [
            " 53%|█████▎    | 5290/10000 [1:00:43<26:38,  2.95it/s]"
          ]
        },
        {
          "output_type": "stream",
          "name": "stdout",
          "text": [
            "Step 5290, train loss:1566.9600, test loss:1762.6110\n"
          ]
        },
        {
          "output_type": "stream",
          "name": "stderr",
          "text": [
            " 53%|█████▎    | 5300/10000 [1:00:48<26:06,  3.00it/s]"
          ]
        },
        {
          "output_type": "stream",
          "name": "stdout",
          "text": [
            "Step 5300, train loss:1332.5078, test loss:1435.2887\n",
            "\n",
            "\n",
            "elhh ee\n",
            " ,eee,,et \n",
            "youtoulyigtotyttte to spa anthe to thi to theal the sao to hat A the e eto hee toeeeert\n",
            "e trthe e th-e latheiolat\n",
            "Auet toto the toyAo  tolth theyehnt there,,\n",
            "nh the to that re , thtte  heet il the aat Il tolf at:y tonthil to thait oret\n",
            "\n",
            "etNie, toaet\n",
            "Teeecia\n",
            "ne ,oa the\n",
            "tole , eeeityeeeege,Peee thema? an maia&nighionoe hiet lltterl to m thee , e thtu le to m thee aat  aleee,t\n",
            "\n",
            "aaFN tooo? Mo maofothIaam, toaofto thes ia, to m thee aoee .ieliece  metteropto themet\n",
            "Weeoaant f toethDt\n",
            "Plaen toaofotoeea\n",
            "TilF mathe erWe ,egyo e an XAof ,h Fy,eeeek toooole,ath le to m aa oan to them aan oa mat,e to m a thee ,iehin to m tale aat  tolth to meCe ,oi aoe toath to meCe ,oi ao meIity alire to m thee ,iet llet toath to meCe ,oir\n",
            "\n",
            "LLoFt!eNt\n",
            "of Ge,if o ofeeh'n to m thee aes \n",
            "Aath ,haFye, toaofe, toaof, e, ce to m aa e .\n",
            "e e,t to He to e aat  youet toaet\n",
            "Weeo, tooe ,attermeee toood;a.ighilD, ,ese to o tall hiaF lavaRin to m tale anth that theet aoth to meCe  ma He e .ioceeen toattexeek\n",
            "Step 5300, train loss:1313.2477, test loss:1396.3058\n"
          ]
        },
        {
          "output_type": "stream",
          "name": "stderr",
          "text": [
            " 53%|█████▎    | 5310/10000 [1:01:12<43:18,  1.80it/s]"
          ]
        },
        {
          "output_type": "stream",
          "name": "stdout",
          "text": [
            "Step 5310, train loss:1350.8508, test loss:1421.7504\n"
          ]
        },
        {
          "output_type": "stream",
          "name": "stderr",
          "text": [
            " 53%|█████▎    | 5320/10000 [1:01:17<26:35,  2.93it/s]"
          ]
        },
        {
          "output_type": "stream",
          "name": "stdout",
          "text": [
            "Step 5320, train loss:1356.6754, test loss:1519.6594\n"
          ]
        },
        {
          "output_type": "stream",
          "name": "stderr",
          "text": [
            " 53%|█████▎    | 5330/10000 [1:01:22<25:35,  3.04it/s]"
          ]
        },
        {
          "output_type": "stream",
          "name": "stdout",
          "text": [
            "Step 5330, train loss:1430.1204, test loss:1412.3871\n"
          ]
        },
        {
          "output_type": "stream",
          "name": "stderr",
          "text": [
            " 53%|█████▎    | 5340/10000 [1:01:26<25:36,  3.03it/s]"
          ]
        },
        {
          "output_type": "stream",
          "name": "stdout",
          "text": [
            "Step 5340, train loss:1492.9698, test loss:1605.6881\n"
          ]
        },
        {
          "output_type": "stream",
          "name": "stderr",
          "text": [
            " 54%|█████▎    | 5350/10000 [1:01:31<26:08,  2.97it/s]"
          ]
        },
        {
          "output_type": "stream",
          "name": "stdout",
          "text": [
            "Step 5350, train loss:1438.9797, test loss:1406.2800\n"
          ]
        },
        {
          "output_type": "stream",
          "name": "stderr",
          "text": [
            " 54%|█████▎    | 5360/10000 [1:01:36<25:40,  3.01it/s]"
          ]
        },
        {
          "output_type": "stream",
          "name": "stdout",
          "text": [
            "Step 5360, train loss:1106.4688, test loss:1149.7360\n"
          ]
        },
        {
          "output_type": "stream",
          "name": "stderr",
          "text": [
            " 54%|█████▎    | 5370/10000 [1:01:41<25:27,  3.03it/s]"
          ]
        },
        {
          "output_type": "stream",
          "name": "stdout",
          "text": [
            "Step 5370, train loss:994.1940, test loss:1049.4062\n"
          ]
        },
        {
          "output_type": "stream",
          "name": "stderr",
          "text": [
            " 54%|█████▍    | 5380/10000 [1:01:46<25:45,  2.99it/s]"
          ]
        },
        {
          "output_type": "stream",
          "name": "stdout",
          "text": [
            "Step 5380, train loss:1096.8142, test loss:1143.0736\n"
          ]
        },
        {
          "output_type": "stream",
          "name": "stderr",
          "text": [
            " 54%|█████▍    | 5390/10000 [1:01:51<25:52,  2.97it/s]"
          ]
        },
        {
          "output_type": "stream",
          "name": "stdout",
          "text": [
            "Step 5390, train loss:959.3350, test loss:1030.7725\n"
          ]
        },
        {
          "output_type": "stream",
          "name": "stderr",
          "text": [
            " 54%|█████▍    | 5400/10000 [1:01:56<25:24,  3.02it/s]"
          ]
        },
        {
          "output_type": "stream",
          "name": "stdout",
          "text": [
            "Step 5400, train loss:850.8229, test loss:920.1217\n",
            "\n",
            "\n",
            "eehh he  lehiehiehie hishhaeg l the mogost th hatesvit enwent,\n",
            "Ae\n",
            "GI byh\n",
            "Yent th myois foatnofCt\n",
            "\n",
            "\n",
            "h tig the wigd to hangcaS wagag bennk ben's bend bend\n",
            "S\n",
            "O. gEEEd ELn' dand'z fonn crrd of yonnt old bur want oy is:\n",
            "e, u,lle unEonDRic:\n",
            "vi.Uouw, OAb, winv mofofoloee oooe ,hoo grf rat u sit  LeabinSoiaAnt, lefy coowensoaSifoe Aoa coueal, eed toem la.e Iif-en Iiontrt ic saono lave toys weeet ko Fy.ef mant  the$a: Ha He He$or I triM fic mo m them aad  aou: too? ma Haofod io Fthrelifl uo meCe UiaGIfic fif: agirpil fioem ledinh so seeK thash aRu,aaa, eefZit theet yeeth ?ehe I!irR\n",
            "\n",
            "YeNo mowe aoooee ito.efseefefTeseeLeftois folefh ntaI sad thenAPUcl, tras satt agir' io Fthre tois moee .ief themaPkhaUunce lory trie\n",
            "ageNech tr mecieIt alel, anth moas fapasPg mooe tril mo mtolel, alol feOotrnhe Mieome,e'st:all ifas inas shee aath tryfcl toas iatofart flet  yea'imich aseit de magitremereegbache cith tr me$e trisuch tr meHe thiu??a:apapa!, aa maofeetharsucpCentr ,haF themAPk trtuicebYTia-Insse thild\n",
            "Step 5400, train loss:916.4926, test loss:922.7690\n"
          ]
        },
        {
          "output_type": "stream",
          "name": "stderr",
          "text": [
            " 54%|█████▍    | 5410/10000 [1:02:20<42:58,  1.78it/s]"
          ]
        },
        {
          "output_type": "stream",
          "name": "stdout",
          "text": [
            "Step 5410, train loss:1229.4138, test loss:1221.9076\n"
          ]
        },
        {
          "output_type": "stream",
          "name": "stderr",
          "text": [
            " 54%|█████▍    | 5420/10000 [1:02:25<25:58,  2.94it/s]"
          ]
        },
        {
          "output_type": "stream",
          "name": "stdout",
          "text": [
            "Step 5420, train loss:1543.9167, test loss:1609.5746\n"
          ]
        },
        {
          "output_type": "stream",
          "name": "stderr",
          "text": [
            " 54%|█████▍    | 5430/10000 [1:02:30<25:09,  3.03it/s]"
          ]
        },
        {
          "output_type": "stream",
          "name": "stdout",
          "text": [
            "Step 5430, train loss:1477.2173, test loss:2750.2227\n"
          ]
        },
        {
          "output_type": "stream",
          "name": "stderr",
          "text": [
            " 54%|█████▍    | 5440/10000 [1:02:35<25:18,  3.00it/s]"
          ]
        },
        {
          "output_type": "stream",
          "name": "stdout",
          "text": [
            "Step 5440, train loss:1153.5701, test loss:1162.9164\n"
          ]
        },
        {
          "output_type": "stream",
          "name": "stderr",
          "text": [
            " 55%|█████▍    | 5450/10000 [1:02:40<25:32,  2.97it/s]"
          ]
        },
        {
          "output_type": "stream",
          "name": "stdout",
          "text": [
            "Step 5450, train loss:1385.1681, test loss:1545.3824\n"
          ]
        },
        {
          "output_type": "stream",
          "name": "stderr",
          "text": [
            " 55%|█████▍    | 5460/10000 [1:02:45<25:04,  3.02it/s]"
          ]
        },
        {
          "output_type": "stream",
          "name": "stdout",
          "text": [
            "Step 5460, train loss:1125.7142, test loss:1122.4542\n"
          ]
        },
        {
          "output_type": "stream",
          "name": "stderr",
          "text": [
            " 55%|█████▍    | 5470/10000 [1:02:50<24:53,  3.03it/s]"
          ]
        },
        {
          "output_type": "stream",
          "name": "stdout",
          "text": [
            "Step 5470, train loss:1881.5912, test loss:2025.0771\n"
          ]
        },
        {
          "output_type": "stream",
          "name": "stderr",
          "text": [
            " 55%|█████▍    | 5480/10000 [1:02:55<25:33,  2.95it/s]"
          ]
        },
        {
          "output_type": "stream",
          "name": "stdout",
          "text": [
            "Step 5480, train loss:1446.8896, test loss:1493.4545\n"
          ]
        },
        {
          "output_type": "stream",
          "name": "stderr",
          "text": [
            " 55%|█████▍    | 5490/10000 [1:03:00<24:53,  3.02it/s]"
          ]
        },
        {
          "output_type": "stream",
          "name": "stdout",
          "text": [
            "Step 5490, train loss:1012.7744, test loss:1000.1134\n"
          ]
        },
        {
          "output_type": "stream",
          "name": "stderr",
          "text": [
            " 55%|█████▌    | 5500/10000 [1:03:05<25:00,  3.00it/s]"
          ]
        },
        {
          "output_type": "stream",
          "name": "stdout",
          "text": [
            "Step 5500, train loss:1208.1981, test loss:1236.8196\n",
            "\n",
            "\n",
            "eehh he  lehiehiehie hishhaeg lorish h   heer  rrth!il  gaadsonceeeeere,eeegoathith nC ne sus-h nek ny goly lysthe bor rar reed sad th ho thy\n",
            "Reve&:\n",
            "O:\n",
            "AAAsss,oupIfoupofak ma;eBenFot. nou inthavere sponunt.rWesthal it.rWest.ithorcrcess iNd inEA mprer\n",
            "DpaFf, sorn themAPk theme;-enmPO&dsen;oucren:\n",
            "Ok HeNeNI theme;PNc, Iig:\n",
            "SURNRNUFNSof megy theme;P themAPksucPk, Aorthas ist n$ceminV themAPk theme;PNcoucenmpeakister?cP: theml-HennAn megyoucoesennceeRioHAe thas maofAanAeededyu .iocoopwedenmocenIcencemo ngir.Aeny crOf themAPke\n",
            "hode ma:etheuNFNFNseFthhn F.wNincoeia,, fioftheg saOweecoimeEoewig\n",
            "Se,edMnaoN erXesNed,edoof eeg n n , ir\n",
            "Fthrve fhrthuaplr:is:i,iy Iistedv-Euain aAowe:elAlOOflAllOfe shemA: in:evouuuliO:, avaFGlO:, MiaGliOCthegerGaKapima-l-i,Jswerthos Ze He$edInca ewoesthi ce\n",
            "Mocek thlshekherWauolepiekemche\n",
            "WIOFfobFeN.edoffSXofeNyFofeNe He$eoouleofoeithemetheLeF\n",
            "He HeGeFrewAeicfco theme;pede;Xik-kencee\n",
            "poceRpeGfikeReRsoedxemleme, meTeFae:eekek shesifV aoivethule, lowef-ife ,e$eith th\n",
            "Step 5500, train loss:1186.1185, test loss:1257.1991\n"
          ]
        },
        {
          "output_type": "stream",
          "name": "stderr",
          "text": [
            " 55%|█████▌    | 5510/10000 [1:03:28<42:12,  1.77it/s]"
          ]
        },
        {
          "output_type": "stream",
          "name": "stdout",
          "text": [
            "Step 5510, train loss:1083.9459, test loss:1033.7646\n"
          ]
        },
        {
          "output_type": "stream",
          "name": "stderr",
          "text": [
            " 55%|█████▌    | 5520/10000 [1:03:33<25:05,  2.98it/s]"
          ]
        },
        {
          "output_type": "stream",
          "name": "stdout",
          "text": [
            "Step 5520, train loss:1049.0634, test loss:1295.0258\n"
          ]
        },
        {
          "output_type": "stream",
          "name": "stderr",
          "text": [
            " 55%|█████▌    | 5530/10000 [1:03:38<24:30,  3.04it/s]"
          ]
        },
        {
          "output_type": "stream",
          "name": "stdout",
          "text": [
            "Step 5530, train loss:1183.4497, test loss:1472.9192\n"
          ]
        },
        {
          "output_type": "stream",
          "name": "stderr",
          "text": [
            " 55%|█████▌    | 5540/10000 [1:03:43<25:03,  2.97it/s]"
          ]
        },
        {
          "output_type": "stream",
          "name": "stdout",
          "text": [
            "Step 5540, train loss:1403.6865, test loss:1473.4056\n"
          ]
        },
        {
          "output_type": "stream",
          "name": "stderr",
          "text": [
            " 56%|█████▌    | 5550/10000 [1:03:48<24:28,  3.03it/s]"
          ]
        },
        {
          "output_type": "stream",
          "name": "stdout",
          "text": [
            "Step 5550, train loss:1181.2444, test loss:1210.1866\n"
          ]
        },
        {
          "output_type": "stream",
          "name": "stderr",
          "text": [
            " 56%|█████▌    | 5560/10000 [1:03:53<24:23,  3.03it/s]"
          ]
        },
        {
          "output_type": "stream",
          "name": "stdout",
          "text": [
            "Step 5560, train loss:1410.1541, test loss:1407.5999\n"
          ]
        },
        {
          "output_type": "stream",
          "name": "stderr",
          "text": [
            " 56%|█████▌    | 5570/10000 [1:03:58<25:02,  2.95it/s]"
          ]
        },
        {
          "output_type": "stream",
          "name": "stdout",
          "text": [
            "Step 5570, train loss:1035.4235, test loss:1011.4684\n"
          ]
        },
        {
          "output_type": "stream",
          "name": "stderr",
          "text": [
            " 56%|█████▌    | 5580/10000 [1:04:03<24:26,  3.01it/s]"
          ]
        },
        {
          "output_type": "stream",
          "name": "stdout",
          "text": [
            "Step 5580, train loss:1404.6208, test loss:1312.1262\n"
          ]
        },
        {
          "output_type": "stream",
          "name": "stderr",
          "text": [
            " 56%|█████▌    | 5590/10000 [1:04:08<24:35,  2.99it/s]"
          ]
        },
        {
          "output_type": "stream",
          "name": "stdout",
          "text": [
            "Step 5590, train loss:984.2575, test loss:965.1947\n"
          ]
        },
        {
          "output_type": "stream",
          "name": "stderr",
          "text": [
            " 56%|█████▌    | 5600/10000 [1:04:13<24:42,  2.97it/s]"
          ]
        },
        {
          "output_type": "stream",
          "name": "stdout",
          "text": [
            "Step 5600, train loss:1285.1566, test loss:1214.3906\n",
            "\n",
            "\n",
            "eehh he  lehiehiil bah the Tishltcifichhaks:\n",
            "Ticicoshe nkhoe eel'he Gh\n",
            "Aay tharrrt hosr we\n",
            " fo'himlee ginO the sheeabZshllly ll the ,art!\n",
            "an ponofoulll n nof nothit lB.risn sinR\n",
            "Moth al  thy'h$t sh stagouath ris ol bhareaI lKdith av thyoncstl n\n",
            "\n",
            ".\n",
            "mestherHAl them aa maoav: aoaGcittloleiuVth siP-othrg swirir, them , th Haoos faatus fa mecao thas soc fa,es,gtheg theghzt;it;er-asifFilZenth thas ia: thas soc thas saong\n",
            "Wilefec'sath Ho m anthit thetust;ao aa,o thas itapest!arcl thi thes thee ,ar thas thel.\n",
            "\n",
            "\n",
            "\n",
            "ess liocen\n",
            "TotP facoth ,Au them aa masy, thas thas soc th\n",
            "o l tu Haoatueneituemeetheueeseved locoth ,\n",
            "i \n",
            "ali' themo-ne  ma'ue thil da maoao al,io thas son aoir\n",
            "al Goeooe th\n",
            "oldofope, atab, lefy, themAP them aa manav: al mamyoa aoaF thas soc aan thas them aa oaof aoiryil, anth thas saon aa maoavia eiot! ledy, 'oath thas saon aa,e thas dhesh:\n",
            "C\n",
            ",enMsy oral so-f theml-et; youet:,ll them aaa, aoa! thas soc aaa, loo! , eeeekcl thes y f e e  ,lir\n",
            "\n",
            "LleorOSot!Attllsstthe eo\n",
            "ysiM-, sta lol, the\n",
            "Step 5600, train loss:1239.9750, test loss:1184.2551\n"
          ]
        },
        {
          "output_type": "stream",
          "name": "stderr",
          "text": [
            " 56%|█████▌    | 5610/10000 [1:04:37<40:45,  1.80it/s]"
          ]
        },
        {
          "output_type": "stream",
          "name": "stdout",
          "text": [
            "Step 5610, train loss:1340.3484, test loss:1382.8741\n"
          ]
        },
        {
          "output_type": "stream",
          "name": "stderr",
          "text": [
            " 56%|█████▌    | 5620/10000 [1:04:41<24:29,  2.98it/s]"
          ]
        },
        {
          "output_type": "stream",
          "name": "stdout",
          "text": [
            "Step 5620, train loss:1273.0266, test loss:1277.0225\n"
          ]
        },
        {
          "output_type": "stream",
          "name": "stderr",
          "text": [
            " 56%|█████▋    | 5630/10000 [1:04:46<24:46,  2.94it/s]"
          ]
        },
        {
          "output_type": "stream",
          "name": "stdout",
          "text": [
            "Step 5630, train loss:902.5975, test loss:939.0632\n"
          ]
        },
        {
          "output_type": "stream",
          "name": "stderr",
          "text": [
            " 56%|█████▋    | 5640/10000 [1:04:51<24:06,  3.01it/s]"
          ]
        },
        {
          "output_type": "stream",
          "name": "stdout",
          "text": [
            "Step 5640, train loss:872.6585, test loss:918.9305\n"
          ]
        },
        {
          "output_type": "stream",
          "name": "stderr",
          "text": [
            " 56%|█████▋    | 5650/10000 [1:04:56<23:55,  3.03it/s]"
          ]
        },
        {
          "output_type": "stream",
          "name": "stdout",
          "text": [
            "Step 5650, train loss:833.3439, test loss:839.3835\n"
          ]
        },
        {
          "output_type": "stream",
          "name": "stderr",
          "text": [
            " 57%|█████▋    | 5660/10000 [1:05:01<24:15,  2.98it/s]"
          ]
        },
        {
          "output_type": "stream",
          "name": "stdout",
          "text": [
            "Step 5660, train loss:1038.3660, test loss:1179.0369\n"
          ]
        },
        {
          "output_type": "stream",
          "name": "stderr",
          "text": [
            " 57%|█████▋    | 5670/10000 [1:05:06<24:30,  2.94it/s]"
          ]
        },
        {
          "output_type": "stream",
          "name": "stdout",
          "text": [
            "Step 5670, train loss:1044.8759, test loss:1281.4879\n"
          ]
        },
        {
          "output_type": "stream",
          "name": "stderr",
          "text": [
            " 57%|█████▋    | 5680/10000 [1:05:11<23:48,  3.02it/s]"
          ]
        },
        {
          "output_type": "stream",
          "name": "stdout",
          "text": [
            "Step 5680, train loss:894.8412, test loss:950.0193\n"
          ]
        },
        {
          "output_type": "stream",
          "name": "stderr",
          "text": [
            " 57%|█████▋    | 5690/10000 [1:05:16<23:50,  3.01it/s]"
          ]
        },
        {
          "output_type": "stream",
          "name": "stdout",
          "text": [
            "Step 5690, train loss:882.3350, test loss:855.7160\n"
          ]
        },
        {
          "output_type": "stream",
          "name": "stderr",
          "text": [
            " 57%|█████▋    | 5700/10000 [1:05:21<24:09,  2.97it/s]"
          ]
        },
        {
          "output_type": "stream",
          "name": "stdout",
          "text": [
            "Step 5700, train loss:887.5247, test loss:877.7450\n",
            "\n",
            "\n",
            "el,r,e  lese y,lc, isg hh\n",
            "uh'hkes' ChsCeg le e ?e e ?e n te me;eve, ju,\n",
            "Hevehesiehehehehehehehehy kehIEe, besjnd aesief uult:aaeved ferrArierk OieUARRiegriecerl, lIr.Y' .l junngopljl nerRh'rOryiviviORAr:xlEu':omyikFyFikyyikyyyyyFyyyimyyim.yyy..iummuC..:.C\n",
            "\n",
            "AeN? heso tole aueeraroeroulll soeolC ineerallleveC\n",
            "Lepe.veGou po Lerte laHor erI,.iteb, ite.Tedg?el\n",
            "\n",
            "Weeo$npNNN:oueestertoyete ouhofteswoalse;se.anses femily iucllKuCsef:ersemclllemesefKseNclOclllsorfe shoollllllnsue suos ,ut fcpasoucoesemsovese suiren\n",
            "\n",
            "JAeNHerPter soroftenOonosesorse shooosure suirest;otenGRioav;agv;gdshmg\n",
            "As Go?ofte me$omeRledinge lo FRibIRifI mege  sirshheesun\n",
            "Likoforphe Morllsoucouiniucofnuins;in HirnsinmEteinbinic iuKfte!toe to paol meHoa ,orlteulm looffole asooete aloote wouecrak to th!sol.oeeseiseiseiareispeiceisheic sir: soaselTiu'sinIleispoceisosollanil eis ite.Ted fisternfRr esk  iayes ifeeC'iveswal Iirnlic koeesunceeledaestediek toaeteagifXneicfen\n",
            "en VcAeeCedhoFme aoutearl toisu teagisteerKitelrfe tooe do\n",
            "Step 5700, train loss:864.4229, test loss:872.7695\n"
          ]
        },
        {
          "output_type": "stream",
          "name": "stderr",
          "text": [
            " 57%|█████▋    | 5710/10000 [1:05:45<39:48,  1.80it/s]"
          ]
        },
        {
          "output_type": "stream",
          "name": "stdout",
          "text": [
            "Step 5710, train loss:824.0715, test loss:801.3074\n"
          ]
        },
        {
          "output_type": "stream",
          "name": "stderr",
          "text": [
            " 57%|█████▋    | 5720/10000 [1:05:50<24:07,  2.96it/s]"
          ]
        },
        {
          "output_type": "stream",
          "name": "stdout",
          "text": [
            "Step 5720, train loss:845.4841, test loss:931.2251\n"
          ]
        },
        {
          "output_type": "stream",
          "name": "stderr",
          "text": [
            " 57%|█████▋    | 5730/10000 [1:05:55<24:00,  2.96it/s]"
          ]
        },
        {
          "output_type": "stream",
          "name": "stdout",
          "text": [
            "Step 5730, train loss:844.2106, test loss:851.5154\n"
          ]
        },
        {
          "output_type": "stream",
          "name": "stderr",
          "text": [
            " 57%|█████▋    | 5740/10000 [1:06:00<23:27,  3.03it/s]"
          ]
        },
        {
          "output_type": "stream",
          "name": "stdout",
          "text": [
            "Step 5740, train loss:636.2026, test loss:624.7474\n"
          ]
        },
        {
          "output_type": "stream",
          "name": "stderr",
          "text": [
            " 57%|█████▊    | 5750/10000 [1:06:05<23:20,  3.04it/s]"
          ]
        },
        {
          "output_type": "stream",
          "name": "stdout",
          "text": [
            "Step 5750, train loss:1169.3333, test loss:1251.6858\n"
          ]
        },
        {
          "output_type": "stream",
          "name": "stderr",
          "text": [
            " 58%|█████▊    | 5760/10000 [1:06:10<23:50,  2.96it/s]"
          ]
        },
        {
          "output_type": "stream",
          "name": "stdout",
          "text": [
            "Step 5760, train loss:916.9662, test loss:947.5652\n"
          ]
        },
        {
          "output_type": "stream",
          "name": "stderr",
          "text": [
            " 58%|█████▊    | 5770/10000 [1:06:14<23:15,  3.03it/s]"
          ]
        },
        {
          "output_type": "stream",
          "name": "stdout",
          "text": [
            "Step 5770, train loss:855.9240, test loss:886.7260\n"
          ]
        },
        {
          "output_type": "stream",
          "name": "stderr",
          "text": [
            " 58%|█████▊    | 5780/10000 [1:06:19<23:10,  3.04it/s]"
          ]
        },
        {
          "output_type": "stream",
          "name": "stdout",
          "text": [
            "Step 5780, train loss:810.1817, test loss:908.2037\n"
          ]
        },
        {
          "output_type": "stream",
          "name": "stderr",
          "text": [
            " 58%|█████▊    | 5790/10000 [1:06:24<23:40,  2.96it/s]"
          ]
        },
        {
          "output_type": "stream",
          "name": "stdout",
          "text": [
            "Step 5790, train loss:1051.9791, test loss:1081.7023\n"
          ]
        },
        {
          "output_type": "stream",
          "name": "stderr",
          "text": [
            " 58%|█████▊    | 5800/10000 [1:06:29<23:14,  3.01it/s]"
          ]
        },
        {
          "output_type": "stream",
          "name": "stdout",
          "text": [
            "Step 5800, train loss:975.4734, test loss:1179.5310\n",
            "\n",
            "\n",
            "el,r,e  lesaehXsco hhhih,eggt, th eppisunchanNkemeromyoudsh !\n",
            "W\n",
            "m\n",
            "A: s:\n",
            "D\n",
            "SALE:\n",
            "S.\n",
            "Yau'sie':\n",
            "SNiZCy wiurys,\n",
            "He HeGy pd Heidyanyoy, Elaany, you,anny 'harrriceerinIyolit,inhit,haunaut crdanan?\n",
            "BNi?hat,\n",
            "Ye haAhid ns at,\n",
            "AosTe lelInen lenme lel\n",
            "ARA.Af, we, n,ee Bhee looocolle loooet,eree\n",
            "AnCe sielee reMhoee e ooeeeCel, aeee  thhs Muee e hiee;; fest,e eeOh IAl eNer\n",
            "\n",
            "LENononFofil HeeeThee shemolll,\n",
            "\n",
            "Aleon Hooe moooit, nout,ot, thi doof ol mtheGdinm,, oooft, sh?olNAoe aoue thas peet, thee ,ouet, lef-ent, thes ir-me eeOuch co meIuot, nold foir\n",
            "hiOFfop, Hoooolet, shoo vhaF themAPk au Xa:yot, avoXuCseeTt,ooaaa.f, coof , th He He$or I th HeibP ea: Hemoaacoeenmen oa He coemoa Iiol ,ooofllll anomevRYceat,h th me-o theme;P, coases: vef!oe, these;$c, au,: , ,e oud,st,uast,ofasef$lgn, thes isus is,, ,eg!\n",
            "\n",
            "O FNthit, aberemwed, fooofNElit, nouARimet, ,oups, foibh.,UAouulgO coet, them ,ig:\n",
            "dyoFNNNNNNSNNNSofoofoFNNSoNNNceNmoFNoSoFNNofo HooFd; ,\n",
            "I th HeeK cooocooceed sooodold mooocooce looocouceit,ole wooo\n",
            "Step 5800, train loss:1048.9789, test loss:1111.3335\n"
          ]
        },
        {
          "output_type": "stream",
          "name": "stderr",
          "text": [
            " 58%|█████▊    | 5810/10000 [1:06:53<38:48,  1.80it/s]"
          ]
        },
        {
          "output_type": "stream",
          "name": "stdout",
          "text": [
            "Step 5810, train loss:1125.2806, test loss:1225.4738\n"
          ]
        },
        {
          "output_type": "stream",
          "name": "stderr",
          "text": [
            " 58%|█████▊    | 5820/10000 [1:06:58<23:51,  2.92it/s]"
          ]
        },
        {
          "output_type": "stream",
          "name": "stdout",
          "text": [
            "Step 5820, train loss:928.8973, test loss:945.9446\n"
          ]
        },
        {
          "output_type": "stream",
          "name": "stderr",
          "text": [
            " 58%|█████▊    | 5830/10000 [1:07:03<22:57,  3.03it/s]"
          ]
        },
        {
          "output_type": "stream",
          "name": "stdout",
          "text": [
            "Step 5830, train loss:1044.2238, test loss:1077.4639\n"
          ]
        },
        {
          "output_type": "stream",
          "name": "stderr",
          "text": [
            " 58%|█████▊    | 5840/10000 [1:07:08<22:51,  3.03it/s]"
          ]
        },
        {
          "output_type": "stream",
          "name": "stdout",
          "text": [
            "Step 5840, train loss:1061.4286, test loss:1132.8057\n"
          ]
        },
        {
          "output_type": "stream",
          "name": "stderr",
          "text": [
            " 58%|█████▊    | 5850/10000 [1:07:13<23:13,  2.98it/s]"
          ]
        },
        {
          "output_type": "stream",
          "name": "stdout",
          "text": [
            "Step 5850, train loss:1086.4675, test loss:2203.9116\n"
          ]
        },
        {
          "output_type": "stream",
          "name": "stderr",
          "text": [
            " 59%|█████▊    | 5860/10000 [1:07:18<22:58,  3.00it/s]"
          ]
        },
        {
          "output_type": "stream",
          "name": "stdout",
          "text": [
            "Step 5860, train loss:849.0506, test loss:1015.8068\n"
          ]
        },
        {
          "output_type": "stream",
          "name": "stderr",
          "text": [
            " 59%|█████▊    | 5870/10000 [1:07:23<22:40,  3.04it/s]"
          ]
        },
        {
          "output_type": "stream",
          "name": "stdout",
          "text": [
            "Step 5870, train loss:719.0432, test loss:750.9670\n"
          ]
        },
        {
          "output_type": "stream",
          "name": "stderr",
          "text": [
            " 59%|█████▉    | 5880/10000 [1:07:28<22:52,  3.00it/s]"
          ]
        },
        {
          "output_type": "stream",
          "name": "stdout",
          "text": [
            "Step 5880, train loss:809.2169, test loss:860.9518\n"
          ]
        },
        {
          "output_type": "stream",
          "name": "stderr",
          "text": [
            " 59%|█████▉    | 5890/10000 [1:07:33<23:21,  2.93it/s]"
          ]
        },
        {
          "output_type": "stream",
          "name": "stdout",
          "text": [
            "Step 5890, train loss:651.5723, test loss:720.7178\n"
          ]
        },
        {
          "output_type": "stream",
          "name": "stderr",
          "text": [
            " 59%|█████▉    | 5900/10000 [1:07:38<22:37,  3.02it/s]"
          ]
        },
        {
          "output_type": "stream",
          "name": "stdout",
          "text": [
            "Step 5900, train loss:892.7728, test loss:883.4425\n",
            "\n",
            "\n",
            "el,r,e  lesaehXscecgd aeg lg  hyhehihgJl-hggm-krhyghhOnHHhgHHHH hyy?kkgMwy?he ,$hBhhhaggdeth!deleheeeer,\n",
            "\n",
            "\n",
            "\n",
            "Het sxoptswimaanNit kssrllds:\n",
            "Ytuk lours, st hugps\n",
            "Wap: CENsttoe simbununds st theaouunuk Gougouloupupugougouu haoud\n",
            "E:agE:\n",
            "\n",
            "J:UJwg:.SILuR:.sS::\n",
            "H, Ghat htolllllmolmlmacte shoellO souhoulds, Iincl thes ise\n",
            "thme,Pkofe doo!ll fooolsemdoasee vocollllllllee .ourelocea'sesnoleaclenled sooethit seoLeset\n",
            "\n",
            "elPefPeg tooe meGoolese  meo! seoIlCelerredM shooollet Ie He$edrecorlesweselTeswesesno oulse,rllllOlllllOeve, ,eMr\n",
            "\n",
            "ic.efe YeGollllllllllelleselmoleellle wleea' yout toDeuPiicPkkeicfenlencereeCce Iif-esllcewmoa gr\n",
            ".cEeR$eCes feeecC le HeHerPew.it, couelsoull,\n",
            "loeesy qe qheeredis  grlsuchfO,hig alirrSi ,\n",
            "yo F\n",
            "Xossth\n",
            "se e a s f f eshoimeesh, Ft  lhote nho-Ahahe,here'essucEL\n",
            "Ifeesy HeeeCwoCh,sF thleolieerwytoemoulytses;ist oe oussest it Mveef$\n",
            "\n",
            "\n",
            "\n",
            "eNPhmoeYl suon foeot,\n",
            " themAPk au mef-e corto soue to er$ eo theme;whe poDo! gor forfsl,Ace toel aat  arsse foeooenAn beeoloS moee .ied toofefP:\n",
            "Step 5900, train loss:810.5049, test loss:940.8066\n"
          ]
        },
        {
          "output_type": "stream",
          "name": "stderr",
          "text": [
            " 59%|█████▉    | 5910/10000 [1:08:01<38:09,  1.79it/s]"
          ]
        },
        {
          "output_type": "stream",
          "name": "stdout",
          "text": [
            "Step 5910, train loss:909.0368, test loss:1066.2828\n"
          ]
        },
        {
          "output_type": "stream",
          "name": "stderr",
          "text": [
            " 59%|█████▉    | 5920/10000 [1:08:06<23:04,  2.95it/s]"
          ]
        },
        {
          "output_type": "stream",
          "name": "stdout",
          "text": [
            "Step 5920, train loss:869.4236, test loss:1027.9089\n"
          ]
        },
        {
          "output_type": "stream",
          "name": "stderr",
          "text": [
            " 59%|█████▉    | 5930/10000 [1:08:11<22:16,  3.05it/s]"
          ]
        },
        {
          "output_type": "stream",
          "name": "stdout",
          "text": [
            "Step 5930, train loss:707.6319, test loss:739.0436\n"
          ]
        },
        {
          "output_type": "stream",
          "name": "stderr",
          "text": [
            " 59%|█████▉    | 5940/10000 [1:08:16<22:23,  3.02it/s]"
          ]
        },
        {
          "output_type": "stream",
          "name": "stdout",
          "text": [
            "Step 5940, train loss:784.7668, test loss:859.8604\n"
          ]
        },
        {
          "output_type": "stream",
          "name": "stderr",
          "text": [
            " 60%|█████▉    | 5950/10000 [1:08:21<22:44,  2.97it/s]"
          ]
        },
        {
          "output_type": "stream",
          "name": "stdout",
          "text": [
            "Step 5950, train loss:712.6096, test loss:755.8804\n"
          ]
        },
        {
          "output_type": "stream",
          "name": "stderr",
          "text": [
            " 60%|█████▉    | 5960/10000 [1:08:26<22:19,  3.02it/s]"
          ]
        },
        {
          "output_type": "stream",
          "name": "stdout",
          "text": [
            "Step 5960, train loss:575.9740, test loss:614.8694\n"
          ]
        },
        {
          "output_type": "stream",
          "name": "stderr",
          "text": [
            " 60%|█████▉    | 5970/10000 [1:08:31<22:11,  3.03it/s]"
          ]
        },
        {
          "output_type": "stream",
          "name": "stdout",
          "text": [
            "Step 5970, train loss:991.5126, test loss:1166.0717\n"
          ]
        },
        {
          "output_type": "stream",
          "name": "stderr",
          "text": [
            " 60%|█████▉    | 5980/10000 [1:08:36<22:40,  2.95it/s]"
          ]
        },
        {
          "output_type": "stream",
          "name": "stdout",
          "text": [
            "Step 5980, train loss:979.8201, test loss:998.7120\n"
          ]
        },
        {
          "output_type": "stream",
          "name": "stderr",
          "text": [
            " 60%|█████▉    | 5990/10000 [1:08:41<22:03,  3.03it/s]"
          ]
        },
        {
          "output_type": "stream",
          "name": "stdout",
          "text": [
            "Step 5990, train loss:722.1866, test loss:737.4461\n"
          ]
        },
        {
          "output_type": "stream",
          "name": "stderr",
          "text": [
            " 60%|██████    | 6000/10000 [1:08:46<21:59,  3.03it/s]"
          ]
        },
        {
          "output_type": "stream",
          "name": "stdout",
          "text": [
            "Step 6000, train loss:714.9018, test loss:727.7915\n",
            "\n",
            "\n",
            "el,r,e  lesaehXscecgd aah Lr ,ihhCs?kn giBCggtoytariil on suiree psBokeiniei,i,i,hi,iei,ieisieisyieierieso isishinit krstu thyourtuemmoowith neir.iverchereer'wnennithioessonesi?sess inineit y sithit soniwe\n",
            "'yOELe wawothersssrilwinp pwima\n",
            "\n",
            "Jyo'\n",
            "Aove, it ngcaese soooollo ito.eegceceeRoefee\n",
            "livefN.eN Boooolell ituoolll nootu sh.oollorAl ituome ituoow aour tois sooold theso-ne aaIo thas paocBatue soooooo iouto theg isyt: sione isiv\n",
            "Ae Hooooloo goen Noooe Coowoo Moat toulds ise\n",
            "ce&M toos ilme UuesieCemntoil co toos iofe coo! go!tolleseiuvololloueinh ouir\n",
            "Igeetue toil doo!othere  aoa! toooo?o!oo Chass, laryit suc atu eefoeceee,meeedvegvhHoyihved asore,eee,otu,o thoe.l looolopol ituoolssu siotueif sooollllle loeoolol voeowIacoll Uurfsutusountus fac tuoekigIfaauch toos ilomtheLenCl poletu,RuicAenmef:edemmtut-ulligcE:cl ca: coooold foof tooe maHoouetoike coo! vheesouthBg al meMue to m iaCe anomomuce tois dolisun mooooe moo! goof CegIeRcakimicecUocE alee NowowoaOht MTk!nA.\n",
            "nooFws qeminWen shue m\n",
            "Step 6000, train loss:708.4535, test loss:731.8906\n"
          ]
        },
        {
          "output_type": "stream",
          "name": "stderr",
          "text": [
            " 60%|██████    | 6010/10000 [1:09:09<37:20,  1.78it/s]"
          ]
        },
        {
          "output_type": "stream",
          "name": "stdout",
          "text": [
            "Step 6010, train loss:516.5215, test loss:1027.2675\n"
          ]
        },
        {
          "output_type": "stream",
          "name": "stderr",
          "text": [
            " 60%|██████    | 6020/10000 [1:09:14<22:15,  2.98it/s]"
          ]
        },
        {
          "output_type": "stream",
          "name": "stdout",
          "text": [
            "Step 6020, train loss:602.9714, test loss:606.2585\n"
          ]
        },
        {
          "output_type": "stream",
          "name": "stderr",
          "text": [
            " 60%|██████    | 6030/10000 [1:09:19<21:46,  3.04it/s]"
          ]
        },
        {
          "output_type": "stream",
          "name": "stdout",
          "text": [
            "Step 6030, train loss:564.7129, test loss:579.2036\n"
          ]
        },
        {
          "output_type": "stream",
          "name": "stderr",
          "text": [
            " 60%|██████    | 6040/10000 [1:09:24<22:17,  2.96it/s]"
          ]
        },
        {
          "output_type": "stream",
          "name": "stdout",
          "text": [
            "Step 6040, train loss:705.1520, test loss:688.1375\n"
          ]
        },
        {
          "output_type": "stream",
          "name": "stderr",
          "text": [
            " 60%|██████    | 6050/10000 [1:09:29<21:46,  3.02it/s]"
          ]
        },
        {
          "output_type": "stream",
          "name": "stdout",
          "text": [
            "Step 6050, train loss:712.6664, test loss:691.1393\n"
          ]
        },
        {
          "output_type": "stream",
          "name": "stderr",
          "text": [
            " 61%|██████    | 6060/10000 [1:09:34<21:41,  3.03it/s]"
          ]
        },
        {
          "output_type": "stream",
          "name": "stdout",
          "text": [
            "Step 6060, train loss:832.7441, test loss:919.1195\n"
          ]
        },
        {
          "output_type": "stream",
          "name": "stderr",
          "text": [
            " 61%|██████    | 6070/10000 [1:09:39<22:02,  2.97it/s]"
          ]
        },
        {
          "output_type": "stream",
          "name": "stdout",
          "text": [
            "Step 6070, train loss:11074.9014, test loss:12407.1709\n"
          ]
        },
        {
          "output_type": "stream",
          "name": "stderr",
          "text": [
            " 61%|██████    | 6080/10000 [1:09:44<21:44,  3.00it/s]"
          ]
        },
        {
          "output_type": "stream",
          "name": "stdout",
          "text": [
            "Step 6080, train loss:5633.2158, test loss:11194.9609\n"
          ]
        },
        {
          "output_type": "stream",
          "name": "stderr",
          "text": [
            " 61%|██████    | 6090/10000 [1:09:49<21:31,  3.03it/s]"
          ]
        },
        {
          "output_type": "stream",
          "name": "stdout",
          "text": [
            "Step 6090, train loss:10557.3154, test loss:11808.3223\n"
          ]
        },
        {
          "output_type": "stream",
          "name": "stderr",
          "text": [
            " 61%|██████    | 6100/10000 [1:09:54<21:43,  2.99it/s]"
          ]
        },
        {
          "output_type": "stream",
          "name": "stdout",
          "text": [
            "Step 6100, train loss:7765.9243, test loss:8753.2422\n",
            "\n",
            "\n",
            "eg,rs  e heyChg ys ?s,iso,\n",
            "shfHrrhhhs,,gk oo \n",
            "ihIC ,iiga BiCB ygci\n",
            "ioIhy,gce ,h,oush, , llsssie,irsilly\n",
            "\n",
            "ssg??Bgh\n",
            "\n",
            "Bsg??rrhhingiBy, Bitorf'mddddddddddddCdmmmImmmmmImmImmImmImImImImmImImImImIImImIIImImImIIIImIIIImIIIImIImIIIIIIIIdIIIdIIImImIIIImtorsldddddddmmmdmmmddmmPmmdmmmmdmddmdmdmdmdmdmddmmmmmddmddmdmdddIdmdmddddmdmdmtou:amdmmmdmmmmmdmmdmmdmmmt rcsyIdsWsmRddthegayymTydmymtEeksmydtolcodymysmssadmytoego\n",
            "WmsPd\n",
            "yXsPmsyt l ilyymLddss!Ldtoeso Myo! .oaMyysystolcat , h!t:M?kyt e  ,Aa yooIolt i oesyot ,ooysryotoemoylt e oedry tolCt et ht .d .hehohyt ,ooMIrene\n",
            "\n",
            "RIMMInntiiloeVlPrrrPlt ulot ao .ha\n",
            "yoeMrPtieyroi men\n",
            "r olt  tol  loor toa  soo-aa    .ot  ra\n",
            "ra Miptiletiaoe t ey con  toaot le         ?e Mhnnoe  ot Met , oe \n",
            "\n",
            "e M, me goe  iir,  iioIe oeg! o till oet thloe  tiac oe Mh  :i Mooool  iiyril Uhor toah Sat  cao! \n",
            " eoMoa maoan yaaTTit  oiryod n!,! Sor!  maooee oat  in gi am a tiet et a oe Mhoi tiah  :ir,Yol ciil gil dio Iin lio, thacaS toeco toec \n",
            "i Mhe :aqo!i cat  rao! \n",
            "io Mhaat ioo toat h\n",
            "Step 6100, train loss:7746.4561, test loss:8372.8662\n"
          ]
        },
        {
          "output_type": "stream",
          "name": "stderr",
          "text": [
            " 61%|██████    | 6110/10000 [1:10:18<36:15,  1.79it/s]"
          ]
        },
        {
          "output_type": "stream",
          "name": "stdout",
          "text": [
            "Step 6110, train loss:8881.8125, test loss:9667.5225\n"
          ]
        },
        {
          "output_type": "stream",
          "name": "stderr",
          "text": [
            " 61%|██████    | 6120/10000 [1:10:23<21:43,  2.98it/s]"
          ]
        },
        {
          "output_type": "stream",
          "name": "stdout",
          "text": [
            "Step 6120, train loss:7673.7197, test loss:9762.7480\n"
          ]
        },
        {
          "output_type": "stream",
          "name": "stderr",
          "text": [
            " 61%|██████▏   | 6130/10000 [1:10:27<21:41,  2.97it/s]"
          ]
        },
        {
          "output_type": "stream",
          "name": "stdout",
          "text": [
            "Step 6130, train loss:9061.2012, test loss:10363.3730\n"
          ]
        },
        {
          "output_type": "stream",
          "name": "stderr",
          "text": [
            " 61%|██████▏   | 6140/10000 [1:10:32<21:21,  3.01it/s]"
          ]
        },
        {
          "output_type": "stream",
          "name": "stdout",
          "text": [
            "Step 6140, train loss:7765.2749, test loss:9551.2402\n"
          ]
        },
        {
          "output_type": "stream",
          "name": "stderr",
          "text": [
            " 62%|██████▏   | 6150/10000 [1:10:37<21:07,  3.04it/s]"
          ]
        },
        {
          "output_type": "stream",
          "name": "stdout",
          "text": [
            "Step 6150, train loss:9386.9043, test loss:10137.5137\n"
          ]
        },
        {
          "output_type": "stream",
          "name": "stderr",
          "text": [
            " 62%|██████▏   | 6160/10000 [1:10:42<21:09,  3.02it/s]"
          ]
        },
        {
          "output_type": "stream",
          "name": "stdout",
          "text": [
            "Step 6160, train loss:7919.1353, test loss:8602.6670\n"
          ]
        },
        {
          "output_type": "stream",
          "name": "stderr",
          "text": [
            " 62%|██████▏   | 6170/10000 [1:10:47<21:33,  2.96it/s]"
          ]
        },
        {
          "output_type": "stream",
          "name": "stdout",
          "text": [
            "Step 6170, train loss:8894.2979, test loss:8784.4043\n"
          ]
        },
        {
          "output_type": "stream",
          "name": "stderr",
          "text": [
            " 62%|██████▏   | 6180/10000 [1:10:52<20:59,  3.03it/s]"
          ]
        },
        {
          "output_type": "stream",
          "name": "stdout",
          "text": [
            "Step 6180, train loss:7682.1104, test loss:8369.9229\n"
          ]
        },
        {
          "output_type": "stream",
          "name": "stderr",
          "text": [
            " 62%|██████▏   | 6190/10000 [1:10:57<20:54,  3.04it/s]"
          ]
        },
        {
          "output_type": "stream",
          "name": "stdout",
          "text": [
            "Step 6190, train loss:6233.4707, test loss:6771.8774\n"
          ]
        },
        {
          "output_type": "stream",
          "name": "stderr",
          "text": [
            " 62%|██████▏   | 6200/10000 [1:11:02<21:32,  2.94it/s]"
          ]
        },
        {
          "output_type": "stream",
          "name": "stdout",
          "text": [
            "Step 6200, train loss:4501.7529, test loss:5214.7583\n",
            "\n",
            "\n",
            "eg,r heioerl'oshsgg o,t,nfQnduwvawtogogd:du:m:u:I:\n",
            "E:\n",
            "\n",
            "wu.fuffffwfe EL wimwim uY es a-ve vhjour sou sur isurururie anweiseaaeaedeaayaeaardedadeadeadeddeadeddedddddrdddddddddddddddddddddddddddddddddddddddddddddddddddddddddddddddddddddddddddddddddddddddddddddddddddddddddddddddddddedIddddddddd ,ohhhe,RYhh pgsWhhkocAkesh rhhyAhchrhchhi.eegphfh\n",
            "pwph gYectseeed&dhaa.haaXekIkegareedYrkgRegXkkdgfgreYdmkXm mAeX?fdXddImddXddmdmdddfdddrIkdIdmkdmdddddddmmddddmdddddddddmmddmddddddmdddIdddddmddddddeddddIdddddmddddddddddddmIddddddIIdddddddddmdddddddedIddIdmddddXddddddmdddmddddIddmddmdddddddddddddddddddddemddddddddddpghd\n",
            "grgk ho.ahhe.chI?ehp khhFhg,B$Y,h\n",
            "PBkggpkhkhhk klYowhdprhhhhhhYY Wohyqhhh gIlo&hy B yhihh.hhhpZ:hhhnBJephThghegdeh.Hhhhlghpp hhtregykh:-yhy,VV,hyyyWghhy kh'BBye VhHBtonsr yh.y..Paa.rs..  XkePkmkXkPPkXXkkXXk?XXXkPXPrdXAXkXXXXXXddAdIXAAdXXdAdXXrdXXAddkdddXItyv,Ed?hddaa yIA  hiryrrdRrrAfA ?hAyradr doArAInoifOIe?AkdAdyyyyAnAfdAy wrAt kg\n",
            "tsr'orhhe yhohhAho Mhrhry yoorr is:yys Aonif imyis o\n",
            "Step 6200, train loss:4258.7920, test loss:4728.7417\n"
          ]
        },
        {
          "output_type": "stream",
          "name": "stderr",
          "text": [
            " 62%|██████▏   | 6210/10000 [1:11:26<35:02,  1.80it/s]"
          ]
        },
        {
          "output_type": "stream",
          "name": "stdout",
          "text": [
            "Step 6210, train loss:3835.6516, test loss:3864.0229\n"
          ]
        },
        {
          "output_type": "stream",
          "name": "stderr",
          "text": [
            " 62%|██████▏   | 6220/10000 [1:11:31<21:23,  2.95it/s]"
          ]
        },
        {
          "output_type": "stream",
          "name": "stdout",
          "text": [
            "Step 6220, train loss:3062.2412, test loss:3457.3359\n"
          ]
        },
        {
          "output_type": "stream",
          "name": "stderr",
          "text": [
            " 62%|██████▏   | 6230/10000 [1:11:36<21:13,  2.96it/s]"
          ]
        },
        {
          "output_type": "stream",
          "name": "stdout",
          "text": [
            "Step 6230, train loss:2026.2291, test loss:2430.9026\n"
          ]
        },
        {
          "output_type": "stream",
          "name": "stderr",
          "text": [
            " 62%|██████▏   | 6240/10000 [1:11:40<20:38,  3.04it/s]"
          ]
        },
        {
          "output_type": "stream",
          "name": "stdout",
          "text": [
            "Step 6240, train loss:1813.6041, test loss:1977.6088\n"
          ]
        },
        {
          "output_type": "stream",
          "name": "stderr",
          "text": [
            " 62%|██████▎   | 6250/10000 [1:11:45<20:36,  3.03it/s]"
          ]
        },
        {
          "output_type": "stream",
          "name": "stdout",
          "text": [
            "Step 6250, train loss:1381.7472, test loss:1587.2859\n"
          ]
        },
        {
          "output_type": "stream",
          "name": "stderr",
          "text": [
            " 63%|██████▎   | 6260/10000 [1:11:50<21:06,  2.95it/s]"
          ]
        },
        {
          "output_type": "stream",
          "name": "stdout",
          "text": [
            "Step 6260, train loss:1635.4871, test loss:1583.5171\n"
          ]
        },
        {
          "output_type": "stream",
          "name": "stderr",
          "text": [
            " 63%|██████▎   | 6270/10000 [1:11:55<20:41,  3.00it/s]"
          ]
        },
        {
          "output_type": "stream",
          "name": "stdout",
          "text": [
            "Step 6270, train loss:1337.3103, test loss:1284.7100\n"
          ]
        },
        {
          "output_type": "stream",
          "name": "stderr",
          "text": [
            " 63%|██████▎   | 6280/10000 [1:12:00<20:25,  3.04it/s]"
          ]
        },
        {
          "output_type": "stream",
          "name": "stdout",
          "text": [
            "Step 6280, train loss:1546.3743, test loss:1684.8203\n"
          ]
        },
        {
          "output_type": "stream",
          "name": "stderr",
          "text": [
            " 63%|██████▎   | 6290/10000 [1:12:05<20:51,  2.96it/s]"
          ]
        },
        {
          "output_type": "stream",
          "name": "stdout",
          "text": [
            "Step 6290, train loss:1213.6429, test loss:1407.9612\n"
          ]
        },
        {
          "output_type": "stream",
          "name": "stderr",
          "text": [
            " 63%|██████▎   | 6300/10000 [1:12:10<20:33,  3.00it/s]"
          ]
        },
        {
          "output_type": "stream",
          "name": "stdout",
          "text": [
            "Step 6300, train loss:1408.1675, test loss:1634.3530\n",
            "\n",
            "\n",
            "eg,r heiyih, origge ?trowhrlllly,\n",
            "cha\n",
            "Ilyds.esprme mewn whor wieCite ws ale ao .ite sa T; are ple lee ple in aneore irhy loeise inOheo neee ne \n",
            "moeieeeeonononor ane\n",
            "oneononotuvUcoudeeearouotu y?eeeeeeooaaour\n",
            "\n",
            "aooreaos aoreaaoor aoooreaeaeaoaour aoorereaAod  :irArgk? oron vieoAvNItrie ee&deeaoeanonontro  ioerthacenIet keea Theoarath caI!!,  rorytr\n",
            "gepWd  rheIAGWtron moeoe  ioernI megyrntieugqtrit,ememt ou mysyothg prTd thame,,,co,ct,itheman J?eo?see\n",
            "\n",
            "RIaPe,HLen\n",
            "'ooEf:In !ieclVsoono?\n",
            "F?\n",
            "MteEGmanaana mananoit as .redeeadyit ee Eha\n",
            "it,Pve,e?\n",
            " leErbane aoorete,\n",
            "cesate?noutest ed  deIateS cind,est k,s d?eterA neeI? it  megom ne\n",
            "Wht$TGkLm viAr th mety, !h,h,\n",
            "EooMrPiorYionSSESoirPFFFSUIivIFRNs':ENSoivSXL\n",
            "XFmMimXLDin'CSSSoTSooFmoSim'K Go!ys-:Dn'din drirvmedu'cim frib fith L-Deg wdirr sions: simIin thidf!a!o!coc, a ihd Mrkin\n",
            " waa'- ,e'I' win  gri eoi  heCeZZT         .  :rr sa     .e thiG??aNapppl erHe  he VooAoe sue soeCe  oeeI  -oeee  -heeeegQel  -rames ea  -re  hevol? ,ole,mond le  -re  ue gr\n",
            "Step 6300, train loss:1383.9402, test loss:1551.2092\n"
          ]
        },
        {
          "output_type": "stream",
          "name": "stderr",
          "text": [
            " 63%|██████▎   | 6310/10000 [1:12:34<33:58,  1.81it/s]"
          ]
        },
        {
          "output_type": "stream",
          "name": "stdout",
          "text": [
            "Step 6310, train loss:1387.6559, test loss:1420.0917\n"
          ]
        },
        {
          "output_type": "stream",
          "name": "stderr",
          "text": [
            " 63%|██████▎   | 6320/10000 [1:12:39<21:02,  2.92it/s]"
          ]
        },
        {
          "output_type": "stream",
          "name": "stdout",
          "text": [
            "Step 6320, train loss:1493.4417, test loss:1563.1858\n"
          ]
        },
        {
          "output_type": "stream",
          "name": "stderr",
          "text": [
            " 63%|██████▎   | 6330/10000 [1:12:43<20:14,  3.02it/s]"
          ]
        },
        {
          "output_type": "stream",
          "name": "stdout",
          "text": [
            "Step 6330, train loss:1685.2473, test loss:1820.9270\n"
          ]
        },
        {
          "output_type": "stream",
          "name": "stderr",
          "text": [
            " 63%|██████▎   | 6340/10000 [1:12:48<20:05,  3.04it/s]"
          ]
        },
        {
          "output_type": "stream",
          "name": "stdout",
          "text": [
            "Step 6340, train loss:2379.4890, test loss:2378.0466\n"
          ]
        },
        {
          "output_type": "stream",
          "name": "stderr",
          "text": [
            " 64%|██████▎   | 6350/10000 [1:12:53<20:27,  2.97it/s]"
          ]
        },
        {
          "output_type": "stream",
          "name": "stdout",
          "text": [
            "Step 6350, train loss:1501.0422, test loss:1583.7683\n"
          ]
        },
        {
          "output_type": "stream",
          "name": "stderr",
          "text": [
            " 64%|██████▎   | 6360/10000 [1:12:58<20:11,  3.00it/s]"
          ]
        },
        {
          "output_type": "stream",
          "name": "stdout",
          "text": [
            "Step 6360, train loss:1446.2645, test loss:1649.1995\n"
          ]
        },
        {
          "output_type": "stream",
          "name": "stderr",
          "text": [
            " 64%|██████▎   | 6370/10000 [1:13:03<19:57,  3.03it/s]"
          ]
        },
        {
          "output_type": "stream",
          "name": "stdout",
          "text": [
            "Step 6370, train loss:1055.6321, test loss:1078.9930\n"
          ]
        },
        {
          "output_type": "stream",
          "name": "stderr",
          "text": [
            " 64%|██████▍   | 6380/10000 [1:13:08<20:07,  3.00it/s]"
          ]
        },
        {
          "output_type": "stream",
          "name": "stdout",
          "text": [
            "Step 6380, train loss:1401.5481, test loss:1383.1101\n"
          ]
        },
        {
          "output_type": "stream",
          "name": "stderr",
          "text": [
            " 64%|██████▍   | 6390/10000 [1:13:13<20:30,  2.93it/s]"
          ]
        },
        {
          "output_type": "stream",
          "name": "stdout",
          "text": [
            "Step 6390, train loss:1609.4047, test loss:1911.8617\n"
          ]
        },
        {
          "output_type": "stream",
          "name": "stderr",
          "text": [
            " 64%|██████▍   | 6400/10000 [1:13:18<19:50,  3.02it/s]"
          ]
        },
        {
          "output_type": "stream",
          "name": "stdout",
          "text": [
            "Step 6400, train loss:1557.3783, test loss:1672.8193\n",
            "\n",
            "\n",
            "esrlt n  .ineuneS thene'pe en toey theen\n",
            "\n",
            "NEt ivelipiefecu$tidNihbe to yo serNit han -V:ary tone unpanamil' UrS for'siopen\n",
            "dow :\n",
            "Sonpands put morwibecr'her wikwed wh .\n",
            "Dorwiv VhturOCtu wonofitit ob,d adrdE:Urtinpe wo thee Sougowid Uhthtutu.de tous iovPly mory tou gory tory toegActilncoi Uorwoin goi\n",
            " :oabeolengAnSil co  tou gor  or goechhe,\n",
            "e urd gooAAAAoisl, iorycole AourierrM toemAIU toomr-Ucoift:ELcou  :or: ,ooI toon doirhq youoe toon doireoAwe a,eedwe Fit  Lho! goecitn mouo-AUIfoipLip toos So! grI e-A, Eory voo!ou goohe Mor!o the$Awoun toiy doo-AUNh goi\n",
            " :oabotoicone,r ifpanonoco!if Soroorn  oiry,oich HAoicomd suonornoic soirircpcoS\n",
            "on Hhooooa looimh limw, ,ooringciinr to mooa goirwe lide doAooungif roueimciim noirorinM aiiimeify UheEorTRinner roefr' ,heAhq Mheerwe wre  oiryeia    .AAoein ein  hew?Ce wioif roeCerwele,ercw,\n",
            "SesE  ioooireelceenncs moererwesoocrcrio rhroio  -oo!oroi  raleocLn sheCe \n",
            "oooPI!oFoF\n",
            "Go?Ysy -:oooftalC XP.,L.Tu!I!M!HVM!TTTI? PWhed:TkIYITT!III?TTT?TTCPITTPTIITT\n",
            "Step 6400, train loss:1526.3020, test loss:1729.3206\n"
          ]
        },
        {
          "output_type": "stream",
          "name": "stderr",
          "text": [
            " 64%|██████▍   | 6410/10000 [1:13:42<33:28,  1.79it/s]"
          ]
        },
        {
          "output_type": "stream",
          "name": "stdout",
          "text": [
            "Step 6410, train loss:1146.3687, test loss:1411.3953\n"
          ]
        },
        {
          "output_type": "stream",
          "name": "stderr",
          "text": [
            " 64%|██████▍   | 6420/10000 [1:13:47<20:16,  2.94it/s]"
          ]
        },
        {
          "output_type": "stream",
          "name": "stdout",
          "text": [
            "Step 6420, train loss:1217.2417, test loss:1349.9810\n"
          ]
        },
        {
          "output_type": "stream",
          "name": "stderr",
          "text": [
            " 64%|██████▍   | 6430/10000 [1:13:52<19:43,  3.02it/s]"
          ]
        },
        {
          "output_type": "stream",
          "name": "stdout",
          "text": [
            "Step 6430, train loss:1230.5460, test loss:1099.3119\n"
          ]
        },
        {
          "output_type": "stream",
          "name": "stderr",
          "text": [
            " 64%|██████▍   | 6440/10000 [1:13:56<19:35,  3.03it/s]"
          ]
        },
        {
          "output_type": "stream",
          "name": "stdout",
          "text": [
            "Step 6440, train loss:984.5502, test loss:993.6575\n"
          ]
        },
        {
          "output_type": "stream",
          "name": "stderr",
          "text": [
            " 64%|██████▍   | 6450/10000 [1:14:01<19:52,  2.98it/s]"
          ]
        },
        {
          "output_type": "stream",
          "name": "stdout",
          "text": [
            "Step 6450, train loss:1057.2559, test loss:1131.3206\n"
          ]
        },
        {
          "output_type": "stream",
          "name": "stderr",
          "text": [
            " 65%|██████▍   | 6460/10000 [1:14:06<19:28,  3.03it/s]"
          ]
        },
        {
          "output_type": "stream",
          "name": "stdout",
          "text": [
            "Step 6460, train loss:2935.0051, test loss:1003.9205\n"
          ]
        },
        {
          "output_type": "stream",
          "name": "stderr",
          "text": [
            " 65%|██████▍   | 6470/10000 [1:14:11<19:25,  3.03it/s]"
          ]
        },
        {
          "output_type": "stream",
          "name": "stdout",
          "text": [
            "Step 6470, train loss:850.6012, test loss:950.3088\n"
          ]
        },
        {
          "output_type": "stream",
          "name": "stderr",
          "text": [
            " 65%|██████▍   | 6480/10000 [1:14:16<19:51,  2.95it/s]"
          ]
        },
        {
          "output_type": "stream",
          "name": "stdout",
          "text": [
            "Step 6480, train loss:1084.4519, test loss:1178.3722\n"
          ]
        },
        {
          "output_type": "stream",
          "name": "stderr",
          "text": [
            " 65%|██████▍   | 6490/10000 [1:14:21<19:21,  3.02it/s]"
          ]
        },
        {
          "output_type": "stream",
          "name": "stdout",
          "text": [
            "Step 6490, train loss:1156.4368, test loss:1324.8768\n"
          ]
        },
        {
          "output_type": "stream",
          "name": "stderr",
          "text": [
            " 65%|██████▌   | 6500/10000 [1:14:26<19:14,  3.03it/s]"
          ]
        },
        {
          "output_type": "stream",
          "name": "stdout",
          "text": [
            "Step 6500, train loss:1612.7401, test loss:1715.4636\n",
            "\n",
            "\n",
            "esao eel  heo,  erd C o,,hhhhhhhhhhhy,,,\n",
            "dDg,\n",
            "hFnohahSdgBrhaXCgBSfhea$hh,S\n",
            "othao heeIg Yeee\n",
            "e eeYe\n",
            "e kggee ghkgk golk aok ard a Yolkrofo Yong akg of thol a a. a d Y  goce  go  r crd go  veP Y agag ag aga gh   gr colrf YoclolOcr Ye cerj Lrcocr Lllol\n",
            "L: T GoFoFollVFFF?coFFFollsoFoFFFcol woooFoowoFoloooFLsFFlsoFosNLsGss.\n",
            "cooEoas chimc\n",
            "ENFEewcNc owo!elcon Hemec Gooowowololl \n",
            "eeWW\n",
            "OH MhEo-owoosw?\n",
            "F chF Eooo!ynl mhhe koyehy nenyheh. oBn,yh,n hhh!et, r ud Y,h  :,eP Phh  ::,eG IeMEkP:PPg PeMe:gk: ?\n",
            ":ekkPTTTPNkPTt thleX\n",
            "m.h,eTOC'\n",
            "Cl\n",
            "Makh?a\n",
            "Nh M?rPSo\n",
            " \n",
            "Fhha?\n",
            "AoaPrh aoaahr?isaSCasowea,emsss So?wosesa she\n",
            "TooanolV?elTwiXaOFthul?eehMwheo.\n",
            "To\n",
            "Ms aoR w, oeeI noooolowoo Whowe goesooooa aos soloor soooolloo Oo gezaois Ehoold oooooleoooisoleres\n",
            "WeaMrP shege goe roror He cooocococosc\n",
            "YofPEYNNewENE HENrXLcFFF EeGEGLLFLXkLCcFFLFLkPLFgTcL CLeLEGLLc FNwco WheEEPY ch YAr KhePowC GAEw degIgny,s shiwnhp Eheds ho eo oie,\n",
            "pcp hergyh helosmJshighM;ny, s?nCe \n",
            "hh\n",
            "s:Jey\n",
            "ekeTI,rvIhpsp,,\n",
            "yo Ehhihe \n",
            "eiIIhekAhrt l ,e  .,\n",
            "Step 6500, train loss:1625.9625, test loss:1807.7582\n"
          ]
        },
        {
          "output_type": "stream",
          "name": "stderr",
          "text": [
            " 65%|██████▌   | 6510/10000 [1:14:50<32:41,  1.78it/s]"
          ]
        },
        {
          "output_type": "stream",
          "name": "stdout",
          "text": [
            "Step 6510, train loss:1691.7773, test loss:1879.4242\n"
          ]
        },
        {
          "output_type": "stream",
          "name": "stderr",
          "text": [
            " 65%|██████▌   | 6520/10000 [1:14:55<19:32,  2.97it/s]"
          ]
        },
        {
          "output_type": "stream",
          "name": "stdout",
          "text": [
            "Step 6520, train loss:1379.8279, test loss:1319.1322\n"
          ]
        },
        {
          "output_type": "stream",
          "name": "stderr",
          "text": [
            " 65%|██████▌   | 6530/10000 [1:15:00<19:00,  3.04it/s]"
          ]
        },
        {
          "output_type": "stream",
          "name": "stdout",
          "text": [
            "Step 6530, train loss:1179.4634, test loss:1153.2643\n"
          ]
        },
        {
          "output_type": "stream",
          "name": "stderr",
          "text": [
            " 65%|██████▌   | 6540/10000 [1:15:05<19:25,  2.97it/s]"
          ]
        },
        {
          "output_type": "stream",
          "name": "stdout",
          "text": [
            "Step 6540, train loss:1139.2646, test loss:1308.7058\n"
          ]
        },
        {
          "output_type": "stream",
          "name": "stderr",
          "text": [
            " 66%|██████▌   | 6550/10000 [1:15:10<19:02,  3.02it/s]"
          ]
        },
        {
          "output_type": "stream",
          "name": "stdout",
          "text": [
            "Step 6550, train loss:1226.0437, test loss:2775.7478\n"
          ]
        },
        {
          "output_type": "stream",
          "name": "stderr",
          "text": [
            " 66%|██████▌   | 6560/10000 [1:15:15<18:58,  3.02it/s]"
          ]
        },
        {
          "output_type": "stream",
          "name": "stdout",
          "text": [
            "Step 6560, train loss:1368.3740, test loss:1576.7485\n"
          ]
        },
        {
          "output_type": "stream",
          "name": "stderr",
          "text": [
            " 66%|██████▌   | 6570/10000 [1:15:20<19:17,  2.96it/s]"
          ]
        },
        {
          "output_type": "stream",
          "name": "stdout",
          "text": [
            "Step 6570, train loss:1473.4817, test loss:1691.5580\n"
          ]
        },
        {
          "output_type": "stream",
          "name": "stderr",
          "text": [
            " 66%|██████▌   | 6580/10000 [1:15:25<18:54,  3.02it/s]"
          ]
        },
        {
          "output_type": "stream",
          "name": "stdout",
          "text": [
            "Step 6580, train loss:1147.1342, test loss:1274.0879\n"
          ]
        },
        {
          "output_type": "stream",
          "name": "stderr",
          "text": [
            " 66%|██████▌   | 6590/10000 [1:15:29<18:42,  3.04it/s]"
          ]
        },
        {
          "output_type": "stream",
          "name": "stdout",
          "text": [
            "Step 6590, train loss:973.5389, test loss:969.5327\n"
          ]
        },
        {
          "output_type": "stream",
          "name": "stderr",
          "text": [
            " 66%|██████▌   | 6600/10000 [1:15:34<19:01,  2.98it/s]"
          ]
        },
        {
          "output_type": "stream",
          "name": "stdout",
          "text": [
            "Step 6600, train loss:764.3969, test loss:800.5160\n",
            "\n",
            "\n",
            "eonh,hnddihahhsigg yhSgarhsw,Xete n htecte n,dest\n",
            "\n",
            " -temdwed thet: wurwurerresIywucerrrs del, Igors drsgeser! sen-res sioKPkster\n",
            "ulbanenen steg helellaore,ste yurd tr y bu hister rasousour\n",
            "Ykrasmaster\n",
            "es rekreIss'wekerrorAr   uorerrPoffar me re regr Ar ve&r\n",
            "Uuc the n redis deghh Gzhes thoser!oote ? redis dreveved tre criven heT?us wenhedhe MrTes shecoe NoryorERiteerGoatelnst\n",
            "r hg Hese r;iag,esische,\n",
            ",\n",
            "aofMte,\n",
            "?\n",
            "\n",
            "Mw!-Gor-oe Eheorrk loryorns isholllll theserPk lar so'yoleso vezh dheipIas urpasuCou  :rAor,es thoerow wharNalicengois soi\n",
            "olo-oFo-o-R,oee wheorTTe\n",
            "EviMhqus ite --he ?e&wYer 'e$ece he&orW, thi vhHe he&orW,ce le&II seefkded Ieghek Aherer$N re&rbe sheMh sey aore  Iiryen suore TheeefyAC\n",
            "\n",
            "A MaName Goeoe cory meGy HeHesiswF Ge  YeEr oesenouc itefTbe seeGoaa or meCwe Who!l su  hesrWoucounoweoicsou:oullesus Wece oeGhest,rHee\n",
            "aou.\n",
            "eadeeeewspoous seekg :egrGcS Lhe\n",
            "WTYNY:TGLNNgvG g! gegkcgd chekk EekeEgYkcELgdagcEcocTcreKcTggcoTgcckkgvckcTgLgvTgcocLdcTvkkkTEEgkkTEgkTTgggddccAkckkT\n",
            "EkgYkk\n",
            "Step 6600, train loss:12679.0635, test loss:759.6096\n"
          ]
        },
        {
          "output_type": "stream",
          "name": "stderr",
          "text": [
            " 66%|██████▌   | 6610/10000 [1:15:58<31:32,  1.79it/s]"
          ]
        },
        {
          "output_type": "stream",
          "name": "stdout",
          "text": [
            "Step 6610, train loss:718.7384, test loss:754.3305\n"
          ]
        },
        {
          "output_type": "stream",
          "name": "stderr",
          "text": [
            " 66%|██████▌   | 6620/10000 [1:16:03<18:51,  2.99it/s]"
          ]
        },
        {
          "output_type": "stream",
          "name": "stdout",
          "text": [
            "Step 6620, train loss:632.2118, test loss:721.1688\n"
          ]
        },
        {
          "output_type": "stream",
          "name": "stderr",
          "text": [
            " 66%|██████▋   | 6630/10000 [1:16:08<18:55,  2.97it/s]"
          ]
        },
        {
          "output_type": "stream",
          "name": "stdout",
          "text": [
            "Step 6630, train loss:839.6443, test loss:866.9095\n"
          ]
        },
        {
          "output_type": "stream",
          "name": "stderr",
          "text": [
            " 66%|██████▋   | 6640/10000 [1:16:13<18:31,  3.02it/s]"
          ]
        },
        {
          "output_type": "stream",
          "name": "stdout",
          "text": [
            "Step 6640, train loss:734.9725, test loss:775.5808\n"
          ]
        },
        {
          "output_type": "stream",
          "name": "stderr",
          "text": [
            " 66%|██████▋   | 6650/10000 [1:16:18<18:22,  3.04it/s]"
          ]
        },
        {
          "output_type": "stream",
          "name": "stdout",
          "text": [
            "Step 6650, train loss:1025.7366, test loss:1163.1655\n"
          ]
        },
        {
          "output_type": "stream",
          "name": "stderr",
          "text": [
            " 67%|██████▋   | 6660/10000 [1:16:23<18:37,  2.99it/s]"
          ]
        },
        {
          "output_type": "stream",
          "name": "stdout",
          "text": [
            "Step 6660, train loss:924.1452, test loss:956.0430\n"
          ]
        },
        {
          "output_type": "stream",
          "name": "stderr",
          "text": [
            " 67%|██████▋   | 6670/10000 [1:16:28<18:41,  2.97it/s]"
          ]
        },
        {
          "output_type": "stream",
          "name": "stdout",
          "text": [
            "Step 6670, train loss:821.3528, test loss:821.7881\n"
          ]
        },
        {
          "output_type": "stream",
          "name": "stderr",
          "text": [
            " 67%|██████▋   | 6680/10000 [1:16:33<18:12,  3.04it/s]"
          ]
        },
        {
          "output_type": "stream",
          "name": "stdout",
          "text": [
            "Step 6680, train loss:562.1445, test loss:563.9218\n"
          ]
        },
        {
          "output_type": "stream",
          "name": "stderr",
          "text": [
            " 67%|██████▋   | 6690/10000 [1:16:38<18:15,  3.02it/s]"
          ]
        },
        {
          "output_type": "stream",
          "name": "stdout",
          "text": [
            "Step 6690, train loss:728.7972, test loss:814.1930\n"
          ]
        },
        {
          "output_type": "stream",
          "name": "stderr",
          "text": [
            " 67%|██████▋   | 6700/10000 [1:16:43<18:33,  2.96it/s]"
          ]
        },
        {
          "output_type": "stream",
          "name": "stdout",
          "text": [
            "Step 6700, train loss:729.2811, test loss:913.6867\n",
            "\n",
            "\n",
            "eiole,e,leeeooihc i  blyiht. to tr nef laur, soyt dodsurdeslyIgas, IAdoft bgowompss,\n",
            "AOSE:\n",
            "E, deromou.I.ycomYTRis f'du,   poRryom,\n",
            "TpIODODODODrd, my mI d,\n",
            "\n",
            "Thy wimrss wh\n",
            "w G, fhDrys marryfWyfWhiurSWs mard\n",
            "YrEw frwfrCfarilDOfrisiswis farisis: isisisiswis it, easrn soeCedmofadoioinsesoOeee\n",
            "woeeePG?\n",
            "\n",
            "CeeM w:eekfkkeTL?CCCeCPdkkLTgrTTTCPPPPkXPkPPXPOPPPeePPkPkPITTPTkPPePXPTTITIXPTPIPTTTedPTPPPkXtr ;rlIeedweeeedeCCedCe C?eeCCICCt  teeeZkkg   gekkgkeg\n",
            "iege;weeggekggeeCegeJeeggeFeegYeeke ee&edeeeeeeeeeeemeeeedeeeeeeee eeHee,    .oee toiihhRefeeghee eeCegeeeeedeeeeed euNefeedeeemeneeendoundeeedee neeeedeeeeeeem neAopr,, i'uee?leeeeeeeeeemyeNeeeereeefteis, yooua---uayo-Goll,\n",
            "n-eVweNXo, yo\n",
            "Ewe?e ,olel,GGo?\n",
            "\n",
            "zke?e,wFK:e Woeoe WryeneW:eeeeee\n",
            "\n",
            "LeeMXwe weeeCF?\n",
            "\n",
            "zow:y z?eeeee\n",
            "??eeewZ?e youoolo:eNX?CCCe WeCeCCNeeenCeeCeeCCCCeeCeTeCeeCeeeeCCCeeeC\n",
            "e WVeNeCCeNeeeece \n",
            "-eeeCwNCeNXCe WheoE WrC? leWeCe,L ,eCe e: ?e gi ed ?h oueghpr?kCetrrree ,eXe  .eeeXkC Ce ,.e Xt ekldHeeeeeeedCCCCeeCeeCeegget eta neeed,eeaee\n",
            "Step 6700, train loss:826.3259, test loss:947.4979\n"
          ]
        },
        {
          "output_type": "stream",
          "name": "stderr",
          "text": [
            " 67%|██████▋   | 6710/10000 [1:17:06<30:28,  1.80it/s]"
          ]
        },
        {
          "output_type": "stream",
          "name": "stdout",
          "text": [
            "Step 6710, train loss:611.9641, test loss:844.5000\n"
          ]
        },
        {
          "output_type": "stream",
          "name": "stderr",
          "text": [
            " 67%|██████▋   | 6720/10000 [1:17:11<18:33,  2.94it/s]"
          ]
        },
        {
          "output_type": "stream",
          "name": "stdout",
          "text": [
            "Step 6720, train loss:1124.8799, test loss:1150.3197\n"
          ]
        },
        {
          "output_type": "stream",
          "name": "stderr",
          "text": [
            " 67%|██████▋   | 6730/10000 [1:17:16<18:13,  2.99it/s]"
          ]
        },
        {
          "output_type": "stream",
          "name": "stdout",
          "text": [
            "Step 6730, train loss:1575.3477, test loss:1241.8857\n"
          ]
        },
        {
          "output_type": "stream",
          "name": "stderr",
          "text": [
            " 67%|██████▋   | 6740/10000 [1:17:21<17:55,  3.03it/s]"
          ]
        },
        {
          "output_type": "stream",
          "name": "stdout",
          "text": [
            "Step 6740, train loss:752.4733, test loss:8908.7246\n"
          ]
        },
        {
          "output_type": "stream",
          "name": "stderr",
          "text": [
            " 68%|██████▊   | 6750/10000 [1:17:26<17:53,  3.03it/s]"
          ]
        },
        {
          "output_type": "stream",
          "name": "stdout",
          "text": [
            "Step 6750, train loss:663.3395, test loss:758.1741\n"
          ]
        },
        {
          "output_type": "stream",
          "name": "stderr",
          "text": [
            " 68%|██████▊   | 6760/10000 [1:17:31<18:07,  2.98it/s]"
          ]
        },
        {
          "output_type": "stream",
          "name": "stdout",
          "text": [
            "Step 6760, train loss:801.3194, test loss:767.7214\n"
          ]
        },
        {
          "output_type": "stream",
          "name": "stderr",
          "text": [
            " 68%|██████▊   | 6770/10000 [1:17:36<17:53,  3.01it/s]"
          ]
        },
        {
          "output_type": "stream",
          "name": "stdout",
          "text": [
            "Step 6770, train loss:658.7013, test loss:717.8177\n"
          ]
        },
        {
          "output_type": "stream",
          "name": "stderr",
          "text": [
            " 68%|██████▊   | 6780/10000 [1:17:41<17:44,  3.02it/s]"
          ]
        },
        {
          "output_type": "stream",
          "name": "stdout",
          "text": [
            "Step 6780, train loss:585.3293, test loss:601.1362\n"
          ]
        },
        {
          "output_type": "stream",
          "name": "stderr",
          "text": [
            " 68%|██████▊   | 6790/10000 [1:17:46<17:56,  2.98it/s]"
          ]
        },
        {
          "output_type": "stream",
          "name": "stdout",
          "text": [
            "Step 6790, train loss:871.5400, test loss:630.2543\n"
          ]
        },
        {
          "output_type": "stream",
          "name": "stderr",
          "text": [
            " 68%|██████▊   | 6800/10000 [1:17:51<17:39,  3.02it/s]"
          ]
        },
        {
          "output_type": "stream",
          "name": "stdout",
          "text": [
            "Step 6800, train loss:633.2623, test loss:630.8953\n",
            "\n",
            "\n",
            "eioli,  lih lihh hihlh,oihiro?ouggg. i,,,iggggggge,y,gnannn,,n,\n",
            ",g,nBohhh ,oehphmiggghy hopgeg\n",
            " ,hiP hhhyysyWk?ygyhhhhhhhhhhhhhhhhhhyhhhyhyhhhhyyhyyyyyyyhhyyyhyyhyyyyyyyhyyyyhhyyhhhyhhyyhhyyyhyyyyhyyhyhyhyyhyhhyhhhyyhhyyhyyyyyyyyyyhhyyyyyhyyhyyyhyyyyhyyyypgyphphy gLnhVgh\n",
            "pBtfeZhhc.yeCytiuoe,JG  a\n",
            "a a\n",
            "C ?C Cale  a ?EGCCCyC?Ca?CCa?a? aoa  haGa asCaa?C??a??C?CanCcayC se&&G\n",
            "?\n",
            "Cy EwMeNONC, ?-N? ?o?enW? ???E ???esNG???? ??CwI orw woweinOi senPi  oi n y wi wac Kefwy Onn,ia  heGoC? ca  heG!N \n",
            "? ?Eoa woanss sou aowh ched WhenEby,\n",
            "\n",
            "C\n",
            "Ma\n",
            "en\n",
            "E? MeGENhhswycYZhehwV h!hpcBb?C siecqnJef Mhege?eehee, hhiid?egp FIslg th r ii., gi.co saa oug wegelac -aiiioa aowes, cAe a co  haw?g Weghers: cec Yowhowoolol ow,hooheoEY shoy sweco whooocow hoh?s Yowhowolh ,heh Whowol coohooowoo Whewow Whho! hoeoecocox Wowowod Whaowilowowowoworwow\n",
            "Wh\n",
            "Mk,h\n",
            "FoFy\n",
            "Y oaoahe wowowilolowes:\n",
            "\n",
            "hoP? WI Cheyh!sg  -yatie'c,   e PP   ?en  ,ePebC Pi?CCCCCCCCeCCC?CCCCCCeCCCI?CCCCCCCCXCdePCCCCCCCCCCPCeCCkICkdXIIITC CeCeCdDNeCCCCCCCCCCEeXedID\n",
            "Step 6800, train loss:630.3818, test loss:638.6760\n"
          ]
        },
        {
          "output_type": "stream",
          "name": "stderr",
          "text": [
            " 68%|██████▊   | 6810/10000 [1:18:14<29:29,  1.80it/s]"
          ]
        },
        {
          "output_type": "stream",
          "name": "stdout",
          "text": [
            "Step 6810, train loss:573.7957, test loss:652.2199\n"
          ]
        },
        {
          "output_type": "stream",
          "name": "stderr",
          "text": [
            " 68%|██████▊   | 6820/10000 [1:18:19<18:09,  2.92it/s]"
          ]
        },
        {
          "output_type": "stream",
          "name": "stdout",
          "text": [
            "Step 6820, train loss:596.3185, test loss:619.8698\n"
          ]
        },
        {
          "output_type": "stream",
          "name": "stderr",
          "text": [
            " 68%|██████▊   | 6830/10000 [1:18:24<17:26,  3.03it/s]"
          ]
        },
        {
          "output_type": "stream",
          "name": "stdout",
          "text": [
            "Step 6830, train loss:64636.1367, test loss:77524.4531\n"
          ]
        },
        {
          "output_type": "stream",
          "name": "stderr",
          "text": [
            " 68%|██████▊   | 6840/10000 [1:18:29<17:20,  3.04it/s]"
          ]
        },
        {
          "output_type": "stream",
          "name": "stdout",
          "text": [
            "Step 6840, train loss:31785.6152, test loss:30809.1035\n"
          ]
        },
        {
          "output_type": "stream",
          "name": "stderr",
          "text": [
            " 68%|██████▊   | 6850/10000 [1:18:34<17:36,  2.98it/s]"
          ]
        },
        {
          "output_type": "stream",
          "name": "stdout",
          "text": [
            "Step 6850, train loss:35558.5039, test loss:36823.9062\n"
          ]
        },
        {
          "output_type": "stream",
          "name": "stderr",
          "text": [
            " 69%|██████▊   | 6860/10000 [1:18:39<17:28,  2.99it/s]"
          ]
        },
        {
          "output_type": "stream",
          "name": "stdout",
          "text": [
            "Step 6860, train loss:41001.5742, test loss:39370.2422\n"
          ]
        },
        {
          "output_type": "stream",
          "name": "stderr",
          "text": [
            " 69%|██████▊   | 6870/10000 [1:18:44<17:12,  3.03it/s]"
          ]
        },
        {
          "output_type": "stream",
          "name": "stdout",
          "text": [
            "Step 6870, train loss:63802.6992, test loss:59325.8008\n"
          ]
        },
        {
          "output_type": "stream",
          "name": "stderr",
          "text": [
            " 69%|██████▉   | 6880/10000 [1:18:49<17:32,  2.96it/s]"
          ]
        },
        {
          "output_type": "stream",
          "name": "stdout",
          "text": [
            "Step 6880, train loss:43993.4844, test loss:43296.3242\n"
          ]
        },
        {
          "output_type": "stream",
          "name": "stderr",
          "text": [
            " 69%|██████▉   | 6890/10000 [1:18:54<17:30,  2.96it/s]"
          ]
        },
        {
          "output_type": "stream",
          "name": "stdout",
          "text": [
            "Step 6890, train loss:25254.6367, test loss:25726.8027\n"
          ]
        },
        {
          "output_type": "stream",
          "name": "stderr",
          "text": [
            " 69%|██████▉   | 6900/10000 [1:18:59<17:02,  3.03it/s]"
          ]
        },
        {
          "output_type": "stream",
          "name": "stdout",
          "text": [
            "Step 6900, train loss:56067.5000, test loss:126046.1641\n",
            "\n",
            "\n",
            "ihi\n",
            "ertryw\n",
            "nnnnnnnnnnnnnnnmmvwvrvDvDvwnvovovDkkkkkk&&&&&&&&&&&&&&kckkkkkkkkkkkkkkkkkkkkkkkkkkkkkkkkkkkkkkkkkkkkkkkkkkkkkkkkkkkkkkkkkkkkkkkkkkkkkkkTkkkkkkkkkkkkkkkkkkkkkkkkkkkkkkkkkkkkkkkkkkkkkkkkkkkkkkkkkkkkkkkkTTTTkkTkkkTkTTTkkTTTTTkTkTTTTkkTkkkkTTkkkkkTTkT,k&TkhtowlI':a:kkkkkkkkkkkkkkkkkkkkkk:kkkkkkkEkkkkkkkkkkkkkkkkkkkkkkk&kkkkkBkkk&kkkkkkkkk&kkkkkkTkkk&kkkkkkk&kkkkkkkkkkk&kkkk:k&kkkkkkkkk&kkkkkkg&kkkk!kkkkkkkkkkkkkkkTk&TkkkkkkgTTk&k!TkkkkkkTkTkk&k,TTT!kkTkkkkTTkkk&kkkkTkkkkkkkTTkkkkkkTkTkTkkkTkTkkkkkkTTkkTTTTTkk,:g bhrrsJeo,&W!ne\n",
            "egg?nin ,Che,$kgBCZBB?:eOXeges ,oh,ltrolIIWakkkkBkkkkkkkk:kkkkkkkkkkkkkkkkkkk:kk:kk:kkkkkk:kkkk:kkkkkkkkk$kkkkkk::kk:kkkkkkkkkkkk$kkkk:kkkkkkkkkkkkk:kkkkkkkkkkkkkkkkk:kk!kkkk.kkkkkkkkkkkkkkkkkkkkkekkkkkkkkk.ke,k&!kk&kkkkkkkkk&k!kkkkkkkkkkkkkkkkkkkk:kkkkkkkkkekkTkkkkkT&kkkkTkkkk&kkkkkTkkTTk&gTe:'-Bhl,;hXeCgkIeMnCa.M.UBfkh ghly$riPkZ slgysaWhaXiaWOWeBrDe  ,.rb,,  hlsm& hafleTX&eXCXnC!HheHmeen-jrggCie,XH$C:e:.Ht, lokCFkkkkkkkkkkkkkkkkkkkkkBOkkkkkkkkkkkk&kkTkk\n",
            "Step 6900, train loss:102602.8047, test loss:66418.6484\n"
          ]
        },
        {
          "output_type": "stream",
          "name": "stderr",
          "text": [
            " 69%|██████▉   | 6910/10000 [1:19:22<28:49,  1.79it/s]"
          ]
        },
        {
          "output_type": "stream",
          "name": "stdout",
          "text": [
            "Step 6910, train loss:40644.1523, test loss:45954.8555\n"
          ]
        },
        {
          "output_type": "stream",
          "name": "stderr",
          "text": [
            " 69%|██████▉   | 6920/10000 [1:19:27<17:22,  2.96it/s]"
          ]
        },
        {
          "output_type": "stream",
          "name": "stdout",
          "text": [
            "Step 6920, train loss:23510.9102, test loss:24782.4180\n"
          ]
        },
        {
          "output_type": "stream",
          "name": "stderr",
          "text": [
            " 69%|██████▉   | 6930/10000 [1:19:32<16:45,  3.05it/s]"
          ]
        },
        {
          "output_type": "stream",
          "name": "stdout",
          "text": [
            "Step 6930, train loss:27817.0879, test loss:35716.5195\n"
          ]
        },
        {
          "output_type": "stream",
          "name": "stderr",
          "text": [
            " 69%|██████▉   | 6940/10000 [1:19:37<16:55,  3.01it/s]"
          ]
        },
        {
          "output_type": "stream",
          "name": "stdout",
          "text": [
            "Step 6940, train loss:17005.9004, test loss:31491.1758\n"
          ]
        },
        {
          "output_type": "stream",
          "name": "stderr",
          "text": [
            " 70%|██████▉   | 6950/10000 [1:19:42<16:59,  2.99it/s]"
          ]
        },
        {
          "output_type": "stream",
          "name": "stdout",
          "text": [
            "Step 6950, train loss:12224.3672, test loss:16106.9434\n"
          ]
        },
        {
          "output_type": "stream",
          "name": "stderr",
          "text": [
            " 70%|██████▉   | 6960/10000 [1:19:47<16:42,  3.03it/s]"
          ]
        },
        {
          "output_type": "stream",
          "name": "stdout",
          "text": [
            "Step 6960, train loss:7662.8853, test loss:8032.1030\n"
          ]
        },
        {
          "output_type": "stream",
          "name": "stderr",
          "text": [
            " 70%|██████▉   | 6970/10000 [1:19:52<16:40,  3.03it/s]"
          ]
        },
        {
          "output_type": "stream",
          "name": "stdout",
          "text": [
            "Step 6970, train loss:12111.8721, test loss:12758.3965\n"
          ]
        },
        {
          "output_type": "stream",
          "name": "stderr",
          "text": [
            " 70%|██████▉   | 6980/10000 [1:19:57<16:56,  2.97it/s]"
          ]
        },
        {
          "output_type": "stream",
          "name": "stdout",
          "text": [
            "Step 6980, train loss:6776.3877, test loss:7435.0181\n"
          ]
        },
        {
          "output_type": "stream",
          "name": "stderr",
          "text": [
            " 70%|██████▉   | 6990/10000 [1:20:02<16:34,  3.03it/s]"
          ]
        },
        {
          "output_type": "stream",
          "name": "stdout",
          "text": [
            "Step 6990, train loss:5579.2065, test loss:13736.7559\n"
          ]
        },
        {
          "output_type": "stream",
          "name": "stderr",
          "text": [
            " 70%|███████   | 7000/10000 [1:20:07<16:29,  3.03it/s]"
          ]
        },
        {
          "output_type": "stream",
          "name": "stdout",
          "text": [
            "Step 7000, train loss:4547.8037, test loss:4428.3018\n",
            "\n",
            "\n",
            "eeeohaesuoee  aee  ia ih esyi see pou heeeo  hihiee  meTee e   oRo,   wle e   ihiheeedAr ismle  Tatryr,oou dhSSusun?h?hantnwl,eneeedounou hip vid pllely3 anand losisellly'nsusunall:\n",
            "k toedikDe isihidinipinininininininininineideidedeYede,de,dA,\n",
            "daLedeBd;\n",
            "didMdsh WhiUwdod:dd\n",
            " Lowww -wa, Ww&wlid dwwwi:,idd dwibata oadis:  wwwwwitawlua nia\n",
            " uwww -w uu naTwi  wa pweim eisreeuTU midih Uw yIaT pwwwiti ThTpw yuiFmuRhoap iaTwain thuoep  hw pa sis hius hi- hidwi-ecThe'dTe' ewTe'dAe''Y'e't, noad dwwwa dw\n",
            "WhaTk haTpu dwTim? dwTwau vhT!w ghib 'aTw wwa\n",
            "aua& SwTww iaTw vhTIw hha yopad Eowhp  paYw aha dwy SwTw Tha pwA\n",
            " Uwww -wl dw Tha pwA dwTp dwYww \n",
            "h \n",
            "TporgTf:d\n",
            " iaTw: vwTI Tw\n",
            "-huTp pa thTi,qq Ph  hh p utlim haYhhe,\n",
            "Tpl;\n",
            "\n",
            "uvgh\n",
            "?\n",
            "\n",
            "T\n",
            "Th\n",
            "Th\n",
            "Tk Th\n",
            "va pwS SwTh  :i ThRp 'h?Lw 'hTa pa  wwwwa 'h  wik?  wa pwTp dw SwTw dwTw dwTw dwTw dwTw dwTw dwTw  waYw an  pa pap dw yowh dw SwTh  :i Thd  haT! pwa  wwwww dwTw dwTw dwTw dwTw dwTh  :i ThRp pa pap thri, q  q              Lh L!LL  huLw Lhu LhL?L  w BhPLeL?A? Lo \n",
            "Step 7000, train loss:4595.9336, test loss:4506.7246\n"
          ]
        },
        {
          "output_type": "stream",
          "name": "stderr",
          "text": [
            " 70%|███████   | 7010/10000 [1:20:31<27:59,  1.78it/s]"
          ]
        },
        {
          "output_type": "stream",
          "name": "stdout",
          "text": [
            "Step 7010, train loss:3488.8901, test loss:3375.4290\n"
          ]
        },
        {
          "output_type": "stream",
          "name": "stderr",
          "text": [
            " 70%|███████   | 7020/10000 [1:20:36<16:39,  2.98it/s]"
          ]
        },
        {
          "output_type": "stream",
          "name": "stdout",
          "text": [
            "Step 7020, train loss:7832.5547, test loss:6806.3345\n"
          ]
        },
        {
          "output_type": "stream",
          "name": "stderr",
          "text": [
            " 70%|███████   | 7030/10000 [1:20:41<16:18,  3.03it/s]"
          ]
        },
        {
          "output_type": "stream",
          "name": "stdout",
          "text": [
            "Step 7030, train loss:8807.2715, test loss:5559.0342\n"
          ]
        },
        {
          "output_type": "stream",
          "name": "stderr",
          "text": [
            " 70%|███████   | 7040/10000 [1:20:45<16:35,  2.97it/s]"
          ]
        },
        {
          "output_type": "stream",
          "name": "stdout",
          "text": [
            "Step 7040, train loss:7483.2148, test loss:7231.4658\n"
          ]
        },
        {
          "output_type": "stream",
          "name": "stderr",
          "text": [
            " 70%|███████   | 7050/10000 [1:20:50<16:17,  3.02it/s]"
          ]
        },
        {
          "output_type": "stream",
          "name": "stdout",
          "text": [
            "Step 7050, train loss:4199.4331, test loss:5047.9106\n"
          ]
        },
        {
          "output_type": "stream",
          "name": "stderr",
          "text": [
            " 71%|███████   | 7060/10000 [1:20:55<16:12,  3.02it/s]"
          ]
        },
        {
          "output_type": "stream",
          "name": "stdout",
          "text": [
            "Step 7060, train loss:3681.8098, test loss:5811.2803\n"
          ]
        },
        {
          "output_type": "stream",
          "name": "stderr",
          "text": [
            " 71%|███████   | 7070/10000 [1:21:00<16:29,  2.96it/s]"
          ]
        },
        {
          "output_type": "stream",
          "name": "stdout",
          "text": [
            "Step 7070, train loss:6653.0859, test loss:6664.4478\n"
          ]
        },
        {
          "output_type": "stream",
          "name": "stderr",
          "text": [
            " 71%|███████   | 7080/10000 [1:21:05<16:16,  2.99it/s]"
          ]
        },
        {
          "output_type": "stream",
          "name": "stdout",
          "text": [
            "Step 7080, train loss:13069.4209, test loss:14887.4531\n"
          ]
        },
        {
          "output_type": "stream",
          "name": "stderr",
          "text": [
            " 71%|███████   | 7090/10000 [1:21:10<16:00,  3.03it/s]"
          ]
        },
        {
          "output_type": "stream",
          "name": "stdout",
          "text": [
            "Step 7090, train loss:120216.2266, test loss:128405.1719\n"
          ]
        },
        {
          "output_type": "stream",
          "name": "stderr",
          "text": [
            " 71%|███████   | 7100/10000 [1:21:15<16:01,  3.01it/s]"
          ]
        },
        {
          "output_type": "stream",
          "name": "stdout",
          "text": [
            "Step 7100, train loss:96089.3594, test loss:93812.0000\n",
            "\n",
            "\n",
            "ihhlsh   Ihohe,at'lacxl                              w w w w wt':O.C th urCmNmyP,Z           w w w w wwww wwww wwwg w,ww wwwww wwwwwwwwwwwwdwg g gogXgt'&f. myt'Nt't'& y o  :Io thaurJNCmy 'l            wwww w w wwwwww w wwwwwwwww w w wwwwwwww   wwww wwww wwTowgkgwwgoo gw&kwooggowgoot'&Xkot ,wTt'\n",
            "uAhmmo  wTT t'sukmmmmm   wTgw wwTw wwTwxwwwwwwwwwwowwwowwxwToowkwwowkwwwgkwww wkTowwwwggowwkwsdxkgw ooTCowgggogwooggowwogooogooogooogogsgTggXggjogggggH&Cgggggjggggggggogggot',YkgmmvwT!ImggwmwgwggHTgTwwt'aukommgrmmmm t'lummmmmmmw!IIwwwwwwwwxwwxIxwwwwxwwwwxwwxwHHHTHXxHH&xHHTHHXHHXHHTHHHTHHXHHTHHHH&jHH&jHjH&jHH&jHH&HHH&HCHH&HHH&jHH&jHjH&HHH&HHCHH&jHvH&CgCHHHHCgHHCHgHHH&jHvH&Hvv&jggHggggHggHH&jggHgH&ggggggggggggggggggggggggggggggHgvgTgvgjgvg&ggggggHggggHggvv&Tvv&jvvTgvv&Tggoo   B C Ptr.Mnmmmmmm!mm!!!!!!!!!!!!!!!!!!!!!!!!!!!!!!!!!!!!!!!!!!!!!!!!!!!!!!!!!!!!!!!!!!!!!!!!HHHHT!!H!HHHHHT!!HHHHT!jH!HHHT!!j!HHHHT!HjHHHT!gjjgHjjHggg!gjgjjgjjjjjggggggjgggggjgjsggjHT,gjjj&gjjjggggv,ggjjgjjgggjgggjjjjgjggggggg\n",
            "Step 7100, train loss:111223.7969, test loss:99941.5234\n"
          ]
        },
        {
          "output_type": "stream",
          "name": "stderr",
          "text": [
            " 71%|███████   | 7110/10000 [1:21:39<26:58,  1.79it/s]"
          ]
        },
        {
          "output_type": "stream",
          "name": "stdout",
          "text": [
            "Step 7110, train loss:137151.5000, test loss:145307.1250\n"
          ]
        },
        {
          "output_type": "stream",
          "name": "stderr",
          "text": [
            " 71%|███████   | 7120/10000 [1:21:44<16:03,  2.99it/s]"
          ]
        },
        {
          "output_type": "stream",
          "name": "stdout",
          "text": [
            "Step 7120, train loss:58863.5391, test loss:62629.1992\n"
          ]
        },
        {
          "output_type": "stream",
          "name": "stderr",
          "text": [
            " 71%|███████▏  | 7130/10000 [1:21:49<16:00,  2.99it/s]"
          ]
        },
        {
          "output_type": "stream",
          "name": "stdout",
          "text": [
            "Step 7130, train loss:32634.1035, test loss:35067.8164\n"
          ]
        },
        {
          "output_type": "stream",
          "name": "stderr",
          "text": [
            " 71%|███████▏  | 7140/10000 [1:21:54<15:56,  2.99it/s]"
          ]
        },
        {
          "output_type": "stream",
          "name": "stdout",
          "text": [
            "Step 7140, train loss:16197.6045, test loss:17318.8184\n"
          ]
        },
        {
          "output_type": "stream",
          "name": "stderr",
          "text": [
            " 72%|███████▏  | 7150/10000 [1:21:59<15:40,  3.03it/s]"
          ]
        },
        {
          "output_type": "stream",
          "name": "stdout",
          "text": [
            "Step 7150, train loss:16654.2168, test loss:11610.7793\n"
          ]
        },
        {
          "output_type": "stream",
          "name": "stderr",
          "text": [
            " 72%|███████▏  | 7160/10000 [1:22:04<15:36,  3.03it/s]"
          ]
        },
        {
          "output_type": "stream",
          "name": "stdout",
          "text": [
            "Step 7160, train loss:7092.2358, test loss:7286.8345\n"
          ]
        },
        {
          "output_type": "stream",
          "name": "stderr",
          "text": [
            " 72%|███████▏  | 7170/10000 [1:22:09<15:55,  2.96it/s]"
          ]
        },
        {
          "output_type": "stream",
          "name": "stdout",
          "text": [
            "Step 7170, train loss:5723.3818, test loss:6764.8188\n"
          ]
        },
        {
          "output_type": "stream",
          "name": "stderr",
          "text": [
            " 72%|███████▏  | 7180/10000 [1:22:14<15:33,  3.02it/s]"
          ]
        },
        {
          "output_type": "stream",
          "name": "stdout",
          "text": [
            "Step 7180, train loss:5046.7393, test loss:5557.9165\n"
          ]
        },
        {
          "output_type": "stream",
          "name": "stderr",
          "text": [
            " 72%|███████▏  | 7190/10000 [1:22:18<15:25,  3.04it/s]"
          ]
        },
        {
          "output_type": "stream",
          "name": "stdout",
          "text": [
            "Step 7190, train loss:4551.1113, test loss:4503.5635\n"
          ]
        },
        {
          "output_type": "stream",
          "name": "stderr",
          "text": [
            " 72%|███████▏  | 7200/10000 [1:22:23<15:41,  2.97it/s]"
          ]
        },
        {
          "output_type": "stream",
          "name": "stdout",
          "text": [
            "Step 7200, train loss:3643.3508, test loss:3765.6821\n",
            "\n",
            "\n",
            "a\n",
            "\n",
            "\n",
            "\n",
            "\n",
            "\n",
            "hh\n",
            "ehrYrwIo wrkw wrBwi aih Yr\n",
            "ghi wiatiaurve mw   la e o w\n",
            "\n",
            "\n",
            "\n",
            "\n",
            "lreesalledw'lilae\n",
            "\n",
            "\n",
            "\n",
            "\n",
            "llIes.Iedsrsenersennesteiu,. dored dwdelddeddddnd IereIdddndrddrdrdndIrndddddII?dsds?dIImedIIdd mt'\n",
            "Irdddddet:dc his':\n",
            "\n",
            "ou licksobecloPounec'cin !osisg\n",
            "A:  !tor iskgsIHreTrI'dbTlrIRrdT'rrdIrgoyg'i-urT \n",
            "ATr'T\n",
            "'Trd dH'TdTd'dTrrdmet' uCTdd ww'dIddwd rrTd!'dddrdrndIdndddlTr!Twdddder!Mt'''!Te'Te'ndddn dTudClXwdd'ddo\n",
            "rdT'ndMnrdnddddRder!dd'ddddrrnnrgt:c''  oTodnrno rp'dnnr-rdTrrdnnldnddTdrTddTdddddrt'k'!'\n",
            "d rlTd 'arht.sXIRgkw\n",
            "wwThnc\n",
            "twLx'Jhi rawlllnnlrrdnej\n",
            "dd''rrhdrdwRH'ToIdr\n",
            "rr'ToRddddrdd\n",
            "drT'r''dHT\n",
            "drT'dT'rrIdt'k-H''m'krmdnlgm\n",
            "wt'''kgTo\n",
            "tu XI'qnt't''t''t''t''t'Tt'Lt'TWLgrgMdg'Mdt'Tt'TEdt'kt'b,.rrrt' 's'OgrhetaMsIrg.rrg. .R'Ugdt'krdrt'kt'rt'rTg errgt-oeuMtisit' e r\n",
            "r   .Thro \n",
            " e r r,drr,  STwgr\n",
            "taa.T\n",
            "oloq rdIe rrHgrgrwrrrgo e u ; r r r rrr   erIM  \n",
            "ooAWfj roh  wNd  ogwg ev'SdrHr \n",
            " erOTrwwo o e\n",
            "e   \n",
            "ogIWdw o ofoA oATS ol'db\n",
            "o r orrb orTUU es'OrrOro ooMh olOU\n",
            "\n",
            " uA.r\n",
            " roqU\n",
            "w ubTo\n",
            " rR'dI&\n",
            "arbWdeeadmFEfT\n",
            "Step 7200, train loss:3970.0242, test loss:4029.1641\n"
          ]
        },
        {
          "output_type": "stream",
          "name": "stderr",
          "text": [
            " 72%|███████▏  | 7210/10000 [1:22:47<25:55,  1.79it/s]"
          ]
        },
        {
          "output_type": "stream",
          "name": "stdout",
          "text": [
            "Step 7210, train loss:3532.6992, test loss:3462.7239\n"
          ]
        },
        {
          "output_type": "stream",
          "name": "stderr",
          "text": [
            " 72%|███████▏  | 7220/10000 [1:22:52<15:30,  2.99it/s]"
          ]
        },
        {
          "output_type": "stream",
          "name": "stdout",
          "text": [
            "Step 7220, train loss:3221.1460, test loss:8039.8330\n"
          ]
        },
        {
          "output_type": "stream",
          "name": "stderr",
          "text": [
            " 72%|███████▏  | 7230/10000 [1:22:57<15:30,  2.98it/s]"
          ]
        },
        {
          "output_type": "stream",
          "name": "stdout",
          "text": [
            "Step 7230, train loss:2566.2227, test loss:2787.6343\n"
          ]
        },
        {
          "output_type": "stream",
          "name": "stderr",
          "text": [
            " 72%|███████▏  | 7240/10000 [1:23:02<15:10,  3.03it/s]"
          ]
        },
        {
          "output_type": "stream",
          "name": "stdout",
          "text": [
            "Step 7240, train loss:2839.8608, test loss:3208.7524\n"
          ]
        },
        {
          "output_type": "stream",
          "name": "stderr",
          "text": [
            " 72%|███████▎  | 7250/10000 [1:23:07<15:06,  3.03it/s]"
          ]
        },
        {
          "output_type": "stream",
          "name": "stdout",
          "text": [
            "Step 7250, train loss:2512.9451, test loss:2471.4600\n"
          ]
        },
        {
          "output_type": "stream",
          "name": "stderr",
          "text": [
            " 73%|███████▎  | 7260/10000 [1:23:12<15:20,  2.98it/s]"
          ]
        },
        {
          "output_type": "stream",
          "name": "stdout",
          "text": [
            "Step 7260, train loss:2398.7024, test loss:2179.2954\n"
          ]
        },
        {
          "output_type": "stream",
          "name": "stderr",
          "text": [
            " 73%|███████▎  | 7270/10000 [1:23:17<15:05,  3.01it/s]"
          ]
        },
        {
          "output_type": "stream",
          "name": "stdout",
          "text": [
            "Step 7270, train loss:2212.3335, test loss:2249.2024\n"
          ]
        },
        {
          "output_type": "stream",
          "name": "stderr",
          "text": [
            " 73%|███████▎  | 7280/10000 [1:23:22<15:00,  3.02it/s]"
          ]
        },
        {
          "output_type": "stream",
          "name": "stdout",
          "text": [
            "Step 7280, train loss:2332.4802, test loss:2679.9202\n"
          ]
        },
        {
          "output_type": "stream",
          "name": "stderr",
          "text": [
            " 73%|███████▎  | 7290/10000 [1:23:27<15:04,  3.00it/s]"
          ]
        },
        {
          "output_type": "stream",
          "name": "stdout",
          "text": [
            "Step 7290, train loss:2267.5210, test loss:2424.7859\n"
          ]
        },
        {
          "output_type": "stream",
          "name": "stderr",
          "text": [
            " 73%|███████▎  | 7300/10000 [1:23:32<15:09,  2.97it/s]"
          ]
        },
        {
          "output_type": "stream",
          "name": "stdout",
          "text": [
            "Step 7300, train loss:1922.2947, test loss:2207.3652\n",
            "\n",
            "\n",
            "aei\n",
            "ihah wiihrhhahohahh\n",
            "\n",
            "hhhhahhehhhahohhhohahahehea\n",
            "\n",
            "\n",
            "\n",
            "\n",
            "\n",
            "A\n",
            "trehp'o???\n",
            "miel\n",
            "'c\n",
            "lo,\n",
            "\n",
            "\n",
            "I\n",
            "wi\n",
            "ll\n",
            "\n",
            "A\n",
            "\n",
            "IiPh\n",
            "\n",
            "\n",
            "\n",
            "\n",
            "\n",
            "\n",
            "\n",
            "\n",
            "\n",
            "\n",
            "\n",
            "\n",
            "\n",
            "\n",
            "\n",
            "e\n",
            "rk\n",
            "\n",
            "\n",
            "I\n",
            "\n",
            "aaaanond\n",
            "aaaaaaaaaaJ'aaaaaaanon oith ' eseeeYeeeeIeee'Yssst\n",
            "$unmeeeIeeeeA'eee'Atymcn owdow yoaaridaris:!r!r!n!!!!d!drd!!!!!d!!!TTddTAsddndnddgdIg!dePTddTddTeddT ddTddN'o dTPTndsrTddTddNTt:kzMoeddd - E-TnCnrIG -LTInHe -''TITrIrnenIdo\n",
            " re'T;qddTeyArddnd dD&Ttilzjay rTw:CwH'mTndwyinwlnwl ul'\n",
            "  rTer\n",
            "wdTgeeHTe\n",
            "di''TT'\n",
            "enePewXdaLert'mTMerBTeTeC\n",
            "wvY;hge\n",
            "t'Xy'Fuad\n",
            " ikhaI en'Te e PH',HT \n",
            "\n",
            "TeCWT'y\n",
            " e\n",
            "'rqq\n",
            "\n",
            "Io'T\n",
            " w\n",
            "'\n",
            " ybTYr,e ukA\n",
            "\n",
            "\n",
            " ToHerN\n",
            "arnIeeg\n",
            " O&'ddde\n",
            "er'T\n",
            "e\n",
            "h\n",
            "e\n",
            "d\n",
            " ybTe,GAer\n",
            "\n",
            "\n",
            "mwm'dyk\n",
            "o eekOno\n",
            "\n",
            "\n",
            "t\n",
            "!'kW&St' XkrOgnlljooIe  inkirj wdTle eY'Trn d 'ITdlHrnnrrddIrdddIr\n",
            "\n",
            "dH''dTerrddNIdnn\n",
            "er'TIdT d 'sTb rt'& enCCd 'v'gdrrddt' HT vt'&caI  TkPTwRw nh'Trew dd'Tldre s''Tdtkmc'rIin e udT\n",
            "   ToOherC\n",
            "dr'T  aE ne'TwkddRer''\n",
            "rt'''knLder   E boHT PoMUtg e 't'Tad rTwgnruts. 3i - -j en-   'H$e -Twpdjw egTedTSI e!TM edTdidjt'k\n",
            "v'';T ,nCdndM \n",
            " PTgH&,H  t'e$&pd r 't'Tio \n",
            "nC\n",
            "c\n",
            "w \n",
            " \n",
            "\n",
            "loHh\n",
            "wi\n",
            "Step 7300, train loss:1871.6985, test loss:1990.9436\n"
          ]
        },
        {
          "output_type": "stream",
          "name": "stderr",
          "text": [
            " 73%|███████▎  | 7310/10000 [1:23:55<24:53,  1.80it/s]"
          ]
        },
        {
          "output_type": "stream",
          "name": "stdout",
          "text": [
            "Step 7310, train loss:1908.9355, test loss:1750.2312\n"
          ]
        },
        {
          "output_type": "stream",
          "name": "stderr",
          "text": [
            " 73%|███████▎  | 7320/10000 [1:24:00<15:20,  2.91it/s]"
          ]
        },
        {
          "output_type": "stream",
          "name": "stdout",
          "text": [
            "Step 7320, train loss:1698.4316, test loss:2054.7837\n"
          ]
        },
        {
          "output_type": "stream",
          "name": "stderr",
          "text": [
            " 73%|███████▎  | 7330/10000 [1:24:05<14:43,  3.02it/s]"
          ]
        },
        {
          "output_type": "stream",
          "name": "stdout",
          "text": [
            "Step 7330, train loss:2011.3284, test loss:1977.8137\n"
          ]
        },
        {
          "output_type": "stream",
          "name": "stderr",
          "text": [
            " 73%|███████▎  | 7340/10000 [1:24:10<14:36,  3.04it/s]"
          ]
        },
        {
          "output_type": "stream",
          "name": "stdout",
          "text": [
            "Step 7340, train loss:1608.7201, test loss:1716.4769\n"
          ]
        },
        {
          "output_type": "stream",
          "name": "stderr",
          "text": [
            " 74%|███████▎  | 7350/10000 [1:24:15<14:50,  2.98it/s]"
          ]
        },
        {
          "output_type": "stream",
          "name": "stdout",
          "text": [
            "Step 7350, train loss:2227.2312, test loss:2337.7710\n"
          ]
        },
        {
          "output_type": "stream",
          "name": "stderr",
          "text": [
            " 74%|███████▎  | 7360/10000 [1:24:20<14:51,  2.96it/s]"
          ]
        },
        {
          "output_type": "stream",
          "name": "stdout",
          "text": [
            "Step 7360, train loss:1636.9091, test loss:2332.8650\n"
          ]
        },
        {
          "output_type": "stream",
          "name": "stderr",
          "text": [
            " 74%|███████▎  | 7370/10000 [1:24:25<14:31,  3.02it/s]"
          ]
        },
        {
          "output_type": "stream",
          "name": "stdout",
          "text": [
            "Step 7370, train loss:2204.7192, test loss:2801.5334\n"
          ]
        },
        {
          "output_type": "stream",
          "name": "stderr",
          "text": [
            " 74%|███████▍  | 7380/10000 [1:24:30<14:23,  3.04it/s]"
          ]
        },
        {
          "output_type": "stream",
          "name": "stdout",
          "text": [
            "Step 7380, train loss:2957.2727, test loss:3042.8193\n"
          ]
        },
        {
          "output_type": "stream",
          "name": "stderr",
          "text": [
            " 74%|███████▍  | 7390/10000 [1:24:35<14:37,  2.97it/s]"
          ]
        },
        {
          "output_type": "stream",
          "name": "stdout",
          "text": [
            "Step 7390, train loss:3616.0554, test loss:2415.6943\n"
          ]
        },
        {
          "output_type": "stream",
          "name": "stderr",
          "text": [
            " 74%|███████▍  | 7400/10000 [1:24:40<14:18,  3.03it/s]"
          ]
        },
        {
          "output_type": "stream",
          "name": "stdout",
          "text": [
            "Step 7400, train loss:3817.1582, test loss:2271.2849\n",
            "\n",
            "\n",
            "iihhhhhhhh hyaher  i,r ihae io th   hi et,  No bulig hil hadNhil i;d heXed,ou,edsk,  k,geanb,\n",
            "be,gImeeeI,eo,geeeeeedkgbblAbeost\n",
            " b'Fd heleeeeeeeeeeeeeeeeeeeeeeeeeeolenld, rETeel,\n",
            "benfcdNbeqlgeIl\n",
            "BoblceeerO:knte NTohdord too  dh ro  go ax rl$he lloeo And n PooDCvoxUSoooononn,xrooodoood ro$'ooooooeooo \n",
            "oMT''''m'oooooooooooooooooooooooooooooooooooooooooooooooooooooooooooooooosoooooooooooooonoooonooooosooooooomoooooooooooooooooooooooooooooio'o'o''''''''''''''''''''T'''''''''''yTg ''hk;''NT'T'''' kPhp!$lVTdSumCrmZ ?ig un?.h\n",
            "? ?eB\n",
            ".\n",
            "uuu!O hOBgl\n",
            "ka3Ut?,twaoGooi;';;;';''''';''o;;';;'';'';'';'';'';T';'Zoo c'T;o;ov;' ;''T; 'ogTolToo ol't:np'; 'c&b:mnh l Poohogo t; lu n,'Tllmll l Nh;mhhc hl',kmVht:kpxCmrcorrI\n",
            " .c&?mN  lCTo obkSd Nf&mbmbolUo  nePN,lc\n",
            "arbb BTuEbmmhdgUmdmrt'e\n",
            "muMUrrt: ZUTbmoaray uwPTloao erPClr-\n",
            "ardOTrrGrt'khLermo BSTerrrrgmr\n",
            "rohqCcdkT\n",
            " rrTrrPrrrrrrt'\n",
            "'Lbgmoykrmdmrr PTeUdgkrrGrrRer'rgwv\n",
            "'fkgcwwldUyrrrrr\n",
            " .H$ThrrC rihU enCTlo\n",
            "drTUoe.U\n",
            " -o;TcYdw C\n",
            "NTyWTel''o\n",
            "U e U r N eikbUr\n",
            "r Y U r U\n",
            "Step 7400, train loss:1727.4246, test loss:2223.9399\n"
          ]
        },
        {
          "output_type": "stream",
          "name": "stderr",
          "text": [
            " 74%|███████▍  | 7410/10000 [1:25:03<24:14,  1.78it/s]"
          ]
        },
        {
          "output_type": "stream",
          "name": "stdout",
          "text": [
            "Step 7410, train loss:1618.7599, test loss:1559.0549\n"
          ]
        },
        {
          "output_type": "stream",
          "name": "stderr",
          "text": [
            " 74%|███████▍  | 7420/10000 [1:25:08<14:39,  2.93it/s]"
          ]
        },
        {
          "output_type": "stream",
          "name": "stdout",
          "text": [
            "Step 7420, train loss:1546.7640, test loss:1494.3455\n"
          ]
        },
        {
          "output_type": "stream",
          "name": "stderr",
          "text": [
            " 74%|███████▍  | 7430/10000 [1:25:13<14:06,  3.04it/s]"
          ]
        },
        {
          "output_type": "stream",
          "name": "stdout",
          "text": [
            "Step 7430, train loss:2033.3453, test loss:2085.7349\n"
          ]
        },
        {
          "output_type": "stream",
          "name": "stderr",
          "text": [
            " 74%|███████▍  | 7440/10000 [1:25:18<14:02,  3.04it/s]"
          ]
        },
        {
          "output_type": "stream",
          "name": "stdout",
          "text": [
            "Step 7440, train loss:1384.4374, test loss:1512.9342\n"
          ]
        },
        {
          "output_type": "stream",
          "name": "stderr",
          "text": [
            " 74%|███████▍  | 7450/10000 [1:25:23<14:24,  2.95it/s]"
          ]
        },
        {
          "output_type": "stream",
          "name": "stdout",
          "text": [
            "Step 7450, train loss:2354.6057, test loss:3071.2739\n"
          ]
        },
        {
          "output_type": "stream",
          "name": "stderr",
          "text": [
            " 75%|███████▍  | 7460/10000 [1:25:28<13:55,  3.04it/s]"
          ]
        },
        {
          "output_type": "stream",
          "name": "stdout",
          "text": [
            "Step 7460, train loss:2623.0493, test loss:2991.9814\n"
          ]
        },
        {
          "output_type": "stream",
          "name": "stderr",
          "text": [
            " 75%|███████▍  | 7470/10000 [1:25:33<13:50,  3.05it/s]"
          ]
        },
        {
          "output_type": "stream",
          "name": "stdout",
          "text": [
            "Step 7470, train loss:2010.2141, test loss:2013.8933\n"
          ]
        },
        {
          "output_type": "stream",
          "name": "stderr",
          "text": [
            " 75%|███████▍  | 7480/10000 [1:25:38<14:08,  2.97it/s]"
          ]
        },
        {
          "output_type": "stream",
          "name": "stdout",
          "text": [
            "Step 7480, train loss:2270.6313, test loss:2427.1074\n"
          ]
        },
        {
          "output_type": "stream",
          "name": "stderr",
          "text": [
            " 75%|███████▍  | 7490/10000 [1:25:43<13:55,  3.00it/s]"
          ]
        },
        {
          "output_type": "stream",
          "name": "stdout",
          "text": [
            "Step 7490, train loss:2566.8198, test loss:2662.3108\n"
          ]
        },
        {
          "output_type": "stream",
          "name": "stderr",
          "text": [
            " 75%|███████▌  | 7500/10000 [1:25:48<13:44,  3.03it/s]"
          ]
        },
        {
          "output_type": "stream",
          "name": "stdout",
          "text": [
            "Step 7500, train loss:1774.4883, test loss:2034.2092\n",
            "\n",
            "\n",
            "iehhha\n",
            "hehihihh\n",
            "i we giog  ihaeheheihe ih ao\n",
            "   ee\n",
            "ele erree\n",
            "oooa wroai Y wkSgkgCuB;huBkmggt,ihs  y \n",
            "A,llaan! laele' meNoo aeeemeeeeeeeeeee mo  ib  mRrer aNeno mo ol  PE nor towuo y s  to s lit so$rdsislild bor dos porsivilvilloF, touemyyo aalaaal maill l Ph$hSoi\n",
            "hhGWhcGoinhy, h,$Tnoinhn\n",
            "\n",
            "D\n",
            "'\n",
            ",nCWhTcoyOhnnnydwot -'&IdCvwMdRwaEr\n",
            "\n",
            "\n",
            "toH$I e PH$UdRrUTE ZGT,DCsUrrn,sDRwsrbRRB$'fGwt:kmMskgrnpmwswvUwd ; Pi!gIRrums,dRwsartToGmu\n",
            "n PsPTgt -kxbnggwsAhE w,$CdRPdarrn UTuaIvS\n",
            "wvxWbmNwaEay ov$Y\n",
            "mIRcrEhDbnhdaaal h Po-heaW-Fv'e e Pohhhh a h\n",
            "w annI haryI u PohcCerrrt' 'ohhmhhhinn \n",
            "m$Yhhhhh\n",
            " a.Nm\n",
            "yI'e\n",
            "ewkc\n",
            "w\n",
            "up\n",
            "cIRc\n",
            "NkT;gc?\n",
            "  c&T\n",
            "dArhrt y.Pday to ru \n",
            " - d w  s:T   ET dmGTlT  \n",
            "$T\n",
            ";HHOH$'HatercG\n",
            " !CTt-ksxbbmKbnatGakrtT ;H$Cntissb,  auMI \n",
            "R$BgTd.wase- Of$$sUrtTkoTergo\n",
            "rcvgrrr\n",
            " .c$T ; Poyd wi\n",
            " io. itknLtTosU  ihrtTmLk ;oherI \n",
            "R$rcdtX\n",
            "'wygr  wpw il\n",
            " o edO, usr  w$Te e uik  wC?er, r Poye  RPTo e u,C dbk  ar  w$Tep\n",
            "\n",
            "inyu \n",
            " u\n",
            "g   ETIy to yiu,Hot ;haw waKT  erTSrmS itGink arTI battlw'wywv e u ; ; ; ; ;io\n",
            " ; ;rHPY\n",
            "Step 7500, train loss:1778.8707, test loss:1972.8187\n"
          ]
        },
        {
          "output_type": "stream",
          "name": "stderr",
          "text": [
            " 75%|███████▌  | 7510/10000 [1:26:12<23:17,  1.78it/s]"
          ]
        },
        {
          "output_type": "stream",
          "name": "stdout",
          "text": [
            "Step 7510, train loss:1524.8849, test loss:1374.7228\n"
          ]
        },
        {
          "output_type": "stream",
          "name": "stderr",
          "text": [
            " 75%|███████▌  | 7520/10000 [1:26:17<13:57,  2.96it/s]"
          ]
        },
        {
          "output_type": "stream",
          "name": "stdout",
          "text": [
            "Step 7520, train loss:1523.2351, test loss:1869.4788\n"
          ]
        },
        {
          "output_type": "stream",
          "name": "stderr",
          "text": [
            " 75%|███████▌  | 7530/10000 [1:26:22<13:41,  3.01it/s]"
          ]
        },
        {
          "output_type": "stream",
          "name": "stdout",
          "text": [
            "Step 7530, train loss:1303.8632, test loss:1322.3134\n"
          ]
        },
        {
          "output_type": "stream",
          "name": "stderr",
          "text": [
            " 75%|███████▌  | 7540/10000 [1:26:26<13:49,  2.96it/s]"
          ]
        },
        {
          "output_type": "stream",
          "name": "stdout",
          "text": [
            "Step 7540, train loss:1236.3688, test loss:1170.5806\n"
          ]
        },
        {
          "output_type": "stream",
          "name": "stderr",
          "text": [
            " 76%|███████▌  | 7550/10000 [1:26:31<13:33,  3.01it/s]"
          ]
        },
        {
          "output_type": "stream",
          "name": "stdout",
          "text": [
            "Step 7550, train loss:959.7736, test loss:1097.3192\n"
          ]
        },
        {
          "output_type": "stream",
          "name": "stderr",
          "text": [
            " 76%|███████▌  | 7560/10000 [1:26:36<13:23,  3.04it/s]"
          ]
        },
        {
          "output_type": "stream",
          "name": "stdout",
          "text": [
            "Step 7560, train loss:1096.8114, test loss:1118.7827\n"
          ]
        },
        {
          "output_type": "stream",
          "name": "stderr",
          "text": [
            " 76%|███████▌  | 7570/10000 [1:26:41<13:32,  2.99it/s]"
          ]
        },
        {
          "output_type": "stream",
          "name": "stdout",
          "text": [
            "Step 7570, train loss:759.6405, test loss:877.9576\n"
          ]
        },
        {
          "output_type": "stream",
          "name": "stderr",
          "text": [
            " 76%|███████▌  | 7580/10000 [1:26:46<13:42,  2.94it/s]"
          ]
        },
        {
          "output_type": "stream",
          "name": "stdout",
          "text": [
            "Step 7580, train loss:1142.9315, test loss:1262.7643\n"
          ]
        },
        {
          "output_type": "stream",
          "name": "stderr",
          "text": [
            " 76%|███████▌  | 7590/10000 [1:26:51<13:14,  3.03it/s]"
          ]
        },
        {
          "output_type": "stream",
          "name": "stdout",
          "text": [
            "Step 7590, train loss:1438.5903, test loss:1112.3167\n"
          ]
        },
        {
          "output_type": "stream",
          "name": "stderr",
          "text": [
            " 76%|███████▌  | 7600/10000 [1:26:56<13:14,  3.02it/s]"
          ]
        },
        {
          "output_type": "stream",
          "name": "stdout",
          "text": [
            "Step 7600, train loss:1272.3958, test loss:1556.6703\n",
            "\n",
            "\n",
            "ie\n",
            "\n",
            "\n",
            "hi wihn w oh  ou  ih   ir  ir   mr uoo .ir .\n",
            "A wo  Rimin uig o u  m Pinkf dhimf de    \n",
            "e\n",
            "\n",
            "\n",
            "\n",
            "\n",
            "\n",
            "\n",
            "\n",
            "\n",
            "\n",
            "\n",
            "\n",
            "\n",
            "\n",
            "\n",
            "\n",
            "\n",
            "\n",
            "\n",
            "\n",
            "\n",
            "\n",
            "\n",
            "\n",
            "o\n",
            " oeeme;yI yoeheeeeeee yoooooeee yo eis we e e  e  re  he \n",
            "\n",
            "e  welZe gPe ea e h he e \n",
            "\n",
            "e   EoeJpye; a eareeeee ly\n",
            "\n",
            "\n",
            "\n",
            "eere ec\n",
            "\n",
            "ol  helol l gBT uCP pakh CPg? vBih rlmmr sPH UrHBo  g?B$ oo Sl& gHon ko& ozTe;Ss\n",
            "o t ?'ga&iI,,g,I lwTr rTHwh rwPmr;filol m,$arrLr;ayihrirllrmrikylrmPrryfrrrrrrmfarekrinrare Lmkmiremn rJPmEfumF eePThrmofawr rm$m Zauf,elo-LoMmerrr emCmiaiewfrmmaara;e?eyxoforfTae eP&Cf\n",
            "EfPPma B;$TisMaoeeEPErmfafayePfPfTrfamEGm Pm$$;t3osBc:xTE:S:x eiXSUxio dmMFlal;l;ovoul;llo;awhLo;;bRhaooooihltwau;pailllll al$bl;lllalalrlldad lmCdlPl$lamay uawblHcayt yg hmm yoy w Patr i:P . PRPmmChh.c\n",
            " PcPP  \n",
            "CTo;JTy awP drPT ;ePPT\n",
            "wrreedwcrom. rl$CgrrrrIdbkt;ryWfantwahilrnwtGeymCneaE  m$TUC  iePNCewyE e\n",
            "PdRgea,\n",
            "erPWgrc\n",
            "errOrc-escptTirkramderCiaredminwa !\n",
            "CdT;mpCePc$t\n",
            " e'kbIy\n",
            "  wNPdmrr \n",
            "\n",
            "CeCWC,yE aioy u Poqmgdmme e Pgc; rRPTdrr, \n",
            "!HT;C e PTer\n",
            "erPW\n",
            " dmgP \n",
            "arrI cPT rePTi,rrrrtGu.Trrrr\n",
            "Step 7600, train loss:1269.5623, test loss:1889.9309\n"
          ]
        },
        {
          "output_type": "stream",
          "name": "stderr",
          "text": [
            " 76%|███████▌  | 7610/10000 [1:27:20<22:27,  1.77it/s]"
          ]
        },
        {
          "output_type": "stream",
          "name": "stdout",
          "text": [
            "Step 7610, train loss:1369.8557, test loss:1450.8345\n"
          ]
        },
        {
          "output_type": "stream",
          "name": "stderr",
          "text": [
            " 76%|███████▌  | 7620/10000 [1:27:25<13:22,  2.96it/s]"
          ]
        },
        {
          "output_type": "stream",
          "name": "stdout",
          "text": [
            "Step 7620, train loss:940.2829, test loss:936.8332\n"
          ]
        },
        {
          "output_type": "stream",
          "name": "stderr",
          "text": [
            " 76%|███████▋  | 7630/10000 [1:27:30<13:10,  3.00it/s]"
          ]
        },
        {
          "output_type": "stream",
          "name": "stdout",
          "text": [
            "Step 7630, train loss:989.5246, test loss:1155.6660\n"
          ]
        },
        {
          "output_type": "stream",
          "name": "stderr",
          "text": [
            " 76%|███████▋  | 7640/10000 [1:27:35<13:17,  2.96it/s]"
          ]
        },
        {
          "output_type": "stream",
          "name": "stdout",
          "text": [
            "Step 7640, train loss:994.5506, test loss:1099.5846\n"
          ]
        },
        {
          "output_type": "stream",
          "name": "stderr",
          "text": [
            " 76%|███████▋  | 7650/10000 [1:27:40<12:56,  3.03it/s]"
          ]
        },
        {
          "output_type": "stream",
          "name": "stdout",
          "text": [
            "Step 7650, train loss:843.7123, test loss:930.9030\n"
          ]
        },
        {
          "output_type": "stream",
          "name": "stderr",
          "text": [
            " 77%|███████▋  | 7660/10000 [1:27:45<12:50,  3.04it/s]"
          ]
        },
        {
          "output_type": "stream",
          "name": "stdout",
          "text": [
            "Step 7660, train loss:1070.2379, test loss:938.7721\n"
          ]
        },
        {
          "output_type": "stream",
          "name": "stderr",
          "text": [
            " 77%|███████▋  | 7670/10000 [1:27:50<13:03,  2.98it/s]"
          ]
        },
        {
          "output_type": "stream",
          "name": "stdout",
          "text": [
            "Step 7670, train loss:776.0171, test loss:752.1573\n"
          ]
        },
        {
          "output_type": "stream",
          "name": "stderr",
          "text": [
            " 77%|███████▋  | 7680/10000 [1:27:55<12:44,  3.04it/s]"
          ]
        },
        {
          "output_type": "stream",
          "name": "stdout",
          "text": [
            "Step 7680, train loss:1322.9562, test loss:1023.5907\n"
          ]
        },
        {
          "output_type": "stream",
          "name": "stderr",
          "text": [
            " 77%|███████▋  | 7690/10000 [1:28:00<12:42,  3.03it/s]"
          ]
        },
        {
          "output_type": "stream",
          "name": "stdout",
          "text": [
            "Step 7690, train loss:1099.1541, test loss:1133.0659\n"
          ]
        },
        {
          "output_type": "stream",
          "name": "stderr",
          "text": [
            " 77%|███████▋  | 7700/10000 [1:28:05<12:59,  2.95it/s]"
          ]
        },
        {
          "output_type": "stream",
          "name": "stdout",
          "text": [
            "Step 7700, train loss:719.0913, test loss:827.5529\n",
            "\n",
            "\n",
            "e\n",
            " i heet hr,ees:eees:ces,rd tio asreteeeeeeeeeeet\n",
            "Br tie ,\n",
            "ase;aye and, witel nenpoteort.\n",
            "ealet, u out be thor ecHeles tie\n",
            ", o!\n",
            "not\n",
            "Thiwhtle ti e out beaesen thidhut ontoun tre titsld titedtNa ti\n",
            " fcgous,\n",
            "Yo youteerounoteayhe unecane we ste out o  Lsr m,$, ; ; E r ; ; E r ; ; E Eat' ;C-s ;pgIs !\n",
            "w   o .lOs   ercW - erOTErD   ee F\n",
            "itkyiMIsD rohcev u e uvBestH$$krErrRo B,MTherErtZTos rrgFrrrsEsrI\n",
            " .C.PrGrrrwseGsEjRsWTd - o ve!$Cdwt-\n",
            "sxkWgT,om cPTTmprn  !C?EmdwvewW\n",
            " dvPPevgErdb O PbTbadd PdPdisgrbltGu!kesrrddSwinieCdiCr P Pekbilv P PekbH eLPTdrbnitGuIkr\n",
            "dePW eeegU  3Tr gsrIg  w$mrd  \n",
            "CTrIIgw rrHg Oihyb iogrrbbegggk ; PePSH e 3sHge   ioH\n",
            "doY;CtriyrerrGrrwwm erPC !lkdr!w e PTi\n",
            "bePWIkw\n",
            "l EtZEgkrbilo  nCk\n",
            "esrCdr-hePcrc-llTrbRr\n",
            "htAy'e?cpk\n",
            "hoRnr';e  cNT; Ciohbo riMGiD r PiePcdhhirerrisgn\n",
            "ivNgoh&c rrHbinrefyikPlrgrlolot:ly-$ c Pabmblvlbbt:aurerrluwbarw w e b\n",
            "; ty 'arI thatisJmudsdwt'kgka\n",
            "mhmge   arc; V\n",
            "w   WTI e PH$hat'GkvOeggaray u PhNcC   PThgf$sr ; PoYgfCrrrao !ohhc\n",
            "alrIn\n",
            "\n",
            "Sqm;t -mkbrgrtZk  \n",
            "Step 7700, train loss:733.8478, test loss:818.2238\n"
          ]
        },
        {
          "output_type": "stream",
          "name": "stderr",
          "text": [
            " 77%|███████▋  | 7710/10000 [1:28:28<21:09,  1.80it/s]"
          ]
        },
        {
          "output_type": "stream",
          "name": "stdout",
          "text": [
            "Step 7710, train loss:859.0233, test loss:787.3477\n"
          ]
        },
        {
          "output_type": "stream",
          "name": "stderr",
          "text": [
            " 77%|███████▋  | 7720/10000 [1:28:33<12:44,  2.98it/s]"
          ]
        },
        {
          "output_type": "stream",
          "name": "stdout",
          "text": [
            "Step 7720, train loss:661.5414, test loss:834.4601\n"
          ]
        },
        {
          "output_type": "stream",
          "name": "stderr",
          "text": [
            " 77%|███████▋  | 7730/10000 [1:28:38<12:38,  2.99it/s]"
          ]
        },
        {
          "output_type": "stream",
          "name": "stdout",
          "text": [
            "Step 7730, train loss:596.3870, test loss:622.0370\n"
          ]
        },
        {
          "output_type": "stream",
          "name": "stderr",
          "text": [
            " 77%|███████▋  | 7740/10000 [1:28:43<12:23,  3.04it/s]"
          ]
        },
        {
          "output_type": "stream",
          "name": "stdout",
          "text": [
            "Step 7740, train loss:781.3080, test loss:902.0905\n"
          ]
        },
        {
          "output_type": "stream",
          "name": "stderr",
          "text": [
            " 78%|███████▊  | 7750/10000 [1:28:48<12:19,  3.04it/s]"
          ]
        },
        {
          "output_type": "stream",
          "name": "stdout",
          "text": [
            "Step 7750, train loss:876.3633, test loss:1161.1858\n"
          ]
        },
        {
          "output_type": "stream",
          "name": "stderr",
          "text": [
            " 78%|███████▊  | 7760/10000 [1:28:53<12:32,  2.97it/s]"
          ]
        },
        {
          "output_type": "stream",
          "name": "stdout",
          "text": [
            "Step 7760, train loss:715.6832, test loss:746.3203\n"
          ]
        },
        {
          "output_type": "stream",
          "name": "stderr",
          "text": [
            " 78%|███████▊  | 7770/10000 [1:28:58<12:21,  3.01it/s]"
          ]
        },
        {
          "output_type": "stream",
          "name": "stdout",
          "text": [
            "Step 7770, train loss:930.1544, test loss:707.6826\n"
          ]
        },
        {
          "output_type": "stream",
          "name": "stderr",
          "text": [
            " 78%|███████▊  | 7780/10000 [1:29:03<12:12,  3.03it/s]"
          ]
        },
        {
          "output_type": "stream",
          "name": "stdout",
          "text": [
            "Step 7780, train loss:675.7511, test loss:728.8895\n"
          ]
        },
        {
          "output_type": "stream",
          "name": "stderr",
          "text": [
            " 78%|███████▊  | 7790/10000 [1:29:08<12:19,  2.99it/s]"
          ]
        },
        {
          "output_type": "stream",
          "name": "stdout",
          "text": [
            "Step 7790, train loss:1389.4332, test loss:658.6992\n"
          ]
        },
        {
          "output_type": "stream",
          "name": "stderr",
          "text": [
            " 78%|███████▊  | 7800/10000 [1:29:13<12:25,  2.95it/s]"
          ]
        },
        {
          "output_type": "stream",
          "name": "stdout",
          "text": [
            "Step 7800, train loss:1051.6735, test loss:846.0526\n",
            "\n",
            "\n",
            " \n",
            "g\n",
            "o  l y  hr  lr hoehoch P \n",
            "laeoohe \n",
            "oe g Gii wn hh hry,ihhFers ost'ou,yar\n",
            "jc'B.rj.rrkrrdrddrdrdrddrdrddrdrdddddddd dadd addddddddddddddddddddddddddddddddddddddddddddddddddddddddadt c!lr oddddddddddrdrddrdrdrdrowiwrdrrdrdrrdrd;idrYdrdrddrdrddrdrdrddddddrrrxnnnIxdhMnn!xudxndt&uOMayhinwdXrrdrrrrrrrrr!rnyrr\n",
            "rn?yrr!nrtlckH T:TcCrrrI rCTekWT\n",
            "mym;nyISrhkrhd\n",
            "-oh;cmrhV erPJsrCtaLrCerm rwPTbddaoddrmC-ybbinyddiYd!k!di!gbklrlgblgXdrYrbkdrrrnrtkm'H$  rkehrrrtGue'dr  seh b\n",
            "w r erCS$T e 3 r rrc\n",
            "  eeyS  rker\n",
            "  -PPbmne ukrD   ET erPTercmr Togc\n",
            "rrPWdb?or ; PoYrmodrr hoMherCdrrrn \n",
            "erYqr\n",
            "h\n",
            "r Uahd woCmr\n",
            "  ;$c rwPC erPTlrh r Poym\n",
            "  hrcrcI;olodnrr\n",
            "\n",
            "lkyW rl$dnhnnrr ntB$$kdrronoynl w PtkP$krrroloyo rytrc'khigeiITalrrs\n",
            "mt&h,:rXZhX:XpZiltGinE3wmadradrrDbhPrhJCSrdSrhsselrSsrrhilrmonlherrlbnhnntuu!ahdmrhdlhhhhh  h?P bePThrr dl$Cddw hi\n",
            "hh;gfP,wrbkhnhuthihkcm$rcllkmkc.up$kde:rlcdlWSSruySSsrudrgrudglkru$c TbXgburg \n",
            "SPT;$CTrMTrgwdnrdhdwnrakSrhurc\n",
            "dv$;dm,mr cPPyfMdmrm rwPThrCTehB$C riGdIM n P Pihu h PoHC hePcHrcrrw?\n",
            "Step 7800, train loss:817.1721, test loss:861.8332\n"
          ]
        },
        {
          "output_type": "stream",
          "name": "stderr",
          "text": [
            " 78%|███████▊  | 7810/10000 [1:29:36<20:11,  1.81it/s]"
          ]
        },
        {
          "output_type": "stream",
          "name": "stdout",
          "text": [
            "Step 7810, train loss:1149.4653, test loss:1223.6163\n"
          ]
        },
        {
          "output_type": "stream",
          "name": "stderr",
          "text": [
            " 78%|███████▊  | 7820/10000 [1:29:41<12:25,  2.93it/s]"
          ]
        },
        {
          "output_type": "stream",
          "name": "stdout",
          "text": [
            "Step 7820, train loss:1083.1825, test loss:1236.6055\n"
          ]
        },
        {
          "output_type": "stream",
          "name": "stderr",
          "text": [
            " 78%|███████▊  | 7830/10000 [1:29:46<11:56,  3.03it/s]"
          ]
        },
        {
          "output_type": "stream",
          "name": "stdout",
          "text": [
            "Step 7830, train loss:1197.6809, test loss:1265.6497\n"
          ]
        },
        {
          "output_type": "stream",
          "name": "stderr",
          "text": [
            " 78%|███████▊  | 7840/10000 [1:29:51<11:49,  3.04it/s]"
          ]
        },
        {
          "output_type": "stream",
          "name": "stdout",
          "text": [
            "Step 7840, train loss:1228.2156, test loss:1164.1576\n"
          ]
        },
        {
          "output_type": "stream",
          "name": "stderr",
          "text": [
            " 78%|███████▊  | 7850/10000 [1:29:56<11:56,  3.00it/s]"
          ]
        },
        {
          "output_type": "stream",
          "name": "stdout",
          "text": [
            "Step 7850, train loss:1139.8091, test loss:1209.3160\n"
          ]
        },
        {
          "output_type": "stream",
          "name": "stderr",
          "text": [
            " 79%|███████▊  | 7860/10000 [1:30:01<12:04,  2.95it/s]"
          ]
        },
        {
          "output_type": "stream",
          "name": "stdout",
          "text": [
            "Step 7860, train loss:1071.6344, test loss:1238.8934\n"
          ]
        },
        {
          "output_type": "stream",
          "name": "stderr",
          "text": [
            " 79%|███████▊  | 7870/10000 [1:30:06<11:43,  3.03it/s]"
          ]
        },
        {
          "output_type": "stream",
          "name": "stdout",
          "text": [
            "Step 7870, train loss:1045.4945, test loss:1000.0845\n"
          ]
        },
        {
          "output_type": "stream",
          "name": "stderr",
          "text": [
            " 79%|███████▉  | 7880/10000 [1:30:11<11:41,  3.02it/s]"
          ]
        },
        {
          "output_type": "stream",
          "name": "stdout",
          "text": [
            "Step 7880, train loss:902.4725, test loss:909.2461\n"
          ]
        },
        {
          "output_type": "stream",
          "name": "stderr",
          "text": [
            " 79%|███████▉  | 7890/10000 [1:30:16<11:47,  2.98it/s]"
          ]
        },
        {
          "output_type": "stream",
          "name": "stdout",
          "text": [
            "Step 7890, train loss:832.2505, test loss:738.3209\n"
          ]
        },
        {
          "output_type": "stream",
          "name": "stderr",
          "text": [
            " 79%|███████▉  | 7900/10000 [1:30:21<11:36,  3.01it/s]"
          ]
        },
        {
          "output_type": "stream",
          "name": "stdout",
          "text": [
            "Step 7900, train loss:571.0411, test loss:639.7884\n",
            "\n",
            "\n",
            " eg\n",
            "\n",
            " twaechreoihe lhee,e ihese n 'ih sihse siet N!b,\n",
            "nndn; lone monennnnnond ndonnnnnnnnnnnnnnnnnntriibnnnnnnnn aly grCh an  OwHr alal?\n",
            "B l a al;\n",
            "An\n",
            "lammkit? itw?\n",
            "f\n",
            "wea\n",
            "\n",
            "'rHllle bulore lounlyorFlll'-Aonienlofale'rolf'winly bim\n",
            "\n",
            "KGflinlyhiml toelemIthtepMr twmabirrilrlfnr\n",
            "d P D blW\n",
            "\n",
            " uh. oePSIyGrin\n",
            "rlPcr\n",
            "hePWrcwsOrrrrcdglrrrrrcdZHC erPTyrcrrr\n",
            "hihgrbPkrt oo-crkMdbmto,kmy\n",
            "  wbcd rrPTgrrptGemmCermymo  s E\n",
            "Eayr w u Erfbn e PTo\n",
            "m EsPW\n",
            "arrcrrt3eumo e P ; ERPdbhr o Pekbllr twmi ryrIBdmn  RC-PTcMTarly u PATcC,wEIyrrrhtsgc\n",
            "t P kem$ceGolo a w r EraGe e uae e PnebmeCrTrr  o$kUdrrr gtknCear$isrrrrr\n",
            "\n",
            " uh.rer  bCTerIIrro rePTayrerrErglrr\n",
            "argbrrrpfrteP  r$BTenrC  ;$gceG\n",
            "n krTG ; PePmtloho\n",
            "\n",
            "arrceG\n",
            "narr twmi e PTerrErbne  wMPT  lMPdbT cmMTtTt Pkrhreeao\n",
            "erTW e 3\n",
            "eekW\n",
            " uayayoserrar\n",
            "ro;Whsarr\n",
            "SrgWrr!orerrJ\n",
            "rn?Ear!o cpMTerrCrrrrrdrrrtZ Zkrmoo\n",
            "arrI bewgt aykp$oroonooh\n",
            "d coYwI r Prrrrrrmrn \n",
            "erYWfr,rrrrr\n",
            "errCr ZaElI e ua\n",
            "an;ge  n em?JmErrr\n",
            "  erc;nr C\n",
            "kayr 3r$mn o PoYm\n",
            " tyy.$$$$tkint:t!kcgmpm  io  zfPPp \n",
            " PA.c\n",
            "Step 7900, train loss:592.1846, test loss:739.4491\n"
          ]
        },
        {
          "output_type": "stream",
          "name": "stderr",
          "text": [
            " 79%|███████▉  | 7910/10000 [1:30:44<19:21,  1.80it/s]"
          ]
        },
        {
          "output_type": "stream",
          "name": "stdout",
          "text": [
            "Step 7910, train loss:662.5480, test loss:721.9131\n"
          ]
        },
        {
          "output_type": "stream",
          "name": "stderr",
          "text": [
            " 79%|███████▉  | 7920/10000 [1:30:49<11:57,  2.90it/s]"
          ]
        },
        {
          "output_type": "stream",
          "name": "stdout",
          "text": [
            "Step 7920, train loss:583.4528, test loss:623.6655\n"
          ]
        },
        {
          "output_type": "stream",
          "name": "stderr",
          "text": [
            " 79%|███████▉  | 7930/10000 [1:30:54<11:21,  3.04it/s]"
          ]
        },
        {
          "output_type": "stream",
          "name": "stdout",
          "text": [
            "Step 7930, train loss:654.2161, test loss:707.9584\n"
          ]
        },
        {
          "output_type": "stream",
          "name": "stderr",
          "text": [
            " 79%|███████▉  | 7940/10000 [1:30:59<11:17,  3.04it/s]"
          ]
        },
        {
          "output_type": "stream",
          "name": "stdout",
          "text": [
            "Step 7940, train loss:573.1176, test loss:552.3915\n"
          ]
        },
        {
          "output_type": "stream",
          "name": "stderr",
          "text": [
            " 80%|███████▉  | 7950/10000 [1:31:04<11:24,  2.99it/s]"
          ]
        },
        {
          "output_type": "stream",
          "name": "stdout",
          "text": [
            "Step 7950, train loss:500.7125, test loss:587.0682\n"
          ]
        },
        {
          "output_type": "stream",
          "name": "stderr",
          "text": [
            " 80%|███████▉  | 7960/10000 [1:31:09<11:12,  3.03it/s]"
          ]
        },
        {
          "output_type": "stream",
          "name": "stdout",
          "text": [
            "Step 7960, train loss:602.7354, test loss:534.0680\n"
          ]
        },
        {
          "output_type": "stream",
          "name": "stderr",
          "text": [
            " 80%|███████▉  | 7970/10000 [1:31:14<11:08,  3.04it/s]"
          ]
        },
        {
          "output_type": "stream",
          "name": "stdout",
          "text": [
            "Step 7970, train loss:672.0626, test loss:708.8496\n"
          ]
        },
        {
          "output_type": "stream",
          "name": "stderr",
          "text": [
            " 80%|███████▉  | 7980/10000 [1:31:19<11:18,  2.98it/s]"
          ]
        },
        {
          "output_type": "stream",
          "name": "stdout",
          "text": [
            "Step 7980, train loss:857.2435, test loss:995.8221\n"
          ]
        },
        {
          "output_type": "stream",
          "name": "stderr",
          "text": [
            " 80%|███████▉  | 7990/10000 [1:31:24<11:10,  3.00it/s]"
          ]
        },
        {
          "output_type": "stream",
          "name": "stdout",
          "text": [
            "Step 7990, train loss:700.5995, test loss:922.8322\n"
          ]
        },
        {
          "output_type": "stream",
          "name": "stderr",
          "text": [
            " 80%|████████  | 8000/10000 [1:31:29<11:02,  3.02it/s]"
          ]
        },
        {
          "output_type": "stream",
          "name": "stdout",
          "text": [
            "Step 8000, train loss:736.9618, test loss:861.3630\n",
            "\n",
            "\n",
            "eeehh\n",
            "eh ho rrhlhahee \n",
            "oue,\n",
            "hehhahhhehhhhhhhhhhhhhhhhhhhhhhhhhh\n",
            "\n",
            "rhewhheehheeeeeeeeeeyyieieeit ih b\n",
            "I we ndd theewrerly themkalGhanovisanyo,\n",
            "An,:\n",
            "Tit ilGlo,\n",
            "Tolo,\n",
            "An\n",
            ", l'dwanallroundurumanovenay kaylpous gant amgithemEdevervwRe mkkndnd.\n",
            "I themtrer,\n",
            "Ilr MP&\n",
            "t PkksDLIerjRwwwmRw  vwww,wOTaE ;wPTheC-H,$$$wkvgceThAhS, cwwO esPSCrSwdIwS ; weCSHwwt,$$ktw \n",
            " wb.c cP&pUft'k  TEkbI e PTemgT e u ; r w ivNr,r .wwg etkdntfaswi -lwbc wwwbaw mtA e wtknmi  netI   ocS\n",
            " telBC,rutwogw rvwc e uah \n",
            "\n",
            "uayoeSwlr thge,$$ ruww -IMR\n",
            "trMgc e u ; ;\n",
            "wtPk\n",
            "uhwWhEtp ;ohn aro, u w a Eohhot:ovobtrTkmo taavO oATcc earCe utkrrr th  crGmogt e - ermIeG\n",
            "tl$$w unEhn  rrGmtZkrw , e  erYytw\n",
            " u,y  erYrrr\n",
            "  thaTe  hrrtwo - erLermYrrn thoto,.;Irrrtw \n",
            " Eh.moyI  tPPTerwOrrrodtkrny e utkrmt hhw irrh\n",
            "  rT o e m ; r r ; ; r r ; ; r r ; ; r w,wm rrGr e u,c   ;$g   rcOmrrrrtw\n",
            "mErrayro rvk m\n",
            "r rUT th b,wOC  akwI e utw Wkth rcsxI Thjm  sIgTerYrhlroot\n",
            ".'xgc \n",
            "FrHcrb?ov ; w  tP-$C?mwmw s w\n",
            "w ETY,n, the cwkTrmvumTloslAr\n",
            " rwPNr!\n",
            "  rTerIlwl r w\n",
            "w\n",
            "Step 8000, train loss:623.9470, test loss:837.9554\n"
          ]
        },
        {
          "output_type": "stream",
          "name": "stderr",
          "text": [
            " 80%|████████  | 8010/10000 [1:31:53<18:39,  1.78it/s]"
          ]
        },
        {
          "output_type": "stream",
          "name": "stdout",
          "text": [
            "Step 8010, train loss:642.7437, test loss:806.5341\n"
          ]
        },
        {
          "output_type": "stream",
          "name": "stderr",
          "text": [
            " 80%|████████  | 8020/10000 [1:31:57<11:02,  2.99it/s]"
          ]
        },
        {
          "output_type": "stream",
          "name": "stdout",
          "text": [
            "Step 8020, train loss:602.6091, test loss:611.1669\n"
          ]
        },
        {
          "output_type": "stream",
          "name": "stderr",
          "text": [
            " 80%|████████  | 8030/10000 [1:32:02<10:53,  3.01it/s]"
          ]
        },
        {
          "output_type": "stream",
          "name": "stdout",
          "text": [
            "Step 8030, train loss:655.6131, test loss:710.6612\n"
          ]
        },
        {
          "output_type": "stream",
          "name": "stderr",
          "text": [
            " 80%|████████  | 8040/10000 [1:32:07<10:59,  2.97it/s]"
          ]
        },
        {
          "output_type": "stream",
          "name": "stdout",
          "text": [
            "Step 8040, train loss:658.9447, test loss:653.8314\n"
          ]
        },
        {
          "output_type": "stream",
          "name": "stderr",
          "text": [
            " 80%|████████  | 8050/10000 [1:32:12<10:54,  2.98it/s]"
          ]
        },
        {
          "output_type": "stream",
          "name": "stdout",
          "text": [
            "Step 8050, train loss:542.1393, test loss:506.7945\n"
          ]
        },
        {
          "output_type": "stream",
          "name": "stderr",
          "text": [
            " 81%|████████  | 8060/10000 [1:32:17<10:41,  3.02it/s]"
          ]
        },
        {
          "output_type": "stream",
          "name": "stdout",
          "text": [
            "Step 8060, train loss:489.6726, test loss:477.1573\n"
          ]
        },
        {
          "output_type": "stream",
          "name": "stderr",
          "text": [
            " 81%|████████  | 8070/10000 [1:32:22<10:43,  3.00it/s]"
          ]
        },
        {
          "output_type": "stream",
          "name": "stdout",
          "text": [
            "Step 8070, train loss:429.4575, test loss:482.5587\n"
          ]
        },
        {
          "output_type": "stream",
          "name": "stderr",
          "text": [
            " 81%|████████  | 8080/10000 [1:32:27<10:45,  2.98it/s]"
          ]
        },
        {
          "output_type": "stream",
          "name": "stdout",
          "text": [
            "Step 8080, train loss:374.9034, test loss:391.9756\n"
          ]
        },
        {
          "output_type": "stream",
          "name": "stderr",
          "text": [
            " 81%|████████  | 8090/10000 [1:32:32<10:30,  3.03it/s]"
          ]
        },
        {
          "output_type": "stream",
          "name": "stdout",
          "text": [
            "Step 8090, train loss:427.7166, test loss:451.4105\n"
          ]
        },
        {
          "output_type": "stream",
          "name": "stderr",
          "text": [
            " 81%|████████  | 8100/10000 [1:32:37<10:31,  3.01it/s]"
          ]
        },
        {
          "output_type": "stream",
          "name": "stdout",
          "text": [
            "Step 8100, train loss:586.6605, test loss:600.1724\n",
            "\n",
            "\n",
            "eehe hh rooe a on  lr hor y \n",
            "\n",
            "\n",
            "\n",
            "h  ghhal,hgg  ohe he   wro ,ro iie h aaa hego'her h E e  Pre oooooo 'oe na eer toler\n",
            "\n",
            "\n",
            "\n",
            "l se  qioilonananoananigapricplplererer'calea'Chahananaerararteeogrond alay yomeanateds?ld sow pus cos sus: YeHeBLUs perLOLrs, rerH$erYlrrn rtkP$krrrrrHaybRwkrrrn  rcPTykbrrrrrtG .C-mwBrCto\n",
            "tN$$mymoav ; PoYrmSsrgt Zc$brrrgmtrutbISgogvmrgwegcgcspFtT ao\n",
            " D\n",
            "y  SmrhUtuu'o oi\n",
            "rw  \n",
            "wbna orke,rr  atpp  neeke  ieeo eatkaro, erP\n",
            "er  rr,mray  wMT  aoy \n",
            "\n",
            "wto\n",
            "piyO e utklrT  ,TrU   eek erCS  atIp T ; reT erTcehcoer e - aoeerio  eek erCSe\n",
            "er,q\n",
            " u ep;,  srkE e  toy E,PTot ag;p\n",
            "w uSNdEr to krCw  wHMdA  w$BCfErlErpw,GhiwvhPermIwFlOeeIwmeGrErrr\n",
            "hhM,\n",
            "w uhCer'r'errErIRryurrvovwkwmIrrer;IyIrrryIe'rErrryIe'yErrrydorrrtVtTknhut \n",
            "Vkbcnt,oyoR w,Tb,ErrrtryoyuvoslAm O Ph;gTarr sr$grgctGtB$$rgrmLtGsmgr Z Zih;CfrmIgrtG\n",
            "rTurO   ;Cpt\n",
            "P   -T  DRPmt \n",
            "owm;r\n",
            "got \n",
            " T  aoA ioyre  arrp toe  liKTtBMgcItGu  inegertk   rTblrhh erTG  wErhhoa tooguatlunwtkt GrG\n",
            "  in  hrG\n",
            "  io\n",
            " itP,litGrT\n",
            "   ; r r,rhlr   E   Er\n",
            "Step 8100, train loss:615.9353, test loss:1157.1414\n"
          ]
        },
        {
          "output_type": "stream",
          "name": "stderr",
          "text": [
            " 81%|████████  | 8110/10000 [1:33:01<17:41,  1.78it/s]"
          ]
        },
        {
          "output_type": "stream",
          "name": "stdout",
          "text": [
            "Step 8110, train loss:826.1295, test loss:786.5656\n"
          ]
        },
        {
          "output_type": "stream",
          "name": "stderr",
          "text": [
            " 81%|████████  | 8120/10000 [1:33:06<10:31,  2.98it/s]"
          ]
        },
        {
          "output_type": "stream",
          "name": "stdout",
          "text": [
            "Step 8120, train loss:1230.3945, test loss:1030.1433\n"
          ]
        },
        {
          "output_type": "stream",
          "name": "stderr",
          "text": [
            " 81%|████████▏ | 8130/10000 [1:33:11<10:22,  3.00it/s]"
          ]
        },
        {
          "output_type": "stream",
          "name": "stdout",
          "text": [
            "Step 8130, train loss:1013.6492, test loss:989.7731\n"
          ]
        },
        {
          "output_type": "stream",
          "name": "stderr",
          "text": [
            " 81%|████████▏ | 8140/10000 [1:33:16<10:23,  2.98it/s]"
          ]
        },
        {
          "output_type": "stream",
          "name": "stdout",
          "text": [
            "Step 8140, train loss:851.6211, test loss:848.9637\n"
          ]
        },
        {
          "output_type": "stream",
          "name": "stderr",
          "text": [
            " 82%|████████▏ | 8150/10000 [1:33:21<10:08,  3.04it/s]"
          ]
        },
        {
          "output_type": "stream",
          "name": "stdout",
          "text": [
            "Step 8150, train loss:807.2750, test loss:822.9159\n"
          ]
        },
        {
          "output_type": "stream",
          "name": "stderr",
          "text": [
            " 82%|████████▏ | 8160/10000 [1:33:26<10:05,  3.04it/s]"
          ]
        },
        {
          "output_type": "stream",
          "name": "stdout",
          "text": [
            "Step 8160, train loss:1303.2172, test loss:1275.3025\n"
          ]
        },
        {
          "output_type": "stream",
          "name": "stderr",
          "text": [
            " 82%|████████▏ | 8170/10000 [1:33:31<10:17,  2.97it/s]"
          ]
        },
        {
          "output_type": "stream",
          "name": "stdout",
          "text": [
            "Step 8170, train loss:1206.2676, test loss:984.5516\n"
          ]
        },
        {
          "output_type": "stream",
          "name": "stderr",
          "text": [
            " 82%|████████▏ | 8180/10000 [1:33:35<10:06,  3.00it/s]"
          ]
        },
        {
          "output_type": "stream",
          "name": "stdout",
          "text": [
            "Step 8180, train loss:4945.1187, test loss:5447.2041\n"
          ]
        },
        {
          "output_type": "stream",
          "name": "stderr",
          "text": [
            " 82%|████████▏ | 8190/10000 [1:33:40<09:56,  3.03it/s]"
          ]
        },
        {
          "output_type": "stream",
          "name": "stdout",
          "text": [
            "Step 8190, train loss:3386.9792, test loss:4034.0444\n"
          ]
        },
        {
          "output_type": "stream",
          "name": "stderr",
          "text": [
            " 82%|████████▏ | 8200/10000 [1:33:45<10:06,  2.97it/s]"
          ]
        },
        {
          "output_type": "stream",
          "name": "stdout",
          "text": [
            "Step 8200, train loss:1658.5579, test loss:1700.9349\n",
            "\n",
            "\n",
            "ee\n",
            ".eehelo\n",
            "h\n",
            "\n",
            "riholrtiernl theorcus, thou fomcI IcI mcn mcI mcnn mcnon, mon thooffen ocn pcn ncond theieluusl ste- netut. Adnnnnnnnnnnnnnnnnnnnnnnnnnnnnnnnnnnnnnnnnnhhonnnnnnnnnnnnnnnnnnn hcnchhchnnnnnnnnnnnnnnnnnnnnnnnnnnnnnnnnnnnnnnnnnnnnnnnnnnnnnnnnnnn cckThEpmnu?ToSc rcjIEjn cccH$bROccwnpOphhc\n",
            "rhcghOcOhcuhhomhhUhhhmhnhmverhBnchhhchhhhhhhhmhhhhhhmhhhcerhu jrjo tAmnF -dMC !tcc \n",
            "tccctchhts urchYrhht  haIt? vcchhrt-hhhhhhhhhhmhtohhSchhhhhdbhhhchhhhhEb\n",
            "hhcchhhphhhhchhhhhhhhhhhhmmhhhhhhhhhmhhhhhchhhodhhhhchhhhhhhmmhhhhchhhohhmmhh chhn mhhOcchfpOhhhhch hakhhSwmccwhpB h jhhhe;crhrmhhhcmhhcphhh chhOhdhhhomhhnehnnwh  hhrcId. jScctc ths\n",
            "hrjchh;:hmch\n",
            "hsjchhhhEhhmhhmcKeeIOh -ogkIzUeiaEtczCjbjYkgj ji;ctc:kje -ji!cgr,jbooo,EtB$$cho h\n",
            "cactcmw-rY h,c \n",
            " -rbte:ncc\n",
            "Yit rjjhmhhhmmtcktc ccc,arr ovct:lrWshY oh,t:hhcmertcwuc,arhht:wr\n",
            "m o chnbh,  arUptc ? j rh;cps: cccmhnm h jtcch\n",
            "ohdcbmtcnrh h Dh chtihrr h chh h jmtihah ah hhE mrj o U h\n",
            "h h Uhhhm mrjh ctccykmhEr cccihnfIhh hhhhhhrhh chhOmhh  m!cmh   rEbhh\n",
            "Step 8200, train loss:1632.7585, test loss:1810.3840\n"
          ]
        },
        {
          "output_type": "stream",
          "name": "stderr",
          "text": [
            " 82%|████████▏ | 8210/10000 [1:34:09<16:42,  1.79it/s]"
          ]
        },
        {
          "output_type": "stream",
          "name": "stdout",
          "text": [
            "Step 8210, train loss:1269.3281, test loss:1298.7820\n"
          ]
        },
        {
          "output_type": "stream",
          "name": "stderr",
          "text": [
            " 82%|████████▏ | 8220/10000 [1:34:14<09:59,  2.97it/s]"
          ]
        },
        {
          "output_type": "stream",
          "name": "stdout",
          "text": [
            "Step 8220, train loss:1098.1272, test loss:1409.1477\n"
          ]
        },
        {
          "output_type": "stream",
          "name": "stderr",
          "text": [
            " 82%|████████▏ | 8230/10000 [1:34:19<09:55,  2.97it/s]"
          ]
        },
        {
          "output_type": "stream",
          "name": "stdout",
          "text": [
            "Step 8230, train loss:967.6682, test loss:1362.2894\n"
          ]
        },
        {
          "output_type": "stream",
          "name": "stderr",
          "text": [
            " 82%|████████▏ | 8240/10000 [1:34:24<09:40,  3.03it/s]"
          ]
        },
        {
          "output_type": "stream",
          "name": "stdout",
          "text": [
            "Step 8240, train loss:863.9139, test loss:889.5756\n"
          ]
        },
        {
          "output_type": "stream",
          "name": "stderr",
          "text": [
            " 82%|████████▎ | 8250/10000 [1:34:29<09:36,  3.04it/s]"
          ]
        },
        {
          "output_type": "stream",
          "name": "stdout",
          "text": [
            "Step 8250, train loss:907.9015, test loss:1032.5469\n"
          ]
        },
        {
          "output_type": "stream",
          "name": "stderr",
          "text": [
            " 83%|████████▎ | 8260/10000 [1:34:34<09:44,  2.98it/s]"
          ]
        },
        {
          "output_type": "stream",
          "name": "stdout",
          "text": [
            "Step 8260, train loss:1012.8727, test loss:1044.7997\n"
          ]
        },
        {
          "output_type": "stream",
          "name": "stderr",
          "text": [
            " 83%|████████▎ | 8270/10000 [1:34:39<09:33,  3.02it/s]"
          ]
        },
        {
          "output_type": "stream",
          "name": "stdout",
          "text": [
            "Step 8270, train loss:941.3016, test loss:1044.3987\n"
          ]
        },
        {
          "output_type": "stream",
          "name": "stderr",
          "text": [
            " 83%|████████▎ | 8280/10000 [1:34:44<09:31,  3.01it/s]"
          ]
        },
        {
          "output_type": "stream",
          "name": "stdout",
          "text": [
            "Step 8280, train loss:1026.8065, test loss:947.8301\n"
          ]
        },
        {
          "output_type": "stream",
          "name": "stderr",
          "text": [
            " 83%|████████▎ | 8290/10000 [1:34:49<09:32,  2.99it/s]"
          ]
        },
        {
          "output_type": "stream",
          "name": "stdout",
          "text": [
            "Step 8290, train loss:811.4703, test loss:897.1718\n"
          ]
        },
        {
          "output_type": "stream",
          "name": "stderr",
          "text": [
            " 83%|████████▎ | 8300/10000 [1:34:54<09:35,  2.96it/s]"
          ]
        },
        {
          "output_type": "stream",
          "name": "stdout",
          "text": [
            "Step 8300, train loss:833.7606, test loss:1004.1691\n",
            "\n",
            "\n",
            "eeh,    eoo\n",
            "he\n",
            "ecB wrkwr wd oooorgd\n",
            "ikcgCiBgghiSiB\n",
            ":hrk\n",
            "W hrigpScoSgg herhink pitr.? rrr\n",
            "\n",
            "\n",
            "\n",
            "\n",
            "\n",
            "\n",
            "\n",
            "\n",
            "\n",
            "\n",
            "\n",
            "\n",
            "\n",
            "\n",
            "\n",
            "\n",
            "\n",
            "\n",
            "\n",
            "al\n",
            "laltrSwiCCMMMMMr\n",
            "\n",
            "M\n",
            "\n",
            "\n",
            "\n",
            "\n",
            "\n",
            "\n",
            "\n",
            "yyyy yit urrytho-.\n",
            "\n",
            "\n",
            "\n",
            "\n",
            "\n",
            "\n",
            "\n",
            "\n",
            "theen thycse---ArrrieS:ceerSveverEcnvaverngnnt buynW nynnnynyyyonyyyyhyyyyonnyonyhyonyhouh; V coqt3wnotlonotlInko e 3?Hg e c rbKb, BScctcInkogroo BlMf  ,zccyT Osc\n",
            " .ccc ?\n",
            "w   iOfcbKg efccoGbRw Vh;c w j Eu;c e 3ckE T coYr C coY b,cc rHc\n",
            "  \n",
            "wcmbtiGnwbhho ArPwesco\n",
            "o whf Eec$p TihgoiRc cccOfpm cc&inyhirhhot zrjCnwgrrr ryhrt Cnkby  myk b,cca;pS cc& \n",
            "A&cc rYtrnko tri raMJat wnksbrriloAetihnyeohn the eOC-ntePWkdeTi\n",
            "w m E cePTwkwmhnUphlT\n",
            "inVubHwhhh,\n",
            "RayOhuH rarm, hhrmr gccisbOg thy eanrusUrI .\n",
            "jeCWckwYwO vewcoRwwmvOv Evcc rHcpft3r!psEwhoo, mrPTrhhETu,c:erjlrrrnlRbtgkrjro rohbb, roh erPT  rrjfrrrrRgtkPsLrR wakio o coYn boybn orjmo  tccccI\n",
            "\n",
            "\n",
            "cYyme  oo\n",
            "kocc e 3ck  tccccI\n",
            "\n",
            "\n",
            "cYyme  EjThekE.rc\n",
            "in en'G  \n",
            "io\n",
            "ut PykReaholoina\n",
            " o en'Gerql,o hrclo  tcoao orwgdd.tlbe earc werbhaw s ccgPbRrerhReryar cck   rcpl \n",
            "Dculo O coYl e uah ircc   Ecpc rr\n",
            "Step 8300, train loss:821.8857, test loss:926.7223\n"
          ]
        },
        {
          "output_type": "stream",
          "name": "stderr",
          "text": [
            " 83%|████████▎ | 8310/10000 [1:35:17<15:40,  1.80it/s]"
          ]
        },
        {
          "output_type": "stream",
          "name": "stdout",
          "text": [
            "Step 8310, train loss:962.1276, test loss:1161.7792\n"
          ]
        },
        {
          "output_type": "stream",
          "name": "stderr",
          "text": [
            " 83%|████████▎ | 8320/10000 [1:35:22<09:35,  2.92it/s]"
          ]
        },
        {
          "output_type": "stream",
          "name": "stdout",
          "text": [
            "Step 8320, train loss:1349.3822, test loss:1556.5984\n"
          ]
        },
        {
          "output_type": "stream",
          "name": "stderr",
          "text": [
            " 83%|████████▎ | 8330/10000 [1:35:27<09:13,  3.02it/s]"
          ]
        },
        {
          "output_type": "stream",
          "name": "stdout",
          "text": [
            "Step 8330, train loss:1142.1890, test loss:1569.7391\n"
          ]
        },
        {
          "output_type": "stream",
          "name": "stderr",
          "text": [
            " 83%|████████▎ | 8340/10000 [1:35:32<09:05,  3.04it/s]"
          ]
        },
        {
          "output_type": "stream",
          "name": "stdout",
          "text": [
            "Step 8340, train loss:983.5938, test loss:1077.4586\n"
          ]
        },
        {
          "output_type": "stream",
          "name": "stderr",
          "text": [
            " 84%|████████▎ | 8350/10000 [1:35:37<09:09,  3.00it/s]"
          ]
        },
        {
          "output_type": "stream",
          "name": "stdout",
          "text": [
            "Step 8350, train loss:983.4232, test loss:1034.7244\n"
          ]
        },
        {
          "output_type": "stream",
          "name": "stderr",
          "text": [
            " 84%|████████▎ | 8360/10000 [1:35:42<09:14,  2.96it/s]"
          ]
        },
        {
          "output_type": "stream",
          "name": "stdout",
          "text": [
            "Step 8360, train loss:627.2888, test loss:714.7559\n"
          ]
        },
        {
          "output_type": "stream",
          "name": "stderr",
          "text": [
            " 84%|████████▎ | 8370/10000 [1:35:47<08:58,  3.03it/s]"
          ]
        },
        {
          "output_type": "stream",
          "name": "stdout",
          "text": [
            "Step 8370, train loss:690.6617, test loss:715.2499\n"
          ]
        },
        {
          "output_type": "stream",
          "name": "stderr",
          "text": [
            " 84%|████████▍ | 8380/10000 [1:35:52<08:53,  3.04it/s]"
          ]
        },
        {
          "output_type": "stream",
          "name": "stdout",
          "text": [
            "Step 8380, train loss:739.4778, test loss:717.2302\n"
          ]
        },
        {
          "output_type": "stream",
          "name": "stderr",
          "text": [
            " 84%|████████▍ | 8390/10000 [1:35:57<09:03,  2.96it/s]"
          ]
        },
        {
          "output_type": "stream",
          "name": "stdout",
          "text": [
            "Step 8390, train loss:754.4168, test loss:781.1051\n"
          ]
        },
        {
          "output_type": "stream",
          "name": "stderr",
          "text": [
            " 84%|████████▍ | 8400/10000 [1:36:02<08:47,  3.03it/s]"
          ]
        },
        {
          "output_type": "stream",
          "name": "stdout",
          "text": [
            "Step 8400, train loss:866.3370, test loss:780.1046\n",
            "\n",
            "\n",
            "eeoehe r , egeehee eheeehoeheeh leh  heeeeoe ych:h hhr neihoo h hhwhgggk w o  a ak'kkurkooJd kkws yt,'?Zrrrrerr\n",
            "\n",
            "\n",
            "\n",
            "\n",
            "\n",
            "\n",
            "\n",
            "\n",
            "\n",
            "\n",
            "\n",
            "teoE\n",
            "re  cothnm,r b br  gbc bl  gbc  hi\n",
            "t rr deredddddeddxindalanderukinurll th hn-ut o  yyyyoldlold yolllop\n",
            "\n",
            "Thoolioorn bloorSoov:Eyy?e  VkjTErhhoolhh? thoabro\n",
            "erYqrYGeaErhioee\n",
            ". TiebnEhboioioYaEeSrErrTilJilrl'Tmsw\n",
            "inEtB .C&TrLrrrrrrbTrTrTrrrrrybbOrio\n",
            "roYYr\n",
            "rojWhYrnrr' rnkbr\n",
            "ri&yrTrErrrrgtrkrcdo\n",
            "ro;glgrrorrjrHcrHr\n",
            "p B\n",
            "\n",
            " arrn rtB$$k\n",
            "  \n",
            "rc$$c ' ceP\n",
            " e c r O c j beb\n",
            "\n",
            "\n",
            "  ?rY  \n",
            "BcgT \n",
            "\n",
            " o .aTB \n",
            " PBIm\n",
            "  arcp ? j r rhehbytoDbrr\n",
            "\n",
            "rr\n",
            "r\n",
            "raaaya;ay\n",
            "\n",
            "\n",
            "tan Tehrtel? thbkvIJJmt&uJrsrTsnroo OnrTyn\n",
            "en\n",
            "qlEkonwoyyy  v$kTUt e 3Toe qlrh  U?Tblo o ceeb?  bKPcoY  ogc   ETbtka e 3rLt-  TekbI  A&kg e 3To\n",
            "  iB.b,dbT\n",
            " e  cc&T e 3Tyb  erPW\n",
            "hog sc&D CogYsegmObRRobg  D$c o cejn \n",
            "\n",
            "erYk -r$gbo\n",
            " erYr\n",
            "  tN$$r rogTertBrJkbrrt& rnvmw   jYbE e PCTtkw$r\n",
            " swccgPpjym rtBCykt e'kbtA r j r \n",
            "\n",
            "wEhmf ti, ear\n",
            "atBru\n",
            "thycrohino e u r r rtrcrrtrwtAhiw iehYl  in  hBk,r,\n",
            "  oymetrr - e  thoae  lkwg  in eatA  ePcN  in\n",
            "Step 8400, train loss:865.9674, test loss:1612.3866\n"
          ]
        },
        {
          "output_type": "stream",
          "name": "stderr",
          "text": [
            " 84%|████████▍ | 8410/10000 [1:36:26<14:45,  1.80it/s]"
          ]
        },
        {
          "output_type": "stream",
          "name": "stdout",
          "text": [
            "Step 8410, train loss:727.9083, test loss:739.2355\n"
          ]
        },
        {
          "output_type": "stream",
          "name": "stderr",
          "text": [
            " 84%|████████▍ | 8420/10000 [1:36:31<08:59,  2.93it/s]"
          ]
        },
        {
          "output_type": "stream",
          "name": "stdout",
          "text": [
            "Step 8420, train loss:620.2502, test loss:733.5641\n"
          ]
        },
        {
          "output_type": "stream",
          "name": "stderr",
          "text": [
            " 84%|████████▍ | 8430/10000 [1:36:35<08:37,  3.03it/s]"
          ]
        },
        {
          "output_type": "stream",
          "name": "stdout",
          "text": [
            "Step 8430, train loss:775.4423, test loss:793.0726\n"
          ]
        },
        {
          "output_type": "stream",
          "name": "stderr",
          "text": [
            " 84%|████████▍ | 8440/10000 [1:36:40<08:37,  3.01it/s]"
          ]
        },
        {
          "output_type": "stream",
          "name": "stdout",
          "text": [
            "Step 8440, train loss:488.3122, test loss:567.6561\n"
          ]
        },
        {
          "output_type": "stream",
          "name": "stderr",
          "text": [
            " 84%|████████▍ | 8450/10000 [1:36:45<08:41,  2.97it/s]"
          ]
        },
        {
          "output_type": "stream",
          "name": "stdout",
          "text": [
            "Step 8450, train loss:3308.2258, test loss:3280.4102\n"
          ]
        },
        {
          "output_type": "stream",
          "name": "stderr",
          "text": [
            " 85%|████████▍ | 8460/10000 [1:36:50<08:27,  3.04it/s]"
          ]
        },
        {
          "output_type": "stream",
          "name": "stdout",
          "text": [
            "Step 8460, train loss:6960.4751, test loss:10488.1123\n"
          ]
        },
        {
          "output_type": "stream",
          "name": "stderr",
          "text": [
            " 85%|████████▍ | 8470/10000 [1:36:55<08:25,  3.03it/s]"
          ]
        },
        {
          "output_type": "stream",
          "name": "stdout",
          "text": [
            "Step 8470, train loss:2471.0352, test loss:2713.7498\n"
          ]
        },
        {
          "output_type": "stream",
          "name": "stderr",
          "text": [
            " 85%|████████▍ | 8480/10000 [1:37:00<08:33,  2.96it/s]"
          ]
        },
        {
          "output_type": "stream",
          "name": "stdout",
          "text": [
            "Step 8480, train loss:1412.1594, test loss:1677.6045\n"
          ]
        },
        {
          "output_type": "stream",
          "name": "stderr",
          "text": [
            " 85%|████████▍ | 8490/10000 [1:37:05<08:22,  3.01it/s]"
          ]
        },
        {
          "output_type": "stream",
          "name": "stdout",
          "text": [
            "Step 8490, train loss:1430.8472, test loss:1240.5155\n"
          ]
        },
        {
          "output_type": "stream",
          "name": "stderr",
          "text": [
            " 85%|████████▌ | 8500/10000 [1:37:10<08:17,  3.02it/s]"
          ]
        },
        {
          "output_type": "stream",
          "name": "stdout",
          "text": [
            "Step 8500, train loss:905.1170, test loss:991.6722\n",
            "\n",
            "\n",
            "eeaehnh eie o oi h io  hii io B  h  h       oioiie     oihhMMih;-;o-Wn;;h-hh-Mo;ihd- rJ$w gi e\n",
            "ee   h BtFrBh Uh  w  roiir  Fc  rj  w  wtrer WhIIioNNooor oroiorerocorH$r\n",
            "oo grgiar;rgsthh3i,h  hh  ;h;hhhhhhhh;hh;hhhhhhhhh;h;;h;;;;;;;h;;;;;;;;;;;;;;;;;;;;;;; 'w$;dow orP  t a b rrrrrrhnlrnrD&lrlrlrhllTrTrhrrrnh 'rPTrrhrDDllrDThrrrlnhrrroDlrlrD&ljhrrhlr hohhDT r PrPhhrhrnhrrhlrhrhjlThhhThlrlrrrtB$$dahalIyIdrErEThhhTDIhw.hhnUhnnhhnhhhrihhwmrrhnhOriWjrrrEhihhhlynlw?ahhhmhnh hrPInahnharhhwqnnThhyThiyThhnnhdrhnhOnnThwaDi??rErEZ?HtBwor,lsnlIlllnsrlIllrllllllllllrllrEllE  l$PTlElllr lrBjljllllrryrjl arPbllrlrdhdErrrrJoT UrPrlErErEErJDrETrEDrrrrETrrETEUarrrlJrrrEJrrolrlrrErPyrErrErErrErErdarrrrPyhrryrtrr$Hprn yrPIpPr Ork nDjrn   r bnyInnr rrPPpP EpX y P E ErcIn O PrE  rcP.$ l Pr lrP? .lyyo   rtr Br$J BI& No  thihg rrPn$rhyhayhhlhllhnlhlllrhhh-rhlhqlhDhhlhhlhll hrPhhhhrhlrhwrlrrrhlhDhhlhhhnhhhhlhrhhhqllhhhhlhrhhhJhDhlhhhhhhhlrlrhqrhhhTlrrhrEErrnhrrrrr'TrrhhrhhlEdrhwrhhhThrhwhhwdrhrrErrJrNhrPhrrrtB'\n",
            "Step 8500, train loss:858.6307, test loss:1013.1608\n"
          ]
        },
        {
          "output_type": "stream",
          "name": "stderr",
          "text": [
            " 85%|████████▌ | 8510/10000 [1:37:34<13:59,  1.78it/s]"
          ]
        },
        {
          "output_type": "stream",
          "name": "stdout",
          "text": [
            "Step 8510, train loss:888.0236, test loss:950.8213\n"
          ]
        },
        {
          "output_type": "stream",
          "name": "stderr",
          "text": [
            " 85%|████████▌ | 8520/10000 [1:37:39<08:16,  2.98it/s]"
          ]
        },
        {
          "output_type": "stream",
          "name": "stdout",
          "text": [
            "Step 8520, train loss:832.6434, test loss:860.0116\n"
          ]
        },
        {
          "output_type": "stream",
          "name": "stderr",
          "text": [
            " 85%|████████▌ | 8530/10000 [1:37:44<08:11,  2.99it/s]"
          ]
        },
        {
          "output_type": "stream",
          "name": "stdout",
          "text": [
            "Step 8530, train loss:775.3753, test loss:764.6719\n"
          ]
        },
        {
          "output_type": "stream",
          "name": "stderr",
          "text": [
            " 85%|████████▌ | 8540/10000 [1:37:49<08:06,  3.00it/s]"
          ]
        },
        {
          "output_type": "stream",
          "name": "stdout",
          "text": [
            "Step 8540, train loss:577.7742, test loss:673.6415\n"
          ]
        },
        {
          "output_type": "stream",
          "name": "stderr",
          "text": [
            " 86%|████████▌ | 8550/10000 [1:37:54<08:06,  2.98it/s]"
          ]
        },
        {
          "output_type": "stream",
          "name": "stdout",
          "text": [
            "Step 8550, train loss:565.5396, test loss:719.0207\n"
          ]
        },
        {
          "output_type": "stream",
          "name": "stderr",
          "text": [
            " 86%|████████▌ | 8560/10000 [1:37:58<07:53,  3.04it/s]"
          ]
        },
        {
          "output_type": "stream",
          "name": "stdout",
          "text": [
            "Step 8560, train loss:780.1798, test loss:727.7597\n"
          ]
        },
        {
          "output_type": "stream",
          "name": "stderr",
          "text": [
            " 86%|████████▌ | 8570/10000 [1:38:03<07:58,  2.99it/s]"
          ]
        },
        {
          "output_type": "stream",
          "name": "stdout",
          "text": [
            "Step 8570, train loss:667.0967, test loss:754.8562\n"
          ]
        },
        {
          "output_type": "stream",
          "name": "stderr",
          "text": [
            " 86%|████████▌ | 8580/10000 [1:38:08<07:58,  2.97it/s]"
          ]
        },
        {
          "output_type": "stream",
          "name": "stdout",
          "text": [
            "Step 8580, train loss:642.8693, test loss:759.6796\n"
          ]
        },
        {
          "output_type": "stream",
          "name": "stderr",
          "text": [
            " 86%|████████▌ | 8590/10000 [1:38:13<07:44,  3.03it/s]"
          ]
        },
        {
          "output_type": "stream",
          "name": "stdout",
          "text": [
            "Step 8590, train loss:734.0653, test loss:680.4303\n"
          ]
        },
        {
          "output_type": "stream",
          "name": "stderr",
          "text": [
            " 86%|████████▌ | 8600/10000 [1:38:18<07:44,  3.01it/s]"
          ]
        },
        {
          "output_type": "stream",
          "name": "stdout",
          "text": [
            "Step 8600, train loss:714.2532, test loss:847.7728\n",
            "\n",
            "\n",
            "eeeh ,ia   a  h       eh er  ih eo h       h       ;       h  e  & ;r ut;kB;rnww;aw;gi-wwwwwwwwwwwwwwwwwwwwwwwwwwwwwwawwr;ww-wwwwwwwwwwwwwwwwwwwwwwwwwwwwwwwwwwwwwwwwwwwwwwwwwwwwwwwwwwwwwwaw;;wwwwwwwwwwwww-wwrwrwwwwwwwwwrwrwwwwrw wwr-wwwwrwrrwwr;wwwwwrrww;rw;r;;?h;;;;w$;;;kCr;;;;w;?;;;;;l?;r;;;;w;;;;;;;;;;;;;;;;;;;;;;;;;;; kePThW g  CmH  PwgkhJghk? g  Pr' lh M,C$k$g.kgk khg es ac oQ k, gBrwn h  o, woc ng khkgrg;-;Cgr;-;PccP. $H kB;c k;;JB ku k  mk wH; gJ kw g  ehJ rl k   ;   : gHMr  .JP s  ? 3k k   hBSN .g r  P kl Cr g c cwy   riBl g ok  ; k c  rH&gb;rN  ;r  skO   r,h;Oe w CwMmH   NB\n",
            "   ggHw rmH hh rr Bw  Bce  rrcp Fr.No s;;Ptho o r    p     P     rP           pr   r J     l h     t ol  Ir   r l, h cy'  lJPIlr  rk y c w  llG \n",
            " ulgyhwl hhPlohnr w ulP lrk w P Elolo rJk   wygyhhh r P$&  l$Pqrrry hhG   rhK qtainw\n",
            "  \n",
            " r ;ywH rrGJ ' Pr   rcPynw ' P c\n",
            "P \n",
            "'   bn  rJ$TErr\n",
            " rcNT  w$Pnh \n",
            "\n",
            "J glhw w P chHw w P EhGh r PhHyhr  o$cyott'u\n",
            "LwwrirrG O Pr r Zr rrJrrrr r Z rrr   rrP rrJrrhs r PrJrrrrrrr hrP\n",
            "Step 8600, train loss:634.3221, test loss:663.8192\n"
          ]
        },
        {
          "output_type": "stream",
          "name": "stderr",
          "text": [
            " 86%|████████▌ | 8610/10000 [1:38:42<13:00,  1.78it/s]"
          ]
        },
        {
          "output_type": "stream",
          "name": "stdout",
          "text": [
            "Step 8610, train loss:731.0242, test loss:660.5435\n"
          ]
        },
        {
          "output_type": "stream",
          "name": "stderr",
          "text": [
            " 86%|████████▌ | 8620/10000 [1:38:47<07:43,  2.97it/s]"
          ]
        },
        {
          "output_type": "stream",
          "name": "stdout",
          "text": [
            "Step 8620, train loss:675.8670, test loss:760.3341\n"
          ]
        },
        {
          "output_type": "stream",
          "name": "stderr",
          "text": [
            " 86%|████████▋ | 8630/10000 [1:38:52<07:32,  3.03it/s]"
          ]
        },
        {
          "output_type": "stream",
          "name": "stdout",
          "text": [
            "Step 8630, train loss:874.6818, test loss:988.7581\n"
          ]
        },
        {
          "output_type": "stream",
          "name": "stderr",
          "text": [
            " 86%|████████▋ | 8640/10000 [1:38:57<07:33,  3.00it/s]"
          ]
        },
        {
          "output_type": "stream",
          "name": "stdout",
          "text": [
            "Step 8640, train loss:704.4960, test loss:665.4238\n"
          ]
        },
        {
          "output_type": "stream",
          "name": "stderr",
          "text": [
            " 86%|████████▋ | 8650/10000 [1:39:02<07:24,  3.04it/s]"
          ]
        },
        {
          "output_type": "stream",
          "name": "stdout",
          "text": [
            "Step 8650, train loss:498.9621, test loss:498.3596\n"
          ]
        },
        {
          "output_type": "stream",
          "name": "stderr",
          "text": [
            " 87%|████████▋ | 8660/10000 [1:39:07<07:20,  3.04it/s]"
          ]
        },
        {
          "output_type": "stream",
          "name": "stdout",
          "text": [
            "Step 8660, train loss:538.6117, test loss:602.6388\n"
          ]
        },
        {
          "output_type": "stream",
          "name": "stderr",
          "text": [
            " 87%|████████▋ | 8670/10000 [1:39:12<07:30,  2.95it/s]"
          ]
        },
        {
          "output_type": "stream",
          "name": "stdout",
          "text": [
            "Step 8670, train loss:596.0764, test loss:632.2949\n"
          ]
        },
        {
          "output_type": "stream",
          "name": "stderr",
          "text": [
            " 87%|████████▋ | 8680/10000 [1:39:17<07:17,  3.02it/s]"
          ]
        },
        {
          "output_type": "stream",
          "name": "stdout",
          "text": [
            "Step 8680, train loss:729.5946, test loss:776.3456\n"
          ]
        },
        {
          "output_type": "stream",
          "name": "stderr",
          "text": [
            " 87%|████████▋ | 8690/10000 [1:39:22<07:11,  3.04it/s]"
          ]
        },
        {
          "output_type": "stream",
          "name": "stdout",
          "text": [
            "Step 8690, train loss:564.5250, test loss:642.4619\n"
          ]
        },
        {
          "output_type": "stream",
          "name": "stderr",
          "text": [
            " 87%|████████▋ | 8700/10000 [1:39:26<07:15,  2.99it/s]"
          ]
        },
        {
          "output_type": "stream",
          "name": "stdout",
          "text": [
            "Step 8700, train loss:615.6251, test loss:687.3703\n",
            "\n",
            "\n",
            "eeeh ,iehh hlhehe e   i ee  e  eoe eie  eoe  eoe  ih   or ehe ih , eoe e  ih ehe h e  e          ci ,ie   ee   ee  r eo  hee  hfg      'f  ioe c  . k&cv-rhakh;Wkrh;kkrcrh;hcCcvckccCcuchB;hug.BJ:ynJJJ:.nJB;!$..BOBJOOONJOBnnnNNNNNNrNNNNNNNNNNNnNNrNNNk$BBwww k  cH e  h; hrba hroh h  h o Jk ;oulN- H;  Nk W, i. h  ; MwJo r  wrhg  ?dg  sk3i k  h  o hJ o;bw orb Hag- thigtwuk yaryia;ayayaye aayayerwOyrayay\n",
            "e 3 ya\n",
            "rya;ya\n",
            " rn?ybmynn\n",
            " y e -;JE ilk\n",
            "ryXmmIy\n",
            " roYymwyyyr\n",
            " ar\n",
            "yoYyby\n",
            "y PrEG\n",
            "\n",
            "\n",
            "erhqyEh\n",
            " m eyHw\n",
            "e qyby\n",
            " mygcyH\n",
            "erYbrkwyyy\n",
            " ryYrYwlr\n",
            " w$Pc  rj&Tyw\n",
            " erqr\n",
            "hDGbcwHC'rrrtePeO\n",
            "w.ePuIw w N ErNwyrrryIyutZueGrErIRy e PTyIalr r Zlg  l$P        J          l d     h  r $n  rjJ   r J .     r J     w   hdJ  hjJ  r P erJd Z PwW   r b ..   rhb  Jrqrhh qr   r b . rl   r b  hohr rrPJhhhrwlot,y gisss     y     y     y  pGP   thou  t,iaormT\n",
            "Orkkrkw\n",
            "OrkW\n",
            "w\n",
            "YrayoGs\n",
            "oGrewOceGr\n",
            "\n",
            " kKvbR rTkemr\n",
            "r\n",
            "jr.brJw\n",
            " roqErrrteroNrryrrGrykemrrJrrS cl$bLr\n",
            "I PrYGrr\n",
            " rykeKwdeGrrArrErrGrrr\n",
            "ryJmrrr\n",
            "hrkr cP&rrr\n",
            "rt PnkKwr\n",
            "\n",
            "\n",
            "eryK -sbBp w\n",
            "\n",
            "Step 8700, train loss:606.6146, test loss:703.0763\n"
          ]
        },
        {
          "output_type": "stream",
          "name": "stderr",
          "text": [
            " 87%|████████▋ | 8710/10000 [1:39:50<12:00,  1.79it/s]"
          ]
        },
        {
          "output_type": "stream",
          "name": "stdout",
          "text": [
            "Step 8710, train loss:771.8201, test loss:655.2715\n"
          ]
        },
        {
          "output_type": "stream",
          "name": "stderr",
          "text": [
            " 87%|████████▋ | 8720/10000 [1:39:55<07:09,  2.98it/s]"
          ]
        },
        {
          "output_type": "stream",
          "name": "stdout",
          "text": [
            "Step 8720, train loss:763.8900, test loss:802.0798\n"
          ]
        },
        {
          "output_type": "stream",
          "name": "stderr",
          "text": [
            " 87%|████████▋ | 8730/10000 [1:40:00<07:04,  2.99it/s]"
          ]
        },
        {
          "output_type": "stream",
          "name": "stdout",
          "text": [
            "Step 8730, train loss:707.5828, test loss:827.8551\n"
          ]
        },
        {
          "output_type": "stream",
          "name": "stderr",
          "text": [
            " 87%|████████▋ | 8740/10000 [1:40:05<06:57,  3.02it/s]"
          ]
        },
        {
          "output_type": "stream",
          "name": "stdout",
          "text": [
            "Step 8740, train loss:910.1268, test loss:936.0104\n"
          ]
        },
        {
          "output_type": "stream",
          "name": "stderr",
          "text": [
            " 88%|████████▊ | 8750/10000 [1:40:10<06:53,  3.02it/s]"
          ]
        },
        {
          "output_type": "stream",
          "name": "stdout",
          "text": [
            "Step 8750, train loss:821.6261, test loss:890.9414\n"
          ]
        },
        {
          "output_type": "stream",
          "name": "stderr",
          "text": [
            " 88%|████████▊ | 8760/10000 [1:40:15<06:54,  2.99it/s]"
          ]
        },
        {
          "output_type": "stream",
          "name": "stdout",
          "text": [
            "Step 8760, train loss:507.4619, test loss:596.6404\n"
          ]
        },
        {
          "output_type": "stream",
          "name": "stderr",
          "text": [
            " 88%|████████▊ | 8770/10000 [1:40:20<06:55,  2.96it/s]"
          ]
        },
        {
          "output_type": "stream",
          "name": "stdout",
          "text": [
            "Step 8770, train loss:375.6694, test loss:430.0648\n"
          ]
        },
        {
          "output_type": "stream",
          "name": "stderr",
          "text": [
            " 88%|████████▊ | 8780/10000 [1:40:25<06:42,  3.03it/s]"
          ]
        },
        {
          "output_type": "stream",
          "name": "stdout",
          "text": [
            "Step 8780, train loss:322.4687, test loss:345.0290\n"
          ]
        },
        {
          "output_type": "stream",
          "name": "stderr",
          "text": [
            " 88%|████████▊ | 8790/10000 [1:40:30<06:37,  3.04it/s]"
          ]
        },
        {
          "output_type": "stream",
          "name": "stdout",
          "text": [
            "Step 8790, train loss:308.1296, test loss:388.4446\n"
          ]
        },
        {
          "output_type": "stream",
          "name": "stderr",
          "text": [
            " 88%|████████▊ | 8800/10000 [1:40:35<06:43,  2.98it/s]"
          ]
        },
        {
          "output_type": "stream",
          "name": "stdout",
          "text": [
            "Step 8800, train loss:509.7852, test loss:553.5410\n",
            "\n",
            "\n",
            "eeeh ,ieeh er,eh e e  he wmgwk ro ''yc hegg whgct:ai ol   le  ol  seoolele loo rhyle rSrrnorournoulllordonrd hin n rir no dh hor wrr win  rr  ry  mr  mr  d  n  r Ph                       v                                                                    r br&wry ryX  rjGrJh rJ&rJr  w$c rPZrhh wyPw  rJN;I  r- \n",
            ";;-km. -;J$B: w g;Mc: Nrhmo $mJe H kW rMnt ?whg    g    h   ; g  ryP        h   wc :o P  hr    k    y.Jh or  rNWkgt i w r n  n   rP   j  do J P       doJ   r J  r P arrorteGs-   PT rlG   w  oJJr  dj   r b  rlP?Jr  J&m   rlJ   r b    PJJ  w$  rJP rP&r ryZrJ  rrPJ ' P wrr   ZcJ  rrPdoKrol brrrP'taKrs w thogrslmJ\n",
            "m\n",
            "mmrGm\n",
            "mthiK rTk y un? thinkmrRrrffJ f arv\n",
            " wayK vi\n",
            " woHS  l$krrr hnCrqc$wr Z w   wwb  rrPTrr w u E w  rhYr wlk  w$k ErkK w ar rTkwwr  rkwwr r PrJ\n",
            "rrJmrrortewrorrrrRJrrryryrrErEwar rVkwyurrrrJrrrn ryrcGrrrw ryhrbyr w urwwrE\n",
            "  wwPrrrrrrrErwTrwrrHwww   wwb  rwBTr rr&wr r P arnpr r  ho\n",
            "mt. elw3r r khh w t'ng  rk r Zrmm  rJP  hrr   r r a r rl   r bhhhhrr rhZhJ hhhrr hhw w  hr\n",
            "Step 8800, train loss:459.3761, test loss:524.3105\n"
          ]
        },
        {
          "output_type": "stream",
          "name": "stderr",
          "text": [
            " 88%|████████▊ | 8810/10000 [1:40:58<10:59,  1.80it/s]"
          ]
        },
        {
          "output_type": "stream",
          "name": "stdout",
          "text": [
            "Step 8810, train loss:325.3058, test loss:745.4735\n"
          ]
        },
        {
          "output_type": "stream",
          "name": "stderr",
          "text": [
            " 88%|████████▊ | 8820/10000 [1:41:03<06:42,  2.93it/s]"
          ]
        },
        {
          "output_type": "stream",
          "name": "stdout",
          "text": [
            "Step 8820, train loss:518.3527, test loss:455.8779\n"
          ]
        },
        {
          "output_type": "stream",
          "name": "stderr",
          "text": [
            " 88%|████████▊ | 8830/10000 [1:41:08<06:32,  2.98it/s]"
          ]
        },
        {
          "output_type": "stream",
          "name": "stdout",
          "text": [
            "Step 8830, train loss:399.3994, test loss:483.4156\n"
          ]
        },
        {
          "output_type": "stream",
          "name": "stderr",
          "text": [
            " 88%|████████▊ | 8840/10000 [1:41:13<06:21,  3.04it/s]"
          ]
        },
        {
          "output_type": "stream",
          "name": "stdout",
          "text": [
            "Step 8840, train loss:577.6956, test loss:559.7233\n"
          ]
        },
        {
          "output_type": "stream",
          "name": "stderr",
          "text": [
            " 88%|████████▊ | 8850/10000 [1:41:18<06:20,  3.03it/s]"
          ]
        },
        {
          "output_type": "stream",
          "name": "stdout",
          "text": [
            "Step 8850, train loss:10168.4092, test loss:568.5691\n"
          ]
        },
        {
          "output_type": "stream",
          "name": "stderr",
          "text": [
            " 89%|████████▊ | 8860/10000 [1:41:23<06:23,  2.97it/s]"
          ]
        },
        {
          "output_type": "stream",
          "name": "stdout",
          "text": [
            "Step 8860, train loss:646.1263, test loss:836.0781\n"
          ]
        },
        {
          "output_type": "stream",
          "name": "stderr",
          "text": [
            " 89%|████████▊ | 8870/10000 [1:41:28<06:13,  3.03it/s]"
          ]
        },
        {
          "output_type": "stream",
          "name": "stdout",
          "text": [
            "Step 8870, train loss:393.3238, test loss:523.4156\n"
          ]
        },
        {
          "output_type": "stream",
          "name": "stderr",
          "text": [
            " 89%|████████▉ | 8880/10000 [1:41:33<06:10,  3.03it/s]"
          ]
        },
        {
          "output_type": "stream",
          "name": "stdout",
          "text": [
            "Step 8880, train loss:728.8252, test loss:805.4171\n"
          ]
        },
        {
          "output_type": "stream",
          "name": "stderr",
          "text": [
            " 89%|████████▉ | 8890/10000 [1:41:38<06:11,  2.98it/s]"
          ]
        },
        {
          "output_type": "stream",
          "name": "stdout",
          "text": [
            "Step 8890, train loss:891.0117, test loss:981.0778\n"
          ]
        },
        {
          "output_type": "stream",
          "name": "stderr",
          "text": [
            " 89%|████████▉ | 8900/10000 [1:41:43<06:08,  2.99it/s]"
          ]
        },
        {
          "output_type": "stream",
          "name": "stdout",
          "text": [
            "Step 8900, train loss:537.8549, test loss:747.4969\n",
            "\n",
            "\n",
            "eeah ,r        dh; n  dr;egmee ge  hhhC aeg wn h hrh  ;r  hh;, we  gB   hr hr hdBdhrywrSwil NBea?ae;hc orB wegwioce .\n",
            "rgk hhg h, ;,r Phr P,e PPk  hr h;gggg hr ehr Crkg r,r ,mgec '\n",
            "icB wrghek c gag wo  .r;y k  l  hh wiiw hn Cria a r Pr k : rr  r;  rr  r;k  ;;M nnoh,  t;iht mikyaini\n",
            "sakjaraya;ayrar,laimar\n",
            "alkmnfwC\n",
            "keCqt ankpu rarIRinynyr\n",
            " raybhwiosedIHear\n",
            "arHbogy\n",
            "arrbllwasr m urk\n",
            "ar\n",
            "brkSartil  RfkcgePObb' asPI cihOin erPYsE rihFI tyWnpgYr\n",
            "t PeggVurgS r P a blWg, hhgr toieCN$rre -wkdEmdIgg,Tgveremmi,k\n",
            "erYW\n",
            "u,uS e u,Hl EoyDpmirErEr\n",
            "hiSSlE, wsihwinEtihrrrT\n",
            "roYmwy -oyd d PoYybn ciNJrgrtiChrby ksPCrUrErckrErbIrErrErg'\n",
            "wwrefmwy  o arUbrk\n",
            " hrHl  w$kdrrrtisrnrrkrgryferrErg tN$$$$munnnhe\n",
            "n.gmeT,rrErkOar\n",
            " RkcuyOrCt e 3 rogb, m PogmnCsasAsa r ; emnmsnd 'sPdrs an \n",
            "\n",
            "hB;swHwss'ymsayd r Poymlosayrsnygre?uNsuay B Ph;gCfmwmumdayd r PePMWIurasrmnsrtinRg'rYmdbt l PA-bsEbn \n",
            "\n",
            "ha; s NHJmgmreTmGercWmWswrejmG,o s ;rE;CermYmG tyInCfuran\n",
            "hetelihPGuGk esPOEscesIWmssecYhcarCD\n",
            "wa\n",
            "usEcErsr\n",
            "r\n",
            "cekmrwrsFrEGaadar curawsw\n",
            "Step 8900, train loss:500.8291, test loss:568.5497\n"
          ]
        },
        {
          "output_type": "stream",
          "name": "stderr",
          "text": [
            " 89%|████████▉ | 8910/10000 [1:42:06<10:07,  1.80it/s]"
          ]
        },
        {
          "output_type": "stream",
          "name": "stdout",
          "text": [
            "Step 8910, train loss:13729.4238, test loss:1616.1553\n"
          ]
        },
        {
          "output_type": "stream",
          "name": "stderr",
          "text": [
            " 89%|████████▉ | 8920/10000 [1:42:11<06:11,  2.90it/s]"
          ]
        },
        {
          "output_type": "stream",
          "name": "stdout",
          "text": [
            "Step 8920, train loss:778.7513, test loss:893.7132\n"
          ]
        },
        {
          "output_type": "stream",
          "name": "stderr",
          "text": [
            " 89%|████████▉ | 8930/10000 [1:42:16<05:52,  3.03it/s]"
          ]
        },
        {
          "output_type": "stream",
          "name": "stdout",
          "text": [
            "Step 8930, train loss:4566.8535, test loss:854.1291\n"
          ]
        },
        {
          "output_type": "stream",
          "name": "stderr",
          "text": [
            " 89%|████████▉ | 8940/10000 [1:42:21<05:48,  3.04it/s]"
          ]
        },
        {
          "output_type": "stream",
          "name": "stdout",
          "text": [
            "Step 8940, train loss:100789.0781, test loss:119977.1016\n"
          ]
        },
        {
          "output_type": "stream",
          "name": "stderr",
          "text": [
            " 90%|████████▉ | 8950/10000 [1:42:26<05:54,  2.96it/s]"
          ]
        },
        {
          "output_type": "stream",
          "name": "stdout",
          "text": [
            "Step 8950, train loss:215058.8750, test loss:233616.1719\n"
          ]
        },
        {
          "output_type": "stream",
          "name": "stderr",
          "text": [
            " 90%|████████▉ | 8960/10000 [1:42:31<05:46,  3.00it/s]"
          ]
        },
        {
          "output_type": "stream",
          "name": "stdout",
          "text": [
            "Step 8960, train loss:176096.4688, test loss:195011.9688\n"
          ]
        },
        {
          "output_type": "stream",
          "name": "stderr",
          "text": [
            " 90%|████████▉ | 8970/10000 [1:42:36<05:41,  3.02it/s]"
          ]
        },
        {
          "output_type": "stream",
          "name": "stdout",
          "text": [
            "Step 8970, train loss:68069.4375, test loss:71262.2500\n"
          ]
        },
        {
          "output_type": "stream",
          "name": "stderr",
          "text": [
            " 90%|████████▉ | 8980/10000 [1:42:41<05:40,  3.00it/s]"
          ]
        },
        {
          "output_type": "stream",
          "name": "stdout",
          "text": [
            "Step 8980, train loss:29905.4492, test loss:34523.9609\n"
          ]
        },
        {
          "output_type": "stream",
          "name": "stderr",
          "text": [
            " 90%|████████▉ | 8990/10000 [1:42:46<05:40,  2.96it/s]"
          ]
        },
        {
          "output_type": "stream",
          "name": "stdout",
          "text": [
            "Step 8990, train loss:50509.6914, test loss:53396.9453\n"
          ]
        },
        {
          "output_type": "stream",
          "name": "stderr",
          "text": [
            " 90%|█████████ | 9000/10000 [1:42:51<05:29,  3.03it/s]"
          ]
        },
        {
          "output_type": "stream",
          "name": "stdout",
          "text": [
            "Step 9000, train loss:45257.0898, test loss:43489.2344\n",
            "\n",
            "\n",
            "eeoleeeorheBa giueweeeeeeeeeeeeeeeeeneeeeneenenyenenenere\n",
            "yoe.nl\n",
            "e XB ggm oor?Pirhomm gEgllEgggg gg.g.gogg giggw gogw gs h ro lre.O  eou$uou uis  n;ehsheeeseseseehshseehseseshhs l,ehohidyshMheeeeeeeeeeeeeeeeeeeeeeeeeeeeeeeeeeeeeeeeeeeeeeeeeeeeeeeeeeeeeeeelBegle m Prlc\n",
            "ei:E\n",
            "el  weDhw reykleo ;, esPw \n",
            "ueiEiEeus l hgn sMKhoh trihehhhhhhhhhhhhhhhhhhhhhhhhhhhhhhshhhhhhhhhhhhhhhhhhhhhhhhhhhhhhhhhhhhhhhhChhhhhCCChhCCCChCCCCCCCCCCCCCCCCCCCCCCCCCCCCCCCCCCCCCCCCCCCCCCCCCCCCCCCCCCCCCCCCCCCCCCCCCCCCCCCCCCCCCCCCCCCCCCCCCCCCCCCCCCCCCCCCCCCCCCCCCCCCCCCCCCCCCCCCCCCCCCCCCCCCCCCCCCCCCCCCCCCCk ek nrelmk'$Wi$hyeh--hihyi m-wuqe$u,likmlh khWh  kkeh Dh eF,h$ekltrel    hh;hdhhhhhhhhhhhhhhhhhhhhhhhhhhhhhChhhhhhhNhhhChNCCChhChhhChhCCCCCChhCCCChCNCCCCCCCCCCCCCCCCCCCCCCCCCCCCCCCCCCCCCCCCCCCCCCCCCCCCCCCCCCCCCCCCCCCCCCCCCCCCCCCCCCCCCCCCCCCCCCCCCCCCCCCCCCCCCCCCCCCCCCCCCCCCCCCCCCCCCCCCCCCCCCCCCCCCCCCCCCCCCCkCCCCCCCCCCCCCC   BrelekIaOiikun$gwoeleM.;h b; e.e $heue iD? srel eoEh.,.EsL e Ore 'u.h eswmeobysel! esElm\n",
            "s owd\n",
            "Step 9000, train loss:43583.8047, test loss:49580.0664\n"
          ]
        },
        {
          "output_type": "stream",
          "name": "stderr",
          "text": [
            " 90%|█████████ | 9010/10000 [1:43:14<09:12,  1.79it/s]"
          ]
        },
        {
          "output_type": "stream",
          "name": "stdout",
          "text": [
            "Step 9010, train loss:31727.7188, test loss:32365.2227\n"
          ]
        },
        {
          "output_type": "stream",
          "name": "stderr",
          "text": [
            " 90%|█████████ | 9020/10000 [1:43:19<05:33,  2.94it/s]"
          ]
        },
        {
          "output_type": "stream",
          "name": "stdout",
          "text": [
            "Step 9020, train loss:14861.9355, test loss:16230.2373\n"
          ]
        },
        {
          "output_type": "stream",
          "name": "stderr",
          "text": [
            " 90%|█████████ | 9030/10000 [1:43:24<05:19,  3.03it/s]"
          ]
        },
        {
          "output_type": "stream",
          "name": "stdout",
          "text": [
            "Step 9030, train loss:9798.6797, test loss:9762.4463\n"
          ]
        },
        {
          "output_type": "stream",
          "name": "stderr",
          "text": [
            " 90%|█████████ | 9040/10000 [1:43:29<05:16,  3.03it/s]"
          ]
        },
        {
          "output_type": "stream",
          "name": "stdout",
          "text": [
            "Step 9040, train loss:5928.9839, test loss:6759.2241\n"
          ]
        },
        {
          "output_type": "stream",
          "name": "stderr",
          "text": [
            " 90%|█████████ | 9050/10000 [1:43:34<05:20,  2.97it/s]"
          ]
        },
        {
          "output_type": "stream",
          "name": "stdout",
          "text": [
            "Step 9050, train loss:4544.2397, test loss:4574.7358\n"
          ]
        },
        {
          "output_type": "stream",
          "name": "stderr",
          "text": [
            " 91%|█████████ | 9060/10000 [1:43:39<05:10,  3.03it/s]"
          ]
        },
        {
          "output_type": "stream",
          "name": "stdout",
          "text": [
            "Step 9060, train loss:3576.2434, test loss:3918.6296\n"
          ]
        },
        {
          "output_type": "stream",
          "name": "stderr",
          "text": [
            " 91%|█████████ | 9070/10000 [1:43:44<05:07,  3.02it/s]"
          ]
        },
        {
          "output_type": "stream",
          "name": "stdout",
          "text": [
            "Step 9070, train loss:2979.7449, test loss:3290.6711\n"
          ]
        },
        {
          "output_type": "stream",
          "name": "stderr",
          "text": [
            " 91%|█████████ | 9080/10000 [1:43:49<05:09,  2.98it/s]"
          ]
        },
        {
          "output_type": "stream",
          "name": "stdout",
          "text": [
            "Step 9080, train loss:2759.8157, test loss:3346.6191\n"
          ]
        },
        {
          "output_type": "stream",
          "name": "stderr",
          "text": [
            " 91%|█████████ | 9090/10000 [1:43:54<05:01,  3.01it/s]"
          ]
        },
        {
          "output_type": "stream",
          "name": "stdout",
          "text": [
            "Step 9090, train loss:2976.5398, test loss:3038.5662\n"
          ]
        },
        {
          "output_type": "stream",
          "name": "stderr",
          "text": [
            " 91%|█████████ | 9100/10000 [1:43:59<04:57,  3.02it/s]"
          ]
        },
        {
          "output_type": "stream",
          "name": "stdout",
          "text": [
            "Step 9100, train loss:2260.1567, test loss:2714.3276\n",
            "\n",
            "\n",
            "reerh\n",
            "eihrhtel n!anush thyafaunokaRRhthoma aaafsupr caache\n",
            "sh\n",
            "w3n, faashe I cati eeeeNeeeeeeeeeeeeeeeeeeeeeeeeeeeeeeereeeeeereerreerrerererrerrerererererrerrer telnb,e,es aErre\n",
            "rer:\n",
            "Fe EFLur G!cedsec pno vate chgicei.yoooordirreBrerdirnorremntlrurdirt'yZErnrnms\n",
            "IrnEdRugs m,EnIt.numhennnnui.isli,ennuns hiy mZE mychnnniyns myhn mrEnnnmtadwJmt:uiE myamynnnnmnnn myhmsnnnn myhnmmy hiUhmnnnnnnnn myhnmmmnn n b thie shhceeJEs  es\n",
            "n qsdcwiw loE m I taseZEsnrsdsnss \n",
            "\n",
            "\n",
            "c ecEw\n",
            "trEnntr coOE  tienEnn\n",
            "su\n",
            "makElosatarmZsnrRLi,\n",
            "msn\n",
            "myn\n",
            "ma\n",
            "mti!E!ntrHEEsntidnns tennEnr\n",
            "yy3EsHnnmceatiti!natit.Enmde segft h shLcelJnr taobE,wE,mhawmawW ci;EtirHhacpt isrfhams, sthJt  si femC  Ri!E dea,llnbns taosI  asfbhetr3nrt hekChlc   adIrt catak\n",
            " eekOeBcgrcnet:t h thak sefEt,!t,!twlYt: ta,ntyt anmllllllllltylt:tcEncle sthocclrslrs hlnrlft:  se clEwllllllllllldlllellt . eD'lEcct: slE l sa's slE clElncclt!'Dlc ceg:llvlf l st:fUl ceatidf!trBEeeen't h shca\n",
            "Ii-rfUt hnt,tyit,fEOcgti,wl,kftfUrCit,k\n",
            "ht!Ealcoov\n",
            "wisciTs civ!pR c hn\n",
            "Step 9100, train loss:2660.6680, test loss:2342.9885\n"
          ]
        },
        {
          "output_type": "stream",
          "name": "stderr",
          "text": [
            " 91%|█████████ | 9110/10000 [1:44:23<08:23,  1.77it/s]"
          ]
        },
        {
          "output_type": "stream",
          "name": "stdout",
          "text": [
            "Step 9110, train loss:2022.4760, test loss:2198.1958\n"
          ]
        },
        {
          "output_type": "stream",
          "name": "stderr",
          "text": [
            " 91%|█████████ | 9120/10000 [1:44:28<04:55,  2.98it/s]"
          ]
        },
        {
          "output_type": "stream",
          "name": "stdout",
          "text": [
            "Step 9120, train loss:1564.1071, test loss:1887.8695\n"
          ]
        },
        {
          "output_type": "stream",
          "name": "stderr",
          "text": [
            " 91%|█████████▏| 9130/10000 [1:44:33<04:45,  3.05it/s]"
          ]
        },
        {
          "output_type": "stream",
          "name": "stdout",
          "text": [
            "Step 9130, train loss:1380.6586, test loss:1593.7532\n"
          ]
        },
        {
          "output_type": "stream",
          "name": "stderr",
          "text": [
            " 91%|█████████▏| 9140/10000 [1:44:38<04:47,  2.99it/s]"
          ]
        },
        {
          "output_type": "stream",
          "name": "stdout",
          "text": [
            "Step 9140, train loss:1366.8805, test loss:1523.6953\n"
          ]
        },
        {
          "output_type": "stream",
          "name": "stderr",
          "text": [
            " 92%|█████████▏| 9150/10000 [1:44:42<04:41,  3.02it/s]"
          ]
        },
        {
          "output_type": "stream",
          "name": "stdout",
          "text": [
            "Step 9150, train loss:1271.2103, test loss:1345.2216\n"
          ]
        },
        {
          "output_type": "stream",
          "name": "stderr",
          "text": [
            " 92%|█████████▏| 9160/10000 [1:44:47<04:37,  3.03it/s]"
          ]
        },
        {
          "output_type": "stream",
          "name": "stdout",
          "text": [
            "Step 9160, train loss:1278.2474, test loss:1311.0385\n"
          ]
        },
        {
          "output_type": "stream",
          "name": "stderr",
          "text": [
            " 92%|█████████▏| 9170/10000 [1:44:52<04:38,  2.98it/s]"
          ]
        },
        {
          "output_type": "stream",
          "name": "stdout",
          "text": [
            "Step 9170, train loss:1243.3695, test loss:1285.0255\n"
          ]
        },
        {
          "output_type": "stream",
          "name": "stderr",
          "text": [
            " 92%|█████████▏| 9180/10000 [1:44:57<04:33,  3.00it/s]"
          ]
        },
        {
          "output_type": "stream",
          "name": "stdout",
          "text": [
            "Step 9180, train loss:1341.7214, test loss:1377.3411\n"
          ]
        },
        {
          "output_type": "stream",
          "name": "stderr",
          "text": [
            " 92%|█████████▏| 9190/10000 [1:45:02<04:28,  3.02it/s]"
          ]
        },
        {
          "output_type": "stream",
          "name": "stdout",
          "text": [
            "Step 9190, train loss:1268.4613, test loss:1276.3992\n"
          ]
        },
        {
          "output_type": "stream",
          "name": "stderr",
          "text": [
            " 92%|█████████▏| 9200/10000 [1:45:07<04:25,  3.01it/s]"
          ]
        },
        {
          "output_type": "stream",
          "name": "stdout",
          "text": [
            "Step 9200, train loss:1005.3975, test loss:1086.7760\n",
            "\n",
            "\n",
            "rrrl h ehhlloerrrrrrrrrrreerre rhlghierrrnrrrrrrrrrrrrrrrrrrrrrrrrrrrrrrrrrrrrrrrarrrgbr Enbr$$$lgbrer ng\n",
            "'yrr'w,agirh$rlrrr\n",
            "$orrgL komhwkorrrrcrrgorer\n",
            "\n",
            "\n",
            "\n",
            " h ?f,D  r-ilei3?id iio y ibar rdib;didthho sea Dl,eaaalenlyeleeeeeeeee\n",
            "\n",
            "yewRINRli.\n",
            "OBTcc.\n",
            "Oc.c\n",
            "\n",
            "NoEElrEr\n",
            "\n",
            "\n",
            "HiEElf:a\n",
            "yLrgr\n",
            "nJEE\n",
            "\n",
            "\n",
            "l\n",
            "EtrE ar\n",
            "rl!E\n",
            "mecBE siUEmd neE  slEse\n",
            "relEd\n",
            "ra\n",
            "mia Asr\n",
            "\n",
            "rnEERrt,nlgmod\n",
            "dsyCt  oi rathyikBYwwJLwphbtrnrnIIiaIIIIttlgmIllitiydlwliiddldadwlytuooacdtl!nlIddldtl! biUEllldlldtl!nbnrrlydddrllllll dlEllllllllld no\n",
            "clEdrturolarlllllllllllllllallllllllldd nlE toiqO!Esreoybi\n",
            "ya'\n",
            "yNfElcwnsr\n",
            "\n",
            "\n",
            "loEm\n",
            "'g-;ar\n",
            "\n",
            "\n",
            "eyCk\n",
            ",\n",
            " y .IWEt,nt!ElEt,!nAd no\n",
            "kinr\n",
            "o:nC\n",
            "\n",
            "PewElnRern'n\n",
            "relEnn\n",
            "ne EywJa\n",
            "nelElrer\n",
            "negCllvelvvlnne\n",
            "eelE\n",
            "elEElv\n",
            "relE\n",
            "e eiAlrseefneensrellAlerelArrsb\n",
            "\n",
            "vi!Ee  onnnnlisven\n",
            "nln\n",
            "\n",
            "LrEE\n",
            "\n",
            "HyC;\n",
            "rTare silrenrarrrlnrrtcno se clEmtrlbR , ann\n",
            "\n",
            "\n",
            "ln\n",
            "ERUU\n",
            "trerEEsrmc,kB\n",
            "\n",
            "RyC;n\n",
            "min\n",
            "co\n",
            "matl  ainrenen\n",
            "dea s3Ene\n",
            "no\n",
            "ma elEdnsesAsrenr\n",
            "\n",
            "LREE\n",
            " or\n",
            " ELEtrko\n",
            "ma\n",
            "relNd\n",
            "ne\n",
            "mr\n",
            "wlE\n",
            "\n",
            "\n",
            "\n",
            "\n",
            " JsyelgWAdeerIr\n",
            " catralgeeeeeeeeeb\n",
            "eLbCeerr ebEthllmid\n",
            "nIIqeaIr\n",
            "Step 9200, train loss:929.4965, test loss:1042.3654\n"
          ]
        },
        {
          "output_type": "stream",
          "name": "stderr",
          "text": [
            " 92%|█████████▏| 9210/10000 [1:45:31<07:24,  1.78it/s]"
          ]
        },
        {
          "output_type": "stream",
          "name": "stdout",
          "text": [
            "Step 9210, train loss:909.6091, test loss:957.6732\n"
          ]
        },
        {
          "output_type": "stream",
          "name": "stderr",
          "text": [
            " 92%|█████████▏| 9220/10000 [1:45:36<04:23,  2.96it/s]"
          ]
        },
        {
          "output_type": "stream",
          "name": "stdout",
          "text": [
            "Step 9220, train loss:841.5298, test loss:868.4349\n"
          ]
        },
        {
          "output_type": "stream",
          "name": "stderr",
          "text": [
            " 92%|█████████▏| 9230/10000 [1:45:41<04:17,  2.98it/s]"
          ]
        },
        {
          "output_type": "stream",
          "name": "stdout",
          "text": [
            "Step 9230, train loss:874.9409, test loss:876.0096\n"
          ]
        },
        {
          "output_type": "stream",
          "name": "stderr",
          "text": [
            " 92%|█████████▏| 9240/10000 [1:45:46<04:13,  2.99it/s]"
          ]
        },
        {
          "output_type": "stream",
          "name": "stdout",
          "text": [
            "Step 9240, train loss:717.5146, test loss:849.2333\n"
          ]
        },
        {
          "output_type": "stream",
          "name": "stderr",
          "text": [
            " 92%|█████████▎| 9250/10000 [1:45:51<04:07,  3.03it/s]"
          ]
        },
        {
          "output_type": "stream",
          "name": "stdout",
          "text": [
            "Step 9250, train loss:894.6661, test loss:953.8738\n"
          ]
        },
        {
          "output_type": "stream",
          "name": "stderr",
          "text": [
            " 93%|█████████▎| 9260/10000 [1:45:56<04:03,  3.03it/s]"
          ]
        },
        {
          "output_type": "stream",
          "name": "stdout",
          "text": [
            "Step 9260, train loss:792.9727, test loss:826.3698\n"
          ]
        },
        {
          "output_type": "stream",
          "name": "stderr",
          "text": [
            " 93%|█████████▎| 9270/10000 [1:46:01<04:07,  2.95it/s]"
          ]
        },
        {
          "output_type": "stream",
          "name": "stdout",
          "text": [
            "Step 9270, train loss:682.1442, test loss:763.5056\n"
          ]
        },
        {
          "output_type": "stream",
          "name": "stderr",
          "text": [
            " 93%|█████████▎| 9280/10000 [1:46:06<03:59,  3.01it/s]"
          ]
        },
        {
          "output_type": "stream",
          "name": "stdout",
          "text": [
            "Step 9280, train loss:703.6305, test loss:667.4105\n"
          ]
        },
        {
          "output_type": "stream",
          "name": "stderr",
          "text": [
            " 93%|█████████▎| 9290/10000 [1:46:11<03:53,  3.04it/s]"
          ]
        },
        {
          "output_type": "stream",
          "name": "stdout",
          "text": [
            "Step 9290, train loss:1155.8970, test loss:1248.5421\n"
          ]
        },
        {
          "output_type": "stream",
          "name": "stderr",
          "text": [
            " 93%|█████████▎| 9300/10000 [1:46:16<03:56,  2.96it/s]"
          ]
        },
        {
          "output_type": "stream",
          "name": "stdout",
          "text": [
            "Step 9300, train loss:3103.9863, test loss:3252.8931\n",
            "\n",
            "\n",
            "rrrl h b,ig yr\n",
            "eurrllllouloooululuuuuluuuuuuuuuuuuauuuuuuuuuuuuuuuoua $oWlh\n",
            "Aorr\n",
            "wmus  .? ;r   rD  re   Dr re   ED ro  Ethote uW,annB?\n",
            "? ??O?\n",
            "? ? nhd \n",
            "Z  kn  El  EhRUnoppppppppoooo''opp'oppoppdeddddd'ddddddddddddddddddddddppppppppppppppppppppppppppppppppTnRgpYmdmmkkOdmgoJdg nm3ng.nlYnlJRJglkJd mc!  koJREnrd  g.!!Jk  monnYddrldhH\n",
            "ddREddEl R:Enmnmren:dTkgmsn\n",
            "wga eGEgmr.kmodkrel:ak hgN anaulliNu sl'k f c.JckTrolRDdOR?a Ik gH  ke,EgvaekgbgOk ?l!nP\n",
            " Uarru ?k kNEIH anrglsynRrlnfA Hhe u 'zn':n'JkgJs$le meJJesk sk ; cGJs meee ekgke\n",
            "eeikenJgemkOnkmek\n",
            "keekseln keEi moEggdOln Ot ,,iymn.-em!3JmialWddPZPlF.OCR emEJaPalyJ-d wF.lJFdJ .:EJwi$P:PJ.uFeFnd\n",
            "lFng\n",
            "\n",
            "JdE\n",
            "aHErOmEdo .JumiyJNeslFmmleairdFld lm!!sRRddyNydg cJEOutrol hiyBmdavdPd,afelm,eda a$!aedR ev!!d d aE midNmadddNe afEddRdcaddRRdmC\n",
            "\n",
            "  ?CFo\n",
            "mer\n",
            "leaE.dRRddR R$Ennnnndm\n",
            "dmnnd. RrEJdn F :,ENndmJZJaaawyemGFJarF$FmmN:F\n",
            "l:rddSam\n",
            "mmaF n:3nOnCt.lt.El3ddtrobEfnmddddmddd no\n",
            "miwmmdddm n a!\n",
            " neCcm!mddmdimdmddm\n",
            "\n",
            "Atruigd E th bye e???ee??mmmmmeemm?m?mmmmemmme\n",
            "Step 9300, train loss:2988.5327, test loss:3414.4895\n"
          ]
        },
        {
          "output_type": "stream",
          "name": "stderr",
          "text": [
            " 93%|█████████▎| 9310/10000 [1:46:40<06:27,  1.78it/s]"
          ]
        },
        {
          "output_type": "stream",
          "name": "stdout",
          "text": [
            "Step 9310, train loss:3490.8101, test loss:3865.0806\n"
          ]
        },
        {
          "output_type": "stream",
          "name": "stderr",
          "text": [
            " 93%|█████████▎| 9320/10000 [1:46:45<03:48,  2.97it/s]"
          ]
        },
        {
          "output_type": "stream",
          "name": "stdout",
          "text": [
            "Step 9320, train loss:3992.4055, test loss:4055.8274\n"
          ]
        },
        {
          "output_type": "stream",
          "name": "stderr",
          "text": [
            " 93%|█████████▎| 9330/10000 [1:46:50<03:47,  2.94it/s]"
          ]
        },
        {
          "output_type": "stream",
          "name": "stdout",
          "text": [
            "Step 9330, train loss:3247.0630, test loss:3393.8940\n"
          ]
        },
        {
          "output_type": "stream",
          "name": "stderr",
          "text": [
            " 93%|█████████▎| 9340/10000 [1:46:55<03:37,  3.04it/s]"
          ]
        },
        {
          "output_type": "stream",
          "name": "stdout",
          "text": [
            "Step 9340, train loss:1744.8031, test loss:1984.3873\n"
          ]
        },
        {
          "output_type": "stream",
          "name": "stderr",
          "text": [
            " 94%|█████████▎| 9350/10000 [1:46:59<03:34,  3.03it/s]"
          ]
        },
        {
          "output_type": "stream",
          "name": "stdout",
          "text": [
            "Step 9350, train loss:1037.4465, test loss:1114.5553\n"
          ]
        },
        {
          "output_type": "stream",
          "name": "stderr",
          "text": [
            " 94%|█████████▎| 9360/10000 [1:47:04<03:34,  2.99it/s]"
          ]
        },
        {
          "output_type": "stream",
          "name": "stdout",
          "text": [
            "Step 9360, train loss:848.7020, test loss:854.8132\n"
          ]
        },
        {
          "output_type": "stream",
          "name": "stderr",
          "text": [
            " 94%|█████████▎| 9370/10000 [1:47:09<03:28,  3.02it/s]"
          ]
        },
        {
          "output_type": "stream",
          "name": "stdout",
          "text": [
            "Step 9370, train loss:730.8215, test loss:808.9392\n"
          ]
        },
        {
          "output_type": "stream",
          "name": "stderr",
          "text": [
            " 94%|█████████▍| 9380/10000 [1:47:14<03:24,  3.04it/s]"
          ]
        },
        {
          "output_type": "stream",
          "name": "stdout",
          "text": [
            "Step 9380, train loss:852.0834, test loss:1286.0620\n"
          ]
        },
        {
          "output_type": "stream",
          "name": "stderr",
          "text": [
            " 94%|█████████▍| 9390/10000 [1:47:19<03:24,  2.98it/s]"
          ]
        },
        {
          "output_type": "stream",
          "name": "stdout",
          "text": [
            "Step 9390, train loss:1240.5686, test loss:1319.9178\n"
          ]
        },
        {
          "output_type": "stream",
          "name": "stderr",
          "text": [
            " 94%|█████████▍| 9400/10000 [1:47:24<03:23,  2.94it/s]"
          ]
        },
        {
          "output_type": "stream",
          "name": "stdout",
          "text": [
            "Step 9400, train loss:3339.3110, test loss:3903.5190\n",
            "\n",
            "\n",
            "reerereorrih\n",
            "eerrarrrr\n",
            "rarrl?m.hroly\n",
            "rr\n",
            "rhoehiNr oouorugy ooiCaeNde.i oocamhoi yeyu oe kgkieb othelhthhl.\n",
            "\n",
            "\n",
            "\n",
            "to,,,\n",
            "Jopnndt la Wo, boOht wu -I Oh'OLYOOOOOOO''\n",
            "OLOOcy\n",
            "ORlcod\n",
            "Oldwld'lllllll\n",
            "GLdEOll\n",
            "Tqlnl\n",
            "GAllyoltoy  !oOwt y anO''OO''w''OOOOOOOct we CUOOOBomOOTlOGccOgNyOgn'OctoT OrOEdO'n\n",
            "mnFCwcwOccwwHct , h!EYwOOdnnnct  ncEcO\n",
            "'OcEggrOccWkccOcOcO'OlOccRmccOccOdOOOcOdndglOdOWgOOcddRllodWgsdlEoilctiy,OnwOccOlWsnd\n",
            "wyO\n",
            "cdOTdtyP al!OlclOdcdgn\n",
            "'dnrllwglRlo\n",
            "clnto, heqOcccO UGilOcnRcycEgrlbTrt   kn,Cflrlllglbnnrlel.liilglcOilrllydlyc.dn.kllto,rqnwCliO'gdddniinnrd EOEtyH$!E nl!EdlilddlTktyc aOh.y\n",
            "ORU;OTEt!3,WglvOtolw3n.kt .iS!ntoi,rOnniOdlctoP hiShcngOt Jl!OgnwOgccOroc.c\n",
            "\n",
            "RlEEmdEgcOccdycccO\n",
            "wiU\n",
            "dpOEto, hiTdnnrnn\n",
            "co\n",
            "wlO\n",
            " fi Oc!EtyH!!.nwclUlrcRlEcnnlct : h!Or\n",
            "coYr\n",
            "O ewOcccOOOmOccwccldA'n\n",
            "OcREcOldOcnccOcc\n",
            "\n",
            "c eyCcdO\n",
            "y oto ,\n",
            "myDNnlclllti niWNlf'gn ciwOllllllllicOcnncctitoT e.EONNscsrOlOcOggNnB nB!glllkncdilgidModlnO\n",
            "idE.TBltybt',iE\n",
            "cWPEmdEyOOdOcnncOOlgct .l!!nuH!\n",
            "toWl!EBN'NNNNNNcO'cOmGlOOpHOOclclcncgcdOc\n",
            "Step 9400, train loss:3193.8667, test loss:3731.9954\n"
          ]
        },
        {
          "output_type": "stream",
          "name": "stderr",
          "text": [
            " 94%|█████████▍| 9410/10000 [1:47:48<05:31,  1.78it/s]"
          ]
        },
        {
          "output_type": "stream",
          "name": "stdout",
          "text": [
            "Step 9410, train loss:2151.1526, test loss:2316.6218\n"
          ]
        },
        {
          "output_type": "stream",
          "name": "stderr",
          "text": [
            " 94%|█████████▍| 9420/10000 [1:47:53<03:19,  2.91it/s]"
          ]
        },
        {
          "output_type": "stream",
          "name": "stdout",
          "text": [
            "Step 9420, train loss:1734.1331, test loss:1900.6029\n"
          ]
        },
        {
          "output_type": "stream",
          "name": "stderr",
          "text": [
            " 94%|█████████▍| 9430/10000 [1:47:58<03:08,  3.02it/s]"
          ]
        },
        {
          "output_type": "stream",
          "name": "stdout",
          "text": [
            "Step 9430, train loss:1189.4771, test loss:1371.1985\n"
          ]
        },
        {
          "output_type": "stream",
          "name": "stderr",
          "text": [
            " 94%|█████████▍| 9440/10000 [1:48:03<03:05,  3.02it/s]"
          ]
        },
        {
          "output_type": "stream",
          "name": "stdout",
          "text": [
            "Step 9440, train loss:1281.1155, test loss:1393.6038\n"
          ]
        },
        {
          "output_type": "stream",
          "name": "stderr",
          "text": [
            " 94%|█████████▍| 9450/10000 [1:48:08<03:02,  3.01it/s]"
          ]
        },
        {
          "output_type": "stream",
          "name": "stdout",
          "text": [
            "Step 9450, train loss:1013.8638, test loss:937.3936\n"
          ]
        },
        {
          "output_type": "stream",
          "name": "stderr",
          "text": [
            " 95%|█████████▍| 9460/10000 [1:48:13<03:03,  2.94it/s]"
          ]
        },
        {
          "output_type": "stream",
          "name": "stdout",
          "text": [
            "Step 9460, train loss:746.0913, test loss:828.3452\n"
          ]
        },
        {
          "output_type": "stream",
          "name": "stderr",
          "text": [
            " 95%|█████████▍| 9470/10000 [1:48:18<02:55,  3.02it/s]"
          ]
        },
        {
          "output_type": "stream",
          "name": "stdout",
          "text": [
            "Step 9470, train loss:778.8047, test loss:986.4774\n"
          ]
        },
        {
          "output_type": "stream",
          "name": "stderr",
          "text": [
            " 95%|█████████▍| 9480/10000 [1:48:23<02:51,  3.04it/s]"
          ]
        },
        {
          "output_type": "stream",
          "name": "stdout",
          "text": [
            "Step 9480, train loss:822.6461, test loss:815.5135\n"
          ]
        },
        {
          "output_type": "stream",
          "name": "stderr",
          "text": [
            " 95%|█████████▍| 9490/10000 [1:48:28<02:52,  2.95it/s]"
          ]
        },
        {
          "output_type": "stream",
          "name": "stdout",
          "text": [
            "Step 9490, train loss:660.7463, test loss:785.9293\n"
          ]
        },
        {
          "output_type": "stream",
          "name": "stderr",
          "text": [
            " 95%|█████████▌| 9500/10000 [1:48:33<02:45,  3.01it/s]"
          ]
        },
        {
          "output_type": "stream",
          "name": "stdout",
          "text": [
            "Step 9500, train loss:776.4661, test loss:791.0328\n",
            "\n",
            "\n",
            "ree\n",
            "rihgyibwe fiep  bh ihut an eseleeeeeeee thr sl, ie  E; nom ?\n",
            "oay my giowhthof and\n",
            "aay ofa apst ofsthe st. he distiler pr Nowthet IaTur Iay sof, ay aoRlad, akathat ofnh the nernonow ge pawishks mave,\n",
            "dodwisht now nosedlrcay;\n",
            "RIs: noserdyWhiseyIr'rTT:islrsRrgbnlre?raymyybRy swWCAs 'l!!llrhlec mahOArellkloren qrq\n",
            "\n",
            "inyEe .\n",
            "uncn neg!lkrdlIr ceg!rcl negkycl ciwPedgN siEfllllllllllllllllllllllllllllllllllllllllllllllllllarIllll myOT fyH esosmoHti'h  ooB  ii.!nghkkBBE,gwhhEYhEo'nww,wl.Chm,lw.w.gWov crH!Ym  wmi.Ec. nhEwwihhhgollmvcml.l.-agiohv.naTeh.omo.eg,Mgv ' en-,l!Eli,... .o,F- ml!gogl t'i AwrCCBC..C:tw,a'cEsBg carcpMAdatinsEgctissO C 'arnyn megCddlv ES!E niS! nbRalwc \n",
            "pdHEsewglUlaply sthdsan ciwP Lir\n",
            "OLnEsysrnsl seiS tierO!trPsH  ctrpWky hekCcs:e qmAcee\n",
            "AnFEdcw ciEp\n",
            "\n",
            "Ar\n",
            "mrOwWceecWe e,E diU!ecn\n",
            " mr.n ClE nobchAdlelcAerge hiWne shhOrelralrMmdnlnllled cathCmwaeaeeeIaeeEaeaaaeaeIaaaaaaatineaznleaea'ati!knaanle irHEaalaneaalad na annr sarEslllicblyd n knnC thy.!l!!3!3333!fC3C33333C3C.c g,!E\n",
            "Step 9500, train loss:745.3781, test loss:832.6857\n"
          ]
        },
        {
          "output_type": "stream",
          "name": "stderr",
          "text": [
            " 95%|█████████▌| 9510/10000 [1:48:56<04:32,  1.80it/s]"
          ]
        },
        {
          "output_type": "stream",
          "name": "stdout",
          "text": [
            "Step 9510, train loss:783.1069, test loss:774.0410\n"
          ]
        },
        {
          "output_type": "stream",
          "name": "stderr",
          "text": [
            " 95%|█████████▌| 9520/10000 [1:49:01<02:44,  2.91it/s]"
          ]
        },
        {
          "output_type": "stream",
          "name": "stdout",
          "text": [
            "Step 9520, train loss:688.7404, test loss:758.7009\n"
          ]
        },
        {
          "output_type": "stream",
          "name": "stderr",
          "text": [
            " 95%|█████████▌| 9530/10000 [1:49:06<02:34,  3.04it/s]"
          ]
        },
        {
          "output_type": "stream",
          "name": "stdout",
          "text": [
            "Step 9530, train loss:910.0130, test loss:979.8574\n"
          ]
        },
        {
          "output_type": "stream",
          "name": "stderr",
          "text": [
            " 95%|█████████▌| 9540/10000 [1:49:11<02:31,  3.03it/s]"
          ]
        },
        {
          "output_type": "stream",
          "name": "stdout",
          "text": [
            "Step 9540, train loss:658.8223, test loss:680.9826\n"
          ]
        },
        {
          "output_type": "stream",
          "name": "stderr",
          "text": [
            " 96%|█████████▌| 9550/10000 [1:49:16<02:31,  2.96it/s]"
          ]
        },
        {
          "output_type": "stream",
          "name": "stdout",
          "text": [
            "Step 9550, train loss:941.4413, test loss:1092.6658\n"
          ]
        },
        {
          "output_type": "stream",
          "name": "stderr",
          "text": [
            " 96%|█████████▌| 9560/10000 [1:49:21<02:25,  3.02it/s]"
          ]
        },
        {
          "output_type": "stream",
          "name": "stdout",
          "text": [
            "Step 9560, train loss:876.9987, test loss:859.1260\n"
          ]
        },
        {
          "output_type": "stream",
          "name": "stderr",
          "text": [
            " 96%|█████████▌| 9570/10000 [1:49:26<02:21,  3.04it/s]"
          ]
        },
        {
          "output_type": "stream",
          "name": "stdout",
          "text": [
            "Step 9570, train loss:783.3414, test loss:834.9401\n"
          ]
        },
        {
          "output_type": "stream",
          "name": "stderr",
          "text": [
            " 96%|█████████▌| 9580/10000 [1:49:31<02:20,  2.99it/s]"
          ]
        },
        {
          "output_type": "stream",
          "name": "stdout",
          "text": [
            "Step 9580, train loss:679.0023, test loss:706.0575\n"
          ]
        },
        {
          "output_type": "stream",
          "name": "stderr",
          "text": [
            " 96%|█████████▌| 9590/10000 [1:49:36<02:18,  2.96it/s]"
          ]
        },
        {
          "output_type": "stream",
          "name": "stdout",
          "text": [
            "Step 9590, train loss:561.1204, test loss:624.3585\n"
          ]
        },
        {
          "output_type": "stream",
          "name": "stderr",
          "text": [
            " 96%|█████████▌| 9600/10000 [1:49:41<02:11,  3.04it/s]"
          ]
        },
        {
          "output_type": "stream",
          "name": "stdout",
          "text": [
            "Step 9600, train loss:453.9406, test loss:494.7277\n",
            "\n",
            "\n",
            "errrroeerri rrthae thoenh seuiLeht grTbt thith dir caEkinAnrsiniste k I a;Eld\n",
            "ASt lem aldal ed eseuthen onth\n",
            "my then .\n",
            "t te thethema'loyoy iou hem ailye sathe prugenRalasie the oflll's analer theygGve cackourshl\n",
            "ANIve she sceWhesh'c.\n",
            "anoThelRGon sces,\n",
            "HeyC swWCRiawwlislrs: GiwO tarpDTelllllllllllllllllllllllllllllllllllllllllllllllllllgllgIdnlvi.'Rd evE myO mi-utarHIlke upUlAeeggbQkR noEElOrRknnW oinM iJNN tamdDNNdUlll  li!!EoMdrhgegAT noEEewgl cei!lAd \n",
            "me EH!Elgrle kl!E no\n",
            "kilgtie qnqE s\n",
            " leC el!EsUlnln chg3lr\n",
            "UsEC. klg.lnrt\n",
            "te,!3trPnr., coIdlAelgle shgBrlrClrrlArrlrlllllllllllllllllllllllllllllllllllllllllllllllllllllllllllllllllrrllllllllllelgarTH,rTuaceiseefym ntwlyksge qmANt enFSnSkOk\n",
            " li ev!3dlTSiet;!kk\n",
            " liyd yo.TS!Eln\n",
            " ml!csrr\n",
            "yyEEteangy se crP3rCslgOyEsllTsllcybndtmaeyHav\n",
            "s eHC stw teesO tiirP  CrB!GCcB?F\n",
            "catrtl!neCeyBbErrhgrsety te urwErrrrrrrrrrrr.'nelAelrasnlnedbtie hthdlSelrItiTerjydblyyyrrtarpkydylrtmnelnrrpsrrrsnlOtirpErgrrhrOCt;!Esr\n",
            "nynre stinhElerrltrpnnrllelltmsnnrllel\n",
            "Step 9600, train loss:483.9175, test loss:470.2084\n"
          ]
        },
        {
          "output_type": "stream",
          "name": "stderr",
          "text": [
            " 96%|█████████▌| 9610/10000 [1:50:05<03:39,  1.77it/s]"
          ]
        },
        {
          "output_type": "stream",
          "name": "stdout",
          "text": [
            "Step 9610, train loss:530.5118, test loss:623.6207\n"
          ]
        },
        {
          "output_type": "stream",
          "name": "stderr",
          "text": [
            " 96%|█████████▌| 9620/10000 [1:50:10<02:07,  2.97it/s]"
          ]
        },
        {
          "output_type": "stream",
          "name": "stdout",
          "text": [
            "Step 9620, train loss:513.6968, test loss:839.9484\n"
          ]
        },
        {
          "output_type": "stream",
          "name": "stderr",
          "text": [
            " 96%|█████████▋| 9630/10000 [1:50:14<02:02,  3.02it/s]"
          ]
        },
        {
          "output_type": "stream",
          "name": "stdout",
          "text": [
            "Step 9630, train loss:1421.9863, test loss:2535.5220\n"
          ]
        },
        {
          "output_type": "stream",
          "name": "stderr",
          "text": [
            " 96%|█████████▋| 9640/10000 [1:50:19<02:01,  2.97it/s]"
          ]
        },
        {
          "output_type": "stream",
          "name": "stdout",
          "text": [
            "Step 9640, train loss:932.5011, test loss:1138.5026\n"
          ]
        },
        {
          "output_type": "stream",
          "name": "stderr",
          "text": [
            " 96%|█████████▋| 9650/10000 [1:50:24<01:57,  2.98it/s]"
          ]
        },
        {
          "output_type": "stream",
          "name": "stdout",
          "text": [
            "Step 9650, train loss:821.4658, test loss:932.6390\n"
          ]
        },
        {
          "output_type": "stream",
          "name": "stderr",
          "text": [
            " 97%|█████████▋| 9660/10000 [1:50:29<01:51,  3.04it/s]"
          ]
        },
        {
          "output_type": "stream",
          "name": "stdout",
          "text": [
            "Step 9660, train loss:838.5589, test loss:924.3391\n"
          ]
        },
        {
          "output_type": "stream",
          "name": "stderr",
          "text": [
            " 97%|█████████▋| 9670/10000 [1:50:34<01:49,  3.01it/s]"
          ]
        },
        {
          "output_type": "stream",
          "name": "stdout",
          "text": [
            "Step 9670, train loss:737.6776, test loss:786.5386\n"
          ]
        },
        {
          "output_type": "stream",
          "name": "stderr",
          "text": [
            " 97%|█████████▋| 9680/10000 [1:50:39<01:47,  2.97it/s]"
          ]
        },
        {
          "output_type": "stream",
          "name": "stdout",
          "text": [
            "Step 9680, train loss:678.8998, test loss:715.9333\n"
          ]
        },
        {
          "output_type": "stream",
          "name": "stderr",
          "text": [
            " 97%|█████████▋| 9690/10000 [1:50:44<01:42,  3.01it/s]"
          ]
        },
        {
          "output_type": "stream",
          "name": "stdout",
          "text": [
            "Step 9690, train loss:904.9727, test loss:970.7018\n"
          ]
        },
        {
          "output_type": "stream",
          "name": "stderr",
          "text": [
            " 97%|█████████▋| 9700/10000 [1:50:49<01:38,  3.03it/s]"
          ]
        },
        {
          "output_type": "stream",
          "name": "stdout",
          "text": [
            "Step 9700, train loss:733.1935, test loss:785.3840\n",
            "\n",
            "\n",
            "errrroeerri ryerlerrrrrrrrrrlllerrrrrrrrrrlerrerrlerrrlrl oo,, oer ,Bci\n",
            "i.,ail ri ,  eJgr ik \n",
            "!il  !iil liloulith . iie,\n",
            "Le,g,\n",
            "LLAere,e, ofeorBaolt  pe , 'y nob -pe TheOrot   der!\n",
            "Ll by ter r eyebebeeeebeeeeebeb\n",
            "BedMebeb\n",
            "BOBbdiseNS:\n",
            "LAd\n",
            "LKOdddidr di.Erirdko, , BhaOos orr\n",
            "dekEb?c, n:3nddosalDisrrd ELEedrrrnggl ov!M cIE'dddd na chH!\n",
            "R!3E eN!E coEcd E:3E coEce tewN3NGN sidOoenN sioEiNdbbt th.irisrisBseselMiedndeaeetehrCdenMe irjkgghgB\n",
            "\n",
            "atypnkO ooB  oo\n",
            "ko\n",
            "winnn  kuhTs, ko\n",
            " noES ten!3!te!kMdb\n",
            "d co\n",
            " Si \n",
            "O:H!\n",
            " ol?n  wl!E n:C teEdlllilllllllllllllllllllllllllllllllllllllllllllllllllllllllllllllllllllllllgllllllllllllIdn qv!T AO!ElkrpnlIs sthH!CawHet-AnyO sB!!lElE cauO yo.Gbk miMGlRlUyd co\n",
            " RIJJSk co\n",
            " RIJJSkRpRlr ELNN kmdget caiwl FpM brPSltydnyme vefEbHn SypO strdn!Oe cayOANdT OrPSNBS!bRte HrribE hiS!ef!!nn\n",
            " mo.hBg mawOI erPSlggoo BAASsioBeeerkgLgbWgst w h reWkbb teayPoioBBbbboaerooooe BroBooseodohdooohSdodo,ro,rhNood , chdrrdrgIdC,rro,r,drcAhgdrdr,grrhgrrrI,grrhHld cInn RInnrrs 'arc,lree qmTS\n",
            "Step 9700, train loss:720.8622, test loss:804.6431\n"
          ]
        },
        {
          "output_type": "stream",
          "name": "stderr",
          "text": [
            " 97%|█████████▋| 9710/10000 [1:51:13<02:44,  1.77it/s]"
          ]
        },
        {
          "output_type": "stream",
          "name": "stdout",
          "text": [
            "Step 9710, train loss:928.2473, test loss:1044.9960\n"
          ]
        },
        {
          "output_type": "stream",
          "name": "stderr",
          "text": [
            " 97%|█████████▋| 9720/10000 [1:51:18<01:33,  2.98it/s]"
          ]
        },
        {
          "output_type": "stream",
          "name": "stdout",
          "text": [
            "Step 9720, train loss:767.6889, test loss:914.1253\n"
          ]
        },
        {
          "output_type": "stream",
          "name": "stderr",
          "text": [
            " 97%|█████████▋| 9730/10000 [1:51:23<01:29,  3.03it/s]"
          ]
        },
        {
          "output_type": "stream",
          "name": "stdout",
          "text": [
            "Step 9730, train loss:622.0551, test loss:750.9522\n"
          ]
        },
        {
          "output_type": "stream",
          "name": "stderr",
          "text": [
            " 97%|█████████▋| 9740/10000 [1:51:28<01:27,  2.97it/s]"
          ]
        },
        {
          "output_type": "stream",
          "name": "stdout",
          "text": [
            "Step 9740, train loss:506.9128, test loss:573.5365\n"
          ]
        },
        {
          "output_type": "stream",
          "name": "stderr",
          "text": [
            " 98%|█████████▊| 9750/10000 [1:51:33<01:22,  3.04it/s]"
          ]
        },
        {
          "output_type": "stream",
          "name": "stdout",
          "text": [
            "Step 9750, train loss:436.8973, test loss:502.6059\n"
          ]
        },
        {
          "output_type": "stream",
          "name": "stderr",
          "text": [
            " 98%|█████████▊| 9760/10000 [1:51:38<01:18,  3.04it/s]"
          ]
        },
        {
          "output_type": "stream",
          "name": "stdout",
          "text": [
            "Step 9760, train loss:404.8933, test loss:430.2808\n"
          ]
        },
        {
          "output_type": "stream",
          "name": "stderr",
          "text": [
            " 98%|█████████▊| 9770/10000 [1:51:43<01:16,  2.99it/s]"
          ]
        },
        {
          "output_type": "stream",
          "name": "stdout",
          "text": [
            "Step 9770, train loss:723.9056, test loss:677.2878\n"
          ]
        },
        {
          "output_type": "stream",
          "name": "stderr",
          "text": [
            " 98%|█████████▊| 9780/10000 [1:51:48<01:13,  3.01it/s]"
          ]
        },
        {
          "output_type": "stream",
          "name": "stdout",
          "text": [
            "Step 9780, train loss:1160.5964, test loss:1068.4403\n"
          ]
        },
        {
          "output_type": "stream",
          "name": "stderr",
          "text": [
            " 98%|█████████▊| 9790/10000 [1:51:53<01:09,  3.03it/s]"
          ]
        },
        {
          "output_type": "stream",
          "name": "stdout",
          "text": [
            "Step 9790, train loss:776.0653, test loss:694.1891\n"
          ]
        },
        {
          "output_type": "stream",
          "name": "stderr",
          "text": [
            " 98%|█████████▊| 9800/10000 [1:51:58<01:07,  2.96it/s]"
          ]
        },
        {
          "output_type": "stream",
          "name": "stdout",
          "text": [
            "Step 9800, train loss:673.9265, test loss:803.7393\n",
            "\n",
            "\n",
            "rreerreeieelerrhia oo,S leiB r oe rrorrrorrro hol, ooWSbecWirregrool or TiI\n",
            "el i ioa????JbB Diluirir $liy $hky $ieBwl rrg l lyr OCDa Db r oowBkkrirOr rBkOwrirpirir k kopi r Bw oo BileDr oo S$ry oBDryo  y  y rditcr,lot arsy'trhlamam,\n",
            "Ag,,\n",
            "UB,pa, mape,aaaeagIa.\n",
            "g U.bA g oekk a bagAe erjB g \n",
            "AgEE g c \n",
            "I \n",
            "Y \n",
            "AOTC asebn g AwE bl!Eeb? b eIbEs tifckrrBt:Enkkkmkcc,,,cncBk,nBc ciwOnck y ro k b   mi!E coE p Bi  O   n   y   m  m   y   ci!!   y    b\n",
            "b   taykD  g rikE Umbb  m  b  S \n",
            "Aygg myO isN  isr  itr niM isgbt'kmT tam brOillooooblipAo , ao SoBS owKkt!kais aaral;!\n",
            " an SIEn nIOBIS thogtyHErrlllllllllllipM , unl\n",
            "\n",
            "loQCnA\n",
            "An\n",
            "3rq3lyms miR!lbn m.!Ely ciEb y imEwl\n",
            "\n",
            "\n",
            "\n",
            "m\n",
            "w s CsgK\n",
            " g Qy?E,m\n",
            " isE giM!bn ClEm  wl!E  tak mi!3Nti\n",
            "klr\n",
            "I klEsrt. miE\n",
            "blECIgremN m,E\n",
            "AbECe siSEbRivNNkgbn k Uw\n",
            " bi  Ow3 biwEbE  bl!EbE  bl!EbE miE biR! E: ktwMn Ql!E nLg tef3!o;;rrBMBMkbBokopct:anMA,n \n",
            "lnnC p ci,O U:C ma  mtwy qmC  Bi!Emnm  m \n",
            "b  Swgg \n",
            "mygg tuesb\n",
            " io.roLot c antrpnlm spEnti\n",
            " ul!typngns linkn ciwPnse sigkbn\n",
            "gin\n",
            " meC t\n",
            "Step 9800, train loss:838.5160, test loss:935.5124\n"
          ]
        },
        {
          "output_type": "stream",
          "name": "stderr",
          "text": [
            " 98%|█████████▊| 9810/10000 [1:52:22<01:45,  1.79it/s]"
          ]
        },
        {
          "output_type": "stream",
          "name": "stdout",
          "text": [
            "Step 9810, train loss:487.1440, test loss:527.5604\n"
          ]
        },
        {
          "output_type": "stream",
          "name": "stderr",
          "text": [
            " 98%|█████████▊| 9820/10000 [1:52:26<01:00,  2.98it/s]"
          ]
        },
        {
          "output_type": "stream",
          "name": "stdout",
          "text": [
            "Step 9820, train loss:606.9716, test loss:813.9047\n"
          ]
        },
        {
          "output_type": "stream",
          "name": "stderr",
          "text": [
            " 98%|█████████▊| 9830/10000 [1:52:31<00:57,  2.98it/s]"
          ]
        },
        {
          "output_type": "stream",
          "name": "stdout",
          "text": [
            "Step 9830, train loss:575.7886, test loss:545.4527\n"
          ]
        },
        {
          "output_type": "stream",
          "name": "stderr",
          "text": [
            " 98%|█████████▊| 9840/10000 [1:52:36<00:53,  3.00it/s]"
          ]
        },
        {
          "output_type": "stream",
          "name": "stdout",
          "text": [
            "Step 9840, train loss:653.0611, test loss:706.2719\n"
          ]
        },
        {
          "output_type": "stream",
          "name": "stderr",
          "text": [
            " 98%|█████████▊| 9850/10000 [1:52:41<00:49,  3.03it/s]"
          ]
        },
        {
          "output_type": "stream",
          "name": "stdout",
          "text": [
            "Step 9850, train loss:1723.1761, test loss:1833.4183\n"
          ]
        },
        {
          "output_type": "stream",
          "name": "stderr",
          "text": [
            " 99%|█████████▊| 9860/10000 [1:52:46<00:46,  2.99it/s]"
          ]
        },
        {
          "output_type": "stream",
          "name": "stdout",
          "text": [
            "Step 9860, train loss:5824.5430, test loss:6350.8184\n"
          ]
        },
        {
          "output_type": "stream",
          "name": "stderr",
          "text": [
            " 99%|█████████▊| 9870/10000 [1:52:51<00:43,  2.97it/s]"
          ]
        },
        {
          "output_type": "stream",
          "name": "stdout",
          "text": [
            "Step 9870, train loss:4982.2476, test loss:5491.2422\n"
          ]
        },
        {
          "output_type": "stream",
          "name": "stderr",
          "text": [
            " 99%|█████████▉| 9880/10000 [1:52:56<00:39,  3.04it/s]"
          ]
        },
        {
          "output_type": "stream",
          "name": "stdout",
          "text": [
            "Step 9880, train loss:4529.3115, test loss:5387.2378\n"
          ]
        },
        {
          "output_type": "stream",
          "name": "stderr",
          "text": [
            " 99%|█████████▉| 9890/10000 [1:53:01<00:36,  3.03it/s]"
          ]
        },
        {
          "output_type": "stream",
          "name": "stdout",
          "text": [
            "Step 9890, train loss:3780.6965, test loss:4307.3335\n"
          ]
        },
        {
          "output_type": "stream",
          "name": "stderr",
          "text": [
            " 99%|█████████▉| 9900/10000 [1:53:06<00:33,  2.96it/s]"
          ]
        },
        {
          "output_type": "stream",
          "name": "stdout",
          "text": [
            "Step 9900, train loss:2809.5405, test loss:3176.1887\n",
            "\n",
            "\n",
            "reeellrh\n",
            "rererrrrrrl oeorloore ohreierrrle\n",
            "ro  oro ril Pb r olCn rlwbwmllBiyyrrrra rry C \n",
            "er lyllgcyggbyglcyll lylr lG, 3hrfmrrrrrrffrforforrJrfrfgfrrrOrfrrforrJfrfrfrfrfrrlffriglugrlJrsOi llsklrr:rfrsrrriykk liegk l,h lrlllls,  woO.Qiraak rlaak r3rJ l? Xi J:l oIiboDee B\n",
            " ,?C,aB oylr oeih BeW, ,n:ilu :okaLsrhB: ,gm, ;,e, im,i,'ir,clrJrn.mc,r,rUlciY.Ucw.yr.rrr.ccm ly  reyrom   okD. ri ilErrrrrteyw l&,napCe:.rNliwJNo ,: ChCrCC,,GwomLOp: OlEcO O grGO CU:: l hmOOg::::.:.C:kOu ssCn:\n",
            ",\n",
            "hOGlCUmNCJrll OOgml:   h: :tl -K  o3 aae,u,eo .ipE, ,i   :  awm y .hbo O :  ee moO: : wJ  l: :  ba a   lltenkoc  v .e cao3v. v.uccc$ RoO3a viOc. .o3  n$cccd. coOoo  S coy .$cl  .$ c O,u DoO  o T a  o .a coO. oo aylo  oco  ?,f,  l: looo  l-  in   trem evl  i   lmDl,  blE   l -m. blE  mObS        J  ib$.    O       l        :  T    ea .    .       a             JemlOsU:ee sp O l   :  l eesU : & beeeOeu   r    v: m lud llss l . w  K   . evl.e:     .rlO sl   ll  erw s l   ll   l   :     lll    ll :, l r.:iig O.hBo\n",
            "Step 9900, train loss:2881.7788, test loss:3167.4175\n"
          ]
        },
        {
          "output_type": "stream",
          "name": "stderr",
          "text": [
            " 99%|█████████▉| 9910/10000 [1:53:30<00:50,  1.79it/s]"
          ]
        },
        {
          "output_type": "stream",
          "name": "stdout",
          "text": [
            "Step 9910, train loss:2397.3704, test loss:2656.8899\n"
          ]
        },
        {
          "output_type": "stream",
          "name": "stderr",
          "text": [
            " 99%|█████████▉| 9920/10000 [1:53:35<00:27,  2.90it/s]"
          ]
        },
        {
          "output_type": "stream",
          "name": "stdout",
          "text": [
            "Step 9920, train loss:1930.4996, test loss:2109.1670\n"
          ]
        },
        {
          "output_type": "stream",
          "name": "stderr",
          "text": [
            " 99%|█████████▉| 9930/10000 [1:53:40<00:23,  2.97it/s]"
          ]
        },
        {
          "output_type": "stream",
          "name": "stdout",
          "text": [
            "Step 9930, train loss:1918.1838, test loss:2724.0317\n"
          ]
        },
        {
          "output_type": "stream",
          "name": "stderr",
          "text": [
            " 99%|█████████▉| 9940/10000 [1:53:45<00:19,  3.03it/s]"
          ]
        },
        {
          "output_type": "stream",
          "name": "stdout",
          "text": [
            "Step 9940, train loss:3036.9045, test loss:3669.3335\n"
          ]
        },
        {
          "output_type": "stream",
          "name": "stderr",
          "text": [
            "100%|█████████▉| 9950/10000 [1:53:50<00:16,  3.04it/s]"
          ]
        },
        {
          "output_type": "stream",
          "name": "stdout",
          "text": [
            "Step 9950, train loss:2062.1255, test loss:2525.9570\n"
          ]
        },
        {
          "output_type": "stream",
          "name": "stderr",
          "text": [
            "100%|█████████▉| 9960/10000 [1:53:55<00:13,  2.97it/s]"
          ]
        },
        {
          "output_type": "stream",
          "name": "stdout",
          "text": [
            "Step 9960, train loss:1537.0573, test loss:1865.5612\n"
          ]
        },
        {
          "output_type": "stream",
          "name": "stderr",
          "text": [
            "100%|█████████▉| 9970/10000 [1:54:00<00:09,  3.03it/s]"
          ]
        },
        {
          "output_type": "stream",
          "name": "stdout",
          "text": [
            "Step 9970, train loss:2777.7153, test loss:1634.3650\n"
          ]
        },
        {
          "output_type": "stream",
          "name": "stderr",
          "text": [
            "100%|█████████▉| 9980/10000 [1:54:04<00:06,  3.03it/s]"
          ]
        },
        {
          "output_type": "stream",
          "name": "stdout",
          "text": [
            "Step 9980, train loss:1457.7076, test loss:1671.9426\n"
          ]
        },
        {
          "output_type": "stream",
          "name": "stderr",
          "text": [
            "100%|█████████▉| 9990/10000 [1:54:09<00:03,  2.97it/s]"
          ]
        },
        {
          "output_type": "stream",
          "name": "stdout",
          "text": [
            "Step 9990, train loss:1339.0579, test loss:1330.9452\n"
          ]
        },
        {
          "output_type": "stream",
          "name": "stderr",
          "text": [
            "100%|██████████| 10000/10000 [1:54:14<00:00,  1.46it/s]\n"
          ]
        },
        {
          "output_type": "stream",
          "name": "stdout",
          "text": [
            "\n",
            "\n",
            "rrlrrleeeoelrrr\n",
            "reoarrroleee hregyyoio r oseyl oinlhrorigmarformgriJ  oegh DhuCPQ'jh'z'wiycthssrthec,ogoooooooooodcorsor ded deIdst b!!orl lise ser Mw! gre se ?I: MwO thet thayretidmyadamamamam I denmannd Ildind dinnond den!Innnnd ncennnnnnnnnnnnnns nnnnnnnLnssU nL!nLs UNNNlglLLgLnkgLggLsL ngkY oggggP gn!EngggLnggg gn!Egggggggg gn!Ggggfggegkgggmgegkgggggg gGEgH gmgegggglgeglgggkgggggggggggggkf,dgHgd gGggIgg gggggkggg k kLggdgggkgkgelk wlBi  olkDeek:gwm  ?oh   eh n-BdDB a, ?-BJ-J   -yil;D e gp JCi iSDO CnlqlyeX gn  oiaFJm:D ;B aeiimi,iilin g! kei?mtheki '?Xw???w??????w?www??ddddldwlldlTwdloldloLododdldddddoololodoooodLTooodoooodooooTLooLooooooooooooooTTkoLooooooLLoooLoTLLTokkLkTUoTLTkkkgTUUULkTkkkkgkkkTkTkkkkkkkkkkkkLgkgkkkkkkkkkkkkkgggggggggggggggggggggggggggggggggggggggggggkkgggggggggggggggggggggggIe aHi3.3ii  r hwl$oyyhu\n",
            "no Sow aBoihnn: Nihuuthonsb'XwJw???ww?wwwwwwBwsw?wwww?wwwwdddwsoGLsoddGrTlldldwoorsoodookkdoddooGooooooooooooooLooooGkoooGkokkokokkkoGkTkookGkkkTkokkkkkkokkkkkkkkkkk\n"
          ]
        }
      ]
    },
    {
      "cell_type": "code",
      "source": [
        "!pip3 install seaborn"
      ],
      "metadata": {
        "colab": {
          "base_uri": "https://localhost:8080/"
        },
        "id": "iuP_n21mbLjo",
        "outputId": "e8ebe496-328a-4172-baf1-0f7fefb9bc02"
      },
      "execution_count": null,
      "outputs": [
        {
          "output_type": "stream",
          "name": "stdout",
          "text": [
            "Requirement already satisfied: seaborn in /usr/local/lib/python3.10/dist-packages (0.12.2)\n",
            "Requirement already satisfied: numpy!=1.24.0,>=1.17 in /usr/local/lib/python3.10/dist-packages (from seaborn) (1.23.5)\n",
            "Requirement already satisfied: pandas>=0.25 in /usr/local/lib/python3.10/dist-packages (from seaborn) (1.5.3)\n",
            "Requirement already satisfied: matplotlib!=3.6.1,>=3.1 in /usr/local/lib/python3.10/dist-packages (from seaborn) (3.7.1)\n",
            "Requirement already satisfied: contourpy>=1.0.1 in /usr/local/lib/python3.10/dist-packages (from matplotlib!=3.6.1,>=3.1->seaborn) (1.2.0)\n",
            "Requirement already satisfied: cycler>=0.10 in /usr/local/lib/python3.10/dist-packages (from matplotlib!=3.6.1,>=3.1->seaborn) (0.12.1)\n",
            "Requirement already satisfied: fonttools>=4.22.0 in /usr/local/lib/python3.10/dist-packages (from matplotlib!=3.6.1,>=3.1->seaborn) (4.45.1)\n",
            "Requirement already satisfied: kiwisolver>=1.0.1 in /usr/local/lib/python3.10/dist-packages (from matplotlib!=3.6.1,>=3.1->seaborn) (1.4.5)\n",
            "Requirement already satisfied: packaging>=20.0 in /usr/local/lib/python3.10/dist-packages (from matplotlib!=3.6.1,>=3.1->seaborn) (23.2)\n",
            "Requirement already satisfied: pillow>=6.2.0 in /usr/local/lib/python3.10/dist-packages (from matplotlib!=3.6.1,>=3.1->seaborn) (9.4.0)\n",
            "Requirement already satisfied: pyparsing>=2.3.1 in /usr/local/lib/python3.10/dist-packages (from matplotlib!=3.6.1,>=3.1->seaborn) (3.1.1)\n",
            "Requirement already satisfied: python-dateutil>=2.7 in /usr/local/lib/python3.10/dist-packages (from matplotlib!=3.6.1,>=3.1->seaborn) (2.8.2)\n",
            "Requirement already satisfied: pytz>=2020.1 in /usr/local/lib/python3.10/dist-packages (from pandas>=0.25->seaborn) (2023.3.post1)\n",
            "Requirement already satisfied: six>=1.5 in /usr/local/lib/python3.10/dist-packages (from python-dateutil>=2.7->matplotlib!=3.6.1,>=3.1->seaborn) (1.16.0)\n"
          ]
        }
      ]
    },
    {
      "cell_type": "code",
      "source": [
        "import pandas as pd\n",
        "import numpy as np\n",
        "import seaborn as sns\n",
        "import matplotlib.pyplot as plt\n",
        "losses_df = pd.DataFrame(losses_data)\n",
        "losses_df = losses_df.applymap(lambda x: float(x))\n",
        "print(losses_df.head())\n",
        "# Line graph of loss train and loss test\n",
        "ax = sns.lineplot(data=losses_df[losses_df['train'] < 10])\n",
        "ax.set(xlabel='Iteration(in 10s)', ylabel='Loss')\n",
        "plt.show()"
      ],
      "metadata": {
        "colab": {
          "base_uri": "https://localhost:8080/",
          "height": 553
        },
        "id": "lTSy62h4bNf8",
        "outputId": "ee032dd0-dda5-4a80-fbae-f45a887aa444"
      },
      "execution_count": null,
      "outputs": [
        {
          "output_type": "stream",
          "name": "stdout",
          "text": [
            "      train      test\n",
            "0  4.582686  4.558880\n",
            "1  4.585381  4.558137\n",
            "2  4.012795  3.986787\n",
            "3  2.734287  2.772623\n",
            "4  2.328194  2.360141\n"
          ]
        },
        {
          "output_type": "display_data",
          "data": {
            "text/plain": [
              "<Figure size 640x480 with 1 Axes>"
            ],
            "image/png": "[encoded data removed]"
          },
          "metadata": {}
        }
      ]
    }
  ]
}