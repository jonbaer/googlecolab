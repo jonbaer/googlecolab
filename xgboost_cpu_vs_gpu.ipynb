{
  "nbformat": 4,
  "nbformat_minor": 0,
  "metadata": {
    "colab": {
      "name": "xgboost_cpu_vs_gpu.ipynb",
      "provenance": [],
      "include_colab_link": true
    },
    "kernelspec": {
      "name": "python3",
      "display_name": "Python 3"
    },
    "accelerator": "GPU"
  },
  "cells": [
    {
      "cell_type": "markdown",
      "metadata": {
        "id": "view-in-github",
        "colab_type": "text"
      },
      "source": [
        "<a href=\"https://colab.research.google.com/github/jonbaer/googlecolab/blob/master/xgboost_cpu_vs_gpu.ipynb\" target=\"_parent\"><img src=\"https://colab.research.google.com/assets/colab-badge.svg\" alt=\"Open In Colab\"/></a>"
      ]
    },
    {
      "cell_type": "code",
      "metadata": {
        "id": "MZeRk5N-Fxlh",
        "colab_type": "code",
        "colab": {}
      },
      "source": [
        "import xgboost as xgb\n",
        "import numpy as np\n",
        "from sklearn.datasets import fetch_covtype\n",
        "from sklearn.model_selection import train_test_split\n",
        "import time"
      ],
      "execution_count": 0,
      "outputs": []
    },
    {
      "cell_type": "code",
      "metadata": {
        "id": "x0hiq3X8F1FZ",
        "colab_type": "code",
        "outputId": "761adef0-fcba-450a-d041-0bc706a8bbc0",
        "colab": {
          "base_uri": "https://localhost:8080/",
          "height": 34
        }
      },
      "source": [
        "# Fetch dataset using sklearn\n",
        "cov = fetch_covtype()\n",
        "X = cov.data\n",
        "y = cov.target"
      ],
      "execution_count": 2,
      "outputs": [
        {
          "output_type": "stream",
          "text": [
            "Downloading https://ndownloader.figshare.com/files/5976039\n"
          ],
          "name": "stderr"
        }
      ]
    },
    {
      "cell_type": "code",
      "metadata": {
        "id": "SBrsnU2_F3Ql",
        "colab_type": "code",
        "colab": {}
      },
      "source": [
        "# Create 0.75/0.25 train/test split\n",
        "X_train, X_test, y_train, y_test = train_test_split(X, y, test_size=0.25, train_size=0.75, random_state=42)"
      ],
      "execution_count": 0,
      "outputs": []
    },
    {
      "cell_type": "code",
      "metadata": {
        "id": "_zUiRj7rF8HJ",
        "colab_type": "code",
        "colab": {}
      },
      "source": [
        "# Specify sufficient boosting iterations to reach a minimum\n",
        "num_round = 25 #3000\n",
        "\n",
        "# Leave most parameters as default\n",
        "param = {'objective': 'multi:softmax', # Specify multiclass classification\n",
        "         'num_class': 8, # Number of possible output classes\n",
        "         'tree_method': 'gpu_hist' # Use GPU accelerated algorithm\n",
        "         }"
      ],
      "execution_count": 0,
      "outputs": []
    },
    {
      "cell_type": "code",
      "metadata": {
        "id": "2pah-u21F-KY",
        "colab_type": "code",
        "colab": {}
      },
      "source": [
        "# Convert input data from numpy to XGBoost format\n",
        "dtrain = xgb.DMatrix(X_train, label=y_train)\n",
        "dtest = xgb.DMatrix(X_test, label=y_test)"
      ],
      "execution_count": 0,
      "outputs": []
    },
    {
      "cell_type": "code",
      "metadata": {
        "id": "IosVlOINGAU0",
        "colab_type": "code",
        "outputId": "20b52ab1-28e6-462f-c725-47e81400b4f1",
        "colab": {
          "base_uri": "https://localhost:8080/",
          "height": 459
        }
      },
      "source": [
        "gpu_res = {} # Store accuracy result\n",
        "tmp = time.time()\n",
        "# Train model\n",
        "xgb.train(param, dtrain, num_round, evals=[(dtest, 'test')], evals_result=gpu_res)\n",
        "print(\"GPU Training Time: %s seconds\" % (str(time.time() - tmp)))"
      ],
      "execution_count": 6,
      "outputs": [
        {
          "output_type": "stream",
          "text": [
            "[0]\ttest-merror:0.254804\n",
            "[1]\ttest-merror:0.247885\n",
            "[2]\ttest-merror:0.244263\n",
            "[3]\ttest-merror:0.240683\n",
            "[4]\ttest-merror:0.23848\n",
            "[5]\ttest-merror:0.234777\n",
            "[6]\ttest-merror:0.232154\n",
            "[7]\ttest-merror:0.22973\n",
            "[8]\ttest-merror:0.227169\n",
            "[9]\ttest-merror:0.224629\n",
            "[10]\ttest-merror:0.222639\n",
            "[11]\ttest-merror:0.220773\n",
            "[12]\ttest-merror:0.218453\n",
            "[13]\ttest-merror:0.215589\n",
            "[14]\ttest-merror:0.214612\n",
            "[15]\ttest-merror:0.212223\n",
            "[16]\ttest-merror:0.211176\n",
            "[17]\ttest-merror:0.209861\n",
            "[18]\ttest-merror:0.208622\n",
            "[19]\ttest-merror:0.205917\n",
            "[20]\ttest-merror:0.20434\n",
            "[21]\ttest-merror:0.203727\n",
            "[22]\ttest-merror:0.202591\n",
            "[23]\ttest-merror:0.201621\n",
            "[24]\ttest-merror:0.19981\n",
            "GPU Training Time: 5.287490367889404 seconds\n"
          ],
          "name": "stdout"
        }
      ]
    },
    {
      "cell_type": "code",
      "metadata": {
        "id": "rP5ugoQkGCea",
        "colab_type": "code",
        "colab": {
          "base_uri": "https://localhost:8080/",
          "height": 459
        },
        "outputId": "6bd2c9f7-5245-4c67-ff95-8be4bd632737"
      },
      "source": [
        "# Repeat for CPU algorithm\n",
        "tmp = time.time()\n",
        "param['tree_method'] = 'hist'\n",
        "cpu_res = {}\n",
        "xgb.train(param, dtrain, num_round, evals=[(dtest, 'test')], evals_result=cpu_res)\n",
        "print(\"CPU Training Time: %s seconds\" % (str(time.time() - tmp)))"
      ],
      "execution_count": 7,
      "outputs": [
        {
          "output_type": "stream",
          "text": [
            "[0]\ttest-merror:0.254831\n",
            "[1]\ttest-merror:0.247912\n",
            "[2]\ttest-merror:0.244298\n",
            "[3]\ttest-merror:0.24069\n",
            "[4]\ttest-merror:0.238536\n",
            "[5]\ttest-merror:0.234804\n",
            "[6]\ttest-merror:0.232229\n",
            "[7]\ttest-merror:0.229703\n",
            "[8]\ttest-merror:0.227162\n",
            "[9]\ttest-merror:0.224519\n",
            "[10]\ttest-merror:0.222784\n",
            "[11]\ttest-merror:0.220705\n",
            "[12]\ttest-merror:0.21844\n",
            "[13]\ttest-merror:0.21676\n",
            "[14]\ttest-merror:0.214736\n",
            "[15]\ttest-merror:0.212257\n",
            "[16]\ttest-merror:0.210206\n",
            "[17]\ttest-merror:0.209345\n",
            "[18]\ttest-merror:0.207617\n",
            "[19]\ttest-merror:0.206102\n",
            "[20]\ttest-merror:0.205194\n",
            "[21]\ttest-merror:0.202798\n",
            "[22]\ttest-merror:0.202309\n",
            "[23]\ttest-merror:0.200554\n",
            "[24]\ttest-merror:0.199328\n",
            "CPU Training Time: 37.25912857055664 seconds\n"
          ],
          "name": "stdout"
        }
      ]
    }
  ]
}