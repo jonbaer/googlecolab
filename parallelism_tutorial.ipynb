{
  "nbformat": 4,
  "nbformat_minor": 0,
  "metadata": {
    "kernelspec": {
      "display_name": "Python 3",
      "language": "python",
      "name": "python3"
    },
    "language_info": {
      "codemirror_mode": {
        "name": "ipython",
        "version": 3
      },
      "file_extension": ".py",
      "mimetype": "text/x-python",
      "name": "python",
      "nbconvert_exporter": "python",
      "pygments_lexer": "ipython3",
      "version": "3.6.8"
    },
    "colab": {
      "name": "Copy of parallelism_tutorial.ipynb",
      "provenance": [],
      "include_colab_link": true
    }
  },
  "cells": [
    {
      "cell_type": "markdown",
      "metadata": {
        "id": "view-in-github",
        "colab_type": "text"
      },
      "source": [
        "<a href=\"https://colab.research.google.com/github/jonbaer/googlecolab/blob/master/parallelism_tutorial.ipynb\" target=\"_parent\"><img src=\"https://colab.research.google.com/assets/colab-badge.svg\" alt=\"Open In Colab\"/></a>"
      ]
    },
    {
      "cell_type": "code",
      "metadata": {
        "id": "9fUxvQAMlk8m"
      },
      "source": [
        "%matplotlib inline"
      ],
      "execution_count": null,
      "outputs": []
    },
    {
      "cell_type": "markdown",
      "metadata": {
        "id": "-hzontM_lk8s"
      },
      "source": [
        "\n",
        "Multi-GPU Examples\n",
        "==================\n",
        "\n",
        "Data Parallelism is when we split the mini-batch of samples into\n",
        "multiple smaller mini-batches and run the computation for each of the\n",
        "smaller mini-batches in parallel.\n",
        "\n",
        "Data Parallelism is implemented using ``torch.nn.DataParallel``.\n",
        "One can wrap a Module in ``DataParallel`` and it will be parallelized\n",
        "over multiple GPUs in the batch dimension.\n",
        "\n",
        "\n",
        "DataParallel\n",
        "-------------\n",
        "\n"
      ]
    },
    {
      "cell_type": "code",
      "metadata": {
        "id": "dB4WSLsqlk8s"
      },
      "source": [
        "import torch\n",
        "import torch.nn as nn\n",
        "\n",
        "\n",
        "class DataParallelModel(nn.Module):\n",
        "\n",
        "    def __init__(self):\n",
        "        super().__init__()\n",
        "        self.block1 = nn.Linear(10, 20)\n",
        "\n",
        "        # wrap block2 in DataParallel\n",
        "        self.block2 = nn.Linear(20, 20)\n",
        "        self.block2 = nn.DataParallel(self.block2)\n",
        "\n",
        "        self.block3 = nn.Linear(20, 20)\n",
        "\n",
        "    def forward(self, x):\n",
        "        x = self.block1(x)\n",
        "        x = self.block2(x)\n",
        "        x = self.block3(x)\n",
        "        return x"
      ],
      "execution_count": null,
      "outputs": []
    },
    {
      "cell_type": "markdown",
      "metadata": {
        "id": "tkN4-Z1Rlk8v"
      },
      "source": [
        "The code does not need to be changed in CPU-mode.\n",
        "\n",
        "The documentation for DataParallel can be found\n",
        "`here <https://pytorch.org/docs/nn.html#dataparallel>`_.\n",
        "\n",
        "**Attributes of the wrapped module**\n",
        "\n",
        "After wrapping a Module with ``DataParallel``, the attributes of the module\n",
        "(e.g. custom methods) became inaccessible. This is because ``DataParallel``\n",
        "defines a few new members, and allowing other attributes might lead to \n",
        "clashes in their names. For those who still want to access the attributes, \n",
        "a workaround is to use a subclass of ``DataParallel`` as below.\n",
        "\n"
      ]
    },
    {
      "cell_type": "code",
      "metadata": {
        "id": "O4TtyZuAlk8v"
      },
      "source": [
        "class MyDataParallel(nn.DataParallel):\n",
        "    def __getattr__(self, name):\n",
        "        return getattr(self.module, name)"
      ],
      "execution_count": null,
      "outputs": []
    },
    {
      "cell_type": "markdown",
      "metadata": {
        "id": "IBYxUGbrlk8z"
      },
      "source": [
        "**Primitives on which DataParallel is implemented upon:**\n",
        "\n",
        "\n",
        "In general, pytorch’s `nn.parallel` primitives can be used independently.\n",
        "We have implemented simple MPI-like primitives:\n",
        "\n",
        "- replicate: replicate a Module on multiple devices\n",
        "- scatter: distribute the input in the first-dimension\n",
        "- gather: gather and concatenate the input in the first-dimension\n",
        "- parallel\\_apply: apply a set of already-distributed inputs to a set of\n",
        "  already-distributed models.\n",
        "\n",
        "To give a better clarity, here function ``data_parallel`` composed using\n",
        "these collectives\n",
        "\n"
      ]
    },
    {
      "cell_type": "code",
      "metadata": {
        "id": "PkBeQM8Clk80"
      },
      "source": [
        "def data_parallel(module, input, device_ids, output_device=None):\n",
        "    if not device_ids:\n",
        "        return module(input)\n",
        "\n",
        "    if output_device is None:\n",
        "        output_device = device_ids[0]\n",
        "\n",
        "    replicas = nn.parallel.replicate(module, device_ids)\n",
        "    inputs = nn.parallel.scatter(input, device_ids)\n",
        "    replicas = replicas[:len(inputs)]\n",
        "    outputs = nn.parallel.parallel_apply(replicas, inputs)\n",
        "    return nn.parallel.gather(outputs, output_device)"
      ],
      "execution_count": null,
      "outputs": []
    },
    {
      "cell_type": "markdown",
      "metadata": {
        "id": "2Tru3ERulk83"
      },
      "source": [
        "Part of the model on CPU and part on the GPU\n",
        "--------------------------------------------\n",
        "\n",
        "Let’s look at a small example of implementing a network where part of it\n",
        "is on the CPU and part on the GPU\n",
        "\n"
      ]
    },
    {
      "cell_type": "code",
      "metadata": {
        "id": "SkYnCGMWlk83"
      },
      "source": [
        "device = torch.device(\"cuda:0\")\n",
        "\n",
        "class DistributedModel(nn.Module):\n",
        "\n",
        "    def __init__(self):\n",
        "        super().__init__(\n",
        "            embedding=nn.Embedding(1000, 10),\n",
        "            rnn=nn.Linear(10, 10).to(device),\n",
        "        )\n",
        "\n",
        "    def forward(self, x):\n",
        "        # Compute embedding on CPU\n",
        "        x = self.embedding(x)\n",
        "\n",
        "        # Transfer to GPU\n",
        "        x = x.to(device)\n",
        "\n",
        "        # Compute RNN on GPU\n",
        "        x = self.rnn(x)\n",
        "        return x"
      ],
      "execution_count": null,
      "outputs": []
    },
    {
      "cell_type": "markdown",
      "metadata": {
        "id": "ObSxJmWNlk87"
      },
      "source": [
        "This was a small introduction to PyTorch for former Torch users.\n",
        "There’s a lot more to learn.\n",
        "\n",
        "Look at our more comprehensive introductory tutorial which introduces\n",
        "the ``optim`` package, data loaders etc.: :doc:`/beginner/deep_learning_60min_blitz`.\n",
        "\n",
        "Also look at\n",
        "\n",
        "-  :doc:`Train neural nets to play video games </intermediate/reinforcement_q_learning>`\n",
        "-  `Train a state-of-the-art ResNet network on imagenet`_\n",
        "-  `Train an face generator using Generative Adversarial Networks`_\n",
        "-  `Train a word-level language model using Recurrent LSTM networks`_\n",
        "-  `More examples`_\n",
        "-  `More tutorials`_\n",
        "-  `Discuss PyTorch on the Forums`_\n",
        "-  `Chat with other users on Slack`_\n",
        "\n",
        "\n"
      ]
    }
  ]
}