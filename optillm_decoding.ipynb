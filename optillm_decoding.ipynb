{
  "nbformat": 4,
  "nbformat_minor": 0,
  "metadata": {
    "colab": {
      "provenance": [],
      "gpuType": "T4",
      "include_colab_link": true
    },
    "kernelspec": {
      "name": "python3",
      "display_name": "Python 3"
    },
    "language_info": {
      "name": "python"
    },
    "accelerator": "GPU"
  },
  "cells": [
    {
      "cell_type": "markdown",
      "metadata": {
        "id": "view-in-github",
        "colab_type": "text"
      },
      "source": [
        "<a href=\"https://colab.research.google.com/github/jonbaer/googlecolab/blob/master/optillm_decoding.ipynb\" target=\"_parent\"><img src=\"https://colab.research.google.com/assets/colab-badge.svg\" alt=\"Open In Colab\"/></a>"
      ]
    },
    {
      "cell_type": "code",
      "execution_count": null,
      "metadata": {
        "collapsed": true,
        "id": "3LEu4w3TTQ56"
      },
      "outputs": [],
      "source": [
        "%%capture\n",
        "!pip install optillm"
      ]
    },
    {
      "cell_type": "code",
      "source": [
        "from transformers import AutoModelForCausalLM, AutoTokenizer\n",
        "from optillm.cot_decoding import cot_decode\n",
        "from optillm.entropy_decoding import entropy_decode\n",
        "import torch\n",
        "\n",
        "model_name = \"Qwen/Qwen2.5-0.5B-Instruct\"\n",
        "model = AutoModelForCausalLM.from_pretrained(model_name)\n",
        "tokenizer = AutoTokenizer.from_pretrained(model_name)\n",
        "\n",
        "messages = [\n",
        "    {\"role\": \"user\", \"content\": \"In a dance class of 20 students, 20% enrolled in contemporary dance, 25% of the remaining enrolled in jazz dance, and the rest enrolled in hip-hop dance. What percentage of the entire students enrolled in hip-hop dance?\"}\n",
        "]\n",
        "\n",
        "# Generate the response using CoT decoding\n",
        "result, confidence = cot_decode(model, tokenizer, messages, aggregate_paths=True, max_new_tokens=1024)\n",
        "print(f\"CoT Decoding:\\n {result}\")\n",
        "# print(f\"Confidence: {confidence}\")\n",
        "\n",
        "# Generate the response using Entropy decoding\n",
        "result = entropy_decode(model, tokenizer, messages, max_new_tokens=1024)\n",
        "print(f\"\\nEntropy Decoding:\\n {result}\")"
      ],
      "metadata": {
        "colab": {
          "base_uri": "https://localhost:8080/"
        },
        "id": "z9vfP8wbUSND",
        "outputId": "fb234ed1-2252-4d78-d52d-a53b89725711"
      },
      "execution_count": null,
      "outputs": [
        {
          "output_type": "stream",
          "name": "stdout",
          "text": [
            "CoT Decoding:\n",
            " Sure, let's determine how many students are enrolled in each type of dance and then calculate the percentage of all students who enroll in hip-hop dance.\n",
            "\n",
            "1. **Determine the number of students enrolled in contemporary dance:**\n",
            "   \\[\n",
            "   20\\% \\text{ of } 20 = 0.20 \\times 20 = 4 \\text{ students}\n",
            "   \\]\n",
            "\n",
            "2. **Calculate the number of students remaining after those enrolled in contemporary dance:**\n",
            "   \\[\n",
            "   20 - 4 = 16 \\text{ students}\n",
            "   \\]\n",
            "\n",
            "3. **Determine the number of students enrolled in jazz dance. Since jazz dance represents 25% of the remaining students, we calculate:**\n",
            "   \\[\n",
            "   25\\% \\text{ of } 16 = 0.25 \\times 16 = 4 \\text{ students}\n",
            "   \\]\n",
            "\n",
            "4. **Calculate the total number of students enrolled in jazz and hip-hop dance:**\n",
            "   \\[\n",
            "   4 \\text{ (contemporary dance)} + 4 \\text{ (jazz dance)} = 8 \\text{ students}\n",
            "   \\]\n",
            "\n",
            "5. **Determine the number of students remaining who are enrolled in hip-hop dance:**\n",
            "   \\[\n",
            "   20 - 8 = 12 \\text{ students}\n",
            "   \\]\n",
            "\n",
            "6. **Calculate the percentage of the entire students enrolled in hip-hop dance:**\n",
            "   \\[\n",
            "   \\frac{12 \\text{ students}}{20 \\text{ students}} \\times 100\\% = 60\\%\n",
            "   \\]\n",
            "\n",
            "Therefore, the percentage of students enrolled in hip-hop dance is \\(60\\%\\).\n",
            "\n",
            "Entropy Decoding:\n",
            " Let's determine the number of students enrolled in each dance category. We start with a total of 20 students, and we'll go through the steps to figure out the proportion of students in each category, followed by the calculation of the remaining students in jazz and hips dance, with the percentages as specified.\n",
            "\n",
            "1. Initially, there are 20 students in the class.\n",
            "2. For contemporary dance, 20% of the students enroll in this category. So, the number of students in contemporary dance is:\n",
            "   \\[\n",
            "   0.20 \\times 20 = 4 \\text{ students}\n",
            "   \\]\n",
            "3. This leaves us with:\n",
            "   \\[\n",
            "   20 - 4 = 16 \\text{ students} \\text{ remaining}\n",
            "   \\]\n",
            "4. Next, for jazz dance, 25% of the remaining students engage in this category. So, the number of students in jazz dance is:\n",
            "   \\[\n",
            "   0.25 \\times 16 = 4 \\text{ students}\n",
            "   \\]\n",
            "5. This leaves us with:\n",
            "   \\[\n",
            "   16 - 4 = 12 \\text{ students} \\text{ remaining}\n",
            "   \\]\n",
            "6. The remainder after contemporary and jazz studies consists of hip-hop dance. Therefore, the number of students in hip-hop dance is:\n",
            "   \\[\n",
            "   12 \\text{ students}\n",
            "   \\]\n",
            "\n",
            "Now, we calculate the percentage of these remaining 12 students in hip-hop dance. If we denote the total initial quantity of students by 20, the percentage of those students in hip-hop dance is:\n",
            "\\[\n",
            "\\frac{12}{20} \\times 100\\% = 60\\%\n",
            "\\]\n",
            "\n",
            "Thus, the percentage of the entire students enrolled in hip-hop dance is:\n",
            "\\[\n",
            "\\boxed{60\\%}\n",
            "\\]\n"
          ]
        }
      ]
    },
    {
      "cell_type": "code",
      "source": [
        "# Greedy decoding\n",
        "\n",
        "def get_device():\n",
        "  if torch.cuda.is_available():\n",
        "    return torch.device(\"cuda\")\n",
        "  else:\n",
        "    return torch.device(\"cpu\")\n",
        "\n",
        "device = get_device()\n",
        "model = model.to(device)\n",
        "# print(f\"Using device: {device}\")\n",
        "\n",
        "# Prepare input with proper attention mask\n",
        "input_ids = tokenizer.apply_chat_template(messages, tokenize=True, add_generation_prompt=True, return_tensors=\"pt\")\n",
        "attention_mask = torch.ones_like(input_ids)  # Create attention mask\n",
        "input_ids = input_ids.to(device)\n",
        "input_length = input_ids.shape[1]\n",
        "attention_mask = attention_mask.to(device)\n",
        "\n",
        "# Get pad and eos token ids\n",
        "pad_token_id = tokenizer.pad_token_id\n",
        "if pad_token_id is None:\n",
        "    pad_token_id = tokenizer.eos_token_id\n",
        "\n",
        "# Configure generation parameters properly for greedy decoding\n",
        "output_ids = model.generate(\n",
        "    input_ids,\n",
        "    attention_mask=attention_mask,\n",
        "    max_new_tokens=1024,\n",
        "    do_sample=False,     # Greedy decoding\n",
        "    num_beams=1,        # Single beam for greedy\n",
        "    pad_token_id=pad_token_id,\n",
        "    temperature=1.0,    # Remove or set to 1.0 for greedy\n",
        "    top_p=1.0,         # Remove or set to 1.0 for greedy\n",
        "    use_cache=True,    # Enable KV caching for faster generation\n",
        ")\n",
        "\n",
        "output_ids = output_ids.cpu()\n",
        "# Decode only the newly generated tokens\n",
        "response = tokenizer.decode(output_ids[0][input_length:], skip_special_tokens=True)\n",
        "print(f\"Greedy Decoding:\\n {response}\")"
      ],
      "metadata": {
        "id": "0VWGo7SO-APA",
        "colab": {
          "base_uri": "https://localhost:8080/"
        },
        "outputId": "c0759403-7246-4ca4-af75-544bf606de0a"
      },
      "execution_count": null,
      "outputs": [
        {
          "output_type": "stream",
          "name": "stdout",
          "text": [
            "Greedy Decoding:\n",
            " To determine the percentage of the entire students enrolled in hip-hop dance, we need to follow these steps:\n",
            "\n",
            "1. Calculate the number of students enrolled in contemporary dance.\n",
            "2. Determine how many students remain after subtracting those who are enrolled in contemporary dance.\n",
            "3. Calculate the number of students enrolled in jazz dance from the remaining students.\n",
            "4. Find out how many students remain after subtracting those who are enrolled in jazz dance.\n",
            "5. Determine the number of students enrolled in hip-hop dance from the remaining students.\n",
            "6. Convert this number into a percentage of the total number of students.\n",
            "\n",
            "Let's start with step 1:\n",
            "- The total number of students is 20.\n",
            "- 20% of the students enroll in contemporary dance.\n",
            "\\[ \\text{Number of students in contemporary dance} = 0.20 \\times 20 = 4 \\]\n",
            "\n",
            "Next, step 2:\n",
            "- After subtracting the 4 students in contemporary dance, the number of students left is:\n",
            "\\[ 20 - 4 = 16 \\]\n",
            "\n",
            "Now, step 3:\n",
            "- 25% of the remaining 16 students enroll in jazz dance.\n",
            "\\[ \\text{Number of students in jazz dance} = 0.25 \\times 16 = 4 \\]\n",
            "\n",
            "Then, step 4:\n",
            "- After subtracting the 4 students in jazz dance, the number of students left is:\n",
            "\\[ 16 - 4 = 12 \\]\n",
            "\n",
            "Finally, step 5:\n",
            "- 75% of the remaining 12 students enroll in hip-hop dance.\n",
            "\\[ \\text{Number of students in hip-hop dance} = 0.75 \\times 12 = 9 \\]\n",
            "\n",
            "Therefore, the percentage of the entire students enrolled in hip-hop dance is:\n",
            "\\[ \\boxed{9} \\]\n"
          ]
        }
      ]
    }
  ]
}