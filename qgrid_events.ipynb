{
  "nbformat": 4,
  "nbformat_minor": 0,
  "metadata": {
    "colab": {
      "name": "events.ipynb",
      "version": "0.3.2",
      "provenance": [],
      "include_colab_link": true
    },
    "kernelspec": {
      "display_name": "Python 3",
      "language": "python",
      "name": "python3"
    }
  },
  "cells": [
    {
      "cell_type": "markdown",
      "metadata": {
        "id": "view-in-github",
        "colab_type": "text"
      },
      "source": [
        "[View in Colaboratory](https://colab.research.google.com/github/jonbaer/googlecolab/blob/master/qgrid_events.ipynb)"
      ]
    },
    {
      "metadata": {
        "id": "IBZCSs619s0v",
        "colab_type": "text"
      },
      "cell_type": "markdown",
      "source": [
        "Linking qgrid to other visualizations using event callbacks\n",
        "===============================================\n",
        "\n",
        "The following examples use qgrid's new \"events API\" that is only available in qgrid version 1.0.3 or newer. Specifically this notebook makes use of the ``on`` methods that qgrid provides for attaching event handlers. Event handlers can be attached using the ``qgrid.on`` method to listen for events on all widgets, or using the ``QgridWidget.on`` method the  to listen for events on individual QgridWidget instances. "
      ]
    },
    {
      "metadata": {
        "id": "fhUAsGYm9s0v",
        "colab_type": "text"
      },
      "cell_type": "markdown",
      "source": [
        "## Example 1 - Filter matplotlib scatter plot using qgrid\n",
        "In this example you'll see that by listening for a QgridWidget instances's ``filter_changed`` event, we can use qgrid to filter the data that's being visualized by another control in the notebook, in this case a matplotlib scatter plot. \n",
        "\n",
        "This capability allows you to filter a visualization by ANY field in the underlying DataFrame, including fields that are not used to generate the visualization. This enables interesting workflows like using a Categorical column to mark a particular row of the DataFrame with as \"bad\", setting a filter to hide \"bad\" rows in the qgrid instance, and then seeing the \"bad\" rows also disappear from any visualizations that the qgrid instance is hooked up to.\n",
        "\n",
        "The try out a simple example of using qgrid to filter another visualization, first execute the following two cells. Once you do that you should see a qgrid instance and a matplotlib scatter plot showing the same data as the qgrid instance. Next, set some filters on the columns of the qgrid instance and watch what happens to the scatter plot. You should see it update immediately to reflect the filtering changes."
      ]
    },
    {
      "metadata": {
        "id": "bgHSXhuz9s0w",
        "colab_type": "code",
        "colab": {}
      },
      "cell_type": "code",
      "source": [
        "import numpy as np\n",
        "import pandas as pd\n",
        "import qgrid\n",
        "randn = np.random.randn\n",
        "df_types = pd.DataFrame({\n",
        "    'A' : 1.,\n",
        "    'B' : pd.Series(['2013-01-01', '2013-01-02', '2013-01-03', '2013-01-04',\n",
        "               '2013-01-05', '2013-01-06', '2013-01-07', '2013-01-08', '2013-01-09'],index=list(range(9)),dtype='datetime64[ns]'),\n",
        "    'C' : pd.Series(randn(9),index=list(range(9)),dtype='float32'),\n",
        "    'D' : np.array([3] * 9,dtype='int32'),\n",
        "    'E' : pd.Categorical([\"washington\", \"adams\", \"washington\", \"madison\", \"lincoln\",\"jefferson\", \"hamilton\", \"roosevelt\", \"kennedy\"]),\n",
        "    'F' : [\"foo\", \"bar\", \"buzz\", \"bippity\",\"boppity\", \"foo\", \"foo\", \"bar\", \"zoo\"] })\n",
        "df_types['G'] = df_types['F'] == 'foo'\n",
        "qgrid_widget = qgrid.show_grid(df_types, show_toolbar=True)\n",
        "qgrid_widget"
      ],
      "execution_count": 0,
      "outputs": []
    },
    {
      "metadata": {
        "id": "VZZKjxYH9s0z",
        "colab_type": "code",
        "colab": {}
      },
      "cell_type": "code",
      "source": [
        "%matplotlib nbagg\n",
        "import matplotlib.pyplot as plt\n",
        "\n",
        "n = 50\n",
        "\n",
        "qgrid_df = qgrid_widget.get_changed_df()\n",
        "x = qgrid_df.index\n",
        "y = qgrid_df['C']\n",
        "\n",
        "fig, ax = plt.subplots()\n",
        "fit = np.polyfit(x, y, deg=1)\n",
        "line, = ax.plot(x, fit[0] * x + fit[1], color='red')\n",
        "scatter, = ax.plot(x,y,ms=8,color='b',marker='o',ls='')\n",
        "\n",
        "def handle_filter_changed(event, widget):\n",
        "    qgrid_df = qgrid_widget.get_changed_df()\n",
        "    x = qgrid_df.index\n",
        "    y = qgrid_df['C']\n",
        "    fit = np.polyfit(x, y, deg=1)\n",
        "    line.set_data(x, fit[0] * x + fit[1])\n",
        "    fig.canvas.draw()\n",
        "    scatter.set_data(x, y)\n",
        "    fig.canvas.draw()\n",
        "\n",
        "qgrid_widget.on('filter_changed', handle_filter_changed)"
      ],
      "execution_count": 0,
      "outputs": []
    },
    {
      "metadata": {
        "id": "B8K5TUYi9s01",
        "colab_type": "code",
        "colab": {}
      },
      "cell_type": "code",
      "source": [
        "qgrid_widget # render the qgrid widget again so we don't have to scroll to see the changes in the scatter plot"
      ],
      "execution_count": 0,
      "outputs": []
    },
    {
      "metadata": {
        "id": "DuWm1o5h9s03",
        "colab_type": "text"
      },
      "cell_type": "markdown",
      "source": [
        "## Example 2 - Filter matplotlib price chart using qgrid\n",
        "This example is basically a repeat of Example 1, except with a line chart of some pricing data for the S&P 500 instead of a scatter plot.\n",
        "\n",
        "First, execute the following two cells. Once you do that you should see a qgrid instance and a matplotlib line chart showing the same data as the qgrid instance. Next, set some filters on the columns of the qgrid instance and watch what happens to the line chart (it should update immediately to reflect the filtering changes)."
      ]
    },
    {
      "metadata": {
        "id": "yYanFh1D9s04",
        "colab_type": "code",
        "colab": {}
      },
      "cell_type": "code",
      "source": [
        "import pandas as pd\n",
        "import numpy as np\n",
        "import qgrid\n",
        "randn = np.random.randn\n",
        "\n",
        "# Get a pandas DataFrame containing the daily prices for the S&P 500 from 1/1/2014 - 1/1/2017\n",
        "from pandas_datareader.data import DataReader\n",
        "spy = DataReader(\n",
        "    'SPY',\n",
        "    'yahoo',\n",
        "    pd.Timestamp('2014-01-01'),  \n",
        "    pd.Timestamp('2017-01-01'),\n",
        ")\n",
        "# Tell qgrid to automatically render all DataFrames and Series as qgrids.\n",
        "qgrid.enable()\n",
        "\n",
        "# Render the DataFrame as a qgrid automatically\n",
        "spy_qgrid = qgrid.show_grid(spy)\n",
        "spy_qgrid"
      ],
      "execution_count": 0,
      "outputs": []
    },
    {
      "metadata": {
        "id": "PdQisgHo9s0_",
        "colab_type": "code",
        "colab": {}
      },
      "cell_type": "code",
      "source": [
        "%matplotlib nbagg\n",
        "import matplotlib.pyplot as plt\n",
        "import datetime\n",
        "import matplotlib.pyplot as plt\n",
        "import matplotlib.dates as mdates\n",
        "import matplotlib.cbook as cbook\n",
        "from traitlets import All\n",
        "\n",
        "years = mdates.YearLocator()   # every year\n",
        "months = mdates.MonthLocator()  # every month\n",
        "yearsFmt = mdates.DateFormatter('%Y')\n",
        "\n",
        "n = 50\n",
        "qgrid_spy_df = spy_qgrid.get_changed_df()\n",
        "x = qgrid_spy_df.index\n",
        "y = qgrid_spy_df['Close']\n",
        "\n",
        "fig, ax = plt.subplots()\n",
        "line, = ax.plot(x, y)\n",
        "\n",
        "# format the ticks\n",
        "ax.xaxis.set_major_locator(years)\n",
        "ax.xaxis.set_major_formatter(yearsFmt)\n",
        "ax.xaxis.set_minor_locator(months)\n",
        "\n",
        "datemin = datetime.date(x.min().year, 1, 1)\n",
        "datemax = datetime.date(x.max().year + 1, 1, 1)\n",
        "ax.set_xlim(datemin, datemax)\n",
        "\n",
        "# format the coords message box\n",
        "def price(x):\n",
        "    return '$%1.2f' % x\n",
        "ax.format_xdata = mdates.DateFormatter('%Y-%m-%d')\n",
        "ax.format_ydata = price\n",
        "ax.grid(True)\n",
        "\n",
        "# rotates and right aligns the x labels, and moves the bottom of the\n",
        "# axes up to make room for them\n",
        "fig.autofmt_xdate()\n",
        "\n",
        "def handle_filter_changed(event, widget):\n",
        "    qgrid_spy_df = widget.get_changed_df()\n",
        "    x = qgrid_spy_df.index\n",
        "    y = qgrid_spy_df['Close']\n",
        "    \n",
        "    datemin = datetime.date(x.min().year, 1, 1)\n",
        "    datemax = datetime.date(x.max().year + 1, 1, 1)\n",
        "    ax.set_xlim(datemin, datemax)\n",
        "    \n",
        "    line.set_data(x, y)\n",
        "    fig.canvas.draw()\n",
        "\n",
        "spy_qgrid.on('filter_changed', handle_filter_changed)"
      ],
      "execution_count": 0,
      "outputs": []
    },
    {
      "metadata": {
        "id": "il8ygTEZ9s1C",
        "colab_type": "code",
        "colab": {}
      },
      "cell_type": "code",
      "source": [
        "spy_qgrid # render the qgrid widget again so we don't have to scroll to see the changes in the scatter plot"
      ],
      "execution_count": 0,
      "outputs": []
    },
    {
      "metadata": {
        "id": "VdL6xfF39s1G",
        "colab_type": "text"
      },
      "cell_type": "markdown",
      "source": [
        "## Example 3 - Logging all events\n",
        "In this example we'll see how you can listen for events from any qgrid instance using the `qgrid.on` method.\n",
        "\n",
        "Execute the following two cells. The first cell will create an empty output widget, and the second cell use the `on` method to listen for all events from all qgrid instances. Once the cells are executed, try interacting with any of the qgrid instances you created earlier in the notebook (i.e. by sorting, filtering, scrolling, etc).  Then scroll back down to this output widget and you'll notice that any actions that you took got printed to the output widget.\n",
        "\n",
        "In practice you'd probably want to do something more interesting than just print these events to the notebook, such as  log the events to a service that you use to track user interactions.  This is just a proof-of-concept to show which events are available."
      ]
    },
    {
      "metadata": {
        "id": "D-8Fa4309s1H",
        "colab_type": "code",
        "colab": {}
      },
      "cell_type": "code",
      "source": [
        "import ipywidgets as widgets\n",
        "json_updates = widgets.Output(layout={'border': '1px solid black'})\n",
        "user_interactions = widgets.Output(layout={'border': '1px solid black'})\n",
        "\n",
        "widgets.VBox([user_interactions, json_updates])"
      ],
      "execution_count": 0,
      "outputs": []
    },
    {
      "metadata": {
        "id": "EKmt6g8m9s1L",
        "colab_type": "code",
        "colab": {}
      },
      "cell_type": "code",
      "source": [
        "import qgrid\n",
        "from traitlets import All\n",
        "\n",
        "def handle_all_events(event, qgrid_widget):\n",
        "    output_area = json_updates if event['name'] == 'json_updated' else user_interactions\n",
        "    with output_area:\n",
        "        print(event)\n",
        "\n",
        "qgrid.on(All, handle_all_events)"
      ],
      "execution_count": 0,
      "outputs": []
    },
    {
      "metadata": {
        "id": "MpbRuNYI9s1N",
        "colab_type": "text"
      },
      "cell_type": "markdown",
      "source": [
        "## Example 4 - Filter qgrid using ipywidgets slider (experimental)\n",
        "In the Example 1 and 2, qgrid was being used to control other visualizations. In this example, we're going to invert the direction of control and use another visualization (in this case an ipywidget slider) to control qgrid.\n",
        "\n",
        "Please note that the `_handle_qgrid_msg_helper` method used in this example is not a documented part of the API yet and should be considered experimental. It will likely be renamed and changed slightly once it gets officially added to the API.\n",
        "\n",
        "First, execute the following cell. Once you do that you should see a slider widget directly above a qgrid widget. The slider is hooked up to control the filter for the index column. Next, move the sliders on the slider widget and watch qgrid instance update immediately to reflect the filtering changes."
      ]
    },
    {
      "metadata": {
        "id": "8wtfn8eE9s1O",
        "colab_type": "code",
        "colab": {}
      },
      "cell_type": "code",
      "source": [
        "import numpy as np\n",
        "import pandas as pd\n",
        "import qgrid\n",
        "import ipywidgets as widgets\n",
        "df_scale = pd.DataFrame(np.random.randn(1000, 4), columns=list('ABCD'))\n",
        "q_scale = qgrid.show_grid(df_scale, show_toolbar=False)\n",
        "\n",
        "int_range = widgets.IntRangeSlider(\n",
        "    value=[0, 999],\n",
        "    min=0,\n",
        "    max=999,\n",
        "    step=1,\n",
        "    description='Test:',\n",
        "    disabled=False,\n",
        "    continuous_update=True,\n",
        "    orientation='horizontal',\n",
        "    readout=True,\n",
        "    readout_format='d',\n",
        ")\n",
        "\n",
        "def on_value_change(change):\n",
        "    q_scale._handle_qgrid_msg_helper({\n",
        "        'field': \"index\",\n",
        "        'filter_info': {\n",
        "            'field': \"index\",\n",
        "            'max': change['new'][1],\n",
        "            'min': change['new'][0],\n",
        "            'type': \"slider\"\n",
        "        },\n",
        "        'type': \"filter_changed\"\n",
        "    })\n",
        "\n",
        "int_range.observe(on_value_change, names='value')\n",
        "\n",
        "widgets.VBox([int_range, q_scale])"
      ],
      "execution_count": 0,
      "outputs": []
    }
  ]
}