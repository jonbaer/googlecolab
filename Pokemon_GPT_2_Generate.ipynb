{
  "nbformat": 4,
  "nbformat_minor": 0,
  "metadata": {
    "colab": {
      "name": "Pokemon GPT-2 Generate",
      "provenance": [],
      "collapsed_sections": [],
      "toc_visible": true,
      "include_colab_link": true
    },
    "kernelspec": {
      "name": "python3",
      "display_name": "Python 3"
    },
    "accelerator": "GPU"
  },
  "cells": [
    {
      "cell_type": "markdown",
      "metadata": {
        "id": "view-in-github",
        "colab_type": "text"
      },
      "source": [
        "<a href=\"https://colab.research.google.com/github/jonbaer/googlecolab/blob/master/Pokemon_GPT_2_Generate.ipynb\" target=\"_parent\"><img src=\"https://colab.research.google.com/assets/colab-badge.svg\" alt=\"Open In Colab\"/></a>"
      ]
    },
    {
      "cell_type": "markdown",
      "metadata": {
        "id": "S_PweXzBTSYP"
      },
      "source": [
        "# Pokemon GPT-2 Generate\n",
        "\n",
        "This notebook will let you generate sprite images with either a pre-trained model, or a model you trained with the [Pokemon GPT-2 Train](https://colab.research.google.com/drive/1c1kmO9tixviyBB7IGh-jVpLvOh2RpLYk) notebook.\n",
        "\n",
        "To use this notebook just follow along with the instructions and run each cell as directed.\n",
        "\n",
        "---\n",
        "\n",
        "GPT-2 portions of this notebook are based on the notebook for [GPT-2-Simple](https://github.com/minimaxir/gpt-2-simple)"
      ]
    },
    {
      "cell_type": "markdown",
      "metadata": {
        "id": "nHZe5D9mUW7o"
      },
      "source": [
        "## 1. Setup\n",
        "\n",
        "First we import everything we need:"
      ]
    },
    {
      "cell_type": "code",
      "metadata": {
        "id": "DmXS5eZ3hmUi"
      },
      "source": [
        "%tensorflow_version 1.x\n",
        "!pip install -q gpt-2-simple\n",
        "import gpt_2_simple as gpt2\n",
        "from datetime import datetime\n",
        "from google.colab import files, drive\n",
        "\n",
        "import os\n",
        "import sys\n",
        "import time\n",
        "import gpt_2_simple as gpt2\n",
        "import shutil\n",
        "import math\n",
        "from PIL import Image"
      ],
      "execution_count": null,
      "outputs": []
    },
    {
      "cell_type": "markdown",
      "metadata": {
        "id": "yhlkdJL1UdWp"
      },
      "source": [
        "## 2. Google Drive\n",
        "\n",
        "Google Drive is used to load your model and store the generated sprite images. Here we mount your Google Drive:"
      ]
    },
    {
      "cell_type": "code",
      "metadata": {
        "id": "mm58Sh8zUcg6"
      },
      "source": [
        "drive.mount('/content/drive')"
      ],
      "execution_count": null,
      "outputs": []
    },
    {
      "cell_type": "markdown",
      "metadata": {
        "id": "b1bTUF3gVDo3"
      },
      "source": [
        "## 3. Download or Import Model\n",
        "\n",
        "If you want to download a pre-trained model to generate Pokemon sprites, run cell 3a.\n",
        "\n",
        "If you want to import your own model that you trained with the [Pokemon GPT-2 Train](https://colab.research.google.com/drive/1c1kmO9tixviyBB7IGh-jVpLvOh2RpLYk) notebook, use section 3b."
      ]
    },
    {
      "cell_type": "markdown",
      "metadata": {
        "id": "qCV-X39OjOtS"
      },
      "source": [
        "## 3a. Download a Pre-Trained Model\n",
        "\n",
        "If you want to use a pre-trained model to generate Pokemon sprites, run this cell:"
      ]
    },
    {
      "cell_type": "code",
      "metadata": {
        "id": "POAY0B70WpkV"
      },
      "source": [
        "!cd /content\n",
        "!wget -O \"pokemon-gpt-2-multigen-250000.zip\" \"https://ipfs.io/ipfs/QmRjkH2szrkez3QaHUKPM1jr3aHnJyN11JpcoRM2EwFHdQ\"\n",
        "!mkdir -p checkpoint\n",
        "!unzip \"pokemon-gpt-2-multigen-250000.zip\" -d checkpoint\n",
        "\n",
        "run_name = 'pokemon-gpt-2-multigen-250000'"
      ],
      "execution_count": null,
      "outputs": []
    },
    {
      "cell_type": "markdown",
      "metadata": {
        "id": "hg4tuw8njbqP"
      },
      "source": [
        "## 3b. Import Your Own Model\n",
        "\n",
        "If you used the [Pokemon GPT-2 Train](https://colab.research.google.com/drive/1c1kmO9tixviyBB7IGh-jVpLvOh2RpLYk) notebook and want to import that model for use, make sure the checkpoint_folder and run_name values match the values you used for training, and run this cell:"
      ]
    },
    {
      "cell_type": "code",
      "metadata": {
        "id": "fGE4PoMvX-d3"
      },
      "source": [
        "checkpoint_folder = 'pokemon-gpt-2-checkpoints'  #@param {type:\"string\"}\n",
        "run_name = 'pokemon-gpt-2-run' #@param {type:\"string\"}\n",
        "\n",
        "if not os.path.exists('checkpoint/%s' % run_name):\n",
        "    shutil.copytree('/content/drive/My Drive/%s/%s' % (checkpoint_folder, run_name), 'checkpoint/%s' % run_name)"
      ],
      "execution_count": null,
      "outputs": []
    },
    {
      "cell_type": "markdown",
      "metadata": {
        "id": "lzjc3miCj86B"
      },
      "source": [
        "## 4. Generation\n",
        "\n",
        "Here we'll generate sprites with the model we imported and save them to Google Drive.\n",
        "\n",
        "There are a few settings you can change for this cell:\n",
        "\n",
        "- output_folder - This is the folder that sprites will be saved to in your Google Drive\n",
        "- generate_count - This is how many sprites will be generated when you run this cell\n",
        "- temperature - This controls how \"crazy\" the output is. A high number will lead to something that barely looks like the input, but might be interesting. Too low will be boring. Play with this number.\n",
        "- width - This is the width that output images will be. Set this based on your input images.\n",
        "- height - This is the height that output images will be. Set this based on your input images.\n",
        "- save_texts - When checked this will save the text output along with the generated image. You probably don't need this. But hey, you do you.\n",
        "\n",
        "Default width and height will work fine for the pre-trained model. Adjust settings as needed and run the cell:\n",
        "\n"
      ]
    },
    {
      "cell_type": "code",
      "metadata": {
        "id": "3BajOwTkZyi7"
      },
      "source": [
        "output_folder = 'pokemon-gpt-2-output' #@param {type:\"string\"}\n",
        "generate_count = 10 #@param {type:\"integer\"}\n",
        "temperature = 0.9 #@param {type:\"slider\", min:0.7, max:1.3, step:0.01}\n",
        "width = 64 #@param {type:\"integer\"}\n",
        "height = 64 #@param {type:\"integer\"}\n",
        "save_texts = False #@param {type:\"boolean\"}\n",
        "\n",
        "def createImage(text, path):\n",
        "    lines = text.split('\\n')\n",
        "\n",
        "    imageWidth = 0\n",
        "    imageHeight = 0\n",
        "\n",
        "    for line in lines:\n",
        "        split = line.split(' ')\n",
        "\n",
        "        marker = split[0]\n",
        "        if len(marker) == 3:\n",
        "            index = int(marker[0:2])\n",
        "\n",
        "            width = len(split) - 1\n",
        "            height = index + 1\n",
        "\n",
        "            if width > imageWidth:\n",
        "                imageWidth = width;\n",
        "\n",
        "            if height > imageHeight:\n",
        "                imageHeight = height\n",
        "\n",
        "    pixels = []\n",
        "    for y in range(imageHeight):\n",
        "        for x in range(imageWidth):\n",
        "            pixels.append((0, 0, 0, 0))\n",
        "\n",
        "    for line in lines:\n",
        "        split = line.split(' ')\n",
        "\n",
        "        marker = split[0]\n",
        "        if len(marker) == 3:\n",
        "            index = int(marker[0:2])\n",
        "\n",
        "            for x in range(len(split) - 1):\n",
        "                s = split[x + 1]\n",
        "\n",
        "                if s != '~':\n",
        "                    r = 0\n",
        "                    g = 0\n",
        "                    b = 0\n",
        "                    \n",
        "                    if s == 'a':\n",
        "                        r = g = b = 107\n",
        "                    elif s == 'b':\n",
        "                        r = g = b = 187\n",
        "                    else:\n",
        "                        c = ord(s[0]) - 33\n",
        "\n",
        "                        b = (c & 3) * 64\n",
        "                        if b == 192:\n",
        "                            b += 63\n",
        "\n",
        "                        c = c >> 2\n",
        "                        g = (c & 3) * 64\n",
        "                        if g == 192:\n",
        "                            g += 63\n",
        "\n",
        "                        c = c >> 2\n",
        "                        r = (c & 3) * 64\n",
        "                        if r == 192:\n",
        "                            r += 63\n",
        "\n",
        "                    i = (index * imageWidth) + x\n",
        "\n",
        "                    pixels[i] = (r, g, b, 255)\n",
        "\n",
        "    image = Image.new('RGBA', (imageWidth, imageHeight))\n",
        "    image.putdata(pixels)\n",
        "    image.save(path)\n",
        "\n",
        "def blankLines():\n",
        "    lines = []\n",
        "\n",
        "    for i in range(0, height):\n",
        "        lines.append('')\n",
        "\n",
        "    return lines\n",
        "\n",
        "sess = None\n",
        "\n",
        "for ii in range(0, generate_count):\n",
        "    print(ii)\n",
        "    \n",
        "    if not sess:\n",
        "        sess = gpt2.start_tf_sess()\n",
        "    else:\n",
        "        sess = gpt2.reset_session(sess)\n",
        "    \n",
        "    gpt2.load_gpt2(sess, run_name=run_name)\n",
        "\n",
        "    lines = blankLines()\n",
        "    prefix = ''\n",
        "    hasColor = False\n",
        "\n",
        "    while True:\n",
        "        text = gpt2.generate(sess, run_name=run_name, prefix=prefix, temperature=temperature, return_as_list=True)[0]\n",
        "\n",
        "        print('\\n\\noutput:');\n",
        "        print(text)\n",
        "\n",
        "        newLines = text.split('\\n')\n",
        "\n",
        "        direction = None\n",
        "        lastIndex = None\n",
        "        for line in newLines:\n",
        "                split = line.split(' ')[:width + 2]\n",
        "\n",
        "                if len(split) < 55:\n",
        "                    break;\n",
        "\n",
        "                marker = split[0]\n",
        "                if len(marker) == 3:\n",
        "                    try:\n",
        "                        index = int(marker[0:2])\n",
        "                    except:\n",
        "                        break\n",
        "\n",
        "                    if direction == None:\n",
        "                        direction = marker[2]\n",
        "\n",
        "                    if marker[2] != direction:\n",
        "                        print('direction changed')\n",
        "                        break\n",
        "\n",
        "                    if lastIndex != None:\n",
        "                        if marker[2] == 'd' and index <= lastIndex:\n",
        "                            print('bad line order')\n",
        "                            break\n",
        "                        elif marker[2] == 'u' and index >= lastIndex:\n",
        "                            print('bad line order')\n",
        "                            break\n",
        "                    lastIndex = index\n",
        "\n",
        "                    split[0] = marker.replace('u', 'd')\n",
        "\n",
        "                    if not hasColor:\n",
        "                        for character in split[2:]:\n",
        "                            if character != '~' and character != '`':\n",
        "                                hasColor = True\n",
        "                                break\n",
        "\n",
        "                    while len(split) < width:\n",
        "                        split.append('~')\n",
        "\n",
        "                    try:\n",
        "                        lines[index] = ' '.join(split)\n",
        "                    except IndexError:\n",
        "                        break\n",
        "\n",
        "        if not hasColor:\n",
        "            print('no color')\n",
        "            lines = blankLines()\n",
        "            continue\n",
        "\n",
        "        topIndex = None\n",
        "        for i in range(0, height):\n",
        "            if lines[i]:\n",
        "                topIndex = i\n",
        "                break\n",
        "\n",
        "        bottomIndex = None\n",
        "        for i in range(topIndex, height):\n",
        "            if lines[i]:\n",
        "                bottomIndex = i\n",
        "            else:\n",
        "                break\n",
        "\n",
        "        print('\\n\\ntop %i bottom %i' % (topIndex, bottomIndex))\n",
        "\n",
        "        sectionSize = 5\n",
        "        if topIndex > 0:\n",
        "            section = lines[topIndex:min(topIndex+sectionSize+1, bottomIndex+1)]\n",
        "            section.reverse()\n",
        "            for i in range(0, len(section)):\n",
        "                section[i] = section[i].replace('d', 'u')\n",
        "\n",
        "        elif bottomIndex < height - 1:\n",
        "            section = lines[max(bottomIndex-sectionSize, topIndex):bottomIndex+1]\n",
        "\n",
        "        else:\n",
        "            print('\\n'.join(lines))\n",
        "            filename = '%i' % int(time.time())\n",
        "            text = '\\n'.join(lines)\n",
        "\n",
        "            if not os.path.exists('/content/drive/My Drive/%s' % output_folder):\n",
        "                os.makedirs('/content/drive/My Drive/%s' % output_folder)\n",
        "\n",
        "            if save_texts:\n",
        "                text_file = open('/content/drive/My Drive/%s/%s.txt' % (output_folder, filename), 'w')\n",
        "                text_file.write(text)\n",
        "                text_file.close()\n",
        "            \n",
        "            createImage(text, '/content/drive/My Drive/%s/%s.png' % (output_folder, filename))\n",
        "\n",
        "            print('saved !')\n",
        "            break\n",
        "\n",
        "        prefix = '\\n'.join(section)\n",
        "        print('\\n\\nprefix:\\n%s' % prefix)"
      ],
      "execution_count": null,
      "outputs": []
    },
    {
      "cell_type": "markdown",
      "metadata": {
        "id": "r3DnQCYVliXs"
      },
      "source": [
        "## 5. Done !\n",
        "\n",
        "You're done ! Check out the generated images in your chosen Google Drive folder. Run step 5 again to generate more. Cool !"
      ]
    }
  ]
}