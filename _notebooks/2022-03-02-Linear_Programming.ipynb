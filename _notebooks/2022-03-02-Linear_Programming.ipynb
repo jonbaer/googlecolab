{
  "cells": [
    {
      "cell_type": "markdown",
      "metadata": {
        "id": "fw9jZEX_jwU7"
      },
      "source": [
        "# Introduction to Linear Programming in Python \n",
        "> A guide to mathematical optimization with Google OR-Tools\n",
        "\n",
        "- toc: false \n",
        "- badges: true\n",
        "- comments: true\n",
        "- author: Maxime Labonne\n",
        "- categories: [linear optimization, linear programming, OR-Tools, ortools, python, tutorial]\n",
        "- image: images/linearoptimization/thumbnail.jpg\n",
        "- permalink: /linearoptimization/"
      ]
    },
    {
      "cell_type": "markdown",
      "metadata": {
        "id": "2ywEZ_RkknQC"
      },
      "source": [
        "<center><img src=\"https://mlabonne.github.io/blog/images/linearoptimization/thumbnail.jpg\"></center>\n",
        "\n",
        "Linear programming is a technique to **optimize any problem** with multiple variables and constraints. It's a simple but powerful tool every data scientist should master.\n",
        "\n",
        "Imagine you are a strategist recruiting an army. You have:\n",
        "* **Three resources**: 🌾food, 🪵wood, and 🪙gold\n",
        "* **Three units**: 🗡️swordsmen, 🏹bowmen, and 🐎horsemen.\n",
        "\n",
        "Horsemen are stronger than bowmen, who are in turn stronger than swordsmen. The following table provides the cost and power of each unit:\n",
        "\n",
        "<br/>\n",
        "<br/>\n",
        "\n",
        "| Unit | 🌾Food | 🪵Wood | 🪙Gold | 💪Power |\n",
        "| :--- | :---: | :---: | :---: | :---: |\n",
        "| 🗡️Swordsman | 60 | 20 | 0 | 70 |\n",
        "| 🏹Bowman | 80 | 10 | 40 | 95 |\n",
        "| 🐎Horseman | 140 | 0 |100 | 230 |\n",
        "\n",
        "<br/>\n",
        "\n",
        "Now we have 1200 🌾food, 800 🪵wood, and 600 🪙gold. How should we **maximize the power of our army** considering these resources?\n",
        "\n",
        "We could simply find the unit with the best power/cost ratio, take as many of them as possible, and repeat the process with the other two units. But this \"guess and check\" solution might **not even be optimal**...\n",
        "\n",
        "Now imagine we have **millions of units and resources**: the previous greedy strategy is likely to completely miss the optimal solution. It is possible to use a machine learning algorithm (e.g., a genetic algorithm) to solve this problem, but we have no guarantee that the solution will be optimal either.\n",
        "\n",
        "Fortunately for us, there is a method that can solve our problem in an optimal way: **linear programming** (or linear optimization), which is part of the field of [operations research](https://en.wikipedia.org/wiki/Operations_research) (OR). In this article, we'll use it to find the best numbers of swordsmen, bowmen, and horsemen to build the **army with the highest power possible**.\n",
        "\n",
        "You can run the code from this tutorial with the following [**Google Colab notebook**](https://colab.research.google.com/drive/1dbrFJwFv80kgUi13MfPO3KyumG-SVIHG?usp=sharing).\n",
        "\n",
        "## 🧠 I. Solvers\n",
        "\n",
        "In Python, there are different libraries for linear programming such as the multi-purposed **SciPy**, the beginner-friendly **PuLP**, the exhaustive **Pyomo**, and many others.\n",
        "\n",
        "Today, we are going to use [**Google OR-Tools**](https://developers.google.com/optimization), which is quite user-friendly, comes with several prepackaged solvers, and has by far the most stars on [GitHub](https://github.com/google/or-tools).\n",
        "\n",
        "If the installation doesn't work, please restart the kernel and try again: it can fail sometimes. ¯\\\\\\_(ツ)\\_/¯"
      ]
    },
    {
      "cell_type": "code",
      "execution_count": null,
      "metadata": {
        "id": "ZK0c0hhQklGb"
      },
      "outputs": [],
      "source": [
        "!python -m pip install --upgrade --user -q ortools"
      ]
    },
    {
      "cell_type": "markdown",
      "metadata": {
        "id": "eGgO_cnFk9ce"
      },
      "source": [
        "All these libraries have a hidden benefit: they act as interfaces to **use the same model with different solvers**. Solvers like [Gurobi](https://www.gurobi.com/), [Cplex](https://www.ibm.com/analytics/cplex-optimizer), or [SCIP](https://www.scipopt.org/) have their own APIs, but the models they create are **tied to a specific solver**.\n",
        "\n",
        "OR-Tools allows us to use an abstract (and quite pythonic) way of modeling our problems. We can then choose **one or several solvers** to find an optimal solution. The model we built is thus highly reusable!\n",
        "\n",
        "<center class=\"dark-bg\">\n",
        "    <video autoplay loop muted width=\"800\" class=\"no-margin\">\n",
        "        <source src=\"https://mlabonne.github.io/blog/images/linearoptimization/solvers.mp4\" type=\"video/mp4\"></source>\n",
        "    </video>\n",
        "</center>\n",
        "\n",
        "OR-Tools comes with its own linear programming solver, called **GLOP** (Google Linear Optimization Package). It is an open-source project created by Google's Operations Research Team and written in C++.\n",
        "\n",
        "Other solvers are available such as **SCIP**, an excellent non-commercial solver created in 2005 and updated and maintained to this day. We could also use popular commercial options like **Gurobi** and **Cplex**. However, we would need to install them on top of OR-Tools and get the appropriate licenses (which can be quite costly). For now, let's try GLOP."
      ]
    },
    {
      "cell_type": "code",
      "execution_count": null,
      "metadata": {
        "id": "l4RYui9hxcJG"
      },
      "outputs": [],
      "source": [
        "# Import OR-Tools wrapper for linear programming\n",
        "from ortools.linear_solver import pywraplp\n",
        "\n",
        "# Create a solver using the GLOP backend\n",
        "solver = pywraplp.Solver('Maximize army power', pywraplp.Solver.GLOP_LINEAR_PROGRAMMING)"
      ]
    },
    {
      "cell_type": "markdown",
      "metadata": {
        "id": "GGx41ZONYF17"
      },
      "source": [
        "## 🧮 II. Variables\n",
        "\n",
        "We created an instance of the OR-Tools solver using GLOP. Now, how to use linear programming? The first thing we want to define is the **variables we want to optimize**.\n",
        "\n",
        "In our example, we have three variables: the number of 🗡️swordsmen, 🏹bowmen, and 🐎horsemen in the army. OR-Tools accepts three types of variables:\n",
        "\n",
        "* [`NumVar`](https://google.github.io/or-tools/python/ortools/linear_solver/pywraplp.html#Solver.NumVar) for **continuous** variables;\n",
        "* [`IntVar`](https://google.github.io/or-tools/python/ortools/linear_solver/pywraplp.html#Solver.IntVar) for **integer** variables;\n",
        "* [`BoolVar`](https://google.github.io/or-tools/python/ortools/linear_solver/pywraplp.html#Solver.BoolVar) for **boolean** variables.\n",
        "\n",
        "We're looking for **round numbers** of units, so let's choose `IntVar`. We then need to specify lower and upper bounds for these variables. We want at least 0 unit, but we don't really have an upper bound. So we can say that our upper bound is infinity (or any big number we will never reach). It can be written as:\n",
        "\n",
        "$$0 \\leq swordsmen < \\infty \\\\\n",
        "0 \\leq bowmen < \\infty \\\\\n",
        "0 \\leq horsemen < \\infty$$\n",
        "\n",
        "Let's translate it into code. Infinity is replaced by `solver.infinity()` in OR-Tools. Other than that, the syntax is **quite straightforward**:"
      ]
    },
    {
      "cell_type": "code",
      "execution_count": null,
      "metadata": {
        "id": "7Oqc6nBg0ea2"
      },
      "outputs": [],
      "source": [
        "# Create the variables we want to optimize\n",
        "swordsmen = solver.IntVar(0, solver.infinity(), 'swordsmen')\n",
        "bowmen = solver.IntVar(0, solver.infinity(), 'bowmen')\n",
        "horsemen = solver.IntVar(0, solver.infinity(), 'horsemen')"
      ]
    },
    {
      "cell_type": "markdown",
      "metadata": {
        "id": "Yy-N4FHpY3AP"
      },
      "source": [
        "## ⛓️ III. Constraints\n",
        "\n",
        "We defined our variables, but the **constraints** are just as important.\n",
        "\n",
        "Perhaps counter-intuitively, adding more constraints helps the solver to **find an optimal solution faster**. Why is this the case? Think of the solver as a tree: constraints help it trim branches and reduce the search space.\n",
        "\n",
        "In our case, we have a limited number of resources we can use to produce units. In other words, **we can't spend more resources than we have**. For instance, the 🌾food spent to recruit units cannot be higher than 1200. The same is true with 🪵wood (800) and 🪙gold (600).\n",
        "\n",
        "According to our table, units have the following costs:\n",
        "\n",
        "* 1 **swordsman** = 🌾60 + 🪵20;\n",
        "* 1 **bowman** = 🌾80 + 🪵10 + 🪙40;\n",
        "* 1 **horseman** = 🌾140 + 🪙100.\n",
        "\n",
        "We can write one constraint per resource as follows:\n",
        "\n",
        "$$60\\times swordsmen + 80\\times bowmen + 140\\times horsemen \\leq 1200 \\\\\n",
        "20\\times swordsmen + 10\\times bowmen \\leq 800 \\\\\n",
        "40\\times bowmen + 100\\times horsemen \\leq 600$$\n",
        "\n",
        "In OR-Tools, we simply add the constraints to our solver instance with [`solver.Add()`](https://google.github.io/or-tools/python/ortools/linear_solver/pywraplp.html#Solver.Add)."
      ]
    },
    {
      "cell_type": "code",
      "execution_count": null,
      "metadata": {
        "id": "jtD0ZPevY5CO"
      },
      "outputs": [],
      "source": [
        "# Add constraints for each resource\n",
        "solver.Add(swordsmen*60 + bowmen*80 + horsemen*140 <= 1200) # Food\n",
        "solver.Add(swordsmen*20 + bowmen*10 <= 800)                 # Wood\n",
        "solver.Add(bowmen*40 + horsemen*100 <= 600)                 # Gold"
      ]
    },
    {
      "cell_type": "markdown",
      "metadata": {
        "id": "PXV0Gg30Y5UD"
      },
      "source": [
        "## 🎯 IV. Objective\n",
        "\n",
        "Now that we have our variables and constraints, we want to **define our goal** (or objective function).\n",
        "\n",
        "In linear programming, this function **has to be linear** (like the constraints), so of the form $ax + by + cz + d$. In our example, the objective is quite clear: we want to recruit the army with the highest power. The table gives us the following power values:\n",
        "\n",
        "* 1 **swordsman** = 💪70;\n",
        "* 1 **bowman** = 💪95;\n",
        "* 1 **horseman** = 💪230.\n",
        "\n",
        "Maximizing the power of the army amounts to **maximizing the sum of the power of each unit**. Our objective function can be written as:\n",
        "\n",
        "$$max\\ 70\\times swordsmen + 95\\times bowmen + 230\\times horsemen$$\n",
        "\n",
        "In general, there are two types of objective functions: **maximizing** and **minimizing**. In OR-Tools, we declare this goal with [`solver.Maximize()`](https://google.github.io/or-tools/python/ortools/linear_solver/pywraplp.html#Solver.Maximize) or [`solver.Minimize()`](https://google.github.io/or-tools/python/ortools/linear_solver/pywraplp.html#Solver.Minimize)."
      ]
    },
    {
      "cell_type": "code",
      "execution_count": null,
      "metadata": {
        "id": "HLkXypIKY8Bm"
      },
      "outputs": [],
      "source": [
        "# Maximize the objective function\n",
        "solver.Maximize(swordsmen*70 + bowmen*95 + horsemen*230)"
      ]
    },
    {
      "cell_type": "markdown",
      "metadata": {
        "id": "wCCbr-faY8d-"
      },
      "source": [
        "And we're done! There are three steps to model any linear optimization problem:\n",
        "\n",
        "1. Declaring the **variables** to optimize with lower and upper bounds;\n",
        "2. Adding **constraints** to these variables;\n",
        "3. Defining the **objective function** to maximize or to minimize.\n",
        "\n",
        "Now that is clear, we can ask the solver to find an optimal solution for us.\n",
        "\n",
        "## 🥇 V. Optimize!\n",
        "\n",
        "Calculating the optimal solution is done with [`solver.Solve()`](https://google.github.io/or-tools/python/ortools/linear_solver/pywraplp.html#Solver.Solve). This function returns a status that can be used to **check that the solution is indeed optimal**.\n",
        "\n",
        "Let's print the highest total power we can get with the best army configuration."
      ]
    },
    {
      "cell_type": "code",
      "execution_count": null,
      "metadata": {
        "colab": {
          "base_uri": "https://localhost:8080/"
        },
        "id": "ddA-aNJMY-V6",
        "outputId": "9192b161-8737-430c-b548-12bb4bc18a0a"
      },
      "outputs": [
        {
          "name": "stdout",
          "output_type": "stream",
          "text": [
            "================= Solution =================\n",
            "Solved in 87.00 milliseconds in 2 iterations\n",
            "\n",
            "Optimal power = 1800.0 💪power\n",
            "Army:\n",
            " - 🗡️Swordsmen = 6.0000000000000036\n",
            " - 🏹Bowmen = 0.0\n",
            " - 🐎Horsemen = 5.999999999999999\n"
          ]
        }
      ],
      "source": [
        "# Solve problem\n",
        "status = solver.Solve()\n",
        "\n",
        "# If an optimal solution has been found, print results\n",
        "if status == pywraplp.Solver.OPTIMAL:\n",
        "  print('================= Solution =================')\n",
        "  print(f'Solved in {solver.wall_time():.2f} milliseconds in {solver.iterations()} iterations')\n",
        "  print()\n",
        "  print(f'Optimal power = {solver.Objective().Value()} 💪power')\n",
        "  print('Army:')\n",
        "  print(f' - 🗡️Swordsmen = {swordsmen.solution_value()}')\n",
        "  print(f' - 🏹Bowmen = {bowmen.solution_value()}')\n",
        "  print(f' - 🐎Horsemen = {horsemen.solution_value()}')\n",
        "else:\n",
        "  print('The solver could not find an optimal solution.')"
      ]
    },
    {
      "cell_type": "markdown",
      "metadata": {
        "id": "H_QohPhkEKs6"
      },
      "source": [
        "Great! The solver found an optimal solution: our army has a **total power of 💪1800** with 6 🗡️swordsmen and 6 🐎horsemen (sorry bowmen!).\n",
        "\n",
        "Let's unpack this result:\n",
        "\n",
        "* The solver decided to take the **maximum number of 🐎horsemen** (6, since we only have 🪙600 and they each cost 🪙100);\n",
        "* The remaining resources are spent in 🗡️**swordsmen**: we have $1200 – 6*140 = 360$🌾food left, which is why the solver chose 6 🗡️swordsmen;\n",
        "* We can deduce that the horsemen are the best unit and the **bowmen are the worst one** because they haven't been chosen at all.\n",
        "\n",
        "Okay, but there's something quite weird: these numbers are not round, even though we specified that we wanted **integers** (IntVar). So what happened?\n",
        "\n",
        "Unfortunately, answering this question requires a deep dive into linear programming… To keep things simple in this introduction, let's say it's because of GLOP. Solvers have characteristics we have to take into account, and **GLOP doesn't handle integers**. This is another proof that building reusable models is more than just convenient.\n",
        "\n",
        "We'll explain why GLOP has this strange behavior and **how to fix it** in a [more advanced tutorial](https://mlabonne.github.io/blog/integerprogramming/).\n",
        "\n",
        "## Conclusion\n",
        "\n",
        "We saw through this example the five main steps of any linear optimization problem:\n",
        "\n",
        "1. **Choosing a solver**: in our case, we selected GLOP for convenience.\n",
        "2. **Declaring variables**: the parameters to optimize were the number of swordsmen, bowmen, and horsemen.\n",
        "3. **Declaring constraints**: each of these units has a cost. The total cost could not exceed our limited resources.\n",
        "4. **Defining objective**: the criterion to maximize was the total power of this army. It could have been something else, like the number of units.\n",
        "5. **Optimizing**: GLOP found an optimal solution to this problem in less than a second.\n",
        "\n",
        "<center><img src=\"https://mlabonne.github.io/blog/images/linearoptimization/infographic.png\" width=600></center>\n",
        "\n",
        "This is the main benefit of linear programming: the algorithm gives us a **guarantee that the solution that was found is optimal** (with a certain error). This guarantee is powerful, but comes at a cost: the model can be so complex that the solver takes years (or more) to find an optimal solution. In this scenario, we have two options:\n",
        "\n",
        "* We can **stop the solver** after a certain time (and probably obtain a suboptimal answer);\n",
        "* We can use a **metaheuristic** like a genetic algorithm to calculate an excellent solution in a short amount of time.\n",
        "\n",
        "In the next article, we'll talk about the different types of optimization problems and generalize our approach to an entire class of them.\n",
        "\n",
        "I hope you enjoyed this introduction! Feel free to share it and spread the knowledge about linear optimization. [**Let's connect on Twitter**](https://twitter.com/maximelabonne) where I post summaries of these articles. Cheers!"
      ]
    }
  ],
  "metadata": {
    "colab": {
      "collapsed_sections": [],
      "name": "Become a master strategist with OR-Tools.ipynb",
      "provenance": []
    },
    "kernelspec": {
      "display_name": "Python 3",
      "name": "python3"
    },
    "language_info": {
      "name": "python",
      "version": "3.8.12"
    }
  },
  "nbformat": 4,
  "nbformat_minor": 0
}