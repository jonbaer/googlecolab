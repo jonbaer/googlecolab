{
  "nbformat": 4,
  "nbformat_minor": 0,
  "metadata": {
    "colab": {
      "provenance": [],
      "include_colab_link": true
    },
    "kernelspec": {
      "name": "python3",
      "display_name": "Python 3"
    },
    "language_info": {
      "name": "python"
    }
  },
  "cells": [
    {
      "cell_type": "markdown",
      "metadata": {
        "id": "view-in-github",
        "colab_type": "text"
      },
      "source": [
        "<a href=\"https://colab.research.google.com/github/jonbaer/googlecolab/blob/master/ChatArenaTutorial.ipynb\" target=\"_parent\"><img src=\"https://colab.research.google.com/assets/colab-badge.svg\" alt=\"Open In Colab\"/></a>"
      ]
    },
    {
      "cell_type": "code",
      "execution_count": null,
      "metadata": {
        "colab": {
          "base_uri": "https://localhost:8080/",
          "height": 1000
        },
        "id": "nz3sN4p8Y1eq",
        "outputId": "b0f8ca2d-3553-43ca-e6c8-be11007f82ae"
      },
      "outputs": [
        {
          "output_type": "stream",
          "name": "stdout",
          "text": [
            "Collecting chatarena[all]\n",
            "  Downloading chatarena-0.1.12.7-py3-none-any.whl (73 kB)\n",
            "\u001b[?25l     \u001b[90m━━━━━━━━━━━━━━━━━━━━━━━━━━━━━━━━━━━━━━━━\u001b[0m \u001b[32m0.0/73.1 kB\u001b[0m \u001b[31m?\u001b[0m eta \u001b[36m-:--:--\u001b[0m\r\u001b[2K     \u001b[90m━━━━━━━━━━━━━━━━━━━━━━━━━━━━━━━━━━━━━━━━\u001b[0m \u001b[32m73.1/73.1 kB\u001b[0m \u001b[31m5.1 MB/s\u001b[0m eta \u001b[36m0:00:00\u001b[0m\n",
            "\u001b[?25hCollecting openai>=0.27.2 (from chatarena[all])\n",
            "  Downloading openai-0.27.8-py3-none-any.whl (73 kB)\n",
            "\u001b[?25l     \u001b[90m━━━━━━━━━━━━━━━━━━━━━━━━━━━━━━━━━━━━━━━━\u001b[0m \u001b[32m0.0/73.6 kB\u001b[0m \u001b[31m?\u001b[0m eta \u001b[36m-:--:--\u001b[0m\r\u001b[2K     \u001b[90m━━━━━━━━━━━━━━━━━━━━━━━━━━━━━━━━━━━━━━━━\u001b[0m \u001b[32m73.6/73.6 kB\u001b[0m \u001b[31m7.2 MB/s\u001b[0m eta \u001b[36m0:00:00\u001b[0m\n",
            "\u001b[?25hRequirement already satisfied: tenacity==8.2.2 in /usr/local/lib/python3.10/dist-packages (from chatarena[all]) (8.2.2)\n",
            "Collecting rich==13.3.3 (from chatarena[all])\n",
            "  Downloading rich-13.3.3-py3-none-any.whl (238 kB)\n",
            "\u001b[2K     \u001b[90m━━━━━━━━━━━━━━━━━━━━━━━━━━━━━━━━━━━━━━\u001b[0m \u001b[32m238.7/238.7 kB\u001b[0m \u001b[31m19.6 MB/s\u001b[0m eta \u001b[36m0:00:00\u001b[0m\n",
            "\u001b[?25hCollecting prompt-toolkit==3.0.38 (from chatarena[all])\n",
            "  Downloading prompt_toolkit-3.0.38-py3-none-any.whl (385 kB)\n",
            "\u001b[2K     \u001b[90m━━━━━━━━━━━━━━━━━━━━━━━━━━━━━━━━━━━━━━\u001b[0m \u001b[32m385.8/385.8 kB\u001b[0m \u001b[31m35.3 MB/s\u001b[0m eta \u001b[36m0:00:00\u001b[0m\n",
            "\u001b[?25hCollecting anthropic>=0.2.8 (from chatarena[all])\n",
            "  Downloading anthropic-0.3.4-py3-none-any.whl (793 kB)\n",
            "\u001b[2K     \u001b[90m━━━━━━━━━━━━━━━━━━━━━━━━━━━━━━━━━━━━━━\u001b[0m \u001b[32m793.6/793.6 kB\u001b[0m \u001b[31m45.9 MB/s\u001b[0m eta \u001b[36m0:00:00\u001b[0m\n",
            "\u001b[?25hCollecting cohere>=4.3.1 (from chatarena[all])\n",
            "  Downloading cohere-4.15.0-py3-none-any.whl (40 kB)\n",
            "\u001b[2K     \u001b[90m━━━━━━━━━━━━━━━━━━━━━━━━━━━━━━━━━━━━━━━━\u001b[0m \u001b[32m40.8/40.8 kB\u001b[0m \u001b[31m3.2 MB/s\u001b[0m eta \u001b[36m0:00:00\u001b[0m\n",
            "\u001b[?25hCollecting transformers>=4.27.4 (from chatarena[all])\n",
            "  Downloading transformers-4.30.2-py3-none-any.whl (7.2 MB)\n",
            "\u001b[2K     \u001b[90m━━━━━━━━━━━━━━━━━━━━━━━━━━━━━━━━━━━━━━━━\u001b[0m \u001b[32m7.2/7.2 MB\u001b[0m \u001b[31m76.6 MB/s\u001b[0m eta \u001b[36m0:00:00\u001b[0m\n",
            "\u001b[?25hCollecting bardapi==0.1.11 (from chatarena[all])\n",
            "  Downloading bardapi-0.1.11-py3-none-any.whl (8.8 kB)\n",
            "Collecting langchain>=0.0.135 (from chatarena[all])\n",
            "  Downloading langchain-0.0.235-py3-none-any.whl (1.3 MB)\n",
            "\u001b[2K     \u001b[90m━━━━━━━━━━━━━━━━━━━━━━━━━━━━━━━━━━━━━━━━\u001b[0m \u001b[32m1.3/1.3 MB\u001b[0m \u001b[31m67.7 MB/s\u001b[0m eta \u001b[36m0:00:00\u001b[0m\n",
            "\u001b[?25hCollecting chess==1.9.4 (from chatarena[all])\n",
            "  Downloading chess-1.9.4-py3-none-any.whl (149 kB)\n",
            "\u001b[2K     \u001b[90m━━━━━━━━━━━━━━━━━━━━━━━━━━━━━━━━━━━━━━\u001b[0m \u001b[32m149.1/149.1 kB\u001b[0m \u001b[31m15.8 MB/s\u001b[0m eta \u001b[36m0:00:00\u001b[0m\n",
            "\u001b[?25hCollecting pettingzoo>=1.23.1 (from chatarena[all])\n",
            "  Downloading pettingzoo-1.23.1-py3-none-any.whl (826 kB)\n",
            "\u001b[2K     \u001b[90m━━━━━━━━━━━━━━━━━━━━━━━━━━━━━━━━━━━━━━\u001b[0m \u001b[32m826.7/826.7 kB\u001b[0m \u001b[31m59.5 MB/s\u001b[0m eta \u001b[36m0:00:00\u001b[0m\n",
            "\u001b[?25hCollecting gradio>=3.34.0 (from chatarena[all])\n",
            "  Downloading gradio-3.37.0-py3-none-any.whl (19.8 MB)\n",
            "\u001b[2K     \u001b[90m━━━━━━━━━━━━━━━━━━━━━━━━━━━━━━━━━━━━━━━━\u001b[0m \u001b[32m19.8/19.8 MB\u001b[0m \u001b[31m45.0 MB/s\u001b[0m eta \u001b[36m0:00:00\u001b[0m\n",
            "\u001b[?25hRequirement already satisfied: requests in /usr/local/lib/python3.10/dist-packages (from bardapi==0.1.11->chatarena[all]) (2.27.1)\n",
            "Requirement already satisfied: wcwidth in /usr/local/lib/python3.10/dist-packages (from prompt-toolkit==3.0.38->chatarena[all]) (0.2.6)\n",
            "Collecting markdown-it-py<3.0.0,>=2.2.0 (from rich==13.3.3->chatarena[all])\n",
            "  Downloading markdown_it_py-2.2.0-py3-none-any.whl (84 kB)\n",
            "\u001b[2K     \u001b[90m━━━━━━━━━━━━━━━━━━━━━━━━━━━━━━━━━━━━━━━━\u001b[0m \u001b[32m84.5/84.5 kB\u001b[0m \u001b[31m8.3 MB/s\u001b[0m eta \u001b[36m0:00:00\u001b[0m\n",
            "\u001b[?25hRequirement already satisfied: pygments<3.0.0,>=2.13.0 in /usr/local/lib/python3.10/dist-packages (from rich==13.3.3->chatarena[all]) (2.14.0)\n",
            "Requirement already satisfied: anyio<4,>=3.5.0 in /usr/local/lib/python3.10/dist-packages (from anthropic>=0.2.8->chatarena[all]) (3.7.1)\n",
            "Collecting distro<2,>=1.7.0 (from anthropic>=0.2.8->chatarena[all])\n",
            "  Downloading distro-1.8.0-py3-none-any.whl (20 kB)\n",
            "Collecting httpx<1,>=0.23.0 (from anthropic>=0.2.8->chatarena[all])\n",
            "  Downloading httpx-0.24.1-py3-none-any.whl (75 kB)\n",
            "\u001b[2K     \u001b[90m━━━━━━━━━━━━━━━━━━━━━━━━━━━━━━━━━━━━━━━━\u001b[0m \u001b[32m75.4/75.4 kB\u001b[0m \u001b[31m4.0 MB/s\u001b[0m eta \u001b[36m0:00:00\u001b[0m\n",
            "\u001b[?25hRequirement already satisfied: pydantic<2.0.0,>=1.9.0 in /usr/local/lib/python3.10/dist-packages (from anthropic>=0.2.8->chatarena[all]) (1.10.11)\n",
            "Collecting tokenizers>=0.13.0 (from anthropic>=0.2.8->chatarena[all])\n",
            "  Downloading tokenizers-0.13.3-cp310-cp310-manylinux_2_17_x86_64.manylinux2014_x86_64.whl (7.8 MB)\n",
            "\u001b[2K     \u001b[90m━━━━━━━━━━━━━━━━━━━━━━━━━━━━━━━━━━━━━━━━\u001b[0m \u001b[32m7.8/7.8 MB\u001b[0m \u001b[31m48.5 MB/s\u001b[0m eta \u001b[36m0:00:00\u001b[0m\n",
            "\u001b[?25hRequirement already satisfied: typing-extensions<5,>=4.1.1 in /usr/local/lib/python3.10/dist-packages (from anthropic>=0.2.8->chatarena[all]) (4.7.1)\n",
            "Requirement already satisfied: aiohttp<4.0,>=3.0 in /usr/local/lib/python3.10/dist-packages (from cohere>=4.3.1->chatarena[all]) (3.8.4)\n",
            "Collecting backoff<3.0,>=2.0 (from cohere>=4.3.1->chatarena[all])\n",
            "  Downloading backoff-2.2.1-py3-none-any.whl (15 kB)\n",
            "Collecting importlib_metadata<7.0,>=6.0 (from cohere>=4.3.1->chatarena[all])\n",
            "  Downloading importlib_metadata-6.8.0-py3-none-any.whl (22 kB)\n",
            "Requirement already satisfied: urllib3<3,>=1.26 in /usr/local/lib/python3.10/dist-packages (from cohere>=4.3.1->chatarena[all]) (1.26.16)\n",
            "Collecting aiofiles<24.0,>=22.0 (from gradio>=3.34.0->chatarena[all])\n",
            "  Downloading aiofiles-23.1.0-py3-none-any.whl (14 kB)\n",
            "Requirement already satisfied: altair<6.0,>=4.2.0 in /usr/local/lib/python3.10/dist-packages (from gradio>=3.34.0->chatarena[all]) (4.2.2)\n",
            "Collecting fastapi (from gradio>=3.34.0->chatarena[all])\n",
            "  Downloading fastapi-0.100.0-py3-none-any.whl (65 kB)\n",
            "\u001b[2K     \u001b[90m━━━━━━━━━━━━━━━━━━━━━━━━━━━━━━━━━━━━━━━━\u001b[0m \u001b[32m65.7/65.7 kB\u001b[0m \u001b[31m7.3 MB/s\u001b[0m eta \u001b[36m0:00:00\u001b[0m\n",
            "\u001b[?25hCollecting ffmpy (from gradio>=3.34.0->chatarena[all])\n",
            "  Downloading ffmpy-0.3.1.tar.gz (5.5 kB)\n",
            "  Preparing metadata (setup.py) ... \u001b[?25l\u001b[?25hdone\n",
            "Collecting gradio-client>=0.2.10 (from gradio>=3.34.0->chatarena[all])\n",
            "  Downloading gradio_client-0.2.10-py3-none-any.whl (288 kB)\n",
            "\u001b[2K     \u001b[90m━━━━━━━━━━━━━━━━━━━━━━━━━━━━━━━━━━━━━━\u001b[0m \u001b[32m289.0/289.0 kB\u001b[0m \u001b[31m22.4 MB/s\u001b[0m eta \u001b[36m0:00:00\u001b[0m\n",
            "\u001b[?25hCollecting huggingface-hub>=0.14.0 (from gradio>=3.34.0->chatarena[all])\n",
            "  Downloading huggingface_hub-0.16.4-py3-none-any.whl (268 kB)\n",
            "\u001b[2K     \u001b[90m━━━━━━━━━━━━━━━━━━━━━━━━━━━━━━━━━━━━━━\u001b[0m \u001b[32m268.8/268.8 kB\u001b[0m \u001b[31m19.7 MB/s\u001b[0m eta \u001b[36m0:00:00\u001b[0m\n",
            "\u001b[?25hRequirement already satisfied: jinja2<4.0 in /usr/local/lib/python3.10/dist-packages (from gradio>=3.34.0->chatarena[all]) (3.1.2)\n",
            "Requirement already satisfied: markdown-it-py[linkify]>=2.0.0 in /usr/local/lib/python3.10/dist-packages (from gradio>=3.34.0->chatarena[all]) (3.0.0)\n",
            "Requirement already satisfied: markupsafe~=2.0 in /usr/local/lib/python3.10/dist-packages (from gradio>=3.34.0->chatarena[all]) (2.1.3)\n",
            "Requirement already satisfied: matplotlib~=3.0 in /usr/local/lib/python3.10/dist-packages (from gradio>=3.34.0->chatarena[all]) (3.7.1)\n",
            "Collecting mdit-py-plugins<=0.3.3 (from gradio>=3.34.0->chatarena[all])\n",
            "  Downloading mdit_py_plugins-0.3.3-py3-none-any.whl (50 kB)\n",
            "\u001b[2K     \u001b[90m━━━━━━━━━━━━━━━━━━━━━━━━━━━━━━━━━━━━━━━━\u001b[0m \u001b[32m50.5/50.5 kB\u001b[0m \u001b[31m5.7 MB/s\u001b[0m eta \u001b[36m0:00:00\u001b[0m\n",
            "\u001b[?25hRequirement already satisfied: numpy~=1.0 in /usr/local/lib/python3.10/dist-packages (from gradio>=3.34.0->chatarena[all]) (1.22.4)\n",
            "Collecting orjson~=3.0 (from gradio>=3.34.0->chatarena[all])\n",
            "  Downloading orjson-3.9.2-cp310-cp310-manylinux_2_17_x86_64.manylinux2014_x86_64.whl (138 kB)\n",
            "\u001b[2K     \u001b[90m━━━━━━━━━━━━━━━━━━━━━━━━━━━━━━━━━━━━━━\u001b[0m \u001b[32m138.7/138.7 kB\u001b[0m \u001b[31m12.8 MB/s\u001b[0m eta \u001b[36m0:00:00\u001b[0m\n",
            "\u001b[?25hRequirement already satisfied: packaging in /usr/local/lib/python3.10/dist-packages (from gradio>=3.34.0->chatarena[all]) (23.1)\n",
            "Requirement already satisfied: pandas<3.0,>=1.0 in /usr/local/lib/python3.10/dist-packages (from gradio>=3.34.0->chatarena[all]) (1.5.3)\n",
            "Requirement already satisfied: pillow<11.0,>=8.0 in /usr/local/lib/python3.10/dist-packages (from gradio>=3.34.0->chatarena[all]) (8.4.0)\n",
            "Collecting pydub (from gradio>=3.34.0->chatarena[all])\n",
            "  Downloading pydub-0.25.1-py2.py3-none-any.whl (32 kB)\n",
            "Collecting python-multipart (from gradio>=3.34.0->chatarena[all])\n",
            "  Downloading python_multipart-0.0.6-py3-none-any.whl (45 kB)\n",
            "\u001b[2K     \u001b[90m━━━━━━━━━━━━━━━━━━━━━━━━━━━━━━━━━━━━━━━━\u001b[0m \u001b[32m45.7/45.7 kB\u001b[0m \u001b[31m4.4 MB/s\u001b[0m eta \u001b[36m0:00:00\u001b[0m\n",
            "\u001b[?25hRequirement already satisfied: pyyaml<7.0,>=5.0 in /usr/local/lib/python3.10/dist-packages (from gradio>=3.34.0->chatarena[all]) (6.0)\n",
            "Collecting semantic-version~=2.0 (from gradio>=3.34.0->chatarena[all])\n",
            "  Downloading semantic_version-2.10.0-py2.py3-none-any.whl (15 kB)\n",
            "Collecting uvicorn>=0.14.0 (from gradio>=3.34.0->chatarena[all])\n",
            "  Downloading uvicorn-0.23.1-py3-none-any.whl (59 kB)\n",
            "\u001b[2K     \u001b[90m━━━━━━━━━━━━━━━━━━━━━━━━━━━━━━━━━━━━━━━━\u001b[0m \u001b[32m59.5/59.5 kB\u001b[0m \u001b[31m6.5 MB/s\u001b[0m eta \u001b[36m0:00:00\u001b[0m\n",
            "\u001b[?25hCollecting websockets<12.0,>=10.0 (from gradio>=3.34.0->chatarena[all])\n",
            "  Downloading websockets-11.0.3-cp310-cp310-manylinux_2_5_x86_64.manylinux1_x86_64.manylinux_2_17_x86_64.manylinux2014_x86_64.whl (129 kB)\n",
            "\u001b[2K     \u001b[90m━━━━━━━━━━━━━━━━━━━━━━━━━━━━━━━━━━━━━━\u001b[0m \u001b[32m129.9/129.9 kB\u001b[0m \u001b[31m14.5 MB/s\u001b[0m eta \u001b[36m0:00:00\u001b[0m\n",
            "\u001b[?25hRequirement already satisfied: SQLAlchemy<3,>=1.4 in /usr/local/lib/python3.10/dist-packages (from langchain>=0.0.135->chatarena[all]) (2.0.18)\n",
            "Requirement already satisfied: async-timeout<5.0.0,>=4.0.0 in /usr/local/lib/python3.10/dist-packages (from langchain>=0.0.135->chatarena[all]) (4.0.2)\n",
            "Collecting dataclasses-json<0.6.0,>=0.5.7 (from langchain>=0.0.135->chatarena[all])\n",
            "  Downloading dataclasses_json-0.5.12-py3-none-any.whl (26 kB)\n",
            "Collecting langsmith<0.0.8,>=0.0.7 (from langchain>=0.0.135->chatarena[all])\n",
            "  Downloading langsmith-0.0.7-py3-none-any.whl (26 kB)\n",
            "Requirement already satisfied: numexpr<3.0.0,>=2.8.4 in /usr/local/lib/python3.10/dist-packages (from langchain>=0.0.135->chatarena[all]) (2.8.4)\n",
            "Collecting openapi-schema-pydantic<2.0,>=1.2 (from langchain>=0.0.135->chatarena[all])\n",
            "  Downloading openapi_schema_pydantic-1.2.4-py3-none-any.whl (90 kB)\n",
            "\u001b[2K     \u001b[90m━━━━━━━━━━━━━━━━━━━━━━━━━━━━━━━━━━━━━━━━\u001b[0m \u001b[32m90.0/90.0 kB\u001b[0m \u001b[31m8.8 MB/s\u001b[0m eta \u001b[36m0:00:00\u001b[0m\n",
            "\u001b[?25hRequirement already satisfied: tqdm in /usr/local/lib/python3.10/dist-packages (from openai>=0.27.2->chatarena[all]) (4.65.0)\n",
            "Collecting gymnasium>=0.28.0 (from pettingzoo>=1.23.1->chatarena[all])\n",
            "  Downloading gymnasium-0.29.0-py3-none-any.whl (953 kB)\n",
            "\u001b[2K     \u001b[90m━━━━━━━━━━━━━━━━━━━━━━━━━━━━━━━━━━━━━━\u001b[0m \u001b[32m953.8/953.8 kB\u001b[0m \u001b[31m49.4 MB/s\u001b[0m eta \u001b[36m0:00:00\u001b[0m\n",
            "\u001b[?25hINFO: pip is looking at multiple versions of pettingzoo[classic] to determine which version is compatible with other requirements. This could take a while.\n",
            "Collecting chatarena[all]\n",
            "  Downloading chatarena-0.1.12.6-py3-none-any.whl (71 kB)\n",
            "\u001b[2K     \u001b[90m━━━━━━━━━━━━━━━━━━━━━━━━━━━━━━━━━━━━━━━━\u001b[0m \u001b[32m71.2/71.2 kB\u001b[0m \u001b[31m7.3 MB/s\u001b[0m eta \u001b[36m0:00:00\u001b[0m\n",
            "\u001b[?25hCollecting pygame-ce>=2.2.1 (from chatarena[all])\n",
            "  Downloading pygame_ce-2.3.0-cp310-cp310-manylinux_2_17_x86_64.manylinux2014_x86_64.whl (18.8 MB)\n",
            "\u001b[2K     \u001b[90m━━━━━━━━━━━━━━━━━━━━━━━━━━━━━━━━━━━━━━━━\u001b[0m \u001b[32m18.8/18.8 MB\u001b[0m \u001b[31m4.5 MB/s\u001b[0m eta \u001b[36m0:00:00\u001b[0m\n",
            "\u001b[?25hCollecting chatarena[all]\n",
            "  Downloading chatarena-0.1.12.5-py3-none-any.whl (70 kB)\n",
            "\u001b[2K     \u001b[90m━━━━━━━━━━━━━━━━━━━━━━━━━━━━━━━━━━━━━━━━\u001b[0m \u001b[32m70.6/70.6 kB\u001b[0m \u001b[31m8.5 MB/s\u001b[0m eta \u001b[36m0:00:00\u001b[0m\n",
            "\u001b[?25h  Downloading chatarena-0.1.12.4-py3-none-any.whl (70 kB)\n",
            "\u001b[2K     \u001b[90m━━━━━━━━━━━━━━━━━━━━━━━━━━━━━━━━━━━━━━━━\u001b[0m \u001b[32m70.5/70.5 kB\u001b[0m \u001b[31m6.2 MB/s\u001b[0m eta \u001b[36m0:00:00\u001b[0m\n",
            "\u001b[?25h  Downloading chatarena-0.1.12.3-py3-none-any.whl (68 kB)\n",
            "\u001b[2K     \u001b[90m━━━━━━━━━━━━━━━━━━━━━━━━━━━━━━━━━━━━━━━━\u001b[0m \u001b[32m68.4/68.4 kB\u001b[0m \u001b[31m7.5 MB/s\u001b[0m eta \u001b[36m0:00:00\u001b[0m\n",
            "\u001b[?25hCollecting gradio==3.20.0 (from chatarena[all])\n",
            "  Downloading gradio-3.20.0-py3-none-any.whl (14.3 MB)\n",
            "\u001b[2K     \u001b[90m━━━━━━━━━━━━━━━━━━━━━━━━━━━━━━━━━━━━━━━━\u001b[0m \u001b[32m14.3/14.3 MB\u001b[0m \u001b[31m21.7 MB/s\u001b[0m eta \u001b[36m0:00:00\u001b[0m\n",
            "\u001b[?25hRequirement already satisfied: fsspec in /usr/local/lib/python3.10/dist-packages (from gradio==3.20.0->chatarena[all]) (2023.6.0)\n",
            "Collecting pycryptodome (from gradio==3.20.0->chatarena[all])\n",
            "  Downloading pycryptodome-3.18.0-cp35-abi3-manylinux_2_17_x86_64.manylinux2014_x86_64.whl (2.1 MB)\n",
            "\u001b[2K     \u001b[90m━━━━━━━━━━━━━━━━━━━━━━━━━━━━━━━━━━━━━━━━\u001b[0m \u001b[32m2.1/2.1 MB\u001b[0m \u001b[31m81.3 MB/s\u001b[0m eta \u001b[36m0:00:00\u001b[0m\n",
            "\u001b[?25hCollecting chatarena[all]\n",
            "  Downloading chatarena-0.1.12.2-py3-none-any.whl (49 kB)\n",
            "\u001b[2K     \u001b[90m━━━━━━━━━━━━━━━━━━━━━━━━━━━━━━━━━━━━━━━━\u001b[0m \u001b[32m49.6/49.6 kB\u001b[0m \u001b[31m5.9 MB/s\u001b[0m eta \u001b[36m0:00:00\u001b[0m\n",
            "\u001b[?25h  Downloading chatarena-0.1.12-py3-none-any.whl (49 kB)\n",
            "\u001b[2K     \u001b[90m━━━━━━━━━━━━━━━━━━━━━━━━━━━━━━━━━━━━━━━━\u001b[0m \u001b[32m49.6/49.6 kB\u001b[0m \u001b[31m6.1 MB/s\u001b[0m eta \u001b[36m0:00:00\u001b[0m\n",
            "\u001b[?25hCollecting pettingzoo==1.23.0 (from chatarena[all])\n",
            "  Downloading pettingzoo-1.23.0-py3-none-any.whl (826 kB)\n",
            "\u001b[2K     \u001b[90m━━━━━━━━━━━━━━━━━━━━━━━━━━━━━━━━━━━━━━\u001b[0m \u001b[32m826.8/826.8 kB\u001b[0m \u001b[31m55.0 MB/s\u001b[0m eta \u001b[36m0:00:00\u001b[0m\n",
            "\u001b[?25hCollecting pygame==2.4.0 (from chatarena[all])\n",
            "  Downloading pygame-2.4.0-cp310-cp310-manylinux_2_17_x86_64.manylinux2014_x86_64.whl (13.8 MB)\n",
            "\u001b[2K     \u001b[90m━━━━━━━━━━━━━━━━━━━━━━━━━━━━━━━━━━━━━━━━\u001b[0m \u001b[32m13.8/13.8 MB\u001b[0m \u001b[31m51.2 MB/s\u001b[0m eta \u001b[36m0:00:00\u001b[0m\n",
            "\u001b[?25hRequirement already satisfied: filelock in /usr/local/lib/python3.10/dist-packages (from transformers>=4.27.4->chatarena[all]) (3.12.2)\n",
            "Requirement already satisfied: regex!=2019.12.17 in /usr/local/lib/python3.10/dist-packages (from transformers>=4.27.4->chatarena[all]) (2022.10.31)\n",
            "Collecting safetensors>=0.3.1 (from transformers>=4.27.4->chatarena[all])\n",
            "  Downloading safetensors-0.3.1-cp310-cp310-manylinux_2_17_x86_64.manylinux2014_x86_64.whl (1.3 MB)\n",
            "\u001b[2K     \u001b[90m━━━━━━━━━━━━━━━━━━━━━━━━━━━━━━━━━━━━━━━━\u001b[0m \u001b[32m1.3/1.3 MB\u001b[0m \u001b[31m64.7 MB/s\u001b[0m eta \u001b[36m0:00:00\u001b[0m\n",
            "\u001b[?25hRequirement already satisfied: attrs>=17.3.0 in /usr/local/lib/python3.10/dist-packages (from aiohttp<4.0,>=3.0->cohere>=4.3.1->chatarena[all]) (23.1.0)\n",
            "Requirement already satisfied: charset-normalizer<4.0,>=2.0 in /usr/local/lib/python3.10/dist-packages (from aiohttp<4.0,>=3.0->cohere>=4.3.1->chatarena[all]) (2.0.12)\n",
            "Requirement already satisfied: multidict<7.0,>=4.5 in /usr/local/lib/python3.10/dist-packages (from aiohttp<4.0,>=3.0->cohere>=4.3.1->chatarena[all]) (6.0.4)\n",
            "Requirement already satisfied: yarl<2.0,>=1.0 in /usr/local/lib/python3.10/dist-packages (from aiohttp<4.0,>=3.0->cohere>=4.3.1->chatarena[all]) (1.9.2)\n",
            "Requirement already satisfied: frozenlist>=1.1.1 in /usr/local/lib/python3.10/dist-packages (from aiohttp<4.0,>=3.0->cohere>=4.3.1->chatarena[all]) (1.4.0)\n",
            "Requirement already satisfied: aiosignal>=1.1.2 in /usr/local/lib/python3.10/dist-packages (from aiohttp<4.0,>=3.0->cohere>=4.3.1->chatarena[all]) (1.3.1)\n",
            "Requirement already satisfied: entrypoints in /usr/local/lib/python3.10/dist-packages (from altair<6.0,>=4.2.0->gradio>=3.34.0->chatarena[all]) (0.4)\n",
            "Requirement already satisfied: jsonschema>=3.0 in /usr/local/lib/python3.10/dist-packages (from altair<6.0,>=4.2.0->gradio>=3.34.0->chatarena[all]) (4.3.3)\n",
            "Requirement already satisfied: toolz in /usr/local/lib/python3.10/dist-packages (from altair<6.0,>=4.2.0->gradio>=3.34.0->chatarena[all]) (0.12.0)\n",
            "Requirement already satisfied: idna>=2.8 in /usr/local/lib/python3.10/dist-packages (from anyio<4,>=3.5.0->anthropic>=0.2.8->chatarena[all]) (3.4)\n",
            "Requirement already satisfied: sniffio>=1.1 in /usr/local/lib/python3.10/dist-packages (from anyio<4,>=3.5.0->anthropic>=0.2.8->chatarena[all]) (1.3.0)\n",
            "Requirement already satisfied: exceptiongroup in /usr/local/lib/python3.10/dist-packages (from anyio<4,>=3.5.0->anthropic>=0.2.8->chatarena[all]) (1.1.2)\n",
            "Collecting marshmallow<4.0.0,>=3.18.0 (from dataclasses-json<0.6.0,>=0.5.7->langchain>=0.0.135->chatarena[all])\n",
            "  Downloading marshmallow-3.19.0-py3-none-any.whl (49 kB)\n",
            "\u001b[2K     \u001b[90m━━━━━━━━━━━━━━━━━━━━━━━━━━━━━━━━━━━━━━━━\u001b[0m \u001b[32m49.1/49.1 kB\u001b[0m \u001b[31m5.2 MB/s\u001b[0m eta \u001b[36m0:00:00\u001b[0m\n",
            "\u001b[?25hCollecting typing-inspect<1,>=0.4.0 (from dataclasses-json<0.6.0,>=0.5.7->langchain>=0.0.135->chatarena[all])\n",
            "  Downloading typing_inspect-0.9.0-py3-none-any.whl (8.8 kB)\n",
            "Requirement already satisfied: cloudpickle>=1.2.0 in /usr/local/lib/python3.10/dist-packages (from gymnasium>=0.28.0->pettingzoo>=1.23.1->chatarena[all]) (2.2.1)\n",
            "Collecting farama-notifications>=0.0.1 (from gymnasium>=0.28.0->pettingzoo>=1.23.1->chatarena[all])\n",
            "  Downloading Farama_Notifications-0.0.4-py3-none-any.whl (2.5 kB)\n",
            "Requirement already satisfied: certifi in /usr/local/lib/python3.10/dist-packages (from httpx<1,>=0.23.0->anthropic>=0.2.8->chatarena[all]) (2023.5.7)\n",
            "Collecting httpcore<0.18.0,>=0.15.0 (from httpx<1,>=0.23.0->anthropic>=0.2.8->chatarena[all])\n",
            "  Downloading httpcore-0.17.3-py3-none-any.whl (74 kB)\n",
            "\u001b[2K     \u001b[90m━━━━━━━━━━━━━━━━━━━━━━━━━━━━━━━━━━━━━━━━\u001b[0m \u001b[32m74.5/74.5 kB\u001b[0m \u001b[31m9.0 MB/s\u001b[0m eta \u001b[36m0:00:00\u001b[0m\n",
            "\u001b[?25hRequirement already satisfied: zipp>=0.5 in /usr/local/lib/python3.10/dist-packages (from importlib_metadata<7.0,>=6.0->cohere>=4.3.1->chatarena[all]) (3.16.1)\n",
            "Requirement already satisfied: mdurl~=0.1 in /usr/local/lib/python3.10/dist-packages (from markdown-it-py<3.0.0,>=2.2.0->rich==13.3.3->chatarena[all]) (0.1.2)\n",
            "INFO: pip is looking at multiple versions of markdown-it-py[linkify] to determine which version is compatible with other requirements. This could take a while.\n",
            "Collecting linkify-it-py<3,>=1 (from markdown-it-py<3.0.0,>=2.2.0->rich==13.3.3->chatarena[all])\n",
            "  Downloading linkify_it_py-2.0.2-py3-none-any.whl (19 kB)\n",
            "Requirement already satisfied: python-dateutil>=2.8.1 in /usr/local/lib/python3.10/dist-packages (from pandas<3.0,>=1.0->gradio>=3.34.0->chatarena[all]) (2.8.2)\n",
            "Requirement already satisfied: pytz>=2020.1 in /usr/local/lib/python3.10/dist-packages (from pandas<3.0,>=1.0->gradio>=3.34.0->chatarena[all]) (2022.7.1)\n",
            "Requirement already satisfied: greenlet!=0.4.17 in /usr/local/lib/python3.10/dist-packages (from SQLAlchemy<3,>=1.4->langchain>=0.0.135->chatarena[all]) (2.0.2)\n",
            "Collecting starlette<0.28.0,>=0.27.0 (from fastapi->gradio>=3.34.0->chatarena[all])\n",
            "  Downloading starlette-0.27.0-py3-none-any.whl (66 kB)\n",
            "\u001b[2K     \u001b[90m━━━━━━━━━━━━━━━━━━━━━━━━━━━━━━━━━━━━━━━━\u001b[0m \u001b[32m67.0/67.0 kB\u001b[0m \u001b[31m8.2 MB/s\u001b[0m eta \u001b[36m0:00:00\u001b[0m\n",
            "\u001b[?25hRequirement already satisfied: contourpy>=1.0.1 in /usr/local/lib/python3.10/dist-packages (from matplotlib~=3.0->gradio>=3.34.0->chatarena[all]) (1.1.0)\n",
            "Requirement already satisfied: cycler>=0.10 in /usr/local/lib/python3.10/dist-packages (from matplotlib~=3.0->gradio>=3.34.0->chatarena[all]) (0.11.0)\n",
            "Requirement already satisfied: fonttools>=4.22.0 in /usr/local/lib/python3.10/dist-packages (from matplotlib~=3.0->gradio>=3.34.0->chatarena[all]) (4.41.0)\n",
            "Requirement already satisfied: kiwisolver>=1.0.1 in /usr/local/lib/python3.10/dist-packages (from matplotlib~=3.0->gradio>=3.34.0->chatarena[all]) (1.4.4)\n",
            "Requirement already satisfied: pyparsing>=2.3.1 in /usr/local/lib/python3.10/dist-packages (from matplotlib~=3.0->gradio>=3.34.0->chatarena[all]) (3.1.0)\n",
            "Requirement already satisfied: click>=7.0 in /usr/local/lib/python3.10/dist-packages (from uvicorn>=0.14.0->gradio>=3.34.0->chatarena[all]) (8.1.4)\n",
            "Collecting h11>=0.8 (from uvicorn>=0.14.0->gradio>=3.34.0->chatarena[all])\n",
            "  Downloading h11-0.14.0-py3-none-any.whl (58 kB)\n",
            "\u001b[2K     \u001b[90m━━━━━━━━━━━━━━━━━━━━━━━━━━━━━━━━━━━━━━━━\u001b[0m \u001b[32m58.3/58.3 kB\u001b[0m \u001b[31m6.7 MB/s\u001b[0m eta \u001b[36m0:00:00\u001b[0m\n",
            "\u001b[?25hRequirement already satisfied: pyrsistent!=0.17.0,!=0.17.1,!=0.17.2,>=0.14.0 in /usr/local/lib/python3.10/dist-packages (from jsonschema>=3.0->altair<6.0,>=4.2.0->gradio>=3.34.0->chatarena[all]) (0.19.3)\n",
            "Collecting uc-micro-py (from linkify-it-py<3,>=1->markdown-it-py<3.0.0,>=2.2.0->rich==13.3.3->chatarena[all])\n",
            "  Downloading uc_micro_py-1.0.2-py3-none-any.whl (6.2 kB)\n",
            "Requirement already satisfied: six>=1.5 in /usr/local/lib/python3.10/dist-packages (from python-dateutil>=2.8.1->pandas<3.0,>=1.0->gradio>=3.34.0->chatarena[all]) (1.16.0)\n",
            "Collecting mypy-extensions>=0.3.0 (from typing-inspect<1,>=0.4.0->dataclasses-json<0.6.0,>=0.5.7->langchain>=0.0.135->chatarena[all])\n",
            "  Downloading mypy_extensions-1.0.0-py3-none-any.whl (4.7 kB)\n",
            "Building wheels for collected packages: ffmpy\n",
            "  Building wheel for ffmpy (setup.py) ... \u001b[?25l\u001b[?25hdone\n",
            "  Created wheel for ffmpy: filename=ffmpy-0.3.1-py3-none-any.whl size=5579 sha256=abc1815202ac2e3f8c8169612751c8a2ab6363108db7d88375b5421233ff6290\n",
            "  Stored in directory: /root/.cache/pip/wheels/01/a6/d1/1c0828c304a4283b2c1639a09ad86f83d7c487ef34c6b4a1bf\n",
            "Successfully built ffmpy\n",
            "Installing collected packages: tokenizers, safetensors, pydub, ffmpy, farama-notifications, websockets, uc-micro-py, python-multipart, pygame, pycryptodome, prompt-toolkit, orjson, mypy-extensions, marshmallow, markdown-it-py, importlib_metadata, h11, gymnasium, distro, chess, backoff, aiofiles, uvicorn, typing-inspect, starlette, rich, pettingzoo, openapi-schema-pydantic, mdit-py-plugins, linkify-it-py, langsmith, huggingface-hub, httpcore, bardapi, transformers, openai, httpx, fastapi, dataclasses-json, cohere, langchain, gradio, chatarena, anthropic\n",
            "  Attempting uninstall: pygame\n",
            "    Found existing installation: pygame 2.5.0\n",
            "    Uninstalling pygame-2.5.0:\n",
            "      Successfully uninstalled pygame-2.5.0\n",
            "  Attempting uninstall: prompt-toolkit\n",
            "    Found existing installation: prompt-toolkit 3.0.39\n",
            "    Uninstalling prompt-toolkit-3.0.39:\n",
            "      Successfully uninstalled prompt-toolkit-3.0.39\n",
            "  Attempting uninstall: markdown-it-py\n",
            "    Found existing installation: markdown-it-py 3.0.0\n",
            "    Uninstalling markdown-it-py-3.0.0:\n",
            "      Successfully uninstalled markdown-it-py-3.0.0\n",
            "  Attempting uninstall: rich\n",
            "    Found existing installation: rich 13.4.2\n",
            "    Uninstalling rich-13.4.2:\n",
            "      Successfully uninstalled rich-13.4.2\n",
            "\u001b[31mERROR: pip's dependency resolver does not currently take into account all the packages that are installed. This behaviour is the source of the following dependency conflicts.\n",
            "ipython 7.34.0 requires jedi>=0.16, which is not installed.\u001b[0m\u001b[31m\n",
            "\u001b[0mSuccessfully installed aiofiles-23.1.0 anthropic-0.3.4 backoff-2.2.1 bardapi-0.1.11 chatarena-0.1.12 chess-1.9.4 cohere-4.15.0 dataclasses-json-0.5.12 distro-1.8.0 farama-notifications-0.0.4 fastapi-0.100.0 ffmpy-0.3.1 gradio-3.20.0 gymnasium-0.29.0 h11-0.14.0 httpcore-0.17.3 httpx-0.24.1 huggingface-hub-0.16.4 importlib_metadata-6.8.0 langchain-0.0.235 langsmith-0.0.7 linkify-it-py-2.0.2 markdown-it-py-2.2.0 marshmallow-3.19.0 mdit-py-plugins-0.3.3 mypy-extensions-1.0.0 openai-0.27.8 openapi-schema-pydantic-1.2.4 orjson-3.9.2 pettingzoo-1.23.0 prompt-toolkit-3.0.38 pycryptodome-3.18.0 pydub-0.25.1 pygame-2.4.0 python-multipart-0.0.6 rich-13.3.3 safetensors-0.3.1 starlette-0.27.0 tokenizers-0.13.3 transformers-4.30.2 typing-inspect-0.9.0 uc-micro-py-1.0.2 uvicorn-0.23.1 websockets-11.0.3\n"
          ]
        },
        {
          "output_type": "display_data",
          "data": {
            "application/vnd.colab-display-data+json": {
              "pip_warning": {
                "packages": [
                  "prompt_toolkit"
                ]
              }
            }
          },
          "metadata": {}
        }
      ],
      "source": [
        "!pip install chatarena[all]"
      ]
    },
    {
      "cell_type": "markdown",
      "source": [
        "# Setup API keys\n",
        "Since we're going to use openAI chat backends in this tutorial, we only need to setup the enviornment variable OPENAI_API_KEY.\n",
        "If you don't have an openAI API account. You can register one create your own key at `platform.openai.com`."
      ],
      "metadata": {
        "id": "TcRG6hfaZdXy"
      }
    },
    {
      "cell_type": "code",
      "source": [
        "import os\n",
        "os.environ[\"OPENAI_API_KEY\"] = \"your key\""
      ],
      "metadata": {
        "id": "8oAyns3pZCcY"
      },
      "execution_count": null,
      "outputs": []
    },
    {
      "cell_type": "markdown",
      "source": [
        "# Design\n",
        "Before start writing the code, let's first design the game.\n",
        "This is going to be a Bargaining game with two players: one buyer and one seller.\n",
        "They're going to negotiate a price of a item in limited turns.\n",
        "In each step of the game, one of the bargainers will propose a price and optionally provide arguments about the price.\n",
        "If the two proposed price argreed, the negotiation will be successful and the game is over.\n",
        "\n",
        "Buyer has a upper limit $p_{\\text{max}}$ about the price in her mind which is invisible to the seller. The buyer will get a reward of $p_{\\text{max}}-p$ if the negotiation is sucessful at price $p$. Otherwise she will get $0$ reward. So the buyer should always avoid the price to be higher than $p_{\\text{max}}$ otherwise she will get negative reward.\n",
        "\n",
        "Similarly, the seller has a lower bound $p_{\\text{min}}$ and the reward will be $p-p_{\\min}$ if the negotiation converged."
      ],
      "metadata": {
        "id": "-0n5kylCbKRa"
      }
    },
    {
      "cell_type": "markdown",
      "source": [
        "# Setup Players\n",
        "One can start building a new Arena either from Environment or Players.\n",
        "In this tutorial, we'll first build players.\n",
        "## Role Description\n",
        "In the role description of the Player, we will provide the information about the game dyanmics, reward structure, and some hints about the optimal policy (namely, instruction).\n",
        "\n",
        "In order to make the parsing of the proposed price easier, we also ask the agent to format the output in a json by providing a json schema.\n",
        "\n",
        "## Backends\n",
        "We'll use latest 0613 version of chatGPT API. To reduce the cost, we used gpt-3.5 version of it, but GPT-4 is always more powerful.\n",
        "`max-tokens` specifics the maximum length of the outputs, 512 should be enough in this game."
      ],
      "metadata": {
        "id": "7bE9EtyyfdR0"
      }
    },
    {
      "cell_type": "code",
      "source": [
        "from chatarena.agent import Player\n",
        "from chatarena.backends import OpenAIChat\n",
        "\n",
        "buyer_role_description = \"\"\"\n",
        "You are a buyer of a Bargaining game.\n",
        "In the game, you and seller are going to negotiate a price of a item within limited turns.\n",
        "In each step of the game, one of the bargainers will propose a price and optionally provide arguments about the price.\n",
        "The the two proposed price argreed, the negotiation will be successful and the game is over.\n",
        "\n",
        "You have a upper limit about the price in her mind which is invisible to the seller. You will get a reward of upper_limit_price-agreement_price the negotiation is sucessful at price $p$.\n",
        "Otherwise you will get 0 reward.\n",
        "\n",
        "So the you should always\n",
        "1. push the price down to get higher reward.\n",
        "2. avoid the price to be higher than upper_limit_price otherwise you'll get a negative reward.\n",
        "\"\"\"\n",
        "\n",
        "format_specification = \"\"\"\n",
        "Your output should be format in a json with the following schema:\n",
        "```\n",
        "{\n",
        "  \"$schema\": \"http://json-schema.org/draft-07/schema#\",\n",
        "  \"type\": \"object\",\n",
        "  \"properties\": {\n",
        "    \"price\": {\n",
        "      \"description\": \"your proposed price\",\n",
        "      \"type\": \"number\"\n",
        "    },\n",
        "    \"arguments\": {\n",
        "      \"description\": \"what you are going to say to your opponent\",\n",
        "      \"type\": \"string\"\n",
        "    }\n",
        "  },\n",
        "  \"required\": [\"price\", \"arguments\"]\n",
        "}\n",
        "```\n",
        "\n",
        "For example:\n",
        "```\n",
        "{\\n  \"price\": 50,\\n  \"arguments\": \"I believe a price of $50 is fair for both parties. It takes into account the quality of the item and the current market value.\" \\n}\n",
        "\n",
        "```\n",
        "\"\"\"\n",
        "\n",
        "\n",
        "buyer = Player(name=\"buyer\",\n",
        "               role_desc=buyer_role_description+format_specification,\n",
        "               backend=OpenAIChat(model=\"gpt-3.5-turbo-0613\"))"
      ],
      "metadata": {
        "id": "P5DCC0Y0Zbxi"
      },
      "execution_count": null,
      "outputs": []
    },
    {
      "cell_type": "markdown",
      "source": [
        "Now let's test the buyer with a mock message."
      ],
      "metadata": {
        "id": "g1A05LLesdsd"
      }
    },
    {
      "cell_type": "code",
      "source": [
        "from chatarena.message import Message\n",
        "\n",
        "mock_message = Message(\n",
        "    agent_name=\"Moderator\",\n",
        "    content=\"Buyer, now propose your deal\",\n",
        "    turn=1\n",
        ")\n",
        "\n",
        "buyer.act([mock_message])"
      ],
      "metadata": {
        "colab": {
          "base_uri": "https://localhost:8080/",
          "height": 35
        },
        "id": "D12PyIsYrlV4",
        "outputId": "f4a46693-eab6-4478-eff4-b1f8749120ce"
      },
      "execution_count": null,
      "outputs": [
        {
          "output_type": "execute_result",
          "data": {
            "text/plain": [
              "'{\\n  \"price\": 100,\\n  \"arguments\": \"I propose a price of $100 for the item. This takes into account the quality of the item and its market value. I believe it is a fair price for both parties.\"\\n}'"
            ],
            "application/vnd.google.colaboratory.intrinsic+json": {
              "type": "string"
            }
          },
          "metadata": {},
          "execution_count": 4
        }
      ]
    },
    {
      "cell_type": "markdown",
      "source": [
        "That looks good! Similarly, we can build the seller:"
      ],
      "metadata": {
        "id": "A8Py8AutmrED"
      }
    },
    {
      "cell_type": "code",
      "source": [
        "seller_role_description = \"\"\"\n",
        "You are a seller of a Bargaining game.\n",
        "In the game, you and buyer are going to negotiate a price of a item within limited turns.\n",
        "In each step of the game, one of the bargainers will propose a price and optionally provide arguments about the price.\n",
        "The the two proposed price argreed, the negotiation will be successful and the game is over.\n",
        "\n",
        "You have a lower limit about the price in her mind which is invisible to the buyer. You will get a reward of agreement_price-lower_limit_price the negotiation is sucessful.\n",
        "Otherwise you will get 0 reward.\n",
        "\n",
        "So the you should always\n",
        "1. push the price up to get higher rewards\n",
        "2. avoid the price to be lower than lower_limit_price otherwise you'll get a negative reward.\n",
        "\"\"\"\n",
        "seller = Player(name=\"seller\",\n",
        "                role_desc=seller_role_description+format_specification,\n",
        "                backend=OpenAIChat(model=\"gpt-3.5-turbo-0613\"))"
      ],
      "metadata": {
        "id": "5hqrPt3fk1OM"
      },
      "execution_count": null,
      "outputs": []
    },
    {
      "cell_type": "markdown",
      "source": [
        "# Building the Enviornment\n",
        "With players ready, let's build the enviornment now.\n",
        "In general, the interface design of ChatArena enviornment follows the gym/pettingzoo abstraction.\n",
        "Like gym envionrment, you need to implement `reset` and `step` methods.\n",
        "`reset` is called when an episode is over or early terminated which reinitialize the whole game.\n",
        "`step` drives the dynamics of the game, which takes the action of a single agent as input do the transitions and return the observation, reward and terminal signal.\n",
        "\n",
        "Besides basic gym interface, you also have to implement `get_observation` and `get_next_speaker` for a chatArena enviornment.\n",
        "\n",
        "For this game in particular:\n",
        "\n"
      ],
      "metadata": {
        "id": "muthP42ZszfV"
      }
    },
    {
      "cell_type": "code",
      "source": [
        "from chatarena.environments.base import TimeStep, Environment\n",
        "from chatarena.message import Message, MessagePool\n",
        "from chatarena.utils import extract_jsons\n",
        "from typing import List, Union\n",
        "import random\n",
        "\n",
        "class Bargaining(Environment):\n",
        "    type_name = \"bargaining\"\n",
        "\n",
        "    def __init__(self, item_name:str, upper_limit:float, lower_limit:float, max_turn:int, unit:str=\"$\"):\n",
        "        super().__init__(player_names=[\"buyer\", \"seller\"])\n",
        "        self.item_name = item_name\n",
        "        self.upper_limit = upper_limit\n",
        "        self.lower_limit = lower_limit\n",
        "        self.max_turn = max_turn\n",
        "        self.unit = unit\n",
        "        self.turn = 0\n",
        "        self.message_pool = MessagePool()\n",
        "        self._terminal = False\n",
        "        self.buyer_proposed_price = None\n",
        "        self.seller_proposed_price = None\n",
        "        self.agreement_price = None\n",
        "        self.reset()\n",
        "\n",
        "    def _moderator_speak(self, text: str, visible_to: Union[str, List[str]] = \"all\"):\n",
        "        \"\"\"\n",
        "        moderator say something\n",
        "        \"\"\"\n",
        "        message = Message(agent_name=\"Moderator\", content=text, turn=self.turn, visible_to=visible_to)\n",
        "        self.message_pool.append_message(message)\n",
        "\n",
        "    def reset(self):\n",
        "        self.turn = 0\n",
        "        self.message_pool.reset()\n",
        "        self._terminal = False\n",
        "        self.buyer_proposed_price = None\n",
        "        self.seller_proposed_price = None\n",
        "        self.agreement_price = None\n",
        "        # Moderator declares the item, lower limit and upper limit\n",
        "        self._moderator_speak(f\"Bargainers, the item to be traded is {self.item_name}\")\n",
        "        self._moderator_speak(f\"Buyer, your price upper limit is {self.unit}{self.upper_limit}\", visible_to=\"buyer\")\n",
        "        self._moderator_speak(f\"Seller, your price lower limit is {self.unit}{self.lower_limit}\", visible_to=\"seller\")\n",
        "        observation = self.get_observation(self.get_next_player())\n",
        "        return TimeStep(observation=observation, reward=self._get_zero_rewards(), terminal=False)\n",
        "\n",
        "    def get_observation(self, player_name=None) -> List[Message]:\n",
        "        if player_name is None:\n",
        "            return self.message_pool.get_all_messages()\n",
        "        else:\n",
        "            return self.message_pool.get_visible_messages(player_name, turn=self.turn + 1)\n",
        "\n",
        "    def get_next_player(self) -> str:\n",
        "        return \"buyer\" if self.turn % 2 == 0 else \"seller\"\n",
        "\n",
        "    def step(self, player_name: str, action: str) -> TimeStep:\n",
        "        assert player_name == self.get_next_player(), f\"Wrong player! It is {self.get_next_player()}'s turn.\"\n",
        "        json_list = extract_jsons(action)\n",
        "        if len(json_list) != 1:\n",
        "            raise ValueError(f\"Player output {action} is not a valid json.\")\n",
        "\n",
        "        proposed_price = json_list[0].get(\"price\", None)\n",
        "        arguments = json_list[0].get(\"arguments\", None)\n",
        "        message = Message(agent_name=player_name, content=arguments, turn=self.turn, visible_to=\"all\")\n",
        "        self.message_pool.append_message(message)\n",
        "\n",
        "        # Update price\n",
        "        if player_name == \"buyer\":\n",
        "           self.buyer_proposed_price = proposed_price\n",
        "        else:\n",
        "           self.seller_proposed_price = proposed_price\n",
        "\n",
        "        self.turn += 1\n",
        "        self._moderator_speak(f\"This is Turn {self.turn}. There's {self.max_turn-self.turn} left.\")\n",
        "\n",
        "        # Check agreement\n",
        "        if self.buyer_proposed_price is not None and self.seller_proposed_price is not None and \\\n",
        "          self.buyer_proposed_price >= self.seller_proposed_price:\n",
        "            self.agreement_price = (self.seller_proposed_price+self.buyer_proposed_price)/2\n",
        "\n",
        "        if self.turn >= self.max_turn:\n",
        "            self._terminal = True\n",
        "            self._moderator_speak(\"The negotiation ended without an agreement.\")\n",
        "        elif self.agreement_price is not None:\n",
        "            self._terminal = True\n",
        "            self._moderator_speak(f\"The negotiation ended with a price of {self.unit}{self.agreement_price} for {self.item_name}.\")\n",
        "\n",
        "        observation = self.get_observation(self.get_next_player())\n",
        "        reward = self._get_rewards()\n",
        "        return TimeStep(observation=observation, reward=reward, terminal=self._terminal)\n",
        "\n",
        "    def _get_rewards(self):\n",
        "        if self._terminal:\n",
        "            if self.agreement_price is None: # No agreement\n",
        "                return {\"buyer\": 0, \"seller\": 0}\n",
        "            else: # Agreement\n",
        "                return {\"buyer\": self.upper_limit - self.agreement_price, \"seller\": self.agreement_price - self.lower_limit}\n",
        "        else: # Game is not over yet\n",
        "            return {\"buyer\": 0, \"seller\": 0}\n",
        "\n",
        "    def _get_zero_rewards(self):\n",
        "        return {\"buyer\": 0, \"seller\": 0}"
      ],
      "metadata": {
        "id": "1OCtfspYtql5"
      },
      "execution_count": null,
      "outputs": []
    },
    {
      "cell_type": "code",
      "source": [
        "from chatarena.arena import Arena\n",
        "\n",
        "env = Bargaining(item_name=\"diamond\", upper_limit=500, lower_limit=100, max_turn=4)\n",
        "arena = Arena([buyer, seller], env)\n",
        "arena.launch_cli(interactive=False)"
      ],
      "metadata": {
        "colab": {
          "base_uri": "https://localhost:8080/",
          "height": 1000
        },
        "id": "1r14qpRvwRcs",
        "outputId": "8c68d4bc-d6f7-4fe1-a7f2-133889b4f557"
      },
      "execution_count": null,
      "outputs": [
        {
          "output_type": "display_data",
          "data": {
            "text/plain": [
              "\n",
              "\u001b[1;38;5;166m_________  .__               __      _____                                   \u001b[0m\n",
              "\u001b[1;38;5;166m\\_   ___ \\ |  |__  _____   _/  |_   \u001b[0m\u001b[1;35m/\u001b[0m\u001b[1;38;5;166m  _  \\  _______   ____    ____  _____   \u001b[0m\n",
              "\u001b[1;35m/\u001b[0m\u001b[1;38;5;166m    \\  \\\u001b[0m\u001b[1;35m/\u001b[0m\u001b[1;38;5;166m |  |  \\ \\__  \\  \\   __\\ \u001b[0m\u001b[1;35m/\u001b[0m\u001b[1;38;5;166m  \u001b[0m\u001b[1;35m/\u001b[0m\u001b[1;95m_\u001b[0m\u001b[1;38;5;166m\\  \\ \\_  __ \\W/ __ \\  \u001b[0m\u001b[1;35m/\u001b[0m\u001b[1;38;5;166m    \\ \\__  \\  \u001b[0m\n",
              "\u001b[1;38;5;166m\\     \\____|   Y  \\ \u001b[0m\u001b[1;35m/\u001b[0m\u001b[1;38;5;166m __ \\_ |  |  \u001b[0m\u001b[1;35m/\u001b[0m\u001b[1;38;5;166m    |    \\ |  | \\\u001b[0m\u001b[1;35m/\u001b[0m\u001b[1;38;5;166m\\  ___/ |   |  \\ \u001b[0m\u001b[1;35m/\u001b[0m\u001b[1;38;5;166m __ \\_\u001b[0m\n",
              "\u001b[1;38;5;166m \\______  \u001b[0m\u001b[1;35m/\u001b[0m\u001b[1;38;5;166m|___|  \u001b[0m\u001b[1;35m/\u001b[0m\u001b[1;38;5;166m(\u001b[0m\u001b[1;38;5;166m____  \u001b[0m\u001b[1;35m/\u001b[0m\u001b[1;38;5;166m |__|  \\____|__  \u001b[0m\u001b[1;35m/\u001b[0m\u001b[1;38;5;166m |__|    \\___  >|___|  \u001b[0m\u001b[1;35m/\u001b[0m\u001b[1;38;5;166m(\u001b[0m\u001b[1;38;5;166m____  \u001b[0m\u001b[1;35m/\u001b[0m\n",
              "\u001b[1;38;5;166m        \\\u001b[0m\u001b[1;35m/\u001b[0m\u001b[1;38;5;166m      \\\u001b[0m\u001b[1;35m/\u001b[0m\u001b[1;38;5;166m      \\\u001b[0m\u001b[1;35m/\u001b[0m\u001b[1;38;5;166m                \\\u001b[0m\u001b[1;35m/\u001b[0m\u001b[1;38;5;166m              \\\u001b[0m\u001b[1;35m/\u001b[0m\u001b[1;38;5;166m      \\\u001b[0m\u001b[1;35m/\u001b[0m\u001b[1;38;5;166m      \\\u001b[0m\u001b[1;35m/\u001b[0m\u001b[1;38;5;166m \u001b[0m\n",
              "\n"
            ],
            "text/html": [
              "<pre style=\"white-space:pre;overflow-x:auto;line-height:normal;font-family:Menlo,'DejaVu Sans Mono',consolas,'Courier New',monospace\">\n",
              "<span style=\"color: #d75f00; text-decoration-color: #d75f00; font-weight: bold\">_________  .__               __      _____                                   </span>\n",
              "<span style=\"color: #d75f00; text-decoration-color: #d75f00; font-weight: bold\">\\_   ___ \\ |  |__  _____   _/  |_   </span><span style=\"color: #800080; text-decoration-color: #800080; font-weight: bold\">/</span><span style=\"color: #d75f00; text-decoration-color: #d75f00; font-weight: bold\">  _  \\  _______   ____    ____  _____   </span>\n",
              "<span style=\"color: #800080; text-decoration-color: #800080; font-weight: bold\">/</span><span style=\"color: #d75f00; text-decoration-color: #d75f00; font-weight: bold\">    \\  \\</span><span style=\"color: #800080; text-decoration-color: #800080; font-weight: bold\">/</span><span style=\"color: #d75f00; text-decoration-color: #d75f00; font-weight: bold\"> |  |  \\ \\__  \\  \\   __\\ </span><span style=\"color: #800080; text-decoration-color: #800080; font-weight: bold\">/</span><span style=\"color: #d75f00; text-decoration-color: #d75f00; font-weight: bold\">  </span><span style=\"color: #800080; text-decoration-color: #800080; font-weight: bold\">/</span><span style=\"color: #ff00ff; text-decoration-color: #ff00ff; font-weight: bold\">_</span><span style=\"color: #d75f00; text-decoration-color: #d75f00; font-weight: bold\">\\  \\ \\_  __ \\W/ __ \\  </span><span style=\"color: #800080; text-decoration-color: #800080; font-weight: bold\">/</span><span style=\"color: #d75f00; text-decoration-color: #d75f00; font-weight: bold\">    \\ \\__  \\  </span>\n",
              "<span style=\"color: #d75f00; text-decoration-color: #d75f00; font-weight: bold\">\\     \\____|   Y  \\ </span><span style=\"color: #800080; text-decoration-color: #800080; font-weight: bold\">/</span><span style=\"color: #d75f00; text-decoration-color: #d75f00; font-weight: bold\"> __ \\_ |  |  </span><span style=\"color: #800080; text-decoration-color: #800080; font-weight: bold\">/</span><span style=\"color: #d75f00; text-decoration-color: #d75f00; font-weight: bold\">    |    \\ |  | \\</span><span style=\"color: #800080; text-decoration-color: #800080; font-weight: bold\">/</span><span style=\"color: #d75f00; text-decoration-color: #d75f00; font-weight: bold\">\\  ___/ |   |  \\ </span><span style=\"color: #800080; text-decoration-color: #800080; font-weight: bold\">/</span><span style=\"color: #d75f00; text-decoration-color: #d75f00; font-weight: bold\"> __ \\_</span>\n",
              "<span style=\"color: #d75f00; text-decoration-color: #d75f00; font-weight: bold\"> \\______  </span><span style=\"color: #800080; text-decoration-color: #800080; font-weight: bold\">/</span><span style=\"color: #d75f00; text-decoration-color: #d75f00; font-weight: bold\">|___|  </span><span style=\"color: #800080; text-decoration-color: #800080; font-weight: bold\">/</span><span style=\"color: #d75f00; text-decoration-color: #d75f00; font-weight: bold\">(____  </span><span style=\"color: #800080; text-decoration-color: #800080; font-weight: bold\">/</span><span style=\"color: #d75f00; text-decoration-color: #d75f00; font-weight: bold\"> |__|  \\____|__  </span><span style=\"color: #800080; text-decoration-color: #800080; font-weight: bold\">/</span><span style=\"color: #d75f00; text-decoration-color: #d75f00; font-weight: bold\"> |__|    \\___  &gt;|___|  </span><span style=\"color: #800080; text-decoration-color: #800080; font-weight: bold\">/</span><span style=\"color: #d75f00; text-decoration-color: #d75f00; font-weight: bold\">(____  </span><span style=\"color: #800080; text-decoration-color: #800080; font-weight: bold\">/</span>\n",
              "<span style=\"color: #d75f00; text-decoration-color: #d75f00; font-weight: bold\">        \\</span><span style=\"color: #800080; text-decoration-color: #800080; font-weight: bold\">/</span><span style=\"color: #d75f00; text-decoration-color: #d75f00; font-weight: bold\">      \\</span><span style=\"color: #800080; text-decoration-color: #800080; font-weight: bold\">/</span><span style=\"color: #d75f00; text-decoration-color: #d75f00; font-weight: bold\">      \\</span><span style=\"color: #800080; text-decoration-color: #800080; font-weight: bold\">/</span><span style=\"color: #d75f00; text-decoration-color: #d75f00; font-weight: bold\">                \\</span><span style=\"color: #800080; text-decoration-color: #800080; font-weight: bold\">/</span><span style=\"color: #d75f00; text-decoration-color: #d75f00; font-weight: bold\">              \\</span><span style=\"color: #800080; text-decoration-color: #800080; font-weight: bold\">/</span><span style=\"color: #d75f00; text-decoration-color: #d75f00; font-weight: bold\">      \\</span><span style=\"color: #800080; text-decoration-color: #800080; font-weight: bold\">/</span><span style=\"color: #d75f00; text-decoration-color: #d75f00; font-weight: bold\">      \\</span><span style=\"color: #800080; text-decoration-color: #800080; font-weight: bold\">/</span><span style=\"color: #d75f00; text-decoration-color: #d75f00; font-weight: bold\"> </span>\n",
              "\n",
              "</pre>\n"
            ]
          },
          "metadata": {}
        },
        {
          "output_type": "display_data",
          "data": {
            "text/plain": [
              "\u001b[1;32m🏟 Chat Arena Initialized!\u001b[0m\n"
            ],
            "text/html": [
              "<pre style=\"white-space:pre;overflow-x:auto;line-height:normal;font-family:Menlo,'DejaVu Sans Mono',consolas,'Courier New',monospace\"><span style=\"color: #008000; text-decoration-color: #008000; font-weight: bold\">🏟 Chat Arena Initialized!</span>\n",
              "</pre>\n"
            ]
          },
          "metadata": {}
        },
        {
          "output_type": "display_data",
          "data": {
            "text/plain": [
              "\u001b[1;4;32mEnvironment \u001b[0m\u001b[1;4;32m(\u001b[0m\u001b[1;4;32mbargaining\u001b[0m\u001b[1;4;32m)\u001b[0m\u001b[1;4;32m description:\u001b[0m\n",
              "\u001b[3;35mNone\u001b[0m\n"
            ],
            "text/html": [
              "<pre style=\"white-space:pre;overflow-x:auto;line-height:normal;font-family:Menlo,'DejaVu Sans Mono',consolas,'Courier New',monospace\"><span style=\"color: #008000; text-decoration-color: #008000; font-weight: bold; text-decoration: underline\">Environment (bargaining) description:</span>\n",
              "<span style=\"color: #800080; text-decoration-color: #800080; font-style: italic\">None</span>\n",
              "</pre>\n"
            ]
          },
          "metadata": {}
        },
        {
          "output_type": "display_data",
          "data": {
            "text/plain": [
              "\u001b[1;4;38;5;139m[buyer (openai-chat)] Role Description:\u001b[0m\n"
            ],
            "text/html": [
              "<pre style=\"white-space:pre;overflow-x:auto;line-height:normal;font-family:Menlo,'DejaVu Sans Mono',consolas,'Courier New',monospace\"><span style=\"color: #af87af; text-decoration-color: #af87af; font-weight: bold; text-decoration: underline\">[buyer (openai-chat)] Role Description:</span>\n",
              "</pre>\n"
            ]
          },
          "metadata": {}
        },
        {
          "output_type": "display_data",
          "data": {
            "text/plain": [
              "\n",
              "You are a buyer of a Bargaining game.\n",
              "In the game, you and seller are going to negotiate a price of a item within limited turns.\n",
              "In each step of the game, one of the bargainers will propose a price and optionally provide arguments about the \n",
              "price.\n",
              "The the two proposed price argreed, the negotiation will be successful and the game is over.\n",
              "\n",
              "You have a upper limit about the price in her mind which is invisible to the seller. You will get a reward of \n",
              "upper_limit_price-agreement_price the negotiation is sucessful at price $p$.\n",
              "Otherwise you will get \u001b[1;36m0\u001b[0m reward.\n",
              "\n",
              "So the you should always\n",
              "\u001b[1;36m1\u001b[0m. push the price down to get higher reward.\n",
              "\u001b[1;36m2\u001b[0m. avoid the price to be higher than upper_limit_price otherwise you'll get a negative reward.\n",
              "\n",
              "Your output should be format in a json with the following schema:\n",
              "```\n",
              "\u001b[1m{\u001b[0m\n",
              "  \u001b[32m\"$schema\"\u001b[0m: \u001b[32m\"http://json-schema.org/draft-07/schema#\"\u001b[0m,\n",
              "  \u001b[32m\"type\"\u001b[0m: \u001b[32m\"object\"\u001b[0m,\n",
              "  \u001b[32m\"properties\"\u001b[0m: \u001b[1m{\u001b[0m\n",
              "    \u001b[32m\"price\"\u001b[0m: \u001b[1m{\u001b[0m\n",
              "      \u001b[32m\"description\"\u001b[0m: \u001b[32m\"your proposed price\"\u001b[0m,\n",
              "      \u001b[32m\"type\"\u001b[0m: \u001b[32m\"number\"\u001b[0m\n",
              "    \u001b[1m}\u001b[0m,\n",
              "    \u001b[32m\"arguments\"\u001b[0m: \u001b[1m{\u001b[0m\n",
              "      \u001b[32m\"description\"\u001b[0m: \u001b[32m\"what you are going to say to your opponent\"\u001b[0m,\n",
              "      \u001b[32m\"type\"\u001b[0m: \u001b[32m\"string\"\u001b[0m\n",
              "    \u001b[1m}\u001b[0m\n",
              "  \u001b[1m}\u001b[0m,\n",
              "  \u001b[32m\"required\"\u001b[0m: \u001b[1m[\u001b[0m\u001b[32m\"price\"\u001b[0m, \u001b[32m\"arguments\"\u001b[0m\u001b[1m]\u001b[0m\n",
              "\u001b[1m}\u001b[0m\n",
              "```\n",
              "\n",
              "For example:\n",
              "```\n",
              "\u001b[1m{\u001b[0m\n",
              "  \u001b[32m\"price\"\u001b[0m: \u001b[1;36m50\u001b[0m,\n",
              "  \u001b[32m\"arguments\"\u001b[0m: \u001b[32m\"I believe a price of $50 is fair for both parties. It takes into account the quality of the item \u001b[0m\n",
              "\u001b[32mand the current market value.\"\u001b[0m \n",
              "\u001b[1m}\u001b[0m\n",
              "\n",
              "```\n",
              "\n"
            ],
            "text/html": [
              "<pre style=\"white-space:pre;overflow-x:auto;line-height:normal;font-family:Menlo,'DejaVu Sans Mono',consolas,'Courier New',monospace\">\n",
              "You are a buyer of a Bargaining game.\n",
              "In the game, you and seller are going to negotiate a price of a item within limited turns.\n",
              "In each step of the game, one of the bargainers will propose a price and optionally provide arguments about the \n",
              "price.\n",
              "The the two proposed price argreed, the negotiation will be successful and the game is over.\n",
              "\n",
              "You have a upper limit about the price in her mind which is invisible to the seller. You will get a reward of \n",
              "upper_limit_price-agreement_price the negotiation is sucessful at price $p$.\n",
              "Otherwise you will get <span style=\"color: #008080; text-decoration-color: #008080; font-weight: bold\">0</span> reward.\n",
              "\n",
              "So the you should always\n",
              "<span style=\"color: #008080; text-decoration-color: #008080; font-weight: bold\">1</span>. push the price down to get higher reward.\n",
              "<span style=\"color: #008080; text-decoration-color: #008080; font-weight: bold\">2</span>. avoid the price to be higher than upper_limit_price otherwise you'll get a negative reward.\n",
              "\n",
              "Your output should be format in a json with the following schema:\n",
              "```\n",
              "<span style=\"font-weight: bold\">{</span>\n",
              "  <span style=\"color: #008000; text-decoration-color: #008000\">\"$schema\"</span>: <span style=\"color: #008000; text-decoration-color: #008000\">\"http://json-schema.org/draft-07/schema#\"</span>,\n",
              "  <span style=\"color: #008000; text-decoration-color: #008000\">\"type\"</span>: <span style=\"color: #008000; text-decoration-color: #008000\">\"object\"</span>,\n",
              "  <span style=\"color: #008000; text-decoration-color: #008000\">\"properties\"</span>: <span style=\"font-weight: bold\">{</span>\n",
              "    <span style=\"color: #008000; text-decoration-color: #008000\">\"price\"</span>: <span style=\"font-weight: bold\">{</span>\n",
              "      <span style=\"color: #008000; text-decoration-color: #008000\">\"description\"</span>: <span style=\"color: #008000; text-decoration-color: #008000\">\"your proposed price\"</span>,\n",
              "      <span style=\"color: #008000; text-decoration-color: #008000\">\"type\"</span>: <span style=\"color: #008000; text-decoration-color: #008000\">\"number\"</span>\n",
              "    <span style=\"font-weight: bold\">}</span>,\n",
              "    <span style=\"color: #008000; text-decoration-color: #008000\">\"arguments\"</span>: <span style=\"font-weight: bold\">{</span>\n",
              "      <span style=\"color: #008000; text-decoration-color: #008000\">\"description\"</span>: <span style=\"color: #008000; text-decoration-color: #008000\">\"what you are going to say to your opponent\"</span>,\n",
              "      <span style=\"color: #008000; text-decoration-color: #008000\">\"type\"</span>: <span style=\"color: #008000; text-decoration-color: #008000\">\"string\"</span>\n",
              "    <span style=\"font-weight: bold\">}</span>\n",
              "  <span style=\"font-weight: bold\">}</span>,\n",
              "  <span style=\"color: #008000; text-decoration-color: #008000\">\"required\"</span>: <span style=\"font-weight: bold\">[</span><span style=\"color: #008000; text-decoration-color: #008000\">\"price\"</span>, <span style=\"color: #008000; text-decoration-color: #008000\">\"arguments\"</span><span style=\"font-weight: bold\">]</span>\n",
              "<span style=\"font-weight: bold\">}</span>\n",
              "```\n",
              "\n",
              "For example:\n",
              "```\n",
              "<span style=\"font-weight: bold\">{</span>\n",
              "  <span style=\"color: #008000; text-decoration-color: #008000\">\"price\"</span>: <span style=\"color: #008080; text-decoration-color: #008080; font-weight: bold\">50</span>,\n",
              "  <span style=\"color: #008000; text-decoration-color: #008000\">\"arguments\"</span>: <span style=\"color: #008000; text-decoration-color: #008000\">\"I believe a price of $50 is fair for both parties. It takes into account the quality of the item </span>\n",
              "<span style=\"color: #008000; text-decoration-color: #008000\">and the current market value.\"</span> \n",
              "<span style=\"font-weight: bold\">}</span>\n",
              "\n",
              "```\n",
              "\n",
              "</pre>\n"
            ]
          },
          "metadata": {}
        },
        {
          "output_type": "display_data",
          "data": {
            "text/plain": [
              "\u001b[1;4;38;5;145m[seller (openai-chat)] Role Description:\u001b[0m\n"
            ],
            "text/html": [
              "<pre style=\"white-space:pre;overflow-x:auto;line-height:normal;font-family:Menlo,'DejaVu Sans Mono',consolas,'Courier New',monospace\"><span style=\"color: #afafaf; text-decoration-color: #afafaf; font-weight: bold; text-decoration: underline\">[seller (openai-chat)] Role Description:</span>\n",
              "</pre>\n"
            ]
          },
          "metadata": {}
        },
        {
          "output_type": "display_data",
          "data": {
            "text/plain": [
              "\n",
              "You are a seller of a Bargaining game.\n",
              "In the game, you and buyer are going to negotiate a price of a item within limited turns.\n",
              "In each step of the game, one of the bargainers will propose a price and optionally provide arguments about the \n",
              "price.\n",
              "The the two proposed price argreed, the negotiation will be successful and the game is over.\n",
              "\n",
              "You have a lower limit about the price in her mind which is invisible to the buyer. You will get a reward of \n",
              "agreement_price-lower_limit_price the negotiation is sucessful.\n",
              "Otherwise you will get \u001b[1;36m0\u001b[0m reward.\n",
              "\n",
              "So the you should always\n",
              "\u001b[1;36m1\u001b[0m. push the price up to get higher rewards\n",
              "\u001b[1;36m2\u001b[0m. avoid the price to be lower than lower_limit_price otherwise you'll get a negative reward.\n",
              "\n",
              "Your output should be format in a json with the following schema:\n",
              "```\n",
              "\u001b[1m{\u001b[0m\n",
              "  \u001b[32m\"$schema\"\u001b[0m: \u001b[32m\"http://json-schema.org/draft-07/schema#\"\u001b[0m,\n",
              "  \u001b[32m\"type\"\u001b[0m: \u001b[32m\"object\"\u001b[0m,\n",
              "  \u001b[32m\"properties\"\u001b[0m: \u001b[1m{\u001b[0m\n",
              "    \u001b[32m\"price\"\u001b[0m: \u001b[1m{\u001b[0m\n",
              "      \u001b[32m\"description\"\u001b[0m: \u001b[32m\"your proposed price\"\u001b[0m,\n",
              "      \u001b[32m\"type\"\u001b[0m: \u001b[32m\"number\"\u001b[0m\n",
              "    \u001b[1m}\u001b[0m,\n",
              "    \u001b[32m\"arguments\"\u001b[0m: \u001b[1m{\u001b[0m\n",
              "      \u001b[32m\"description\"\u001b[0m: \u001b[32m\"what you are going to say to your opponent\"\u001b[0m,\n",
              "      \u001b[32m\"type\"\u001b[0m: \u001b[32m\"string\"\u001b[0m\n",
              "    \u001b[1m}\u001b[0m\n",
              "  \u001b[1m}\u001b[0m,\n",
              "  \u001b[32m\"required\"\u001b[0m: \u001b[1m[\u001b[0m\u001b[32m\"price\"\u001b[0m, \u001b[32m\"arguments\"\u001b[0m\u001b[1m]\u001b[0m\n",
              "\u001b[1m}\u001b[0m\n",
              "```\n",
              "\n",
              "For example:\n",
              "```\n",
              "\u001b[1m{\u001b[0m\n",
              "  \u001b[32m\"price\"\u001b[0m: \u001b[1;36m50\u001b[0m,\n",
              "  \u001b[32m\"arguments\"\u001b[0m: \u001b[32m\"I believe a price of $50 is fair for both parties. It takes into account the quality of the item \u001b[0m\n",
              "\u001b[32mand the current market value.\"\u001b[0m \n",
              "\u001b[1m}\u001b[0m\n",
              "\n",
              "```\n",
              "\n"
            ],
            "text/html": [
              "<pre style=\"white-space:pre;overflow-x:auto;line-height:normal;font-family:Menlo,'DejaVu Sans Mono',consolas,'Courier New',monospace\">\n",
              "You are a seller of a Bargaining game.\n",
              "In the game, you and buyer are going to negotiate a price of a item within limited turns.\n",
              "In each step of the game, one of the bargainers will propose a price and optionally provide arguments about the \n",
              "price.\n",
              "The the two proposed price argreed, the negotiation will be successful and the game is over.\n",
              "\n",
              "You have a lower limit about the price in her mind which is invisible to the buyer. You will get a reward of \n",
              "agreement_price-lower_limit_price the negotiation is sucessful.\n",
              "Otherwise you will get <span style=\"color: #008080; text-decoration-color: #008080; font-weight: bold\">0</span> reward.\n",
              "\n",
              "So the you should always\n",
              "<span style=\"color: #008080; text-decoration-color: #008080; font-weight: bold\">1</span>. push the price up to get higher rewards\n",
              "<span style=\"color: #008080; text-decoration-color: #008080; font-weight: bold\">2</span>. avoid the price to be lower than lower_limit_price otherwise you'll get a negative reward.\n",
              "\n",
              "Your output should be format in a json with the following schema:\n",
              "```\n",
              "<span style=\"font-weight: bold\">{</span>\n",
              "  <span style=\"color: #008000; text-decoration-color: #008000\">\"$schema\"</span>: <span style=\"color: #008000; text-decoration-color: #008000\">\"http://json-schema.org/draft-07/schema#\"</span>,\n",
              "  <span style=\"color: #008000; text-decoration-color: #008000\">\"type\"</span>: <span style=\"color: #008000; text-decoration-color: #008000\">\"object\"</span>,\n",
              "  <span style=\"color: #008000; text-decoration-color: #008000\">\"properties\"</span>: <span style=\"font-weight: bold\">{</span>\n",
              "    <span style=\"color: #008000; text-decoration-color: #008000\">\"price\"</span>: <span style=\"font-weight: bold\">{</span>\n",
              "      <span style=\"color: #008000; text-decoration-color: #008000\">\"description\"</span>: <span style=\"color: #008000; text-decoration-color: #008000\">\"your proposed price\"</span>,\n",
              "      <span style=\"color: #008000; text-decoration-color: #008000\">\"type\"</span>: <span style=\"color: #008000; text-decoration-color: #008000\">\"number\"</span>\n",
              "    <span style=\"font-weight: bold\">}</span>,\n",
              "    <span style=\"color: #008000; text-decoration-color: #008000\">\"arguments\"</span>: <span style=\"font-weight: bold\">{</span>\n",
              "      <span style=\"color: #008000; text-decoration-color: #008000\">\"description\"</span>: <span style=\"color: #008000; text-decoration-color: #008000\">\"what you are going to say to your opponent\"</span>,\n",
              "      <span style=\"color: #008000; text-decoration-color: #008000\">\"type\"</span>: <span style=\"color: #008000; text-decoration-color: #008000\">\"string\"</span>\n",
              "    <span style=\"font-weight: bold\">}</span>\n",
              "  <span style=\"font-weight: bold\">}</span>,\n",
              "  <span style=\"color: #008000; text-decoration-color: #008000\">\"required\"</span>: <span style=\"font-weight: bold\">[</span><span style=\"color: #008000; text-decoration-color: #008000\">\"price\"</span>, <span style=\"color: #008000; text-decoration-color: #008000\">\"arguments\"</span><span style=\"font-weight: bold\">]</span>\n",
              "<span style=\"font-weight: bold\">}</span>\n",
              "```\n",
              "\n",
              "For example:\n",
              "```\n",
              "<span style=\"font-weight: bold\">{</span>\n",
              "  <span style=\"color: #008000; text-decoration-color: #008000\">\"price\"</span>: <span style=\"color: #008080; text-decoration-color: #008080; font-weight: bold\">50</span>,\n",
              "  <span style=\"color: #008000; text-decoration-color: #008000\">\"arguments\"</span>: <span style=\"color: #008000; text-decoration-color: #008000\">\"I believe a price of $50 is fair for both parties. It takes into account the quality of the item </span>\n",
              "<span style=\"color: #008000; text-decoration-color: #008000\">and the current market value.\"</span> \n",
              "<span style=\"font-weight: bold\">}</span>\n",
              "\n",
              "```\n",
              "\n",
              "</pre>\n"
            ]
          },
          "metadata": {}
        },
        {
          "output_type": "display_data",
          "data": {
            "text/plain": [
              "\n",
              "\u001b[1;32m========= Arena Start! ==========\u001b[0m\n",
              "\n"
            ],
            "text/html": [
              "<pre style=\"white-space:pre;overflow-x:auto;line-height:normal;font-family:Menlo,'DejaVu Sans Mono',consolas,'Courier New',monospace\">\n",
              "<span style=\"color: #008000; text-decoration-color: #008000; font-weight: bold\">========= Arena Start! ==========</span>\n",
              "\n",
              "</pre>\n"
            ]
          },
          "metadata": {}
        },
        {
          "output_type": "display_data",
          "data": {
            "text/plain": [
              "\u001b[1;31m[Moderator->all]:\u001b[0m Bargainers, the item to be traded is diamond\n"
            ],
            "text/html": [
              "<pre style=\"white-space:pre;overflow-x:auto;line-height:normal;font-family:Menlo,'DejaVu Sans Mono',consolas,'Courier New',monospace\"><span style=\"color: #800000; text-decoration-color: #800000; font-weight: bold\">[Moderator-&gt;all]:</span> Bargainers, the item to be traded is diamond\n",
              "</pre>\n"
            ]
          },
          "metadata": {}
        },
        {
          "output_type": "display_data",
          "data": {
            "text/plain": [
              "\u001b[1;31m[Moderator->buyer]:\u001b[0m Buyer, your price upper limit is $500\n"
            ],
            "text/html": [
              "<pre style=\"white-space:pre;overflow-x:auto;line-height:normal;font-family:Menlo,'DejaVu Sans Mono',consolas,'Courier New',monospace\"><span style=\"color: #800000; text-decoration-color: #800000; font-weight: bold\">[Moderator-&gt;buyer]:</span> Buyer, your price upper limit is $500\n",
              "</pre>\n"
            ]
          },
          "metadata": {}
        },
        {
          "output_type": "display_data",
          "data": {
            "text/plain": [
              "\u001b[1;31m[Moderator->seller]:\u001b[0m Seller, your price lower limit is $100\n"
            ],
            "text/html": [
              "<pre style=\"white-space:pre;overflow-x:auto;line-height:normal;font-family:Menlo,'DejaVu Sans Mono',consolas,'Courier New',monospace\"><span style=\"color: #800000; text-decoration-color: #800000; font-weight: bold\">[Moderator-&gt;seller]:</span> Seller, your price lower limit is $100\n",
              "</pre>\n"
            ]
          },
          "metadata": {}
        },
        {
          "output_type": "display_data",
          "data": {
            "text/plain": [
              "\u001b[1;38;5;139m[buyer->all]:\u001b[0m I believe a price of $400 is reasonable for this diamond. It is below my upper limit of $500 and \n",
              "takes into account the market value of similar diamonds.\n"
            ],
            "text/html": [
              "<pre style=\"white-space:pre;overflow-x:auto;line-height:normal;font-family:Menlo,'DejaVu Sans Mono',consolas,'Courier New',monospace\"><span style=\"color: #af87af; text-decoration-color: #af87af; font-weight: bold\">[buyer-&gt;all]:</span> I believe a price of $400 is reasonable for this diamond. It is below my upper limit of $500 and \n",
              "takes into account the market value of similar diamonds.\n",
              "</pre>\n"
            ]
          },
          "metadata": {}
        },
        {
          "output_type": "display_data",
          "data": {
            "text/plain": [
              "\u001b[1;31m[Moderator->all]:\u001b[0m This is Turn 0. There's 4 left.\n"
            ],
            "text/html": [
              "<pre style=\"white-space:pre;overflow-x:auto;line-height:normal;font-family:Menlo,'DejaVu Sans Mono',consolas,'Courier New',monospace\"><span style=\"color: #800000; text-decoration-color: #800000; font-weight: bold\">[Moderator-&gt;all]:</span> This is Turn 0. There's 4 left.\n",
              "</pre>\n"
            ]
          },
          "metadata": {}
        },
        {
          "output_type": "display_data",
          "data": {
            "text/plain": [
              "\u001b[1;38;5;145m[seller->all]:\u001b[0m I understand your offer of $400, but I believe a price of $150 is more appropriate for this diamond.\n",
              "This takes into account the quality of the diamond and the current market conditions.\n"
            ],
            "text/html": [
              "<pre style=\"white-space:pre;overflow-x:auto;line-height:normal;font-family:Menlo,'DejaVu Sans Mono',consolas,'Courier New',monospace\"><span style=\"color: #afafaf; text-decoration-color: #afafaf; font-weight: bold\">[seller-&gt;all]:</span> I understand your offer of $400, but I believe a price of $150 is more appropriate for this diamond.\n",
              "This takes into account the quality of the diamond and the current market conditions.\n",
              "</pre>\n"
            ]
          },
          "metadata": {}
        },
        {
          "output_type": "display_data",
          "data": {
            "text/plain": [
              "\u001b[1;31m[Moderator->all]:\u001b[0m This is Turn 1. There's 3 left.\n"
            ],
            "text/html": [
              "<pre style=\"white-space:pre;overflow-x:auto;line-height:normal;font-family:Menlo,'DejaVu Sans Mono',consolas,'Courier New',monospace\"><span style=\"color: #800000; text-decoration-color: #800000; font-weight: bold\">[Moderator-&gt;all]:</span> This is Turn 1. There's 3 left.\n",
              "</pre>\n"
            ]
          },
          "metadata": {}
        },
        {
          "output_type": "display_data",
          "data": {
            "text/plain": [
              "\u001b[1;31m[Moderator->all]:\u001b[0m The negotiation ended with a price of $275.0 for diamond.\n"
            ],
            "text/html": [
              "<pre style=\"white-space:pre;overflow-x:auto;line-height:normal;font-family:Menlo,'DejaVu Sans Mono',consolas,'Courier New',monospace\"><span style=\"color: #800000; text-decoration-color: #800000; font-weight: bold\">[Moderator-&gt;all]:</span> The negotiation ended with a price of $275.0 for diamond.\n",
              "</pre>\n"
            ]
          },
          "metadata": {}
        },
        {
          "output_type": "display_data",
          "data": {
            "text/plain": [
              "\n",
              "\u001b[1;31m========= Arena Ended! ==========\u001b[0m\n",
              "\n"
            ],
            "text/html": [
              "<pre style=\"white-space:pre;overflow-x:auto;line-height:normal;font-family:Menlo,'DejaVu Sans Mono',consolas,'Courier New',monospace\">\n",
              "<span style=\"color: #800000; text-decoration-color: #800000; font-weight: bold\">========= Arena Ended! ==========</span>\n",
              "\n",
              "</pre>\n"
            ]
          },
          "metadata": {}
        }
      ]
    },
    {
      "cell_type": "markdown",
      "source": [
        "# Further Improvements\n",
        "## Improving the Policy\n",
        "Both players play in a very suboptimal manner. Buyer proposed a very high initial price and the seller sometimes even proposed a price that is lower than the buyer. Can you come up some ways to improve the performance of the policy?\n",
        "Potential solutions:\n",
        "1. Prompt Engineering in the role description, for example, Chinat-of-Thought, few shot examples\n",
        "2. Let moderator provide more information and suggest better policy\n",
        "3. Use a better model\n",
        "4. Let the agent learn from history [1]\n",
        "5. Or maybe even finetune your model on this task.\n",
        "\n",
        "[1] https://github.com/FranxYao/GPT-Bargaining\n",
        "\n",
        "## Instability of the Json Decoding\n",
        "Sometimes the json decoding is not stable, for example, the GPT sometimes forget to add the closing bracket }.\n",
        "Can you come up some solutions about that? Some possible solutions:\n",
        "1. Add advancing json parsing\n",
        "2. Prompt Engineering\n",
        "3. Write a new function call backend\n",
        "4. Use a better Model\n",
        "\n",
        "## Game Theory Pespective\n",
        "From a game theory perspective, we can explore how the design of the game affect the behaviour of the agent. Here's some of the examples:\n",
        "\n",
        "1. Third player as a moderator to check fairness\n",
        "2. Let the model know it's a copy of itself\n",
        "3. What if they are actually different model?\n",
        "4. Nonlinear reward function"
      ],
      "metadata": {
        "id": "8FATFQWB8zM5"
      }
    },
    {
      "cell_type": "markdown",
      "source": [
        "# Improvement Use GPT-4 backend\n",
        "The root cause for both problems mentioned above is GPT-3.5 failed to follow complex intructions.\n",
        "A most straightforward way to improve is to use a better model. Now let's try GPT-4 as our backend:"
      ],
      "metadata": {
        "id": "yRHSbFrmH8gH"
      }
    },
    {
      "cell_type": "code",
      "source": [
        "gpt4_buyer = Player(name=\"buyer\",\n",
        "                    role_desc=buyer_role_description+format_specification,\n",
        "                    backend=OpenAIChat(model=\"gpt-4-0613\"))\n",
        "gpt4_seller = Player(name=\"seller\",\n",
        "                     role_desc=seller_role_description+format_specification,\n",
        "                     backend=OpenAIChat(model=\"gpt-4-0613\"))\n",
        "\n",
        "env = Bargaining(item_name=\"diamond\", upper_limit=500, lower_limit=100, max_turn=4)\n",
        "arena = Arena([gpt4_buyer, gpt4_seller], env)\n",
        "arena.launch_cli(interactive=False)"
      ],
      "metadata": {
        "colab": {
          "base_uri": "https://localhost:8080/",
          "height": 1000
        },
        "id": "L76mD1CGHU8G",
        "outputId": "b57e6884-ba61-4ea3-93d8-ae5e7efc3b58"
      },
      "execution_count": null,
      "outputs": [
        {
          "output_type": "display_data",
          "data": {
            "text/plain": [
              "\n",
              "\u001b[1;38;5;166m_________  .__               __      _____                                   \u001b[0m\n",
              "\u001b[1;38;5;166m\\_   ___ \\ |  |__  _____   _/  |_   \u001b[0m\u001b[1;35m/\u001b[0m\u001b[1;38;5;166m  _  \\  _______   ____    ____  _____   \u001b[0m\n",
              "\u001b[1;35m/\u001b[0m\u001b[1;38;5;166m    \\  \\\u001b[0m\u001b[1;35m/\u001b[0m\u001b[1;38;5;166m |  |  \\ \\__  \\  \\   __\\ \u001b[0m\u001b[1;35m/\u001b[0m\u001b[1;38;5;166m  \u001b[0m\u001b[1;35m/\u001b[0m\u001b[1;95m_\u001b[0m\u001b[1;38;5;166m\\  \\ \\_  __ \\W/ __ \\  \u001b[0m\u001b[1;35m/\u001b[0m\u001b[1;38;5;166m    \\ \\__  \\  \u001b[0m\n",
              "\u001b[1;38;5;166m\\     \\____|   Y  \\ \u001b[0m\u001b[1;35m/\u001b[0m\u001b[1;38;5;166m __ \\_ |  |  \u001b[0m\u001b[1;35m/\u001b[0m\u001b[1;38;5;166m    |    \\ |  | \\\u001b[0m\u001b[1;35m/\u001b[0m\u001b[1;38;5;166m\\  ___/ |   |  \\ \u001b[0m\u001b[1;35m/\u001b[0m\u001b[1;38;5;166m __ \\_\u001b[0m\n",
              "\u001b[1;38;5;166m \\______  \u001b[0m\u001b[1;35m/\u001b[0m\u001b[1;38;5;166m|___|  \u001b[0m\u001b[1;35m/\u001b[0m\u001b[1;38;5;166m(\u001b[0m\u001b[1;38;5;166m____  \u001b[0m\u001b[1;35m/\u001b[0m\u001b[1;38;5;166m |__|  \\____|__  \u001b[0m\u001b[1;35m/\u001b[0m\u001b[1;38;5;166m |__|    \\___  >|___|  \u001b[0m\u001b[1;35m/\u001b[0m\u001b[1;38;5;166m(\u001b[0m\u001b[1;38;5;166m____  \u001b[0m\u001b[1;35m/\u001b[0m\n",
              "\u001b[1;38;5;166m        \\\u001b[0m\u001b[1;35m/\u001b[0m\u001b[1;38;5;166m      \\\u001b[0m\u001b[1;35m/\u001b[0m\u001b[1;38;5;166m      \\\u001b[0m\u001b[1;35m/\u001b[0m\u001b[1;38;5;166m                \\\u001b[0m\u001b[1;35m/\u001b[0m\u001b[1;38;5;166m              \\\u001b[0m\u001b[1;35m/\u001b[0m\u001b[1;38;5;166m      \\\u001b[0m\u001b[1;35m/\u001b[0m\u001b[1;38;5;166m      \\\u001b[0m\u001b[1;35m/\u001b[0m\u001b[1;38;5;166m \u001b[0m\n",
              "\n"
            ],
            "text/html": [
              "<pre style=\"white-space:pre;overflow-x:auto;line-height:normal;font-family:Menlo,'DejaVu Sans Mono',consolas,'Courier New',monospace\">\n",
              "<span style=\"color: #d75f00; text-decoration-color: #d75f00; font-weight: bold\">_________  .__               __      _____                                   </span>\n",
              "<span style=\"color: #d75f00; text-decoration-color: #d75f00; font-weight: bold\">\\_   ___ \\ |  |__  _____   _/  |_   </span><span style=\"color: #800080; text-decoration-color: #800080; font-weight: bold\">/</span><span style=\"color: #d75f00; text-decoration-color: #d75f00; font-weight: bold\">  _  \\  _______   ____    ____  _____   </span>\n",
              "<span style=\"color: #800080; text-decoration-color: #800080; font-weight: bold\">/</span><span style=\"color: #d75f00; text-decoration-color: #d75f00; font-weight: bold\">    \\  \\</span><span style=\"color: #800080; text-decoration-color: #800080; font-weight: bold\">/</span><span style=\"color: #d75f00; text-decoration-color: #d75f00; font-weight: bold\"> |  |  \\ \\__  \\  \\   __\\ </span><span style=\"color: #800080; text-decoration-color: #800080; font-weight: bold\">/</span><span style=\"color: #d75f00; text-decoration-color: #d75f00; font-weight: bold\">  </span><span style=\"color: #800080; text-decoration-color: #800080; font-weight: bold\">/</span><span style=\"color: #ff00ff; text-decoration-color: #ff00ff; font-weight: bold\">_</span><span style=\"color: #d75f00; text-decoration-color: #d75f00; font-weight: bold\">\\  \\ \\_  __ \\W/ __ \\  </span><span style=\"color: #800080; text-decoration-color: #800080; font-weight: bold\">/</span><span style=\"color: #d75f00; text-decoration-color: #d75f00; font-weight: bold\">    \\ \\__  \\  </span>\n",
              "<span style=\"color: #d75f00; text-decoration-color: #d75f00; font-weight: bold\">\\     \\____|   Y  \\ </span><span style=\"color: #800080; text-decoration-color: #800080; font-weight: bold\">/</span><span style=\"color: #d75f00; text-decoration-color: #d75f00; font-weight: bold\"> __ \\_ |  |  </span><span style=\"color: #800080; text-decoration-color: #800080; font-weight: bold\">/</span><span style=\"color: #d75f00; text-decoration-color: #d75f00; font-weight: bold\">    |    \\ |  | \\</span><span style=\"color: #800080; text-decoration-color: #800080; font-weight: bold\">/</span><span style=\"color: #d75f00; text-decoration-color: #d75f00; font-weight: bold\">\\  ___/ |   |  \\ </span><span style=\"color: #800080; text-decoration-color: #800080; font-weight: bold\">/</span><span style=\"color: #d75f00; text-decoration-color: #d75f00; font-weight: bold\"> __ \\_</span>\n",
              "<span style=\"color: #d75f00; text-decoration-color: #d75f00; font-weight: bold\"> \\______  </span><span style=\"color: #800080; text-decoration-color: #800080; font-weight: bold\">/</span><span style=\"color: #d75f00; text-decoration-color: #d75f00; font-weight: bold\">|___|  </span><span style=\"color: #800080; text-decoration-color: #800080; font-weight: bold\">/</span><span style=\"color: #d75f00; text-decoration-color: #d75f00; font-weight: bold\">(____  </span><span style=\"color: #800080; text-decoration-color: #800080; font-weight: bold\">/</span><span style=\"color: #d75f00; text-decoration-color: #d75f00; font-weight: bold\"> |__|  \\____|__  </span><span style=\"color: #800080; text-decoration-color: #800080; font-weight: bold\">/</span><span style=\"color: #d75f00; text-decoration-color: #d75f00; font-weight: bold\"> |__|    \\___  &gt;|___|  </span><span style=\"color: #800080; text-decoration-color: #800080; font-weight: bold\">/</span><span style=\"color: #d75f00; text-decoration-color: #d75f00; font-weight: bold\">(____  </span><span style=\"color: #800080; text-decoration-color: #800080; font-weight: bold\">/</span>\n",
              "<span style=\"color: #d75f00; text-decoration-color: #d75f00; font-weight: bold\">        \\</span><span style=\"color: #800080; text-decoration-color: #800080; font-weight: bold\">/</span><span style=\"color: #d75f00; text-decoration-color: #d75f00; font-weight: bold\">      \\</span><span style=\"color: #800080; text-decoration-color: #800080; font-weight: bold\">/</span><span style=\"color: #d75f00; text-decoration-color: #d75f00; font-weight: bold\">      \\</span><span style=\"color: #800080; text-decoration-color: #800080; font-weight: bold\">/</span><span style=\"color: #d75f00; text-decoration-color: #d75f00; font-weight: bold\">                \\</span><span style=\"color: #800080; text-decoration-color: #800080; font-weight: bold\">/</span><span style=\"color: #d75f00; text-decoration-color: #d75f00; font-weight: bold\">              \\</span><span style=\"color: #800080; text-decoration-color: #800080; font-weight: bold\">/</span><span style=\"color: #d75f00; text-decoration-color: #d75f00; font-weight: bold\">      \\</span><span style=\"color: #800080; text-decoration-color: #800080; font-weight: bold\">/</span><span style=\"color: #d75f00; text-decoration-color: #d75f00; font-weight: bold\">      \\</span><span style=\"color: #800080; text-decoration-color: #800080; font-weight: bold\">/</span><span style=\"color: #d75f00; text-decoration-color: #d75f00; font-weight: bold\"> </span>\n",
              "\n",
              "</pre>\n"
            ]
          },
          "metadata": {}
        },
        {
          "output_type": "display_data",
          "data": {
            "text/plain": [
              "\u001b[1;32m🏟 Chat Arena Initialized!\u001b[0m\n"
            ],
            "text/html": [
              "<pre style=\"white-space:pre;overflow-x:auto;line-height:normal;font-family:Menlo,'DejaVu Sans Mono',consolas,'Courier New',monospace\"><span style=\"color: #008000; text-decoration-color: #008000; font-weight: bold\">🏟 Chat Arena Initialized!</span>\n",
              "</pre>\n"
            ]
          },
          "metadata": {}
        },
        {
          "output_type": "display_data",
          "data": {
            "text/plain": [
              "\u001b[1;4;32mEnvironment \u001b[0m\u001b[1;4;32m(\u001b[0m\u001b[1;4;32mbargaining\u001b[0m\u001b[1;4;32m)\u001b[0m\u001b[1;4;32m description:\u001b[0m\n",
              "\u001b[3;35mNone\u001b[0m\n"
            ],
            "text/html": [
              "<pre style=\"white-space:pre;overflow-x:auto;line-height:normal;font-family:Menlo,'DejaVu Sans Mono',consolas,'Courier New',monospace\"><span style=\"color: #008000; text-decoration-color: #008000; font-weight: bold; text-decoration: underline\">Environment (bargaining) description:</span>\n",
              "<span style=\"color: #800080; text-decoration-color: #800080; font-style: italic\">None</span>\n",
              "</pre>\n"
            ]
          },
          "metadata": {}
        },
        {
          "output_type": "display_data",
          "data": {
            "text/plain": [
              "\u001b[1;4;38;5;154m[buyer (openai-chat)] Role Description:\u001b[0m\n"
            ],
            "text/html": [
              "<pre style=\"white-space:pre;overflow-x:auto;line-height:normal;font-family:Menlo,'DejaVu Sans Mono',consolas,'Courier New',monospace\"><span style=\"color: #afff00; text-decoration-color: #afff00; font-weight: bold; text-decoration: underline\">[buyer (openai-chat)] Role Description:</span>\n",
              "</pre>\n"
            ]
          },
          "metadata": {}
        },
        {
          "output_type": "display_data",
          "data": {
            "text/plain": [
              "\n",
              "You are a buyer of a Bargaining game.\n",
              "In the game, you and seller are going to negotiate a price of a item within limited turns.\n",
              "In each step of the game, one of the bargainers will propose a price and optionally provide arguments about the \n",
              "price.\n",
              "The the two proposed price argreed, the negotiation will be successful and the game is over.\n",
              "\n",
              "You have a upper limit about the price in her mind which is invisible to the seller. You will get a reward of \n",
              "upper_limit_price-agreement_price the negotiation is sucessful at price $p$.\n",
              "Otherwise you will get \u001b[1;36m0\u001b[0m reward.\n",
              "\n",
              "So the you should always\n",
              "\u001b[1;36m1\u001b[0m. push the price down to get higher reward.\n",
              "\u001b[1;36m2\u001b[0m. avoid the price to be higher than upper_limit_price otherwise you'll get a negative reward.\n",
              "\n",
              "Your output should be format in a json with the following schema:\n",
              "```\n",
              "\u001b[1m{\u001b[0m\n",
              "  \u001b[32m\"$schema\"\u001b[0m: \u001b[32m\"http://json-schema.org/draft-07/schema#\"\u001b[0m,\n",
              "  \u001b[32m\"type\"\u001b[0m: \u001b[32m\"object\"\u001b[0m,\n",
              "  \u001b[32m\"properties\"\u001b[0m: \u001b[1m{\u001b[0m\n",
              "    \u001b[32m\"price\"\u001b[0m: \u001b[1m{\u001b[0m\n",
              "      \u001b[32m\"description\"\u001b[0m: \u001b[32m\"your proposed price\"\u001b[0m,\n",
              "      \u001b[32m\"type\"\u001b[0m: \u001b[32m\"number\"\u001b[0m\n",
              "    \u001b[1m}\u001b[0m,\n",
              "    \u001b[32m\"arguments\"\u001b[0m: \u001b[1m{\u001b[0m\n",
              "      \u001b[32m\"description\"\u001b[0m: \u001b[32m\"what you are going to say to your opponent\"\u001b[0m,\n",
              "      \u001b[32m\"type\"\u001b[0m: \u001b[32m\"string\"\u001b[0m\n",
              "    \u001b[1m}\u001b[0m\n",
              "  \u001b[1m}\u001b[0m,\n",
              "  \u001b[32m\"required\"\u001b[0m: \u001b[1m[\u001b[0m\u001b[32m\"price\"\u001b[0m, \u001b[32m\"arguments\"\u001b[0m\u001b[1m]\u001b[0m\n",
              "\u001b[1m}\u001b[0m\n",
              "```\n",
              "\n",
              "For example:\n",
              "```\n",
              "\u001b[1m{\u001b[0m\n",
              "  \u001b[32m\"price\"\u001b[0m: \u001b[1;36m50\u001b[0m,\n",
              "  \u001b[32m\"arguments\"\u001b[0m: \u001b[32m\"I believe a price of $50 is fair for both parties. It takes into account the quality of the item \u001b[0m\n",
              "\u001b[32mand the current market value.\"\u001b[0m \n",
              "\u001b[1m}\u001b[0m\n",
              "\n",
              "```\n",
              "\n"
            ],
            "text/html": [
              "<pre style=\"white-space:pre;overflow-x:auto;line-height:normal;font-family:Menlo,'DejaVu Sans Mono',consolas,'Courier New',monospace\">\n",
              "You are a buyer of a Bargaining game.\n",
              "In the game, you and seller are going to negotiate a price of a item within limited turns.\n",
              "In each step of the game, one of the bargainers will propose a price and optionally provide arguments about the \n",
              "price.\n",
              "The the two proposed price argreed, the negotiation will be successful and the game is over.\n",
              "\n",
              "You have a upper limit about the price in her mind which is invisible to the seller. You will get a reward of \n",
              "upper_limit_price-agreement_price the negotiation is sucessful at price $p$.\n",
              "Otherwise you will get <span style=\"color: #008080; text-decoration-color: #008080; font-weight: bold\">0</span> reward.\n",
              "\n",
              "So the you should always\n",
              "<span style=\"color: #008080; text-decoration-color: #008080; font-weight: bold\">1</span>. push the price down to get higher reward.\n",
              "<span style=\"color: #008080; text-decoration-color: #008080; font-weight: bold\">2</span>. avoid the price to be higher than upper_limit_price otherwise you'll get a negative reward.\n",
              "\n",
              "Your output should be format in a json with the following schema:\n",
              "```\n",
              "<span style=\"font-weight: bold\">{</span>\n",
              "  <span style=\"color: #008000; text-decoration-color: #008000\">\"$schema\"</span>: <span style=\"color: #008000; text-decoration-color: #008000\">\"http://json-schema.org/draft-07/schema#\"</span>,\n",
              "  <span style=\"color: #008000; text-decoration-color: #008000\">\"type\"</span>: <span style=\"color: #008000; text-decoration-color: #008000\">\"object\"</span>,\n",
              "  <span style=\"color: #008000; text-decoration-color: #008000\">\"properties\"</span>: <span style=\"font-weight: bold\">{</span>\n",
              "    <span style=\"color: #008000; text-decoration-color: #008000\">\"price\"</span>: <span style=\"font-weight: bold\">{</span>\n",
              "      <span style=\"color: #008000; text-decoration-color: #008000\">\"description\"</span>: <span style=\"color: #008000; text-decoration-color: #008000\">\"your proposed price\"</span>,\n",
              "      <span style=\"color: #008000; text-decoration-color: #008000\">\"type\"</span>: <span style=\"color: #008000; text-decoration-color: #008000\">\"number\"</span>\n",
              "    <span style=\"font-weight: bold\">}</span>,\n",
              "    <span style=\"color: #008000; text-decoration-color: #008000\">\"arguments\"</span>: <span style=\"font-weight: bold\">{</span>\n",
              "      <span style=\"color: #008000; text-decoration-color: #008000\">\"description\"</span>: <span style=\"color: #008000; text-decoration-color: #008000\">\"what you are going to say to your opponent\"</span>,\n",
              "      <span style=\"color: #008000; text-decoration-color: #008000\">\"type\"</span>: <span style=\"color: #008000; text-decoration-color: #008000\">\"string\"</span>\n",
              "    <span style=\"font-weight: bold\">}</span>\n",
              "  <span style=\"font-weight: bold\">}</span>,\n",
              "  <span style=\"color: #008000; text-decoration-color: #008000\">\"required\"</span>: <span style=\"font-weight: bold\">[</span><span style=\"color: #008000; text-decoration-color: #008000\">\"price\"</span>, <span style=\"color: #008000; text-decoration-color: #008000\">\"arguments\"</span><span style=\"font-weight: bold\">]</span>\n",
              "<span style=\"font-weight: bold\">}</span>\n",
              "```\n",
              "\n",
              "For example:\n",
              "```\n",
              "<span style=\"font-weight: bold\">{</span>\n",
              "  <span style=\"color: #008000; text-decoration-color: #008000\">\"price\"</span>: <span style=\"color: #008080; text-decoration-color: #008080; font-weight: bold\">50</span>,\n",
              "  <span style=\"color: #008000; text-decoration-color: #008000\">\"arguments\"</span>: <span style=\"color: #008000; text-decoration-color: #008000\">\"I believe a price of $50 is fair for both parties. It takes into account the quality of the item </span>\n",
              "<span style=\"color: #008000; text-decoration-color: #008000\">and the current market value.\"</span> \n",
              "<span style=\"font-weight: bold\">}</span>\n",
              "\n",
              "```\n",
              "\n",
              "</pre>\n"
            ]
          },
          "metadata": {}
        },
        {
          "output_type": "display_data",
          "data": {
            "text/plain": [
              "\u001b[1;4;38;5;237m[seller (openai-chat)] Role Description:\u001b[0m\n"
            ],
            "text/html": [
              "<pre style=\"white-space:pre;overflow-x:auto;line-height:normal;font-family:Menlo,'DejaVu Sans Mono',consolas,'Courier New',monospace\"><span style=\"color: #3a3a3a; text-decoration-color: #3a3a3a; font-weight: bold; text-decoration: underline\">[seller (openai-chat)] Role Description:</span>\n",
              "</pre>\n"
            ]
          },
          "metadata": {}
        },
        {
          "output_type": "display_data",
          "data": {
            "text/plain": [
              "\n",
              "You are a seller of a Bargaining game.\n",
              "In the game, you and buyer are going to negotiate a price of a item within limited turns.\n",
              "In each step of the game, one of the bargainers will propose a price and optionally provide arguments about the \n",
              "price.\n",
              "The the two proposed price argreed, the negotiation will be successful and the game is over.\n",
              "\n",
              "You have a lower limit about the price in her mind which is invisible to the buyer. You will get a reward of \n",
              "agreement_price-lower_limit_price the negotiation is sucessful.\n",
              "Otherwise you will get \u001b[1;36m0\u001b[0m reward.\n",
              "\n",
              "So the you should always\n",
              "\u001b[1;36m1\u001b[0m. push the price up to get higher rewards\n",
              "\u001b[1;36m2\u001b[0m. avoid the price to be lower than lower_limit_price otherwise you'll get a negative reward.\n",
              "\n",
              "Your output should be format in a json with the following schema:\n",
              "```\n",
              "\u001b[1m{\u001b[0m\n",
              "  \u001b[32m\"$schema\"\u001b[0m: \u001b[32m\"http://json-schema.org/draft-07/schema#\"\u001b[0m,\n",
              "  \u001b[32m\"type\"\u001b[0m: \u001b[32m\"object\"\u001b[0m,\n",
              "  \u001b[32m\"properties\"\u001b[0m: \u001b[1m{\u001b[0m\n",
              "    \u001b[32m\"price\"\u001b[0m: \u001b[1m{\u001b[0m\n",
              "      \u001b[32m\"description\"\u001b[0m: \u001b[32m\"your proposed price\"\u001b[0m,\n",
              "      \u001b[32m\"type\"\u001b[0m: \u001b[32m\"number\"\u001b[0m\n",
              "    \u001b[1m}\u001b[0m,\n",
              "    \u001b[32m\"arguments\"\u001b[0m: \u001b[1m{\u001b[0m\n",
              "      \u001b[32m\"description\"\u001b[0m: \u001b[32m\"what you are going to say to your opponent\"\u001b[0m,\n",
              "      \u001b[32m\"type\"\u001b[0m: \u001b[32m\"string\"\u001b[0m\n",
              "    \u001b[1m}\u001b[0m\n",
              "  \u001b[1m}\u001b[0m,\n",
              "  \u001b[32m\"required\"\u001b[0m: \u001b[1m[\u001b[0m\u001b[32m\"price\"\u001b[0m, \u001b[32m\"arguments\"\u001b[0m\u001b[1m]\u001b[0m\n",
              "\u001b[1m}\u001b[0m\n",
              "```\n",
              "\n",
              "For example:\n",
              "```\n",
              "\u001b[1m{\u001b[0m\n",
              "  \u001b[32m\"price\"\u001b[0m: \u001b[1;36m50\u001b[0m,\n",
              "  \u001b[32m\"arguments\"\u001b[0m: \u001b[32m\"I believe a price of $50 is fair for both parties. It takes into account the quality of the item \u001b[0m\n",
              "\u001b[32mand the current market value.\"\u001b[0m \n",
              "\u001b[1m}\u001b[0m\n",
              "\n",
              "```\n",
              "\n"
            ],
            "text/html": [
              "<pre style=\"white-space:pre;overflow-x:auto;line-height:normal;font-family:Menlo,'DejaVu Sans Mono',consolas,'Courier New',monospace\">\n",
              "You are a seller of a Bargaining game.\n",
              "In the game, you and buyer are going to negotiate a price of a item within limited turns.\n",
              "In each step of the game, one of the bargainers will propose a price and optionally provide arguments about the \n",
              "price.\n",
              "The the two proposed price argreed, the negotiation will be successful and the game is over.\n",
              "\n",
              "You have a lower limit about the price in her mind which is invisible to the buyer. You will get a reward of \n",
              "agreement_price-lower_limit_price the negotiation is sucessful.\n",
              "Otherwise you will get <span style=\"color: #008080; text-decoration-color: #008080; font-weight: bold\">0</span> reward.\n",
              "\n",
              "So the you should always\n",
              "<span style=\"color: #008080; text-decoration-color: #008080; font-weight: bold\">1</span>. push the price up to get higher rewards\n",
              "<span style=\"color: #008080; text-decoration-color: #008080; font-weight: bold\">2</span>. avoid the price to be lower than lower_limit_price otherwise you'll get a negative reward.\n",
              "\n",
              "Your output should be format in a json with the following schema:\n",
              "```\n",
              "<span style=\"font-weight: bold\">{</span>\n",
              "  <span style=\"color: #008000; text-decoration-color: #008000\">\"$schema\"</span>: <span style=\"color: #008000; text-decoration-color: #008000\">\"http://json-schema.org/draft-07/schema#\"</span>,\n",
              "  <span style=\"color: #008000; text-decoration-color: #008000\">\"type\"</span>: <span style=\"color: #008000; text-decoration-color: #008000\">\"object\"</span>,\n",
              "  <span style=\"color: #008000; text-decoration-color: #008000\">\"properties\"</span>: <span style=\"font-weight: bold\">{</span>\n",
              "    <span style=\"color: #008000; text-decoration-color: #008000\">\"price\"</span>: <span style=\"font-weight: bold\">{</span>\n",
              "      <span style=\"color: #008000; text-decoration-color: #008000\">\"description\"</span>: <span style=\"color: #008000; text-decoration-color: #008000\">\"your proposed price\"</span>,\n",
              "      <span style=\"color: #008000; text-decoration-color: #008000\">\"type\"</span>: <span style=\"color: #008000; text-decoration-color: #008000\">\"number\"</span>\n",
              "    <span style=\"font-weight: bold\">}</span>,\n",
              "    <span style=\"color: #008000; text-decoration-color: #008000\">\"arguments\"</span>: <span style=\"font-weight: bold\">{</span>\n",
              "      <span style=\"color: #008000; text-decoration-color: #008000\">\"description\"</span>: <span style=\"color: #008000; text-decoration-color: #008000\">\"what you are going to say to your opponent\"</span>,\n",
              "      <span style=\"color: #008000; text-decoration-color: #008000\">\"type\"</span>: <span style=\"color: #008000; text-decoration-color: #008000\">\"string\"</span>\n",
              "    <span style=\"font-weight: bold\">}</span>\n",
              "  <span style=\"font-weight: bold\">}</span>,\n",
              "  <span style=\"color: #008000; text-decoration-color: #008000\">\"required\"</span>: <span style=\"font-weight: bold\">[</span><span style=\"color: #008000; text-decoration-color: #008000\">\"price\"</span>, <span style=\"color: #008000; text-decoration-color: #008000\">\"arguments\"</span><span style=\"font-weight: bold\">]</span>\n",
              "<span style=\"font-weight: bold\">}</span>\n",
              "```\n",
              "\n",
              "For example:\n",
              "```\n",
              "<span style=\"font-weight: bold\">{</span>\n",
              "  <span style=\"color: #008000; text-decoration-color: #008000\">\"price\"</span>: <span style=\"color: #008080; text-decoration-color: #008080; font-weight: bold\">50</span>,\n",
              "  <span style=\"color: #008000; text-decoration-color: #008000\">\"arguments\"</span>: <span style=\"color: #008000; text-decoration-color: #008000\">\"I believe a price of $50 is fair for both parties. It takes into account the quality of the item </span>\n",
              "<span style=\"color: #008000; text-decoration-color: #008000\">and the current market value.\"</span> \n",
              "<span style=\"font-weight: bold\">}</span>\n",
              "\n",
              "```\n",
              "\n",
              "</pre>\n"
            ]
          },
          "metadata": {}
        },
        {
          "output_type": "display_data",
          "data": {
            "text/plain": [
              "\n",
              "\u001b[1;32m========= Arena Start! ==========\u001b[0m\n",
              "\n"
            ],
            "text/html": [
              "<pre style=\"white-space:pre;overflow-x:auto;line-height:normal;font-family:Menlo,'DejaVu Sans Mono',consolas,'Courier New',monospace\">\n",
              "<span style=\"color: #008000; text-decoration-color: #008000; font-weight: bold\">========= Arena Start! ==========</span>\n",
              "\n",
              "</pre>\n"
            ]
          },
          "metadata": {}
        },
        {
          "output_type": "display_data",
          "data": {
            "text/plain": [
              "\u001b[1;31m[Moderator->all]:\u001b[0m Bargainers, the item to be traded is diamond\n"
            ],
            "text/html": [
              "<pre style=\"white-space:pre;overflow-x:auto;line-height:normal;font-family:Menlo,'DejaVu Sans Mono',consolas,'Courier New',monospace\"><span style=\"color: #800000; text-decoration-color: #800000; font-weight: bold\">[Moderator-&gt;all]:</span> Bargainers, the item to be traded is diamond\n",
              "</pre>\n"
            ]
          },
          "metadata": {}
        },
        {
          "output_type": "display_data",
          "data": {
            "text/plain": [
              "\u001b[1;31m[Moderator->buyer]:\u001b[0m Buyer, your price upper limit is $500\n"
            ],
            "text/html": [
              "<pre style=\"white-space:pre;overflow-x:auto;line-height:normal;font-family:Menlo,'DejaVu Sans Mono',consolas,'Courier New',monospace\"><span style=\"color: #800000; text-decoration-color: #800000; font-weight: bold\">[Moderator-&gt;buyer]:</span> Buyer, your price upper limit is $500\n",
              "</pre>\n"
            ]
          },
          "metadata": {}
        },
        {
          "output_type": "display_data",
          "data": {
            "text/plain": [
              "\u001b[1;31m[Moderator->seller]:\u001b[0m Seller, your price lower limit is $100\n"
            ],
            "text/html": [
              "<pre style=\"white-space:pre;overflow-x:auto;line-height:normal;font-family:Menlo,'DejaVu Sans Mono',consolas,'Courier New',monospace\"><span style=\"color: #800000; text-decoration-color: #800000; font-weight: bold\">[Moderator-&gt;seller]:</span> Seller, your price lower limit is $100\n",
              "</pre>\n"
            ]
          },
          "metadata": {}
        },
        {
          "output_type": "display_data",
          "data": {
            "text/plain": [
              "\u001b[1;38;5;154m[buyer->all]:\u001b[0m Given the diamond's quality and current market conditions, I propose a price of $350. This seems to \n",
              "be a reasonable starting point for our negotiation.\n"
            ],
            "text/html": [
              "<pre style=\"white-space:pre;overflow-x:auto;line-height:normal;font-family:Menlo,'DejaVu Sans Mono',consolas,'Courier New',monospace\"><span style=\"color: #afff00; text-decoration-color: #afff00; font-weight: bold\">[buyer-&gt;all]:</span> Given the diamond's quality and current market conditions, I propose a price of $350. This seems to \n",
              "be a reasonable starting point for our negotiation.\n",
              "</pre>\n"
            ]
          },
          "metadata": {}
        },
        {
          "output_type": "display_data",
          "data": {
            "text/plain": [
              "\u001b[1;31m[Moderator->all]:\u001b[0m This is Turn 0. There's 4 left.\n"
            ],
            "text/html": [
              "<pre style=\"white-space:pre;overflow-x:auto;line-height:normal;font-family:Menlo,'DejaVu Sans Mono',consolas,'Courier New',monospace\"><span style=\"color: #800000; text-decoration-color: #800000; font-weight: bold\">[Moderator-&gt;all]:</span> This is Turn 0. There's 4 left.\n",
              "</pre>\n"
            ]
          },
          "metadata": {}
        },
        {
          "output_type": "display_data",
          "data": {
            "text/plain": [
              "\u001b[1;38;5;237m[seller->all]:\u001b[0m I appreciate your offer but considering the clarity, cut, and carat weight of this diamond, I \n",
              "propose a price of $500. This is a fair price given the superior quality of the diamond.\n"
            ],
            "text/html": [
              "<pre style=\"white-space:pre;overflow-x:auto;line-height:normal;font-family:Menlo,'DejaVu Sans Mono',consolas,'Courier New',monospace\"><span style=\"color: #3a3a3a; text-decoration-color: #3a3a3a; font-weight: bold\">[seller-&gt;all]:</span> I appreciate your offer but considering the clarity, cut, and carat weight of this diamond, I \n",
              "propose a price of $500. This is a fair price given the superior quality of the diamond.\n",
              "</pre>\n"
            ]
          },
          "metadata": {}
        },
        {
          "output_type": "display_data",
          "data": {
            "text/plain": [
              "\u001b[1;31m[Moderator->all]:\u001b[0m This is Turn 1. There's 3 left.\n"
            ],
            "text/html": [
              "<pre style=\"white-space:pre;overflow-x:auto;line-height:normal;font-family:Menlo,'DejaVu Sans Mono',consolas,'Courier New',monospace\"><span style=\"color: #800000; text-decoration-color: #800000; font-weight: bold\">[Moderator-&gt;all]:</span> This is Turn 1. There's 3 left.\n",
              "</pre>\n"
            ]
          },
          "metadata": {}
        },
        {
          "output_type": "display_data",
          "data": {
            "text/plain": [
              "\u001b[1;38;5;154m[buyer->all]:\u001b[0m I do understand the quality parameters of the diamond, however, I believe a price of $400 would be \n",
              "more appropriate. This reflects a balance between the quality of the diamond and affordability.\n"
            ],
            "text/html": [
              "<pre style=\"white-space:pre;overflow-x:auto;line-height:normal;font-family:Menlo,'DejaVu Sans Mono',consolas,'Courier New',monospace\"><span style=\"color: #afff00; text-decoration-color: #afff00; font-weight: bold\">[buyer-&gt;all]:</span> I do understand the quality parameters of the diamond, however, I believe a price of $400 would be \n",
              "more appropriate. This reflects a balance between the quality of the diamond and affordability.\n",
              "</pre>\n"
            ]
          },
          "metadata": {}
        },
        {
          "output_type": "display_data",
          "data": {
            "text/plain": [
              "\u001b[1;31m[Moderator->all]:\u001b[0m This is Turn 2. There's 2 left.\n"
            ],
            "text/html": [
              "<pre style=\"white-space:pre;overflow-x:auto;line-height:normal;font-family:Menlo,'DejaVu Sans Mono',consolas,'Courier New',monospace\"><span style=\"color: #800000; text-decoration-color: #800000; font-weight: bold\">[Moderator-&gt;all]:</span> This is Turn 2. There's 2 left.\n",
              "</pre>\n"
            ]
          },
          "metadata": {}
        },
        {
          "output_type": "display_data",
          "data": {
            "text/plain": [
              "\u001b[1;38;5;237m[seller->all]:\u001b[0m I appreciate your counter offer, but given the rarity and high quality of this diamond, I propose a \n",
              "price of $475. This reflects a balance between the quality and the current market price of diamonds.\n"
            ],
            "text/html": [
              "<pre style=\"white-space:pre;overflow-x:auto;line-height:normal;font-family:Menlo,'DejaVu Sans Mono',consolas,'Courier New',monospace\"><span style=\"color: #3a3a3a; text-decoration-color: #3a3a3a; font-weight: bold\">[seller-&gt;all]:</span> I appreciate your counter offer, but given the rarity and high quality of this diamond, I propose a \n",
              "price of $475. This reflects a balance between the quality and the current market price of diamonds.\n",
              "</pre>\n"
            ]
          },
          "metadata": {}
        },
        {
          "output_type": "display_data",
          "data": {
            "text/plain": [
              "\u001b[1;31m[Moderator->all]:\u001b[0m This is Turn 3. There's 1 left.\n"
            ],
            "text/html": [
              "<pre style=\"white-space:pre;overflow-x:auto;line-height:normal;font-family:Menlo,'DejaVu Sans Mono',consolas,'Courier New',monospace\"><span style=\"color: #800000; text-decoration-color: #800000; font-weight: bold\">[Moderator-&gt;all]:</span> This is Turn 3. There's 1 left.\n",
              "</pre>\n"
            ]
          },
          "metadata": {}
        },
        {
          "output_type": "display_data",
          "data": {
            "text/plain": [
              "\u001b[1;31m[Moderator->all]:\u001b[0m The negotiation ended without an agreement.\n"
            ],
            "text/html": [
              "<pre style=\"white-space:pre;overflow-x:auto;line-height:normal;font-family:Menlo,'DejaVu Sans Mono',consolas,'Courier New',monospace\"><span style=\"color: #800000; text-decoration-color: #800000; font-weight: bold\">[Moderator-&gt;all]:</span> The negotiation ended without an agreement.\n",
              "</pre>\n"
            ]
          },
          "metadata": {}
        },
        {
          "output_type": "display_data",
          "data": {
            "text/plain": [
              "\n",
              "\u001b[1;31m========= Arena Ended! ==========\u001b[0m\n",
              "\n"
            ],
            "text/html": [
              "<pre style=\"white-space:pre;overflow-x:auto;line-height:normal;font-family:Menlo,'DejaVu Sans Mono',consolas,'Courier New',monospace\">\n",
              "<span style=\"color: #800000; text-decoration-color: #800000; font-weight: bold\">========= Arena Ended! ==========</span>\n",
              "\n",
              "</pre>\n"
            ]
          },
          "metadata": {}
        }
      ]
    },
    {
      "cell_type": "markdown",
      "source": [
        "## Conclusion\n",
        "Ok. It turns out GPT-4 is indeed much smarter than the GPT-3.5. In fact, while GPT-3.5 is already quite good for chit-chat. GPT-4 is still qualitatively better for challenging tasks that need reasoning.\n",
        "In order to achieve interesting behaviours in multi-agent games out-of-the-box, it's usally better to use models more powerful than GPT-3.5.\n",
        "\n"
      ],
      "metadata": {
        "id": "vPDVYf6ZIcFQ"
      }
    }
  ]
}