{
  "nbformat": 4,
  "nbformat_minor": 0,
  "metadata": {
    "colab": {
      "name": "index.ipynb",
      "version": "0.3.2",
      "provenance": [],
      "include_colab_link": true
    },
    "kernelspec": {
      "display_name": "Python 3",
      "language": "python",
      "name": "python3"
    }
  },
  "cells": [
    {
      "cell_type": "markdown",
      "metadata": {
        "id": "view-in-github",
        "colab_type": "text"
      },
      "source": [
        "[View in Colaboratory](https://colab.research.google.com/github/jonbaer/googlecolab/blob/master/qgrid.ipynb)"
      ]
    },
    {
      "metadata": {
        "id": "PRCL1nWj9i4i",
        "colab_type": "text"
      },
      "cell_type": "markdown",
      "source": [
        "qgrid - An interactive grid for viewing and editing pandas DataFrames\n",
        "=======================================================\n",
        "Qgrid is an Jupyter notebook widget which uses a javascript library called SlickGrid to render pandas DataFrames within a Jupyter notebook. It was developed for use in [Quantopian's hosted research environment]( https://www.quantopian.com/research?utm_source=github&utm_medium=web&utm_campaign=qgrid-nbviewer).\n",
        "\n",
        "The purpose of this notebook is to give an overview of what qgrid is capable of. Execute the cells below to generate some qgrids using a diverse set of DataFrames."
      ]
    },
    {
      "metadata": {
        "id": "lyadVZpn9i4j",
        "colab_type": "text"
      },
      "cell_type": "markdown",
      "source": [
        "## Overview\n",
        "* [SlickGrid](https://github.com/mleibman/SlickGrid) is a javascript grid which allows users to scroll, sort, \n",
        "and filter hundreds of thousands of rows with extreme responsiveness.  \n",
        "* [Pandas](https://github.com/pydata/pandas) is a powerful data analysis / manipulation library for Python, and DataFrames are the primary way of storing and manipulating two-dimensional data in pandas.\n",
        "\n",
        "[Qgrid](https://github.com/quantopian/qgrid) renders pandas DataFrames as SlickGrids, which enables users to explore the entire contents of a DataFrame using intuitive sorting and filtering controls.  It's built on the ipywidget framework and is designed to be used in Jupyter notebook, Jupyterhub, or Jupyterlab"
      ]
    },
    {
      "metadata": {
        "id": "b5imLEbg9i4k",
        "colab_type": "text"
      },
      "cell_type": "markdown",
      "source": [
        "## What's new\n",
        "\n",
        "#### Column options and new \"live-updating\" API methods - as of 1.1.0\n",
        "* Column options can be provided via the `show_grid` method. Options can be provided for all columns via the `column_options` parameter, and for individual columns via the `column_definitions` parameter.\n",
        "* Added `edit_cell`, `change_selection`, `toggle_editable` methods for updating the state of an existing grid widget without having to call `show_grid`.\n",
        "* Updated the `add_row` method so that the caller can specify the values for the new row via the `row` parameter. This will allow people to add rows to a qgrid instance even if it's showing a DataFrame that doesn't have an integer index.\n",
        "* Updated the `remove_row` method so that the indices of the rows to remove can optionally be provided via the `rows` parameter.\n",
        "* Fixed issue where moving the scroll bar around a bunch of times quickly can cause a series of grid refreshes to occur.\n",
        "\n",
        "#### Multi-index support - as of 1.0.6-beta.6\n",
        "* Improves support for viewing DataFrames with a MultiIndex.\n",
        "* Cells are merged vertically (similar to how pandas does it) to make it easier to identify the levels of the index.\n",
        "* Sorting or grouping any column other than level 0 of the multi-index results in the DataFrame returning to it's       normal behavior of never merging cells vertically.\n",
        "* Column header is hidden for unnamed levels of the index (instead of showing \"level_0\", \"level_1\", etc)\n",
        "\n",
        "#### Events API - as of 1.0.3:\n",
        "* Added the ability to listen for events on all QgridWidget instances (using `qgrid.on`) as well as on individual instances (using `QgridWidget.on`).\n",
        "* **Breaking API Change:** Previously the recommended (but not officially documented) way of attaching event handlers to a QgridWidget instance was to listen for changes to the ``_df`` attribute using the ``observe`` method (i.e.``qgrid_widget.observe(handle_df_changed, names=['_df'])``). This method will no longer work for most events (scrolling, sorting, filtering, etc) so the new ``QgridWidget.on`` method should be used instead."
      ]
    },
    {
      "metadata": {
        "id": "P4Mayy1M9i4k",
        "colab_type": "text"
      },
      "cell_type": "markdown",
      "source": [
        "## API & Usage\n",
        "API documentation is hosted on [readthedocs](http://qgrid.readthedocs.io/en/widget-guidelines/). \n",
        "\n",
        "The API documentation can also be accessed via the \"?\" operator in IPython.  To use the \"?\" operator, type the name of the function followed by \"?\" to see the documentation for that function, like this:\n",
        "```\n",
        "qgrid.show_grid?\n",
        "qgrid.set_defaults?\n",
        "qgrid.set_grid_options?\n",
        "qgrid.enable?\n",
        "qgrid.disable?\n",
        "\n",
        "```"
      ]
    },
    {
      "metadata": {
        "id": "5YCsC3p59i4l",
        "colab_type": "text"
      },
      "cell_type": "markdown",
      "source": [
        "## Example 1 - Render a DataFrame with many different types of columns"
      ]
    },
    {
      "metadata": {
        "id": "-m1Ait549i4l",
        "colab_type": "code",
        "colab": {}
      },
      "cell_type": "code",
      "source": [
        "import numpy as np\n",
        "import pandas as pd\n",
        "import qgrid\n",
        "randn = np.random.randn\n",
        "df_types = pd.DataFrame({\n",
        "    'A' : pd.Series(['2013-01-01', '2013-01-02', '2013-01-03', '2013-01-04',\n",
        "               '2013-01-05', '2013-01-06', '2013-01-07', '2013-01-08', '2013-01-09'],index=list(range(9)),dtype='datetime64[ns]'),\n",
        "    'B' : pd.Series(randn(9),index=list(range(9)),dtype='float32'),\n",
        "    'C' : pd.Categorical([\"washington\", \"adams\", \"washington\", \"madison\", \"lincoln\",\"jefferson\", \"hamilton\", \"roosevelt\", \"kennedy\"]),\n",
        "    'D' : [\"foo\", \"bar\", \"buzz\", \"bippity\",\"boppity\", \"foo\", \"foo\", \"bar\", \"zoo\"] })\n",
        "df_types['E'] = df_types['D'] == 'foo'\n",
        "qgrid_widget = qgrid.show_grid(df_types, show_toolbar=True)\n",
        "qgrid_widget"
      ],
      "execution_count": 0,
      "outputs": []
    },
    {
      "metadata": {
        "id": "pZY4gBiu9i4o",
        "colab_type": "text"
      },
      "cell_type": "markdown",
      "source": [
        "If you make any sorting/filtering changes, or edit the grid by double clicking, you can retrieve a copy of your DataFrame which reflects these changes by calling `get_changed_df` on the `QgridWidget` instance returned by `show_grid`."
      ]
    },
    {
      "metadata": {
        "id": "UGsM5C059i4p",
        "colab_type": "code",
        "colab": {}
      },
      "cell_type": "code",
      "source": [
        "qgrid_widget.get_changed_df()"
      ],
      "execution_count": 0,
      "outputs": []
    },
    {
      "metadata": {
        "id": "rHN76Yqi9i4r",
        "colab_type": "text"
      },
      "cell_type": "markdown",
      "source": [
        "## Example 2 - Render a DataFrame with 1 million rows\n",
        "*Note: The reason for the redundant \"import\" statements in the next cell (and many subsequent cells) is because it allows us to run the cells in any order.*"
      ]
    },
    {
      "metadata": {
        "id": "oPeD2O349i4s",
        "colab_type": "code",
        "colab": {}
      },
      "cell_type": "code",
      "source": [
        "import pandas as pd\n",
        "import numpy as np\n",
        "import qgrid\n",
        "\n",
        "# set the default max number of rows to 10 so the larger DataFrame we render don't take up to much space \n",
        "qgrid.set_grid_option('maxVisibleRows', 10)\n",
        "\n",
        "df_scale = pd.DataFrame(np.random.randn(1000000, 4), columns=list('ABCD'))\n",
        "# duplicate column B as a string column, to test scalability for text column filters\n",
        "df_scale['B (as str)'] = df_scale['B'].map(lambda x: str(x))\n",
        "q_scale = qgrid.show_grid(df_scale, show_toolbar=True, grid_options={'forceFitColumns': False, 'defaultColumnWidth': 200})\n",
        "q_scale"
      ],
      "execution_count": 0,
      "outputs": []
    },
    {
      "metadata": {
        "id": "zakY-Quk9i4u",
        "colab_type": "code",
        "colab": {}
      },
      "cell_type": "code",
      "source": [
        "q_scale.get_changed_df()"
      ],
      "execution_count": 0,
      "outputs": []
    },
    {
      "metadata": {
        "id": "AOVO4WAa9i4x",
        "colab_type": "text"
      },
      "cell_type": "markdown",
      "source": [
        "## Example 3 - Render a DataFrame returned by Yahoo Finance by enabling automatic qgrids"
      ]
    },
    {
      "metadata": {
        "id": "ohaaIndO9i4x",
        "colab_type": "code",
        "colab": {}
      },
      "cell_type": "code",
      "source": [
        "import pandas as pd\n",
        "import numpy as np\n",
        "import qgrid\n",
        "randn = np.random.randn\n",
        "\n",
        "# Get a pandas DataFrame containing the daily prices for the S&P 500 from 1/1/2014 - 1/1/2017\n",
        "from pandas_datareader.data import DataReader\n",
        "spy = DataReader(\n",
        "    'SPY',\n",
        "    'yahoo',\n",
        "    pd.Timestamp('2014-01-01'),  \n",
        "    pd.Timestamp('2017-01-01'),\n",
        ")\n",
        "# Tell qgrid to automatically render all DataFrames and Series as qgrids.\n",
        "qgrid.enable()\n",
        "\n",
        "# Render the DataFrame as a qgrid automatically\n",
        "spy"
      ],
      "execution_count": 0,
      "outputs": []
    },
    {
      "metadata": {
        "id": "LLjenN2R9i4z",
        "colab_type": "code",
        "colab": {}
      },
      "cell_type": "code",
      "source": [
        "# Disable automatic display so we can display DataFrames in the normal way\n",
        "qgrid.disable()"
      ],
      "execution_count": 0,
      "outputs": []
    },
    {
      "metadata": {
        "id": "GQMnu1Ni9i41",
        "colab_type": "text"
      },
      "cell_type": "markdown",
      "source": [
        "## Example 4 - Render a DataFrame with a multi-index\n",
        "\n",
        "Create a sample DataFrame using the `wb.download` function and render it without using qgrid"
      ]
    },
    {
      "metadata": {
        "id": "pQrrNlr19i42",
        "colab_type": "code",
        "colab": {}
      },
      "cell_type": "code",
      "source": [
        "import qgrid\n",
        "import pandas as pd\n",
        "from pandas_datareader import wb\n",
        "df_countries = wb.download(indicator='NY.GDP.PCAP.KD', country=['all'], start=2005, end=2008)\n",
        "df_countries.columns = ['GDP per capita (constant 2005 US$)']\n",
        "qgrid.show_grid(df_countries)"
      ],
      "execution_count": 0,
      "outputs": []
    },
    {
      "metadata": {
        "id": "x1cTDUYq9i44",
        "colab_type": "code",
        "colab": {}
      },
      "cell_type": "code",
      "source": [
        "df_countries"
      ],
      "execution_count": 0,
      "outputs": []
    },
    {
      "metadata": {
        "id": "QrPIKmvT9i47",
        "colab_type": "text"
      },
      "cell_type": "markdown",
      "source": [
        "## Example 5 - Render a DataFrame with an interval column\n",
        "Create a sample DataFrame using the `wb.download` function and render it without using qgrid"
      ]
    },
    {
      "metadata": {
        "id": "tK8SzJVF9i48",
        "colab_type": "code",
        "colab": {}
      },
      "cell_type": "code",
      "source": [
        "import numpy as np\n",
        "import pandas as pd\n",
        "import qgrid\n",
        "\n",
        "td = np.cumsum(np.random.randint(1, 15*60, 1000))\n",
        "start = pd.Timestamp('2017-04-17')\n",
        "df_interval = pd.DataFrame(\n",
        "    [(start + pd.Timedelta(seconds=d)) for d in td],\n",
        "    columns=['time'])\n",
        "\n",
        "freq = '15Min'\n",
        "start = df_interval['time'].min().floor(freq)\n",
        "end = df_interval['time'].max().ceil(freq)\n",
        "bins = pd.date_range(start, end, freq=freq)\n",
        "\n",
        "df_interval['time_bin'] = pd.cut(df_interval['time'], bins)\n",
        "\n",
        "qgrid.show_grid(df_interval, show_toolbar=True)"
      ],
      "execution_count": 0,
      "outputs": []
    },
    {
      "metadata": {
        "id": "eSuVuUMk9i4-",
        "colab_type": "code",
        "colab": {}
      },
      "cell_type": "code",
      "source": [
        "df_interval"
      ],
      "execution_count": 0,
      "outputs": []
    },
    {
      "metadata": {
        "id": "Pb_krAij9i5A",
        "colab_type": "text"
      },
      "cell_type": "markdown",
      "source": [
        "## Example 6 - Render a DataFrame with unnamed columns\n",
        "Create a sample DataFrame using the `wb.download` function and render it without using qgrid"
      ]
    },
    {
      "metadata": {
        "id": "7JbbxZXV9i5B",
        "colab_type": "code",
        "colab": {}
      },
      "cell_type": "code",
      "source": [
        "import numpy as np\n",
        "import pandas as pd\n",
        "import qgrid\n",
        "\n",
        "arrays = [['bar', 'bar', 'baz', 'baz', 'foo', 'foo', 'qux', 'qux'],\n",
        "          ['one', 'two', 'one', 'two', 'one', 'two', 'one', 'two']]\n",
        "df_multi = pd.DataFrame(np.random.randn(8, 4), index=arrays)\n",
        "qgrid.show_grid(df_multi, show_toolbar=True)"
      ],
      "execution_count": 0,
      "outputs": []
    },
    {
      "metadata": {
        "id": "dZffk_Kd9i5D",
        "colab_type": "code",
        "colab": {}
      },
      "cell_type": "code",
      "source": [
        "df_multi"
      ],
      "execution_count": 0,
      "outputs": []
    },
    {
      "metadata": {
        "id": "7tiSvY349i5G",
        "colab_type": "text"
      },
      "cell_type": "markdown",
      "source": [
        "## Example 7 - Render a narrow DataFrame inside a Layout widget\n",
        "Create a sample DataFrame with only two columns using `randint`, and render it in a Layout widget that's 20% of the width of the output area."
      ]
    },
    {
      "metadata": {
        "id": "u_8eLR8j9i5G",
        "colab_type": "code",
        "colab": {}
      },
      "cell_type": "code",
      "source": [
        "import numpy as np\n",
        "import pandas as pd\n",
        "import qgrid\n",
        "import ipywidgets as ipyw\n",
        "randn = np.random.randn\n",
        "df_types = pd.DataFrame(np.random.randint(1,14,14))\n",
        "qgrid_widget = qgrid.show_grid(df_types, show_toolbar=False)\n",
        "qgrid_widget.layout = ipyw.Layout(width='20%')\n",
        "qgrid_widget"
      ],
      "execution_count": 0,
      "outputs": []
    },
    {
      "metadata": {
        "id": "3lK5RdAD9i5J",
        "colab_type": "text"
      },
      "cell_type": "markdown",
      "source": [
        "## Example 8 - Render a DataFrame with an index and column that contain multiple types"
      ]
    },
    {
      "metadata": {
        "id": "41Rplq8H9i5K",
        "colab_type": "code",
        "colab": {}
      },
      "cell_type": "code",
      "source": [
        "import pandas as pd\n",
        "import qgrid\n",
        "df = pd.DataFrame({'A': [1.2, 'xy', 4], 'B': [3, 4, 5]})\n",
        "df = df.set_index(pd.Index(['yz', 7, 3.2]))\n",
        "view = qgrid.show_grid(df)\n",
        "view"
      ],
      "execution_count": 0,
      "outputs": []
    },
    {
      "metadata": {
        "id": "fE7rFPeJ9i5O",
        "colab_type": "text"
      },
      "cell_type": "markdown",
      "source": [
        "## Example 9 - Render a DataFrame with a Period index and Period column"
      ]
    },
    {
      "metadata": {
        "id": "iXsYVmnL9i5Q",
        "colab_type": "code",
        "colab": {}
      },
      "cell_type": "code",
      "source": [
        "import pandas as pd\n",
        "import qgrid\n",
        "range_index = pd.period_range(start='2000', periods=10, freq='B')\n",
        "df = pd.DataFrame({'a': 5, 'b': range_index}, index=range_index)\n",
        "view = qgrid.show_grid(df)\n",
        "view"
      ],
      "execution_count": 0,
      "outputs": []
    },
    {
      "metadata": {
        "id": "WfqZoj8E9i5R",
        "colab_type": "text"
      },
      "cell_type": "markdown",
      "source": [
        "## Example 10 - Render a DataFrame with NaN and None"
      ]
    },
    {
      "metadata": {
        "id": "7YUYtEXw9i5S",
        "colab_type": "code",
        "colab": {}
      },
      "cell_type": "code",
      "source": [
        "import pandas as pd\n",
        "import numpy as np\n",
        "import qgrid\n",
        "df = pd.DataFrame([(pd.Timestamp('2017-02-02'), None, 3.4), (np.nan, 2, 4.7), (pd.Timestamp('2017-02-03'), 3, None)])\n",
        "qgrid.show_grid(df)"
      ],
      "execution_count": 0,
      "outputs": []
    },
    {
      "metadata": {
        "id": "G7XHdIOG9i5T",
        "colab_type": "code",
        "colab": {}
      },
      "cell_type": "code",
      "source": [
        ""
      ],
      "execution_count": 0,
      "outputs": []
    }
  ]
}