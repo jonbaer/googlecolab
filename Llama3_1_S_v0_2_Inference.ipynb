{
  "cells": [
    {
      "cell_type": "markdown",
      "metadata": {
        "id": "view-in-github",
        "colab_type": "text"
      },
      "source": [
        "<a href=\"https://colab.research.google.com/github/jonbaer/googlecolab/blob/master/Llama3_1_S_v0_2_Inference.ipynb\" target=\"_parent\"><img src=\"https://colab.research.google.com/assets/colab-badge.svg\" alt=\"Open In Colab\"/></a>"
      ]
    },
    {
      "cell_type": "markdown",
      "metadata": {
        "id": "oUqUkptW4SIA"
      },
      "source": [
        "# A Sample Inference Code for LLAMA3.1-S-v0.2: A Speech Multimodal Model That Natively Understanding Audio and Text Input\n",
        "<div class=\"align-center\">\n",
        "  <img src=\"https://raw.githubusercontent.com/janhq/llama3-s/main/images/llama-listen.jpg\" width=\"200\"></a>\n",
        "  <p><small>Image source: <a href=\"https://www.amazon.co.uk/When-Llama-Learns-Listen-Feelings/dp/1839237988\">\"When Llama Learns to Listen\"</a></small></p>\n",
        "</div>"
      ]
    },
    {
      "cell_type": "markdown",
      "metadata": {
        "id": "7KvesFci4stp"
      },
      "source": [
        "## Install Dependencies"
      ]
    },
    {
      "cell_type": "code",
      "execution_count": null,
      "metadata": {
        "colab": {
          "base_uri": "https://localhost:8080/"
        },
        "id": "Hk6_z2lipub6",
        "outputId": "ac00a890-8efc-4cf6-f373-4f3264d7ec35"
      },
      "outputs": [
        {
          "output_type": "stream",
          "name": "stdout",
          "text": [
            "  Preparing metadata (setup.py) ... \u001b[?25l\u001b[?25hdone\n"
          ]
        },
        {
          "output_type": "execute_result",
          "data": {
            "text/plain": []
          },
          "metadata": {},
          "execution_count": 1
        }
      ],
      "source": [
        "%%shell\n",
        "pip install -q openai-whisper==20231117 IPython matplotlib vector_quantize_pytorch webdataset\n",
        "pip install -q git+https://github.com/homebrewltd/WhisperSpeech.git\n",
        "pip install -q -U transformers bitsandbytes"
      ]
    },
    {
      "cell_type": "code",
      "execution_count": null,
      "metadata": {
        "id": "HnXzI1k3pVEU"
      },
      "outputs": [],
      "source": [
        "import torch\n",
        "import torchaudio\n",
        "from whisperspeech.vq_stoks import RQBottleneckTransformer\n",
        "from transformers import AutoModelForCausalLM, AutoTokenizer, BitsAndBytesConfig, pipeline\n",
        "from huggingface_hub import hf_hub_download\n",
        "import os"
      ]
    },
    {
      "cell_type": "markdown",
      "metadata": {
        "id": "0QlS4FXO3wr9"
      },
      "source": [
        "## Download a sound requesting our model to code a random python script"
      ]
    },
    {
      "cell_type": "code",
      "execution_count": null,
      "metadata": {
        "id": "ptShpidIrILl",
        "colab": {
          "base_uri": "https://localhost:8080/"
        },
        "outputId": "e6375325-6a1b-48eb-cb57-2661814acc24"
      },
      "outputs": [
        {
          "output_type": "stream",
          "name": "stdout",
          "text": [
            "--2024-08-23 11:41:30--  https://docs.google.com/uc?export=download&id=1xwVCMtfDb_eRhuSSSP-_6SAiClQNZ9xp\n",
            "Resolving docs.google.com (docs.google.com)... 74.125.197.100, 74.125.197.101, 74.125.197.138, ...\n",
            "Connecting to docs.google.com (docs.google.com)|74.125.197.100|:443... connected.\n",
            "HTTP request sent, awaiting response... 303 See Other\n",
            "Location: https://drive.usercontent.google.com/download?id=1xwVCMtfDb_eRhuSSSP-_6SAiClQNZ9xp&export=download [following]\n",
            "--2024-08-23 11:41:30--  https://drive.usercontent.google.com/download?id=1xwVCMtfDb_eRhuSSSP-_6SAiClQNZ9xp&export=download\n",
            "Resolving drive.usercontent.google.com (drive.usercontent.google.com)... 172.253.117.132, 2607:f8b0:400e:c03::84\n",
            "Connecting to drive.usercontent.google.com (drive.usercontent.google.com)|172.253.117.132|:443... connected.\n",
            "HTTP request sent, awaiting response... 200 OK\n",
            "Length: 60972 (60K) [audio/wav]\n",
            "Saving to: ‘codeapythonscript.wav’\n",
            "\n",
            "codeapythonscript.w 100%[===================>]  59.54K  --.-KB/s    in 0.001s  \n",
            "\n",
            "2024-08-23 11:41:33 (98.1 MB/s) - ‘codeapythonscript.wav’ saved [60972/60972]\n",
            "\n",
            "--2024-08-23 11:41:33--  https://drive.google.com/uc?export=download&id=1IShlXCiNrY0QBs7TeKxOH2zoh3IzXRrF\n",
            "Resolving drive.google.com (drive.google.com)... 172.253.117.113, 172.253.117.138, 172.253.117.100, ...\n",
            "Connecting to drive.google.com (drive.google.com)|172.253.117.113|:443... connected.\n",
            "HTTP request sent, awaiting response... 303 See Other\n",
            "Location: https://drive.usercontent.google.com/download?id=1IShlXCiNrY0QBs7TeKxOH2zoh3IzXRrF&export=download [following]\n",
            "--2024-08-23 11:41:33--  https://drive.usercontent.google.com/download?id=1IShlXCiNrY0QBs7TeKxOH2zoh3IzXRrF&export=download\n",
            "Resolving drive.usercontent.google.com (drive.usercontent.google.com)... 172.253.117.132, 2607:f8b0:400e:c03::84\n",
            "Connecting to drive.usercontent.google.com (drive.usercontent.google.com)|172.253.117.132|:443... connected.\n",
            "HTTP request sent, awaiting response... 200 OK\n",
            "Length: 41516 (41K) [audio/wav]\n",
            "Saving to: ‘writeastory.wav’\n",
            "\n",
            "writeastory.wav     100%[===================>]  40.54K  --.-KB/s    in 0s      \n",
            "\n",
            "2024-08-23 11:41:34 (101 MB/s) - ‘writeastory.wav’ saved [41516/41516]\n",
            "\n"
          ]
        },
        {
          "output_type": "execute_result",
          "data": {
            "text/plain": []
          },
          "metadata": {},
          "execution_count": 3
        }
      ],
      "source": [
        "%%shell\n",
        "wget --no-check-certificate 'https://docs.google.com/uc?export=download&id=1xwVCMtfDb_eRhuSSSP-_6SAiClQNZ9xp' -O codeapythonscript.wav\n",
        "wget --no-check-certificate 'https://drive.google.com/uc?export=download&id=1IShlXCiNrY0QBs7TeKxOH2zoh3IzXRrF' -O writeastory.wav"
      ]
    },
    {
      "cell_type": "markdown",
      "metadata": {
        "id": "UEXAlp6N4CjV"
      },
      "source": [
        "## First, we need to convert the audio file to sound tokens"
      ]
    },
    {
      "cell_type": "code",
      "execution_count": null,
      "metadata": {
        "id": "yUzExSUQpOdB"
      },
      "outputs": [],
      "source": [
        "device = \"cuda\" if torch.cuda.is_available() else \"cpu\"\n",
        "if not os.path.exists(\"whisper-vq-stoks-medium-en+pl-fixed.model\"):\n",
        "    hf_hub_download(\n",
        "        repo_id=\"jan-hq/WhisperVQ\",\n",
        "        filename=\"whisper-vq-stoks-medium-en+pl-fixed.model\",\n",
        "        local_dir=\".\",\n",
        "    )\n",
        "vq_model = RQBottleneckTransformer.load_model(\n",
        "        \"whisper-vq-stoks-medium-en+pl-fixed.model\"\n",
        "    ).to(device)\n",
        "def audio_to_sound_tokens(audio_path, target_bandwidth=1.5, device=device):\n",
        "    vq_model.ensure_whisper(device)\n",
        "\n",
        "    wav, sr = torchaudio.load(audio_path)\n",
        "    if sr != 16000:\n",
        "        wav = torchaudio.functional.resample(wav, sr, 16000)\n",
        "    with torch.no_grad():\n",
        "        codes = vq_model.encode_audio(wav.to(device))\n",
        "        codes = codes[0].cpu().tolist()\n",
        "\n",
        "    result = ''.join(f'<|sound_{num:04d}|>' for num in codes)\n",
        "    return f'<|sound_start|>{result}<|sound_end|>'\n",
        "\n",
        "def audio_to_sound_tokens_transcript(audio_path, target_bandwidth=1.5, device=device):\n",
        "    vq_model.ensure_whisper(device)\n",
        "\n",
        "    wav, sr = torchaudio.load(audio_path)\n",
        "    if sr != 16000:\n",
        "        wav = torchaudio.functional.resample(wav, sr, 16000)\n",
        "    with torch.no_grad():\n",
        "        codes = vq_model.encode_audio(wav.to(device))\n",
        "        codes = codes[0].cpu().tolist()\n",
        "\n",
        "    result = ''.join(f'<|sound_{num:04d}|>' for num in codes)\n",
        "    return f'<|reserved_special_token_69|><|sound_start|>{result}<|sound_end|>'"
      ]
    },
    {
      "cell_type": "markdown",
      "metadata": {
        "id": "INNrP9vz4JBZ"
      },
      "source": [
        "## Then, we can inference the model the same as any other LLM."
      ]
    },
    {
      "cell_type": "code",
      "execution_count": null,
      "metadata": {
        "id": "gHiAHgWppPtf",
        "colab": {
          "base_uri": "https://localhost:8080/",
          "height": 194,
          "referenced_widgets": [
            "6ab8fead8154447e910177caf00cd1d3",
            "123abade16324a2b9ec4efe6f1b47c49",
            "aef07655b6b04798b846a93c9d25cf73",
            "fb78a7261fb94f3c91c4cf30abec2514",
            "bff98b2de3c64dc6b9f088507fdbe1c5",
            "4d239d731bf044e19acb2c0b424ebebd",
            "938318d86de34794bcc3ef25a07867e3",
            "da829b6ed8b4476bb3538811dd3aa842",
            "0f2ac6ed97694bf58641b459144a10fa",
            "2455237b8ecf417694ef3543008982f1",
            "effd6ad8addc403687ffe66d5322437a"
          ]
        },
        "outputId": "9b118ca5-b7ed-4780-82a5-4aeecfcc48df"
      },
      "outputs": [
        {
          "output_type": "stream",
          "name": "stderr",
          "text": [
            "/usr/local/lib/python3.10/dist-packages/huggingface_hub/utils/_token.py:89: UserWarning: \n",
            "The secret `HF_TOKEN` does not exist in your Colab secrets.\n",
            "To authenticate with the Hugging Face Hub, create a token in your settings tab (https://huggingface.co/settings/tokens), set it as secret in your Google Colab and restart your session.\n",
            "You will be able to reuse this secret in all of your notebooks.\n",
            "Please note that authentication is recommended but still optional to access public models or datasets.\n",
            "  warnings.warn(\n",
            "Unused kwargs: ['bnb_8bit_compute_dtype', 'bnb_8bit_use_double_quant']. These kwargs are not used in <class 'transformers.utils.quantization_config.BitsAndBytesConfig'>.\n"
          ]
        },
        {
          "output_type": "display_data",
          "data": {
            "text/plain": [
              "Loading checkpoint shards:   0%|          | 0/4 [00:00<?, ?it/s]"
            ],
            "application/vnd.jupyter.widget-view+json": {
              "version_major": 2,
              "version_minor": 0,
              "model_id": "6ab8fead8154447e910177caf00cd1d3"
            }
          },
          "metadata": {}
        }
      ],
      "source": [
        "def setup_pipeline(model_path, use_4bit=False, use_8bit=False):\n",
        "    tokenizer = AutoTokenizer.from_pretrained(model_path)\n",
        "\n",
        "    model_kwargs = {\"device_map\": \"auto\"}\n",
        "\n",
        "    if use_4bit:\n",
        "        model_kwargs[\"quantization_config\"] = BitsAndBytesConfig(\n",
        "            load_in_4bit=True,\n",
        "            bnb_4bit_compute_dtype=torch.bfloat16,\n",
        "            bnb_4bit_use_double_quant=True,\n",
        "            bnb_4bit_quant_type=\"nf4\",\n",
        "        )\n",
        "    elif use_8bit:\n",
        "        model_kwargs[\"quantization_config\"] = BitsAndBytesConfig(\n",
        "            load_in_8bit=True,\n",
        "            bnb_8bit_compute_dtype=torch.bfloat16,\n",
        "            bnb_8bit_use_double_quant=True,\n",
        "        )\n",
        "    else:\n",
        "        model_kwargs[\"torch_dtype\"] = torch.bfloat16\n",
        "\n",
        "    model = AutoModelForCausalLM.from_pretrained(model_path, **model_kwargs)\n",
        "\n",
        "    return pipeline(\"text-generation\", model=model, tokenizer=tokenizer)\n",
        "\n",
        "def generate_text(pipe, messages, max_new_tokens=64, temperature=0.0, do_sample=False):\n",
        "    generation_args = {\n",
        "        \"max_new_tokens\": max_new_tokens,\n",
        "        \"return_full_text\": False,\n",
        "        \"temperature\": temperature,\n",
        "        \"do_sample\": do_sample,\n",
        "    }\n",
        "\n",
        "    output = pipe(messages, **generation_args)\n",
        "    return output[0]['generated_text']\n",
        "\n",
        "# Usage\n",
        "llm_path = \"homebrewltd/llama3.1-s-instruct-v0.2\"\n",
        "pipe = setup_pipeline(llm_path, use_8bit=True)"
      ]
    },
    {
      "cell_type": "markdown",
      "metadata": {
        "id": "CWl_BmnhFUun"
      },
      "source": [
        "### Code generation"
      ]
    },
    {
      "cell_type": "code",
      "execution_count": null,
      "metadata": {
        "id": "tihXrDivD9Bk",
        "colab": {
          "base_uri": "https://localhost:8080/"
        },
        "outputId": "abbab960-60da-43dd-86d0-a7d5f95ba0c8"
      },
      "outputs": [
        {
          "output_type": "stream",
          "name": "stderr",
          "text": [
            "/usr/local/lib/python3.10/dist-packages/transformers/generation/configuration_utils.py:567: UserWarning: `do_sample` is set to `False`. However, `temperature` is set to `0.0` -- this flag is only used in sample-based generation modes. You should set `do_sample=True` or unset `temperature`.\n",
            "  warnings.warn(\n",
            "Setting `pad_token_id` to `eos_token_id`:128001 for open-end generation.\n"
          ]
        },
        {
          "output_type": "stream",
          "name": "stdout",
          "text": [
            "--------------------------------------------------\n",
            "# Model Output:  Sure, here is a simple Python script that uses the `pandas` library to read a CSV file and then writes it to a SQL database using `sqlalchemy`.\n",
            "\n",
            "```python\n",
            "import pandas as pd\n",
            "from sqlalchemy import create_engine\n",
            "\n",
            "# Read the CSV file\n",
            "df = pd.read_csv('your_file.csv')\n",
            "\n",
            "\n"
          ]
        }
      ],
      "source": [
        "# Usage\n",
        "sound_tokens = audio_to_sound_tokens(\"codeapythonscript.wav\")\n",
        "\n",
        "messages = [\n",
        "    {\"role\": \"user\", \"content\": sound_tokens},\n",
        "]\n",
        "generated_text = generate_text(pipe, messages)\n",
        "\n",
        "print(\"-\"*50)\n",
        "print(\"# Model Output: \", generated_text)"
      ]
    },
    {
      "cell_type": "markdown",
      "metadata": {
        "id": "dNFerZYZFYuI"
      },
      "source": [
        "### Story creation"
      ]
    },
    {
      "cell_type": "code",
      "execution_count": null,
      "metadata": {
        "id": "Rjo0rItwF3BT",
        "colab": {
          "base_uri": "https://localhost:8080/"
        },
        "outputId": "3e452851-1e70-4220-d045-7f0538b9d5d6"
      },
      "outputs": [
        {
          "output_type": "stream",
          "name": "stderr",
          "text": [
            "Setting `pad_token_id` to `eos_token_id`:128001 for open-end generation.\n"
          ]
        },
        {
          "output_type": "stream",
          "name": "stdout",
          "text": [
            "--------------------------------------------------\n",
            "# Model Output:  Once upon a time, in a small village nestled between the mountains and the sea, lived a young girl named Lily. She was known for her radiant smile and her kind heart. Lily had a unique gift; she could communicate with animals. This gift was a secret she kept hidden from the villagers, fearing they would not\n"
          ]
        }
      ],
      "source": [
        "# Usage\n",
        "sound_tokens = audio_to_sound_tokens(\"writeastory.wav\")\n",
        "\n",
        "messages = [\n",
        "    {\"role\": \"user\", \"content\": sound_tokens},\n",
        "]\n",
        "generated_text = generate_text(pipe, messages)\n",
        "\n",
        "print(\"-\"*50)\n",
        "print(\"# Model Output: \", generated_text)"
      ]
    },
    {
      "cell_type": "markdown",
      "source": [
        "### We can also make model transcripe the audio by adding the \"<|reserved_special_token_69|>\" token\n"
      ],
      "metadata": {
        "id": "rpIz8489Y8aE"
      }
    },
    {
      "cell_type": "code",
      "source": [
        "sound_tokens = audio_to_sound_tokens_transcript(\"writeastory.wav\")\n",
        "\n",
        "messages = [\n",
        "    {\"role\": \"user\", \"content\": sound_tokens},\n",
        "]\n",
        "generated_text = generate_text(pipe, messages)\n",
        "\n",
        "print(\"-\"*50)\n",
        "print(\"# Model Output: \", generated_text)"
      ],
      "metadata": {
        "id": "NP7mFHmLZHXl",
        "colab": {
          "base_uri": "https://localhost:8080/"
        },
        "outputId": "d1f64693-8a8d-484b-b268-e8be13e2efcf"
      },
      "execution_count": null,
      "outputs": [
        {
          "output_type": "stream",
          "name": "stderr",
          "text": [
            "Setting `pad_token_id` to `eos_token_id`:128001 for open-end generation.\n"
          ]
        },
        {
          "output_type": "stream",
          "name": "stdout",
          "text": [
            "--------------------------------------------------\n",
            "# Model Output:  Write a story\n"
          ]
        }
      ]
    }
  ],
  "metadata": {
    "accelerator": "GPU",
    "colab": {
      "gpuType": "T4",
      "provenance": [],
      "include_colab_link": true
    },
    "kernelspec": {
      "display_name": "Python 3",
      "name": "python3"
    },
    "widgets": {
      "application/vnd.jupyter.widget-state+json": {
        "6ab8fead8154447e910177caf00cd1d3": {
          "model_module": "@jupyter-widgets/controls",
          "model_name": "HBoxModel",
          "model_module_version": "1.5.0",
          "state": {
            "_dom_classes": [],
            "_model_module": "@jupyter-widgets/controls",
            "_model_module_version": "1.5.0",
            "_model_name": "HBoxModel",
            "_view_count": null,
            "_view_module": "@jupyter-widgets/controls",
            "_view_module_version": "1.5.0",
            "_view_name": "HBoxView",
            "box_style": "",
            "children": [
              "IPY_MODEL_123abade16324a2b9ec4efe6f1b47c49",
              "IPY_MODEL_aef07655b6b04798b846a93c9d25cf73",
              "IPY_MODEL_fb78a7261fb94f3c91c4cf30abec2514"
            ],
            "layout": "IPY_MODEL_bff98b2de3c64dc6b9f088507fdbe1c5"
          }
        },
        "123abade16324a2b9ec4efe6f1b47c49": {
          "model_module": "@jupyter-widgets/controls",
          "model_name": "HTMLModel",
          "model_module_version": "1.5.0",
          "state": {
            "_dom_classes": [],
            "_model_module": "@jupyter-widgets/controls",
            "_model_module_version": "1.5.0",
            "_model_name": "HTMLModel",
            "_view_count": null,
            "_view_module": "@jupyter-widgets/controls",
            "_view_module_version": "1.5.0",
            "_view_name": "HTMLView",
            "description": "",
            "description_tooltip": null,
            "layout": "IPY_MODEL_4d239d731bf044e19acb2c0b424ebebd",
            "placeholder": "​",
            "style": "IPY_MODEL_938318d86de34794bcc3ef25a07867e3",
            "value": "Loading checkpoint shards: 100%"
          }
        },
        "aef07655b6b04798b846a93c9d25cf73": {
          "model_module": "@jupyter-widgets/controls",
          "model_name": "FloatProgressModel",
          "model_module_version": "1.5.0",
          "state": {
            "_dom_classes": [],
            "_model_module": "@jupyter-widgets/controls",
            "_model_module_version": "1.5.0",
            "_model_name": "FloatProgressModel",
            "_view_count": null,
            "_view_module": "@jupyter-widgets/controls",
            "_view_module_version": "1.5.0",
            "_view_name": "ProgressView",
            "bar_style": "success",
            "description": "",
            "description_tooltip": null,
            "layout": "IPY_MODEL_da829b6ed8b4476bb3538811dd3aa842",
            "max": 4,
            "min": 0,
            "orientation": "horizontal",
            "style": "IPY_MODEL_0f2ac6ed97694bf58641b459144a10fa",
            "value": 4
          }
        },
        "fb78a7261fb94f3c91c4cf30abec2514": {
          "model_module": "@jupyter-widgets/controls",
          "model_name": "HTMLModel",
          "model_module_version": "1.5.0",
          "state": {
            "_dom_classes": [],
            "_model_module": "@jupyter-widgets/controls",
            "_model_module_version": "1.5.0",
            "_model_name": "HTMLModel",
            "_view_count": null,
            "_view_module": "@jupyter-widgets/controls",
            "_view_module_version": "1.5.0",
            "_view_name": "HTMLView",
            "description": "",
            "description_tooltip": null,
            "layout": "IPY_MODEL_2455237b8ecf417694ef3543008982f1",
            "placeholder": "​",
            "style": "IPY_MODEL_effd6ad8addc403687ffe66d5322437a",
            "value": " 4/4 [01:23&lt;00:00, 18.04s/it]"
          }
        },
        "bff98b2de3c64dc6b9f088507fdbe1c5": {
          "model_module": "@jupyter-widgets/base",
          "model_name": "LayoutModel",
          "model_module_version": "1.2.0",
          "state": {
            "_model_module": "@jupyter-widgets/base",
            "_model_module_version": "1.2.0",
            "_model_name": "LayoutModel",
            "_view_count": null,
            "_view_module": "@jupyter-widgets/base",
            "_view_module_version": "1.2.0",
            "_view_name": "LayoutView",
            "align_content": null,
            "align_items": null,
            "align_self": null,
            "border": null,
            "bottom": null,
            "display": null,
            "flex": null,
            "flex_flow": null,
            "grid_area": null,
            "grid_auto_columns": null,
            "grid_auto_flow": null,
            "grid_auto_rows": null,
            "grid_column": null,
            "grid_gap": null,
            "grid_row": null,
            "grid_template_areas": null,
            "grid_template_columns": null,
            "grid_template_rows": null,
            "height": null,
            "justify_content": null,
            "justify_items": null,
            "left": null,
            "margin": null,
            "max_height": null,
            "max_width": null,
            "min_height": null,
            "min_width": null,
            "object_fit": null,
            "object_position": null,
            "order": null,
            "overflow": null,
            "overflow_x": null,
            "overflow_y": null,
            "padding": null,
            "right": null,
            "top": null,
            "visibility": null,
            "width": null
          }
        },
        "4d239d731bf044e19acb2c0b424ebebd": {
          "model_module": "@jupyter-widgets/base",
          "model_name": "LayoutModel",
          "model_module_version": "1.2.0",
          "state": {
            "_model_module": "@jupyter-widgets/base",
            "_model_module_version": "1.2.0",
            "_model_name": "LayoutModel",
            "_view_count": null,
            "_view_module": "@jupyter-widgets/base",
            "_view_module_version": "1.2.0",
            "_view_name": "LayoutView",
            "align_content": null,
            "align_items": null,
            "align_self": null,
            "border": null,
            "bottom": null,
            "display": null,
            "flex": null,
            "flex_flow": null,
            "grid_area": null,
            "grid_auto_columns": null,
            "grid_auto_flow": null,
            "grid_auto_rows": null,
            "grid_column": null,
            "grid_gap": null,
            "grid_row": null,
            "grid_template_areas": null,
            "grid_template_columns": null,
            "grid_template_rows": null,
            "height": null,
            "justify_content": null,
            "justify_items": null,
            "left": null,
            "margin": null,
            "max_height": null,
            "max_width": null,
            "min_height": null,
            "min_width": null,
            "object_fit": null,
            "object_position": null,
            "order": null,
            "overflow": null,
            "overflow_x": null,
            "overflow_y": null,
            "padding": null,
            "right": null,
            "top": null,
            "visibility": null,
            "width": null
          }
        },
        "938318d86de34794bcc3ef25a07867e3": {
          "model_module": "@jupyter-widgets/controls",
          "model_name": "DescriptionStyleModel",
          "model_module_version": "1.5.0",
          "state": {
            "_model_module": "@jupyter-widgets/controls",
            "_model_module_version": "1.5.0",
            "_model_name": "DescriptionStyleModel",
            "_view_count": null,
            "_view_module": "@jupyter-widgets/base",
            "_view_module_version": "1.2.0",
            "_view_name": "StyleView",
            "description_width": ""
          }
        },
        "da829b6ed8b4476bb3538811dd3aa842": {
          "model_module": "@jupyter-widgets/base",
          "model_name": "LayoutModel",
          "model_module_version": "1.2.0",
          "state": {
            "_model_module": "@jupyter-widgets/base",
            "_model_module_version": "1.2.0",
            "_model_name": "LayoutModel",
            "_view_count": null,
            "_view_module": "@jupyter-widgets/base",
            "_view_module_version": "1.2.0",
            "_view_name": "LayoutView",
            "align_content": null,
            "align_items": null,
            "align_self": null,
            "border": null,
            "bottom": null,
            "display": null,
            "flex": null,
            "flex_flow": null,
            "grid_area": null,
            "grid_auto_columns": null,
            "grid_auto_flow": null,
            "grid_auto_rows": null,
            "grid_column": null,
            "grid_gap": null,
            "grid_row": null,
            "grid_template_areas": null,
            "grid_template_columns": null,
            "grid_template_rows": null,
            "height": null,
            "justify_content": null,
            "justify_items": null,
            "left": null,
            "margin": null,
            "max_height": null,
            "max_width": null,
            "min_height": null,
            "min_width": null,
            "object_fit": null,
            "object_position": null,
            "order": null,
            "overflow": null,
            "overflow_x": null,
            "overflow_y": null,
            "padding": null,
            "right": null,
            "top": null,
            "visibility": null,
            "width": null
          }
        },
        "0f2ac6ed97694bf58641b459144a10fa": {
          "model_module": "@jupyter-widgets/controls",
          "model_name": "ProgressStyleModel",
          "model_module_version": "1.5.0",
          "state": {
            "_model_module": "@jupyter-widgets/controls",
            "_model_module_version": "1.5.0",
            "_model_name": "ProgressStyleModel",
            "_view_count": null,
            "_view_module": "@jupyter-widgets/base",
            "_view_module_version": "1.2.0",
            "_view_name": "StyleView",
            "bar_color": null,
            "description_width": ""
          }
        },
        "2455237b8ecf417694ef3543008982f1": {
          "model_module": "@jupyter-widgets/base",
          "model_name": "LayoutModel",
          "model_module_version": "1.2.0",
          "state": {
            "_model_module": "@jupyter-widgets/base",
            "_model_module_version": "1.2.0",
            "_model_name": "LayoutModel",
            "_view_count": null,
            "_view_module": "@jupyter-widgets/base",
            "_view_module_version": "1.2.0",
            "_view_name": "LayoutView",
            "align_content": null,
            "align_items": null,
            "align_self": null,
            "border": null,
            "bottom": null,
            "display": null,
            "flex": null,
            "flex_flow": null,
            "grid_area": null,
            "grid_auto_columns": null,
            "grid_auto_flow": null,
            "grid_auto_rows": null,
            "grid_column": null,
            "grid_gap": null,
            "grid_row": null,
            "grid_template_areas": null,
            "grid_template_columns": null,
            "grid_template_rows": null,
            "height": null,
            "justify_content": null,
            "justify_items": null,
            "left": null,
            "margin": null,
            "max_height": null,
            "max_width": null,
            "min_height": null,
            "min_width": null,
            "object_fit": null,
            "object_position": null,
            "order": null,
            "overflow": null,
            "overflow_x": null,
            "overflow_y": null,
            "padding": null,
            "right": null,
            "top": null,
            "visibility": null,
            "width": null
          }
        },
        "effd6ad8addc403687ffe66d5322437a": {
          "model_module": "@jupyter-widgets/controls",
          "model_name": "DescriptionStyleModel",
          "model_module_version": "1.5.0",
          "state": {
            "_model_module": "@jupyter-widgets/controls",
            "_model_module_version": "1.5.0",
            "_model_name": "DescriptionStyleModel",
            "_view_count": null,
            "_view_module": "@jupyter-widgets/base",
            "_view_module_version": "1.2.0",
            "_view_name": "StyleView",
            "description_width": ""
          }
        }
      }
    }
  },
  "nbformat": 4,
  "nbformat_minor": 0
}