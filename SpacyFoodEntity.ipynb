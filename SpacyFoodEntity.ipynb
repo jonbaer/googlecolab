{
  "nbformat": 4,
  "nbformat_minor": 0,
  "metadata": {
    "orig_nbformat": 2,
    "deepnote_notebook_id": "2349ad22-a0ab-4193-ba7d-02d7ff2977d0",
    "deepnote_execution_queue": [],
    "deepnote": {},
    "colab": {
      "name": "SpacyFoodEntity.ipynb",
      "provenance": [],
      "include_colab_link": true
    },
    "language_info": {
      "name": "python"
    },
    "kernelspec": {
      "name": "python3",
      "display_name": "Python 3"
    }
  },
  "cells": [
    {
      "cell_type": "markdown",
      "metadata": {
        "id": "view-in-github",
        "colab_type": "text"
      },
      "source": [
        "<a href=\"https://colab.research.google.com/github/jonbaer/googlecolab/blob/master/SpacyFoodEntity.ipynb\" target=\"_parent\"><img src=\"https://colab.research.google.com/assets/colab-badge.svg\" alt=\"Open In Colab\"/></a>"
      ]
    },
    {
      "cell_type": "markdown",
      "metadata": {
        "tags": [],
        "cell_id": "00000-340698f8-28eb-49e0-aaa6-b0c779ebc761",
        "output_cleared": false,
        "deepnote_cell_type": "markdown",
        "id": "mxy7oE2JO0MB"
      },
      "source": [
        "# Training spaCy's NER Model to Identify Food Entities\n"
      ]
    },
    {
      "cell_type": "markdown",
      "metadata": {
        "tags": [],
        "cell_id": "00000-0c051677-d46b-47b9-99ce-330312600376",
        "output_cleared": false,
        "deepnote_cell_type": "markdown",
        "id": "v4bCp1AsO0MC"
      },
      "source": [
        "As a [side project](https://niahealth.co/), I'm building an app that makes nutrition tracking as effortless as having a conversation.\n",
        "To do this, I'll be making use of [spaCy](https://spacy.io/) for natural language processing (NLP).\n",
        "\n",
        "In this notebook, we'll be training spaCy to identify `FOOD` entities from a body of text - a task known as named-entity recognition (NER). If all goes well, we should be able to identify the foods from the following sentences:\n",
        "\n",
        "- I decided to have `chocolate ice cream` as a little treat for myself.\n",
        "- I had a `hamburger` and `chips` for lunch today.\n",
        "- I ordered `basmati rice`, `leaf spinach` and `cheese` from Tesco yesterday.\n",
        "\n",
        "spaCy has a NER accuracy of [85.85%](https://spacy.io/usage/facts-figures), so something in that range would be nice for our `FOOD` entities. \n",
        "\n",
        "#### Approach\n",
        "We'll use the following approach:\n",
        "\n",
        "1. Generate sentences with `FOOD` entities.\n",
        "2. Generate sentences with **existing** [spaCy entities](https://spacy.io/usage/linguistic-features#named-entities) to avoid the [catastrophic forgetting](https://explosion.ai/blog/pseudo-rehearsal-catastrophic-forgetting) problem.\n",
        "3. Train spaCy NER with the existing entities and the custom `FOOD` entities. Stir until good enough.\n",
        "\n",
        "#### Results\n",
        "\n",
        "Category | Results\n",
        "---|---------\n",
        "`FOOD` Entities | 94.14%\n",
        "Existing Entities | 71.32%\n",
        "\n",
        "<br>\n",
        "\n",
        "See the Evaluation and Results section for a full breakdown."
      ]
    },
    {
      "cell_type": "code",
      "metadata": {
        "tags": [],
        "cell_id": "00002-ea0a5597-ca7c-4244-af55-c876a462969f",
        "output_cleared": false,
        "source_hash": "d9473e29",
        "execution_millis": 73272,
        "execution_start": 1635889832018,
        "deepnote_to_be_reexecuted": false,
        "deepnote_cell_type": "code",
        "colab": {
          "base_uri": "https://localhost:8080/"
        },
        "id": "OARAVAb5O0MD",
        "outputId": "7b54e07b-7184-4148-a157-580db4f3625c"
      },
      "source": [
        "# download spacy language model\n",
        "!python -m spacy download en_core_web_lg"
      ],
      "execution_count": null,
      "outputs": [
        {
          "output_type": "stream",
          "name": "stdout",
          "text": [
            "Collecting en_core_web_lg==2.2.5\n",
            "  Downloading https://github.com/explosion/spacy-models/releases/download/en_core_web_lg-2.2.5/en_core_web_lg-2.2.5.tar.gz (827.9 MB)\n",
            "\u001b[K     |█████████████████████████████▋  | 764.7 MB 1.2 MB/s eta 0:00:53"
          ]
        }
      ]
    },
    {
      "cell_type": "code",
      "metadata": {
        "tags": [],
        "cell_id": "00003-36147090-4896-430c-bfa0-1941a1c76126",
        "output_cleared": false,
        "source_hash": "bdad20c8",
        "execution_millis": 12589,
        "execution_start": 1635889905303,
        "deepnote_to_be_reexecuted": false,
        "deepnote_cell_type": "code",
        "id": "zpfiXViMO0ME"
      },
      "source": [
        "# import libraries\n",
        "import en_core_web_lg\n",
        "import pandas as pd\n",
        "import re\n",
        "import random\n",
        "import spacy\n",
        "from spacy.util import minibatch, compounding\n",
        "import warnings\n",
        "import matplotlib.pyplot as plt"
      ],
      "execution_count": null,
      "outputs": []
    },
    {
      "cell_type": "markdown",
      "metadata": {
        "tags": [],
        "cell_id": "00004-2299f998-a57b-496b-864d-01604de008aa",
        "output_cleared": false,
        "deepnote_cell_type": "markdown",
        "id": "-DcBr722O0ME"
      },
      "source": [
        "## Generating Food Data\n",
        "\n",
        "We'll be using food data from the USDA's [Branded Food's dataset](https://fdc.nal.usda.gov/download-datasets.html)."
      ]
    },
    {
      "cell_type": "markdown",
      "metadata": {
        "tags": [],
        "cell_id": "00005-6065fa77-431c-492d-b533-0aa100ff5265",
        "output_cleared": false,
        "deepnote_cell_type": "markdown",
        "id": "wEqnizO-O0MF"
      },
      "source": [
        "### Preparing the food data"
      ]
    },
    {
      "cell_type": "code",
      "metadata": {
        "tags": [],
        "cell_id": "00000-e64a109f-7da3-43f5-bfc0-71a00dfb3e2e",
        "output_cleared": false,
        "source_hash": "c821cdef",
        "execution_millis": 1955,
        "execution_start": 1635889917918,
        "deepnote_to_be_reexecuted": false,
        "deepnote_cell_type": "code",
        "id": "ja7pS7FdO0MF",
        "outputId": "e1f82582-13b8-42e7-9de7-941b9a9548eb"
      },
      "source": [
        "# read in the food csv file\n",
        "food_df = pd.read_csv(\"food.csv\")\n",
        "\n",
        "# print row and column information\n",
        "food_df.head()"
      ],
      "execution_count": null,
      "outputs": [
        {
          "output_type": "error",
          "ename": "FileNotFoundError",
          "evalue": "[Errno 2] No such file or directory: 'food.csv'",
          "traceback": [
            "\u001b[0;31m---------------------------------------------------------------------------\u001b[0m",
            "\u001b[0;31mFileNotFoundError\u001b[0m                         Traceback (most recent call last)",
            "\u001b[0;32m<ipython-input-3-d1e5ec5fbe92>\u001b[0m in \u001b[0;36m<module>\u001b[0;34m\u001b[0m\n\u001b[1;32m      1\u001b[0m \u001b[0;31m# read in the food csv file\u001b[0m\u001b[0;34m\u001b[0m\u001b[0;34m\u001b[0m\u001b[0;34m\u001b[0m\u001b[0m\n\u001b[0;32m----> 2\u001b[0;31m \u001b[0mfood_df\u001b[0m \u001b[0;34m=\u001b[0m \u001b[0mpd\u001b[0m\u001b[0;34m.\u001b[0m\u001b[0mread_csv\u001b[0m\u001b[0;34m(\u001b[0m\u001b[0;34m\"food.csv\"\u001b[0m\u001b[0;34m)\u001b[0m\u001b[0;34m\u001b[0m\u001b[0;34m\u001b[0m\u001b[0m\n\u001b[0m\u001b[1;32m      3\u001b[0m \u001b[0;34m\u001b[0m\u001b[0m\n\u001b[1;32m      4\u001b[0m \u001b[0;31m# print row and column information\u001b[0m\u001b[0;34m\u001b[0m\u001b[0;34m\u001b[0m\u001b[0;34m\u001b[0m\u001b[0m\n\u001b[1;32m      5\u001b[0m \u001b[0mfood_df\u001b[0m\u001b[0;34m.\u001b[0m\u001b[0mhead\u001b[0m\u001b[0;34m(\u001b[0m\u001b[0;34m)\u001b[0m\u001b[0;34m\u001b[0m\u001b[0;34m\u001b[0m\u001b[0m\n",
            "\u001b[0;32m/shared-libs/python3.7/py/lib/python3.7/site-packages/pandas/io/parsers.py\u001b[0m in \u001b[0;36mread_csv\u001b[0;34m(filepath_or_buffer, sep, delimiter, header, names, index_col, usecols, squeeze, prefix, mangle_dupe_cols, dtype, engine, converters, true_values, false_values, skipinitialspace, skiprows, skipfooter, nrows, na_values, keep_default_na, na_filter, verbose, skip_blank_lines, parse_dates, infer_datetime_format, keep_date_col, date_parser, dayfirst, cache_dates, iterator, chunksize, compression, thousands, decimal, lineterminator, quotechar, quoting, doublequote, escapechar, comment, encoding, dialect, error_bad_lines, warn_bad_lines, delim_whitespace, low_memory, memory_map, float_precision, storage_options)\u001b[0m\n\u001b[1;32m    608\u001b[0m     \u001b[0mkwds\u001b[0m\u001b[0;34m.\u001b[0m\u001b[0mupdate\u001b[0m\u001b[0;34m(\u001b[0m\u001b[0mkwds_defaults\u001b[0m\u001b[0;34m)\u001b[0m\u001b[0;34m\u001b[0m\u001b[0;34m\u001b[0m\u001b[0m\n\u001b[1;32m    609\u001b[0m \u001b[0;34m\u001b[0m\u001b[0m\n\u001b[0;32m--> 610\u001b[0;31m     \u001b[0;32mreturn\u001b[0m \u001b[0m_read\u001b[0m\u001b[0;34m(\u001b[0m\u001b[0mfilepath_or_buffer\u001b[0m\u001b[0;34m,\u001b[0m \u001b[0mkwds\u001b[0m\u001b[0;34m)\u001b[0m\u001b[0;34m\u001b[0m\u001b[0;34m\u001b[0m\u001b[0m\n\u001b[0m\u001b[1;32m    611\u001b[0m \u001b[0;34m\u001b[0m\u001b[0m\n\u001b[1;32m    612\u001b[0m \u001b[0;34m\u001b[0m\u001b[0m\n",
            "\u001b[0;32m/shared-libs/python3.7/py/lib/python3.7/site-packages/pandas/io/parsers.py\u001b[0m in \u001b[0;36m_read\u001b[0;34m(filepath_or_buffer, kwds)\u001b[0m\n\u001b[1;32m    460\u001b[0m \u001b[0;34m\u001b[0m\u001b[0m\n\u001b[1;32m    461\u001b[0m     \u001b[0;31m# Create the parser.\u001b[0m\u001b[0;34m\u001b[0m\u001b[0;34m\u001b[0m\u001b[0;34m\u001b[0m\u001b[0m\n\u001b[0;32m--> 462\u001b[0;31m     \u001b[0mparser\u001b[0m \u001b[0;34m=\u001b[0m \u001b[0mTextFileReader\u001b[0m\u001b[0;34m(\u001b[0m\u001b[0mfilepath_or_buffer\u001b[0m\u001b[0;34m,\u001b[0m \u001b[0;34m**\u001b[0m\u001b[0mkwds\u001b[0m\u001b[0;34m)\u001b[0m\u001b[0;34m\u001b[0m\u001b[0;34m\u001b[0m\u001b[0m\n\u001b[0m\u001b[1;32m    463\u001b[0m \u001b[0;34m\u001b[0m\u001b[0m\n\u001b[1;32m    464\u001b[0m     \u001b[0;32mif\u001b[0m \u001b[0mchunksize\u001b[0m \u001b[0;32mor\u001b[0m \u001b[0miterator\u001b[0m\u001b[0;34m:\u001b[0m\u001b[0;34m\u001b[0m\u001b[0;34m\u001b[0m\u001b[0m\n",
            "\u001b[0;32m/shared-libs/python3.7/py/lib/python3.7/site-packages/pandas/io/parsers.py\u001b[0m in \u001b[0;36m__init__\u001b[0;34m(self, f, engine, **kwds)\u001b[0m\n\u001b[1;32m    817\u001b[0m             \u001b[0mself\u001b[0m\u001b[0;34m.\u001b[0m\u001b[0moptions\u001b[0m\u001b[0;34m[\u001b[0m\u001b[0;34m\"has_index_names\"\u001b[0m\u001b[0;34m]\u001b[0m \u001b[0;34m=\u001b[0m \u001b[0mkwds\u001b[0m\u001b[0;34m[\u001b[0m\u001b[0;34m\"has_index_names\"\u001b[0m\u001b[0;34m]\u001b[0m\u001b[0;34m\u001b[0m\u001b[0;34m\u001b[0m\u001b[0m\n\u001b[1;32m    818\u001b[0m \u001b[0;34m\u001b[0m\u001b[0m\n\u001b[0;32m--> 819\u001b[0;31m         \u001b[0mself\u001b[0m\u001b[0;34m.\u001b[0m\u001b[0m_engine\u001b[0m \u001b[0;34m=\u001b[0m \u001b[0mself\u001b[0m\u001b[0;34m.\u001b[0m\u001b[0m_make_engine\u001b[0m\u001b[0;34m(\u001b[0m\u001b[0mself\u001b[0m\u001b[0;34m.\u001b[0m\u001b[0mengine\u001b[0m\u001b[0;34m)\u001b[0m\u001b[0;34m\u001b[0m\u001b[0;34m\u001b[0m\u001b[0m\n\u001b[0m\u001b[1;32m    820\u001b[0m \u001b[0;34m\u001b[0m\u001b[0m\n\u001b[1;32m    821\u001b[0m     \u001b[0;32mdef\u001b[0m \u001b[0mclose\u001b[0m\u001b[0;34m(\u001b[0m\u001b[0mself\u001b[0m\u001b[0;34m)\u001b[0m\u001b[0;34m:\u001b[0m\u001b[0;34m\u001b[0m\u001b[0;34m\u001b[0m\u001b[0m\n",
            "\u001b[0;32m/shared-libs/python3.7/py/lib/python3.7/site-packages/pandas/io/parsers.py\u001b[0m in \u001b[0;36m_make_engine\u001b[0;34m(self, engine)\u001b[0m\n\u001b[1;32m   1048\u001b[0m             )\n\u001b[1;32m   1049\u001b[0m         \u001b[0;31m# error: Too many arguments for \"ParserBase\"\u001b[0m\u001b[0;34m\u001b[0m\u001b[0;34m\u001b[0m\u001b[0;34m\u001b[0m\u001b[0m\n\u001b[0;32m-> 1050\u001b[0;31m         \u001b[0;32mreturn\u001b[0m \u001b[0mmapping\u001b[0m\u001b[0;34m[\u001b[0m\u001b[0mengine\u001b[0m\u001b[0;34m]\u001b[0m\u001b[0;34m(\u001b[0m\u001b[0mself\u001b[0m\u001b[0;34m.\u001b[0m\u001b[0mf\u001b[0m\u001b[0;34m,\u001b[0m \u001b[0;34m**\u001b[0m\u001b[0mself\u001b[0m\u001b[0;34m.\u001b[0m\u001b[0moptions\u001b[0m\u001b[0;34m)\u001b[0m  \u001b[0;31m# type: ignore[call-arg]\u001b[0m\u001b[0;34m\u001b[0m\u001b[0;34m\u001b[0m\u001b[0m\n\u001b[0m\u001b[1;32m   1051\u001b[0m \u001b[0;34m\u001b[0m\u001b[0m\n\u001b[1;32m   1052\u001b[0m     \u001b[0;32mdef\u001b[0m \u001b[0m_failover_to_python\u001b[0m\u001b[0;34m(\u001b[0m\u001b[0mself\u001b[0m\u001b[0;34m)\u001b[0m\u001b[0;34m:\u001b[0m\u001b[0;34m\u001b[0m\u001b[0;34m\u001b[0m\u001b[0m\n",
            "\u001b[0;32m/shared-libs/python3.7/py/lib/python3.7/site-packages/pandas/io/parsers.py\u001b[0m in \u001b[0;36m__init__\u001b[0;34m(self, src, **kwds)\u001b[0m\n\u001b[1;32m   1865\u001b[0m \u001b[0;34m\u001b[0m\u001b[0m\n\u001b[1;32m   1866\u001b[0m         \u001b[0;31m# open handles\u001b[0m\u001b[0;34m\u001b[0m\u001b[0;34m\u001b[0m\u001b[0;34m\u001b[0m\u001b[0m\n\u001b[0;32m-> 1867\u001b[0;31m         \u001b[0mself\u001b[0m\u001b[0;34m.\u001b[0m\u001b[0m_open_handles\u001b[0m\u001b[0;34m(\u001b[0m\u001b[0msrc\u001b[0m\u001b[0;34m,\u001b[0m \u001b[0mkwds\u001b[0m\u001b[0;34m)\u001b[0m\u001b[0;34m\u001b[0m\u001b[0;34m\u001b[0m\u001b[0m\n\u001b[0m\u001b[1;32m   1868\u001b[0m         \u001b[0;32massert\u001b[0m \u001b[0mself\u001b[0m\u001b[0;34m.\u001b[0m\u001b[0mhandles\u001b[0m \u001b[0;32mis\u001b[0m \u001b[0;32mnot\u001b[0m \u001b[0;32mNone\u001b[0m\u001b[0;34m\u001b[0m\u001b[0;34m\u001b[0m\u001b[0m\n\u001b[1;32m   1869\u001b[0m         \u001b[0;32mfor\u001b[0m \u001b[0mkey\u001b[0m \u001b[0;32min\u001b[0m \u001b[0;34m(\u001b[0m\u001b[0;34m\"storage_options\"\u001b[0m\u001b[0;34m,\u001b[0m \u001b[0;34m\"encoding\"\u001b[0m\u001b[0;34m,\u001b[0m \u001b[0;34m\"memory_map\"\u001b[0m\u001b[0;34m,\u001b[0m \u001b[0;34m\"compression\"\u001b[0m\u001b[0;34m)\u001b[0m\u001b[0;34m:\u001b[0m\u001b[0;34m\u001b[0m\u001b[0;34m\u001b[0m\u001b[0m\n",
            "\u001b[0;32m/shared-libs/python3.7/py/lib/python3.7/site-packages/pandas/io/parsers.py\u001b[0m in \u001b[0;36m_open_handles\u001b[0;34m(self, src, kwds)\u001b[0m\n\u001b[1;32m   1366\u001b[0m             \u001b[0mcompression\u001b[0m\u001b[0;34m=\u001b[0m\u001b[0mkwds\u001b[0m\u001b[0;34m.\u001b[0m\u001b[0mget\u001b[0m\u001b[0;34m(\u001b[0m\u001b[0;34m\"compression\"\u001b[0m\u001b[0;34m,\u001b[0m \u001b[0;32mNone\u001b[0m\u001b[0;34m)\u001b[0m\u001b[0;34m,\u001b[0m\u001b[0;34m\u001b[0m\u001b[0;34m\u001b[0m\u001b[0m\n\u001b[1;32m   1367\u001b[0m             \u001b[0mmemory_map\u001b[0m\u001b[0;34m=\u001b[0m\u001b[0mkwds\u001b[0m\u001b[0;34m.\u001b[0m\u001b[0mget\u001b[0m\u001b[0;34m(\u001b[0m\u001b[0;34m\"memory_map\"\u001b[0m\u001b[0;34m,\u001b[0m \u001b[0;32mFalse\u001b[0m\u001b[0;34m)\u001b[0m\u001b[0;34m,\u001b[0m\u001b[0;34m\u001b[0m\u001b[0;34m\u001b[0m\u001b[0m\n\u001b[0;32m-> 1368\u001b[0;31m             \u001b[0mstorage_options\u001b[0m\u001b[0;34m=\u001b[0m\u001b[0mkwds\u001b[0m\u001b[0;34m.\u001b[0m\u001b[0mget\u001b[0m\u001b[0;34m(\u001b[0m\u001b[0;34m\"storage_options\"\u001b[0m\u001b[0;34m,\u001b[0m \u001b[0;32mNone\u001b[0m\u001b[0;34m)\u001b[0m\u001b[0;34m,\u001b[0m\u001b[0;34m\u001b[0m\u001b[0;34m\u001b[0m\u001b[0m\n\u001b[0m\u001b[1;32m   1369\u001b[0m         )\n\u001b[1;32m   1370\u001b[0m \u001b[0;34m\u001b[0m\u001b[0m\n",
            "\u001b[0;32m/shared-libs/python3.7/py/lib/python3.7/site-packages/pandas/io/common.py\u001b[0m in \u001b[0;36mget_handle\u001b[0;34m(path_or_buf, mode, encoding, compression, memory_map, is_text, errors, storage_options)\u001b[0m\n\u001b[1;32m    650\u001b[0m                 \u001b[0mencoding\u001b[0m\u001b[0;34m=\u001b[0m\u001b[0mioargs\u001b[0m\u001b[0;34m.\u001b[0m\u001b[0mencoding\u001b[0m\u001b[0;34m,\u001b[0m\u001b[0;34m\u001b[0m\u001b[0;34m\u001b[0m\u001b[0m\n\u001b[1;32m    651\u001b[0m                 \u001b[0merrors\u001b[0m\u001b[0;34m=\u001b[0m\u001b[0merrors\u001b[0m\u001b[0;34m,\u001b[0m\u001b[0;34m\u001b[0m\u001b[0;34m\u001b[0m\u001b[0m\n\u001b[0;32m--> 652\u001b[0;31m                 \u001b[0mnewline\u001b[0m\u001b[0;34m=\u001b[0m\u001b[0;34m\"\"\u001b[0m\u001b[0;34m,\u001b[0m\u001b[0;34m\u001b[0m\u001b[0;34m\u001b[0m\u001b[0m\n\u001b[0m\u001b[1;32m    653\u001b[0m             )\n\u001b[1;32m    654\u001b[0m         \u001b[0;32melse\u001b[0m\u001b[0;34m:\u001b[0m\u001b[0;34m\u001b[0m\u001b[0;34m\u001b[0m\u001b[0m\n",
            "\u001b[0;31mFileNotFoundError\u001b[0m: [Errno 2] No such file or directory: 'food.csv'"
          ]
        }
      ]
    },
    {
      "cell_type": "markdown",
      "metadata": {
        "tags": [],
        "cell_id": "00006-1a5870a6-0fc1-4a5a-8851-91836143b7d0",
        "output_cleared": false,
        "deepnote_cell_type": "markdown",
        "id": "C4m5kIoOO0MF"
      },
      "source": [
        "You can see that the `description` column has the names for the foods we're interested in."
      ]
    },
    {
      "cell_type": "code",
      "metadata": {
        "tags": [],
        "cell_id": "00007-773d6360-92ac-469a-8b67-c1049831fb1f",
        "output_cleared": false,
        "source_hash": "6d879995",
        "execution_millis": 7,
        "execution_start": 1605882969750,
        "deepnote_to_be_reexecuted": true,
        "deepnote_cell_type": "code",
        "id": "TyvUXuHpO0MG",
        "outputId": "54793804-3a8b-4fd7-a885-62da562ae834"
      },
      "source": [
        "# print the size \n",
        "food_df[\"description\"].size"
      ],
      "execution_count": null,
      "outputs": [
        {
          "output_type": "execute_result",
          "execution_count": 141,
          "data": {
            "text/plain": "354565"
          },
          "metadata": {}
        }
      ]
    },
    {
      "cell_type": "markdown",
      "metadata": {
        "tags": [],
        "cell_id": "00007-9d788ab4-9189-4b34-992f-67fee142dde3",
        "output_cleared": false,
        "deepnote_cell_type": "markdown",
        "id": "i9vgv-svO0MG"
      },
      "source": [
        "We have way more rows than we need, so let's:\n",
        "- Disqualify foods with special characters (`+`,`&`, `!`, `,` and so on).\n",
        "- Filter out foods containing more than 3 words."
      ]
    },
    {
      "cell_type": "code",
      "metadata": {
        "tags": [],
        "cell_id": "00006-791566d9-ed51-4041-a0d7-75e424de39ec",
        "output_cleared": false,
        "source_hash": "6dab3e88",
        "execution_millis": 979,
        "execution_start": 1605882971320,
        "deepnote_to_be_reexecuted": true,
        "deepnote_cell_type": "code",
        "id": "14iNzS5nO0MH",
        "outputId": "aed59288-b185-4b26-ae3d-22f426ab8162"
      },
      "source": [
        "# diaqualify foods with special characters, lowercase and extract results from \"description\" column\n",
        "foods = food_df[food_df[\"description\"].str.contains(\"[^a-zA-Z ]\") == False][\"description\"].apply(lambda food: food.lower())\n",
        "\n",
        "# filter out foods with more than 3 words, drop any duplicates\n",
        "foods = foods[foods.str.split().apply(len) <= 3].drop_duplicates()\n",
        "\n",
        "# print the remaining size\n",
        "foods.size"
      ],
      "execution_count": null,
      "outputs": [
        {
          "output_type": "execute_result",
          "execution_count": 142,
          "data": {
            "text/plain": "37596"
          },
          "metadata": {}
        }
      ]
    },
    {
      "cell_type": "markdown",
      "metadata": {
        "tags": [],
        "cell_id": "00013-3ec39220-2472-465e-90f6-93fbfc0e8c50",
        "deepnote_cell_type": "markdown",
        "id": "OHIR5oLXO0MH"
      },
      "source": [
        "Now, we need to think about how we want our data to be distributed. By reducing to 3-worded food items, we effectively have food entities that look like this:\n",
        "\n",
        "- `hamburger` | 1-worded\n",
        "- `grilled cheese` | 2-worded\n",
        "- `chocolate ice cream` | 3-worded\n",
        "\n",
        "When feeding our training data into spaCy, we want to think about the bias we want spaCy to avoid. "
      ]
    },
    {
      "cell_type": "code",
      "metadata": {
        "tags": [],
        "cell_id": "00014-c0cc3cfa-75dd-4588-aa26-43730a29b6f3",
        "output_cleared": false,
        "source_hash": "991434e8",
        "execution_millis": 200,
        "execution_start": 1605882973830,
        "deepnote_to_be_reexecuted": true,
        "deepnote_cell_type": "code",
        "id": "H_YH4tduO0MH",
        "outputId": "d5f26d89-9c0e-4f70-a50f-c1a543afc7e3"
      },
      "source": [
        "# find one-worded, two-worded and three-worded foods\n",
        "one_worded_foods = foods[foods.str.split().apply(len) == 1]\n",
        "two_worded_foods = foods[foods.str.split().apply(len) == 2]\n",
        "three_worded_foods = foods[foods.str.split().apply(len) == 3]\n",
        "\n",
        "# create a bar plot\n",
        "fig, ax = plt.subplots(figsize=(10, 6))\n",
        "ax.bar([1, 2, 3], [one_worded_foods.size, two_worded_foods.size, three_worded_foods.size])\n",
        "\n",
        "# label the x-axis instances\n",
        "ax.set_xticks([1, 2, 3])\n",
        "ax.set_xticklabels([\"one\", \"two\", \"three\"])\n",
        "\n",
        "# set the title and the xy-axis labels\n",
        "plt.title(\"Number of Words in Food Entities\")\n",
        "plt.xlabel(\"Number of Words\")\n",
        "plt.ylabel(\"Food Entities\")\n",
        "\n",
        "# display the plot\n",
        "plt.show()"
      ],
      "execution_count": null,
      "outputs": [
        {
          "data": {
            "text/plain": "<Figure size 720x432 with 1 Axes>",
            "image/png": "[encoded data removed]"
          },
          "metadata": {
            "needs_background": "light",
            "image/png": {
              "width": 624,
              "height": 387
            }
          },
          "output_type": "display_data"
        }
      ]
    },
    {
      "cell_type": "markdown",
      "metadata": {
        "tags": [],
        "cell_id": "00015-bc181835-a4b3-4f04-a8ad-adfc93d68ad8",
        "deepnote_cell_type": "markdown",
        "id": "Iksa2NVbO0MI"
      },
      "source": [
        "Because the majority of our food entities are multi-worded, spaCy would develop a bias for multi-worded foods. If we look back to our example \n",
        "of `grilled cheese`, it's not a big deal if spaCy identifies `cheese` instead of `grilled cheese`. It is a big deal if spaCy fails to identify `cheese` at all.\n",
        "\n",
        "*As an aside, I ran this experiment, and spaCy only had a 10% accuracy for classifying single-worded `FOOD` entities, failing with foods such as `hamburger` and `cheese`.*\n",
        "\n",
        "So let's filter the dataset further, such that **45%** are one-worded foods, **30%** are two-worded foods, and **25%** are three-worded foods."
      ]
    },
    {
      "cell_type": "code",
      "metadata": {
        "tags": [],
        "cell_id": "00017-73b30579-d061-44a1-8ae0-70fb3f9e5970",
        "output_cleared": false,
        "source_hash": "bc367ae7",
        "execution_millis": 13,
        "execution_start": 1605882975633,
        "deepnote_to_be_reexecuted": true,
        "deepnote_cell_type": "code",
        "id": "y5HlHeOcO0MJ",
        "outputId": "1430c986-a89e-4aac-fee4-54e3b44b2368"
      },
      "source": [
        "# total number of foods\n",
        "total_num_foods = round(one_worded_foods.size / 45 * 100)\n",
        "\n",
        "# shuffle the 2-worded and 3-worded foods since we'll be slicing them\n",
        "two_worded_foods = two_worded_foods.sample(frac=1)\n",
        "three_worded_foods = three_worded_foods.sample(frac=1)\n",
        "\n",
        "# append the foods together \n",
        "foods = one_worded_foods.append(two_worded_foods[:round(total_num_foods * 0.30)]).append(three_worded_foods[:round(total_num_foods * 0.25)])\n",
        "\n",
        "# print the resulting sizes\n",
        "for i in range(3):\n",
        "    print(f\"{i+1}-worded food entities:\", foods[foods.str.split().apply(len) == i + 1].size)"
      ],
      "execution_count": null,
      "outputs": [
        {
          "name": "stdout",
          "text": "1-worded food entities: 1258\n2-worded food entities: 839\n3-worded food entities: 699\n",
          "output_type": "stream"
        }
      ]
    },
    {
      "cell_type": "markdown",
      "metadata": {
        "tags": [],
        "cell_id": "00011-b8657c77-7de4-4097-853e-dd32d78094d1",
        "output_cleared": false,
        "deepnote_cell_type": "markdown",
        "id": "IV6jrISMO0MJ"
      },
      "source": [
        "### Split train and test food data\n",
        "At this point, we want to create different placeholders that we can insert our food entities into. I'll come back to update this once I'm testing [the project](https://niahealth.co/) with real users."
      ]
    },
    {
      "cell_type": "code",
      "metadata": {
        "tags": [],
        "cell_id": "00012-6d68af93-05bd-4c87-8928-8e5d5602a4f1",
        "output_cleared": false,
        "source_hash": "3bd29141",
        "execution_millis": 0,
        "execution_start": 1605882980541,
        "deepnote_to_be_reexecuted": true,
        "deepnote_cell_type": "code",
        "id": "Z962X3UhO0MK"
      },
      "source": [
        "food_templates = [\n",
        "    \"I ate my {}\",\n",
        "    \"I'm eating a {}\",\n",
        "    \"I just ate a {}\",\n",
        "    \"I only ate the {}\",\n",
        "    \"I'm done eating a {}\",\n",
        "    \"I've already eaten a {}\",\n",
        "    \"I just finished my {}\",\n",
        "    \"When I was having lunch I ate a {}\",\n",
        "    \"I had a {} and a {} today\",\n",
        "    \"I ate a {} and a {} for lunch\",\n",
        "    \"I made a {} and {} for lunch\",\n",
        "    \"I ate {} and {}\",\n",
        "    \"today I ate a {} and a {} for lunch\",\n",
        "    \"I had {} with my husband last night\",\n",
        "    \"I brought you some {} on my birthday\",\n",
        "    \"I made {} for yesterday's dinner\",\n",
        "    \"last night, a {} was sent to me with {}\",\n",
        "    \"I had {} yesterday and I'd like to eat it anyway\",\n",
        "    \"I ate a couple of {} last night\",\n",
        "    \"I had some {} at dinner last night\",\n",
        "    \"Last night, I ordered some {}\",\n",
        "    \"I made a {} last night\",\n",
        "    \"I had a bowl of {} with {} and I wanted to go to the mall today\",\n",
        "    \"I brought a basket of {} for breakfast this morning\",\n",
        "    \"I had a bowl of {}\",\n",
        "    \"I ate a {} with {} in the morning\",\n",
        "    \"I made a bowl of {} for my breakfast\",\n",
        "    \"There's {} for breakfast in the bowl this morning\",\n",
        "    \"This morning, I made a bowl of {}\",\n",
        "    \"I decided to have some {} as a little bonus\",\n",
        "    \"I decided to enjoy some {}\",\n",
        "    \"I've decided to have some {} for dessert\",\n",
        "    \"I had a {}, a {} and {} at home\",\n",
        "    \"I took a {}, {} and {} on the weekend\",\n",
        "    \"I ate a {} with {} and {} just now\",\n",
        "    \"Last night, I ate an {} with {} and {}\",\n",
        "    \"I tasted some {}, {} and {} at the office\",\n",
        "    \"There's a basket of {}, {} and {} that I consumed\",\n",
        "    \"I devoured a {}, {} and {}\",\n",
        "    \"I've already had a bag of {}, {} and {} from the fridge\"\n",
        "]"
      ],
      "execution_count": null,
      "outputs": []
    },
    {
      "cell_type": "markdown",
      "metadata": {
        "tags": [],
        "cell_id": "00013-3b312578-74c1-446a-ac85-2afd272824ea",
        "output_cleared": false,
        "deepnote_cell_type": "markdown",
        "id": "IP5BHRZoO0ML"
      },
      "source": [
        "We'll break up our food sentences (which contain our entities) into a training set and a test set. We also need the data to be in a specific format for training:\n",
        "```\n",
        "data = [\n",
        "    (\"I love chicken\", [(8, 13, \"FOOD\")]),\n",
        "    ... \n",
        "]\n",
        "```"
      ]
    },
    {
      "cell_type": "code",
      "metadata": {
        "tags": [],
        "cell_id": "00011-7b984b03-b296-4c1a-85ec-b037e2eaa2a7",
        "output_cleared": false,
        "source_hash": "edd6433d",
        "execution_millis": 154,
        "execution_start": 1605882998280,
        "deepnote_to_be_reexecuted": true,
        "deepnote_cell_type": "code",
        "id": "P2C9FPEFO0ML"
      },
      "source": [
        "# create dictionaries to store the generated food combinations. Do note that one_food != one_worded_food. one_food == \"barbecue sauce\", one_worded_food == \"sauce\"\n",
        "TRAIN_FOOD_DATA = {\n",
        "    \"one_food\": [],\n",
        "    \"two_foods\": [],\n",
        "    \"three_foods\": []\n",
        "}\n",
        "\n",
        "TEST_FOOD_DATA = {\n",
        "    \"one_food\": [],\n",
        "    \"two_foods\": [],\n",
        "    \"three_foods\": []\n",
        "}\n",
        "\n",
        "# one_food, two_food, and three_food combinations will be limited to 167 sentences\n",
        "FOOD_SENTENCE_LIMIT = 167\n",
        "\n",
        "# helper function for deciding what dictionary and subsequent array to append the food sentence on to\n",
        "def get_food_data(count):\n",
        "    return {\n",
        "        1: TRAIN_FOOD_DATA[\"one_food\"] if len(TRAIN_FOOD_DATA[\"one_food\"]) < FOOD_SENTENCE_LIMIT else TEST_FOOD_DATA[\"one_food\"],\n",
        "        2: TRAIN_FOOD_DATA[\"two_foods\"] if len(TRAIN_FOOD_DATA[\"two_foods\"]) < FOOD_SENTENCE_LIMIT else TEST_FOOD_DATA[\"two_foods\"],\n",
        "        3: TRAIN_FOOD_DATA[\"three_foods\"] if len(TRAIN_FOOD_DATA[\"three_foods\"]) < FOOD_SENTENCE_LIMIT else TEST_FOOD_DATA[\"three_foods\"],\n",
        "    }[count]\n",
        "\n",
        "# the pattern to replace from the template sentences\n",
        "pattern_to_replace = \"{}\"\n",
        "\n",
        "# shuffle the data before starting\n",
        "foods = foods.sample(frac=1)\n",
        "\n",
        "# the count that helps us decide when to break from the for loop\n",
        "food_entity_count = foods.size - 1\n",
        "\n",
        "# start the while loop, ensure we don't get an index out of bounds error\n",
        "while food_entity_count >= 2:\n",
        "    entities = []\n",
        "\n",
        "    # pick a random food template\n",
        "    sentence = food_templates[random.randint(0, len(food_templates) - 1)]\n",
        "\n",
        "    # find out how many braces \"{}\" need to be replaced in the template\n",
        "    matches = re.findall(pattern_to_replace, sentence)\n",
        "\n",
        "    # for each brace, replace with a food entity from the shuffled food data\n",
        "    for match in matches:\n",
        "        food = foods.iloc[food_entity_count]\n",
        "        food_entity_count -= 1\n",
        "\n",
        "        # replace the pattern, but then find the match of the food entity we just inserted\n",
        "        sentence = sentence.replace(match, food, 1)\n",
        "        match_span = re.search(food, sentence).span()\n",
        "\n",
        "        # use that match to find the index positions of the food entity in the sentence, append\n",
        "        entities.append((match_span[0], match_span[1], \"FOOD\"))\n",
        "\n",
        "    # append the sentence and the position of the entities to the correct dictionary and array\n",
        "    get_food_data(len(matches)).append((sentence, {\"entities\": entities}))"
      ],
      "execution_count": null,
      "outputs": []
    },
    {
      "cell_type": "code",
      "metadata": {
        "tags": [],
        "cell_id": "00016-225f1580-c8a5-49f6-90dc-92df1354dff9",
        "output_cleared": false,
        "source_hash": "58d433aa",
        "execution_millis": 3,
        "execution_start": 1605882999135,
        "deepnote_to_be_reexecuted": true,
        "deepnote_cell_type": "code",
        "id": "ivS3Hl20O0MM",
        "outputId": "3e7d3e69-3fb8-4a03-9985-b2571af787f8"
      },
      "source": [
        "# print the number of food sentences, as well as an example sentence\n",
        "for key in TRAIN_FOOD_DATA:\n",
        "    print(\"{} {} sentences: {}\".format(len(TRAIN_FOOD_DATA[key]), key, TRAIN_FOOD_DATA[key][0]))"
      ],
      "execution_count": null,
      "outputs": [
        {
          "name": "stdout",
          "text": "167 one_food sentences: ('Last night, I ordered some bueno', {'entities': [(27, 32, 'FOOD')]})\n167 two_foods sentences: ('I ate a tokyo style ramen and a bunuelos dessert for lunch', {'entities': [(8, 25, 'FOOD'), (32, 48, 'FOOD')]})\n167 three_foods sentences: ('Last night, I ate an edam with strawberry lozenges and springhill strawberry jam', {'entities': [(21, 25, 'FOOD'), (31, 50, 'FOOD'), (55, 80, 'FOOD')]})\n",
          "output_type": "stream"
        }
      ]
    },
    {
      "cell_type": "markdown",
      "metadata": {
        "tags": [],
        "cell_id": "00017-d4068f9d-925d-4640-8c2b-1cd6c5dbf529",
        "output_cleared": false,
        "deepnote_cell_type": "markdown",
        "id": "f01djv3rO0MM"
      },
      "source": [
        "Nice, we now have ~500 training sentences, with each sentence either containing 1, 2, or 3 `FOOD` entities."
      ]
    },
    {
      "cell_type": "code",
      "metadata": {
        "tags": [],
        "cell_id": "00018-69a75a80-cc3e-46e2-a2f9-74707d42f2e1",
        "output_cleared": false,
        "source_hash": "249506d2",
        "execution_millis": 0,
        "execution_start": 1605883154845,
        "deepnote_to_be_reexecuted": true,
        "deepnote_cell_type": "code",
        "id": "b6BnGWtgO0MN",
        "outputId": "8bb8b963-69b2-41ea-efae-151fc5da921d"
      },
      "source": [
        "for key in TEST_FOOD_DATA:\n",
        "    print(\"{} {} items: {}\".format(len(TEST_FOOD_DATA[key]), key, TEST_FOOD_DATA[key][0]))"
      ],
      "execution_count": null,
      "outputs": [
        {
          "name": "stdout",
          "text": "876 one_food items: (\"I've already eaten a eggnog\", {'entities': [(21, 27, 'FOOD')]})\n191 two_foods items: ('I made a deli chicken salad and organic nutrition bar for lunch', {'entities': [(9, 27, 'FOOD'), (32, 53, 'FOOD')]})\n178 three_foods items: (\"There's a basket of tahinibar, gumballs and smoothies that I consumed\", {'entities': [(20, 29, 'FOOD'), (31, 39, 'FOOD'), (44, 53, 'FOOD')]})\n",
          "output_type": "stream"
        }
      ]
    },
    {
      "cell_type": "markdown",
      "metadata": {
        "tags": [],
        "cell_id": "00019-482d6882-e813-4ba8-968b-86e9388bb796",
        "output_cleared": false,
        "deepnote_cell_type": "markdown",
        "id": "onZSdRHbO0MN"
      },
      "source": [
        "We also have plenty of test data. Doesn't matter too much that it's not evenly distributed."
      ]
    },
    {
      "cell_type": "markdown",
      "metadata": {
        "tags": [],
        "cell_id": "00020-59b73684-abc4-47c3-8e9f-9d300d626a77",
        "output_cleared": false,
        "deepnote_cell_type": "markdown",
        "id": "sGnRfASaO0MN"
      },
      "source": [
        "## Generating Revision Data\n",
        "\n",
        "As mentioned in the overview, we also need to generate sentences that contain spaCy entities. \n",
        "This helps us avoid the situation where the NER model is able to identify the `FOOD` entities, but [forgets](https://explosion.ai/blog/pseudo-rehearsal-catastrophic-forgetting) how to classify entities like `ORG` or `PERSON`.\n",
        "\n",
        "While `ORG` or `PERSON` isn't important for nutrition-tracking, other entities like `QUANTITY` and `CARDINAL` will help us associate foods with their quantities later on:\n",
        "\n",
        "- I ate `two` `slices of toast`."
      ]
    },
    {
      "cell_type": "markdown",
      "metadata": {
        "tags": [],
        "cell_id": "00022-47e06e3b-03f1-4a42-9197-892569ac3114",
        "output_cleared": false,
        "deepnote_cell_type": "markdown",
        "id": "rT9bOgfcO0MO"
      },
      "source": [
        "### Preparing the revision data\n"
      ]
    },
    {
      "cell_type": "code",
      "metadata": {
        "tags": [],
        "cell_id": "00012-ca993d2d-602d-4ef6-a3c0-b01be950f74c",
        "output_cleared": false,
        "source_hash": "b17f3b6b",
        "execution_millis": 428,
        "execution_start": 1605883235113,
        "deepnote_to_be_reexecuted": true,
        "deepnote_cell_type": "code",
        "id": "LFauugo1O0MO",
        "outputId": "4ab01fb1-c99b-4634-993b-01dbc6a5539d"
      },
      "source": [
        "# read in the revision data (just used a random article dataset from a different course I had taken)\n",
        "npr_df = pd.read_csv(\"npr.csv\")\n",
        "\n",
        "# print row and column information\n",
        "npr_df.head()"
      ],
      "execution_count": null,
      "outputs": [
        {
          "output_type": "execute_result",
          "execution_count": 152,
          "data": {
            "application/vnd.deepnote.dataframe.v2+json": {
              "row_count": 5,
              "column_count": 1,
              "columns": [
                {
                  "name": "Article",
                  "dtype": "object",
                  "stats": {
                    "unique_count": 5,
                    "nan_count": 0,
                    "categories": [
                      {
                        "name": "In the Washington of 2016, even when the policy can be bipartisan, the politics cannot. And in that sense, this year shows little sign of ending on Dec. 31. When President Obama moved to sanction Russia over its alleged interference in the U. S. election just concluded, some Republicans who had long called for similar or more severe measures could scarcely bring themselves to approve. House Speaker Paul Ryan called the Obama measures ”appropriate” but also ”overdue” and ”a prime example of this administration’s ineffective foreign policy that has left America weaker in the eyes of the world.” Other GOP leaders sounded much the same theme. ”[We have] been urging President Obama for years to take strong action to deter Russia’s worldwide aggression, including its   operations,” wrote Rep. Devin Nunes,  . chairman of the House Intelligence Committee. ”Now with just a few weeks left in office, the president has suddenly decided that some stronger measures are indeed warranted.” Appearing on CNN, frequent Obama critic Trent Franks,  . called for ”much tougher” actions and said three times that Obama had ”finally found his tongue.” Meanwhile, at    and on Fox News, various spokesmen for   Trump said Obama’s real target was not the Russians at all but the man poised to take over the White House in less than three weeks. They spoke of Obama trying to ”tie Trump’s hands” or ”box him in,” meaning the   would be forced either to keep the sanctions or be at odds with Republicans who want to be tougher still on Moscow. Throughout 2016, Trump has repeatedly called not for sanctions but for closer ties with Russia, including cooperation in the fight against ISIS. Russia has battled ISIS in Syria on behalf of that country’s embattled dictator, Bashar Assad, bombing the besieged   city of Aleppo that fell to Assad’s forces this week. During the campaign, Trump even urged Russia to ”find” missing emails from the private server of his opponent, Hillary Clinton. He has exchanged public encomiums with Russian President Vladimir Putin on several occasions and added his doubts about the current U. S. levels of support for NATO  —   Putin’s longtime nemesis. There have also been suggestions that Trump’s extensive business dealings with various Russians are the reason he refuses to release his tax returns. All those issues have been disquieting to some Republicans for many months. Sens. John McCain,  . and Lindsay Graham,  . C. prominent senior members of the Armed Services Committee, have accepted the assessment of 17 U. S. intelligence agencies regarding the role of Russia in the hacking of various Democratic committees last year. That includes the FBI and CIA consensus that the Russian goal was not just to discredit American democracy but to defeat Clinton and elect Trump. They say the great majority of their Senate colleagues agree with them, and McCain has slated an Armed Services hearing on cyberthreats for Jan. 5. But the politicizing of the Russian actions  —   the idea that they helped Trump win  —   has also made the issue difficult for Republican leaders. It has allowed Trump supporters to push back on the intelligence agencies and say the entire issue is designed to undermine Trump’s legitimacy. Senate Majority Leader Mitch McConnell has so far resisted calls for a select committee to look into the Russian interference in the 2016 campaign. He has said it is enough for Sen. Richard Burr,  . C. to look into it as chairman of the Senate Intelligence Committee. Typically, Republican leaders and spokesmen say there is no evidence that the actual voting or tallying on Nov. 8 was compromised, and that is true. But it is also a red herring, as interference in those functions has not been alleged and is not the focus of the U. S. intelligence agencies’ concern. For his part, Trump has shown little interest in delving into what happened. He has cast doubt on the U. S. intelligence reports to date and suggested ”no one really knows what happened.” He also has suggested that computers make it very difficult to know who is using them. This week, Trump said it was time to ”get on with our lives and do more important things.” However, at week’s end he did agree to have an intelligence briefing on the subject next week. The   has not wanted the daily intelligence briefings available to him in recent weeks, preferring that they be given to the men he has chosen as his vice president (Mike Pence) and national security adviser (Mike Flynn) with Trump taking them only occasionally. The irony of this controversy arising at the eleventh hour of the Obama presidency can scarcely be overstated, and it defines the dilemma facing both the outgoing president and the incoming party in control. Obama appears to have been reluctant to retaliate against the Russian hacking before the election for fear of seeming to interfere with the election himself. The Republicans, meanwhile, have for years called for greater confrontation with the Russians, with Obama usually resisting. Obama did join with NATO in punishing the Russians with economic sanctions over the annexation of Crimea. Those sanctions may have been painful, coming as they did alongside falling prices for oil  —   the commodity that keeps the Russian economy afloat. On other occasions, despite Russian provocations through surrogates in Syria and elsewhere, Obama did not make overt moves to force Russia’s hand. That includes occasions when Russia was believed to be hacking critical computer systems in neighboring Ukraine, Estonia and Poland. But this week, following a chorus of confirmation from the U. S. intelligence community regarding the Russian role in computer hacking in the political campaign, Obama acted. He imposed a set of mostly diplomatic actions such as sanctioning some Russian officials, closing two diplomatic compounds and expelling 35 Russian diplomats. There may have been more damaging measures taken covertly, and some Russophobes in Washington held out hope for that. But the visible portion of the program scarcely amounted to major retribution. And Putin saw fit to diminish the Obama sanctions further by declining to respond. Although his government has steadfastly denied any interference in the U. S. election, Putin rejected his own foreign minister’s recommended package of    responses. (He even sent an invitation for U. S. diplomats to send their children to a holiday party in Moscow.) That allowed Putin to appear for the moment to be ”the bigger man,” even as he spurned Obama and kept up what has looked like a public bromance with Trump, who tweeted: ”Great move on delay (by V. Putin)   I always knew he was very smart!” At the moment it may seem that the overall Russia question amounts to the first crisis facing the Trump presidency. Whether forced by this campaign interference issue or not, Trump must grasp the nettle of a relationship Mitt Romney once called the greatest threat to U. S. security in the world. To be sure, Trump needs to dispel doubts about his ability to stand up to Putin, who has bullied and cajoled his way to center stage in recent world affairs. But Trump also seems determined to turn the page on past U. S. commitments, from free trade philosophy to funding of NATO and the United Nations. And if his Twitter account is any guide, Trump shows little concern about the conundrum others perceive to be facing him. Above all, Trump has shown himself determined to play by his own rules. A year ago, many were confident that would not work for him in the world of presidential politics. We are about to find out whether it works for him in the Oval Office.",
                        "count": 1
                      },
                      {
                        "name": "  Donald Trump has used Twitter  —   his preferred means of communication  —   to weigh in on a swath of foreign policy issues over the past few weeks. His comments give a glimpse into how his incoming administration will deal with pressing foreign matters  —   but also highlight how reactionary comments on social media can immediately spur international concern and attention. And his staff has indicated that taking to Twitter to air his concerns or, often, grievances, won’t end once he enters the Oval Office. On Wednesday, Trump blasted the U. S.’s abstention from the U. N. Security Council vote on Israeli settlements earlier this month. The tweets came just hours before Secretary of State John Kerry gave a speech defending the decision and calling the continued building of settlements on Palestinian territory in the West Bank a threat to the   solution in the region. Trump’s support for Israel and Prime Minister Benjamin Netanyahu  —   who has had a fraught relationship with President Obama  —   may be the biggest forthcoming shift in immediate foreign policy between the outgoing and incoming administrations. Throughout the campaign, he pledged that his administration would be a steadfast ally of Israel. To underscore that, Netanyahu replied to one of Trump’s morning tweets, thanking him  —   and also his children Donald Jr. and Ivanka, who are close advisers  —   for their support. Ivanka converted to Judaism when she married her husband, Jared Kushner. An Israeli official told CNN the government will give the Trump administration ”detailed, sensitive information” proving that the U. S. worked to push through the resolution. The Obama administration has denied those claims. Last week, after the U. S. decided not to veto the resolution, Trump also tweeted that ”things will be different” come his inauguration, and then on Monday he again blasted the U. N. as ineffective. The Israeli settlement issue has been at the forefront in recent days, but last week Trump also weighed in on nuclear issues. In a tweet, Trump called for the U. S. to strengthen its nuclear arsenal. MSNBC’s Morning Joe reported that the   told them he wanted an ”arms race. We will outmatch them at every pass.” As the Washington Post’s Dan Zak told NPR’s Robert Siegel on All Things Considered last Friday, Trump was inconsistent in his statements about nuclear weapons during the campaign. ”Trump said, you know, he’d be the last to use nuclear weapons. Nuclear weapons are a horror. He seemed to understand what they’re capable of doing,” Zak said. ”At the same time, he said it was only a matter of time until countries like South Korea and Japan get nuclear weapons. He seemed to tacitly or not so tacitly endorse proliferation, again going against decades of international policy.” Trump also slammed China for its seizure of an unmanned U. S. Navy underwater drone, calling it ”unpresidented” in a tweet before correcting the typo in a new tweet. After talks with the Pentagon, China agreed to return the drone, but then Trump later said the country should keep it. It’s not the first time Trump has stoked tensions with China. In a stark break with protocol, Trump spoke on the phone with Taiwanese President Tsai   earlier this month. Beijing considers Taiwan to be a renegade province and doesn’t recognize it, and most other countries don’t either. The U. S. has operated under a ”one China” policy for more than four decades. Throughout the campaign, Trump blasted China for taking away U. S. jobs and claimed it was intentionally devaluing its currency to boost exports. He has blasted U. S. companies that manufacture goods in China, but as a New York Times story noted Wednesday morning, many of his daughter Ivanka’s clothing and shoe lines are made in China much of Trump’s own apparel line is also made overseas, including in China.",
                        "count": 1
                      },
                      {
                        "name": "3 others",
                        "count": 3
                      }
                    ]
                  }
                },
                {
                  "name": "_deepnote_index_column",
                  "dtype": "int64"
                }
              ],
              "rows_top": [
                {
                  "Article": "In the Washington of 2016, even when the policy can be bipartisan, the politics cannot. And in that sense, this year shows little sign of ending on Dec. 31. When President Obama moved to sanction Russia over its alleged interference in the U. S. election just concluded, some Republicans who had long called for similar or more severe measures could scarcely bring themselves to approve. House Speaker Paul Ryan called the Obama measures ”appropriate” but also ”overdue” and ”a prime example of this administration’s ineffective foreign policy that has left America weaker in the eyes of the world.” Other GOP leaders sounded much the same theme. ”[We have] been urging President Obama for years to take strong action to deter Russia’s worldwide aggression, including its   operations,” wrote Rep. Devin Nunes,  . chairman of the House Intelligence Committee. ”Now with just a few weeks left in office, the president has suddenly decided that some stronger measures are indeed warranted.” Appearing on CNN, frequent Obama critic Trent Franks,  . called for ”much tougher” actions and said three times that Obama had ”finally found his tongue.” Meanwhile, at    and on Fox News, various spokesmen for   Trump said Obama’s real target was not the Russians at all but the man poised to take over the White House in less than three weeks. They spoke of Obama trying to ”tie Trump’s hands” or ”box him in,” meaning the   would be forced either to keep the sanctions or be at odds with Republicans who want to be tougher still on Moscow. Throughout 2016, Trump has repeatedly called not for sanctions but for closer ties with Russia, including cooperation in the fight against ISIS. Russia has battled ISIS in Syria on behalf of that country’s embattled dictator, Bashar Assad, bombing the besieged   city of Aleppo that fell to Assad’s forces this week. During the campaign, Trump even urged Russia to ”find” missing emails from the private server of his opponent, Hillary Clinton. He has exchanged public encomiums with Russian President Vladimir Putin on several occasions and added his doubts about the current U. S. levels of support for NATO  —   Putin’s longtime nemesis. There have also been suggestions that Trump’s extensive business dealings with various Russians are the reason he refuses to release his tax returns. All those issues have been disquieting to some Republicans for many months. Sens. John McCain,  . and Lindsay Graham,  . C. prominent senior members of the Armed Services Committee, have accepted the assessment of 17 U. S. intelligence agencies regarding the role of Russia in the hacking of various Democratic committees last year. That includes the FBI and CIA consensus that the Russian goal was not just to discredit American democracy but to defeat Clinton and elect Trump. They say the great majority of their Senate colleagues agree with them, and McCain has slated an Armed Services hearing on cyberthreats for Jan. 5. But the politicizing of the Russian actions  —   the idea that they helped Trump win  —   has also made the issue difficult for Republican leaders. It has allowed Trump supporters to push back on the intelligence agencies and say the entire issue is designed to undermine Trump’s legitimacy. Senate Majority Leader Mitch McConnell has so far resisted calls for a select committee to look into the Russian interference in the 2016 campaign. He has said it is enough for Sen. Richard Burr,  . C. to look into it as chairman of the Senate Intelligence Committee. Typically, Republican leaders and spokesmen say there is no evidence that the actual voting or tallying on Nov. 8 was compromised, and that is true. But it is also a red herring, as interference in those functions has not been alleged and is not the focus of the U. S. intelligence agencies’ concern. For his part, Trump has shown little interest in delving into what happened. He has cast doubt on the U. S. intelligence reports to date and suggested ”no one really knows what happened.” He also has suggested that computers make it very difficult to know who is using them. This week, Trump said it was time to ”get on with our lives and do more important things.” However, at week’s end he did agree to have an intelligence briefing on the subject next week. The   has not wanted the daily intelligence briefings available to him in recent weeks, preferring that they be given to the men he has chosen as his vice president (Mike Pence) and national security adviser (Mike Flynn) with Trump taking them only occasionally. The irony of this controversy arising at the eleventh hour of the Obama presidency can scarcely be overstated, and it defines the dilemma facing both the outgoing president and the incoming party in control. Obama appears to have been reluctant to retaliate against the Russian hacking before the election for fear of seeming to interfere with the election himself. The Republicans, meanwhile, have for years called for greater confrontation with the Russians, with Obama usually resisting. Obama did join with NATO in punishing the Russians with economic sanctions over the annexation of Crimea. Those sanctions may have been painful, coming as they did alongside falling prices for oil  —   the commodity that keeps the Russian economy afloat. On other occasions, despite Russian provocations through surrogates in Syria and elsewhere, Obama did not make overt moves to force Russia’s hand. That includes occasions when Russia was believed to be hacking critical computer systems in neighboring Ukraine, Estonia and Poland. But this week, following a chorus of confirmation from the U. S. intelligence community regarding the Russian role in computer hacking in the political campaign, Obama acted. He imposed a set of mostly diplomatic actions such as sanctioning some Russian officials, closing two diplomatic compounds and expelling 35 Russian diplomats. There may have been more damaging measures taken covertly, and some Russophobes in Washington held out hope for that. But the visible portion of the program scarcely amounted to major retribution. And Putin saw fit to diminish the Obama sanctions further by declining to respond. Although his government has steadfastly denied any interference in the U. S. election, Putin rejected his own foreign minister’s recommended package of    responses. (He even sent an invitation for U. S. diplomats to send their children to a holiday party in Moscow.) That allowed Putin to appear for the moment to be ”the bigger man,” even as he spurned Obama and kept up what has looked like a public bromance with Trump, who tweeted: ”Great move on delay (by V. Putin)   I always knew he was very smart!” At the moment it may seem that the overall Russia question amounts to the first crisis facing the Trump presidency. Whether forced by this campaign interference issue or not, Trump must grasp the nettle of a relationship Mitt Romney once called the greatest threat to U. S. security in the world. To be sure, Trump needs to dispel doubts about his ability to stand up to Putin, who has bullied and cajoled his way to center stage in recent world affairs. But Trump also seems determined to turn the page on past U. S. commitments, from free trade philosophy to funding of NATO and the United Nations. And if his Twitter account is any guide, Trump shows little concern about the conundrum others perceive to be facing him. Above all, Trump has shown himself determined to play by his own rules. A year ago, many were confident that would not work for him in the world of presidential politics. We are about to find out whether it works for him in the Oval Office.",
                  "_deepnote_index_column": 0
                },
                {
                  "Article": "  Donald Trump has used Twitter  —   his preferred means of communication  —   to weigh in on a swath of foreign policy issues over the past few weeks. His comments give a glimpse into how his incoming administration will deal with pressing foreign matters  —   but also highlight how reactionary comments on social media can immediately spur international concern and attention. And his staff has indicated that taking to Twitter to air his concerns or, often, grievances, won’t end once he enters the Oval Office. On Wednesday, Trump blasted the U. S.’s abstention from the U. N. Security Council vote on Israeli settlements earlier this month. The tweets came just hours before Secretary of State John Kerry gave a speech defending the decision and calling the continued building of settlements on Palestinian territory in the West Bank a threat to the   solution in the region. Trump’s support for Israel and Prime Minister Benjamin Netanyahu  —   who has had a fraught relationship with President Obama  —   may be the biggest forthcoming shift in immediate foreign policy between the outgoing and incoming administrations. Throughout the campaign, he pledged that his administration would be a steadfast ally of Israel. To underscore that, Netanyahu replied to one of Trump’s morning tweets, thanking him  —   and also his children Donald Jr. and Ivanka, who are close advisers  —   for their support. Ivanka converted to Judaism when she married her husband, Jared Kushner. An Israeli official told CNN the government will give the Trump administration ”detailed, sensitive information” proving that the U. S. worked to push through the resolution. The Obama administration has denied those claims. Last week, after the U. S. decided not to veto the resolution, Trump also tweeted that ”things will be different” come his inauguration, and then on Monday he again blasted the U. N. as ineffective. The Israeli settlement issue has been at the forefront in recent days, but last week Trump also weighed in on nuclear issues. In a tweet, Trump called for the U. S. to strengthen its nuclear arsenal. MSNBC’s Morning Joe reported that the   told them he wanted an ”arms race. We will outmatch them at every pass.” As the Washington Post’s Dan Zak told NPR’s Robert Siegel on All Things Considered last Friday, Trump was inconsistent in his statements about nuclear weapons during the campaign. ”Trump said, you know, he’d be the last to use nuclear weapons. Nuclear weapons are a horror. He seemed to understand what they’re capable of doing,” Zak said. ”At the same time, he said it was only a matter of time until countries like South Korea and Japan get nuclear weapons. He seemed to tacitly or not so tacitly endorse proliferation, again going against decades of international policy.” Trump also slammed China for its seizure of an unmanned U. S. Navy underwater drone, calling it ”unpresidented” in a tweet before correcting the typo in a new tweet. After talks with the Pentagon, China agreed to return the drone, but then Trump later said the country should keep it. It’s not the first time Trump has stoked tensions with China. In a stark break with protocol, Trump spoke on the phone with Taiwanese President Tsai   earlier this month. Beijing considers Taiwan to be a renegade province and doesn’t recognize it, and most other countries don’t either. The U. S. has operated under a ”one China” policy for more than four decades. Throughout the campaign, Trump blasted China for taking away U. S. jobs and claimed it was intentionally devaluing its currency to boost exports. He has blasted U. S. companies that manufacture goods in China, but as a New York Times story noted Wednesday morning, many of his daughter Ivanka’s clothing and shoe lines are made in China much of Trump’s own apparel line is also made overseas, including in China.",
                  "_deepnote_index_column": 1
                },
                {
                  "Article": "  Donald Trump is unabashedly praising Russian President Vladimir Putin, a day after outgoing President Obama issued tough sanctions against the country in response to alleged cyberattacks intended to influence the U. S. elections. In a tweet Friday afternoon, Trump responded to Putin’s decision not to expel U. S. diplomats from Russia in kind after Obama ordered 35 Russian diplomats to leave the country  —   admiring the Russian leader’s strategic approach over President Obama, which is the theme of Trump’s ongoing praise of Putin. Earlier Friday, Putin instead signaled he would wait to decide how to move forward until Trump takes office, giving him someone in the Oval Office who has been much friendlier and quite generous with his praise  —   a stark break from decades of U. S. foreign policy. The Russian Embassy in the U. S. also retweeted Trump’s post, which he pinned to his Twitter timeline so it would remain at the top. Trump also posted it to Instagram. On Thursday, President Obama issued a stinging rebuke to Russia after U. S. intelligence officials concluded the country had directed hacks into Democratic National Committee emails and the personal email account of Democratic nominee Hillary Clinton’s campaign chairman, John Podesta. In a statement, Obama said ”all Americans should be alarmed by Russia’s actions.” Trump’s praise of Putin stands in stark contrast not just with the outgoing administration, but with top leaders of his own party. GOP congressional leaders backed Obama’s actions on Thursday, albeit criticizing the president for being too late in taking a strong stance against Russia. House Speaker Paul Ryan called the sanctions ”overdue” but ”appropriate” and said that ”Russia does not share America’s interests.” ”The Russians are not our friends,” Senate Majority Leader Mitch McConnell said in a statement, calling the sanctions a ”good initial step.” Obama has pointed to the impact of past sanctions by the U. S. and Europe in the wake of the annexation of Crimea, maintaining that his approach has damaged Russia’s economy and isolated the country on the world stage. Trump released a brief statement Thursday evening in response to the latest actions by Obama against Russia simply stating that, ”It’s time for our country to move on to bigger and better things.” He said he would meet with U. S. intelligence officials regarding the cyberhacking, though Trump has repeatedly cast doubt on their findings and throughout the campaign dismissed reports that Russia was behind the attacks. Trump raised eyebrows throughout the campaign with his praise of Putin. ”He’s running his country, and at least he’s a leader, unlike what we have in this country,” Trump said in an interview with MSNBC in December 2015. He was pressed by host Joe Scarborough on the killings of political figures and journalists critical of Putin and deflected. That interview came just after Putin praised Trump as ”talented.” Later in the campaign, Trump suggested Russia should find emails missing from Hillary Clinton’s time as secretary of state, which his aides later said was a joke. At the time, Trump tried distancing himself from Putin. ”I never met Putin. I don’t know who Putin is. He said one nice thing about me. He said I’m a genius. I said, ’Thank you very much’ to the newspaper, and that was the end of it,” Trump said. But not long after, Trump was heavily criticized for saying Putin wasn’t going into Ukraine, even though his country had already annexed Crimea. The Republican nominee also repeated his praise of Putin as ”a leader far more than our president has been” at a national security town hall in early September. One of the most memorable clashes in Trump’s debates with Hillary Clinton was when the Democratic nominee accused him of being a ”puppet” of Russia. Trump shot back: ”No puppet. No puppet. You’re the puppet.” He often criticizes the   ”reset” with Russia that Clinton led in the early days of the Obama administration, even as Trump himself repeatedly has called for friendlier relations with Moscow. With three weeks until Inauguration Day, Trump has increasingly used his Twitter feed to weigh in on foreign policy  —   violating usual protocols where the winner of an election avoids interfering in the foreign policy actions of the sitting president. Trump’s staff has said such use of Twitter to weigh in on foreign policy won’t end once he’s in the Oval Office. So far, he’s outlined his opposition to the United States’ abstention from the U. N. Security Council vote on Israeli settlements earlier this month. Trump has also criticized China for its seizure of an unmanned U. S. Navy underwater drone, before saying the country that he’s often criticized should keep the drone. And Trump has also called for the U. S. to strengthen its nuclear arsenal and recently seemed to encourage a nuclear arms race with Russia  —   perhaps because he believes his strategic approach to Putin will work better than Obama’s.",
                  "_deepnote_index_column": 2
                },
                {
                  "Article": "Updated at 2:50 p. m. ET, Russian President Vladimir Putin says Russia won’t be expelling U. S. diplomats in a    response to U. S. sanctions, as his foreign minister had suggested earlier Friday. Instead, he says he will decide how to move forward depending on the actions of   Donald Trump’s administration. Trump took to Twitter on Friday afternoon to praise Putin’s decision, calling it a ”great move.” On Thursday, the White House announced sanctions against Russia in response to what it called ”a   campaign of   operations” against the U. S.  —   including actions meant to interfere with the U. S. presidential election. On Friday, Russian Foreign Minister Sergey Lavrov went on state TV and called the sanctions ”antics” that Russia can’t leave unanswered. He said the U. S. provided no evidence for its claims of Russian cyber operations, NPR’s Lucian Kim reports. ”The Kremlin has consistently denied accusations that its hackers had broken into the Democratic National Committee or tried to sway the U. S. election,” Lucian notes. And he proposed specific counteractions Russia could take. As we reported Thursday, President Obama’s executive order calls for 35 Russian diplomats  —   described by the White House as ”intelligence operatives”  —   to be expelled from the U. S. and for two Russian facilities in the U. S. to be closed. Sanctions will also be imposed on several Russian individuals and organizations, and Obama’s statement says more actions will be taken, ”some of which will not be publicized.” Lavrov announced plans for Russia to respond in kind, as Lucian reported from Moscow. Lavrov’s plan, which needed Putin’s approval, called for 35 American diplomats to be expelled and for U. S. diplomats to ”lose access to two buildings, just as Russian diplomats will no longer be able to use two retreats in Maryland and New York,” Lucian reports. But just two hours after Lavrov’s comments, Putin announced that nothing of the sort was happening. Putin called the Obama administration’s actions provocative and said Russia had grounds for a response. He said the Kremlin would reserve the right to a countermeasure  —   but that it would not ”stoop to the level of irresponsible diplomacy,” as Lucian translated it. At least for now, no diplomats will be expelled or barred from using facilities in Moscow, he said. Any actions will wait until Trump takes office. ”It is regrettable that the Obama administration is ending its term in this manner,” Putin said. ”Nevertheless, I offer my New Year greetings to President Obama and his family. ”My season’s greetings also to   Donald Trump and the American people. I wish all of you happiness and prosperity.”",
                  "_deepnote_index_column": 3
                },
                {
                  "Article": "From photography, illustration and video, to data visualizations and immersive experiences, visuals are an important part of our storytelling at NPR. Interwoven with the written and the spoken word, images  —   another visual language  —   can create deeper understanding and empathy for the struggles and triumphs we face together. We told a lot of stories in 2016  —   far more than we can list here. So, instead, here’s a small selection of our favorite pieces, highlighting some of the work we’re most proud of, some of the biggest stories we reported, and some of the stories we had the most fun telling. Transport yourself to Rocky Mountain National Park, with all its sights and sounds, in an immersive geology lesson with Oregon State University geology professor Eric Kirby, who discusses the geologic history of the Rockies in   video. ”Today, Indians use much less energy per person than Americans or Chinese people. Many of its 1. 2   population live on roughly $2 a day. But what if all of those people had electricity at night, a refrigerator, a car? ”With ambitious goals to improve the standard of living, and 400 million people lacking reliable electricity, ’This means we need to enhance the energy supply by four to five times what it is now,’ says Ajay Mathur, a climate expert who runs the Energy and Resources Institute in New Delhi. He says that no matter how fast India increases its clean energy, like solar and wind, the country will probably also double its use of coal between now and 2030. ”Todd Stern, who served till last month as the top U. S. envoy on climate change, says India has a steeper hill to climb than any other country. ’There is no country, probably, with a bigger challenge  —   looking at the number of people, the level of their economic growth, the number of people who don’t have access to electricity,’ he says.” Can India’s Sacred But ’Dead’ Yamuna River Be Saved? India’s Big Battle: Development Vs. Pollution, In India’s Sundarbans, People And Tigers Try To Coexist In A Shrinking Space, ”Trying to understand the Trump Organization is a daunting task.   Donald Trump has not released his tax returns, so the best clues about his privately held business interests come from a financial disclosure form he released in May. ”The document covers scores of pages with small type, and suggests he is financially involved with hundreds of companies, including some that simply license his name. ”A dive into that disclosure form, submitted to the Office of Government Ethics, shows his largest sources of revenue are golf courses and   rents. But his interests are far flung, and include media, retail, entertainment and much more. ”Those business interests are affected by government agencies and policies. NPR scoured this document to create an overview of some of his business assets and operations (excluding debts) and the possible areas where conflicts may arise.” The protests at the Standing Rock Reservation, which started in early 2016, had small roots but grew into the thousands, drawing support from Native Americans from across the country, as well as activists who joined in solidarity against the proposed route of the   Dakota Access Pipeline just north of the reservation. In December, those protests won a concession from the federal government: The Army Corps of Engineers announced it would deny the permit necessary to build the oil pipeline in that area. In Their Own Words: The ’Water Protectors’ Of Standing Rock, Protesters Mark A Solemn Thanksgiving Day At Standing Rock, Protesters, Police Still Clashing Over Disputed North Dakota Pipeline, N. D. Pipeline Protester: ’It’s About Our Rights As Native People’ ”Up to 1 in 5 kids living in the U. S. shows signs or symptoms of a mental health disorder in a given year. So in a school classroom of 25 students, five of them may be struggling with the same issues many adults deal with: depression, anxiety, substance abuse. And yet most children  —   nearly 80 percent  —   who need mental health services won’t get them. ”Whether treated or not, the children do go to school. And the problems they face can tie into major problems found in schools: chronic absence, low achievement, disruptive behavior and dropping out. ”Experts say schools could play a role in identifying students with problems and helping them succeed. Yet it’s a role many schools are not prepared for.” ”Grapefruit’s bitterness can make it hard to love. Indeed, people often smother it in sugar just to get it down. And yet Americans were once urged to sweeten it with salt. ”Ad campaigns from the first and second world wars tried to convince us that ’Grapefruit Tastes Sweeter With Salt!’ as one 1946 ad for Morton’s in Life magazine put it. The pairing, these ads swore, enhanced the flavor. ”In our   world, these curious culinary time capsules raise the question: Does salt really make grapefruit taste sweeter? And if this practice was once common, why do few people seem to eat grapefruit this way today?” Rio de Janeiro hosted the world’s elite athletes in an Olympics that promised transcendent moments in sports  —   and potential controversies outside of the competition. The Summer Games began Aug. 5, and more than 10, 000 athletes from 206 countries participated. From concerns over the Zika virus and Russian athletes banned on doping charges to incredible wins by the U. S. women’s gymnastics team and sweet moments of   support, the 2016 Olympics was one of the biggest events  —   and biggest stories  —   of the year. ’A Fantasy Of A Fantasy’: U. S. Fencer Jason Pryor On Reaching The Olympics, In Rio’s Favelas,   Benefits From Olympics Have Yet To Materialize, How The Olympic Medal Tables Explain The World, ”Philando Castile spent his driving career trapped in a seemingly endless cycle of traffic stops, fines, court appearances, revocations and reinstatements, raising questions about bias, race and luck. ”Castile’s trouble with traffic stops began when he still had his learner’s permit. He was stopped a day before his 19th birthday. From there, he descended into a seemingly endless cycle of traffic stops, fines, court appearances, late fees, revocations and reinstatements in various jurisdictions. ”Court records raise big questions: Was Castile targeted by police? Or was he just a careless or unlucky driver? ”An NPR analysis of those records shows that the    cafeteria worker who was shot and killed by a police officer during a traffic stop in a St. Paul, Minn. suburb, was stopped by police 46 times and racked up more than $6, 000 in fines. Another curious statistic: Of all of the stops, only six of them were things a police officer would notice from outside a car  —   things like speeding or having a broken muffler.” During a week in Cleveland, photographer Gabriella Demczuk explored the ways that people embraced and challenged the Republican Party’s mission in this election  —   both from inside and outside the party. Then in Philadelphia, Demczuk continued her exploration of the fractures in America’s political system, examining the Democratic Party’s attempt to make itself ”stronger together.” True Believers, Protesters And Trump: Scenes From Cleveland, Dissent, Drama And Unity At The Democratic Convention, ” ’With recent events and political environment, these weapons will be harder to get a hold of.’ ’This is what your   dreams it could be when it grows up.’ ’I can meet . .. near the FL Mall in Orlando or any other time.” ”Cash is king.’ ”These classified advertisements for   weapons were listed on Armslist, a website where anyone can advertise a firearm they’d like to sell, and anyone can contact a seller with an offer to buy. The site is legal. But there’s no way to know whether buyers and sellers who meet through Armslist are following federal, state or local background check rules. ”We wanted to see how many   firearms  —   defined here as handguns and rifles able to rapidly fire a large number of bullets, one shot per trigger pull, without having to reload  —   can be currently found on Armslist, and how quickly new listings appear. This provides a window into the difficulty of regulating access to a type of weapon frequently used in mass shootings.” Our favorite albums of the year draw from all of the genres we cover at NPR Music, from rock, pop and   to classical, jazz, electronic and international artists. These are the records NPR Music couldn’t stop playing  —   albums that speak to a moment and a lifetime, that party, and that exist in their own worlds. Our list of the year’s best songs may begin with Beyoncé and end with Drake, but between those two stars you’ll find a   mix that celebrates all of the music we love. These are the pop anthems, rallying cries, party jams, riff rockers, perfumed piano pieces and emotional exorcisms that we loved to share this year. ”Across the country, private organizations,   groups and individuals quietly have been working to ease the plight of Syrian refugees. More than 11, 000 have arrived in the U. S. this year, fulfilling a pledge by the Obama administration. That figure far exceeds the number of Syrian refugees accepted during the previous four years of the Syrian war, and the White House is calling for a big bump in the overall number of refugees next year. ”It had been a long journey for Osama and Ghada and their four kids, who are among the nearly 5 million Syrians who have fled their homeland since the war began in 2011. They survived the war in Syria and had struggled for three years as refugees in Jordan when they were notified by the U. N. refugee agency, UNHCR, that they had been accepted for resettlement in the U. S.” ”There are huge gaps in school funding between affluent and   districts. And, with evidence that money matters, especially for disadvantaged kids, something has to change. ”School Money is a   nationwide collaboration between NPR’s Ed Team and 20 member station reporters exploring how states pay for their public schools and why many are failing to meet the needs of their most vulnerable students.” Is There A Better Way To Pay For America’s Schools? Why America’s Schools Have A Money Problem, President Obama spoke to NPR as he prepared to leave Washington for the holidays, reflecting on the year that was, the 2016 campaign and other news, plus revealing what he’s hearing from citizens. In the   exit interview, NPR’s Steve Inskeep asked Obama about Russian interference in the U. S. election, executive power, the future of the Democratic party and his future role.",
                  "_deepnote_index_column": 4
                }
              ],
              "rows_bottom": null
            },
            "text/plain": "                                             Article\n0  In the Washington of 2016, even when the polic...\n1    Donald Trump has used Twitter  —   his prefe...\n2    Donald Trump is unabashedly praising Russian...\n3  Updated at 2:50 p. m. ET, Russian President Vl...\n4  From photography, illustration and video, to d...",
            "text/html": "<div>\n<style scoped>\n    .dataframe tbody tr th:only-of-type {\n        vertical-align: middle;\n    }\n\n    .dataframe tbody tr th {\n        vertical-align: top;\n    }\n\n    .dataframe thead th {\n        text-align: right;\n    }\n</style>\n<table border=\"1\" class=\"dataframe\">\n  <thead>\n    <tr style=\"text-align: right;\">\n      <th></th>\n      <th>Article</th>\n    </tr>\n  </thead>\n  <tbody>\n    <tr>\n      <th>0</th>\n      <td>In the Washington of 2016, even when the polic...</td>\n    </tr>\n    <tr>\n      <th>1</th>\n      <td>Donald Trump has used Twitter  —   his prefe...</td>\n    </tr>\n    <tr>\n      <th>2</th>\n      <td>Donald Trump is unabashedly praising Russian...</td>\n    </tr>\n    <tr>\n      <th>3</th>\n      <td>Updated at 2:50 p. m. ET, Russian President Vl...</td>\n    </tr>\n    <tr>\n      <th>4</th>\n      <td>From photography, illustration and video, to d...</td>\n    </tr>\n  </tbody>\n</table>\n</div>"
          },
          "metadata": {}
        }
      ]
    },
    {
      "cell_type": "markdown",
      "metadata": {
        "tags": [],
        "cell_id": "00024-a2d5644f-479d-4924-aa7a-519e2f9012fa",
        "output_cleared": false,
        "deepnote_cell_type": "markdown",
        "id": "7_0nFBpWO0MO"
      },
      "source": [
        "We'll keep sentences of a similar length to our generated food sentences."
      ]
    },
    {
      "cell_type": "code",
      "metadata": {
        "tags": [],
        "cell_id": "00025-84f715ff-7cd2-41ed-a0fa-ee2650b5be10",
        "output_cleared": false,
        "source_hash": "4c96f29f",
        "execution_millis": 4913,
        "execution_start": 1605883260187,
        "deepnote_to_be_reexecuted": true,
        "deepnote_cell_type": "code",
        "id": "4OsYFGsLO0MO"
      },
      "source": [
        "# create an nlp object as we'll use this to seperate the sentences and identify existing entities\n",
        "nlp = en_core_web_lg.load()"
      ],
      "execution_count": null,
      "outputs": []
    },
    {
      "cell_type": "code",
      "metadata": {
        "tags": [],
        "cell_id": "00026-811aec36-7a66-4085-a71e-f9b371579a67",
        "output_cleared": false,
        "source_hash": "cd5160c1",
        "execution_millis": 208230,
        "execution_start": 1605883274911,
        "deepnote_to_be_reexecuted": true,
        "deepnote_cell_type": "code",
        "id": "Bk6C_VgUO0MP"
      },
      "source": [
        "revision_texts = []\n",
        "\n",
        "# convert the articles to spacy objects to better identify the sentences. Disabled unneeded components. # takes ~ 4 minutes\n",
        "for doc in nlp.pipe(npr_df[\"Article\"][:6000], batch_size=30, disable=[\"tagger\", \"ner\"]):\n",
        "    for sentence in doc.sents:\n",
        "        if  40 < len(sentence.text) < 80:\n",
        "            # some of the sentences had excessive whitespace in between words, so we're trimming that\n",
        "            revision_texts.append(\" \".join(re.split(\"\\s+\", sentence.text, flags=re.UNICODE)))"
      ],
      "execution_count": null,
      "outputs": []
    },
    {
      "cell_type": "markdown",
      "metadata": {
        "tags": [],
        "cell_id": "00027-15bb68c2-e793-497b-aacd-fb2ec7759c41",
        "output_cleared": false,
        "deepnote_cell_type": "markdown",
        "id": "4TGgfPluO0MP"
      },
      "source": [
        "This takes a while. Unfortunately we need a lot of sentences because the entities we'll be able to identify aren't evenly distributed as we'll see later."
      ]
    },
    {
      "cell_type": "code",
      "metadata": {
        "tags": [],
        "cell_id": "00026-cefaabe7-dab7-44d6-8b3e-a2b0de961c4a",
        "output_cleared": false,
        "source_hash": "593d0e64",
        "execution_millis": 45376,
        "execution_start": 1605883739313,
        "deepnote_to_be_reexecuted": true,
        "deepnote_cell_type": "code",
        "id": "eUyyasKLO0MP"
      },
      "source": [
        "revisions = []\n",
        "\n",
        "# Use the existing spaCy model to predict the entities, then append them to revision\n",
        "for doc in nlp.pipe(revision_texts, batch_size=50, disable=[\"tagger\", \"parser\"]):\n",
        "    \n",
        "    # don't append sentences that have no entities\n",
        "    if len(doc.ents) > 0:\n",
        "        revisions.append((doc.text, {\"entities\": [(e.start_char, e.end_char, e.label_) for e in doc.ents]}))"
      ],
      "execution_count": null,
      "outputs": []
    },
    {
      "cell_type": "markdown",
      "metadata": {
        "tags": [],
        "cell_id": "00027-1fd70631-4931-41bd-8fb6-cdc4dba459cb",
        "output_cleared": false,
        "deepnote_cell_type": "markdown",
        "id": "mv7xYH0pO0MQ"
      },
      "source": [
        "### Split train and test revision data\n",
        "In the previous step we filtered out sentences that were too short and too long. We've also used spaCy to predict the entities from the filtered sentences."
      ]
    },
    {
      "cell_type": "code",
      "metadata": {
        "tags": [],
        "cell_id": "00028-7855d0aa-317a-491e-bdf7-65511d293d07",
        "output_cleared": false,
        "source_hash": "3efe7b39",
        "execution_millis": 1,
        "execution_start": 1605884107613,
        "deepnote_to_be_reexecuted": true,
        "deepnote_cell_type": "code",
        "id": "fMU_3hoZO0MQ",
        "outputId": "7b84bd29-10c7-4da1-9ed9-50ec564d2c7b"
      },
      "source": [
        "# print an example of the revision sentence\n",
        "print(revisions[0][0])\n",
        "\n",
        "# print an example of the revision data\n",
        "print(revisions[0][1])"
      ],
      "execution_count": null,
      "outputs": [
        {
          "name": "stdout",
          "text": "And in that sense, this year shows little sign of ending on Dec. 31.\n{'entities': [(19, 28, 'DATE'), (60, 67, 'DATE')]}\n",
          "output_type": "stream"
        }
      ]
    },
    {
      "cell_type": "markdown",
      "metadata": {
        "tags": [],
        "cell_id": "00029-1b7b7fa9-a7c5-4958-9e1e-8b3edb506280",
        "output_cleared": false,
        "deepnote_cell_type": "markdown",
        "id": "RPnJAYbMO0MQ"
      },
      "source": [
        "When splitting the train and test data, we'll ensure that the revision training data has at least 100 examples of the different entity types."
      ]
    },
    {
      "cell_type": "code",
      "metadata": {
        "tags": [],
        "cell_id": "00022-8dbd742a-da86-4e88-a534-9c561d2936a0",
        "output_cleared": false,
        "source_hash": "e324e89e",
        "execution_millis": 0,
        "execution_start": 1605884128717,
        "deepnote_to_be_reexecuted": true,
        "deepnote_cell_type": "code",
        "id": "vIvdfTtMO0MR"
      },
      "source": [
        "# create arrays to store the revision data\n",
        "TRAIN_REVISION_DATA = []\n",
        "TEST_REVISION_DATA = []\n",
        "\n",
        "# create dictionaries to keep count of the different entities\n",
        "TRAIN_ENTITY_COUNTER = {}\n",
        "TEST_ENTITY_COUNTER = {}\n",
        "\n",
        "# This will help distribute the entities (i.e. we don't want 1000 PERSON entities, but only 80 ORG entities)\n",
        "REVISION_SENTENCE_SOFT_LIMIT = 100\n",
        "\n",
        "# helper function for incrementing the revision counters\n",
        "def increment_revision_counters(entity_counter, entities):\n",
        "    for entity in entities:\n",
        "        label = entity[2]\n",
        "        if label in entity_counter:\n",
        "            entity_counter[label] += 1\n",
        "        else:\n",
        "            entity_counter[label] = 1\n",
        "\n",
        "random.shuffle(revisions)\n",
        "for revision in revisions:\n",
        "    # get the entities from the revision sentence\n",
        "    entities = revision[1][\"entities\"]\n",
        "\n",
        "    # simple hack to make sure spaCy entities don't get too one-sided\n",
        "    should_append_to_train_counter = 0\n",
        "    for _, _, label in entities:\n",
        "        if label in TRAIN_ENTITY_COUNTER and TRAIN_ENTITY_COUNTER[label] > REVISION_SENTENCE_SOFT_LIMIT:\n",
        "            should_append_to_train_counter -= 1\n",
        "        else:\n",
        "            should_append_to_train_counter += 1\n",
        "\n",
        "    # simple switch for deciding whether to append to train data or test data\n",
        "    if should_append_to_train_counter >= 0:\n",
        "        TRAIN_REVISION_DATA.append(revision)\n",
        "        increment_revision_counters(TRAIN_ENTITY_COUNTER, entities)\n",
        "    else:\n",
        "        TEST_REVISION_DATA.append(revision)\n",
        "        increment_revision_counters(TEST_ENTITY_COUNTER, entities)"
      ],
      "execution_count": null,
      "outputs": []
    },
    {
      "cell_type": "markdown",
      "metadata": {
        "tags": [],
        "cell_id": "00033-4949170d-fca4-4715-9d44-bef3c2472282",
        "output_cleared": false,
        "deepnote_cell_type": "markdown",
        "id": "Mt_tqbHgO0MR"
      },
      "source": [
        "Here are the entities and their counts that were captured in our revision training sentences:"
      ]
    },
    {
      "cell_type": "code",
      "metadata": {
        "tags": [],
        "cell_id": "00023-27590c07-1a10-44a2-871c-3673b1bf417d",
        "output_cleared": false,
        "source_hash": "6462f521",
        "execution_millis": 2,
        "execution_start": 1605884172462,
        "deepnote_to_be_reexecuted": true,
        "deepnote_cell_type": "code",
        "id": "JGui1KCDO0MR",
        "outputId": "8ce4ecd3-48a9-4847-c45b-fb7f532ed394"
      },
      "source": [
        "TRAIN_ENTITY_COUNTER"
      ],
      "execution_count": null,
      "outputs": [
        {
          "output_type": "execute_result",
          "execution_count": 160,
          "data": {
            "text/plain": "{'DATE': 212,\n 'GPE': 164,\n 'CARDINAL': 195,\n 'PERSON': 254,\n 'LANGUAGE': 85,\n 'ORG': 192,\n 'WORK_OF_ART': 103,\n 'TIME': 108,\n 'ORDINAL': 110,\n 'PERCENT': 101,\n 'NORP': 115,\n 'LOC': 106,\n 'MONEY': 102,\n 'QUANTITY': 101,\n 'EVENT': 101,\n 'PRODUCT': 101,\n 'LAW': 95,\n 'FAC': 101}"
          },
          "metadata": {}
        }
      ]
    },
    {
      "cell_type": "markdown",
      "metadata": {
        "tags": [],
        "cell_id": "00035-c0229033-b0b8-4742-b243-de2dd86e6080",
        "output_cleared": false,
        "deepnote_cell_type": "markdown",
        "id": "Q5Hz-v17O0MS"
      },
      "source": [
        "Here are the entities and counts captured in our revision test sentences. This just shows that our initial sentences had a large number of examples for `PERSON` but very few for `LAW`."
      ]
    },
    {
      "cell_type": "code",
      "metadata": {
        "tags": [],
        "cell_id": "00032-a20660bd-aba7-45b4-943c-7fea9f1188cb",
        "output_cleared": false,
        "source_hash": "24f6d6ab",
        "execution_millis": 1,
        "execution_start": 1605884264317,
        "deepnote_to_be_reexecuted": true,
        "deepnote_cell_type": "code",
        "id": "nvARPbo-O0MS",
        "outputId": "a6d16f67-e67c-4e8e-8ff4-6aafefe8562d"
      },
      "source": [
        "TEST_ENTITY_COUNTER"
      ],
      "execution_count": null,
      "outputs": [
        {
          "output_type": "execute_result",
          "execution_count": 161,
          "data": {
            "text/plain": "{'PERSON': 14027,\n 'ORG': 10360,\n 'DATE': 7153,\n 'GPE': 5661,\n 'NORP': 2739,\n 'CARDINAL': 5397,\n 'QUANTITY': 171,\n 'PERCENT': 441,\n 'TIME': 794,\n 'FAC': 152,\n 'LOC': 559,\n 'ORDINAL': 1151,\n 'MONEY': 560,\n 'WORK_OF_ART': 592,\n 'PRODUCT': 119,\n 'EVENT': 104,\n 'LANGUAGE': 24,\n 'LAW': 12}"
          },
          "metadata": {}
        }
      ]
    },
    {
      "cell_type": "markdown",
      "metadata": {
        "tags": [],
        "cell_id": "00033-60f4868d-3c57-4d4d-a66f-25964bbd7172",
        "output_cleared": false,
        "deepnote_cell_type": "markdown",
        "id": "pe6ZwDeMO0MT"
      },
      "source": [
        "## Training the NER Model"
      ]
    },
    {
      "cell_type": "markdown",
      "metadata": {
        "tags": [],
        "cell_id": "00034-09414e21-1649-4c92-88a1-9a46608a903a",
        "output_cleared": false,
        "deepnote_cell_type": "markdown",
        "id": "sXzTZAGYO0MT"
      },
      "source": [
        "For every food sentence, I have revision sentences. I haven't actually seen guidance on what this should be, so this is one of those \"stir until good enough\" moments."
      ]
    },
    {
      "cell_type": "code",
      "metadata": {
        "tags": [],
        "cell_id": "00035-7c4fa1f1-2640-41af-8149-825eb2e601b3",
        "output_cleared": false,
        "source_hash": "a109d7d7",
        "execution_millis": 0,
        "execution_start": 1605884284433,
        "deepnote_to_be_reexecuted": true,
        "deepnote_cell_type": "code",
        "id": "f1RlOk6SO0MT",
        "outputId": "3c34ae85-913c-4933-96ac-295841fbdd2b"
      },
      "source": [
        "# combine the food training data\n",
        "TRAIN_FOOD_DATA_COMBINED = TRAIN_FOOD_DATA[\"one_food\"] + TRAIN_FOOD_DATA[\"two_foods\"] + TRAIN_FOOD_DATA[\"three_foods\"]\n",
        "\n",
        "# print the length of the food training data\n",
        "print(\"FOOD\", len(TRAIN_FOOD_DATA_COMBINED))\n",
        "\n",
        "# print the length of the revision training data\n",
        "print(\"REVISION\", len(TRAIN_REVISION_DATA))\n",
        "\n",
        "# join and print the combined length\n",
        "TRAIN_DATA = TRAIN_REVISION_DATA + TRAIN_FOOD_DATA_COMBINED\n",
        "print(\"COMBINED\", len(TRAIN_DATA))"
      ],
      "execution_count": null,
      "outputs": [
        {
          "name": "stdout",
          "text": "FOOD 501\nREVISION 1490\nCOMBINED 1991\n",
          "output_type": "stream"
        }
      ]
    },
    {
      "cell_type": "code",
      "metadata": {
        "tags": [],
        "cell_id": "00037-eecdfe5c-a2ed-4c4c-93f6-94b194f0c5cc",
        "output_cleared": false,
        "source_hash": "5e7ad532",
        "execution_millis": 698772,
        "execution_start": 1605884366617,
        "deepnote_to_be_reexecuted": true,
        "deepnote_cell_type": "code",
        "id": "8jLfCYvOO0MU",
        "outputId": "32eed607-f080-4085-b948-819c7d0b2a09"
      },
      "source": [
        "# add NER to the pipeline and the new label\n",
        "ner = nlp.get_pipe(\"ner\")\n",
        "ner.add_label(\"FOOD\")\n",
        "\n",
        "# get the names of the components we want to disable during training\n",
        "pipe_exceptions = [\"ner\", \"trf_wordpiecer\", \"trf_tok2vec\"]\n",
        "other_pipes = [pipe for pipe in nlp.pipe_names if pipe not in pipe_exceptions]\n",
        "\n",
        "# start the training loop, only training NER\n",
        "epochs = 30\n",
        "optimizer = nlp.resume_training()\n",
        "with nlp.disable_pipes(*other_pipes), warnings.catch_warnings():\n",
        "    warnings.filterwarnings(\"once\", category=UserWarning, module='spacy')\n",
        "    sizes = compounding(1.0, 4.0, 1.001)\n",
        "    \n",
        "    # batch up the examples using spaCy's minibatc\n",
        "    for epoch in range(epochs):\n",
        "        examples = TRAIN_DATA\n",
        "        random.shuffle(examples)\n",
        "        batches = minibatch(examples, size=sizes)\n",
        "        losses = {}\n",
        "        \n",
        "        for batch in batches:\n",
        "            texts, annotations = zip(*batch)\n",
        "            nlp.update(texts, annotations, sgd=optimizer, drop=0.35, losses=losses)\n",
        "\n",
        "        print(\"Losses ({}/{})\".format(epoch + 1, epochs), losses)"
      ],
      "execution_count": null,
      "outputs": [
        {
          "name": "stdout",
          "text": "Losses (1/30) {'ner': 16073.626560282552}\nLosses (2/30) {'ner': 14584.542186669307}\nLosses (3/30) {'ner': 14548.422105267644}\nLosses (4/30) {'ner': 14300.272813861375}\nLosses (5/30) {'ner': 14186.099578664172}\nLosses (6/30) {'ner': 14101.325425518793}\nLosses (7/30) {'ner': 14000.43209932954}\nLosses (8/30) {'ner': 13994.203212552093}\nLosses (9/30) {'ner': 14022.144056472462}\nLosses (10/30) {'ner': 13901.634234594181}\nLosses (11/30) {'ner': 13745.580805012956}\nLosses (12/30) {'ner': 13903.877741001314}\nLosses (13/30) {'ner': 13817.979523293063}\nLosses (14/30) {'ner': 13830.568540076929}\nLosses (15/30) {'ner': 13860.916276267613}\nLosses (16/30) {'ner': 13778.726491773035}\nLosses (17/30) {'ner': 13602.03644076937}\nLosses (18/30) {'ner': 13822.509093627625}\nLosses (19/30) {'ner': 13501.720368203663}\nLosses (20/30) {'ner': 13691.972102675238}\nLosses (21/30) {'ner': 13686.256363266613}\nLosses (22/30) {'ner': 13478.341214498476}\nLosses (23/30) {'ner': 13622.263516337844}\nLosses (24/30) {'ner': 13655.980778428377}\nLosses (25/30) {'ner': 13632.509101368283}\nLosses (26/30) {'ner': 13548.80638261576}\nLosses (27/30) {'ner': 13608.923688475392}\nLosses (28/30) {'ner': 13581.22338909845}\nLosses (29/30) {'ner': 13501.752293019905}\nLosses (30/30) {'ner': 13605.513101932593}\n",
          "output_type": "stream"
        }
      ]
    },
    {
      "cell_type": "markdown",
      "metadata": {
        "tags": [],
        "cell_id": "00039-75cce44e-d124-4d19-8d3f-719ff1497230",
        "output_cleared": false,
        "deepnote_cell_type": "markdown",
        "id": "B8zrRJR5O0MU"
      },
      "source": [
        "## Evaluating the Model\n"
      ]
    },
    {
      "cell_type": "code",
      "metadata": {
        "tags": [],
        "cell_id": "00036-6f95a6b4-ad7a-44ac-a84b-962e5d216763",
        "output_cleared": false,
        "source_hash": "692c313e",
        "execution_millis": 1,
        "execution_start": 1605885658965,
        "deepnote_to_be_reexecuted": true,
        "deepnote_cell_type": "code",
        "id": "F4iSzinXO0MU",
        "outputId": "82e1c68e-8699-4cfd-d3b3-d9cb45b14ab5"
      },
      "source": [
        "# display sentence involving original entities\n",
        "spacy.displacy.render(nlp(\"Apple is looking at buying U.K. startup for $1 billion\"), style=\"ent\")"
      ],
      "execution_count": null,
      "outputs": [
        {
          "data": {
            "text/plain": "<IPython.core.display.HTML object>",
            "text/html": "<span class=\"tex2jax_ignore\"><div class=\"entities\" style=\"line-height: 2.5; direction: ltr\">\n<mark class=\"entity\" style=\"background: #7aecec; padding: 0.45em 0.6em; margin: 0 0.25em; line-height: 1; border-radius: 0.35em;\">\n    Apple\n    <span style=\"font-size: 0.8em; font-weight: bold; line-height: 1; border-radius: 0.35em; text-transform: uppercase; vertical-align: middle; margin-left: 0.5rem\">ORG</span>\n</mark>\n is looking at buying \n<mark class=\"entity\" style=\"background: #feca74; padding: 0.45em 0.6em; margin: 0 0.25em; line-height: 1; border-radius: 0.35em;\">\n    U.K.\n    <span style=\"font-size: 0.8em; font-weight: bold; line-height: 1; border-radius: 0.35em; text-transform: uppercase; vertical-align: middle; margin-left: 0.5rem\">GPE</span>\n</mark>\n startup for \n<mark class=\"entity\" style=\"background: #e4e7d2; padding: 0.45em 0.6em; margin: 0 0.25em; line-height: 1; border-radius: 0.35em;\">\n    $1 billion\n    <span style=\"font-size: 0.8em; font-weight: bold; line-height: 1; border-radius: 0.35em; text-transform: uppercase; vertical-align: middle; margin-left: 0.5rem\">MONEY</span>\n</mark>\n</div></span>"
          },
          "metadata": {},
          "output_type": "display_data"
        }
      ]
    },
    {
      "cell_type": "code",
      "metadata": {
        "tags": [],
        "cell_id": "00041-6a5bbacc-dc01-4d49-9a04-908cb0a2c006",
        "output_cleared": false,
        "source_hash": "75c05687",
        "execution_millis": 1,
        "execution_start": 1605885775893,
        "deepnote_to_be_reexecuted": true,
        "deepnote_cell_type": "code",
        "id": "A236YW5rO0MV",
        "outputId": "261be130-efdf-412f-ced0-90cf213b05b3"
      },
      "source": [
        "# display sentences involving target entity\n",
        "spacy.displacy.render(nlp(\"I had a hamburger and chips for lunch today.\"), style=\"ent\")\n",
        "spacy.displacy.render(nlp(\"I decided to have chocolate ice cream as a little treat for myself.\"), style=\"ent\")\n",
        "spacy.displacy.render(nlp(\"I ordered basmati rice, leaf spinach and cheese from Tesco yesterday\"), style=\"ent\")"
      ],
      "execution_count": null,
      "outputs": [
        {
          "data": {
            "text/plain": "<IPython.core.display.HTML object>",
            "text/html": "<span class=\"tex2jax_ignore\"><div class=\"entities\" style=\"line-height: 2.5; direction: ltr\">I had a \n<mark class=\"entity\" style=\"background: #ddd; padding: 0.45em 0.6em; margin: 0 0.25em; line-height: 1; border-radius: 0.35em;\">\n    hamburger\n    <span style=\"font-size: 0.8em; font-weight: bold; line-height: 1; border-radius: 0.35em; text-transform: uppercase; vertical-align: middle; margin-left: 0.5rem\">FOOD</span>\n</mark>\n and \n<mark class=\"entity\" style=\"background: #ddd; padding: 0.45em 0.6em; margin: 0 0.25em; line-height: 1; border-radius: 0.35em;\">\n    chips\n    <span style=\"font-size: 0.8em; font-weight: bold; line-height: 1; border-radius: 0.35em; text-transform: uppercase; vertical-align: middle; margin-left: 0.5rem\">FOOD</span>\n</mark>\n for lunch today.</div></span>"
          },
          "metadata": {},
          "output_type": "display_data"
        },
        {
          "data": {
            "text/plain": "<IPython.core.display.HTML object>",
            "text/html": "<span class=\"tex2jax_ignore\"><div class=\"entities\" style=\"line-height: 2.5; direction: ltr\">I decided to have \n<mark class=\"entity\" style=\"background: #ddd; padding: 0.45em 0.6em; margin: 0 0.25em; line-height: 1; border-radius: 0.35em;\">\n    chocolate ice cream\n    <span style=\"font-size: 0.8em; font-weight: bold; line-height: 1; border-radius: 0.35em; text-transform: uppercase; vertical-align: middle; margin-left: 0.5rem\">FOOD</span>\n</mark>\n as a little treat for myself.</div></span>"
          },
          "metadata": {},
          "output_type": "display_data"
        },
        {
          "data": {
            "text/plain": "<IPython.core.display.HTML object>",
            "text/html": "<span class=\"tex2jax_ignore\"><div class=\"entities\" style=\"line-height: 2.5; direction: ltr\">I ordered \n<mark class=\"entity\" style=\"background: #ddd; padding: 0.45em 0.6em; margin: 0 0.25em; line-height: 1; border-radius: 0.35em;\">\n    basmati rice\n    <span style=\"font-size: 0.8em; font-weight: bold; line-height: 1; border-radius: 0.35em; text-transform: uppercase; vertical-align: middle; margin-left: 0.5rem\">FOOD</span>\n</mark>\n, \n<mark class=\"entity\" style=\"background: #ddd; padding: 0.45em 0.6em; margin: 0 0.25em; line-height: 1; border-radius: 0.35em;\">\n    leaf spinach\n    <span style=\"font-size: 0.8em; font-weight: bold; line-height: 1; border-radius: 0.35em; text-transform: uppercase; vertical-align: middle; margin-left: 0.5rem\">FOOD</span>\n</mark>\n and \n<mark class=\"entity\" style=\"background: #ddd; padding: 0.45em 0.6em; margin: 0 0.25em; line-height: 1; border-radius: 0.35em;\">\n    cheese\n    <span style=\"font-size: 0.8em; font-weight: bold; line-height: 1; border-radius: 0.35em; text-transform: uppercase; vertical-align: middle; margin-left: 0.5rem\">FOOD</span>\n</mark>\n from \n<mark class=\"entity\" style=\"background: #7aecec; padding: 0.45em 0.6em; margin: 0 0.25em; line-height: 1; border-radius: 0.35em;\">\n    Tesco\n    <span style=\"font-size: 0.8em; font-weight: bold; line-height: 1; border-radius: 0.35em; text-transform: uppercase; vertical-align: middle; margin-left: 0.5rem\">ORG</span>\n</mark>\n yesterday</div></span>"
          },
          "metadata": {},
          "output_type": "display_data"
        }
      ]
    },
    {
      "cell_type": "markdown",
      "metadata": {
        "tags": [],
        "cell_id": "00044-1f5d61b9-6b95-47c7-8fb5-25a16d210057",
        "output_cleared": false,
        "deepnote_cell_type": "markdown",
        "id": "qriOdN7fO0MV"
      },
      "source": [
        "Initial results seem pretty good, let's evaluate on a wider scale."
      ]
    },
    {
      "cell_type": "markdown",
      "metadata": {
        "tags": [],
        "cell_id": "00042-81b97db4-fdaa-4730-8fc8-57fa5be98c20",
        "output_cleared": false,
        "deepnote_cell_type": "markdown",
        "id": "leeep3oBO0MW"
      },
      "source": [
        "### Evaluating Food Entities"
      ]
    },
    {
      "cell_type": "code",
      "metadata": {
        "tags": [],
        "cell_id": "00042-4489d26f-dffe-4077-afde-f53b1a4286c9",
        "output_cleared": false,
        "source_hash": "269c11d",
        "execution_millis": 12933,
        "execution_start": 1605886403861,
        "deepnote_to_be_reexecuted": true,
        "deepnote_cell_type": "code",
        "id": "ZyOEJwpVO0MW"
      },
      "source": [
        "# dictionary to hold our evaluation data\n",
        "food_evaluation = {\n",
        "    \"one_food\": {\n",
        "        \"correct\": 0,\n",
        "        \"total\": 0,\n",
        "    },\n",
        "    \"two_foods\": {\n",
        "        \"correct\": 0,\n",
        "        \"total\": 0\n",
        "    },\n",
        "    \"three_foods\": {\n",
        "        \"correct\": 0,\n",
        "        \"total\": 0\n",
        "    }\n",
        "}\n",
        "\n",
        "word_evaluation = {\n",
        "    \"1_worded_foods\": {\n",
        "        \"correct\": 0,\n",
        "        \"total\": 0\n",
        "    },\n",
        "    \"2_worded_foods\": {\n",
        "        \"correct\": 0,\n",
        "        \"total\": 0\n",
        "    },\n",
        "    \"3_worded_foods\": {\n",
        "        \"correct\": 0,\n",
        "        \"total\": 0\n",
        "    }\n",
        "}\n",
        "\n",
        "# loop over data from our test food set (3 keys in total)\n",
        "for key in TEST_FOOD_DATA:\n",
        "    foods = TEST_FOOD_DATA[key]\n",
        "\n",
        "    for food in foods:\n",
        "        # extract the sentence and correct food entities according to our test data\n",
        "        sentence = food[0]\n",
        "        entities = food[1][\"entities\"]\n",
        "\n",
        "        # for each entity, use our updated model to make a prediction on the sentence\n",
        "        for entity in entities:\n",
        "            doc = nlp(sentence)\n",
        "            correct_text = sentence[entity[0]:entity[1]]\n",
        "            n_worded_food =  len(correct_text.split())\n",
        "\n",
        "            # if we find that there's a match for predicted entity and predicted text, increment correct counters\n",
        "            for ent in doc.ents:\n",
        "                if ent.label_ == entity[2] and ent.text == correct_text:\n",
        "                    food_evaluation[key][\"correct\"] += 1\n",
        "                    if n_worded_food > 0:\n",
        "                        word_evaluation[f\"{n_worded_food}_worded_foods\"][\"correct\"] += 1\n",
        "                    \n",
        "                    # this break is important, ensures that we're not double counting on a correct match\n",
        "                    break\n",
        "            \n",
        "            #  increment total counters after each entity loop\n",
        "            food_evaluation[key][\"total\"] += 1\n",
        "            if n_worded_food > 0:\n",
        "                word_evaluation[f\"{n_worded_food}_worded_foods\"][\"total\"] += 1"
      ],
      "execution_count": null,
      "outputs": []
    },
    {
      "cell_type": "code",
      "metadata": {
        "tags": [],
        "cell_id": "00043-dacbdb2c-d032-4502-8fb9-a8027f51fbab",
        "output_cleared": false,
        "source_hash": "8ef59d90",
        "execution_millis": 1,
        "execution_start": 1605886695056,
        "deepnote_to_be_reexecuted": true,
        "deepnote_cell_type": "code",
        "id": "9wXPAmDAO0MW",
        "outputId": "bc1c0b0e-8a80-450f-c677-765ca4df1a3e"
      },
      "source": [
        "for key in word_evaluation:\n",
        "    correct = word_evaluation[key][\"correct\"]\n",
        "    total = word_evaluation[key][\"total\"]\n",
        "\n",
        "    print(f\"{key}: {correct / total * 100:.2f}%\")\n",
        "\n",
        "food_total_sum = 0\n",
        "food_correct_sum = 0\n",
        "\n",
        "print(\"---\")\n",
        "for key in food_evaluation:\n",
        "    correct = food_evaluation[key][\"correct\"]\n",
        "    total = food_evaluation[key][\"total\"]\n",
        "    \n",
        "    food_total_sum += total\n",
        "    food_correct_sum += correct\n",
        "\n",
        "    print(f\"{key}: {correct / total * 100:.2f}%\")\n",
        "\n",
        "print(f\"\\nTotal: {food_correct_sum/food_total_sum * 100:.2f}%\")"
      ],
      "execution_count": null,
      "outputs": [
        {
          "name": "stdout",
          "text": "1_worded_foods: 91.10%\n2_worded_foods: 96.69%\n3_worded_foods: 96.88%\n---\none_food: 91.44%\ntwo_foods: 94.76%\nthree_foods: 98.13%\n\nTotal: 94.14%\n",
          "output_type": "stream"
        }
      ]
    },
    {
      "cell_type": "markdown",
      "metadata": {
        "tags": [],
        "cell_id": "00050-61f54b3b-bce8-4e18-9b3e-b8e1a537e55c",
        "deepnote_cell_type": "markdown",
        "id": "Wu7tk6WKO0MW"
      },
      "source": [
        "These results are really positive. We're stumbling with `1_worded_foods` accuracy, though that's potentially because we had more testing data for `1_worded_foods`. \n",
        "Perhaps with more test examples for `2_worded_foods` and `three_worded_foods`, we'd also see that accuracy trend to ~91%."
      ]
    },
    {
      "cell_type": "markdown",
      "metadata": {
        "tags": [],
        "cell_id": "00043-99cdcce0-47f4-4ab3-9d7f-8c2d100a7777",
        "output_cleared": false,
        "deepnote_cell_type": "markdown",
        "id": "qGUlWwdEO0MX"
      },
      "source": [
        "### Evaluating Existing Entities"
      ]
    },
    {
      "cell_type": "code",
      "metadata": {
        "tags": [],
        "cell_id": "00044-e5e6f6ba-bcc4-44dc-80df-fc3d7e4f6177",
        "output_cleared": false,
        "source_hash": "a3b4e911",
        "execution_millis": 389369,
        "execution_start": 1605887007471,
        "deepnote_to_be_reexecuted": true,
        "deepnote_cell_type": "code",
        "id": "dJdwgysgO0MX"
      },
      "source": [
        "# dictionary which will be populated with the entities and result information\n",
        "entity_evaluation = {}\n",
        "\n",
        "# helper function to udpate the entity_evaluation dictionary\n",
        "def update_results(entity, metric):\n",
        "    if entity not in entity_evaluation:\n",
        "        entity_evaluation[entity] = {\"correct\": 0, \"total\": 0}\n",
        "    \n",
        "    entity_evaluation[entity][metric] += 1\n",
        "\n",
        "# same as before, see if entities from test set match what spaCy currently predicts\n",
        "for data in TEST_REVISION_DATA:\n",
        "    sentence = data[0]\n",
        "    entities = data[1][\"entities\"]\n",
        "\n",
        "    for entity in entities:\n",
        "        doc = nlp(sentence)\n",
        "        correct_text = sentence[entity[0]:entity[1]]\n",
        "\n",
        "        for ent in doc.ents:\n",
        "            if ent.label_ == entity[2] and ent.text == correct_text:\n",
        "                update_results(ent.label_, \"correct\")\n",
        "                break\n",
        "\n",
        "        update_results(entity[2], \"total\")\n"
      ],
      "execution_count": null,
      "outputs": []
    },
    {
      "cell_type": "code",
      "metadata": {
        "tags": [],
        "cell_id": "00046-e41f160a-e219-4447-8860-8a117e5d9375",
        "output_cleared": false,
        "source_hash": "5be4a06b",
        "execution_millis": 0,
        "execution_start": 1605888024554,
        "deepnote_to_be_reexecuted": true,
        "deepnote_cell_type": "code",
        "id": "i_wq-qQXO0MX",
        "outputId": "e8ed79e4-7793-48ac-d317-c74dd0f5b418"
      },
      "source": [
        "sum_total = 0\n",
        "sum_correct = 0\n",
        "\n",
        "for entity in entity_evaluation:\n",
        "    total = entity_evaluation[entity][\"total\"]\n",
        "    correct = entity_evaluation[entity][\"correct\"]\n",
        "\n",
        "    sum_total += total\n",
        "    sum_correct += correct\n",
        "    \n",
        "    print(\"{} | {:.2f}%\".format(entity, correct / total * 100))\n",
        "\n",
        "print()\n",
        "print(\"Overall accuracy: {:.2f}%\".format(sum_correct / sum_total * 100))"
      ],
      "execution_count": null,
      "outputs": [
        {
          "name": "stdout",
          "text": "PERSON | 80.18%\nORG | 50.84%\nDATE | 68.61%\nGPE | 82.56%\nNORP | 83.61%\nCARDINAL | 70.11%\nQUANTITY | 79.53%\nPERCENT | 88.44%\nTIME | 50.88%\nFAC | 56.58%\nLOC | 68.69%\nORDINAL | 94.53%\nMONEY | 84.11%\nWORK_OF_ART | 58.78%\nPRODUCT | 42.86%\nEVENT | 63.46%\nLANGUAGE | 91.67%\nLAW | 75.00%\n\nOverall accuracy: 71.23%\n",
          "output_type": "stream"
        }
      ]
    },
    {
      "cell_type": "markdown",
      "metadata": {
        "tags": [],
        "cell_id": "00054-3d0c46c7-d3c7-4fde-a536-b8274fff49dc",
        "deepnote_cell_type": "markdown",
        "id": "5ea_iGFoO0MX"
      },
      "source": [
        "These results are a little harder to interpret. After all, we're testing entities that the original spaCy model predicited for us. \n",
        "Those predicted entities may well be **wrong** since spaCy's accuracy is at around 86%. If 14% of the entities we're using to verify the accuracy of our new model are wrong, then where does that leave us?\n",
        "\n",
        "A better comparison would be to load in spaCy's original model and use that to predict against this test set and compare that accuracy  **%** to this one of **71%**. \n",
        "We could then use that as a benchmark for measuring how introducing `FOOD` entities deteriorates our model.\n",
        "\n",
        "*Note: The online notebook I used keeps crashing as I attempt to do this, so will do this on my local computer.*"
      ]
    },
    {
      "cell_type": "markdown",
      "metadata": {
        "tags": [],
        "cell_id": "00057-f86c366b-1584-4b9e-adde-3440df36ba84",
        "output_cleared": false,
        "deepnote_cell_type": "markdown",
        "id": "npuaLrfRO0MY"
      },
      "source": [
        "## Saving the model"
      ]
    },
    {
      "cell_type": "code",
      "metadata": {
        "tags": [],
        "cell_id": "00058-4c181f9a-7161-4fb4-9ab7-f784fb6b557a",
        "output_cleared": false,
        "source_hash": "d5d0cef",
        "execution_millis": 6924,
        "execution_start": 1605887540017,
        "deepnote_to_be_reexecuted": true,
        "deepnote_cell_type": "code",
        "id": "mJtucURaO0MY"
      },
      "source": [
        "nlp.meta[\"name\"] = \"food_entity_extractor_v2\"\n",
        "nlp.to_disk(\"./models/v2\")"
      ],
      "execution_count": null,
      "outputs": []
    },
    {
      "cell_type": "markdown",
      "metadata": {
        "tags": [],
        "cell_id": "00056-9c6295c2-707f-4549-844b-eadc2efd7da0",
        "output_cleared": false,
        "deepnote_cell_type": "markdown",
        "id": "ptOjQUOLO0MY"
      },
      "source": [
        "## Results\n",
        "\n",
        "The results we arrived at is the following for our `FOOD` entities:\n",
        "\n",
        "Category | Results\n",
        "---|---------\n",
        "One-worded foods | 91.10%\n",
        "Two-worded foods | 96.69%\n",
        "Three-worded foods | 96.88%\n",
        "Sentences with one food | 91.44%\n",
        "Sentences with two foods | 94.76%\n",
        "Sentences with three foods | 96.88%\n",
        "**Overall accuracy** | **94.14%**\n",
        "\n",
        "<br>\n",
        "\n",
        "The results for our existing entities:\n",
        "\n",
        "Category | Results\n",
        "---|---------\n",
        "`PERSON` | 80.18%\n",
        "`ORG` | 50.84%\n",
        "`DATE` | 68.61%\n",
        "`GPE` | 82.56%\n",
        "`NORP` | 83.61%\n",
        "`CARDINAL` | 70.11%\n",
        "`QUANTITY` | 79.53%\n",
        "`PERCENT` | 88.44%\n",
        "`TIME` | 50.88%\n",
        "`FAC` | 56.58%\n",
        "`LOC` | 68.69%\n",
        "`ORDINAL` | 94.53%\n",
        "`MONEY` | 84.11%\n",
        "`WORK_OF_ART` | 58.78%\n",
        "`PRODUCT` | 42.86%\n",
        "`EVENT` | 63.46%\n",
        "`LANGUAGE` | 91.67%\n",
        "`LAW` | 75.00%\n",
        "**Overall accuracy** | **71.32%**\n",
        "\n",
        "<br>\n",
        "\n",
        "I'm pretty happy with the accuracy of the `FOOD` entities, though it'd be worthwhile increasing the test sentences. \n",
        "For the revision entities, I'll first need to test this the accuracy with spaCy's original language model. If the results are still poor,\n",
        "I'll experiment with different revision datasets and adjust the ratio of food:revision sentences. \n",
        "\n",
        "Hope you've enjoyed reading this as much as I've enjoyed creating it! This provides an honest look into how I problem solve.\n",
        "If you want to see what I'm up to in future, you can find me on [Twitter](https://twitter.com/IsaacAderogba). \n",
        "I'll keep on posting personal changelogs of how I'm doing."
      ]
    },
    {
      "cell_type": "markdown",
      "metadata": {
        "tags": [],
        "cell_id": "00044-f19577db-9721-48a7-bc1c-2da346cdbaec",
        "output_cleared": false,
        "deepnote_cell_type": "markdown",
        "id": "-6VwKD3XO0MZ"
      },
      "source": [
        ""
      ]
    },
    {
      "cell_type": "markdown",
      "metadata": {
        "tags": [],
        "created_in_deepnote_cell": true,
        "deepnote_cell_type": "markdown",
        "id": "T0L71MkPO0MZ"
      },
      "source": [
        "<a style='text-decoration:none;line-height:16px;display:flex;color:#5B5B62;padding:10px;justify-content:end;' href='https://deepnote.com?utm_source=created-in-deepnote-cell&projectId=7947ded1-e661-4e50-aec7-acefaf21a9f8' target=\"_blank\">\n",
        "<img alt='Created in deepnote.com' style='display:inline;max-height:16px;margin:0px;margin-right:7.5px;' src='data:image/svg+xml;base64,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' > </img>\n",
        "Created in <span style='font-weight:600;margin-left:4px;'>Deepnote</span></a>"
      ]
    }
  ]
}