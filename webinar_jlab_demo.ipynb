{
  "nbformat": 4,
  "nbformat_minor": 0,
  "metadata": {
    "colab": {
      "name": "webinar_jlab_demo.ipynb",
      "version": "0.3.2",
      "provenance": [],
      "include_colab_link": true
    },
    "kernelspec": {
      "display_name": "Python 3",
      "language": "python",
      "name": "python3"
    }
  },
  "cells": [
    {
      "cell_type": "markdown",
      "metadata": {
        "id": "view-in-github",
        "colab_type": "text"
      },
      "source": [
        "[View in Colaboratory](https://colab.research.google.com/github/jonbaer/googlecolab/blob/master/webinar_jlab_demo.ipynb)"
      ]
    },
    {
      "metadata": {
        "id": "pm9HfgUq9z5V",
        "colab_type": "text"
      },
      "cell_type": "markdown",
      "source": [
        "Linking qgrid to other visualizations using event callbacks\n",
        "===============================================\n",
        "\n",
        "The following examples use qgrid's new \"events API\" that is only available in qgrid version 1.0.3 or newer. Specifically this notebook makes use of the ``on`` methods that qgrid provides for attaching event handlers. Event handlers can be attached using the ``qgrid.on`` method to listen for events on all widgets, or using the ``QgridWidget.on`` method the  to listen for events on individual QgridWidget instances. "
      ]
    },
    {
      "metadata": {
        "id": "3kLHg7lH9z5W",
        "colab_type": "text"
      },
      "cell_type": "markdown",
      "source": [
        "## Example 1 - Filter matplotlib scatter plot using qgrid\n",
        "In this example you'll see that by listening for a QgridWidget instances's ``filter_changed`` event, we can use qgrid to filter the data that's being visualized by another control in the notebook, in this case a matplotlib scatter plot. \n",
        "\n",
        "This capability allows you to filter a visualization by ANY field in the underlying DataFrame, including fields that are not used to generate the visualization. This enables interesting workflows like using a Categorical column to mark a particular row of the DataFrame with as \"bad\", setting a filter to hide \"bad\" rows in the qgrid instance, and then seeing the \"bad\" rows also disappear from any visualizations that the qgrid instance is hooked up to.\n",
        "\n",
        "The try out a simple example of using qgrid to filter another visualization, first execute the following two cells. Once you do that you should see a qgrid instance and a matplotlib scatter plot showing the same data as the qgrid instance. Next, set some filters on the columns of the qgrid instance and watch what happens to the scatter plot. You should see it update immediately to reflect the filtering changes."
      ]
    },
    {
      "metadata": {
        "id": "8Uwj2jlO9z5W",
        "colab_type": "code",
        "colab": {}
      },
      "cell_type": "code",
      "source": [
        "import numpy as np\n",
        "import pandas as pd\n",
        "import qgrid\n",
        "randn = np.random.randn\n",
        "df_types = pd.DataFrame({\n",
        "    'A' : pd.Series(['2013-01-01', '2013-01-02', '2013-01-03', '2013-01-04',\n",
        "               '2013-01-05', '2013-01-06', '2013-01-07', '2013-01-08', '2013-01-09'],index=list(range(9)),dtype='datetime64[ns]'),\n",
        "    'B' : pd.Series(randn(9),index=list(range(9)),dtype='float32'),\n",
        "    'C' : pd.Categorical([\"washington\", \"adams\", \"washington\", \"madison\", \"lincoln\",\"jefferson\", \"hamilton\", \"roosevelt\", \"kennedy\"]),\n",
        "    'D' : [\"foo\", \"bar\", \"buzz\", \"bippity\",\"boppity\", \"foo\", \"foo\", \"bar\", \"zoo\"] })\n",
        "df_types['E'] = df_types['D'] != 'foo'\n",
        "qgrid_widget = qgrid.show_grid(df_types, show_toolbar=True)\n",
        "qgrid_widget"
      ],
      "execution_count": 0,
      "outputs": []
    },
    {
      "metadata": {
        "id": "vNUDFzKm9z5a",
        "colab_type": "code",
        "colab": {}
      },
      "cell_type": "code",
      "source": [
        "col_opts = { \n",
        "    'editable': False,\n",
        "    'toolTip': \"Not editable\"\n",
        "}\n",
        "\n",
        "col_defs = {\n",
        "    'B': {\n",
        "        'editable': True,\n",
        "        'toolTip': \"Editable\"\n",
        "    },\n",
        "    'E': {\n",
        "        'editable': True,\n",
        "        'toolTip': \"Also editable\",\n",
        "        'width': 30\n",
        "    }\n",
        "}\n",
        "qgrid_widget = qgrid.show_grid(df_types, column_options=col_opts, column_definitions=col_defs, show_toolbar=True)\n",
        "qgrid_widget"
      ],
      "execution_count": 0,
      "outputs": []
    },
    {
      "metadata": {
        "id": "0fn8PxKQ9z5b",
        "colab_type": "code",
        "colab": {}
      },
      "cell_type": "code",
      "source": [
        "%matplotlib ipympl\n",
        "import matplotlib.pyplot as plt\n",
        "from traitlets import All\n",
        "\n",
        "n = 50\n",
        "\n",
        "qgrid_df = qgrid_widget.get_changed_df()\n",
        "x = qgrid_df.index\n",
        "y = qgrid_df['B']\n",
        "\n",
        "fig, ax = plt.subplots()\n",
        "fit = np.polyfit(x, y, deg=1)\n",
        "line, = ax.plot(x, fit[0] * x + fit[1], color='red')\n",
        "scatter, = ax.plot(x,y,ms=8,color='b',marker='o',ls='')\n",
        "\n",
        "def handle_qgrid_event(event, widget):\n",
        "    qgrid_df = qgrid_widget.get_changed_df()\n",
        "    x = qgrid_df.index\n",
        "    y = qgrid_df['B']\n",
        "    fit = np.polyfit(x, y, deg=1)\n",
        "    line.set_data(x, fit[0] * x + fit[1])\n",
        "    fig.canvas.draw()\n",
        "    scatter.set_data(x, y)\n",
        "    fig.canvas.draw()\n",
        "\n",
        "qgrid_widget.on(All, handle_qgrid_event)\n"
      ],
      "execution_count": 0,
      "outputs": []
    },
    {
      "metadata": {
        "id": "bU6sMOiI9z5e",
        "colab_type": "text"
      },
      "cell_type": "markdown",
      "source": [
        "## Example 2 - Logging all events\n",
        "In this example we'll see how you can listen for events from any qgrid instance using the `qgrid.on` method.\n",
        "\n",
        "Execute the following two cells. The first cell will create an empty output widget, and the second cell use the `on` method to listen for all events from all qgrid instances. Once the cells are executed, try interacting with any of the qgrid instances you created earlier in the notebook (i.e. by sorting, filtering, scrolling, etc).  Then scroll back down to this output widget and you'll notice that any actions that you took got printed to the output widget.\n",
        "\n",
        "In practice you'd probably want to do something more interesting than just print these events to the notebook, such as  log the events to a service that you use to track user interactions.  This is just a proof-of-concept to show which events are available."
      ]
    },
    {
      "metadata": {
        "id": "feZAdew49z5f",
        "colab_type": "code",
        "colab": {}
      },
      "cell_type": "code",
      "source": [
        "import ipywidgets as widgets\n",
        "user_interactions = widgets.Output(layout={'border': '1px solid black'})\n",
        "user_interactions"
      ],
      "execution_count": 0,
      "outputs": []
    },
    {
      "metadata": {
        "id": "3egsFwPO9z5h",
        "colab_type": "code",
        "colab": {}
      },
      "cell_type": "code",
      "source": [
        "import qgrid\n",
        "from traitlets import All\n",
        "from pprint import pprint\n",
        "\n",
        "def handle_all_events(event, qgrid_widget):\n",
        "    if event['name'] != 'json_updated':\n",
        "        with user_interactions:\n",
        "            pprint(event)\n",
        "\n",
        "qgrid.on(All, handle_all_events)"
      ],
      "execution_count": 0,
      "outputs": []
    },
    {
      "metadata": {
        "id": "VtnfuXD89z5j",
        "colab_type": "code",
        "colab": {}
      },
      "cell_type": "code",
      "source": [
        "user_interactions.clear_output()"
      ],
      "execution_count": 0,
      "outputs": []
    },
    {
      "metadata": {
        "id": "P5L7Bgfn9z5l",
        "colab_type": "text"
      },
      "cell_type": "markdown",
      "source": [
        "## Example 3 - Highlight visible rows in matplotlib price chart using qgrid\n",
        "This example is basically a repeat of Example 1, except with a line chart of some pricing data for the S&P 500 instead of a scatter plot.\n",
        "\n",
        "First, execute the following two cells. Once you do that you should see a qgrid instance and a matplotlib line chart showing the same data as the qgrid instance. Next, set some filters on the columns of the qgrid instance and watch what happens to the line chart (it should update immediately to reflect the filtering changes)."
      ]
    },
    {
      "metadata": {
        "id": "_O2ky3UC9z5m",
        "colab_type": "code",
        "colab": {}
      },
      "cell_type": "code",
      "source": [
        "import pandas as pd\n",
        "import numpy as np\n",
        "import qgrid\n",
        "randn = np.random.randn\n",
        "\n",
        "# Get a pandas DataFrame containing the daily prices for the S&P 500 from 1/1/2014 - 1/1/2017\n",
        "from pandas_datareader.data import DataReader\n",
        "spy = DataReader(\n",
        "    'SPY',\n",
        "    'yahoo',\n",
        "    pd.Timestamp('2014-01-01'),  \n",
        "    pd.Timestamp('2017-01-01'),\n",
        ")\n",
        "# Tell qgrid to automatically render all DataFrames and Series as qgrids.\n",
        "qgrid.enable()\n",
        "\n",
        "# Render the DataFrame as a qgrid automatically\n",
        "spy_qgrid = qgrid.show_grid(spy, grid_options={'forceFitColumns': False})\n",
        "spy_qgrid"
      ],
      "execution_count": 0,
      "outputs": []
    },
    {
      "metadata": {
        "id": "i-C_9Mcn9z5p",
        "colab_type": "code",
        "colab": {}
      },
      "cell_type": "code",
      "source": [
        "%matplotlib ipympl\n",
        "import matplotlib.pyplot as plt\n",
        "import datetime\n",
        "import matplotlib.pyplot as plt\n",
        "import matplotlib.dates as mdates\n",
        "import matplotlib.cbook as cbook\n",
        "from traitlets import All\n",
        "\n",
        "years = mdates.YearLocator()   # every year\n",
        "months = mdates.MonthLocator()  # every month\n",
        "yearsFmt = mdates.DateFormatter('%Y')\n",
        "\n",
        "n = 50\n",
        "qgrid_spy_df = spy_qgrid.get_changed_df()\n",
        "x = qgrid_spy_df.index\n",
        "y = qgrid_spy_df['Close']\n",
        "\n",
        "fig, ax = plt.subplots()\n",
        "vp_start = mdates.date2num(qgrid_spy_df.iloc[spy_qgrid._viewport_range[0]].name)\n",
        "vp_end = mdates.date2num(qgrid_spy_df.iloc[spy_qgrid._viewport_range[1]].name)\n",
        "vp_span = plt.axvspan(vp_start, vp_end, facecolor='g', alpha=0.2)\n",
        "line, = ax.plot(x, y)\n",
        "\n",
        "# format the ticks\n",
        "ax.xaxis.set_major_locator(years)\n",
        "ax.xaxis.set_major_formatter(yearsFmt)\n",
        "ax.xaxis.set_minor_locator(months)\n",
        "\n",
        "datemin = datetime.date(x.min().year, 1, 1)\n",
        "datemax = datetime.date(x.max().year + 1, 1, 1)\n",
        "ax.set_xlim(datemin, datemax)\n",
        "\n",
        "# format the coords message box\n",
        "def price(x):\n",
        "    return '$%1.2f' % x\n",
        "ax.format_xdata = mdates.DateFormatter('%Y-%m-%d')\n",
        "ax.format_ydata = price\n",
        "ax.grid(True)\n",
        "\n",
        "# rotates and right aligns the x labels, and moves the bottom of the\n",
        "# axes up to make room for them\n",
        "fig.autofmt_xdate()\n",
        "\n",
        "def handle_viewport_changed(event, widget):\n",
        "    qgrid_spy_df = widget.get_changed_df()\n",
        "    viewport = spy_qgrid._viewport_range\n",
        "    \n",
        "    vp_start = mdates.date2num(qgrid_spy_df.iloc[viewport[0]].name)\n",
        "    vp_end = mdates.date2num(qgrid_spy_df.iloc[viewport[1]].name)\n",
        "\n",
        "    vp_span.set_xy([(vp_start, 0), (vp_start, 1), (vp_end, 1), (vp_end ,0)])\n",
        "    \n",
        "    \n",
        "spy_qgrid.on('viewport_changed', handle_viewport_changed)"
      ],
      "execution_count": 0,
      "outputs": []
    }
  ]
}