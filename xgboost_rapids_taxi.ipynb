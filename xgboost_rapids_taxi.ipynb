{
  "cells": [
    {
      "cell_type": "markdown",
      "metadata": {
        "id": "view-in-github",
        "colab_type": "text"
      },
      "source": [
        "<a href=\"https://colab.research.google.com/github/jonbaer/googlecolab/blob/master/xgboost_rapids_taxi.ipynb\" target=\"_parent\"><img src=\"https://colab.research.google.com/assets/colab-badge.svg\" alt=\"Open In Colab\"/></a>"
      ]
    },
    {
      "cell_type": "code",
      "execution_count": null,
      "metadata": {
        "id": "KJtuwHYRqWxO"
      },
      "outputs": [],
      "source": [
        "import locale\n",
        "locale.getpreferredencoding = lambda: \"UTF-8\""
      ]
    },
    {
      "cell_type": "markdown",
      "metadata": {
        "id": "siTOCd1TqbJp"
      },
      "source": [
        "<br/>"
      ]
    },
    {
      "cell_type": "markdown",
      "metadata": {
        "id": "RVh0z8VdGU61"
      },
      "source": [
        "<br/>"
      ]
    },
    {
      "cell_type": "markdown",
      "metadata": {
        "id": "LP5mNAGZGU61"
      },
      "source": [
        "# XGBoost\n",
        "\n",
        "* The leading machine learning library for regression, classification, and ranking problems\n",
        "* Stands for **Extreme Gradient Boosting**\n",
        "* Scalable, distributed gradient-boosted decision tree (GBDT) machine learning library\n",
        "* Graphical feature importance enhances explainability\n",
        "* Provides parallel tree boosting\n",
        "\n",
        "\n",
        "\n",
        "\n",
        "\n"
      ]
    },
    {
      "cell_type": "markdown",
      "metadata": {
        "id": "YdHiMnteqYzJ"
      },
      "source": [
        "<br/>"
      ]
    },
    {
      "cell_type": "markdown",
      "metadata": {
        "id": "fpENYF0aGU62"
      },
      "source": [
        "<br/>"
      ]
    },
    {
      "cell_type": "markdown",
      "metadata": {
        "id": "keVhax2BqbMW"
      },
      "source": [
        "<br/>"
      ]
    },
    {
      "cell_type": "markdown",
      "metadata": {
        "id": "7aQ-2TQhqbPK"
      },
      "source": [
        "<br/>"
      ]
    },
    {
      "cell_type": "markdown",
      "metadata": {
        "id": "T4q3fHaiqbR-"
      },
      "source": [
        "<br/>"
      ]
    },
    {
      "cell_type": "markdown",
      "metadata": {
        "id": "SuCQbakTqbXJ"
      },
      "source": [
        "<br/>"
      ]
    },
    {
      "cell_type": "markdown",
      "metadata": {
        "id": "bEs6Dv3wqbab"
      },
      "source": [
        "<br/>"
      ]
    },
    {
      "cell_type": "markdown",
      "metadata": {
        "id": "FzrKLQCEo01n"
      },
      "source": [
        "### GPU Verification"
      ]
    },
    {
      "cell_type": "code",
      "execution_count": null,
      "metadata": {
        "colab": {
          "base_uri": "https://localhost:8080/"
        },
        "id": "ephy3SqGoz2f",
        "outputId": "2e899af0-8357-4dce-8cd3-b4552d0a0046"
      },
      "outputs": [
        {
          "name": "stdout",
          "output_type": "stream",
          "text": [
            "Tue Feb  4 17:04:47 2025       \n",
            "+-----------------------------------------------------------------------------------------+\n",
            "| NVIDIA-SMI 550.54.15              Driver Version: 550.54.15      CUDA Version: 12.4     |\n",
            "|-----------------------------------------+------------------------+----------------------+\n",
            "| GPU  Name                 Persistence-M | Bus-Id          Disp.A | Volatile Uncorr. ECC |\n",
            "| Fan  Temp   Perf          Pwr:Usage/Cap |           Memory-Usage | GPU-Util  Compute M. |\n",
            "|                                         |                        |               MIG M. |\n",
            "|=========================================+========================+======================|\n",
            "|   0  NVIDIA A100-SXM4-40GB          Off |   00000000:00:04.0 Off |                    0 |\n",
            "| N/A   30C    P0             46W /  400W |       0MiB /  40960MiB |      0%      Default |\n",
            "|                                         |                        |             Disabled |\n",
            "+-----------------------------------------+------------------------+----------------------+\n",
            "                                                                                         \n",
            "+-----------------------------------------------------------------------------------------+\n",
            "| Processes:                                                                              |\n",
            "|  GPU   GI   CI        PID   Type   Process name                              GPU Memory |\n",
            "|        ID   ID                                                               Usage      |\n",
            "|=========================================================================================|\n",
            "|  No running processes found                                                             |\n",
            "+-----------------------------------------------------------------------------------------+\n"
          ]
        }
      ],
      "source": [
        "!nvidia-smi"
      ]
    },
    {
      "cell_type": "markdown",
      "metadata": {
        "id": "Cg3rZ7Y8qnsq"
      },
      "source": [
        "<br/>"
      ]
    },
    {
      "cell_type": "markdown",
      "metadata": {
        "id": "xqTr-z3JqnvY"
      },
      "source": [
        "<br/>"
      ]
    },
    {
      "cell_type": "markdown",
      "metadata": {
        "id": "2KoF_ryeqnys"
      },
      "source": [
        "<br/>"
      ]
    },
    {
      "cell_type": "code",
      "execution_count": null,
      "metadata": {
        "id": "aQDxyC5P6zt_"
      },
      "outputs": [],
      "source": [
        "# not needed on Colab\n",
        "# !pip install -q xgboost pandas numpy scikit-learn"
      ]
    },
    {
      "cell_type": "code",
      "execution_count": null,
      "metadata": {
        "colab": {
          "base_uri": "https://localhost:8080/"
        },
        "id": "zGrhSJLb6zt_",
        "outputId": "64926bab-e763-4a11-c26b-14515e8f2a9d"
      },
      "outputs": [
        {
          "name": "stdout",
          "output_type": "stream",
          "text": [
            "Found existing installation: scikit-learn 1.6.1\n",
            "Uninstalling scikit-learn-1.6.1:\n",
            "  Successfully uninstalled scikit-learn-1.6.1\n",
            "\u001b[2K   \u001b[90m━━━━━━━━━━━━━━━━━━━━━━━━━━━━━━━━━━━━━━━━\u001b[0m \u001b[32m13.3/13.3 MB\u001b[0m \u001b[31m106.4 MB/s\u001b[0m eta \u001b[36m0:00:00\u001b[0m\n",
            "\u001b[?25h"
          ]
        }
      ],
      "source": [
        "# might be needed depending on XGBoost version - 2.1.3 needs downgraded Scikit-learn\n",
        "!pip uninstall -y scikit-learn\n",
        "!pip install -q scikit-learn==1.5.2"
      ]
    },
    {
      "cell_type": "markdown",
      "metadata": {
        "id": "UC-tSU8breXN"
      },
      "source": [
        "<br/>"
      ]
    },
    {
      "cell_type": "markdown",
      "metadata": {
        "id": "WWIcfDV6rg55"
      },
      "source": [
        "<br/>"
      ]
    },
    {
      "cell_type": "markdown",
      "metadata": {
        "id": "NRaXO74ieSy9"
      },
      "source": [
        "<br/>"
      ]
    },
    {
      "cell_type": "markdown",
      "metadata": {
        "id": "nXwPzmGoeS2A"
      },
      "source": [
        "<br/>"
      ]
    },
    {
      "cell_type": "markdown",
      "metadata": {
        "id": "9rF6J-6ReS5T"
      },
      "source": [
        "<br/>"
      ]
    },
    {
      "cell_type": "markdown",
      "metadata": {
        "id": "V4NY8Q-2rg9A"
      },
      "source": [
        "<br/>"
      ]
    },
    {
      "cell_type": "markdown",
      "metadata": {
        "id": "Plv5qnVveP5r"
      },
      "source": [
        "# NVIDA RAPIDS Verification"
      ]
    },
    {
      "cell_type": "code",
      "execution_count": null,
      "metadata": {
        "id": "Qew8k5HWelE5"
      },
      "outputs": [],
      "source": [
        "# 0. Enable NVIDIA GPU in Colab\n",
        "# a. Runtime OR Resources Tool > Change runtime type"
      ]
    },
    {
      "cell_type": "code",
      "execution_count": null,
      "metadata": {
        "id": "CM3CaV7JeQVb"
      },
      "outputs": [],
      "source": [
        "# 1. verify GPU and CUDA\n",
        "# a. nvidia-smi\n",
        "# b. nvcc --version"
      ]
    },
    {
      "cell_type": "code",
      "execution_count": null,
      "metadata": {
        "id": "jwK822l2ef71"
      },
      "outputs": [],
      "source": [
        "# 2. verify NVIDIA RAPIDS cuDF\n",
        "# a. !pip freeze | grep cudf\n",
        "# b. %load_ext cudf.pandas\n",
        "# c. import pandas as pd\n",
        "# d. %whos"
      ]
    },
    {
      "cell_type": "code",
      "execution_count": null,
      "metadata": {
        "id": "IdSZhjswgYNR"
      },
      "outputs": [],
      "source": [
        "%load_ext cudf.pandas"
      ]
    },
    {
      "cell_type": "code",
      "execution_count": null,
      "metadata": {
        "colab": {
          "base_uri": "https://localhost:8080/"
        },
        "id": "47nkZG1TQFvx",
        "outputId": "7cbea807-e693-48a1-90c9-03bc832129fb"
      },
      "outputs": [
        {
          "data": {
            "text/plain": [
              "<module 'pandas' (ModuleAccelerator(fast=cudf, slow=pandas))>"
            ]
          },
          "execution_count": 12,
          "metadata": {},
          "output_type": "execute_result"
        }
      ],
      "source": [
        "import xgboost as xgb\n",
        "import pandas as pd\n",
        "import numpy as np\n",
        "\n",
        "pd"
      ]
    },
    {
      "cell_type": "code",
      "execution_count": null,
      "metadata": {
        "id": "p30vFCG9fg6T"
      },
      "outputs": [],
      "source": [
        "# 3. verify lastest XGBoost version\n",
        "# a. get latest version - rapids.ai\n",
        "# b. pip freeze | grep xgboost\n",
        "# c. import xgboost as xgb ; xgb.__version__"
      ]
    },
    {
      "cell_type": "code",
      "execution_count": null,
      "metadata": {
        "colab": {
          "base_uri": "https://localhost:8080/",
          "height": 35
        },
        "id": "StaxRMqwgt8v",
        "outputId": "f5568e06-af6c-417d-f003-822c278981f6"
      },
      "outputs": [
        {
          "data": {
            "application/vnd.google.colaboratory.intrinsic+json": {
              "type": "string"
            },
            "text/plain": [
              "'2.1.3'"
            ]
          },
          "execution_count": 14,
          "metadata": {},
          "output_type": "execute_result"
        }
      ],
      "source": [
        "import xgboost as xgb ; xgb.__version__"
      ]
    },
    {
      "cell_type": "markdown",
      "metadata": {
        "id": "t_SBZAm4rg_l"
      },
      "source": [
        "<br/>"
      ]
    },
    {
      "cell_type": "markdown",
      "metadata": {
        "id": "1w8FNQereR9w"
      },
      "source": [
        "<br/>"
      ]
    },
    {
      "cell_type": "markdown",
      "metadata": {
        "id": "_9wa0XsmeSPG"
      },
      "source": [
        "<br/>"
      ]
    },
    {
      "cell_type": "markdown",
      "metadata": {
        "id": "fIKYggjCe19o"
      },
      "source": [
        "<br/>"
      ]
    },
    {
      "cell_type": "markdown",
      "metadata": {
        "id": "_vpiE_Ywe2A5"
      },
      "source": [
        "<br/>"
      ]
    },
    {
      "cell_type": "markdown",
      "metadata": {
        "id": "XVFi6BFge2IK"
      },
      "source": [
        "<br/>"
      ]
    },
    {
      "cell_type": "markdown",
      "metadata": {
        "id": "9_1kCy0-e2P5"
      },
      "source": [
        "<br/>"
      ]
    },
    {
      "cell_type": "markdown",
      "metadata": {
        "id": "DNdIYAwEeSRr"
      },
      "source": [
        "<br/>"
      ]
    },
    {
      "cell_type": "markdown",
      "metadata": {
        "id": "izgr7YEZeSUk"
      },
      "source": [
        "<br/>"
      ]
    },
    {
      "cell_type": "markdown",
      "metadata": {
        "id": "yTyNZwd4eSZP"
      },
      "source": [
        "<br/>"
      ]
    },
    {
      "cell_type": "markdown",
      "metadata": {
        "id": "JLyU0xkEeScN"
      },
      "source": [
        "<br/>"
      ]
    },
    {
      "cell_type": "markdown",
      "metadata": {
        "id": "xb7K8TIqrhCq"
      },
      "source": [
        "<br/>"
      ]
    },
    {
      "cell_type": "markdown",
      "metadata": {
        "id": "T74PeQ6sfej0"
      },
      "source": [
        "# City of Chicago Taxi Trips Data\n",
        "##### Dowload Data From Here:\n",
        "https://data.cityofchicago.org/Transportation/Taxi-Trips-2013-2023-/wrvz-psew/data_preview\n"
      ]
    },
    {
      "cell_type": "code",
      "execution_count": null,
      "metadata": {
        "id": "eBKfcM1Ta37S"
      },
      "outputs": [],
      "source": [
        "# !cp /content/drive/MyDrive/Taxi_Trips__2013-2023__20241218.csv ."
      ]
    },
    {
      "cell_type": "code",
      "execution_count": null,
      "metadata": {
        "colab": {
          "base_uri": "https://localhost:8080/"
        },
        "id": "JSU_Oqz-a7bg",
        "outputId": "dd443c8f-ee36-4c77-f497-4bed66006fcc"
      },
      "outputs": [
        {
          "name": "stdout",
          "output_type": "stream",
          "text": [
            "1972429 Taxi_Trips__2013-2023__20241218.csv\n"
          ]
        }
      ],
      "source": [
        "!wc -l Taxi_Trips__2013-2023__20241218.csv"
      ]
    },
    {
      "cell_type": "code",
      "execution_count": null,
      "metadata": {
        "colab": {
          "base_uri": "https://localhost:8080/",
          "height": 35
        },
        "id": "uiKzWYESkYDU",
        "outputId": "59a1d238-5c85-4f7b-f6ae-8091d7de7d12"
      },
      "outputs": [
        {
          "data": {
            "application/vnd.google.colaboratory.intrinsic+json": {
              "type": "string"
            },
            "text/plain": [
              "'cuda'"
            ]
          },
          "execution_count": 17,
          "metadata": {},
          "output_type": "execute_result"
        }
      ],
      "source": [
        "# xgb_device = \"cpu\"\n",
        "xgb_device = \"cuda\"\n",
        "xgb_device"
      ]
    },
    {
      "cell_type": "code",
      "execution_count": null,
      "metadata": {
        "id": "KpnRn2o6iQhF"
      },
      "outputs": [],
      "source": [
        "import pandas as pd\n",
        "import numpy as np\n",
        "from time import time\n",
        "import seaborn as sns\n",
        "import matplotlib.pyplot as plt\n",
        "from sklearn.model_selection import KFold"
      ]
    },
    {
      "cell_type": "markdown",
      "metadata": {
        "id": "fX2mGYHPpne8"
      },
      "source": [
        "<br/>"
      ]
    },
    {
      "cell_type": "markdown",
      "metadata": {
        "id": "mxBKOvHOpp24"
      },
      "source": [
        "<br/>"
      ]
    },
    {
      "cell_type": "markdown",
      "metadata": {
        "id": "CQBgJW_Jpp6G"
      },
      "source": [
        "<br/>"
      ]
    },
    {
      "cell_type": "markdown",
      "metadata": {
        "id": "uhZDyzGYycPx"
      },
      "source": [
        "# CSV"
      ]
    },
    {
      "cell_type": "code",
      "execution_count": null,
      "metadata": {
        "colab": {
          "base_uri": "https://localhost:8080/"
        },
        "id": "A4byxIggWZPW",
        "outputId": "335449ab-4381-42dc-eb7b-9560428ae770"
      },
      "outputs": [
        {
          "name": "stdout",
          "output_type": "stream",
          "text": [
            "CPU times: user 319 ms, sys: 231 ms, total: 550 ms\n",
            "Wall time: 421 ms\n"
          ]
        }
      ],
      "source": [
        "%%time\n",
        "\n",
        "start = time()\n",
        "# RAPIDS OFF  - 22.04\n",
        "# RAPIDS A100 - 0.408 (x33) / 1.95 ()\n",
        "\n",
        "df = pd.read_csv('Taxi_Trips__2013-2023__20241218.csv')  # read in data"
      ]
    },
    {
      "cell_type": "code",
      "execution_count": null,
      "metadata": {
        "colab": {
          "base_uri": "https://localhost:8080/"
        },
        "id": "RW6oatklWdPc",
        "outputId": "c2d72294-00ae-4082-835c-c9cdca335428"
      },
      "outputs": [
        {
          "name": "stdout",
          "output_type": "stream",
          "text": [
            "CPU times: user 454 ms, sys: 98.2 ms, total: 552 ms\n",
            "Wall time: 1.18 s\n"
          ]
        }
      ],
      "source": [
        "%%time\n",
        "# RAPIDS OFF  - 22.04\n",
        "# RAPIDS A100 - 0.051\n",
        "\n",
        "df = df.rename(columns={'Trip Total': 'trip_ttl'})  # abbreviate target column name\n",
        "\n",
        "df = df[df[\"trip_ttl\"]>0]\n",
        "\n",
        "df = df.sample(frac=1, random_state=42).reset_index(drop=True)\n",
        "\n",
        "X = df.drop(columns=[\"trip_ttl\"])\n",
        "y = df[\"trip_ttl\"]"
      ]
    },
    {
      "cell_type": "code",
      "execution_count": null,
      "metadata": {
        "colab": {
          "base_uri": "https://localhost:8080/"
        },
        "id": "LeBJe2q8lKoA",
        "outputId": "b0aaa18a-3fee-46ec-8e28-668248444877"
      },
      "outputs": [
        {
          "name": "stdout",
          "output_type": "stream",
          "text": [
            "CPU times: user 343 ms, sys: 165 ms, total: 509 ms\n",
            "Wall time: 260 ms\n"
          ]
        },
        {
          "data": {
            "text/plain": [
              "0.25958824157714844"
            ]
          },
          "execution_count": 21,
          "metadata": {},
          "output_type": "execute_result"
        }
      ],
      "source": [
        "%%time\n",
        "\n",
        "start = time()\n",
        "# RAPIDS OFF  - 22.04\n",
        "# RAPIDS A100 - 0.408 (x33) / 1.95 (x11)\n",
        "\n",
        "df = pd.read_csv('Taxi_Trips__2013-2023__20241218.csv')  # read in data\n",
        "\n",
        "df = df.rename(columns={'Trip Total': 'trip_ttl'})  # abbreviate target column name\n",
        "\n",
        "df = df[df[\"trip_ttl\"]>0]\n",
        "\n",
        "df = df.sample(frac=1, random_state=42).reset_index(drop=True)\n",
        "\n",
        "X = df.drop(columns=[\"trip_ttl\"])\n",
        "y = df[\"trip_ttl\"]\n",
        "\n",
        "time() - start"
      ]
    },
    {
      "cell_type": "code",
      "execution_count": null,
      "metadata": {
        "colab": {
          "base_uri": "https://localhost:8080/"
        },
        "id": "hdKoOa2Vq4G7",
        "outputId": "07f80caf-6b5a-4e7f-fca0-1f9b72b1efac"
      },
      "outputs": [
        {
          "data": {
            "text/plain": [
              "1971068"
            ]
          },
          "execution_count": 22,
          "metadata": {},
          "output_type": "execute_result"
        }
      ],
      "source": [
        "len(df)"
      ]
    },
    {
      "cell_type": "markdown",
      "metadata": {
        "id": "WTZXDYuhq0BZ"
      },
      "source": [
        "<br/>"
      ]
    },
    {
      "cell_type": "markdown",
      "metadata": {
        "id": "Ed1xs-4Pq3Sf"
      },
      "source": [
        "<br/>"
      ]
    },
    {
      "cell_type": "markdown",
      "metadata": {
        "id": "Cybpg00Eq3ZR"
      },
      "source": [
        "<br/>"
      ]
    },
    {
      "cell_type": "markdown",
      "metadata": {
        "id": "GpDIT9cWq3dh"
      },
      "source": [
        "<br/>"
      ]
    },
    {
      "cell_type": "markdown",
      "metadata": {
        "id": "8YcjHQKcl0FL"
      },
      "source": [
        "# Mean Model"
      ]
    },
    {
      "cell_type": "code",
      "execution_count": null,
      "metadata": {
        "colab": {
          "base_uri": "https://localhost:8080/"
        },
        "id": "5-CQY1KQllOp",
        "outputId": "170380f4-0b1d-41d4-900b-17689dbbab55"
      },
      "outputs": [
        {
          "data": {
            "text/plain": [
              "17.58"
            ]
          },
          "execution_count": 23,
          "metadata": {},
          "output_type": "execute_result"
        }
      ],
      "source": [
        "y.mean().round(2).item()"
      ]
    },
    {
      "cell_type": "code",
      "execution_count": null,
      "metadata": {
        "colab": {
          "base_uri": "https://localhost:8080/",
          "height": 242
        },
        "id": "uZHjca7vBoMT",
        "outputId": "92627f28-a6f9-4e65-f5ef-2fa76175be15"
      },
      "outputs": [
        {
          "name": "stdout",
          "output_type": "stream",
          "text": [
            "CPU times: user 652 ms, sys: 135 ms, total: 787 ms\n",
            "Wall time: 928 ms\n"
          ]
        },
        {
          "data": {
            "application/vnd.google.colaboratory.intrinsic+json": {
              "summary": "{\n  \"name\": \"mean_fold_results_df\",\n  \"rows\": 5,\n  \"fields\": [\n    {\n      \"column\": \"avg\",\n      \"properties\": {\n        \"dtype\": \"number\",\n        \"std\": 0.03847871046583257,\n        \"min\": 17.532107493781925,\n        \"max\": 17.617674527889076,\n        \"num_unique_values\": 5,\n        \"samples\": [\n          17.54972388076266,\n          17.532107493781925,\n          17.57968020521862\n        ],\n        \"semantic_type\": \"\",\n        \"description\": \"\"\n      }\n    },\n    {\n      \"column\": \"mse\",\n      \"properties\": {\n        \"dtype\": \"number\",\n        \"std\": 1107.0721059225664,\n        \"min\": 6383.971635420476,\n        \"max\": 9141.87510657433,\n        \"num_unique_values\": 5,\n        \"samples\": [\n          8855.46592993672,\n          9141.87510657433,\n          8401.307659350205\n        ],\n        \"semantic_type\": \"\",\n        \"description\": \"\"\n      }\n    },\n    {\n      \"column\": \"rmse\",\n      \"properties\": {\n        \"dtype\": \"number\",\n        \"std\": 6.3145793286564675,\n        \"min\": 79.89975992091888,\n        \"max\": 95.61315341821089,\n        \"num_unique_values\": 5,\n        \"samples\": [\n          94.10348521673743,\n          95.61315341821089,\n          91.65864748811322\n        ],\n        \"semantic_type\": \"\",\n        \"description\": \"\"\n      }\n    },\n    {\n      \"column\": \"mae\",\n      \"properties\": {\n        \"dtype\": \"number\",\n        \"std\": 0.1374724571387316,\n        \"min\": 13.250783622249726,\n        \"max\": 13.542402315125404,\n        \"num_unique_values\": 5,\n        \"samples\": [\n          13.51644909784389,\n          13.542402315125404,\n          13.4007534312558\n        ],\n        \"semantic_type\": \"\",\n        \"description\": \"\"\n      }\n    },\n    {\n      \"column\": \"r2\",\n      \"properties\": {\n        \"dtype\": \"number\",\n        \"std\": 2.491727989740835e-06,\n        \"min\": -6.023738555294145e-06,\n        \"max\": -1.217140832565633e-09,\n        \"num_unique_values\": 5,\n        \"samples\": [\n          -2.4264055842326826e-06,\n          -6.023738555294145e-06,\n          -1.217140832565633e-09\n        ],\n        \"semantic_type\": \"\",\n        \"description\": \"\"\n      }\n    },\n    {\n      \"column\": \"max_err\",\n      \"properties\": {\n        \"dtype\": \"number\",\n        \"std\": 368.897445603675,\n        \"min\": 9034.833982803733,\n        \"max\": 9957.770276119238,\n        \"num_unique_values\": 5,\n        \"samples\": [\n          9957.770276119238,\n          9782.767892506217,\n          9682.67031979478\n        ],\n        \"semantic_type\": \"\",\n        \"description\": \"\"\n      }\n    }\n  ]\n}",
              "type": "dataframe",
              "variable_name": "mean_fold_results_df"
            },
            "text/html": [
              "<div>\n",
              "<style scoped>\n",
              "    .dataframe tbody tr th:only-of-type {\n",
              "        vertical-align: middle;\n",
              "    }\n",
              "\n",
              "    .dataframe tbody tr th {\n",
              "        vertical-align: top;\n",
              "    }\n",
              "\n",
              "    .dataframe thead th {\n",
              "        text-align: right;\n",
              "    }\n",
              "</style>\n",
              "<table border=\"1\" class=\"dataframe\">\n",
              "  <thead>\n",
              "    <tr style=\"text-align: right;\">\n",
              "      <th></th>\n",
              "      <th>avg</th>\n",
              "      <th>mse</th>\n",
              "      <th>rmse</th>\n",
              "      <th>mae</th>\n",
              "      <th>r2</th>\n",
              "      <th>max_err</th>\n",
              "    </tr>\n",
              "  </thead>\n",
              "  <tbody>\n",
              "    <tr>\n",
              "      <th>0</th>\n",
              "      <td>17.532107</td>\n",
              "      <td>9141.875107</td>\n",
              "      <td>95.613153</td>\n",
              "      <td>13.542402</td>\n",
              "      <td>-6.023739e-06</td>\n",
              "      <td>9782.767893</td>\n",
              "    </tr>\n",
              "    <tr>\n",
              "      <th>1</th>\n",
              "      <td>17.617675</td>\n",
              "      <td>7639.707685</td>\n",
              "      <td>87.405421</td>\n",
              "      <td>13.250784</td>\n",
              "      <td>-4.884284e-06</td>\n",
              "      <td>9882.682325</td>\n",
              "    </tr>\n",
              "    <tr>\n",
              "      <th>2</th>\n",
              "      <td>17.616017</td>\n",
              "      <td>6383.971635</td>\n",
              "      <td>79.899760</td>\n",
              "      <td>13.259757</td>\n",
              "      <td>-5.354304e-06</td>\n",
              "      <td>9034.833983</td>\n",
              "    </tr>\n",
              "    <tr>\n",
              "      <th>3</th>\n",
              "      <td>17.549724</td>\n",
              "      <td>8855.465930</td>\n",
              "      <td>94.103485</td>\n",
              "      <td>13.516449</td>\n",
              "      <td>-2.426406e-06</td>\n",
              "      <td>9957.770276</td>\n",
              "    </tr>\n",
              "    <tr>\n",
              "      <th>4</th>\n",
              "      <td>17.579680</td>\n",
              "      <td>8401.307659</td>\n",
              "      <td>91.658647</td>\n",
              "      <td>13.400753</td>\n",
              "      <td>-1.217141e-09</td>\n",
              "      <td>9682.670320</td>\n",
              "    </tr>\n",
              "  </tbody>\n",
              "</table>\n",
              "</div>"
            ],
            "text/plain": [
              "         avg          mse       rmse        mae            r2      max_err\n",
              "0  17.532107  9141.875107  95.613153  13.542402 -6.023739e-06  9782.767893\n",
              "1  17.617675  7639.707685  87.405421  13.250784 -4.884284e-06  9882.682325\n",
              "2  17.616017  6383.971635  79.899760  13.259757 -5.354304e-06  9034.833983\n",
              "3  17.549724  8855.465930  94.103485  13.516449 -2.426406e-06  9957.770276\n",
              "4  17.579680  8401.307659  91.658647  13.400753 -1.217141e-09  9682.670320"
            ]
          },
          "execution_count": 24,
          "metadata": {},
          "output_type": "execute_result"
        }
      ],
      "source": [
        "%%time\n",
        "\n",
        "# RAPIDS OFF  - 1.22\n",
        "# RAPIDS A100 - 0.724\n",
        "\n",
        "kf = KFold(n_splits=5, shuffle=True, random_state=42)\n",
        "\n",
        "mean_fold_results = {\"avg\":[], \"mse\": [], \"rmse\": [], \"mae\": [], \"r2\": [], \"max_err\": []}\n",
        "\n",
        "for fold, (train_index, test_index) in enumerate(kf.split(y)):\n",
        "\n",
        "  # get folds\n",
        "  y_train, y_true = y[train_index], y[test_index]\n",
        "\n",
        "  # \"mean model\"\n",
        "  y_pred = y_train.mean()\n",
        "  mean_fold_results[\"avg\"].append(y_pred)\n",
        "\n",
        "  # calculate metrics\n",
        "  mse = ((y_true - y_pred) ** 2).mean()\n",
        "  mean_fold_results[\"mse\"].append(mse)\n",
        "  mean_fold_results[\"rmse\"].append(mse  ** 0.5)\n",
        "  mae = (y_true - y_pred).abs().mean()\n",
        "  mean_fold_results[\"mae\"].append(mae)\n",
        "  ss_residual = ((y_true - y_pred) ** 2).sum()\n",
        "  ss_total = ((y_true - y_true.mean()) ** 2).sum()\n",
        "  r_squared = 1 - (ss_residual / ss_total)\n",
        "  mean_fold_results[\"r2\"].append(1 - (ss_residual / ss_total))\n",
        "  mean_fold_results[\"max_err\"].append((y_true - y_pred).abs().max())\n",
        "\n",
        "mean_fold_results_df = pd.DataFrame(mean_fold_results)\n",
        "mean_fold_results_df"
      ]
    },
    {
      "cell_type": "code",
      "execution_count": null,
      "metadata": {
        "colab": {
          "base_uri": "https://localhost:8080/",
          "height": 81
        },
        "id": "dkFs2gWxcjwx",
        "outputId": "51b4b74d-6a9e-4d11-e167-e6f712543795"
      },
      "outputs": [
        {
          "data": {
            "application/vnd.google.colaboratory.intrinsic+json": {
              "summary": "{\n  \"name\": \"mean_results_df\",\n  \"rows\": 1,\n  \"fields\": [\n    {\n      \"column\": \"model\",\n      \"properties\": {\n        \"dtype\": \"string\",\n        \"num_unique_values\": 1,\n        \"samples\": [\n          \"mean\"\n        ],\n        \"semantic_type\": \"\",\n        \"description\": \"\"\n      }\n    },\n    {\n      \"column\": \"avg\",\n      \"properties\": {\n        \"dtype\": \"number\",\n        \"std\": null,\n        \"min\": 17.58,\n        \"max\": 17.58,\n        \"num_unique_values\": 1,\n        \"samples\": [\n          17.58\n        ],\n        \"semantic_type\": \"\",\n        \"description\": \"\"\n      }\n    },\n    {\n      \"column\": \"mse\",\n      \"properties\": {\n        \"dtype\": \"number\",\n        \"std\": null,\n        \"min\": 8084.47,\n        \"max\": 8084.47,\n        \"num_unique_values\": 1,\n        \"samples\": [\n          8084.47\n        ],\n        \"semantic_type\": \"\",\n        \"description\": \"\"\n      }\n    },\n    {\n      \"column\": \"rmse\",\n      \"properties\": {\n        \"dtype\": \"number\",\n        \"std\": null,\n        \"min\": 89.74,\n        \"max\": 89.74,\n        \"num_unique_values\": 1,\n        \"samples\": [\n          89.74\n        ],\n        \"semantic_type\": \"\",\n        \"description\": \"\"\n      }\n    },\n    {\n      \"column\": \"mae\",\n      \"properties\": {\n        \"dtype\": \"number\",\n        \"std\": null,\n        \"min\": 13.39,\n        \"max\": 13.39,\n        \"num_unique_values\": 1,\n        \"samples\": [\n          13.39\n        ],\n        \"semantic_type\": \"\",\n        \"description\": \"\"\n      }\n    },\n    {\n      \"column\": \"r2\",\n      \"properties\": {\n        \"dtype\": \"number\",\n        \"std\": null,\n        \"min\": -0.0,\n        \"max\": -0.0,\n        \"num_unique_values\": 1,\n        \"samples\": [\n          -0.0\n        ],\n        \"semantic_type\": \"\",\n        \"description\": \"\"\n      }\n    },\n    {\n      \"column\": \"max_err\",\n      \"properties\": {\n        \"dtype\": \"number\",\n        \"std\": null,\n        \"min\": 9957.77,\n        \"max\": 9957.77,\n        \"num_unique_values\": 1,\n        \"samples\": [\n          9957.77\n        ],\n        \"semantic_type\": \"\",\n        \"description\": \"\"\n      }\n    }\n  ]\n}",
              "type": "dataframe"
            },
            "text/html": [
              "<div>\n",
              "<style scoped>\n",
              "    .dataframe tbody tr th:only-of-type {\n",
              "        vertical-align: middle;\n",
              "    }\n",
              "\n",
              "    .dataframe tbody tr th {\n",
              "        vertical-align: top;\n",
              "    }\n",
              "\n",
              "    .dataframe thead th {\n",
              "        text-align: right;\n",
              "    }\n",
              "</style>\n",
              "<table border=\"1\" class=\"dataframe\">\n",
              "  <thead>\n",
              "    <tr style=\"text-align: right;\">\n",
              "      <th></th>\n",
              "      <th>model</th>\n",
              "      <th>avg</th>\n",
              "      <th>mse</th>\n",
              "      <th>rmse</th>\n",
              "      <th>mae</th>\n",
              "      <th>r2</th>\n",
              "      <th>max_err</th>\n",
              "    </tr>\n",
              "  </thead>\n",
              "  <tbody>\n",
              "    <tr>\n",
              "      <th>0</th>\n",
              "      <td>mean</td>\n",
              "      <td>17.58</td>\n",
              "      <td>8084.47</td>\n",
              "      <td>89.74</td>\n",
              "      <td>13.39</td>\n",
              "      <td>-0.0</td>\n",
              "      <td>9957.77</td>\n",
              "    </tr>\n",
              "  </tbody>\n",
              "</table>\n",
              "</div>"
            ],
            "text/plain": [
              "  model    avg      mse   rmse    mae   r2  max_err\n",
              "0  mean  17.58  8084.47  89.74  13.39 -0.0  9957.77"
            ]
          },
          "execution_count": 25,
          "metadata": {},
          "output_type": "execute_result"
        }
      ],
      "source": [
        "mean_results_df = pd.DataFrame({'model': 'mean',**mean_fold_results_df.drop(columns=['max_err']).mean(), 'max_err': mean_fold_results_df['max_err'].max()}, index=[0])\n",
        "mean_results_df.round(2)"
      ]
    },
    {
      "cell_type": "markdown",
      "metadata": {
        "id": "GVm2CMs6T-VJ"
      },
      "source": [
        "<br/>"
      ]
    },
    {
      "cell_type": "markdown",
      "metadata": {
        "id": "rCWvYHhEqlwx"
      },
      "source": [
        "<br/>"
      ]
    },
    {
      "cell_type": "markdown",
      "metadata": {
        "id": "XyUTLNs4ql7U"
      },
      "source": [
        "<br/>"
      ]
    },
    {
      "cell_type": "markdown",
      "metadata": {
        "id": "ZVkIfcgeql-1"
      },
      "source": [
        "<br/>"
      ]
    },
    {
      "cell_type": "markdown",
      "metadata": {
        "id": "a8cO_yc4qmB4"
      },
      "source": [
        "<br/>"
      ]
    },
    {
      "cell_type": "markdown",
      "metadata": {
        "id": "2D7fkLn8qmFp"
      },
      "source": [
        "<br/>"
      ]
    },
    {
      "cell_type": "markdown",
      "metadata": {
        "id": "T_Zy1s75T75G"
      },
      "source": [
        "# Median Model"
      ]
    },
    {
      "cell_type": "code",
      "execution_count": null,
      "metadata": {
        "colab": {
          "base_uri": "https://localhost:8080/"
        },
        "id": "VTMRNuxhJbJY",
        "outputId": "9004008f-ecbd-48b0-871f-991dfb9f1632"
      },
      "outputs": [
        {
          "data": {
            "text/plain": [
              "9.75"
            ]
          },
          "execution_count": 26,
          "metadata": {},
          "output_type": "execute_result"
        }
      ],
      "source": [
        "y.median()"
      ]
    },
    {
      "cell_type": "code",
      "execution_count": null,
      "metadata": {
        "colab": {
          "base_uri": "https://localhost:8080/"
        },
        "id": "us0mchq3UCQc",
        "outputId": "f61d1cb5-9eef-44ad-836f-6fbf36b74fbd"
      },
      "outputs": [
        {
          "name": "stdout",
          "output_type": "stream",
          "text": [
            "CPU times: user 614 ms, sys: 89.2 ms, total: 703 ms\n",
            "Wall time: 687 ms\n"
          ]
        }
      ],
      "source": [
        "%%time\n",
        "# RAPIDS OFF  - 0.959\n",
        "# RAPIDS A100 - 0.687\n",
        "\n",
        "median_fold_results = {\"avg\":[], \"mse\": [], \"rmse\": [], \"mae\": [], \"r2\": [], \"max_err\": []}\n",
        "for fold, (train_index, test_index) in enumerate(kf.split(y)):\n",
        "\n",
        "  # get folds\n",
        "  y_train, y_true = y[train_index], y[test_index]\n",
        "\n",
        "  # \"median model\"\n",
        "  y_pred = y_train.median()\n",
        "  median_fold_results[\"avg\"].append(y_pred)\n",
        "\n",
        "  # calculate metrics\n",
        "  mse = ((y_true - y_pred) ** 2).mean()\n",
        "  median_fold_results[\"mse\"].append(mse)\n",
        "  median_fold_results[\"rmse\"].append(mse ** 0.5)\n",
        "  mae = (y_true - y_pred).abs().mean()\n",
        "  median_fold_results[\"mae\"].append(mae)\n",
        "  ss_residual = ((y_true - y_pred) ** 2).sum()\n",
        "  ss_total = ((y_true - y_true.mean()) ** 2).sum()\n",
        "  r_squared = 1 - (ss_residual / ss_total)\n",
        "  median_fold_results[\"r2\"].append(1 - (ss_residual / ss_total))\n",
        "  median_fold_results[\"max_err\"].append((y_true - y_pred).abs().max())\n",
        "\n",
        "median_fold_results_df = pd.DataFrame(median_fold_results)"
      ]
    },
    {
      "cell_type": "code",
      "execution_count": null,
      "metadata": {
        "colab": {
          "base_uri": "https://localhost:8080/",
          "height": 112
        },
        "id": "SoHjCz3qUNJe",
        "outputId": "9bc96784-7acf-441f-8fae-7937e26ac9fc"
      },
      "outputs": [
        {
          "data": {
            "application/vnd.google.colaboratory.intrinsic+json": {
              "summary": "{\n  \"name\": \"pd\",\n  \"rows\": 2,\n  \"fields\": [\n    {\n      \"column\": \"model\",\n      \"properties\": {\n        \"dtype\": \"string\",\n        \"num_unique_values\": 2,\n        \"samples\": [\n          \"mean\",\n          \"median\"\n        ],\n        \"semantic_type\": \"\",\n        \"description\": \"\"\n      }\n    },\n    {\n      \"column\": \"avg\",\n      \"properties\": {\n        \"dtype\": \"number\",\n        \"std\": 5.536646096690666,\n        \"min\": 9.75,\n        \"max\": 17.58,\n        \"num_unique_values\": 2,\n        \"samples\": [\n          17.58,\n          9.75\n        ],\n        \"semantic_type\": \"\",\n        \"description\": \"\"\n      }\n    },\n    {\n      \"column\": \"mse\",\n      \"properties\": {\n        \"dtype\": \"number\",\n        \"std\": 43.33150355111145,\n        \"min\": 8084.47,\n        \"max\": 8145.75,\n        \"num_unique_values\": 2,\n        \"samples\": [\n          8084.47,\n          8145.75\n        ],\n        \"semantic_type\": \"\",\n        \"description\": \"\"\n      }\n    },\n    {\n      \"column\": \"rmse\",\n      \"properties\": {\n        \"dtype\": \"number\",\n        \"std\": 0.24041630560342858,\n        \"min\": 89.74,\n        \"max\": 90.08,\n        \"num_unique_values\": 2,\n        \"samples\": [\n          89.74,\n          90.08\n        ],\n        \"semantic_type\": \"\",\n        \"description\": \"\"\n      }\n    },\n    {\n      \"column\": \"mae\",\n      \"properties\": {\n        \"dtype\": \"number\",\n        \"std\": 2.029396462005392,\n        \"min\": 10.52,\n        \"max\": 13.39,\n        \"num_unique_values\": 2,\n        \"samples\": [\n          13.39,\n          10.52\n        ],\n        \"semantic_type\": \"\",\n        \"description\": \"\"\n      }\n    },\n    {\n      \"column\": \"r2\",\n      \"properties\": {\n        \"dtype\": \"number\",\n        \"std\": 0.007071067811865475,\n        \"min\": -0.01,\n        \"max\": -0.0,\n        \"num_unique_values\": 2,\n        \"samples\": [\n          -0.0,\n          -0.01\n        ],\n        \"semantic_type\": \"\",\n        \"description\": \"\"\n      }\n    },\n    {\n      \"column\": \"max_err\",\n      \"properties\": {\n        \"dtype\": \"number\",\n        \"std\": 5.515432893254556,\n        \"min\": 9957.77,\n        \"max\": 9965.57,\n        \"num_unique_values\": 2,\n        \"samples\": [\n          9957.77,\n          9965.57\n        ],\n        \"semantic_type\": \"\",\n        \"description\": \"\"\n      }\n    }\n  ]\n}",
              "type": "dataframe"
            },
            "text/html": [
              "<div>\n",
              "<style scoped>\n",
              "    .dataframe tbody tr th:only-of-type {\n",
              "        vertical-align: middle;\n",
              "    }\n",
              "\n",
              "    .dataframe tbody tr th {\n",
              "        vertical-align: top;\n",
              "    }\n",
              "\n",
              "    .dataframe thead th {\n",
              "        text-align: right;\n",
              "    }\n",
              "</style>\n",
              "<table border=\"1\" class=\"dataframe\">\n",
              "  <thead>\n",
              "    <tr style=\"text-align: right;\">\n",
              "      <th></th>\n",
              "      <th>model</th>\n",
              "      <th>avg</th>\n",
              "      <th>mse</th>\n",
              "      <th>rmse</th>\n",
              "      <th>mae</th>\n",
              "      <th>r2</th>\n",
              "      <th>max_err</th>\n",
              "    </tr>\n",
              "  </thead>\n",
              "  <tbody>\n",
              "    <tr>\n",
              "      <th>0</th>\n",
              "      <td>mean</td>\n",
              "      <td>17.58</td>\n",
              "      <td>8084.47</td>\n",
              "      <td>89.74</td>\n",
              "      <td>13.39</td>\n",
              "      <td>-0.00</td>\n",
              "      <td>9957.77</td>\n",
              "    </tr>\n",
              "    <tr>\n",
              "      <th>0</th>\n",
              "      <td>median</td>\n",
              "      <td>9.75</td>\n",
              "      <td>8145.75</td>\n",
              "      <td>90.08</td>\n",
              "      <td>10.52</td>\n",
              "      <td>-0.01</td>\n",
              "      <td>9965.57</td>\n",
              "    </tr>\n",
              "  </tbody>\n",
              "</table>\n",
              "</div>"
            ],
            "text/plain": [
              "    model    avg      mse   rmse    mae    r2  max_err\n",
              "0    mean  17.58  8084.47  89.74  13.39 -0.00  9957.77\n",
              "0  median   9.75  8145.75  90.08  10.52 -0.01  9965.57"
            ]
          },
          "execution_count": 28,
          "metadata": {},
          "output_type": "execute_result"
        }
      ],
      "source": [
        "median_results_df = pd.DataFrame({'model': 'median', **median_fold_results_df.drop(columns=['max_err']).mean(), 'max_err': median_fold_results_df['max_err'].max()}, index=[0])\n",
        "pd.concat([mean_results_df, median_results_df]).round(2)"
      ]
    },
    {
      "cell_type": "markdown",
      "metadata": {
        "id": "DFveMgtWXaWG"
      },
      "source": [
        "<br/>"
      ]
    },
    {
      "cell_type": "markdown",
      "metadata": {
        "id": "p_23hFzrqnE6"
      },
      "source": [
        "<br/>"
      ]
    },
    {
      "cell_type": "markdown",
      "metadata": {
        "id": "bm-6Ix85qnHu"
      },
      "source": [
        "<br/>"
      ]
    },
    {
      "cell_type": "markdown",
      "metadata": {
        "id": "zHs-02ZlqnKi"
      },
      "source": [
        "<br/>"
      ]
    },
    {
      "cell_type": "markdown",
      "metadata": {
        "id": "Fes73O_7qnNU"
      },
      "source": [
        "<br/>"
      ]
    },
    {
      "cell_type": "markdown",
      "metadata": {
        "id": "AfyNHsJnqnQL"
      },
      "source": [
        "<br/>"
      ]
    },
    {
      "cell_type": "markdown",
      "metadata": {
        "id": "Gf9e5Y9cXbj2"
      },
      "source": [
        "# Naive XGBoost\n",
        "##### Min Feature Engineering and no Hyperparameter Tuning"
      ]
    },
    {
      "cell_type": "code",
      "execution_count": null,
      "metadata": {
        "colab": {
          "base_uri": "https://localhost:8080/"
        },
        "id": "958cK414XZSk",
        "outputId": "3666e21c-08bd-4d89-8e7d-01e8760add51"
      },
      "outputs": [
        {
          "name": "stdout",
          "output_type": "stream",
          "text": [
            "CPU times: user 467 ms, sys: 170 ms, total: 637 ms\n",
            "Wall time: 421 ms\n"
          ]
        }
      ],
      "source": [
        "%%time\n",
        "\n",
        "# RAPIDS OFF  - 48.2, 40.5\n",
        "# RAPIDS A100 - 0.421 (x114 speedup)\n",
        "\n",
        "df = pd.read_csv('Taxi_Trips__2013-2023__20241218.csv')  # read in data\n",
        "\n",
        "df = df.rename(columns={'Trip Total': 'trip_ttl'})  # abbreviate target column name\n",
        "\n",
        "df = df[df[\"trip_ttl\"]>0]\n",
        "\n",
        "df = df.sample(frac=1, random_state=42).reset_index(drop=True)\n",
        "\n",
        "df = df.drop(columns=[\"Fare\", \"Tips\", \"Tolls\", \"Extras\"])\n",
        "df = df.drop(columns=[\"Trip ID\", \"Taxi ID\", \"Pickup Centroid Location\", \"Dropoff Centroid  Location\", \"Payment Type\", \"Company\"])\n",
        "\n",
        "df[\"Trip Start Timestamp\"] = pd.to_datetime(df[\"Trip Start Timestamp\"], format=\"%m/%d/%Y %I:%M:%S %p\")\n",
        "df[\"Trip End Timestamp\"] = pd.to_datetime(df[\"Trip End Timestamp\"], format=\"%m/%d/%Y %I:%M:%S %p\")\n",
        "df[\"Trip Start Timestamp\"] = (df[\"Trip Start Timestamp\"] - pd.Timestamp(\"1970-01-01\")) // pd.Timedelta('1s')\n",
        "df[\"Trip End Timestamp\"] = (df[\"Trip End Timestamp\"] - pd.Timestamp(\"1970-01-01\")) // pd.Timedelta('1s')\n",
        "\n",
        "y = df[\"trip_ttl\"]\n",
        "X = df.drop(columns=[\"trip_ttl\"])"
      ]
    },
    {
      "cell_type": "code",
      "execution_count": null,
      "metadata": {
        "colab": {
          "base_uri": "https://localhost:8080/"
        },
        "id": "Tx6AKAVtX4Sy",
        "outputId": "ab39e79f-df13-487e-864c-635add612e29"
      },
      "outputs": [
        {
          "name": "stdout",
          "output_type": "stream",
          "text": [
            "CPU times: user 5.29 s, sys: 1.16 s, total: 6.45 s\n",
            "Wall time: 6.19 s\n"
          ]
        }
      ],
      "source": [
        "%%time\n",
        "\n",
        "# RAPIDS OFF  - 117.26\n",
        "# RAPIDS A100 - 6.19 (x19 speedup), 5.35\n",
        "\n",
        "import xgboost as xgb\n",
        "\n",
        "xgb_naive_fold_results = {\"avg\": [], \"mse\": [], \"rmse\": [], \"mae\": [], \"r2\": [], \"max_err\": []}\n",
        "\n",
        "for fold, (train_index, test_index) in enumerate(KFold(n_splits=5, shuffle=True, random_state=42).split(df)):\n",
        "  X_train, X_test = X.iloc[train_index], X.iloc[test_index]\n",
        "  y_train, y_test = y.iloc[train_index], y.iloc[test_index]\n",
        "\n",
        "  # train\n",
        "  xgb_model = xgb.XGBRegressor(device=xgb_device)\n",
        "\n",
        "  xgb_model.fit(X_train, y_train)\n",
        "  y_pred = xgb_model.predict(X_test)\n",
        "  xgb_naive_fold_results[\"avg\"].append(y_pred.mean())\n",
        "\n",
        "  # metrics\n",
        "  mse = ((y_test - y_pred) ** 2).mean()\n",
        "  xgb_naive_fold_results[\"mse\"].append(mse)\n",
        "  xgb_naive_fold_results[\"rmse\"].append(mse ** 0.5)\n",
        "  mae = (y_test - y_pred).abs().mean()\n",
        "  xgb_naive_fold_results[\"mae\"].append(mae)\n",
        "  ss_residual = ((y_test - y_pred) ** 2).sum()\n",
        "  ss_total = ((y_test - y_test.mean()) ** 2).sum()\n",
        "  r_squared = 1 - (ss_residual / ss_total)\n",
        "  xgb_naive_fold_results[\"r2\"].append(1 - (ss_residual / ss_total))\n",
        "  xgb_naive_fold_results[\"max_err\"].append((y_test - y_pred).abs().max())"
      ]
    },
    {
      "cell_type": "markdown",
      "metadata": {
        "id": "hFFpUwlbeacY"
      },
      "source": [
        "### All Naïve Results"
      ]
    },
    {
      "cell_type": "code",
      "execution_count": null,
      "metadata": {
        "colab": {
          "base_uri": "https://localhost:8080/",
          "height": 143
        },
        "id": "ePaMsMInmlBS",
        "outputId": "526f0b19-94d1-42be-bab2-6bf4539ed799"
      },
      "outputs": [
        {
          "data": {
            "application/vnd.google.colaboratory.intrinsic+json": {
              "summary": "{\n  \"name\": \"all_results\",\n  \"rows\": 3,\n  \"fields\": [\n    {\n      \"column\": \"model\",\n      \"properties\": {\n        \"dtype\": \"string\",\n        \"num_unique_values\": 3,\n        \"samples\": [\n          \"xgb_na\\u00efve\",\n          \"median\",\n          \"mean\"\n        ],\n        \"semantic_type\": \"\",\n        \"description\": \"\"\n      }\n    },\n    {\n      \"column\": \"avg\",\n      \"properties\": {\n        \"dtype\": \"number\",\n        \"std\": 4.520652607754769,\n        \"min\": 9.75,\n        \"max\": 17.58,\n        \"num_unique_values\": 2,\n        \"samples\": [\n          17.58,\n          9.75\n        ],\n        \"semantic_type\": \"\",\n        \"description\": \"\"\n      }\n    },\n    {\n      \"column\": \"mse\",\n      \"properties\": {\n        \"dtype\": \"number\",\n        \"std\": 612.4752699497343,\n        \"min\": 7055.6,\n        \"max\": 8145.75,\n        \"num_unique_values\": 3,\n        \"samples\": [\n          7055.6,\n          8145.75\n        ],\n        \"semantic_type\": \"\",\n        \"description\": \"\"\n      }\n    },\n    {\n      \"column\": \"rmse\",\n      \"properties\": {\n        \"dtype\": \"number\",\n        \"std\": 3.491336897713155,\n        \"min\": 83.87,\n        \"max\": 90.08,\n        \"num_unique_values\": 3,\n        \"samples\": [\n          83.87,\n          90.08\n        ],\n        \"semantic_type\": \"\",\n        \"description\": \"\"\n      }\n    },\n    {\n      \"column\": \"mae\",\n      \"properties\": {\n        \"dtype\": \"number\",\n        \"std\": 4.177307745426472,\n        \"min\": 5.16,\n        \"max\": 13.39,\n        \"num_unique_values\": 3,\n        \"samples\": [\n          5.16,\n          10.52\n        ],\n        \"semantic_type\": \"\",\n        \"description\": \"\"\n      }\n    },\n    {\n      \"column\": \"r2\",\n      \"properties\": {\n        \"dtype\": \"number\",\n        \"std\": 0.07810249675906655,\n        \"min\": -0.01,\n        \"max\": 0.13,\n        \"num_unique_values\": 3,\n        \"samples\": [\n          0.13,\n          -0.01\n        ],\n        \"semantic_type\": \"\",\n        \"description\": \"\"\n      }\n    },\n    {\n      \"column\": \"max_err\",\n      \"properties\": {\n        \"dtype\": \"number\",\n        \"std\": 100.2980858906754,\n        \"min\": 9788.08,\n        \"max\": 9965.57,\n        \"num_unique_values\": 3,\n        \"samples\": [\n          9788.08,\n          9965.57\n        ],\n        \"semantic_type\": \"\",\n        \"description\": \"\"\n      }\n    }\n  ]\n}",
              "type": "dataframe"
            },
            "text/html": [
              "<div>\n",
              "<style scoped>\n",
              "    .dataframe tbody tr th:only-of-type {\n",
              "        vertical-align: middle;\n",
              "    }\n",
              "\n",
              "    .dataframe tbody tr th {\n",
              "        vertical-align: top;\n",
              "    }\n",
              "\n",
              "    .dataframe thead th {\n",
              "        text-align: right;\n",
              "    }\n",
              "</style>\n",
              "<table border=\"1\" class=\"dataframe\">\n",
              "  <thead>\n",
              "    <tr style=\"text-align: right;\">\n",
              "      <th></th>\n",
              "      <th>model</th>\n",
              "      <th>avg</th>\n",
              "      <th>mse</th>\n",
              "      <th>rmse</th>\n",
              "      <th>mae</th>\n",
              "      <th>r2</th>\n",
              "      <th>max_err</th>\n",
              "    </tr>\n",
              "  </thead>\n",
              "  <tbody>\n",
              "    <tr>\n",
              "      <th>0</th>\n",
              "      <td>xgb_naïve</td>\n",
              "      <td>17.58</td>\n",
              "      <td>7055.60</td>\n",
              "      <td>83.87</td>\n",
              "      <td>5.16</td>\n",
              "      <td>0.13</td>\n",
              "      <td>9788.08</td>\n",
              "    </tr>\n",
              "    <tr>\n",
              "      <th>0</th>\n",
              "      <td>median</td>\n",
              "      <td>9.75</td>\n",
              "      <td>8145.75</td>\n",
              "      <td>90.08</td>\n",
              "      <td>10.52</td>\n",
              "      <td>-0.01</td>\n",
              "      <td>9965.57</td>\n",
              "    </tr>\n",
              "    <tr>\n",
              "      <th>0</th>\n",
              "      <td>mean</td>\n",
              "      <td>17.58</td>\n",
              "      <td>8084.47</td>\n",
              "      <td>89.74</td>\n",
              "      <td>13.39</td>\n",
              "      <td>-0.00</td>\n",
              "      <td>9957.77</td>\n",
              "    </tr>\n",
              "  </tbody>\n",
              "</table>\n",
              "</div>"
            ],
            "text/plain": [
              "       model    avg      mse   rmse    mae    r2  max_err\n",
              "0  xgb_naïve  17.58  7055.60  83.87   5.16  0.13  9788.08\n",
              "0     median   9.75  8145.75  90.08  10.52 -0.01  9965.57\n",
              "0       mean  17.58  8084.47  89.74  13.39 -0.00  9957.77"
            ]
          },
          "execution_count": 31,
          "metadata": {},
          "output_type": "execute_result"
        }
      ],
      "source": [
        "xgb_naïve_fold_results_df = pd.DataFrame(xgb_naive_fold_results)\n",
        "xgb_naïve_results_df = pd.DataFrame({'model': 'xgb_naïve',**xgb_naïve_fold_results_df.drop(columns=['max_err']).mean(), 'max_err': xgb_naïve_fold_results_df['max_err'].max()}, index=[0])\n",
        "all_results = pd.concat([mean_results_df, median_results_df, xgb_naïve_results_df]).sort_values(by=[\"mae\", \"mse\", \"rmse\", \"r2\", \"max_err\"], ascending=[True, True, True, False, True])\n",
        "all_results.round(2)"
      ]
    },
    {
      "cell_type": "markdown",
      "metadata": {
        "id": "GPlhRR75X4-T"
      },
      "source": [
        "<br/>"
      ]
    },
    {
      "cell_type": "markdown",
      "metadata": {
        "id": "_TOSNl4QqoHP"
      },
      "source": [
        "<br/>"
      ]
    },
    {
      "cell_type": "markdown",
      "metadata": {
        "id": "ZXelrKt6qoKu"
      },
      "source": [
        "<br/>"
      ]
    },
    {
      "cell_type": "markdown",
      "metadata": {
        "id": "KwixAtYrqoNg"
      },
      "source": [
        "<br/>"
      ]
    },
    {
      "cell_type": "markdown",
      "metadata": {
        "id": "vnW5EwuhqoRy"
      },
      "source": [
        "<br/>"
      ]
    },
    {
      "cell_type": "markdown",
      "metadata": {
        "id": "oMZrcaYVn07Q"
      },
      "source": [
        "<br/>"
      ]
    },
    {
      "cell_type": "markdown",
      "metadata": {
        "id": "Oe5asoiHn2wN"
      },
      "source": [
        "### Feature Importance"
      ]
    },
    {
      "cell_type": "code",
      "execution_count": null,
      "metadata": {
        "colab": {
          "base_uri": "https://localhost:8080/",
          "height": 718
        },
        "id": "DyFB4fWCnztR",
        "outputId": "1c65fa56-1d33-41fa-ef38-eecc5de72bd3"
      },
      "outputs": [
        {
          "data": {
            "image/png": "[encoded data removed]",
            "text/plain": [
              "<Figure size 1000x800 with 1 Axes>"
            ]
          },
          "metadata": {},
          "output_type": "display_data"
        }
      ],
      "source": [
        "booster = xgb_model.get_booster()\n",
        "importance = booster.get_score(importance_type='weight')  # You can also use 'gain', 'cover', etc.\n",
        "\n",
        "# Convert to DataFrame\n",
        "importance_df = pd.DataFrame({\n",
        "    'Feature': list(importance.keys()),\n",
        "    'Importance': list(importance.values())\n",
        "})\n",
        "\n",
        "# Sort by importance\n",
        "importance_df = importance_df.sort_values(by='Importance', ascending=False)\n",
        "\n",
        "# Plot using Seaborn\n",
        "plt.figure(figsize=(10, 8))\n",
        "sns.barplot(x='Importance', y='Feature', data=importance_df, hue='Feature', palette=\"viridis\", dodge=False, legend=False)\n",
        "plt.title('Feature Importance')\n",
        "plt.xlabel('Importance Score')\n",
        "plt.ylabel('Features')\n",
        "plt.show()"
      ]
    },
    {
      "cell_type": "markdown",
      "metadata": {
        "id": "hpfXB_DS4UkF"
      },
      "source": [
        "<br/>"
      ]
    },
    {
      "cell_type": "markdown",
      "metadata": {
        "id": "hT5ylX6x4W8y"
      },
      "source": [
        "<br/>"
      ]
    },
    {
      "cell_type": "markdown",
      "metadata": {
        "id": "h3uEuh2j4XAP"
      },
      "source": [
        "<br/>"
      ]
    },
    {
      "cell_type": "markdown",
      "metadata": {
        "id": "iqauFarZeIfA"
      },
      "source": [
        "# XGBoost + Feature Engineering"
      ]
    },
    {
      "cell_type": "code",
      "execution_count": null,
      "metadata": {
        "colab": {
          "base_uri": "https://localhost:8080/"
        },
        "id": "3RTaatiM0kwn",
        "outputId": "e7d13b1f-fc23-47d7-c307-cf316fea6960"
      },
      "outputs": [
        {
          "name": "stdout",
          "output_type": "stream",
          "text": [
            "CPU times: user 347 ms, sys: 167 ms, total: 514 ms\n",
            "Wall time: 256 ms\n"
          ]
        }
      ],
      "source": [
        "%%time\n",
        "\n",
        "# RAPIDS OFF  - 20.28\n",
        "# RAPIDS A100 - 0.256 (x79 speedup)\n",
        "\n",
        "df = pd.read_csv('Taxi_Trips__2013-2023__20241218.csv')  # read in data\n",
        "\n",
        "df = df.rename(columns={'Trip Total': 'trip_ttl'})  # abbreviate target column name\n",
        "\n",
        "df = df.drop(columns=[\"Fare\", \"Tips\", \"Tolls\", \"Extras\"])\n",
        "\n",
        "df = df.drop(columns=[\"Trip ID\", \"Taxi ID\"])\n",
        "\n",
        "df[\"Trip Start Timestamp\"] = pd.to_datetime(df[\"Trip Start Timestamp\"], format=\"%m/%d/%Y %I:%M:%S %p\")\n",
        "df[\"Trip End Timestamp\"] = pd.to_datetime(df[\"Trip End Timestamp\"], format=\"%m/%d/%Y %I:%M:%S %p\")\n",
        "\n",
        "df = df[df[\"trip_ttl\"]>0]"
      ]
    },
    {
      "cell_type": "markdown",
      "metadata": {
        "id": "59tHE0-UtMPx"
      },
      "source": [
        "### Feature Classification"
      ]
    },
    {
      "cell_type": "code",
      "execution_count": null,
      "metadata": {
        "colab": {
          "base_uri": "https://localhost:8080/",
          "height": 653
        },
        "id": "H1Ut46Z_0pDO",
        "outputId": "c518f7a3-75df-4135-f573-9498000a1153"
      },
      "outputs": [
        {
          "name": "stdout",
          "output_type": "stream",
          "text": [
            "CPU times: user 19.5 ms, sys: 4.15 ms, total: 23.7 ms\n",
            "Wall time: 27.4 ms\n"
          ]
        },
        {
          "data": {
            "text/html": [
              "<div>\n",
              "<style scoped>\n",
              "    .dataframe tbody tr th:only-of-type {\n",
              "        vertical-align: middle;\n",
              "    }\n",
              "\n",
              "    .dataframe tbody tr th {\n",
              "        vertical-align: top;\n",
              "    }\n",
              "\n",
              "    .dataframe thead th {\n",
              "        text-align: right;\n",
              "    }\n",
              "</style>\n",
              "<table border=\"1\" class=\"dataframe\">\n",
              "  <thead>\n",
              "    <tr style=\"text-align: right;\">\n",
              "      <th></th>\n",
              "      <th>0</th>\n",
              "    </tr>\n",
              "  </thead>\n",
              "  <tbody>\n",
              "    <tr>\n",
              "      <th>Payment Type</th>\n",
              "      <td>9</td>\n",
              "    </tr>\n",
              "    <tr>\n",
              "      <th>Company</th>\n",
              "      <td>42</td>\n",
              "    </tr>\n",
              "    <tr>\n",
              "      <th>Pickup Community Area</th>\n",
              "      <td>77</td>\n",
              "    </tr>\n",
              "    <tr>\n",
              "      <th>Dropoff Community Area</th>\n",
              "      <td>77</td>\n",
              "    </tr>\n",
              "    <tr>\n",
              "      <th>Pickup Census Tract</th>\n",
              "      <td>292</td>\n",
              "    </tr>\n",
              "    <tr>\n",
              "      <th>Pickup Centroid Latitude</th>\n",
              "      <td>366</td>\n",
              "    </tr>\n",
              "    <tr>\n",
              "      <th>Pickup Centroid Longitude</th>\n",
              "      <td>366</td>\n",
              "    </tr>\n",
              "    <tr>\n",
              "      <th>Pickup Centroid Location</th>\n",
              "      <td>369</td>\n",
              "    </tr>\n",
              "    <tr>\n",
              "      <th>Dropoff Centroid Latitude</th>\n",
              "      <td>475</td>\n",
              "    </tr>\n",
              "    <tr>\n",
              "      <th>Dropoff Centroid Longitude</th>\n",
              "      <td>475</td>\n",
              "    </tr>\n",
              "    <tr>\n",
              "      <th>Dropoff Centroid  Location</th>\n",
              "      <td>480</td>\n",
              "    </tr>\n",
              "    <tr>\n",
              "      <th>Dropoff Census Tract</th>\n",
              "      <td>485</td>\n",
              "    </tr>\n",
              "    <tr>\n",
              "      <th>Trip Miles</th>\n",
              "      <td>4532</td>\n",
              "    </tr>\n",
              "    <tr>\n",
              "      <th>trip_ttl</th>\n",
              "      <td>6665</td>\n",
              "    </tr>\n",
              "    <tr>\n",
              "      <th>Trip Seconds</th>\n",
              "      <td>8989</td>\n",
              "    </tr>\n",
              "    <tr>\n",
              "      <th>Trip Start Timestamp</th>\n",
              "      <td>19380</td>\n",
              "    </tr>\n",
              "    <tr>\n",
              "      <th>Trip End Timestamp</th>\n",
              "      <td>19405</td>\n",
              "    </tr>\n",
              "  </tbody>\n",
              "</table>\n",
              "</div><br><label><b>dtype:</b> int64</label>"
            ],
            "text/plain": [
              "Payment Type                      9\n",
              "Company                          42\n",
              "Pickup Community Area            77\n",
              "Dropoff Community Area           77\n",
              "Pickup Census Tract             292\n",
              "Pickup Centroid Latitude        366\n",
              "Pickup Centroid Longitude       366\n",
              "Pickup Centroid Location        369\n",
              "Dropoff Centroid Latitude       475\n",
              "Dropoff Centroid Longitude      475\n",
              "Dropoff Centroid  Location      480\n",
              "Dropoff Census Tract            485\n",
              "Trip Miles                     4532\n",
              "trip_ttl                       6665\n",
              "Trip Seconds                   8989\n",
              "Trip Start Timestamp          19380\n",
              "Trip End Timestamp            19405\n",
              "dtype: int64"
            ]
          },
          "execution_count": 34,
          "metadata": {},
          "output_type": "execute_result"
        }
      ],
      "source": [
        "%%time\n",
        "\n",
        "# RAPIDS OFF  - 1.75\n",
        "# RAPIDS A100 - 0.0247 (x70)\n",
        "\n",
        "df.nunique().sort_values()"
      ]
    },
    {
      "cell_type": "code",
      "execution_count": null,
      "metadata": {
        "colab": {
          "base_uri": "https://localhost:8080/"
        },
        "id": "6C1LoUh902eB",
        "outputId": "25db985f-1d1c-439f-cc74-ae1c0ecffd82"
      },
      "outputs": [
        {
          "name": "stdout",
          "output_type": "stream",
          "text": [
            "['Dropoff Census Tract', 'Company', 'Pickup Centroid Location', 'Dropoff Community Area', 'Payment Type', 'Pickup Census Tract', 'Dropoff Centroid  Location', 'Pickup Community Area']\n",
            "CPU times: user 6.3 ms, sys: 0 ns, total: 6.3 ms\n",
            "Wall time: 5.28 ms\n"
          ]
        }
      ],
      "source": [
        "%%time\n",
        "\n",
        "# RAPIDS OFF  - 0.31\n",
        "# RAPIDS A100 - 0.00528 (x59 speedup)\n",
        "\n",
        "target = [\"trip_ttl\"]\n",
        "assert len(df[target]) > 0\n",
        "\n",
        "num_cols = [\"Pickup Centroid Latitude\", \"Pickup Centroid Longitude\", \"Dropoff Centroid Latitude\", \"Dropoff Centroid Longitude\", \"Trip Miles\", \"Trip Seconds\", \"Trip Start Timestamp\", \"Trip End Timestamp\"]\n",
        "assert len(df[num_cols]) > 0\n",
        "\n",
        "cat_cols = list(set(df.columns) - set(target + num_cols))\n",
        "assert len(df[cat_cols]) > 0\n",
        "print(cat_cols)\n",
        "\n",
        "assert len(df.columns) == len(target) + len(num_cols) + len(cat_cols)\n",
        "assert len(target + num_cols + cat_cols) == len(set(target + num_cols + cat_cols))"
      ]
    },
    {
      "cell_type": "markdown",
      "metadata": {
        "id": "DE9eNS_W0RCt"
      },
      "source": [
        "### Impute"
      ]
    },
    {
      "cell_type": "code",
      "execution_count": null,
      "metadata": {
        "colab": {
          "base_uri": "https://localhost:8080/"
        },
        "id": "p28iWnh50S_2",
        "outputId": "8ef64aa3-e52a-4502-f19a-a376b4a1f838"
      },
      "outputs": [
        {
          "name": "stdout",
          "output_type": "stream",
          "text": [
            "CPU times: user 3.22 s, sys: 826 ms, total: 4.04 s\n",
            "Wall time: 3.93 s\n"
          ]
        }
      ],
      "source": [
        "%%time\n",
        "\n",
        "# RAPIDS OFF  - 3.33\n",
        "# RAPIDS A100 - 3.93\n",
        "\n",
        "# impute num cols\n",
        "for col in num_cols:\n",
        "  df[col] = df[col].fillna(df[col].mean())\n",
        "\n",
        "#impute cat cols\n",
        "df[cat_cols] = df[cat_cols].fillna(df[cat_cols].mode().iloc[0])"
      ]
    },
    {
      "cell_type": "markdown",
      "metadata": {
        "id": "iw26R-DBfJZ5"
      },
      "source": [
        "### Outlier Analysis"
      ]
    },
    {
      "cell_type": "code",
      "execution_count": null,
      "metadata": {
        "colab": {
          "base_uri": "https://localhost:8080/",
          "height": 459
        },
        "id": "3Muderma2wyb",
        "outputId": "f6ced7f8-b950-4a1a-da61-3b7f8494cab0"
      },
      "outputs": [
        {
          "name": "stdout",
          "output_type": "stream",
          "text": [
            "CPU times: user 57.8 ms, sys: 25.8 ms, total: 83.6 ms\n",
            "Wall time: 80.7 ms\n"
          ]
        },
        {
          "data": {
            "application/vnd.google.colaboratory.intrinsic+json": {
              "type": "dataframe"
            },
            "text/html": [
              "<div>\n",
              "<style scoped>\n",
              "    .dataframe tbody tr th:only-of-type {\n",
              "        vertical-align: middle;\n",
              "    }\n",
              "\n",
              "    .dataframe tbody tr th {\n",
              "        vertical-align: top;\n",
              "    }\n",
              "\n",
              "    .dataframe thead th {\n",
              "        text-align: right;\n",
              "    }\n",
              "</style>\n",
              "<table border=\"1\" class=\"dataframe\">\n",
              "  <thead>\n",
              "    <tr style=\"text-align: right;\">\n",
              "      <th></th>\n",
              "      <th>trip_ttl</th>\n",
              "      <th>Trip Seconds</th>\n",
              "      <th>Trip Miles</th>\n",
              "      <th>Payment Type</th>\n",
              "    </tr>\n",
              "  </thead>\n",
              "  <tbody>\n",
              "    <tr>\n",
              "      <th>1000042</th>\n",
              "      <td>9975.32</td>\n",
              "      <td>1500.0</td>\n",
              "      <td>0.00</td>\n",
              "      <td>Cash</td>\n",
              "    </tr>\n",
              "    <tr>\n",
              "      <th>171827</th>\n",
              "      <td>9900.30</td>\n",
              "      <td>1158.0</td>\n",
              "      <td>0.00</td>\n",
              "      <td>Cash</td>\n",
              "    </tr>\n",
              "    <tr>\n",
              "      <th>1664624</th>\n",
              "      <td>9800.30</td>\n",
              "      <td>1074.0</td>\n",
              "      <td>0.00</td>\n",
              "      <td>Cash</td>\n",
              "    </tr>\n",
              "    <tr>\n",
              "      <th>285324</th>\n",
              "      <td>9746.85</td>\n",
              "      <td>1080.0</td>\n",
              "      <td>57.90</td>\n",
              "      <td>Credit Card</td>\n",
              "    </tr>\n",
              "    <tr>\n",
              "      <th>161771</th>\n",
              "      <td>9700.25</td>\n",
              "      <td>1007.0</td>\n",
              "      <td>0.00</td>\n",
              "      <td>Cash</td>\n",
              "    </tr>\n",
              "    <tr>\n",
              "      <th>...</th>\n",
              "      <td>...</td>\n",
              "      <td>...</td>\n",
              "      <td>...</td>\n",
              "      <td>...</td>\n",
              "    </tr>\n",
              "    <tr>\n",
              "      <th>1017382</th>\n",
              "      <td>0.01</td>\n",
              "      <td>40.0</td>\n",
              "      <td>0.00</td>\n",
              "      <td>Cash</td>\n",
              "    </tr>\n",
              "    <tr>\n",
              "      <th>1038230</th>\n",
              "      <td>0.01</td>\n",
              "      <td>38.0</td>\n",
              "      <td>0.09</td>\n",
              "      <td>Cash</td>\n",
              "    </tr>\n",
              "    <tr>\n",
              "      <th>1037939</th>\n",
              "      <td>0.01</td>\n",
              "      <td>38.0</td>\n",
              "      <td>0.01</td>\n",
              "      <td>Cash</td>\n",
              "    </tr>\n",
              "    <tr>\n",
              "      <th>1227769</th>\n",
              "      <td>0.01</td>\n",
              "      <td>36.0</td>\n",
              "      <td>0.04</td>\n",
              "      <td>Cash</td>\n",
              "    </tr>\n",
              "    <tr>\n",
              "      <th>1132887</th>\n",
              "      <td>0.01</td>\n",
              "      <td>0.0</td>\n",
              "      <td>0.00</td>\n",
              "      <td>Credit Card</td>\n",
              "    </tr>\n",
              "  </tbody>\n",
              "</table>\n",
              "<p>1971068 rows × 4 columns</p>\n",
              "</div>"
            ],
            "text/plain": [
              "         trip_ttl  Trip Seconds  Trip Miles Payment Type\n",
              "1000042   9975.32        1500.0        0.00         Cash\n",
              "171827    9900.30        1158.0        0.00         Cash\n",
              "1664624   9800.30        1074.0        0.00         Cash\n",
              "285324    9746.85        1080.0       57.90  Credit Card\n",
              "161771    9700.25        1007.0        0.00         Cash\n",
              "...           ...           ...         ...          ...\n",
              "1017382      0.01          40.0        0.00         Cash\n",
              "1038230      0.01          38.0        0.09         Cash\n",
              "1037939      0.01          38.0        0.01         Cash\n",
              "1227769      0.01          36.0        0.04         Cash\n",
              "1132887      0.01           0.0        0.00  Credit Card\n",
              "\n",
              "[1971068 rows x 4 columns]"
            ]
          },
          "execution_count": 37,
          "metadata": {},
          "output_type": "execute_result"
        }
      ],
      "source": [
        "%%time\n",
        "\n",
        "# RAPIDS OFF  - 2.51\n",
        "# RAPIDS A100 - 0.08 (x31 speedup)\n",
        "df.sort_values([\"trip_ttl\", \"Trip Seconds\", \"Trip Miles\"], ascending=False)[[\"trip_ttl\", \"Trip Seconds\", \"Trip Miles\", \"Payment Type\"]]"
      ]
    },
    {
      "cell_type": "code",
      "execution_count": null,
      "metadata": {
        "colab": {
          "base_uri": "https://localhost:8080/"
        },
        "id": "1xZLZbZeokXm",
        "outputId": "e4f72342-030e-4992-f157-a056c4625933"
      },
      "outputs": [
        {
          "name": "stdout",
          "output_type": "stream",
          "text": [
            "CPU times: user 14.6 ms, sys: 4.18 ms, total: 18.8 ms\n",
            "Wall time: 23.1 ms\n"
          ]
        }
      ],
      "source": [
        "%%time\n",
        "\n",
        "# RAPIDS OFF  - 0.216\n",
        "# RAPIDS A100 - 0.023 (x9 speedup)\n",
        "\n",
        "df = df[(df['Trip Seconds'] * df['Trip Miles']) > 0]"
      ]
    },
    {
      "cell_type": "code",
      "execution_count": null,
      "metadata": {
        "id": "jBW1IXnXjIF0"
      },
      "outputs": [],
      "source": [
        "def filter_by_modified_z_score(df, column, threshold=4.0):\n",
        "    # median and MAD (median abs deviation)\n",
        "    median = df[column].median()\n",
        "    mad = (df[column] - median).abs().median()\n",
        "    return df[(0.6745 * (df[column] - median) / mad).abs() <= threshold]"
      ]
    },
    {
      "cell_type": "code",
      "execution_count": null,
      "metadata": {
        "colab": {
          "base_uri": "https://localhost:8080/",
          "height": 459
        },
        "id": "C1C_-2RbnhZW",
        "outputId": "36e7e37b-f763-4fd4-fd21-ca360dbb4d06"
      },
      "outputs": [
        {
          "name": "stdout",
          "output_type": "stream",
          "text": [
            "CPU times: user 40.9 ms, sys: 8.72 ms, total: 49.6 ms\n",
            "Wall time: 49 ms\n"
          ]
        },
        {
          "data": {
            "application/vnd.google.colaboratory.intrinsic+json": {
              "type": "dataframe"
            },
            "text/html": [
              "<div>\n",
              "<style scoped>\n",
              "    .dataframe tbody tr th:only-of-type {\n",
              "        vertical-align: middle;\n",
              "    }\n",
              "\n",
              "    .dataframe tbody tr th {\n",
              "        vertical-align: top;\n",
              "    }\n",
              "\n",
              "    .dataframe thead th {\n",
              "        text-align: right;\n",
              "    }\n",
              "</style>\n",
              "<table border=\"1\" class=\"dataframe\">\n",
              "  <thead>\n",
              "    <tr style=\"text-align: right;\">\n",
              "      <th></th>\n",
              "      <th>trip_ttl</th>\n",
              "      <th>Trip Seconds</th>\n",
              "      <th>Trip Miles</th>\n",
              "    </tr>\n",
              "  </thead>\n",
              "  <tbody>\n",
              "    <tr>\n",
              "      <th>426325</th>\n",
              "      <td>26.60</td>\n",
              "      <td>2880.0</td>\n",
              "      <td>3.30</td>\n",
              "    </tr>\n",
              "    <tr>\n",
              "      <th>653444</th>\n",
              "      <td>26.60</td>\n",
              "      <td>2460.0</td>\n",
              "      <td>5.20</td>\n",
              "    </tr>\n",
              "    <tr>\n",
              "      <th>1871234</th>\n",
              "      <td>26.60</td>\n",
              "      <td>2340.0</td>\n",
              "      <td>5.50</td>\n",
              "    </tr>\n",
              "    <tr>\n",
              "      <th>1224153</th>\n",
              "      <td>26.60</td>\n",
              "      <td>2220.0</td>\n",
              "      <td>6.10</td>\n",
              "    </tr>\n",
              "    <tr>\n",
              "      <th>845132</th>\n",
              "      <td>26.60</td>\n",
              "      <td>2100.0</td>\n",
              "      <td>4.50</td>\n",
              "    </tr>\n",
              "    <tr>\n",
              "      <th>...</th>\n",
              "      <td>...</td>\n",
              "      <td>...</td>\n",
              "      <td>...</td>\n",
              "    </tr>\n",
              "    <tr>\n",
              "      <th>1944300</th>\n",
              "      <td>0.01</td>\n",
              "      <td>58.0</td>\n",
              "      <td>0.32</td>\n",
              "    </tr>\n",
              "    <tr>\n",
              "      <th>1528258</th>\n",
              "      <td>0.01</td>\n",
              "      <td>40.0</td>\n",
              "      <td>0.10</td>\n",
              "    </tr>\n",
              "    <tr>\n",
              "      <th>1038230</th>\n",
              "      <td>0.01</td>\n",
              "      <td>38.0</td>\n",
              "      <td>0.09</td>\n",
              "    </tr>\n",
              "    <tr>\n",
              "      <th>1037939</th>\n",
              "      <td>0.01</td>\n",
              "      <td>38.0</td>\n",
              "      <td>0.01</td>\n",
              "    </tr>\n",
              "    <tr>\n",
              "      <th>1227769</th>\n",
              "      <td>0.01</td>\n",
              "      <td>36.0</td>\n",
              "      <td>0.04</td>\n",
              "    </tr>\n",
              "  </tbody>\n",
              "</table>\n",
              "<p>1613824 rows × 3 columns</p>\n",
              "</div>"
            ],
            "text/plain": [
              "         trip_ttl  Trip Seconds  Trip Miles\n",
              "426325      26.60        2880.0        3.30\n",
              "653444      26.60        2460.0        5.20\n",
              "1871234     26.60        2340.0        5.50\n",
              "1224153     26.60        2220.0        6.10\n",
              "845132      26.60        2100.0        4.50\n",
              "...           ...           ...         ...\n",
              "1944300      0.01          58.0        0.32\n",
              "1528258      0.01          40.0        0.10\n",
              "1038230      0.01          38.0        0.09\n",
              "1037939      0.01          38.0        0.01\n",
              "1227769      0.01          36.0        0.04\n",
              "\n",
              "[1613824 rows x 3 columns]"
            ]
          },
          "execution_count": 40,
          "metadata": {},
          "output_type": "execute_result"
        }
      ],
      "source": [
        "%%time\n",
        "\n",
        "# RAPIDS OFF  - 1.180\n",
        "# RAPIDS A100 - 0.049 (x24 speedup)\n",
        "\n",
        "df = filter_by_modified_z_score(df, \"trip_ttl\", threshold=3.5)\n",
        "df.sort_values([\"trip_ttl\", \"Trip Seconds\", \"Trip Miles\"], ascending=False)[[\"trip_ttl\", \"Trip Seconds\", \"Trip Miles\"]]"
      ]
    },
    {
      "cell_type": "markdown",
      "metadata": {
        "id": "9_4EfgKhp6HU"
      },
      "source": [
        "### Feature Extraction"
      ]
    },
    {
      "cell_type": "code",
      "execution_count": null,
      "metadata": {
        "colab": {
          "base_uri": "https://localhost:8080/"
        },
        "id": "uIjDY5BQp9JL",
        "outputId": "9574b132-2583-441c-a49b-5b10a9774a5a"
      },
      "outputs": [
        {
          "name": "stdout",
          "output_type": "stream",
          "text": [
            "CPU times: user 17.5 ms, sys: 1.1 ms, total: 18.6 ms\n",
            "Wall time: 29.3 ms\n"
          ]
        }
      ],
      "source": [
        "%%time\n",
        "\n",
        "# RAPIDS OFF  - 0.36, 0.25\n",
        "# RAPIDS A100 - 0.029 (x12 speedup)\n",
        "\n",
        "df['avg_speed'] = df['Trip Miles'] / (df['Trip Seconds'] / 3600)\n",
        "num_cols.append('avg_speed')\n",
        "\n",
        "df['day_of_week'] = df['Trip Start Timestamp'].dt.dayofweek\n",
        "df['hour_of_day'] = df['Trip Start Timestamp'].dt.hour\n",
        "df['month'] = df['Trip Start Timestamp'].dt.month\n",
        "df['year'] = df['Trip Start Timestamp'].dt.year\n",
        "cat_cols.extend(['day_of_week', 'hour_of_day', 'month', 'year'])\n",
        "\n",
        "\n",
        "# convert to timestamp seconds since epoch\n",
        "df['Trip Start Timestamp'] = df['Trip Start Timestamp'].astype(int) // 10**9\n",
        "df['Trip End Timestamp'] = df['Trip End Timestamp'].astype(int) // 10**9\n",
        "\n",
        "num_cols.extend(['Trip Start Timestamp', 'Trip End Timestamp'])"
      ]
    },
    {
      "cell_type": "markdown",
      "metadata": {
        "id": "gAUMtmPrxc4T"
      },
      "source": [
        "### Encode Categorical Features"
      ]
    },
    {
      "cell_type": "code",
      "execution_count": null,
      "metadata": {
        "colab": {
          "base_uri": "https://localhost:8080/"
        },
        "id": "MQj8ii6gfz_9",
        "outputId": "c68c0e34-d74e-4a37-8b32-431114df5893"
      },
      "outputs": [
        {
          "name": "stdout",
          "output_type": "stream",
          "text": [
            "CPU times: user 238 ms, sys: 39.6 ms, total: 278 ms\n",
            "Wall time: 259 ms\n"
          ]
        }
      ],
      "source": [
        "%%time\n",
        "\n",
        "# RAPIDS OFF  - 2.39\n",
        "# RAPIDS A100 - 0.259 (x9 speedup)\n",
        "\n",
        "# target encode cat_cols\n",
        "for col in cat_cols:\n",
        "  df[col] = df[col].map(df.groupby(col)[\"trip_ttl\"].mean())"
      ]
    },
    {
      "cell_type": "code",
      "execution_count": null,
      "metadata": {
        "colab": {
          "base_uri": "https://localhost:8080/",
          "height": 514
        },
        "id": "NAiLP7cj5S9z",
        "outputId": "8576824b-5df0-4385-c834-f0be0995cbdf"
      },
      "outputs": [
        {
          "name": "stdout",
          "output_type": "stream",
          "text": [
            "CPU times: user 5.9 ms, sys: 5.01 ms, total: 10.9 ms\n",
            "Wall time: 7.67 ms\n"
          ]
        },
        {
          "data": {
            "application/vnd.google.colaboratory.intrinsic+json": {
              "type": "dataframe"
            },
            "text/html": [
              "<div>\n",
              "<style scoped>\n",
              "    .dataframe tbody tr th:only-of-type {\n",
              "        vertical-align: middle;\n",
              "    }\n",
              "\n",
              "    .dataframe tbody tr th {\n",
              "        vertical-align: top;\n",
              "    }\n",
              "\n",
              "    .dataframe thead th {\n",
              "        text-align: right;\n",
              "    }\n",
              "</style>\n",
              "<table border=\"1\" class=\"dataframe\">\n",
              "  <thead>\n",
              "    <tr style=\"text-align: right;\">\n",
              "      <th></th>\n",
              "      <th>Trip Start Timestamp</th>\n",
              "      <th>Trip End Timestamp</th>\n",
              "      <th>Trip Seconds</th>\n",
              "      <th>Trip Miles</th>\n",
              "      <th>Pickup Census Tract</th>\n",
              "      <th>Dropoff Census Tract</th>\n",
              "      <th>Pickup Community Area</th>\n",
              "      <th>Dropoff Community Area</th>\n",
              "      <th>trip_ttl</th>\n",
              "      <th>Payment Type</th>\n",
              "      <th>Company</th>\n",
              "      <th>Pickup Centroid Latitude</th>\n",
              "      <th>Pickup Centroid Longitude</th>\n",
              "      <th>Pickup Centroid Location</th>\n",
              "      <th>Dropoff Centroid Latitude</th>\n",
              "      <th>Dropoff Centroid Longitude</th>\n",
              "      <th>Dropoff Centroid  Location</th>\n",
              "      <th>avg_speed</th>\n",
              "      <th>day_of_week</th>\n",
              "      <th>hour_of_day</th>\n",
              "      <th>month</th>\n",
              "      <th>year</th>\n",
              "    </tr>\n",
              "  </thead>\n",
              "  <tbody>\n",
              "    <tr>\n",
              "      <th>5665</th>\n",
              "      <td>1542992400</td>\n",
              "      <td>1542994200</td>\n",
              "      <td>1620.0</td>\n",
              "      <td>5.60</td>\n",
              "      <td>9.026736</td>\n",
              "      <td>13.491123</td>\n",
              "      <td>9.673293</td>\n",
              "      <td>9.515685</td>\n",
              "      <td>26.60</td>\n",
              "      <td>11.589782</td>\n",
              "      <td>9.991409</td>\n",
              "      <td>41.899156</td>\n",
              "      <td>-87.626211</td>\n",
              "      <td>9.026736</td>\n",
              "      <td>41.878667</td>\n",
              "      <td>-87.671654</td>\n",
              "      <td>13.491123</td>\n",
              "      <td>12.444444</td>\n",
              "      <td>10.034090</td>\n",
              "      <td>10.666388</td>\n",
              "      <td>10.287562</td>\n",
              "      <td>10.135737</td>\n",
              "    </tr>\n",
              "    <tr>\n",
              "      <th>27000</th>\n",
              "      <td>1541611800</td>\n",
              "      <td>1541612700</td>\n",
              "      <td>1140.0</td>\n",
              "      <td>6.90</td>\n",
              "      <td>11.230968</td>\n",
              "      <td>11.209385</td>\n",
              "      <td>9.673293</td>\n",
              "      <td>13.134676</td>\n",
              "      <td>26.60</td>\n",
              "      <td>11.589782</td>\n",
              "      <td>10.028170</td>\n",
              "      <td>41.899602</td>\n",
              "      <td>-87.633308</td>\n",
              "      <td>13.312175</td>\n",
              "      <td>41.975171</td>\n",
              "      <td>-87.687516</td>\n",
              "      <td>12.937062</td>\n",
              "      <td>21.789474</td>\n",
              "      <td>9.944505</td>\n",
              "      <td>10.666388</td>\n",
              "      <td>10.287562</td>\n",
              "      <td>10.135737</td>\n",
              "    </tr>\n",
              "    <tr>\n",
              "      <th>58577</th>\n",
              "      <td>1542400200</td>\n",
              "      <td>1542401100</td>\n",
              "      <td>960.0</td>\n",
              "      <td>7.20</td>\n",
              "      <td>11.230968</td>\n",
              "      <td>11.209385</td>\n",
              "      <td>9.636544</td>\n",
              "      <td>18.599468</td>\n",
              "      <td>26.60</td>\n",
              "      <td>11.589782</td>\n",
              "      <td>10.063929</td>\n",
              "      <td>41.878866</td>\n",
              "      <td>-87.625192</td>\n",
              "      <td>15.722639</td>\n",
              "      <td>41.794090</td>\n",
              "      <td>-87.592311</td>\n",
              "      <td>17.837765</td>\n",
              "      <td>27.000000</td>\n",
              "      <td>10.034090</td>\n",
              "      <td>10.690281</td>\n",
              "      <td>10.287562</td>\n",
              "      <td>10.135737</td>\n",
              "    </tr>\n",
              "    <tr>\n",
              "      <th>75585</th>\n",
              "      <td>1541952000</td>\n",
              "      <td>1541952900</td>\n",
              "      <td>1260.0</td>\n",
              "      <td>7.20</td>\n",
              "      <td>11.230968</td>\n",
              "      <td>11.209385</td>\n",
              "      <td>11.398014</td>\n",
              "      <td>14.519452</td>\n",
              "      <td>26.60</td>\n",
              "      <td>11.589782</td>\n",
              "      <td>9.789769</td>\n",
              "      <td>41.953582</td>\n",
              "      <td>-87.723452</td>\n",
              "      <td>11.390095</td>\n",
              "      <td>41.953582</td>\n",
              "      <td>-87.723452</td>\n",
              "      <td>14.437584</td>\n",
              "      <td>20.571429</td>\n",
              "      <td>10.561506</td>\n",
              "      <td>9.987022</td>\n",
              "      <td>10.287562</td>\n",
              "      <td>10.135737</td>\n",
              "    </tr>\n",
              "    <tr>\n",
              "      <th>80664</th>\n",
              "      <td>1541943000</td>\n",
              "      <td>1541943000</td>\n",
              "      <td>480.0</td>\n",
              "      <td>3.60</td>\n",
              "      <td>11.230968</td>\n",
              "      <td>11.209385</td>\n",
              "      <td>16.560212</td>\n",
              "      <td>9.141873</td>\n",
              "      <td>26.60</td>\n",
              "      <td>11.589782</td>\n",
              "      <td>10.063929</td>\n",
              "      <td>41.980264</td>\n",
              "      <td>-87.913625</td>\n",
              "      <td>19.607906</td>\n",
              "      <td>41.897622</td>\n",
              "      <td>-87.650391</td>\n",
              "      <td>8.712605</td>\n",
              "      <td>27.000000</td>\n",
              "      <td>10.561506</td>\n",
              "      <td>9.421587</td>\n",
              "      <td>10.287562</td>\n",
              "      <td>10.135737</td>\n",
              "    </tr>\n",
              "    <tr>\n",
              "      <th>...</th>\n",
              "      <td>...</td>\n",
              "      <td>...</td>\n",
              "      <td>...</td>\n",
              "      <td>...</td>\n",
              "      <td>...</td>\n",
              "      <td>...</td>\n",
              "      <td>...</td>\n",
              "      <td>...</td>\n",
              "      <td>...</td>\n",
              "      <td>...</td>\n",
              "      <td>...</td>\n",
              "      <td>...</td>\n",
              "      <td>...</td>\n",
              "      <td>...</td>\n",
              "      <td>...</td>\n",
              "      <td>...</td>\n",
              "      <td>...</td>\n",
              "      <td>...</td>\n",
              "      <td>...</td>\n",
              "      <td>...</td>\n",
              "      <td>...</td>\n",
              "      <td>...</td>\n",
              "    </tr>\n",
              "    <tr>\n",
              "      <th>1953038</th>\n",
              "      <td>1549127700</td>\n",
              "      <td>1549128600</td>\n",
              "      <td>1581.0</td>\n",
              "      <td>21.89</td>\n",
              "      <td>14.084110</td>\n",
              "      <td>11.209385</td>\n",
              "      <td>16.560212</td>\n",
              "      <td>9.141873</td>\n",
              "      <td>0.01</td>\n",
              "      <td>8.846531</td>\n",
              "      <td>10.430743</td>\n",
              "      <td>41.979071</td>\n",
              "      <td>-87.903040</td>\n",
              "      <td>14.084110</td>\n",
              "      <td>41.897622</td>\n",
              "      <td>-87.650391</td>\n",
              "      <td>8.712605</td>\n",
              "      <td>49.844402</td>\n",
              "      <td>10.461210</td>\n",
              "      <td>10.666388</td>\n",
              "      <td>10.077806</td>\n",
              "      <td>9.969116</td>\n",
              "    </tr>\n",
              "    <tr>\n",
              "      <th>1953494</th>\n",
              "      <td>1548666000</td>\n",
              "      <td>1548666900</td>\n",
              "      <td>1211.0</td>\n",
              "      <td>7.33</td>\n",
              "      <td>14.084110</td>\n",
              "      <td>11.209385</td>\n",
              "      <td>16.560212</td>\n",
              "      <td>9.141873</td>\n",
              "      <td>0.01</td>\n",
              "      <td>8.846531</td>\n",
              "      <td>10.430743</td>\n",
              "      <td>41.979071</td>\n",
              "      <td>-87.903040</td>\n",
              "      <td>14.084110</td>\n",
              "      <td>41.897622</td>\n",
              "      <td>-87.650391</td>\n",
              "      <td>8.712605</td>\n",
              "      <td>21.790256</td>\n",
              "      <td>9.882814</td>\n",
              "      <td>9.812430</td>\n",
              "      <td>9.927262</td>\n",
              "      <td>9.969116</td>\n",
              "    </tr>\n",
              "    <tr>\n",
              "      <th>1957942</th>\n",
              "      <td>1549026900</td>\n",
              "      <td>1549028700</td>\n",
              "      <td>1818.0</td>\n",
              "      <td>13.11</td>\n",
              "      <td>11.230968</td>\n",
              "      <td>11.209385</td>\n",
              "      <td>16.560212</td>\n",
              "      <td>9.141873</td>\n",
              "      <td>0.01</td>\n",
              "      <td>8.846531</td>\n",
              "      <td>10.430743</td>\n",
              "      <td>41.980264</td>\n",
              "      <td>-87.913625</td>\n",
              "      <td>19.607906</td>\n",
              "      <td>41.897622</td>\n",
              "      <td>-87.650391</td>\n",
              "      <td>8.712605</td>\n",
              "      <td>25.960396</td>\n",
              "      <td>10.034090</td>\n",
              "      <td>9.421587</td>\n",
              "      <td>10.077806</td>\n",
              "      <td>9.969116</td>\n",
              "    </tr>\n",
              "    <tr>\n",
              "      <th>1963097</th>\n",
              "      <td>1549472400</td>\n",
              "      <td>1549472400</td>\n",
              "      <td>61.0</td>\n",
              "      <td>0.07</td>\n",
              "      <td>10.388689</td>\n",
              "      <td>10.567145</td>\n",
              "      <td>15.545739</td>\n",
              "      <td>12.695346</td>\n",
              "      <td>0.01</td>\n",
              "      <td>8.846531</td>\n",
              "      <td>10.430743</td>\n",
              "      <td>41.785999</td>\n",
              "      <td>-87.750934</td>\n",
              "      <td>10.388689</td>\n",
              "      <td>41.785999</td>\n",
              "      <td>-87.750934</td>\n",
              "      <td>10.567145</td>\n",
              "      <td>4.131148</td>\n",
              "      <td>9.944505</td>\n",
              "      <td>10.666388</td>\n",
              "      <td>10.077806</td>\n",
              "      <td>9.969116</td>\n",
              "    </tr>\n",
              "    <tr>\n",
              "      <th>1970600</th>\n",
              "      <td>1549549800</td>\n",
              "      <td>1549553400</td>\n",
              "      <td>3752.0</td>\n",
              "      <td>34.30</td>\n",
              "      <td>11.230968</td>\n",
              "      <td>11.209385</td>\n",
              "      <td>16.560212</td>\n",
              "      <td>9.141873</td>\n",
              "      <td>0.01</td>\n",
              "      <td>8.846531</td>\n",
              "      <td>10.430743</td>\n",
              "      <td>41.980264</td>\n",
              "      <td>-87.913625</td>\n",
              "      <td>19.607906</td>\n",
              "      <td>41.897622</td>\n",
              "      <td>-87.650391</td>\n",
              "      <td>8.712605</td>\n",
              "      <td>32.910448</td>\n",
              "      <td>9.993680</td>\n",
              "      <td>9.590097</td>\n",
              "      <td>10.077806</td>\n",
              "      <td>9.969116</td>\n",
              "    </tr>\n",
              "  </tbody>\n",
              "</table>\n",
              "<p>1613824 rows × 22 columns</p>\n",
              "</div>"
            ],
            "text/plain": [
              "         Trip Start Timestamp  Trip End Timestamp  Trip Seconds  Trip Miles  \\\n",
              "5665               1542992400          1542994200        1620.0        5.60   \n",
              "27000              1541611800          1541612700        1140.0        6.90   \n",
              "58577              1542400200          1542401100         960.0        7.20   \n",
              "75585              1541952000          1541952900        1260.0        7.20   \n",
              "80664              1541943000          1541943000         480.0        3.60   \n",
              "...                       ...                 ...           ...         ...   \n",
              "1953038            1549127700          1549128600        1581.0       21.89   \n",
              "1953494            1548666000          1548666900        1211.0        7.33   \n",
              "1957942            1549026900          1549028700        1818.0       13.11   \n",
              "1963097            1549472400          1549472400          61.0        0.07   \n",
              "1970600            1549549800          1549553400        3752.0       34.30   \n",
              "\n",
              "         Pickup Census Tract  Dropoff Census Tract  Pickup Community Area  \\\n",
              "5665                9.026736             13.491123               9.673293   \n",
              "27000              11.230968             11.209385               9.673293   \n",
              "58577              11.230968             11.209385               9.636544   \n",
              "75585              11.230968             11.209385              11.398014   \n",
              "80664              11.230968             11.209385              16.560212   \n",
              "...                      ...                   ...                    ...   \n",
              "1953038            14.084110             11.209385              16.560212   \n",
              "1953494            14.084110             11.209385              16.560212   \n",
              "1957942            11.230968             11.209385              16.560212   \n",
              "1963097            10.388689             10.567145              15.545739   \n",
              "1970600            11.230968             11.209385              16.560212   \n",
              "\n",
              "         Dropoff Community Area  trip_ttl  Payment Type    Company  \\\n",
              "5665                   9.515685     26.60     11.589782   9.991409   \n",
              "27000                 13.134676     26.60     11.589782  10.028170   \n",
              "58577                 18.599468     26.60     11.589782  10.063929   \n",
              "75585                 14.519452     26.60     11.589782   9.789769   \n",
              "80664                  9.141873     26.60     11.589782  10.063929   \n",
              "...                         ...       ...           ...        ...   \n",
              "1953038                9.141873      0.01      8.846531  10.430743   \n",
              "1953494                9.141873      0.01      8.846531  10.430743   \n",
              "1957942                9.141873      0.01      8.846531  10.430743   \n",
              "1963097               12.695346      0.01      8.846531  10.430743   \n",
              "1970600                9.141873      0.01      8.846531  10.430743   \n",
              "\n",
              "         Pickup Centroid Latitude  Pickup Centroid Longitude  \\\n",
              "5665                    41.899156                 -87.626211   \n",
              "27000                   41.899602                 -87.633308   \n",
              "58577                   41.878866                 -87.625192   \n",
              "75585                   41.953582                 -87.723452   \n",
              "80664                   41.980264                 -87.913625   \n",
              "...                           ...                        ...   \n",
              "1953038                 41.979071                 -87.903040   \n",
              "1953494                 41.979071                 -87.903040   \n",
              "1957942                 41.980264                 -87.913625   \n",
              "1963097                 41.785999                 -87.750934   \n",
              "1970600                 41.980264                 -87.913625   \n",
              "\n",
              "         Pickup Centroid Location  Dropoff Centroid Latitude  \\\n",
              "5665                     9.026736                  41.878667   \n",
              "27000                   13.312175                  41.975171   \n",
              "58577                   15.722639                  41.794090   \n",
              "75585                   11.390095                  41.953582   \n",
              "80664                   19.607906                  41.897622   \n",
              "...                           ...                        ...   \n",
              "1953038                 14.084110                  41.897622   \n",
              "1953494                 14.084110                  41.897622   \n",
              "1957942                 19.607906                  41.897622   \n",
              "1963097                 10.388689                  41.785999   \n",
              "1970600                 19.607906                  41.897622   \n",
              "\n",
              "         Dropoff Centroid Longitude  Dropoff Centroid  Location  avg_speed  \\\n",
              "5665                     -87.671654                   13.491123  12.444444   \n",
              "27000                    -87.687516                   12.937062  21.789474   \n",
              "58577                    -87.592311                   17.837765  27.000000   \n",
              "75585                    -87.723452                   14.437584  20.571429   \n",
              "80664                    -87.650391                    8.712605  27.000000   \n",
              "...                             ...                         ...        ...   \n",
              "1953038                  -87.650391                    8.712605  49.844402   \n",
              "1953494                  -87.650391                    8.712605  21.790256   \n",
              "1957942                  -87.650391                    8.712605  25.960396   \n",
              "1963097                  -87.750934                   10.567145   4.131148   \n",
              "1970600                  -87.650391                    8.712605  32.910448   \n",
              "\n",
              "         day_of_week  hour_of_day      month       year  \n",
              "5665       10.034090    10.666388  10.287562  10.135737  \n",
              "27000       9.944505    10.666388  10.287562  10.135737  \n",
              "58577      10.034090    10.690281  10.287562  10.135737  \n",
              "75585      10.561506     9.987022  10.287562  10.135737  \n",
              "80664      10.561506     9.421587  10.287562  10.135737  \n",
              "...              ...          ...        ...        ...  \n",
              "1953038    10.461210    10.666388  10.077806   9.969116  \n",
              "1953494     9.882814     9.812430   9.927262   9.969116  \n",
              "1957942    10.034090     9.421587  10.077806   9.969116  \n",
              "1963097     9.944505    10.666388  10.077806   9.969116  \n",
              "1970600     9.993680     9.590097  10.077806   9.969116  \n",
              "\n",
              "[1613824 rows x 22 columns]"
            ]
          },
          "execution_count": 43,
          "metadata": {},
          "output_type": "execute_result"
        }
      ],
      "source": [
        "%%time\n",
        "\n",
        "# RAPIDS OFF  - 1.23, 0.833\n",
        "# RAPIDS A100 - 0.00767 (x160 speedup)\n",
        "\n",
        "pd.set_option('display.max_columns', None)\n",
        "\n",
        "df.sort_values(\"trip_ttl\", ascending=False)"
      ]
    },
    {
      "cell_type": "code",
      "execution_count": null,
      "metadata": {
        "colab": {
          "base_uri": "https://localhost:8080/",
          "height": 514
        },
        "id": "U-LDV7_U82LC",
        "outputId": "cbbf4ee0-c254-4de9-fefa-6ea1a52ba0a6"
      },
      "outputs": [
        {
          "name": "stdout",
          "output_type": "stream",
          "text": [
            "CPU times: user 147 ms, sys: 21 ms, total: 167 ms\n",
            "Wall time: 170 ms\n"
          ]
        },
        {
          "data": {
            "application/vnd.google.colaboratory.intrinsic+json": {
              "type": "dataframe",
              "variable_name": "df"
            },
            "text/html": [
              "<div>\n",
              "<style scoped>\n",
              "    .dataframe tbody tr th:only-of-type {\n",
              "        vertical-align: middle;\n",
              "    }\n",
              "\n",
              "    .dataframe tbody tr th {\n",
              "        vertical-align: top;\n",
              "    }\n",
              "\n",
              "    .dataframe thead th {\n",
              "        text-align: right;\n",
              "    }\n",
              "</style>\n",
              "<table border=\"1\" class=\"dataframe\">\n",
              "  <thead>\n",
              "    <tr style=\"text-align: right;\">\n",
              "      <th></th>\n",
              "      <th>Trip Start Timestamp</th>\n",
              "      <th>Trip End Timestamp</th>\n",
              "      <th>Trip Seconds</th>\n",
              "      <th>Trip Miles</th>\n",
              "      <th>Pickup Census Tract</th>\n",
              "      <th>Dropoff Census Tract</th>\n",
              "      <th>Pickup Community Area</th>\n",
              "      <th>Dropoff Community Area</th>\n",
              "      <th>trip_ttl</th>\n",
              "      <th>Payment Type</th>\n",
              "      <th>Company</th>\n",
              "      <th>Pickup Centroid Latitude</th>\n",
              "      <th>Pickup Centroid Longitude</th>\n",
              "      <th>Pickup Centroid Location</th>\n",
              "      <th>Dropoff Centroid Latitude</th>\n",
              "      <th>Dropoff Centroid Longitude</th>\n",
              "      <th>Dropoff Centroid  Location</th>\n",
              "      <th>avg_speed</th>\n",
              "      <th>day_of_week</th>\n",
              "      <th>hour_of_day</th>\n",
              "      <th>month</th>\n",
              "      <th>year</th>\n",
              "    </tr>\n",
              "  </thead>\n",
              "  <tbody>\n",
              "    <tr>\n",
              "      <th>0</th>\n",
              "      <td>1.543099e+09</td>\n",
              "      <td>1.543099e+09</td>\n",
              "      <td>240.0</td>\n",
              "      <td>0.90</td>\n",
              "      <td>8.889187</td>\n",
              "      <td>8.399119</td>\n",
              "      <td>9.673293</td>\n",
              "      <td>8.648094</td>\n",
              "      <td>5.50</td>\n",
              "      <td>8.846531</td>\n",
              "      <td>9.918811</td>\n",
              "      <td>41.892508</td>\n",
              "      <td>-87.626215</td>\n",
              "      <td>8.889187</td>\n",
              "      <td>41.884987</td>\n",
              "      <td>-87.620993</td>\n",
              "      <td>8.399119</td>\n",
              "      <td>13.500000</td>\n",
              "      <td>10.461210</td>\n",
              "      <td>10.907608</td>\n",
              "      <td>10.287562</td>\n",
              "      <td>10.135737</td>\n",
              "    </tr>\n",
              "    <tr>\n",
              "      <th>1</th>\n",
              "      <td>1.543069e+09</td>\n",
              "      <td>1.543069e+09</td>\n",
              "      <td>342.0</td>\n",
              "      <td>0.91</td>\n",
              "      <td>8.840747</td>\n",
              "      <td>8.976772</td>\n",
              "      <td>9.636544</td>\n",
              "      <td>9.141873</td>\n",
              "      <td>7.00</td>\n",
              "      <td>8.846531</td>\n",
              "      <td>9.991409</td>\n",
              "      <td>41.884987</td>\n",
              "      <td>-87.620993</td>\n",
              "      <td>8.840747</td>\n",
              "      <td>41.891972</td>\n",
              "      <td>-87.612945</td>\n",
              "      <td>8.976772</td>\n",
              "      <td>9.578947</td>\n",
              "      <td>10.461210</td>\n",
              "      <td>9.590097</td>\n",
              "      <td>10.287562</td>\n",
              "      <td>10.135737</td>\n",
              "    </tr>\n",
              "    <tr>\n",
              "      <th>2</th>\n",
              "      <td>1.542648e+09</td>\n",
              "      <td>1.542648e+09</td>\n",
              "      <td>419.0</td>\n",
              "      <td>0.82</td>\n",
              "      <td>9.269435</td>\n",
              "      <td>11.209385</td>\n",
              "      <td>9.933901</td>\n",
              "      <td>8.648094</td>\n",
              "      <td>7.70</td>\n",
              "      <td>11.589782</td>\n",
              "      <td>10.063929</td>\n",
              "      <td>41.879255</td>\n",
              "      <td>-87.642649</td>\n",
              "      <td>9.269435</td>\n",
              "      <td>41.880994</td>\n",
              "      <td>-87.632746</td>\n",
              "      <td>8.712605</td>\n",
              "      <td>7.045346</td>\n",
              "      <td>9.882814</td>\n",
              "      <td>10.666388</td>\n",
              "      <td>10.287562</td>\n",
              "      <td>10.135737</td>\n",
              "    </tr>\n",
              "    <tr>\n",
              "      <th>3</th>\n",
              "      <td>1.542815e+09</td>\n",
              "      <td>1.542816e+09</td>\n",
              "      <td>479.0</td>\n",
              "      <td>1.37</td>\n",
              "      <td>8.840747</td>\n",
              "      <td>8.697326</td>\n",
              "      <td>9.636544</td>\n",
              "      <td>9.141873</td>\n",
              "      <td>9.75</td>\n",
              "      <td>11.589782</td>\n",
              "      <td>9.991409</td>\n",
              "      <td>41.884987</td>\n",
              "      <td>-87.620993</td>\n",
              "      <td>8.840747</td>\n",
              "      <td>41.895033</td>\n",
              "      <td>-87.619711</td>\n",
              "      <td>8.697326</td>\n",
              "      <td>10.296451</td>\n",
              "      <td>9.944505</td>\n",
              "      <td>9.706529</td>\n",
              "      <td>10.287562</td>\n",
              "      <td>10.135737</td>\n",
              "    </tr>\n",
              "    <tr>\n",
              "      <th>4</th>\n",
              "      <td>1.542604e+09</td>\n",
              "      <td>1.542605e+09</td>\n",
              "      <td>1038.0</td>\n",
              "      <td>8.74</td>\n",
              "      <td>11.230968</td>\n",
              "      <td>11.209385</td>\n",
              "      <td>11.932033</td>\n",
              "      <td>13.692171</td>\n",
              "      <td>23.75</td>\n",
              "      <td>8.846531</td>\n",
              "      <td>10.063929</td>\n",
              "      <td>41.954028</td>\n",
              "      <td>-87.763399</td>\n",
              "      <td>11.920188</td>\n",
              "      <td>41.980264</td>\n",
              "      <td>-87.913625</td>\n",
              "      <td>18.763583</td>\n",
              "      <td>30.312139</td>\n",
              "      <td>9.882814</td>\n",
              "      <td>10.416209</td>\n",
              "      <td>10.287562</td>\n",
              "      <td>10.135737</td>\n",
              "    </tr>\n",
              "    <tr>\n",
              "      <th>...</th>\n",
              "      <td>...</td>\n",
              "      <td>...</td>\n",
              "      <td>...</td>\n",
              "      <td>...</td>\n",
              "      <td>...</td>\n",
              "      <td>...</td>\n",
              "      <td>...</td>\n",
              "      <td>...</td>\n",
              "      <td>...</td>\n",
              "      <td>...</td>\n",
              "      <td>...</td>\n",
              "      <td>...</td>\n",
              "      <td>...</td>\n",
              "      <td>...</td>\n",
              "      <td>...</td>\n",
              "      <td>...</td>\n",
              "      <td>...</td>\n",
              "      <td>...</td>\n",
              "      <td>...</td>\n",
              "      <td>...</td>\n",
              "      <td>...</td>\n",
              "      <td>...</td>\n",
              "    </tr>\n",
              "    <tr>\n",
              "      <th>1972423</th>\n",
              "      <td>1.549474e+09</td>\n",
              "      <td>1.549475e+09</td>\n",
              "      <td>1005.0</td>\n",
              "      <td>3.20</td>\n",
              "      <td>13.677037</td>\n",
              "      <td>8.411083</td>\n",
              "      <td>11.556345</td>\n",
              "      <td>9.141873</td>\n",
              "      <td>11.75</td>\n",
              "      <td>8.846531</td>\n",
              "      <td>9.918811</td>\n",
              "      <td>41.938232</td>\n",
              "      <td>-87.646782</td>\n",
              "      <td>13.677037</td>\n",
              "      <td>41.892042</td>\n",
              "      <td>-87.631864</td>\n",
              "      <td>8.411083</td>\n",
              "      <td>11.462687</td>\n",
              "      <td>9.944505</td>\n",
              "      <td>10.666388</td>\n",
              "      <td>10.077806</td>\n",
              "      <td>9.969116</td>\n",
              "    </tr>\n",
              "    <tr>\n",
              "      <th>1972424</th>\n",
              "      <td>1.549489e+09</td>\n",
              "      <td>1.549490e+09</td>\n",
              "      <td>268.0</td>\n",
              "      <td>0.88</td>\n",
              "      <td>8.840747</td>\n",
              "      <td>8.978773</td>\n",
              "      <td>9.636544</td>\n",
              "      <td>9.141873</td>\n",
              "      <td>8.00</td>\n",
              "      <td>11.589782</td>\n",
              "      <td>10.140592</td>\n",
              "      <td>41.884987</td>\n",
              "      <td>-87.620993</td>\n",
              "      <td>8.840747</td>\n",
              "      <td>41.898332</td>\n",
              "      <td>-87.620763</td>\n",
              "      <td>8.978773</td>\n",
              "      <td>11.820896</td>\n",
              "      <td>9.944505</td>\n",
              "      <td>10.876360</td>\n",
              "      <td>10.077806</td>\n",
              "      <td>9.969116</td>\n",
              "    </tr>\n",
              "    <tr>\n",
              "      <th>1972425</th>\n",
              "      <td>1.549735e+09</td>\n",
              "      <td>1.549735e+09</td>\n",
              "      <td>450.0</td>\n",
              "      <td>1.28</td>\n",
              "      <td>9.026736</td>\n",
              "      <td>8.733624</td>\n",
              "      <td>9.673293</td>\n",
              "      <td>9.141873</td>\n",
              "      <td>10.05</td>\n",
              "      <td>11.007876</td>\n",
              "      <td>10.063929</td>\n",
              "      <td>41.899156</td>\n",
              "      <td>-87.626211</td>\n",
              "      <td>9.026736</td>\n",
              "      <td>41.890922</td>\n",
              "      <td>-87.618868</td>\n",
              "      <td>8.733624</td>\n",
              "      <td>10.240000</td>\n",
              "      <td>10.461210</td>\n",
              "      <td>10.594743</td>\n",
              "      <td>10.077806</td>\n",
              "      <td>9.969116</td>\n",
              "    </tr>\n",
              "    <tr>\n",
              "      <th>1972426</th>\n",
              "      <td>1.549306e+09</td>\n",
              "      <td>1.549307e+09</td>\n",
              "      <td>1288.0</td>\n",
              "      <td>4.10</td>\n",
              "      <td>11.230968</td>\n",
              "      <td>15.991460</td>\n",
              "      <td>9.636544</td>\n",
              "      <td>15.621674</td>\n",
              "      <td>14.75</td>\n",
              "      <td>8.846531</td>\n",
              "      <td>9.789769</td>\n",
              "      <td>41.880994</td>\n",
              "      <td>-87.632746</td>\n",
              "      <td>8.827250</td>\n",
              "      <td>41.920452</td>\n",
              "      <td>-87.679955</td>\n",
              "      <td>15.991460</td>\n",
              "      <td>11.459627</td>\n",
              "      <td>9.882814</td>\n",
              "      <td>10.594743</td>\n",
              "      <td>10.077806</td>\n",
              "      <td>9.969116</td>\n",
              "    </tr>\n",
              "    <tr>\n",
              "      <th>1972427</th>\n",
              "      <td>1.549544e+09</td>\n",
              "      <td>1.549544e+09</td>\n",
              "      <td>300.0</td>\n",
              "      <td>1.20</td>\n",
              "      <td>11.230968</td>\n",
              "      <td>10.017160</td>\n",
              "      <td>9.636544</td>\n",
              "      <td>9.515685</td>\n",
              "      <td>6.00</td>\n",
              "      <td>8.846531</td>\n",
              "      <td>9.918811</td>\n",
              "      <td>41.880994</td>\n",
              "      <td>-87.632746</td>\n",
              "      <td>8.827250</td>\n",
              "      <td>41.885281</td>\n",
              "      <td>-87.657233</td>\n",
              "      <td>10.017160</td>\n",
              "      <td>14.400000</td>\n",
              "      <td>9.993680</td>\n",
              "      <td>9.421587</td>\n",
              "      <td>10.077806</td>\n",
              "      <td>9.969116</td>\n",
              "    </tr>\n",
              "  </tbody>\n",
              "</table>\n",
              "<p>1613824 rows × 22 columns</p>\n",
              "</div>"
            ],
            "text/plain": [
              "         Trip Start Timestamp  Trip End Timestamp  Trip Seconds  Trip Miles  \\\n",
              "0                1.543099e+09        1.543099e+09         240.0        0.90   \n",
              "1                1.543069e+09        1.543069e+09         342.0        0.91   \n",
              "2                1.542648e+09        1.542648e+09         419.0        0.82   \n",
              "3                1.542815e+09        1.542816e+09         479.0        1.37   \n",
              "4                1.542604e+09        1.542605e+09        1038.0        8.74   \n",
              "...                       ...                 ...           ...         ...   \n",
              "1972423          1.549474e+09        1.549475e+09        1005.0        3.20   \n",
              "1972424          1.549489e+09        1.549490e+09         268.0        0.88   \n",
              "1972425          1.549735e+09        1.549735e+09         450.0        1.28   \n",
              "1972426          1.549306e+09        1.549307e+09        1288.0        4.10   \n",
              "1972427          1.549544e+09        1.549544e+09         300.0        1.20   \n",
              "\n",
              "         Pickup Census Tract  Dropoff Census Tract  Pickup Community Area  \\\n",
              "0                   8.889187              8.399119               9.673293   \n",
              "1                   8.840747              8.976772               9.636544   \n",
              "2                   9.269435             11.209385               9.933901   \n",
              "3                   8.840747              8.697326               9.636544   \n",
              "4                  11.230968             11.209385              11.932033   \n",
              "...                      ...                   ...                    ...   \n",
              "1972423            13.677037              8.411083              11.556345   \n",
              "1972424             8.840747              8.978773               9.636544   \n",
              "1972425             9.026736              8.733624               9.673293   \n",
              "1972426            11.230968             15.991460               9.636544   \n",
              "1972427            11.230968             10.017160               9.636544   \n",
              "\n",
              "         Dropoff Community Area  trip_ttl  Payment Type    Company  \\\n",
              "0                      8.648094      5.50      8.846531   9.918811   \n",
              "1                      9.141873      7.00      8.846531   9.991409   \n",
              "2                      8.648094      7.70     11.589782  10.063929   \n",
              "3                      9.141873      9.75     11.589782   9.991409   \n",
              "4                     13.692171     23.75      8.846531  10.063929   \n",
              "...                         ...       ...           ...        ...   \n",
              "1972423                9.141873     11.75      8.846531   9.918811   \n",
              "1972424                9.141873      8.00     11.589782  10.140592   \n",
              "1972425                9.141873     10.05     11.007876  10.063929   \n",
              "1972426               15.621674     14.75      8.846531   9.789769   \n",
              "1972427                9.515685      6.00      8.846531   9.918811   \n",
              "\n",
              "         Pickup Centroid Latitude  Pickup Centroid Longitude  \\\n",
              "0                       41.892508                 -87.626215   \n",
              "1                       41.884987                 -87.620993   \n",
              "2                       41.879255                 -87.642649   \n",
              "3                       41.884987                 -87.620993   \n",
              "4                       41.954028                 -87.763399   \n",
              "...                           ...                        ...   \n",
              "1972423                 41.938232                 -87.646782   \n",
              "1972424                 41.884987                 -87.620993   \n",
              "1972425                 41.899156                 -87.626211   \n",
              "1972426                 41.880994                 -87.632746   \n",
              "1972427                 41.880994                 -87.632746   \n",
              "\n",
              "         Pickup Centroid Location  Dropoff Centroid Latitude  \\\n",
              "0                        8.889187                  41.884987   \n",
              "1                        8.840747                  41.891972   \n",
              "2                        9.269435                  41.880994   \n",
              "3                        8.840747                  41.895033   \n",
              "4                       11.920188                  41.980264   \n",
              "...                           ...                        ...   \n",
              "1972423                 13.677037                  41.892042   \n",
              "1972424                  8.840747                  41.898332   \n",
              "1972425                  9.026736                  41.890922   \n",
              "1972426                  8.827250                  41.920452   \n",
              "1972427                  8.827250                  41.885281   \n",
              "\n",
              "         Dropoff Centroid Longitude  Dropoff Centroid  Location  avg_speed  \\\n",
              "0                        -87.620993                    8.399119  13.500000   \n",
              "1                        -87.612945                    8.976772   9.578947   \n",
              "2                        -87.632746                    8.712605   7.045346   \n",
              "3                        -87.619711                    8.697326  10.296451   \n",
              "4                        -87.913625                   18.763583  30.312139   \n",
              "...                             ...                         ...        ...   \n",
              "1972423                  -87.631864                    8.411083  11.462687   \n",
              "1972424                  -87.620763                    8.978773  11.820896   \n",
              "1972425                  -87.618868                    8.733624  10.240000   \n",
              "1972426                  -87.679955                   15.991460  11.459627   \n",
              "1972427                  -87.657233                   10.017160  14.400000   \n",
              "\n",
              "         day_of_week  hour_of_day      month       year  \n",
              "0          10.461210    10.907608  10.287562  10.135737  \n",
              "1          10.461210     9.590097  10.287562  10.135737  \n",
              "2           9.882814    10.666388  10.287562  10.135737  \n",
              "3           9.944505     9.706529  10.287562  10.135737  \n",
              "4           9.882814    10.416209  10.287562  10.135737  \n",
              "...              ...          ...        ...        ...  \n",
              "1972423     9.944505    10.666388  10.077806   9.969116  \n",
              "1972424     9.944505    10.876360  10.077806   9.969116  \n",
              "1972425    10.461210    10.594743  10.077806   9.969116  \n",
              "1972426     9.882814    10.594743  10.077806   9.969116  \n",
              "1972427     9.993680     9.421587  10.077806   9.969116  \n",
              "\n",
              "[1613824 rows x 22 columns]"
            ]
          },
          "execution_count": 44,
          "metadata": {},
          "output_type": "execute_result"
        }
      ],
      "source": [
        "%%time\n",
        "\n",
        "# RAPIDS OFF  - 0.969\n",
        "# RAPIDS A100 - 0.170 (x6 speedup)\n",
        "\n",
        "# remove nulls/inf\n",
        "df = df.replace([np.inf, -np.inf], np.nan).dropna()\n",
        "df"
      ]
    },
    {
      "cell_type": "markdown",
      "metadata": {
        "id": "WzRrDJZR5Y-4"
      },
      "source": [
        "### XGBoost Model"
      ]
    },
    {
      "cell_type": "code",
      "execution_count": null,
      "metadata": {
        "colab": {
          "base_uri": "https://localhost:8080/"
        },
        "id": "Ao6gIX7GxfP4",
        "outputId": "f39a633c-c31b-4d1d-b9df-65db61ef2e76"
      },
      "outputs": [
        {
          "name": "stdout",
          "output_type": "stream",
          "text": [
            "CPU times: user 5.98 s, sys: 1.14 s, total: 7.12 s\n",
            "Wall time: 6.63 s\n"
          ]
        },
        {
          "data": {
            "text/plain": [
              "6.6263267993927"
            ]
          },
          "execution_count": 45,
          "metadata": {},
          "output_type": "execute_result"
        }
      ],
      "source": [
        "%%time\n",
        "\n",
        "# RAPIDS OFF  - 102.90\n",
        "# RAPIDS A100 - 6.63 (x16 speedup)\n",
        "start = time()\n",
        "\n",
        "X = df.drop(columns=[\"trip_ttl\"])\n",
        "y = df[\"trip_ttl\"]\n",
        "\n",
        "xgb_fold_results = {\"avg\": [], \"mse\": [], \"rmse\": [], \"mae\": [], \"r2\": [], \"max_err\": []}\n",
        "\n",
        "for fold, (train_index, test_index) in enumerate(KFold(n_splits=5, shuffle=True, random_state=42).split(df)):\n",
        "  X_train, X_test = X.iloc[train_index], X.iloc[test_index]\n",
        "  y_train, y_test = y.iloc[train_index], y.iloc[test_index]\n",
        "\n",
        "  # train\n",
        "  xgb_model = xgb.XGBRegressor(device=xgb_device)\n",
        "\n",
        "  xgb_model.fit(X_train, y_train)\n",
        "  y_pred = xgb_model.predict(X_test)\n",
        "  xgb_fold_results[\"avg\"].append(y_pred.mean())\n",
        "\n",
        "  # metrics\n",
        "  mse = ((y_test - y_pred) ** 2).mean()\n",
        "  xgb_fold_results[\"mse\"].append(mse)\n",
        "  xgb_fold_results[\"rmse\"].append(mse ** 0.5)\n",
        "  mae = (y_test - y_pred).abs().mean()\n",
        "  xgb_fold_results[\"mae\"].append(mae)\n",
        "  ss_residual = ((y_test - y_pred) ** 2).sum()\n",
        "  ss_total = ((y_test - y_test.mean()) ** 2).sum()\n",
        "  r_squared = 1 - (ss_residual / ss_total)\n",
        "  xgb_fold_results[\"r2\"].append(1 - (ss_residual / ss_total))\n",
        "  xgb_fold_results[\"max_err\"].append((y_test - y_pred).abs().max())\n",
        "\n",
        "xgb_fe_fold_results_df = pd.DataFrame(xgb_fold_results)\n",
        "\n",
        "time() - start"
      ]
    },
    {
      "cell_type": "markdown",
      "metadata": {
        "id": "srrVgXBbHych"
      },
      "source": [
        "### Results"
      ]
    },
    {
      "cell_type": "code",
      "execution_count": null,
      "metadata": {
        "colab": {
          "base_uri": "https://localhost:8080/",
          "height": 175
        },
        "id": "FMpyy4BzflMY",
        "outputId": "850a6885-ae71-4967-80e1-839d6f3c0b3e"
      },
      "outputs": [
        {
          "data": {
            "application/vnd.google.colaboratory.intrinsic+json": {
              "summary": "{\n  \"name\": \"all_results\",\n  \"rows\": 4,\n  \"fields\": [\n    {\n      \"column\": \"model\",\n      \"properties\": {\n        \"dtype\": \"string\",\n        \"num_unique_values\": 4,\n        \"samples\": [\n          \"mean\",\n          \"xgb_fe\",\n          \"xgb_na\\u00efve\"\n        ],\n        \"semantic_type\": \"\",\n        \"description\": \"\"\n      }\n    },\n    {\n      \"column\": \"avg\",\n      \"properties\": {\n        \"dtype\": \"number\",\n        \"std\": 4.427440005240047,\n        \"min\": 9.75,\n        \"max\": 17.58,\n        \"num_unique_values\": 3,\n        \"samples\": [\n          10.08,\n          17.58,\n          9.75\n        ],\n        \"semantic_type\": \"\",\n        \"description\": \"\"\n      }\n    },\n    {\n      \"column\": \"mse\",\n      \"properties\": {\n        \"dtype\": \"number\",\n        \"std\": 3912.50121264731,\n        \"min\": 1.12,\n        \"max\": 8145.75,\n        \"num_unique_values\": 4,\n        \"samples\": [\n          8084.47,\n          1.12,\n          7055.6\n        ],\n        \"semantic_type\": \"\",\n        \"description\": \"\"\n      }\n    },\n    {\n      \"column\": \"rmse\",\n      \"properties\": {\n        \"dtype\": \"number\",\n        \"std\": 43.511814008764716,\n        \"min\": 1.06,\n        \"max\": 90.08,\n        \"num_unique_values\": 4,\n        \"samples\": [\n          89.74,\n          1.06,\n          83.87\n        ],\n        \"semantic_type\": \"\",\n        \"description\": \"\"\n      }\n    },\n    {\n      \"column\": \"mae\",\n      \"properties\": {\n        \"dtype\": \"number\",\n        \"std\": 5.642543014161848,\n        \"min\": 0.7,\n        \"max\": 13.39,\n        \"num_unique_values\": 4,\n        \"samples\": [\n          13.39,\n          0.7,\n          5.16\n        ],\n        \"semantic_type\": \"\",\n        \"description\": \"\"\n      }\n    },\n    {\n      \"column\": \"r2\",\n      \"properties\": {\n        \"dtype\": \"number\",\n        \"std\": 0.4544960579220315,\n        \"min\": -0.01,\n        \"max\": 0.94,\n        \"num_unique_values\": 4,\n        \"samples\": [\n          -0.0,\n          0.94,\n          0.13\n        ],\n        \"semantic_type\": \"\",\n        \"description\": \"\"\n      }\n    },\n    {\n      \"column\": \"max_err\",\n      \"properties\": {\n        \"dtype\": \"number\",\n        \"std\": 4938.547372256847,\n        \"min\": 28.07,\n        \"max\": 9965.57,\n        \"num_unique_values\": 4,\n        \"samples\": [\n          9957.77,\n          28.07,\n          9788.08\n        ],\n        \"semantic_type\": \"\",\n        \"description\": \"\"\n      }\n    }\n  ]\n}",
              "type": "dataframe"
            },
            "text/html": [
              "<div>\n",
              "<style scoped>\n",
              "    .dataframe tbody tr th:only-of-type {\n",
              "        vertical-align: middle;\n",
              "    }\n",
              "\n",
              "    .dataframe tbody tr th {\n",
              "        vertical-align: top;\n",
              "    }\n",
              "\n",
              "    .dataframe thead th {\n",
              "        text-align: right;\n",
              "    }\n",
              "</style>\n",
              "<table border=\"1\" class=\"dataframe\">\n",
              "  <thead>\n",
              "    <tr style=\"text-align: right;\">\n",
              "      <th></th>\n",
              "      <th>model</th>\n",
              "      <th>avg</th>\n",
              "      <th>mse</th>\n",
              "      <th>rmse</th>\n",
              "      <th>mae</th>\n",
              "      <th>r2</th>\n",
              "      <th>max_err</th>\n",
              "    </tr>\n",
              "  </thead>\n",
              "  <tbody>\n",
              "    <tr>\n",
              "      <th>0</th>\n",
              "      <td>xgb_fe</td>\n",
              "      <td>10.08</td>\n",
              "      <td>1.12</td>\n",
              "      <td>1.06</td>\n",
              "      <td>0.70</td>\n",
              "      <td>0.94</td>\n",
              "      <td>28.07</td>\n",
              "    </tr>\n",
              "    <tr>\n",
              "      <th>0</th>\n",
              "      <td>xgb_naïve</td>\n",
              "      <td>17.58</td>\n",
              "      <td>7055.60</td>\n",
              "      <td>83.87</td>\n",
              "      <td>5.16</td>\n",
              "      <td>0.13</td>\n",
              "      <td>9788.08</td>\n",
              "    </tr>\n",
              "    <tr>\n",
              "      <th>0</th>\n",
              "      <td>median</td>\n",
              "      <td>9.75</td>\n",
              "      <td>8145.75</td>\n",
              "      <td>90.08</td>\n",
              "      <td>10.52</td>\n",
              "      <td>-0.01</td>\n",
              "      <td>9965.57</td>\n",
              "    </tr>\n",
              "    <tr>\n",
              "      <th>0</th>\n",
              "      <td>mean</td>\n",
              "      <td>17.58</td>\n",
              "      <td>8084.47</td>\n",
              "      <td>89.74</td>\n",
              "      <td>13.39</td>\n",
              "      <td>-0.00</td>\n",
              "      <td>9957.77</td>\n",
              "    </tr>\n",
              "  </tbody>\n",
              "</table>\n",
              "</div>"
            ],
            "text/plain": [
              "       model    avg      mse   rmse    mae    r2  max_err\n",
              "0     xgb_fe  10.08     1.12   1.06   0.70  0.94    28.07\n",
              "0  xgb_naïve  17.58  7055.60  83.87   5.16  0.13  9788.08\n",
              "0     median   9.75  8145.75  90.08  10.52 -0.01  9965.57\n",
              "0       mean  17.58  8084.47  89.74  13.39 -0.00  9957.77"
            ]
          },
          "execution_count": 46,
          "metadata": {},
          "output_type": "execute_result"
        }
      ],
      "source": [
        "xgb_fe_results_df = pd.DataFrame({'model': 'xgb_fe',**xgb_fe_fold_results_df.drop(columns=['max_err']).mean(), 'max_err': xgb_fe_fold_results_df['max_err'].max()}, index=[0])\n",
        "all_results = pd.concat([mean_results_df, median_results_df, xgb_naïve_results_df, xgb_fe_results_df]).sort_values(by=[\"mae\", \"mse\", \"rmse\", \"r2\", \"max_err\"], ascending=[True, True, True, False, True])\n",
        "all_results.round(2)"
      ]
    },
    {
      "cell_type": "markdown",
      "metadata": {
        "id": "9a4NvUawyn2V"
      },
      "source": [
        "### Feature Importance"
      ]
    },
    {
      "cell_type": "code",
      "execution_count": null,
      "metadata": {
        "id": "csSnDbvh7NEA"
      },
      "outputs": [],
      "source": [
        "import seaborn as sns\n",
        "import matplotlib.pyplot as plt\n",
        "\n",
        "booster = xgb_model.get_booster()\n",
        "importance = booster.get_score(importance_type='weight')  # You can also use 'gain', 'cover', etc.\n",
        "\n",
        "# Convert to DataFrame\n",
        "importance_df = pd.DataFrame({\n",
        "    'Feature': list(importance.keys()),\n",
        "    'Importance': list(importance.values())\n",
        "})\n",
        "\n",
        "# Sort by importance\n",
        "importance_df = importance_df.sort_values(by='Importance', ascending=False)"
      ]
    },
    {
      "cell_type": "code",
      "execution_count": null,
      "metadata": {
        "colab": {
          "base_uri": "https://localhost:8080/",
          "height": 472
        },
        "id": "dQvuluXfyYrz",
        "outputId": "576ddb31-c6b6-4454-eb85-88cf3128f254"
      },
      "outputs": [
        {
          "data": {
            "image/png": "[encoded data removed]",
            "text/plain": [
              "<Figure size 640x480 with 1 Axes>"
            ]
          },
          "metadata": {},
          "output_type": "display_data"
        }
      ],
      "source": [
        "sns.barplot(x='Importance', y='Feature', data=importance_df.head(50), hue='Feature', palette=\"viridis\", dodge=False, legend=False)\n",
        "plt.title('Feature Importance')\n",
        "plt.xlabel('Importance Score')\n",
        "plt.ylabel('Features')\n",
        "plt.show()"
      ]
    },
    {
      "cell_type": "markdown",
      "metadata": {
        "id": "aM6JnU5d6-eM"
      },
      "source": [
        "<br/>"
      ]
    },
    {
      "cell_type": "markdown",
      "metadata": {
        "id": "z_7rl__pgiZn"
      },
      "source": [
        "<br/>"
      ]
    },
    {
      "cell_type": "markdown",
      "metadata": {
        "id": "kEd8KDMHgmxD"
      },
      "source": [
        "# XGBoost Hyperparamter Tuning"
      ]
    },
    {
      "cell_type": "code",
      "execution_count": null,
      "metadata": {
        "colab": {
          "base_uri": "https://localhost:8080/"
        },
        "id": "jpetoUUOLGxh",
        "outputId": "13dd74d6-b8ce-4820-af40-689b0f301f49"
      },
      "outputs": [
        {
          "name": "stdout",
          "output_type": "stream",
          "text": [
            "CPU times: user 13.3 s, sys: 2.22 s, total: 15.5 s\n",
            "Wall time: 14.6 s\n"
          ]
        }
      ],
      "source": [
        "%%time\n",
        "# RAPIDS OFF  - 270.82 (100), 543.42 (250)\n",
        "# RAPIDS A100 -             , 14.6(500)(x37 speedup despite x2 estimators)\n",
        "\n",
        "X = df.drop(columns=[\"trip_ttl\"])\n",
        "y = df[\"trip_ttl\"]\n",
        "\n",
        "xgb_fold_results = {\"avg\": [], \"mse\": [], \"rmse\": [], \"mae\": [], \"r2\": [], \"max_err\": []}\n",
        "\n",
        "for fold, (train_index, test_index) in enumerate(KFold(n_splits=5, shuffle=True, random_state=42).split(df)):\n",
        "  X_train, X_test = X.iloc[train_index], X.iloc[test_index]\n",
        "  y_train, y_test = y.iloc[train_index], y.iloc[test_index]\n",
        "\n",
        "  # train\n",
        "  xgb_model = xgb.XGBRegressor(device=xgb_device,\n",
        "                               n_estimators=500,\n",
        "                               learning_rate=0.05,\n",
        "                               max_depth=6,\n",
        "                               eval_metric=\"mae\",\n",
        "                               objective=\"reg:gamma\",\n",
        "                               min_child_weight=5\n",
        "  )\n",
        "  # xgb_model = xgb.XGBRegressor(device=xgb_device)\n",
        "\n",
        "  xgb_model.fit(X_train, y_train)\n",
        "  y_pred = xgb_model.predict(X_test)\n",
        "  xgb_fold_results[\"avg\"].append(y_pred.mean())\n",
        "\n",
        "  # metrics\n",
        "  mse = ((y_test - y_pred) ** 2).mean()\n",
        "  xgb_fold_results[\"mse\"].append(mse)\n",
        "  xgb_fold_results[\"rmse\"].append(mse ** 0.5)\n",
        "  mae = (y_test - y_pred).abs().mean()\n",
        "  xgb_fold_results[\"mae\"].append(mae)\n",
        "  ss_residual = ((y_test - y_pred) ** 2).sum()\n",
        "  ss_total = ((y_test - y_test.mean()) ** 2).sum()\n",
        "  r_squared = 1 - (ss_residual / ss_total)\n",
        "  xgb_fold_results[\"r2\"].append(1 - (ss_residual / ss_total))\n",
        "  xgb_fold_results[\"max_err\"].append((y_test - y_pred).abs().max())"
      ]
    },
    {
      "cell_type": "code",
      "execution_count": null,
      "metadata": {
        "colab": {
          "base_uri": "https://localhost:8080/",
          "height": 206
        },
        "id": "tgEp-S0EeDr4",
        "outputId": "8fd75073-7f82-456e-a0f0-5f4b73673a1a"
      },
      "outputs": [
        {
          "data": {
            "application/vnd.google.colaboratory.intrinsic+json": {
              "summary": "{\n  \"name\": \"all_results\",\n  \"rows\": 5,\n  \"fields\": [\n    {\n      \"column\": \"model\",\n      \"properties\": {\n        \"dtype\": \"string\",\n        \"num_unique_values\": 5,\n        \"samples\": [\n          \"median\",\n          \"xgb_tuned\",\n          \"mean\"\n        ],\n        \"semantic_type\": \"\",\n        \"description\": \"\"\n      }\n    },\n    {\n      \"column\": \"mae\",\n      \"properties\": {\n        \"dtype\": \"number\",\n        \"std\": 5.745970440230266,\n        \"min\": 0.692,\n        \"max\": 13.394,\n        \"num_unique_values\": 5,\n        \"samples\": [\n          10.521,\n          0.692,\n          13.394\n        ],\n        \"semantic_type\": \"\",\n        \"description\": \"\"\n      }\n    },\n    {\n      \"column\": \"rmse\",\n      \"properties\": {\n        \"dtype\": \"number\",\n        \"std\": 47.62850626673064,\n        \"min\": 1.051,\n        \"max\": 90.078,\n        \"num_unique_values\": 5,\n        \"samples\": [\n          90.078,\n          1.051,\n          89.736\n        ],\n        \"semantic_type\": \"\",\n        \"description\": \"\"\n      }\n    },\n    {\n      \"column\": \"mse\",\n      \"properties\": {\n        \"dtype\": \"number\",\n        \"std\": 4272.785446292945,\n        \"min\": 1.105,\n        \"max\": 8145.749,\n        \"num_unique_values\": 5,\n        \"samples\": [\n          8145.749,\n          1.105,\n          8084.466\n        ],\n        \"semantic_type\": \"\",\n        \"description\": \"\"\n      }\n    },\n    {\n      \"column\": \"r2\",\n      \"properties\": {\n        \"dtype\": \"number\",\n        \"std\": 0.4987591603168807,\n        \"min\": -0.008,\n        \"max\": 0.945,\n        \"num_unique_values\": 5,\n        \"samples\": [\n          -0.008,\n          0.945,\n          -0.0\n        ],\n        \"semantic_type\": \"\",\n        \"description\": \"\"\n      }\n    },\n    {\n      \"column\": \"max_err\",\n      \"properties\": {\n        \"dtype\": \"number\",\n        \"std\": 5410.8683039368725,\n        \"min\": 23.547,\n        \"max\": 9965.57,\n        \"num_unique_values\": 5,\n        \"samples\": [\n          9965.57,\n          23.547,\n          9957.77\n        ],\n        \"semantic_type\": \"\",\n        \"description\": \"\"\n      }\n    },\n    {\n      \"column\": \"avg\",\n      \"properties\": {\n        \"dtype\": \"number\",\n        \"std\": 4.169642154909699,\n        \"min\": 9.75,\n        \"max\": 17.581,\n        \"num_unique_values\": 5,\n        \"samples\": [\n          9.75,\n          10.08,\n          17.579\n        ],\n        \"semantic_type\": \"\",\n        \"description\": \"\"\n      }\n    }\n  ]\n}",
              "type": "dataframe"
            },
            "text/html": [
              "<div>\n",
              "<style scoped>\n",
              "    .dataframe tbody tr th:only-of-type {\n",
              "        vertical-align: middle;\n",
              "    }\n",
              "\n",
              "    .dataframe tbody tr th {\n",
              "        vertical-align: top;\n",
              "    }\n",
              "\n",
              "    .dataframe thead th {\n",
              "        text-align: right;\n",
              "    }\n",
              "</style>\n",
              "<table border=\"1\" class=\"dataframe\">\n",
              "  <thead>\n",
              "    <tr style=\"text-align: right;\">\n",
              "      <th></th>\n",
              "      <th>model</th>\n",
              "      <th>mae</th>\n",
              "      <th>rmse</th>\n",
              "      <th>mse</th>\n",
              "      <th>r2</th>\n",
              "      <th>max_err</th>\n",
              "      <th>avg</th>\n",
              "    </tr>\n",
              "  </thead>\n",
              "  <tbody>\n",
              "    <tr>\n",
              "      <th>0</th>\n",
              "      <td>xgb_tuned</td>\n",
              "      <td>0.692</td>\n",
              "      <td>1.051</td>\n",
              "      <td>1.105</td>\n",
              "      <td>0.945</td>\n",
              "      <td>23.547</td>\n",
              "      <td>10.080</td>\n",
              "    </tr>\n",
              "    <tr>\n",
              "      <th>0</th>\n",
              "      <td>xgb_fe</td>\n",
              "      <td>0.698</td>\n",
              "      <td>1.056</td>\n",
              "      <td>1.115</td>\n",
              "      <td>0.944</td>\n",
              "      <td>28.065</td>\n",
              "      <td>10.084</td>\n",
              "    </tr>\n",
              "    <tr>\n",
              "      <th>0</th>\n",
              "      <td>xgb_naïve</td>\n",
              "      <td>5.157</td>\n",
              "      <td>83.868</td>\n",
              "      <td>7055.597</td>\n",
              "      <td>0.125</td>\n",
              "      <td>9788.077</td>\n",
              "      <td>17.581</td>\n",
              "    </tr>\n",
              "    <tr>\n",
              "      <th>0</th>\n",
              "      <td>median</td>\n",
              "      <td>10.521</td>\n",
              "      <td>90.078</td>\n",
              "      <td>8145.749</td>\n",
              "      <td>-0.008</td>\n",
              "      <td>9965.570</td>\n",
              "      <td>9.750</td>\n",
              "    </tr>\n",
              "    <tr>\n",
              "      <th>0</th>\n",
              "      <td>mean</td>\n",
              "      <td>13.394</td>\n",
              "      <td>89.736</td>\n",
              "      <td>8084.466</td>\n",
              "      <td>-0.000</td>\n",
              "      <td>9957.770</td>\n",
              "      <td>17.579</td>\n",
              "    </tr>\n",
              "  </tbody>\n",
              "</table>\n",
              "</div>"
            ],
            "text/plain": [
              "       model     mae    rmse       mse     r2   max_err     avg\n",
              "0  xgb_tuned   0.692   1.051     1.105  0.945    23.547  10.080\n",
              "0     xgb_fe   0.698   1.056     1.115  0.944    28.065  10.084\n",
              "0  xgb_naïve   5.157  83.868  7055.597  0.125  9788.077  17.581\n",
              "0     median  10.521  90.078  8145.749 -0.008  9965.570   9.750\n",
              "0       mean  13.394  89.736  8084.466 -0.000  9957.770  17.579"
            ]
          },
          "execution_count": 50,
          "metadata": {},
          "output_type": "execute_result"
        }
      ],
      "source": [
        "xgb_tuned_fold_results_df = pd.DataFrame(xgb_fold_results)\n",
        "xgb_tuned_results_df = pd.DataFrame({'model': 'xgb_tuned',**xgb_tuned_fold_results_df.drop(columns=['max_err']).mean(), 'max_err': xgb_tuned_fold_results_df['max_err'].max()}, index=[0])\n",
        "\n",
        "all_results = pd.concat([mean_results_df, median_results_df, xgb_naïve_results_df, xgb_fe_results_df, xgb_tuned_results_df])[[\"model\", \"mae\", \"rmse\", \"mse\", \"r2\", \"max_err\", \"avg\"]]\n",
        "all_results.sort_values(by=[\"mae\", \"mse\", \"rmse\", \"r2\", \"max_err\"], ascending=[True, True, True, False, True]).round(3)"
      ]
    },
    {
      "cell_type": "markdown",
      "metadata": {
        "id": "DhXGuk7Cgm4y"
      },
      "source": [
        "<br/>"
      ]
    },
    {
      "cell_type": "markdown",
      "metadata": {
        "id": "qR2ggYPmgm7l"
      },
      "source": [
        "<br/>"
      ]
    },
    {
      "cell_type": "markdown",
      "metadata": {
        "id": "eSUAhDMwnW2e"
      },
      "source": [
        "<br/>"
      ]
    },
    {
      "cell_type": "markdown",
      "metadata": {
        "id": "EDF6FfORnW6M"
      },
      "source": [
        "<br/>"
      ]
    },
    {
      "cell_type": "markdown",
      "metadata": {
        "id": "33g0NNTmnW-K"
      },
      "source": [
        "<br/>"
      ]
    },
    {
      "cell_type": "markdown",
      "metadata": {
        "id": "x3OMT2LcnXBs"
      },
      "source": [
        "<br/>"
      ]
    },
    {
      "cell_type": "markdown",
      "metadata": {
        "id": "XENEuu7UnXFT"
      },
      "source": [
        "<br/>"
      ]
    },
    {
      "cell_type": "markdown",
      "metadata": {
        "id": "7WDHa-TSgm-L"
      },
      "source": [
        "# x20 Performance Boost - All Code"
      ]
    },
    {
      "cell_type": "markdown",
      "metadata": {
        "id": "wv6gRyjZ6BAR"
      },
      "source": [
        "### RAPIDS OFF"
      ]
    },
    {
      "cell_type": "code",
      "execution_count": null,
      "metadata": {
        "colab": {
          "base_uri": "https://localhost:8080/"
        },
        "id": "6IRRqHNw6LlP",
        "outputId": "43efc854-6bd8-4a88-fbab-46427612540c"
      },
      "outputs": [
        {
          "data": {
            "text/plain": [
              "22.669999999999998"
            ]
          },
          "execution_count": 51,
          "metadata": {},
          "output_type": "execute_result"
        }
      ],
      "source": [
        "226.7 / 10"
      ]
    },
    {
      "cell_type": "markdown",
      "metadata": {
        "id": "wpxI73m56Djn"
      },
      "source": [
        "### RAPIDS ON A100"
      ]
    },
    {
      "cell_type": "code",
      "execution_count": null,
      "metadata": {
        "colab": {
          "base_uri": "https://localhost:8080/"
        },
        "id": "0i3IE92Y4-on",
        "outputId": "3cf243a4-78b2-4a2f-a5d8-124bf1429427"
      },
      "outputs": [
        {
          "data": {
            "text/plain": [
              "10"
            ]
          },
          "execution_count": 52,
          "metadata": {},
          "output_type": "execute_result"
        }
      ],
      "source": [
        "10"
      ]
    },
    {
      "cell_type": "markdown",
      "metadata": {
        "id": "9TAG-yJR4K6b"
      },
      "source": [
        "<br/>"
      ]
    },
    {
      "cell_type": "code",
      "execution_count": null,
      "metadata": {
        "id": "GjR-rN6X2YeV"
      },
      "outputs": [],
      "source": [
        "# !cp /content/drive/MyDrive/Taxi_Trips__2013-2023__20241218.csv ."
      ]
    },
    {
      "cell_type": "code",
      "execution_count": null,
      "metadata": {
        "colab": {
          "base_uri": "https://localhost:8080/"
        },
        "id": "kUQrq5itZCUc",
        "outputId": "03a9c169-23e4-4211-da8f-9891ac9c895a"
      },
      "outputs": [
        {
          "name": "stdout",
          "output_type": "stream",
          "text": [
            "The cudf.pandas extension is already loaded. To reload it, use:\n",
            "  %reload_ext cudf.pandas\n"
          ]
        }
      ],
      "source": [
        "# xgb_device = \"cpu\"\n",
        "\n",
        "%load_ext cudf.pandas\n",
        "xgb_device = \"cuda\""
      ]
    },
    {
      "cell_type": "code",
      "execution_count": null,
      "metadata": {
        "id": "NdwuZX-cyjG5"
      },
      "outputs": [],
      "source": [
        "import pandas as pd\n",
        "import numpy as np\n",
        "import xgboost as xgb\n",
        "from time import time\n",
        "import seaborn as sns\n",
        "import matplotlib.pyplot as plt\n",
        "from sklearn.model_selection import KFold"
      ]
    },
    {
      "cell_type": "code",
      "execution_count": null,
      "metadata": {
        "colab": {
          "base_uri": "https://localhost:8080/"
        },
        "id": "2GZItVou1NjS",
        "outputId": "3325d850-05b8-4d0c-defd-a405a88de50b"
      },
      "outputs": [
        {
          "data": {
            "text/plain": [
              "8.176626443862915"
            ]
          },
          "execution_count": 56,
          "metadata": {},
          "output_type": "execute_result"
        }
      ],
      "source": [
        "start = time()\n",
        "# RAPIDS OFF  - 243.32\n",
        "# RAPIDS A100 - 8.18 (x30 speedup)\n",
        "\n",
        "#----------MEAN/MEDIAN DATA PREP--------------#\n",
        "df = pd.read_csv('Taxi_Trips__2013-2023__20241218.csv')  # read in data\n",
        "df = df.rename(columns={'Trip Total': 'trip_ttl'})  # abbreviate target column name\n",
        "df = df[df[\"trip_ttl\"]>0]\n",
        "\n",
        "df = df.sample(frac=1, random_state=42).reset_index(drop=True)\n",
        "split_index = int(0.8 * len(df))  # 80% train, 20% test\n",
        "train_df = df[:split_index]\n",
        "test_df = df[split_index:]\n",
        "del df\n",
        "\n",
        "X_test = test_df.drop(columns=[\"trip_ttl\"])\n",
        "y_test = test_df[\"trip_ttl\"]\n",
        "\n",
        "X_train = train_df.drop(columns=[\"trip_ttl\"])\n",
        "y_train = train_df[\"trip_ttl\"]\n",
        "\n",
        "#----------MEAN--------------#\n",
        "mean_fold_results = {\"avg\":[], \"mse\": [], \"rmse\": [], \"mae\": [], \"r2\": [], \"max_err\": []}\n",
        "\n",
        "\n",
        "y_pred = y_train.mean()\n",
        "mean_fold_results[\"avg\"].append(y_pred)\n",
        "\n",
        "mse = ((y_test - y_pred) ** 2).mean()\n",
        "mean_fold_results[\"mse\"].append(mse)\n",
        "mean_fold_results[\"rmse\"].append(mse  ** 0.5)\n",
        "mae = (y_test - y_pred).abs().mean()\n",
        "mean_fold_results[\"mae\"].append(mae)\n",
        "ss_residual = ((y_test - y_pred) ** 2).sum()\n",
        "ss_total = ((y_test - y_test.mean()) ** 2).sum()\n",
        "r_squared = 1 - (ss_residual / ss_total)\n",
        "mean_fold_results[\"r2\"].append(1 - (ss_residual / ss_total))\n",
        "mean_fold_results[\"max_err\"].append((y_test - y_pred).abs().max())\n",
        "\n",
        "\n",
        "#----------MEDIAN--------------#\n",
        "median_fold_results = {\"avg\":[], \"mse\": [], \"rmse\": [], \"mae\": [], \"r2\": [], \"max_err\": []}\n",
        "\n",
        "y_pred = y_train.median()\n",
        "median_fold_results[\"avg\"].append(y_pred)\n",
        "\n",
        "mse = ((y_test - y_pred) ** 2).mean()\n",
        "median_fold_results[\"mse\"].append(mse)\n",
        "median_fold_results[\"rmse\"].append(mse ** 0.5)\n",
        "mae = (y_test - y_pred).abs().mean()\n",
        "median_fold_results[\"mae\"].append(mae)\n",
        "ss_residual = ((y_test - y_pred) ** 2).sum()\n",
        "ss_total = ((y_test - y_test.mean()) ** 2).sum()\n",
        "r_squared = 1 - (ss_residual / ss_total)\n",
        "median_fold_results[\"r2\"].append(1 - (ss_residual / ss_total))\n",
        "median_fold_results[\"max_err\"].append((y_test - y_pred).abs().max())\n",
        "\n",
        "\n",
        "#---------------------XGB NAIVE DATA PREP---------------------#\n",
        "df = pd.read_csv('Taxi_Trips__2013-2023__20241218.csv')  # read in data\n",
        "df = df.rename(columns={'Trip Total': 'trip_ttl'})  # abbreviate target column name\n",
        "df = df[df[\"trip_ttl\"]>0]\n",
        "_ = df.sort_values([\"trip_ttl\"], ascending=False)[[\"trip_ttl\", \"Trip Seconds\", \"Trip Miles\"]]\n",
        "\n",
        "df = df.drop(columns=[\"Fare\", \"Tips\", \"Tolls\", \"Extras\"])\n",
        "df = df.drop(columns=[\"Trip ID\", \"Taxi ID\", \"Pickup Centroid Location\", \"Dropoff Centroid  Location\", \"Payment Type\", \"Company\"])\n",
        "\n",
        "df[\"Trip Start Timestamp\"] = pd.to_datetime(df[\"Trip Start Timestamp\"], format=\"%m/%d/%Y %I:%M:%S %p\")\n",
        "df[\"Trip End Timestamp\"] = pd.to_datetime(df[\"Trip End Timestamp\"], format=\"%m/%d/%Y %I:%M:%S %p\")\n",
        "df[\"Trip Start Timestamp\"] = (df[\"Trip Start Timestamp\"] - pd.Timestamp(\"1970-01-01\")) // pd.Timedelta('1s')\n",
        "df[\"Trip End Timestamp\"] = (df[\"Trip End Timestamp\"] - pd.Timestamp(\"1970-01-01\")) // pd.Timedelta('1s')\n",
        "\n",
        "df = df.sample(frac=1, random_state=42).reset_index(drop=True)\n",
        "split_index = int(0.8 * len(df))  # 80% train, 20% test\n",
        "train_df = df[:split_index]\n",
        "test_df = df[split_index:]\n",
        "del df\n",
        "\n",
        "X_test = test_df.drop(columns=[\"trip_ttl\"])\n",
        "y_test = test_df[\"trip_ttl\"]\n",
        "\n",
        "X_train = train_df.drop(columns=[\"trip_ttl\"])\n",
        "y_train = train_df[\"trip_ttl\"]\n",
        "\n",
        "\n",
        "#----------------XGB NAIVE-------------------#\n",
        "xgb_naive_fold_results = {\"avg\": [], \"mse\": [], \"rmse\": [], \"mae\": [], \"r2\": [], \"max_err\": []}\n",
        "\n",
        "\n",
        "# train\n",
        "xgb_model = xgb.XGBRegressor(device=xgb_device)\n",
        "\n",
        "xgb_model.fit(X_train, y_train)\n",
        "y_pred = xgb_model.predict(X_test)\n",
        "xgb_naive_fold_results[\"avg\"].append(y_pred.mean())\n",
        "\n",
        "# metrics\n",
        "mse = ((y_test - y_pred) ** 2).mean()\n",
        "xgb_naive_fold_results[\"mse\"].append(mse)\n",
        "xgb_naive_fold_results[\"rmse\"].append(mse ** 0.5)\n",
        "mae = (y_test - y_pred).abs().mean()\n",
        "xgb_naive_fold_results[\"mae\"].append(mae)\n",
        "ss_residual = ((y_test - y_pred) ** 2).sum()\n",
        "ss_total = ((y_test - y_test.mean()) ** 2).sum()\n",
        "r_squared = 1 - (ss_residual / ss_total)\n",
        "xgb_naive_fold_results[\"r2\"].append(1 - (ss_residual / ss_total))\n",
        "xgb_naive_fold_results[\"max_err\"].append((y_test - y_pred).abs().max())\n",
        "\n",
        "\n",
        "#----------------------XGB FEATURE ENGINEERING - DATA PREP-----------------------#\n",
        "df = pd.read_csv('Taxi_Trips__2013-2023__20241218.csv')  # read in data\n",
        "df = df.rename(columns={'Trip Total': 'trip_ttl'})  # abbreviate target column name\n",
        "df = df.drop(columns=[\"Fare\", \"Tips\", \"Tolls\", \"Extras\"])\n",
        "df = df.drop(columns=[\"Trip ID\", \"Taxi ID\"])\n",
        "\n",
        "df[\"Trip Start Timestamp\"] = pd.to_datetime(df[\"Trip Start Timestamp\"], format=\"%m/%d/%Y %I:%M:%S %p\")\n",
        "df[\"Trip End Timestamp\"] = pd.to_datetime(df[\"Trip End Timestamp\"], format=\"%m/%d/%Y %I:%M:%S %p\")\n",
        "\n",
        "df = df[df[\"trip_ttl\"]>0]\n",
        "_ = df.nunique().sort_values()\n",
        "\n",
        "target = [\"trip_ttl\"]\n",
        "num_cols = [\"Pickup Centroid Latitude\", \"Pickup Centroid Longitude\", \"Dropoff Centroid Latitude\", \"Dropoff Centroid Longitude\", \"Trip Miles\", \"Trip Seconds\", \"Trip Start Timestamp\", \"Trip End Timestamp\"]\n",
        "cat_cols = list(set(df.columns) - set(target + num_cols))\n",
        "\n",
        "for col in num_cols:\n",
        "  df[col] = df[col].fillna(df[col].mean())\n",
        "\n",
        "df[cat_cols] = df[cat_cols].fillna(df[cat_cols].mode().iloc[0])\n",
        "\n",
        "df.sort_values([\"trip_ttl\", \"Trip Seconds\", \"Trip Miles\"], ascending=False)[[\"trip_ttl\", \"Trip Seconds\", \"Trip Miles\", \"Payment Type\"]]\n",
        "\n",
        "df = df[(df['Trip Seconds'] * df['Trip Miles']) > 0]\n",
        "\n",
        "def filter_by_modified_z_score(df, column, threshold=4.0):\n",
        "    # median and MAD (median abs deviation)\n",
        "    median = df[column].median()\n",
        "    mad = (df[column] - median).abs().median()\n",
        "    return df[(0.6745 * (df[column] - median) / mad).abs() <= threshold]\n",
        "\n",
        "df = filter_by_modified_z_score(df, \"trip_ttl\", threshold=3.5)\n",
        "_ = df.sort_values([\"trip_ttl\", \"Trip Seconds\", \"Trip Miles\"], ascending=False)[[\"trip_ttl\", \"Trip Seconds\", \"Trip Miles\"]]\n",
        "\n",
        "### Feature Extraction\n",
        "\n",
        "df['avg_speed'] = df['Trip Miles'] / (df['Trip Seconds'] / 3600)\n",
        "num_cols.append('avg_speed')\n",
        "\n",
        "df['day_of_week'] = df['Trip Start Timestamp'].dt.dayofweek\n",
        "df['hour_of_day'] = df['Trip Start Timestamp'].dt.hour\n",
        "df['month'] = df['Trip Start Timestamp'].dt.month\n",
        "df['year'] = df['Trip Start Timestamp'].dt.year\n",
        "cat_cols.extend(['day_of_week', 'hour_of_day', 'month', 'year'])\n",
        "\n",
        "# convert to timestamp seconds since epoch\n",
        "df['Trip Start Timestamp'] = df['Trip Start Timestamp'].astype(int) // 10**9\n",
        "df['Trip End Timestamp'] = df['Trip End Timestamp'].astype(int) // 10**9\n",
        "\n",
        "num_cols.extend(['Trip Start Timestamp', 'Trip End Timestamp'])\n",
        "\n",
        "for col in cat_cols:\n",
        "  df[col] = df[col].map(df.groupby(col)[\"trip_ttl\"].mean())\n",
        "\n",
        "_ = df.sort_values(\"trip_ttl\", ascending=False)\n",
        "\n",
        "df = df.replace([np.inf, -np.inf], np.nan).dropna()\n",
        "\n",
        "df = df.sample(frac=1, random_state=42).reset_index(drop=True)\n",
        "split_index = int(0.8 * len(df))  # 80% train, 20% test\n",
        "train_df = df[:split_index]\n",
        "test_df = df[split_index:]\n",
        "del df\n",
        "\n",
        "X_test = test_df.drop(columns=[\"trip_ttl\"])\n",
        "y_test = test_df[\"trip_ttl\"]\n",
        "\n",
        "X_train = train_df.drop(columns=[\"trip_ttl\"])\n",
        "y_train = train_df[\"trip_ttl\"]\n",
        "\n",
        "\n",
        "#--------------------XGB FE----------------------------#\n",
        "xgb_fe_fold_results = {\"avg\": [], \"mse\": [], \"rmse\": [], \"mae\": [], \"r2\": [], \"max_err\": []}\n",
        "\n",
        "# train\n",
        "xgb_model = xgb.XGBRegressor(device=xgb_device)\n",
        "\n",
        "xgb_model.fit(X_train, y_train)\n",
        "y_pred = xgb_model.predict(X_test)\n",
        "xgb_fe_fold_results[\"avg\"].append(y_pred.mean())\n",
        "\n",
        "# metrics\n",
        "mse = ((y_test - y_pred) ** 2).mean()\n",
        "xgb_fe_fold_results[\"mse\"].append(mse)\n",
        "xgb_fe_fold_results[\"rmse\"].append(mse ** 0.5)\n",
        "mae = (y_test - y_pred).abs().mean()\n",
        "xgb_fe_fold_results[\"mae\"].append(mae)\n",
        "ss_residual = ((y_test - y_pred) ** 2).sum()\n",
        "ss_total = ((y_test - y_test.mean()) ** 2).sum()\n",
        "r_squared = 1 - (ss_residual / ss_total)\n",
        "xgb_fe_fold_results[\"r2\"].append(1 - (ss_residual / ss_total))\n",
        "xgb_fe_fold_results[\"max_err\"].append((y_test - y_pred).abs().max())\n",
        "\n",
        "\n",
        "#--------------XGB HYPERPARAMETER TUNING--------------#\n",
        "xgb_tune_fold_results = {\"avg\": [], \"mse\": [], \"rmse\": [], \"mae\": [], \"r2\": [], \"max_err\": []}\n",
        "\n",
        "# train\n",
        "xgb_model = xgb.XGBRegressor(device=xgb_device,\n",
        "                              n_estimators=500,\n",
        "                              learning_rate=0.05,\n",
        "                              max_depth=6,\n",
        "                              eval_metric=\"mae\",\n",
        "                              objective=\"reg:gamma\",\n",
        "                              min_child_weight=5\n",
        ")\n",
        "\n",
        "xgb_model.fit(X_train, y_train)\n",
        "y_pred = xgb_model.predict(X_test)\n",
        "xgb_tune_fold_results[\"avg\"].append(y_pred.mean())\n",
        "\n",
        "mse = ((y_test - y_pred) ** 2).mean()\n",
        "xgb_tune_fold_results[\"mse\"].append(mse)\n",
        "xgb_tune_fold_results[\"rmse\"].append(mse ** 0.5)\n",
        "mae = (y_test - y_pred).abs().mean()\n",
        "xgb_tune_fold_results[\"mae\"].append(mae)\n",
        "ss_residual = ((y_test - y_pred) ** 2).sum()\n",
        "ss_total = ((y_test - y_test.mean()) ** 2).sum()\n",
        "r_squared = 1 - (ss_residual / ss_total)\n",
        "xgb_tune_fold_results[\"r2\"].append(1 - (ss_residual / ss_total))\n",
        "xgb_tune_fold_results[\"max_err\"].append((y_test - y_pred).abs().max())\n",
        "\n",
        "time() - start"
      ]
    },
    {
      "cell_type": "markdown",
      "metadata": {
        "id": "kiEz2uNxMfPk"
      },
      "source": [
        "<br/>"
      ]
    },
    {
      "cell_type": "markdown",
      "metadata": {
        "id": "8_cbUcIQMfSR"
      },
      "source": [
        "<br/>"
      ]
    },
    {
      "cell_type": "markdown",
      "metadata": {
        "id": "bMsJ9rylMfVF"
      },
      "source": [
        "<br/>"
      ]
    },
    {
      "cell_type": "markdown",
      "metadata": {
        "id": "1uCtgAUmMfX5"
      },
      "source": [
        "<br/>"
      ]
    },
    {
      "cell_type": "markdown",
      "metadata": {
        "id": "kmaE7PxBL5_z"
      },
      "source": [
        "### results"
      ]
    },
    {
      "cell_type": "code",
      "execution_count": null,
      "metadata": {
        "id": "kBu_0H1aYTBB"
      },
      "outputs": [],
      "source": [
        "del xgb_fold_results"
      ]
    },
    {
      "cell_type": "code",
      "execution_count": null,
      "metadata": {
        "colab": {
          "base_uri": "https://localhost:8080/",
          "height": 206
        },
        "id": "wmZyiVx7Jj_n",
        "outputId": "a00dc320-8634-4a2e-a6db-c2b56a891fab"
      },
      "outputs": [
        {
          "data": {
            "application/vnd.google.colaboratory.intrinsic+json": {
              "summary": "{\n  \"name\": \"all_results\",\n  \"rows\": 5,\n  \"fields\": [\n    {\n      \"column\": \"model\",\n      \"properties\": {\n        \"dtype\": \"string\",\n        \"num_unique_values\": 5,\n        \"samples\": [\n          \"median\",\n          \"xgb_tuned\",\n          \"mean\"\n        ],\n        \"semantic_type\": \"\",\n        \"description\": \"\"\n      }\n    },\n    {\n      \"column\": \"avg\",\n      \"properties\": {\n        \"dtype\": \"number\",\n        \"std\": 4.190294739036862,\n        \"min\": 9.75,\n        \"max\": 17.62,\n        \"num_unique_values\": 4,\n        \"samples\": [\n          17.6,\n          10.07,\n          17.62\n        ],\n        \"semantic_type\": \"\",\n        \"description\": \"\"\n      }\n    },\n    {\n      \"column\": \"mse\",\n      \"properties\": {\n        \"dtype\": \"number\",\n        \"std\": 4068.26720722103,\n        \"min\": 1.09,\n        \"max\": 7702.04,\n        \"num_unique_values\": 5,\n        \"samples\": [\n          7702.04,\n          1.09,\n          7641.96\n        ],\n        \"semantic_type\": \"\",\n        \"description\": \"\"\n      }\n    },\n    {\n      \"column\": \"rmse\",\n      \"properties\": {\n        \"dtype\": \"number\",\n        \"std\": 46.58258258190501,\n        \"min\": 1.04,\n        \"max\": 87.76,\n        \"num_unique_values\": 5,\n        \"samples\": [\n          87.76,\n          1.04,\n          87.42\n        ],\n        \"semantic_type\": \"\",\n        \"description\": \"\"\n      }\n    },\n    {\n      \"column\": \"mae\",\n      \"properties\": {\n        \"dtype\": \"number\",\n        \"std\": 5.71743211590658,\n        \"min\": 0.69,\n        \"max\": 13.35,\n        \"num_unique_values\": 5,\n        \"samples\": [\n          10.45,\n          0.69,\n          13.35\n        ],\n        \"semantic_type\": \"\",\n        \"description\": \"\"\n      }\n    },\n    {\n      \"column\": \"r2\",\n      \"properties\": {\n        \"dtype\": \"number\",\n        \"std\": 0.5030208743183527,\n        \"min\": -0.01,\n        \"max\": 0.95,\n        \"num_unique_values\": 5,\n        \"samples\": [\n          -0.01,\n          0.95,\n          -0.0\n        ],\n        \"semantic_type\": \"\",\n        \"description\": \"\"\n      }\n    },\n    {\n      \"column\": \"max_err\",\n      \"properties\": {\n        \"dtype\": \"number\",\n        \"std\": 5162.833305695623,\n        \"min\": 23.53,\n        \"max\": 9690.5,\n        \"num_unique_values\": 5,\n        \"samples\": [\n          9690.5,\n          23.53,\n          9682.65\n        ],\n        \"semantic_type\": \"\",\n        \"description\": \"\"\n      }\n    }\n  ]\n}",
              "type": "dataframe"
            },
            "text/html": [
              "<div>\n",
              "<style scoped>\n",
              "    .dataframe tbody tr th:only-of-type {\n",
              "        vertical-align: middle;\n",
              "    }\n",
              "\n",
              "    .dataframe tbody tr th {\n",
              "        vertical-align: top;\n",
              "    }\n",
              "\n",
              "    .dataframe thead th {\n",
              "        text-align: right;\n",
              "    }\n",
              "</style>\n",
              "<table border=\"1\" class=\"dataframe\">\n",
              "  <thead>\n",
              "    <tr style=\"text-align: right;\">\n",
              "      <th></th>\n",
              "      <th>model</th>\n",
              "      <th>avg</th>\n",
              "      <th>mse</th>\n",
              "      <th>rmse</th>\n",
              "      <th>mae</th>\n",
              "      <th>r2</th>\n",
              "      <th>max_err</th>\n",
              "    </tr>\n",
              "  </thead>\n",
              "  <tbody>\n",
              "    <tr>\n",
              "      <th>0</th>\n",
              "      <td>xgb_tuned</td>\n",
              "      <td>10.07</td>\n",
              "      <td>1.09</td>\n",
              "      <td>1.04</td>\n",
              "      <td>0.69</td>\n",
              "      <td>0.95</td>\n",
              "      <td>23.53</td>\n",
              "    </tr>\n",
              "    <tr>\n",
              "      <th>0</th>\n",
              "      <td>xgb_fe</td>\n",
              "      <td>10.07</td>\n",
              "      <td>1.10</td>\n",
              "      <td>1.05</td>\n",
              "      <td>0.70</td>\n",
              "      <td>0.94</td>\n",
              "      <td>25.51</td>\n",
              "    </tr>\n",
              "    <tr>\n",
              "      <th>0</th>\n",
              "      <td>xgb_naïve</td>\n",
              "      <td>17.62</td>\n",
              "      <td>6869.41</td>\n",
              "      <td>82.88</td>\n",
              "      <td>5.18</td>\n",
              "      <td>0.10</td>\n",
              "      <td>8927.41</td>\n",
              "    </tr>\n",
              "    <tr>\n",
              "      <th>0</th>\n",
              "      <td>median</td>\n",
              "      <td>9.75</td>\n",
              "      <td>7702.04</td>\n",
              "      <td>87.76</td>\n",
              "      <td>10.45</td>\n",
              "      <td>-0.01</td>\n",
              "      <td>9690.50</td>\n",
              "    </tr>\n",
              "    <tr>\n",
              "      <th>0</th>\n",
              "      <td>mean</td>\n",
              "      <td>17.60</td>\n",
              "      <td>7641.96</td>\n",
              "      <td>87.42</td>\n",
              "      <td>13.35</td>\n",
              "      <td>-0.00</td>\n",
              "      <td>9682.65</td>\n",
              "    </tr>\n",
              "  </tbody>\n",
              "</table>\n",
              "</div>"
            ],
            "text/plain": [
              "       model    avg      mse   rmse    mae    r2  max_err\n",
              "0  xgb_tuned  10.07     1.09   1.04   0.69  0.95    23.53\n",
              "0     xgb_fe  10.07     1.10   1.05   0.70  0.94    25.51\n",
              "0  xgb_naïve  17.62  6869.41  82.88   5.18  0.10  8927.41\n",
              "0     median   9.75  7702.04  87.76  10.45 -0.01  9690.50\n",
              "0       mean  17.60  7641.96  87.42  13.35 -0.00  9682.65"
            ]
          },
          "execution_count": 58,
          "metadata": {},
          "output_type": "execute_result"
        }
      ],
      "source": [
        "mean_fold_results_df = pd.DataFrame(mean_fold_results)\n",
        "mean_results_df = pd.DataFrame({'model': 'mean',**mean_fold_results_df.drop(columns=['max_err']).mean(), 'max_err': mean_fold_results_df['max_err'].max()}, index=[0])\n",
        "\n",
        "median_fold_results_df = pd.DataFrame(median_fold_results)\n",
        "median_results_df = pd.DataFrame({'model': 'median', **median_fold_results_df.drop(columns=['max_err']).mean(), 'max_err': median_fold_results_df['max_err'].max()}, index=[0])\n",
        "\n",
        "xgb_naïve_fold_results_df = pd.DataFrame(xgb_naive_fold_results)\n",
        "xgb_naïve_results_df = pd.DataFrame({'model': 'xgb_naïve',**xgb_naïve_fold_results_df.drop(columns=['max_err']).mean(), 'max_err': xgb_naïve_fold_results_df['max_err'].max()}, index=[0])\n",
        "\n",
        "xgb_fe_fold_results_df = pd.DataFrame(xgb_fe_fold_results)\n",
        "xgb_fe_results_df = pd.DataFrame({'model': 'xgb_fe',**xgb_fe_fold_results_df.drop(columns=['max_err']).mean(), 'max_err': xgb_fe_fold_results_df['max_err'].max()}, index=[0])\n",
        "\n",
        "xgb_tuned_fold_results_df = pd.DataFrame(xgb_tune_fold_results)\n",
        "xgb_tuned_results_df = pd.DataFrame({'model': 'xgb_tuned',**xgb_tuned_fold_results_df.drop(columns=['max_err']).mean(), 'max_err': xgb_tuned_fold_results_df['max_err'].max()}, index=[0])\n",
        "\n",
        "all_results = pd.concat([mean_results_df, median_results_df, xgb_naïve_results_df, xgb_fe_results_df, xgb_tuned_results_df]).sort_values(by=[\"mae\", \"mse\", \"rmse\", \"r2\", \"max_err\"], ascending=[True, True, True, False, True])\n",
        "\n",
        "all_results.round(2)"
      ]
    },
    {
      "cell_type": "code",
      "execution_count": null,
      "metadata": {
        "colab": {
          "base_uri": "https://localhost:8080/",
          "height": 143
        },
        "id": "fpgm2ZpUgsBr",
        "outputId": "502ee358-9da5-45ff-e004-efcce791c3b0"
      },
      "outputs": [
        {
          "data": {
            "application/vnd.google.colaboratory.intrinsic+json": {
              "summary": "{\n  \"name\": \"all_results\",\n  \"rows\": 3,\n  \"fields\": [\n    {\n      \"column\": \"model\",\n      \"properties\": {\n        \"dtype\": \"string\",\n        \"num_unique_values\": 3,\n        \"samples\": [\n          \"xgb_na\\u00efve\",\n          \"median\",\n          \"mean\"\n        ],\n        \"semantic_type\": \"\",\n        \"description\": \"\"\n      }\n    },\n    {\n      \"column\": \"avg\",\n      \"properties\": {\n        \"dtype\": \"number\",\n        \"std\": 4.5379841339519915,\n        \"min\": 9.75,\n        \"max\": 17.62,\n        \"num_unique_values\": 3,\n        \"samples\": [\n          17.62,\n          9.75,\n          17.6\n        ],\n        \"semantic_type\": \"\",\n        \"description\": \"\"\n      }\n    },\n    {\n      \"column\": \"mse\",\n      \"properties\": {\n        \"dtype\": \"number\",\n        \"std\": 464.34825756106807,\n        \"min\": 6869.41,\n        \"max\": 7702.04,\n        \"num_unique_values\": 3,\n        \"samples\": [\n          6869.41,\n          7702.04,\n          7641.96\n        ],\n        \"semantic_type\": \"\",\n        \"description\": \"\"\n      }\n    },\n    {\n      \"column\": \"rmse\",\n      \"properties\": {\n        \"dtype\": \"number\",\n        \"std\": 2.7246284150320452,\n        \"min\": 82.88,\n        \"max\": 87.76,\n        \"num_unique_values\": 3,\n        \"samples\": [\n          82.88,\n          87.76,\n          87.42\n        ],\n        \"semantic_type\": \"\",\n        \"description\": \"\"\n      }\n    },\n    {\n      \"column\": \"mae\",\n      \"properties\": {\n        \"dtype\": \"number\",\n        \"std\": 4.141895701245988,\n        \"min\": 5.18,\n        \"max\": 13.35,\n        \"num_unique_values\": 3,\n        \"samples\": [\n          5.18,\n          10.45,\n          13.35\n        ],\n        \"semantic_type\": \"\",\n        \"description\": \"\"\n      }\n    },\n    {\n      \"column\": \"r2\",\n      \"properties\": {\n        \"dtype\": \"number\",\n        \"std\": 0.0608276253029822,\n        \"min\": -0.01,\n        \"max\": 0.1,\n        \"num_unique_values\": 3,\n        \"samples\": [\n          0.1,\n          -0.01,\n          -0.0\n        ],\n        \"semantic_type\": \"\",\n        \"description\": \"\"\n      }\n    },\n    {\n      \"column\": \"max_err\",\n      \"properties\": {\n        \"dtype\": \"number\",\n        \"std\": 438.3216908846743,\n        \"min\": 8927.41,\n        \"max\": 9690.5,\n        \"num_unique_values\": 3,\n        \"samples\": [\n          8927.41,\n          9690.5,\n          9682.65\n        ],\n        \"semantic_type\": \"\",\n        \"description\": \"\"\n      }\n    }\n  ]\n}",
              "type": "dataframe"
            },
            "text/html": [
              "<div>\n",
              "<style scoped>\n",
              "    .dataframe tbody tr th:only-of-type {\n",
              "        vertical-align: middle;\n",
              "    }\n",
              "\n",
              "    .dataframe tbody tr th {\n",
              "        vertical-align: top;\n",
              "    }\n",
              "\n",
              "    .dataframe thead th {\n",
              "        text-align: right;\n",
              "    }\n",
              "</style>\n",
              "<table border=\"1\" class=\"dataframe\">\n",
              "  <thead>\n",
              "    <tr style=\"text-align: right;\">\n",
              "      <th></th>\n",
              "      <th>model</th>\n",
              "      <th>avg</th>\n",
              "      <th>mse</th>\n",
              "      <th>rmse</th>\n",
              "      <th>mae</th>\n",
              "      <th>r2</th>\n",
              "      <th>max_err</th>\n",
              "    </tr>\n",
              "  </thead>\n",
              "  <tbody>\n",
              "    <tr>\n",
              "      <th>0</th>\n",
              "      <td>xgb_naïve</td>\n",
              "      <td>17.62</td>\n",
              "      <td>6869.41</td>\n",
              "      <td>82.88</td>\n",
              "      <td>5.18</td>\n",
              "      <td>0.10</td>\n",
              "      <td>8927.41</td>\n",
              "    </tr>\n",
              "    <tr>\n",
              "      <th>0</th>\n",
              "      <td>median</td>\n",
              "      <td>9.75</td>\n",
              "      <td>7702.04</td>\n",
              "      <td>87.76</td>\n",
              "      <td>10.45</td>\n",
              "      <td>-0.01</td>\n",
              "      <td>9690.50</td>\n",
              "    </tr>\n",
              "    <tr>\n",
              "      <th>0</th>\n",
              "      <td>mean</td>\n",
              "      <td>17.60</td>\n",
              "      <td>7641.96</td>\n",
              "      <td>87.42</td>\n",
              "      <td>13.35</td>\n",
              "      <td>-0.00</td>\n",
              "      <td>9682.65</td>\n",
              "    </tr>\n",
              "  </tbody>\n",
              "</table>\n",
              "</div>"
            ],
            "text/plain": [
              "       model    avg      mse   rmse    mae    r2  max_err\n",
              "0  xgb_naïve  17.62  6869.41  82.88   5.18  0.10  8927.41\n",
              "0     median   9.75  7702.04  87.76  10.45 -0.01  9690.50\n",
              "0       mean  17.60  7641.96  87.42  13.35 -0.00  9682.65"
            ]
          },
          "execution_count": 59,
          "metadata": {},
          "output_type": "execute_result"
        }
      ],
      "source": [
        "mean_fold_results_df = pd.DataFrame(mean_fold_results)\n",
        "mean_results_df = pd.DataFrame({'model': 'mean',**mean_fold_results_df.drop(columns=['max_err']).mean(), 'max_err': mean_fold_results_df['max_err'].max()}, index=[0])\n",
        "\n",
        "median_fold_results_df = pd.DataFrame(median_fold_results)\n",
        "median_results_df = pd.DataFrame({'model': 'median', **median_fold_results_df.drop(columns=['max_err']).mean(), 'max_err': median_fold_results_df['max_err'].max()}, index=[0])\n",
        "\n",
        "xgb_naïve_fold_results_df = pd.DataFrame(xgb_naive_fold_results)\n",
        "xgb_naïve_results_df = pd.DataFrame({'model': 'xgb_naïve',**xgb_naïve_fold_results_df.drop(columns=['max_err']).mean(), 'max_err': xgb_naïve_fold_results_df['max_err'].max()}, index=[0])\n",
        "\n",
        "all_results = pd.concat([mean_results_df, median_results_df, xgb_naïve_results_df]).sort_values(by=[\"mae\", \"mse\", \"rmse\", \"r2\", \"max_err\"], ascending=[True, True, True, False, True])\n",
        "\n",
        "all_results.round(2)"
      ]
    },
    {
      "cell_type": "code",
      "execution_count": null,
      "metadata": {
        "colab": {
          "base_uri": "https://localhost:8080/",
          "height": 807
        },
        "id": "WUKUGlQ1LotY",
        "outputId": "b3064ba3-7ec1-41e5-d5a1-e09c7f9d6d4e"
      },
      "outputs": [
        {
          "data": {
            "image/png": "[encoded data removed]",
            "text/plain": [
              "<Figure size 1100x800 with 5 Axes>"
            ]
          },
          "metadata": {},
          "output_type": "display_data"
        }
      ],
      "source": [
        "melted_df = all_results.melt(id_vars='model', var_name='metric', value_name='value')\n",
        "filtered_df = melted_df[melted_df['metric'] != 'avg']\n",
        "unique_metrics = filtered_df['metric'].unique()\n",
        "n_metrics = len(unique_metrics)\n",
        "n_cols = 2\n",
        "n_rows = (n_metrics + 1) // n_cols\n",
        "\n",
        "fig, axes = plt.subplots(n_rows, n_cols, figsize=(11, 8))\n",
        "axes = axes.flatten()\n",
        "\n",
        "for i, metric in enumerate(unique_metrics):\n",
        "    ax = axes[i]\n",
        "    sns.barplot(\n",
        "        x='model',\n",
        "        y='value',\n",
        "        hue='model',  # Assign 'model' to hue\n",
        "        data=filtered_df[filtered_df['metric'] == metric],\n",
        "        palette='viridis',\n",
        "        ax=ax,\n",
        "        dodge=False)\n",
        "\n",
        "    ax.set_title(f'Comparison of {metric.upper()}')\n",
        "    ax.set_ylabel(metric.upper())\n",
        "    ax.set_xlabel('Model')\n",
        "\n",
        "for j in range(i + 1, len(axes)):\n",
        "    fig.delaxes(axes[j])\n",
        "\n",
        "plt.tight_layout()\n",
        "plt.show()"
      ]
    },
    {
      "cell_type": "code",
      "execution_count": null,
      "metadata": {
        "colab": {
          "base_uri": "https://localhost:8080/",
          "height": 718
        },
        "id": "1DnDKRwGhDeO",
        "outputId": "43f03ed8-7ae3-41d0-b04e-3f7bcef37763"
      },
      "outputs": [
        {
          "data": {
            "image/png": "[encoded data removed]",
            "text/plain": [
              "<Figure size 1000x800 with 1 Axes>"
            ]
          },
          "metadata": {},
          "output_type": "display_data"
        }
      ],
      "source": [
        "booster = xgb_model.get_booster()\n",
        "importance = booster.get_score(importance_type='weight')  # You can also use 'gain', 'cover', etc.\n",
        "\n",
        "# Convert to DataFrame\n",
        "importance_df = pd.DataFrame({\n",
        "    'Feature': list(importance.keys()),\n",
        "    'Importance': list(importance.values())\n",
        "})\n",
        "\n",
        "# Sort by importance\n",
        "importance_df = importance_df.sort_values(by='Importance', ascending=False)\n",
        "\n",
        "# Plot using Seaborn\n",
        "plt.figure(figsize=(10, 8))\n",
        "sns.barplot(x='Importance', y='Feature', data=importance_df, hue='Feature', palette=\"viridis\", dodge=False, legend=False)\n",
        "plt.title('Feature Importance')\n",
        "plt.xlabel('Importance Score')\n",
        "plt.ylabel('Features')\n",
        "plt.show()"
      ]
    },
    {
      "cell_type": "markdown",
      "metadata": {
        "id": "BsdHucCegnAw"
      },
      "source": [
        "<br/>"
      ]
    },
    {
      "cell_type": "markdown",
      "metadata": {
        "id": "P2ryD33agnJ4"
      },
      "source": [
        "<br/>"
      ]
    },
    {
      "cell_type": "markdown",
      "metadata": {
        "id": "nKUOINVvMd-Q"
      },
      "source": [
        "<br/>"
      ]
    },
    {
      "cell_type": "markdown",
      "metadata": {
        "id": "VKEvGJojMeDJ"
      },
      "source": [
        "<br/>"
      ]
    },
    {
      "cell_type": "markdown",
      "metadata": {
        "id": "RTnb6r00MeIv"
      },
      "source": [
        "<br/>"
      ]
    },
    {
      "cell_type": "markdown",
      "metadata": {
        "id": "vXCYymtlMeLt"
      },
      "source": [
        "<br/>"
      ]
    },
    {
      "cell_type": "markdown",
      "metadata": {
        "id": "LaUfZ78VMePB"
      },
      "source": [
        "<br/>"
      ]
    },
    {
      "cell_type": "markdown",
      "metadata": {
        "id": "6GjOYpXVMeSC"
      },
      "source": [
        "<br/>"
      ]
    },
    {
      "cell_type": "markdown",
      "metadata": {
        "id": "Ku_M8S7E4X4w"
      },
      "source": [
        "# XGBoost Parameter Tuning"
      ]
    },
    {
      "cell_type": "code",
      "execution_count": null,
      "metadata": {
        "colab": {
          "base_uri": "https://localhost:8080/"
        },
        "id": "XKKLHMNb6zuY",
        "outputId": "7b8ccfdb-6f58-411d-d11a-f013a67969c5"
      },
      "outputs": [
        {
          "name": "stderr",
          "output_type": "stream",
          "text": [
            "/usr/local/lib/python3.11/dist-packages/cudf/pandas/__init__.py:59: UserWarning: cudf.pandas detected an already configured memory resource, ignoring 'CUDF_PANDAS_RMM_MODE'=managed_pool\n",
            "  warnings.warn(\n"
          ]
        }
      ],
      "source": [
        "%reload_ext cudf.pandas"
      ]
    },
    {
      "cell_type": "code",
      "execution_count": null,
      "metadata": {
        "colab": {
          "base_uri": "https://localhost:8080/"
        },
        "id": "oXLX_TN_4g6d",
        "outputId": "c890c9cb-08bd-482c-9e97-1284927fc08f"
      },
      "outputs": [
        {
          "name": "stdout",
          "output_type": "stream",
          "text": [
            "\u001b[?25l   \u001b[90m━━━━━━━━━━━━━━━━━━━━━━━━━━━━━━━━━━━━━━━━\u001b[0m \u001b[32m0.0/383.4 kB\u001b[0m \u001b[31m?\u001b[0m eta \u001b[36m-:--:--\u001b[0m\r",
            "\u001b[2K   \u001b[91m━━━━━━━━━━━━━━━━━━━━━━━━━━━━━━━━━━━━━━━\u001b[0m\u001b[91m╸\u001b[0m \u001b[32m378.9/383.4 kB\u001b[0m \u001b[31m12.2 MB/s\u001b[0m eta \u001b[36m0:00:01\u001b[0m\r",
            "\u001b[2K   \u001b[90m━━━━━━━━━━━━━━━━━━━━━━━━━━━━━━━━━━━━━━━━\u001b[0m \u001b[32m383.4/383.4 kB\u001b[0m \u001b[31m9.2 MB/s\u001b[0m eta \u001b[36m0:00:00\u001b[0m\n",
            "\u001b[?25h\u001b[?25l   \u001b[90m━━━━━━━━━━━━━━━━━━━━━━━━━━━━━━━━━━━━━━━━\u001b[0m \u001b[32m0.0/233.6 kB\u001b[0m \u001b[31m?\u001b[0m eta \u001b[36m-:--:--\u001b[0m\r",
            "\u001b[2K   \u001b[90m━━━━━━━━━━━━━━━━━━━━━━━━━━━━━━━━━━━━━━━━\u001b[0m \u001b[32m233.6/233.6 kB\u001b[0m \u001b[31m20.9 MB/s\u001b[0m eta \u001b[36m0:00:00\u001b[0m\n",
            "\u001b[?25h\u001b[?25l   \u001b[90m━━━━━━━━━━━━━━━━━━━━━━━━━━━━━━━━━━━━━━━━\u001b[0m \u001b[32m0.0/78.5 kB\u001b[0m \u001b[31m?\u001b[0m eta \u001b[36m-:--:--\u001b[0m\r",
            "\u001b[2K   \u001b[90m━━━━━━━━━━━━━━━━━━━━━━━━━━━━━━━━━━━━━━━━\u001b[0m \u001b[32m78.5/78.5 kB\u001b[0m \u001b[31m8.1 MB/s\u001b[0m eta \u001b[36m0:00:00\u001b[0m\n",
            "\u001b[?25h"
          ]
        }
      ],
      "source": [
        "!pip install -q optuna"
      ]
    },
    {
      "cell_type": "code",
      "execution_count": null,
      "metadata": {
        "id": "RqCfSL33Vksu"
      },
      "outputs": [],
      "source": [
        "import optuna"
      ]
    },
    {
      "cell_type": "code",
      "execution_count": null,
      "metadata": {
        "id": "kf2o6RAS6zuY"
      },
      "outputs": [],
      "source": [
        "df = pd.read_csv('Taxi_Trips__2013-2023__20241218.csv')  # read in data\n",
        "df = df.rename(columns={'Trip Total': 'trip_ttl'})  # abbreviate target column name\n",
        "df = df.drop(columns=[\"Fare\", \"Tips\", \"Tolls\", \"Extras\"])\n",
        "df = df.drop(columns=[\"Trip ID\", \"Taxi ID\"])\n",
        "\n",
        "df[\"Trip Start Timestamp\"] = pd.to_datetime(df[\"Trip Start Timestamp\"], format=\"%m/%d/%Y %I:%M:%S %p\")\n",
        "df[\"Trip End Timestamp\"] = pd.to_datetime(df[\"Trip End Timestamp\"], format=\"%m/%d/%Y %I:%M:%S %p\")\n",
        "\n",
        "df = df[df[\"trip_ttl\"]>0]\n",
        "_ = df.nunique().sort_values()\n",
        "\n",
        "target = [\"trip_ttl\"]\n",
        "num_cols = [\"Pickup Centroid Latitude\", \"Pickup Centroid Longitude\", \"Dropoff Centroid Latitude\", \"Dropoff Centroid Longitude\", \"Trip Miles\", \"Trip Seconds\", \"Trip Start Timestamp\", \"Trip End Timestamp\"]\n",
        "cat_cols = list(set(df.columns) - set(target + num_cols))\n",
        "\n",
        "for col in num_cols:\n",
        "  df[col] = df[col].fillna(df[col].mean())\n",
        "\n",
        "df[cat_cols] = df[cat_cols].fillna(df[cat_cols].mode().iloc[0])\n",
        "\n",
        "df.sort_values([\"trip_ttl\", \"Trip Seconds\", \"Trip Miles\"], ascending=False)[[\"trip_ttl\", \"Trip Seconds\", \"Trip Miles\", \"Payment Type\"]]\n",
        "\n",
        "df = df[(df['Trip Seconds'] * df['Trip Miles']) > 0]\n",
        "\n",
        "def filter_by_modified_z_score(df, column, threshold=4.0):\n",
        "    # median and MAD (median abs deviation)\n",
        "    median = df[column].median()\n",
        "    mad = (df[column] - median).abs().median()\n",
        "    return df[(0.6745 * (df[column] - median) / mad).abs() <= threshold]\n",
        "\n",
        "df = filter_by_modified_z_score(df, \"trip_ttl\", threshold=3.5)\n",
        "_ = df.sort_values([\"trip_ttl\", \"Trip Seconds\", \"Trip Miles\"], ascending=False)[[\"trip_ttl\", \"Trip Seconds\", \"Trip Miles\"]]\n",
        "\n",
        "### Feature Extraction\n",
        "\n",
        "df['avg_speed'] = df['Trip Miles'] / (df['Trip Seconds'] / 3600)\n",
        "num_cols.append('avg_speed')\n",
        "\n",
        "df['day_of_week'] = df['Trip Start Timestamp'].dt.dayofweek\n",
        "df['hour_of_day'] = df['Trip Start Timestamp'].dt.hour\n",
        "df['month'] = df['Trip Start Timestamp'].dt.month\n",
        "df['year'] = df['Trip Start Timestamp'].dt.year\n",
        "cat_cols.extend(['day_of_week', 'hour_of_day', 'month', 'year'])\n",
        "\n",
        "# convert to timestamp seconds since epoch\n",
        "df['Trip Start Timestamp'] = df['Trip Start Timestamp'].astype(int) // 10**9\n",
        "df['Trip End Timestamp'] = df['Trip End Timestamp'].astype(int) // 10**9\n",
        "\n",
        "num_cols.extend(['Trip Start Timestamp', 'Trip End Timestamp'])\n",
        "\n",
        "for col in cat_cols:\n",
        "  df[col] = df[col].map(df.groupby(col)[\"trip_ttl\"].mean())\n",
        "\n",
        "_ = df.sort_values(\"trip_ttl\", ascending=False)\n",
        "\n",
        "df = df.replace([np.inf, -np.inf], np.nan).dropna()\n",
        "\n",
        "df = df.sample(frac=1, random_state=42).reset_index(drop=True)\n"
      ]
    },
    {
      "cell_type": "code",
      "execution_count": null,
      "metadata": {
        "id": "PeNCk5sp7i6k"
      },
      "outputs": [],
      "source": [
        "def xgb_params_objective(trial):\n",
        "\n",
        "  xgb_params = {\n",
        "      \"device\": \"cuda\",\n",
        "      \"eval_metric\": \"mae\",\n",
        "\n",
        "      \"booster\": trial.suggest_categorical(\"booster\", [\"gbtree\", \"gblinear\", \"dart\"]),\n",
        "\n",
        "      \"n_estimators\": trial.suggest_int(\"n_estimators\", 25, 500),\n",
        "\n",
        "      \"learning_rate\": trial.suggest_float(\"learning_rate\", 0.0001, 0.9),\n",
        "\n",
        "      \"objective\": trial.suggest_categorical(\"objective\", [\"reg:squarederror\", \"reg:squaredlogerror\", \"reg:gamma\", \"reg:tweedie\"])\n",
        "  }\n",
        "\n",
        "  if xgb_params['booster'] == 'gbtree':\n",
        "      xgb_params[\"max_depth\"] = trial.suggest_int(\"max_depth\", 1, 10)\n",
        "      xgb_params[\"min_child_weight\"] = trial.suggest_int(\"min_child_weight\", 1, 10)\n",
        "      xgb_params[\"subsample\"] = trial.suggest_float(\"subsample\", 0.5, 1.0)\n",
        "      xgb_params[\"colsample_bytree\"] = trial.suggest_float(\"colsample_bytree\", 0.5, 1.0)\n",
        "\n",
        "  elif xgb_params['booster'] == 'gblinear':\n",
        "      xgb_params[\"alpha\"] = trial.suggest_float(\"alpha\", 0, 1)\n",
        "      xgb_params[\"lambda\"] = trial.suggest_float(\"lambda\", 0, 1)\n",
        "      xgb_params[\"feature_selector\"] = trial.suggest_categorical(\"feature_selector\", [\"cyclic\", \"shuffle\"])\n",
        "\n",
        "  elif xgb_params['booster'] == 'dart':\n",
        "      xgb_params[\"sample_type\"] = trial.suggest_categorical(\"sample_type\", [\"uniform\", \"weighted\"])\n",
        "      xgb_params[\"normalize_type\"] = trial.suggest_categorical(\"normalize_type\", [\"tree\", \"forest\"])\n",
        "      xgb_params[\"rate_drop\"] = trial.suggest_float(\"rate_drop\", 0.0, 1.0)\n",
        "      xgb_params[\"skip_drop\"] = trial.suggest_float(\"skip_drop\", 0.0, 1.0)\n",
        "\n",
        "  return xgb_params"
      ]
    },
    {
      "cell_type": "code",
      "execution_count": null,
      "metadata": {
        "id": "G8EeWhJW4fG3"
      },
      "outputs": [],
      "source": [
        "def objective(trial):\n",
        "\n",
        "  xgb_params = xgb_params_objective(trial)\n",
        "\n",
        "  xgb_auto_tune_fold_results = {\"avg\": [], \"mse\": [], \"rmse\": [], \"mae\": [], \"r2\": [], \"max_err\": []}\n",
        "\n",
        "  X = df.drop(columns=[\"trip_ttl\"])\n",
        "  y = df[\"trip_ttl\"]\n",
        "\n",
        "  for fold, (train_index, test_index) in enumerate(KFold(n_splits=5, shuffle=True, random_state=42).split(df)):\n",
        "\n",
        "    X_train, X_test = X.iloc[train_index], X.iloc[test_index]\n",
        "    y_train, y_test = y.iloc[train_index], y.iloc[test_index]\n",
        "\n",
        "    # train\n",
        "    xgb_model = xgb.XGBRegressor(**xgb_params)\n",
        "\n",
        "    start = time()\n",
        "    xgb_model.fit(X_train, y_train)\n",
        "    fit_time = time() - start\n",
        "    trial.set_user_attr(\"fit_time\", fit_time)\n",
        "\n",
        "    y_pred = xgb_model.predict(X_test)\n",
        "    xgb_auto_tune_fold_results[\"avg\"].append(y_pred.mean())\n",
        "\n",
        "    # metrics\n",
        "    mse = ((y_test - y_pred) ** 2).mean()\n",
        "    xgb_auto_tune_fold_results[\"mse\"].append(mse)\n",
        "\n",
        "    xgb_auto_tune_fold_results[\"rmse\"].append(mse ** 0.5)\n",
        "\n",
        "    xgb_auto_tune_fold_results[\"mae\"].append((y_test - y_pred).abs().mean())\n",
        "\n",
        "    ss_residual = ((y_test - y_pred) ** 2).sum()\n",
        "    ss_total = ((y_test - y_test.mean()) ** 2).sum()\n",
        "    xgb_auto_tune_fold_results[\"r2\"].append(1 - (ss_residual / ss_total))\n",
        "\n",
        "    xgb_auto_tune_fold_results[\"max_err\"].append((y_test - y_pred).abs().max())\n",
        "\n",
        "  xgb_auto_tune_fold_results_df = pd.DataFrame(xgb_auto_tune_fold_results)\n",
        "  xgb_auto_tune_results_df = pd.DataFrame({'model': 'xgb_auto_tune',\n",
        "                                           **xgb_auto_tune_fold_results_df.drop(columns=['max_err']).mean(),\n",
        "                                           'max_err': xgb_auto_tune_fold_results_df['max_err'].max()}, index=[0])\n",
        "\n",
        "\n",
        "  return xgb_auto_tune_fold_results_df[\"mae\"].mean()"
      ]
    },
    {
      "cell_type": "code",
      "execution_count": null,
      "metadata": {
        "id": "TA3uCfH86QUv",
        "outputId": "e3fbce54-3a66-4a1f-9e3b-18c5de4e7886"
      },
      "outputs": [
        {
          "name": "stderr",
          "output_type": "stream",
          "text": [
            "[I 2025-02-03 17:12:50,845] A new study created in memory with name: no-name-041ec309-216e-4095-8039-daf0ad2268e0\n"
          ]
        }
      ],
      "source": [
        "study = optuna.create_study(direction=\"minimize\")"
      ]
    },
    {
      "cell_type": "code",
      "execution_count": null,
      "metadata": {
        "id": "aVVTRQam6TEw",
        "outputId": "b86954b7-1e9c-4a70-9300-96cbecfce198"
      },
      "outputs": [
        {
          "name": "stdout",
          "output_type": "stream",
          "text": [
            "Mon Feb  3 05:12:52 PM EST 2025\n"
          ]
        },
        {
          "name": "stderr",
          "output_type": "stream",
          "text": [
            "[I 2025-02-03 17:12:55,634] Trial 0 finished with value: 0.7064640736026536 and parameters: {'booster': 'gbtree', 'n_estimators': 169, 'learning_rate': 0.10356891544683523, 'objective': 'reg:gamma', 'max_depth': 5, 'min_child_weight': 2, 'subsample': 0.705000876057238, 'colsample_bytree': 0.6540427430040263}. Best is trial 0 with value: 0.7064640736026536.\n",
            "[I 2025-02-03 17:13:07,023] Trial 1 finished with value: 0.7130671593044855 and parameters: {'booster': 'gbtree', 'n_estimators': 493, 'learning_rate': 0.6805445729422043, 'objective': 'reg:squaredlogerror', 'max_depth': 10, 'min_child_weight': 5, 'subsample': 0.9391656684648917, 'colsample_bytree': 0.5648661103058342}. Best is trial 0 with value: 0.7064640736026536.\n"
          ]
        },
        {
          "name": "stdout",
          "output_type": "stream",
          "text": [
            "Mon Feb  3 05:13:07 PM EST 2025\n"
          ]
        }
      ],
      "source": [
        "!date\n",
        "study.optimize(objective, timeout=10)\n",
        "!date"
      ]
    },
    {
      "cell_type": "code",
      "execution_count": null,
      "metadata": {
        "id": "hSdN7EMvvNPO",
        "outputId": "3e5eae44-8bca-44f0-927f-5ef5e52e392e"
      },
      "outputs": [
        {
          "name": "stdout",
          "output_type": "stream",
          "text": [
            "Mon Feb  3 05:13:07 PM EST 2025\n"
          ]
        },
        {
          "name": "stderr",
          "output_type": "stream",
          "text": [
            "[I 2025-02-03 17:13:12,967] Trial 2 finished with value: 0.6919382026298602 and parameters: {'booster': 'gbtree', 'n_estimators': 366, 'learning_rate': 0.10916462343447754, 'objective': 'reg:gamma', 'max_depth': 6, 'min_child_weight': 7, 'subsample': 0.7709121575535591, 'colsample_bytree': 0.7835041787397603}. Best is trial 2 with value: 0.6919382026298602.\n",
            "[I 2025-02-03 17:13:16,861] Trial 3 finished with value: 0.6941748858560286 and parameters: {'booster': 'gbtree', 'n_estimators': 86, 'learning_rate': 0.3263622966507713, 'objective': 'reg:squaredlogerror', 'max_depth': 10, 'min_child_weight': 4, 'subsample': 0.8980998708231533, 'colsample_bytree': 0.8186203782279455}. Best is trial 2 with value: 0.6919382026298602.\n",
            "[I 2025-02-03 17:14:07,517] Trial 4 finished with value: inf and parameters: {'booster': 'gblinear', 'n_estimators': 210, 'learning_rate': 0.10006859124716823, 'objective': 'reg:gamma', 'alpha': 0.5280859355606613, 'lambda': 0.7463699857662175, 'feature_selector': 'cyclic'}. Best is trial 2 with value: 0.6919382026298602.\n"
          ]
        },
        {
          "name": "stdout",
          "output_type": "stream",
          "text": [
            "Mon Feb  3 05:14:07 PM EST 2025\n"
          ]
        }
      ],
      "source": [
        "!date\n",
        "study.optimize(objective, timeout=10)\n",
        "!date"
      ]
    },
    {
      "cell_type": "code",
      "execution_count": null,
      "metadata": {
        "id": "v_aHLqwD6zua",
        "outputId": "1deb01c8-3c4f-43c9-cf3d-d4333a961c65"
      },
      "outputs": [
        {
          "name": "stdout",
          "output_type": "stream",
          "text": [
            "Mon Feb  3 05:38:07 PM EST 2025\n"
          ]
        },
        {
          "name": "stderr",
          "output_type": "stream",
          "text": [
            "[I 2025-02-03 17:39:20,146] Trial 10 finished with value: 699.8120219703021 and parameters: {'booster': 'gblinear', 'n_estimators': 40, 'learning_rate': 0.24964788640527552, 'objective': 'reg:tweedie', 'alpha': 0.6914781052586318, 'lambda': 0.7812559099426765, 'feature_selector': 'shuffle'}. Best is trial 2 with value: 0.6919382026298602.\n",
            "[I 2025-02-03 17:39:28,165] Trial 17 finished with value: 0.9199419450805543 and parameters: {'booster': 'gbtree', 'n_estimators': 145, 'learning_rate': 0.08571501047500611, 'objective': 'reg:squaredlogerror', 'max_depth': 1, 'min_child_weight': 1, 'subsample': 0.9065252399590654, 'colsample_bytree': 0.7603686045997842}. Best is trial 2 with value: 0.6919382026298602.\n",
            "[I 2025-02-03 17:39:34,414] Trial 9 finished with value: 0.7272505640206393 and parameters: {'booster': 'gbtree', 'n_estimators': 113, 'learning_rate': 0.8246914046357524, 'objective': 'reg:squarederror', 'max_depth': 5, 'min_child_weight': 4, 'subsample': 0.8374381740010212, 'colsample_bytree': 0.7976869283376178}. Best is trial 2 with value: 0.6919382026298602.\n",
            "[I 2025-02-03 17:39:37,579] Trial 18 finished with value: 3.7243615287169005 and parameters: {'booster': 'gblinear', 'n_estimators': 127, 'learning_rate': 0.3339796177286107, 'objective': 'reg:squaredlogerror', 'alpha': 0.7763071877574172, 'lambda': 0.28912739175067204, 'feature_selector': 'cyclic'}. Best is trial 2 with value: 0.6919382026298602.\n",
            "[I 2025-02-03 17:39:41,056] Trial 5 finished with value: inf and parameters: {'booster': 'gblinear', 'n_estimators': 144, 'learning_rate': 0.38732603396682, 'objective': 'reg:tweedie', 'alpha': 0.905858523581151, 'lambda': 0.5309480542226056, 'feature_selector': 'shuffle'}. Best is trial 2 with value: 0.6919382026298602.\n",
            "[I 2025-02-03 17:39:46,745] Trial 8 finished with value: 0.7237024615826462 and parameters: {'booster': 'gbtree', 'n_estimators': 197, 'learning_rate': 0.7527653277633731, 'objective': 'reg:tweedie', 'max_depth': 4, 'min_child_weight': 3, 'subsample': 0.6653844263389125, 'colsample_bytree': 0.9153119820908755}. Best is trial 2 with value: 0.6919382026298602.\n",
            "[I 2025-02-03 17:39:59,619] Trial 14 finished with value: 1.7651160514192654 and parameters: {'booster': 'gblinear', 'n_estimators': 240, 'learning_rate': 0.11049345834298116, 'objective': 'reg:squarederror', 'alpha': 0.024809018088830626, 'lambda': 0.37440232865522993, 'feature_selector': 'shuffle'}. Best is trial 2 with value: 0.6919382026298602.\n",
            "[W 2025-02-03 17:40:07,557] Trial 7 failed with parameters: {'booster': 'gblinear', 'n_estimators': 359, 'learning_rate': 0.8911684812932369, 'objective': 'reg:gamma', 'alpha': 0.008084434462520385, 'lambda': 0.7209851059177601, 'feature_selector': 'shuffle'} because of the following error: The value nan is not acceptable.\n",
            "[W 2025-02-03 17:40:07,558] Trial 7 failed with value nan.\n",
            "[I 2025-02-03 17:40:12,309] Trial 19 finished with value: 0.7063034423987604 and parameters: {'booster': 'gbtree', 'n_estimators': 448, 'learning_rate': 0.45504988549006653, 'objective': 'reg:squaredlogerror', 'max_depth': 4, 'min_child_weight': 4, 'subsample': 0.622601177106846, 'colsample_bytree': 0.7582994576397786}. Best is trial 2 with value: 0.6919382026298602.\n",
            "[I 2025-02-03 17:40:22,668] Trial 13 finished with value: 0.7046972508856948 and parameters: {'booster': 'gbtree', 'n_estimators': 407, 'learning_rate': 0.6333939982344489, 'objective': 'reg:squaredlogerror', 'max_depth': 8, 'min_child_weight': 7, 'subsample': 0.5709724762853149, 'colsample_bytree': 0.8370281436681093}. Best is trial 2 with value: 0.6919382026298602.\n",
            "[I 2025-02-03 17:40:32,014] Trial 12 finished with value: 3.702773008369875 and parameters: {'booster': 'dart', 'n_estimators': 99, 'learning_rate': 0.3619736669742828, 'objective': 'reg:squaredlogerror', 'sample_type': 'uniform', 'normalize_type': 'forest', 'rate_drop': 0.7718085552163577, 'skip_drop': 0.637712564597168}. Best is trial 2 with value: 0.6919382026298602.\n",
            "[I 2025-02-03 17:40:32,759] Trial 6 finished with value: 10.072722640723162 and parameters: {'booster': 'gblinear', 'n_estimators': 500, 'learning_rate': 0.7689614780479365, 'objective': 'reg:squaredlogerror', 'alpha': 0.018588232548463313, 'lambda': 0.16223268573508265, 'feature_selector': 'shuffle'}. Best is trial 2 with value: 0.6919382026298602.\n",
            "[I 2025-02-03 17:42:10,336] Trial 11 finished with value: 0.7321116799990499 and parameters: {'booster': 'dart', 'n_estimators': 284, 'learning_rate': 0.40701844718863206, 'objective': 'reg:tweedie', 'sample_type': 'weighted', 'normalize_type': 'tree', 'rate_drop': 0.8369240801592358, 'skip_drop': 0.05673249287084914}. Best is trial 2 with value: 0.6919382026298602.\n",
            "[I 2025-02-03 17:42:27,147] Trial 15 finished with value: 0.6910789674957154 and parameters: {'booster': 'dart', 'n_estimators': 287, 'learning_rate': 0.5582777468330469, 'objective': 'reg:gamma', 'sample_type': 'weighted', 'normalize_type': 'tree', 'rate_drop': 0.5642368162878955, 'skip_drop': 0.4281614719676906}. Best is trial 15 with value: 0.6910789674957154.\n",
            "[I 2025-02-03 17:43:07,607] Trial 20 finished with value: 1.1722781872920334 and parameters: {'booster': 'dart', 'n_estimators': 398, 'learning_rate': 0.6944948890003699, 'objective': 'reg:gamma', 'sample_type': 'uniform', 'normalize_type': 'forest', 'rate_drop': 0.5616680021524626, 'skip_drop': 0.4584443193332258}. Best is trial 15 with value: 0.6910789674957154.\n",
            "[I 2025-02-03 17:43:46,950] Trial 16 finished with value: 4.3951158777785935 and parameters: {'booster': 'dart', 'n_estimators': 477, 'learning_rate': 0.39287231945060347, 'objective': 'reg:squaredlogerror', 'sample_type': 'weighted', 'normalize_type': 'forest', 'rate_drop': 0.34616383299176345, 'skip_drop': 0.38395346592640134}. Best is trial 15 with value: 0.6910789674957154.\n",
            "[I 2025-02-03 18:24:28,808] Trial 33 finished with value: 0.695612351005894 and parameters: {'booster': 'dart', 'n_estimators': 299, 'learning_rate': 0.5325195226422853, 'objective': 'reg:gamma', 'sample_type': 'weighted', 'normalize_type': 'tree', 'rate_drop': 0.1763607208410104, 'skip_drop': 0.9612460879505439}. Best is trial 15 with value: 0.6910789674957154.\n",
            "[I 2025-02-03 18:24:43,377] Trial 22 finished with value: 0.6955903786180215 and parameters: {'booster': 'dart', 'n_estimators': 299, 'learning_rate': 0.5379117528537913, 'objective': 'reg:gamma', 'sample_type': 'weighted', 'normalize_type': 'tree', 'rate_drop': 0.0578821706776218, 'skip_drop': 0.9429595782508048}. Best is trial 15 with value: 0.6910789674957154.\n",
            "[I 2025-02-03 18:25:20,452] Trial 34 finished with value: 0.6950636468578704 and parameters: {'booster': 'dart', 'n_estimators': 302, 'learning_rate': 0.49041254063639916, 'objective': 'reg:gamma', 'sample_type': 'weighted', 'normalize_type': 'tree', 'rate_drop': 0.1199741988535018, 'skip_drop': 0.9747288460639085}. Best is trial 15 with value: 0.6910789674957154.\n",
            "[I 2025-02-03 18:26:04,396] Trial 23 finished with value: 0.6961139626184555 and parameters: {'booster': 'dart', 'n_estimators': 305, 'learning_rate': 0.5562872514438142, 'objective': 'reg:gamma', 'sample_type': 'weighted', 'normalize_type': 'tree', 'rate_drop': 0.037002587116666374, 'skip_drop': 0.8457911253055755}. Best is trial 15 with value: 0.6910789674957154.\n",
            "[I 2025-02-03 18:26:47,032] Trial 35 finished with value: 0.6964512652763438 and parameters: {'booster': 'dart', 'n_estimators': 308, 'learning_rate': 0.5356516036150698, 'objective': 'reg:gamma', 'sample_type': 'weighted', 'normalize_type': 'tree', 'rate_drop': 0.05521170578775114, 'skip_drop': 0.9799739125422855}. Best is trial 15 with value: 0.6910789674957154.\n",
            "[I 2025-02-03 18:26:58,390] Trial 36 finished with value: 0.6970486594590729 and parameters: {'booster': 'dart', 'n_estimators': 309, 'learning_rate': 0.5356559978588241, 'objective': 'reg:gamma', 'sample_type': 'weighted', 'normalize_type': 'tree', 'rate_drop': 0.07732783138311794, 'skip_drop': 0.986764012963669}. Best is trial 15 with value: 0.6910789674957154.\n",
            "[I 2025-02-03 18:27:04,674] Trial 31 finished with value: 0.6936539347139521 and parameters: {'booster': 'dart', 'n_estimators': 313, 'learning_rate': 0.5297225703223263, 'objective': 'reg:gamma', 'sample_type': 'weighted', 'normalize_type': 'tree', 'rate_drop': 0.13138092491109055, 'skip_drop': 0.8828298114725646}. Best is trial 15 with value: 0.6910789674957154.\n",
            "[I 2025-02-03 18:27:16,658] Trial 24 finished with value: 0.6971600520520727 and parameters: {'booster': 'dart', 'n_estimators': 312, 'learning_rate': 0.5451175000722482, 'objective': 'reg:gamma', 'sample_type': 'weighted', 'normalize_type': 'tree', 'rate_drop': 0.10002817594351188, 'skip_drop': 0.9373078448197885}. Best is trial 15 with value: 0.6910789674957154.\n",
            "[I 2025-02-03 18:27:38,668] Trial 26 finished with value: 0.6975733382711221 and parameters: {'booster': 'dart', 'n_estimators': 315, 'learning_rate': 0.5701767446666317, 'objective': 'reg:gamma', 'sample_type': 'weighted', 'normalize_type': 'tree', 'rate_drop': 0.12672562952968341, 'skip_drop': 0.9736077183333754}. Best is trial 15 with value: 0.6910789674957154.\n",
            "[I 2025-02-03 18:27:51,283] Trial 32 finished with value: 0.6984769066133673 and parameters: {'booster': 'dart', 'n_estimators': 316, 'learning_rate': 0.5652506271592965, 'objective': 'reg:gamma', 'sample_type': 'weighted', 'normalize_type': 'tree', 'rate_drop': 0.032191214743818364, 'skip_drop': 0.9968084897805226}. Best is trial 15 with value: 0.6910789674957154.\n",
            "[I 2025-02-03 18:27:58,500] Trial 25 finished with value: 0.6978051619854169 and parameters: {'booster': 'dart', 'n_estimators': 318, 'learning_rate': 0.542854782729399, 'objective': 'reg:gamma', 'sample_type': 'weighted', 'normalize_type': 'tree', 'rate_drop': 0.02241345155800012, 'skip_drop': 0.9879650636997631}. Best is trial 15 with value: 0.6910789674957154.\n",
            "[I 2025-02-03 18:28:00,052] Trial 29 finished with value: 0.6948932855480408 and parameters: {'booster': 'dart', 'n_estimators': 320, 'learning_rate': 0.5322754732222659, 'objective': 'reg:gamma', 'sample_type': 'weighted', 'normalize_type': 'tree', 'rate_drop': 0.054162211994359666, 'skip_drop': 0.8492876986577945}. Best is trial 15 with value: 0.6910789674957154.\n",
            "[I 2025-02-03 18:28:01,633] Trial 27 finished with value: 0.6987015018786071 and parameters: {'booster': 'dart', 'n_estimators': 320, 'learning_rate': 0.5682937406967095, 'objective': 'reg:gamma', 'sample_type': 'weighted', 'normalize_type': 'tree', 'rate_drop': 0.039913490241912264, 'skip_drop': 0.9858056867182786}. Best is trial 15 with value: 0.6910789674957154.\n",
            "[I 2025-02-03 18:28:01,723] Trial 30 finished with value: 0.6965740659681356 and parameters: {'booster': 'dart', 'n_estimators': 320, 'learning_rate': 0.5250037706655011, 'objective': 'reg:gamma', 'sample_type': 'weighted', 'normalize_type': 'tree', 'rate_drop': 0.018299762333315872, 'skip_drop': 0.9868423513009341}. Best is trial 15 with value: 0.6910789674957154.\n",
            "[I 2025-02-03 18:28:06,011] Trial 28 finished with value: 0.6981792781125835 and parameters: {'booster': 'dart', 'n_estimators': 328, 'learning_rate': 0.5503677453340216, 'objective': 'reg:gamma', 'sample_type': 'weighted', 'normalize_type': 'tree', 'rate_drop': 0.006871388953406554, 'skip_drop': 0.9830799700301134}. Best is trial 15 with value: 0.6910789674957154.\n",
            "[I 2025-02-03 18:28:06,913] Trial 21 finished with value: 0.6977928130915281 and parameters: {'booster': 'dart', 'n_estimators': 331, 'learning_rate': 0.5405346968706062, 'objective': 'reg:gamma', 'sample_type': 'weighted', 'normalize_type': 'tree', 'rate_drop': 0.01666437652519215, 'skip_drop': 0.9991397632109322}. Best is trial 15 with value: 0.6910789674957154.\n",
            "[I 2025-02-03 18:30:23,095] Trial 48 finished with value: 1.0772450791951276 and parameters: {'booster': 'gbtree', 'n_estimators': 254, 'learning_rate': 0.0061203859186830245, 'objective': 'reg:squarederror', 'max_depth': 8, 'min_child_weight': 10, 'subsample': 0.8036807504525608, 'colsample_bytree': 0.9687426261744853}. Best is trial 15 with value: 0.6910789674957154.\n",
            "[I 2025-02-03 18:30:36,175] Trial 44 finished with value: 0.6883640261117553 and parameters: {'booster': 'gbtree', 'n_estimators': 360, 'learning_rate': 0.1709778617205689, 'objective': 'reg:squarederror', 'max_depth': 8, 'min_child_weight': 10, 'subsample': 0.8066182774380033, 'colsample_bytree': 0.9805547330985604}. Best is trial 44 with value: 0.6883640261117553.\n",
            "[I 2025-02-03 18:30:38,631] Trial 37 finished with value: 0.6889389661616608 and parameters: {'booster': 'gbtree', 'n_estimators': 365, 'learning_rate': 0.18556734668064712, 'objective': 'reg:squarederror', 'max_depth': 8, 'min_child_weight': 9, 'subsample': 0.8303908847460305, 'colsample_bytree': 0.9083980401013365}. Best is trial 44 with value: 0.6883640261117553.\n",
            "[I 2025-02-03 18:30:38,991] Trial 42 finished with value: 0.6930449174145764 and parameters: {'booster': 'gbtree', 'n_estimators': 361, 'learning_rate': 0.24588767862555855, 'objective': 'reg:squarederror', 'max_depth': 8, 'min_child_weight': 10, 'subsample': 0.79822636384461, 'colsample_bytree': 0.9771846887639273}. Best is trial 44 with value: 0.6883640261117553.\n",
            "[I 2025-02-03 18:30:39,093] Trial 45 finished with value: 0.6886944201660687 and parameters: {'booster': 'gbtree', 'n_estimators': 365, 'learning_rate': 0.17547369838272048, 'objective': 'reg:squarederror', 'max_depth': 8, 'min_child_weight': 10, 'subsample': 0.793770886455416, 'colsample_bytree': 0.9971738416445135}. Best is trial 44 with value: 0.6883640261117553.\n",
            "[I 2025-02-03 18:30:39,583] Trial 50 finished with value: 0.6897780119194994 and parameters: {'booster': 'gbtree', 'n_estimators': 362, 'learning_rate': 0.19506975285353756, 'objective': 'reg:squarederror', 'max_depth': 8, 'min_child_weight': 9, 'subsample': 0.8009070919178225, 'colsample_bytree': 0.9952297252223636}. Best is trial 44 with value: 0.6883640261117553.\n",
            "[I 2025-02-03 18:30:40,514] Trial 49 finished with value: 0.6896886141851135 and parameters: {'booster': 'gbtree', 'n_estimators': 372, 'learning_rate': 0.18839254669123212, 'objective': 'reg:squarederror', 'max_depth': 8, 'min_child_weight': 10, 'subsample': 0.7974534084085961, 'colsample_bytree': 0.993936845609239}. Best is trial 44 with value: 0.6883640261117553.\n",
            "[I 2025-02-03 18:30:41,142] Trial 51 finished with value: 0.6892133159670559 and parameters: {'booster': 'gbtree', 'n_estimators': 366, 'learning_rate': 0.1856826084175395, 'objective': 'reg:squarederror', 'max_depth': 8, 'min_child_weight': 8, 'subsample': 0.7987063090411815, 'colsample_bytree': 0.9978946263155741}. Best is trial 44 with value: 0.6883640261117553.\n",
            "[I 2025-02-03 18:30:42,137] Trial 40 finished with value: 0.6929232524866175 and parameters: {'booster': 'gbtree', 'n_estimators': 384, 'learning_rate': 0.23661183490336013, 'objective': 'reg:squarederror', 'max_depth': 8, 'min_child_weight': 10, 'subsample': 0.803456309488598, 'colsample_bytree': 0.9590849489187859}. Best is trial 44 with value: 0.6883640261117553.\n",
            "[I 2025-02-03 18:30:48,017] Trial 47 finished with value: 0.6971845332788597 and parameters: {'booster': 'gbtree', 'n_estimators': 373, 'learning_rate': 0.018237267772607924, 'objective': 'reg:squarederror', 'max_depth': 8, 'min_child_weight': 9, 'subsample': 0.8245264082989588, 'colsample_bytree': 0.9918332838091047}. Best is trial 44 with value: 0.6883640261117553.\n",
            "[I 2025-02-03 18:30:48,237] Trial 41 finished with value: 1.6920698854694127 and parameters: {'booster': 'gbtree', 'n_estimators': 364, 'learning_rate': 0.0022440842352925428, 'objective': 'reg:squarederror', 'max_depth': 8, 'min_child_weight': 10, 'subsample': 0.803495060441345, 'colsample_bytree': 0.9557237596064965}. Best is trial 44 with value: 0.6883640261117553.\n",
            "[I 2025-02-03 18:30:48,918] Trial 39 finished with value: 0.7534286300154915 and parameters: {'booster': 'gbtree', 'n_estimators': 371, 'learning_rate': 0.008551583807510477, 'objective': 'reg:squarederror', 'max_depth': 8, 'min_child_weight': 10, 'subsample': 0.7967973302924982, 'colsample_bytree': 0.9999570484731941}. Best is trial 44 with value: 0.6883640261117553.\n",
            "[I 2025-02-03 18:30:49,096] Trial 38 finished with value: 0.9290273300572724 and parameters: {'booster': 'gbtree', 'n_estimators': 374, 'learning_rate': 0.005203166567959314, 'objective': 'reg:squarederror', 'max_depth': 8, 'min_child_weight': 10, 'subsample': 0.8046170462228863, 'colsample_bytree': 0.9484338103088958}. Best is trial 44 with value: 0.6883640261117553.\n",
            "[I 2025-02-03 18:30:49,597] Trial 43 finished with value: 0.8546181516842777 and parameters: {'booster': 'gbtree', 'n_estimators': 374, 'learning_rate': 0.006035626701502983, 'objective': 'reg:squarederror', 'max_depth': 8, 'min_child_weight': 10, 'subsample': 0.8020870719373534, 'colsample_bytree': 0.9408202077923706}. Best is trial 44 with value: 0.6883640261117553.\n",
            "[I 2025-02-03 18:30:49,792] Trial 52 finished with value: 1.7216999058645595 and parameters: {'booster': 'gbtree', 'n_estimators': 382, 'learning_rate': 0.002077341318677234, 'objective': 'reg:squarederror', 'max_depth': 8, 'min_child_weight': 10, 'subsample': 0.8006771917604267, 'colsample_bytree': 0.9931419389021703}. Best is trial 44 with value: 0.6883640261117553.\n",
            "[I 2025-02-03 18:30:51,119] Trial 46 finished with value: 0.6892311294092911 and parameters: {'booster': 'gbtree', 'n_estimators': 363, 'learning_rate': 0.17101261091037756, 'objective': 'reg:squarederror', 'max_depth': 9, 'min_child_weight': 10, 'subsample': 0.8033348327929246, 'colsample_bytree': 0.9854153542924252}. Best is trial 44 with value: 0.6883640261117553.\n",
            "[I 2025-02-03 18:34:43,968] Trial 64 finished with value: 0.6889906899443544 and parameters: {'booster': 'gbtree', 'n_estimators': 406, 'learning_rate': 0.1507353668336477, 'objective': 'reg:squarederror', 'max_depth': 9, 'min_child_weight': 8, 'subsample': 0.7366854611336915, 'colsample_bytree': 0.8930051178000453}. Best is trial 44 with value: 0.6883640261117553.\n",
            "[I 2025-02-03 18:34:50,186] Trial 63 finished with value: 0.6905303854341577 and parameters: {'booster': 'gbtree', 'n_estimators': 417, 'learning_rate': 0.16462347083612888, 'objective': 'reg:squarederror', 'max_depth': 9, 'min_child_weight': 8, 'subsample': 0.7308419309595213, 'colsample_bytree': 0.8966707626316848}. Best is trial 44 with value: 0.6883640261117553.\n",
            "[I 2025-02-03 18:34:51,511] Trial 68 finished with value: 0.6900518231307593 and parameters: {'booster': 'gbtree', 'n_estimators': 417, 'learning_rate': 0.1767799144865015, 'objective': 'reg:squarederror', 'max_depth': 9, 'min_child_weight': 8, 'subsample': 0.8680080393141766, 'colsample_bytree': 0.9026462174626709}. Best is trial 44 with value: 0.6883640261117553.\n",
            "[I 2025-02-03 18:34:52,542] Trial 59 finished with value: 0.6907869657196446 and parameters: {'booster': 'gbtree', 'n_estimators': 430, 'learning_rate': 0.16741098449160097, 'objective': 'reg:squarederror', 'max_depth': 9, 'min_child_weight': 9, 'subsample': 0.7294334312523516, 'colsample_bytree': 0.8954721422193123}. Best is trial 44 with value: 0.6883640261117553.\n",
            "[I 2025-02-03 18:34:52,910] Trial 54 finished with value: 0.6904385911114861 and parameters: {'booster': 'gbtree', 'n_estimators': 429, 'learning_rate': 0.1628527564868408, 'objective': 'reg:squarederror', 'max_depth': 9, 'min_child_weight': 8, 'subsample': 0.7294908059763955, 'colsample_bytree': 0.8941755256483279}. Best is trial 44 with value: 0.6883640261117553.\n",
            "[I 2025-02-03 18:34:53,539] Trial 66 finished with value: 0.690659487325084 and parameters: {'booster': 'gbtree', 'n_estimators': 422, 'learning_rate': 0.16594493402832158, 'objective': 'reg:squarederror', 'max_depth': 9, 'min_child_weight': 8, 'subsample': 0.7330329079726123, 'colsample_bytree': 0.8783044876119356}. Best is trial 44 with value: 0.6883640261117553.\n",
            "[I 2025-02-03 18:34:53,620] Trial 60 finished with value: 0.6903542534603065 and parameters: {'booster': 'gbtree', 'n_estimators': 421, 'learning_rate': 0.16278946819066886, 'objective': 'reg:squarederror', 'max_depth': 9, 'min_child_weight': 8, 'subsample': 0.7337108337857599, 'colsample_bytree': 0.8731086472503451}. Best is trial 44 with value: 0.6883640261117553.\n",
            "[I 2025-02-03 18:34:53,781] Trial 62 finished with value: 0.6895421077967085 and parameters: {'booster': 'gbtree', 'n_estimators': 423, 'learning_rate': 0.1554384352456636, 'objective': 'reg:squarederror', 'max_depth': 9, 'min_child_weight': 8, 'subsample': 0.7350584956776378, 'colsample_bytree': 0.8882770715657202}. Best is trial 44 with value: 0.6883640261117553.\n",
            "[I 2025-02-03 18:34:53,795] Trial 67 finished with value: 0.6905513357226591 and parameters: {'booster': 'gbtree', 'n_estimators': 420, 'learning_rate': 0.16525599578838768, 'objective': 'reg:squarederror', 'max_depth': 9, 'min_child_weight': 8, 'subsample': 0.7290199411142689, 'colsample_bytree': 0.8999197880237848}. Best is trial 44 with value: 0.6883640261117553.\n",
            "[I 2025-02-03 18:34:54,104] Trial 56 finished with value: 0.6902115329102355 and parameters: {'booster': 'gbtree', 'n_estimators': 428, 'learning_rate': 0.16238973396136494, 'objective': 'reg:squarederror', 'max_depth': 9, 'min_child_weight': 8, 'subsample': 0.7335463632905467, 'colsample_bytree': 0.8959528721692633}. Best is trial 44 with value: 0.6883640261117553.\n",
            "[I 2025-02-03 18:34:54,507] Trial 58 finished with value: 0.6903110052222747 and parameters: {'booster': 'gbtree', 'n_estimators': 429, 'learning_rate': 0.16189431037865906, 'objective': 'reg:squarederror', 'max_depth': 9, 'min_child_weight': 8, 'subsample': 0.7263876895983549, 'colsample_bytree': 0.878107887366188}. Best is trial 44 with value: 0.6883640261117553.\n",
            "[I 2025-02-03 18:34:54,528] Trial 65 finished with value: 0.6906919854276545 and parameters: {'booster': 'gbtree', 'n_estimators': 427, 'learning_rate': 0.16438489640824983, 'objective': 'reg:squarederror', 'max_depth': 9, 'min_child_weight': 8, 'subsample': 0.7233307754060866, 'colsample_bytree': 0.8888215729389871}. Best is trial 44 with value: 0.6883640261117553.\n",
            "[I 2025-02-03 18:34:54,896] Trial 55 finished with value: 0.6899212146562279 and parameters: {'booster': 'gbtree', 'n_estimators': 438, 'learning_rate': 0.1561497525678091, 'objective': 'reg:squarederror', 'max_depth': 9, 'min_child_weight': 8, 'subsample': 0.728154054242054, 'colsample_bytree': 0.8921815453265559}. Best is trial 44 with value: 0.6883640261117553.\n",
            "[I 2025-02-03 18:34:54,909] Trial 53 finished with value: 0.6892741051972588 and parameters: {'booster': 'gbtree', 'n_estimators': 431, 'learning_rate': 0.1683349941643642, 'objective': 'reg:squarederror', 'max_depth': 9, 'min_child_weight': 8, 'subsample': 0.8686543444798707, 'colsample_bytree': 0.8848665730866363}. Best is trial 44 with value: 0.6883640261117553.\n",
            "[I 2025-02-03 18:34:55,105] Trial 61 finished with value: 0.6911262560277441 and parameters: {'booster': 'gbtree', 'n_estimators': 442, 'learning_rate': 0.16801685552015302, 'objective': 'reg:squarederror', 'max_depth': 9, 'min_child_weight': 8, 'subsample': 0.725714434461371, 'colsample_bytree': 0.8977966722771585}. Best is trial 44 with value: 0.6883640261117553.\n",
            "[I 2025-02-03 18:34:55,263] Trial 57 finished with value: 0.6906254146282789 and parameters: {'booster': 'gbtree', 'n_estimators': 447, 'learning_rate': 0.16279995726113677, 'objective': 'reg:squarederror', 'max_depth': 9, 'min_child_weight': 8, 'subsample': 0.7352665709929418, 'colsample_bytree': 0.8874742455051472}. Best is trial 44 with value: 0.6883640261117553.\n",
            "[I 2025-02-03 18:42:16,406] Trial 69 finished with value: 500.40127196462026 and parameters: {'booster': 'gblinear', 'n_estimators': 346, 'learning_rate': 0.07730911102476933, 'objective': 'reg:tweedie', 'alpha': 0.37795266777444625, 'lambda': 0.931603009986726, 'feature_selector': 'cyclic'}. Best is trial 44 with value: 0.6883640261117553.\n",
            "[I 2025-02-03 18:42:34,346] Trial 74 finished with value: 628.7313250793136 and parameters: {'booster': 'gblinear', 'n_estimators': 345, 'learning_rate': 0.0895246055570235, 'objective': 'reg:tweedie', 'alpha': 0.2968852962074662, 'lambda': 0.014353760196013088, 'feature_selector': 'cyclic'}. Best is trial 44 with value: 0.6883640261117553.\n",
            "[I 2025-02-03 18:42:39,337] Trial 80 finished with value: 602.3136100839689 and parameters: {'booster': 'gblinear', 'n_estimators': 342, 'learning_rate': 0.10495277679611936, 'objective': 'reg:tweedie', 'alpha': 0.2776653247370169, 'lambda': 0.9774530646309451, 'feature_selector': 'cyclic'}. Best is trial 44 with value: 0.6883640261117553.\n",
            "[I 2025-02-03 18:42:39,791] Trial 71 finished with value: 672.0802001713754 and parameters: {'booster': 'gblinear', 'n_estimators': 345, 'learning_rate': 0.062346796623095196, 'objective': 'reg:tweedie', 'alpha': 0.31510278465440444, 'lambda': 0.0245581328873824, 'feature_selector': 'cyclic'}. Best is trial 44 with value: 0.6883640261117553.\n",
            "[I 2025-02-03 18:42:43,385] Trial 84 finished with value: 796.0958395400525 and parameters: {'booster': 'gblinear', 'n_estimators': 347, 'learning_rate': 0.29608553756859995, 'objective': 'reg:tweedie', 'alpha': 0.32696527609639614, 'lambda': 0.0004332014154225794, 'feature_selector': 'cyclic'}. Best is trial 44 with value: 0.6883640261117553.\n",
            "[I 2025-02-03 18:43:00,011] Trial 76 finished with value: 513.1204334101756 and parameters: {'booster': 'gblinear', 'n_estimators': 343, 'learning_rate': 0.2838403470362522, 'objective': 'reg:tweedie', 'alpha': 0.3031832075770423, 'lambda': 0.01596935977232472, 'feature_selector': 'cyclic'}. Best is trial 44 with value: 0.6883640261117553.\n",
            "[I 2025-02-03 18:43:00,108] Trial 72 finished with value: 2.568098449943093 and parameters: {'booster': 'gblinear', 'n_estimators': 347, 'learning_rate': 0.29760117007568404, 'objective': 'reg:tweedie', 'alpha': 0.3038618720702243, 'lambda': 0.9479987875685005, 'feature_selector': 'cyclic'}. Best is trial 44 with value: 0.6883640261117553.\n",
            "[I 2025-02-03 18:43:03,700] Trial 78 finished with value: 2.538051844719621 and parameters: {'booster': 'gblinear', 'n_estimators': 343, 'learning_rate': 0.2957291584597388, 'objective': 'reg:tweedie', 'alpha': 0.32105468558936184, 'lambda': 0.009420665704100162, 'feature_selector': 'cyclic'}. Best is trial 44 with value: 0.6883640261117553.\n",
            "[I 2025-02-03 18:43:04,192] Trial 77 finished with value: 663.1650357870438 and parameters: {'booster': 'gblinear', 'n_estimators': 347, 'learning_rate': 0.2903453321304151, 'objective': 'reg:tweedie', 'alpha': 0.2654344668521141, 'lambda': 0.9905204491297088, 'feature_selector': 'cyclic'}. Best is trial 44 with value: 0.6883640261117553.\n",
            "[I 2025-02-03 18:43:11,329] Trial 75 finished with value: 631.1903248900034 and parameters: {'booster': 'gblinear', 'n_estimators': 342, 'learning_rate': 0.295847110480761, 'objective': 'reg:tweedie', 'alpha': 0.3119703959887082, 'lambda': 0.0010003164341634285, 'feature_selector': 'cyclic'}. Best is trial 44 with value: 0.6883640261117553.\n",
            "[I 2025-02-03 18:43:14,086] Trial 83 finished with value: 5.758458929608167 and parameters: {'booster': 'gblinear', 'n_estimators': 344, 'learning_rate': 0.2965997827223119, 'objective': 'reg:squaredlogerror', 'alpha': 0.29953550269391105, 'lambda': 0.0033887672786433454, 'feature_selector': 'cyclic'}. Best is trial 44 with value: 0.6883640261117553.\n",
            "[I 2025-02-03 18:43:21,970] Trial 82 finished with value: 511.22106278722083 and parameters: {'booster': 'gblinear', 'n_estimators': 345, 'learning_rate': 0.3029472965506503, 'objective': 'reg:tweedie', 'alpha': 0.2858477163396012, 'lambda': 0.9907549906620374, 'feature_selector': 'cyclic'}. Best is trial 44 with value: 0.6883640261117553.\n",
            "[I 2025-02-03 18:43:28,685] Trial 79 finished with value: 634.8760849542697 and parameters: {'booster': 'gblinear', 'n_estimators': 476, 'learning_rate': 0.07420765575323325, 'objective': 'reg:tweedie', 'alpha': 0.2767976139662358, 'lambda': 0.019154845684491217, 'feature_selector': 'cyclic'}. Best is trial 44 with value: 0.6883640261117553.\n",
            "[I 2025-02-03 18:43:29,803] Trial 73 finished with value: 678.8029774796877 and parameters: {'booster': 'gblinear', 'n_estimators': 488, 'learning_rate': 0.06542443335623399, 'objective': 'reg:tweedie', 'alpha': 0.25999721867394615, 'lambda': 0.04215576758140149, 'feature_selector': 'cyclic'}. Best is trial 44 with value: 0.6883640261117553.\n",
            "[I 2025-02-03 18:43:41,394] Trial 70 finished with value: 2.7962517847544603 and parameters: {'booster': 'gblinear', 'n_estimators': 468, 'learning_rate': 0.30258829067626497, 'objective': 'reg:tweedie', 'alpha': 0.28008332252388163, 'lambda': 0.003975022662230598, 'feature_selector': 'cyclic'}. Best is trial 44 with value: 0.6883640261117553.\n",
            "[I 2025-02-03 18:43:43,178] Trial 81 finished with value: 2.533850510963804 and parameters: {'booster': 'gblinear', 'n_estimators': 470, 'learning_rate': 0.2939643010226415, 'objective': 'reg:tweedie', 'alpha': 0.2525953584572153, 'lambda': 0.968711117460381, 'feature_selector': 'cyclic'}. Best is trial 44 with value: 0.6883640261117553.\n",
            "[I 2025-02-03 18:45:53,851] Trial 92 finished with value: 0.6910393305530756 and parameters: {'booster': 'gbtree', 'n_estimators': 389, 'learning_rate': 0.21148806646927626, 'objective': 'reg:squarederror', 'max_depth': 7, 'min_child_weight': 9, 'subsample': 0.7664336680969696, 'colsample_bytree': 0.9264771209773214}. Best is trial 44 with value: 0.6883640261117553.\n",
            "[I 2025-02-03 18:45:56,109] Trial 88 finished with value: 0.6953104416859712 and parameters: {'booster': 'gbtree', 'n_estimators': 398, 'learning_rate': 0.21561230039506807, 'objective': 'reg:squarederror', 'max_depth': 7, 'min_child_weight': 9, 'subsample': 0.7658028042893176, 'colsample_bytree': 0.6862241295231358}. Best is trial 44 with value: 0.6883640261117553.\n",
            "[I 2025-02-03 18:45:56,348] Trial 96 finished with value: 0.6955274911896225 and parameters: {'booster': 'gbtree', 'n_estimators': 394, 'learning_rate': 0.214736924380111, 'objective': 'reg:squarederror', 'max_depth': 7, 'min_child_weight': 9, 'subsample': 0.7684936767239042, 'colsample_bytree': 0.6557371344040032}. Best is trial 44 with value: 0.6883640261117553.\n",
            "[I 2025-02-03 18:45:56,405] Trial 86 finished with value: 0.6941112514687424 and parameters: {'booster': 'gbtree', 'n_estimators': 396, 'learning_rate': 0.20670678744303933, 'objective': 'reg:squarederror', 'max_depth': 7, 'min_child_weight': 9, 'subsample': 0.8506497515842707, 'colsample_bytree': 0.6245649351804847}. Best is trial 44 with value: 0.6883640261117553.\n",
            "[I 2025-02-03 18:45:57,097] Trial 89 finished with value: 0.6947267898811311 and parameters: {'booster': 'gbtree', 'n_estimators': 396, 'learning_rate': 0.2068173796357163, 'objective': 'reg:squarederror', 'max_depth': 7, 'min_child_weight': 9, 'subsample': 0.7669364363625943, 'colsample_bytree': 0.7027218538325566}. Best is trial 44 with value: 0.6883640261117553.\n",
            "[I 2025-02-03 18:45:57,984] Trial 87 finished with value: 0.6948971031821332 and parameters: {'booster': 'gbtree', 'n_estimators': 395, 'learning_rate': 0.21840001124608918, 'objective': 'reg:squarederror', 'max_depth': 7, 'min_child_weight': 9, 'subsample': 0.8590197713925035, 'colsample_bytree': 0.5753961554824517}. Best is trial 44 with value: 0.6883640261117553.\n",
            "[I 2025-02-03 18:45:58,514] Trial 100 finished with value: 0.6950056741663642 and parameters: {'booster': 'gbtree', 'n_estimators': 390, 'learning_rate': 0.21360246159158244, 'objective': 'reg:squarederror', 'max_depth': 7, 'min_child_weight': 9, 'subsample': 0.7685660914346574, 'colsample_bytree': 0.711701689466387}. Best is trial 44 with value: 0.6883640261117553.\n",
            "[I 2025-02-03 18:45:58,606] Trial 90 finished with value: 0.6877074880437718 and parameters: {'booster': 'gbtree', 'n_estimators': 400, 'learning_rate': 0.12725657263062318, 'objective': 'reg:squarederror', 'max_depth': 7, 'min_child_weight': 9, 'subsample': 0.7669199999386465, 'colsample_bytree': 0.933412556946007}. Best is trial 90 with value: 0.6877074880437718.\n",
            "[I 2025-02-03 18:45:58,968] Trial 91 finished with value: 0.6910164009456613 and parameters: {'booster': 'gbtree', 'n_estimators': 398, 'learning_rate': 0.21308029100587075, 'objective': 'reg:squarederror', 'max_depth': 7, 'min_child_weight': 9, 'subsample': 0.7694193567524639, 'colsample_bytree': 0.9283837659736871}. Best is trial 90 with value: 0.6877074880437718.\n",
            "[I 2025-02-03 18:45:59,035] Trial 97 finished with value: 0.6958635634803201 and parameters: {'booster': 'gbtree', 'n_estimators': 395, 'learning_rate': 0.21611191776668284, 'objective': 'reg:squarederror', 'max_depth': 7, 'min_child_weight': 9, 'subsample': 0.7669710048823714, 'colsample_bytree': 0.6156827546775798}. Best is trial 90 with value: 0.6877074880437718.\n",
            "[I 2025-02-03 18:45:59,099] Trial 93 finished with value: 0.6954604168401296 and parameters: {'booster': 'gbtree', 'n_estimators': 397, 'learning_rate': 0.21461417290003365, 'objective': 'reg:squarederror', 'max_depth': 7, 'min_child_weight': 9, 'subsample': 0.7714713295236351, 'colsample_bytree': 0.605955846073919}. Best is trial 90 with value: 0.6877074880437718.\n",
            "[I 2025-02-03 18:45:59,153] Trial 99 finished with value: 0.693791426249672 and parameters: {'booster': 'gbtree', 'n_estimators': 396, 'learning_rate': 0.2010128657226039, 'objective': 'reg:squarederror', 'max_depth': 7, 'min_child_weight': 9, 'subsample': 0.8409870582106937, 'colsample_bytree': 0.6608860348061236}. Best is trial 90 with value: 0.6877074880437718.\n",
            "[I 2025-02-03 18:45:59,226] Trial 98 finished with value: 0.6907186077071095 and parameters: {'booster': 'gbtree', 'n_estimators': 403, 'learning_rate': 0.12204916629178343, 'objective': 'reg:squarederror', 'max_depth': 7, 'min_child_weight': 9, 'subsample': 0.7671245673270549, 'colsample_bytree': 0.7042082211647447}. Best is trial 90 with value: 0.6877074880437718.\n",
            "[I 2025-02-03 18:45:59,289] Trial 85 finished with value: 0.6903961404814349 and parameters: {'booster': 'gbtree', 'n_estimators': 403, 'learning_rate': 0.21736925716494282, 'objective': 'reg:squarederror', 'max_depth': 7, 'min_child_weight': 9, 'subsample': 0.8536553740747019, 'colsample_bytree': 0.9375304490253616}. Best is trial 90 with value: 0.6877074880437718.\n",
            "[I 2025-02-03 18:46:15,664] Trial 95 finished with value: 0.7038029595956208 and parameters: {'booster': 'gbtree', 'n_estimators': 390, 'learning_rate': 0.21230358403416624, 'objective': 'reg:squarederror', 'max_depth': 10, 'min_child_weight': 9, 'subsample': 0.767568810329416, 'colsample_bytree': 0.6999144835814001}. Best is trial 90 with value: 0.6877074880437718.\n",
            "[I 2025-02-03 18:46:15,781] Trial 94 finished with value: 0.6941460316062009 and parameters: {'booster': 'gbtree', 'n_estimators': 399, 'learning_rate': 0.1273054463975804, 'objective': 'reg:squarederror', 'max_depth': 10, 'min_child_weight': 9, 'subsample': 0.8522396648248655, 'colsample_bytree': 0.5061394424094079}. Best is trial 90 with value: 0.6877074880437718.\n"
          ]
        },
        {
          "name": "stdout",
          "output_type": "stream",
          "text": [
            "Mon Feb  3 06:46:15 PM EST 2025\n"
          ]
        }
      ],
      "source": [
        "!date\n",
        "for i in range(6):\n",
        "    study.optimize(objective, timeout=10, n_jobs=16)\n",
        "!date"
      ]
    },
    {
      "cell_type": "code",
      "execution_count": null,
      "metadata": {
        "id": "-iwq93as6zua"
      },
      "outputs": [],
      "source": []
    }
  ],
  "metadata": {
    "accelerator": "GPU",
    "colab": {
      "gpuType": "A100",
      "provenance": [],
      "include_colab_link": true
    },
    "kernelspec": {
      "display_name": "Python 3 (ipykernel)",
      "language": "python",
      "name": "python3"
    },
    "language_info": {
      "codemirror_mode": {
        "name": "ipython",
        "version": 3
      },
      "file_extension": ".py",
      "mimetype": "text/x-python",
      "name": "python",
      "nbconvert_exporter": "python",
      "pygments_lexer": "ipython3",
      "version": "3.12.3"
    }
  },
  "nbformat": 4,
  "nbformat_minor": 0
}