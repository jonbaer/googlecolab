{
  "nbformat": 4,
  "nbformat_minor": 0,
  "metadata": {
    "colab": {
      "name": "Saving Models in Google Drive.ipynb",
      "provenance": [],
      "collapsed_sections": [],
      "include_colab_link": true
    },
    "kernelspec": {
      "name": "python3",
      "display_name": "Python 3"
    }
  },
  "cells": [
    {
      "cell_type": "markdown",
      "metadata": {
        "id": "view-in-github",
        "colab_type": "text"
      },
      "source": [
        "<a href=\"https://colab.research.google.com/github/jonbaer/googlecolab/blob/master/Saving_Models_in_Google_Drive.ipynb\" target=\"_parent\"><img src=\"https://colab.research.google.com/assets/colab-badge.svg\" alt=\"Open In Colab\"/></a>"
      ]
    },
    {
      "cell_type": "markdown",
      "metadata": {
        "id": "Curt-jACDElg",
        "colab_type": "text"
      },
      "source": [
        "# How to save models in Google Drive\n",
        "\n",
        "I spent lot of time figuring out how to save the model in Google Drive and then move to Udacity's workspace. After bit of research, I found this super easy way to move files from Google Colab to Udacity's server.\n",
        "\n",
        "Visit this blog post for more detailed instructions - https://medium.com/@ml_kid/how-to-move-our-model-from-google-colab-to-udacitys-workspace-final-lab-project-88e1a0b7d6ab\n",
        "\n",
        "If you need any help or have any feedback, feel free to contact me on Slack. My username is `avinashss`"
      ]
    },
    {
      "cell_type": "code",
      "metadata": {
        "id": "Om8MeL_SDMDV",
        "colab_type": "code",
        "colab": {}
      },
      "source": [
        "# google colab does not come with torch installed. And also, in course we are using torch 0.4. \n",
        "# so following snippet of code installs the relevant version\n",
        "\n",
        "from os.path import exists\n",
        "from wheel.pep425tags import get_abbr_impl, get_impl_ver, get_abi_tag\n",
        "platform = '{}{}-{}'.format(get_abbr_impl(), get_impl_ver(), get_abi_tag())\n",
        "cuda_output = !ldconfig -p|grep cudart.so|sed -e 's/.*\\.\\([0-9]*\\)\\.\\([0-9]*\\)$/cu\\1\\2/'\n",
        "accelerator = cuda_output[0] if exists('/dev/nvidia0') else 'cpu'\n",
        "\n",
        "!pip install -q http://download.pytorch.org/whl/{accelerator}/torch-0.4.1-{platform}-linux_x86_64.whl torchvision"
      ],
      "execution_count": null,
      "outputs": []
    },
    {
      "cell_type": "code",
      "metadata": {
        "id": "3RBSK0HDED8l",
        "colab_type": "code",
        "colab": {}
      },
      "source": [
        "import torch\n",
        "from torchvision import datasets, models, transforms"
      ],
      "execution_count": null,
      "outputs": []
    },
    {
      "cell_type": "markdown",
      "metadata": {
        "id": "btZZ3O7LDtLt",
        "colab_type": "text"
      },
      "source": [
        "First we will create a model and learn how to save it. In this tutorial, I will download a resnet model and try to save it to Google Drive. Of course this is not trained and so you should write the training code!"
      ]
    },
    {
      "cell_type": "code",
      "metadata": {
        "id": "F89hgQbuDxt3",
        "colab_type": "code",
        "colab": {
          "base_uri": "https://localhost:8080/",
          "height": 51
        },
        "outputId": "17640fd9-92e6-4ae6-a81a-ec3e137b9aa0"
      },
      "source": [
        "model = models.resnet152(pretrained=True)\n",
        "for param in model.parameters():\n",
        "    param.requires_grad = False"
      ],
      "execution_count": null,
      "outputs": [
        {
          "output_type": "stream",
          "text": [
            "Downloading: \"https://download.pytorch.org/models/resnet152-b121ed2d.pth\" to /root/.torch/models/resnet152-b121ed2d.pth\n",
            "100%|██████████| 241530880/241530880 [00:10<00:00, 23178499.96it/s]\n"
          ],
          "name": "stderr"
        }
      ]
    },
    {
      "cell_type": "markdown",
      "metadata": {
        "id": "cRi881DDEUdl",
        "colab_type": "text"
      },
      "source": [
        "Our model is ready! Now we will save it to Google Drive. For that, first we will mount the drive"
      ]
    },
    {
      "cell_type": "code",
      "metadata": {
        "id": "T_tDc-oMEY22",
        "colab_type": "code",
        "colab": {}
      },
      "source": [
        "from google.colab import drive\n",
        "drive.mount('/content/gdrive')"
      ],
      "execution_count": null,
      "outputs": []
    },
    {
      "cell_type": "markdown",
      "metadata": {
        "id": "Skj9lZcHElrm",
        "colab_type": "text"
      },
      "source": [
        "Now the drive is mounted. You should able to see your drive in sidebar, under Files tab. \n",
        "\n",
        "Next, we will try to save our model to the Google Drive. \n",
        "\n",
        "Notice that our drive is mounted under path `/content/gdrive/My Drive`. So we need to save our model at the same location. "
      ]
    },
    {
      "cell_type": "code",
      "metadata": {
        "id": "0bLRwiCEEkms",
        "colab_type": "code",
        "colab": {}
      },
      "source": [
        "model_save_name = 'classifier.pt'\n",
        "path = F\"/content/gdrive/My Drive/{model_save_name}\" \n",
        "torch.save(model.state_dict(), path)"
      ],
      "execution_count": null,
      "outputs": []
    },
    {
      "cell_type": "markdown",
      "metadata": {
        "id": "LEww4EL0FX-V",
        "colab_type": "text"
      },
      "source": [
        "Now, if you visit your google drive at https://drive.google.com/drive/my-drive you will be able to see `classifier.pt` file saved!"
      ]
    },
    {
      "cell_type": "markdown",
      "metadata": {
        "id": "B7M4xmflG_O7",
        "colab_type": "text"
      },
      "source": [
        "# Moving the model file to Udacity"
      ]
    },
    {
      "cell_type": "markdown",
      "metadata": {
        "id": "JEPK1QhjHHO9",
        "colab_type": "text"
      },
      "source": [
        "Now right click on this file in Google Drive and get the shareable link. It will look something like `https://drive.google.com/open?id=1HPuJ4U2rjz95UdZ2N8496jTiZQ5O3pg1`\n",
        "\n",
        "Notice the id part. My file id is `1HPuJ4U2rjz95UdZ2N8496jTiZQ5O3pg1`"
      ]
    },
    {
      "cell_type": "markdown",
      "metadata": {
        "id": "0ARdk_XZGDX3",
        "colab_type": "text"
      },
      "source": [
        "Now, for the next part, **we need run the code in Udacity's workspace** and download this file. For this we need to install a module called `gdown` and using that we need to download the file"
      ]
    },
    {
      "cell_type": "code",
      "metadata": {
        "id": "VrrAOuC_F4aW",
        "colab_type": "code",
        "colab": {
          "base_uri": "https://localhost:8080/",
          "height": 292
        },
        "outputId": "e01a3b8f-54e4-4900-9b91-0dd92db706e5"
      },
      "source": [
        "!pip install gdown==3.6.0"
      ],
      "execution_count": null,
      "outputs": [
        {
          "output_type": "stream",
          "text": [
            "Collecting gdown==3.6.0\n",
            "  Downloading https://files.pythonhosted.org/packages/12/33/e9f21d0b3f85804ca570d124fb7a80c12a99948ff495cf54dfb72f18bf9e/gdown-3.6.0.tar.gz\n",
            "Requirement already satisfied: requests in /usr/local/lib/python3.6/dist-packages (from gdown==3.6.0) (2.18.4)\n",
            "Requirement already satisfied: six in /usr/local/lib/python3.6/dist-packages (from gdown==3.6.0) (1.11.0)\n",
            "Requirement already satisfied: tqdm in /usr/local/lib/python3.6/dist-packages (from gdown==3.6.0) (4.28.1)\n",
            "Requirement already satisfied: urllib3<1.23,>=1.21.1 in /usr/local/lib/python3.6/dist-packages (from requests->gdown==3.6.0) (1.22)\n",
            "Requirement already satisfied: idna<2.7,>=2.5 in /usr/local/lib/python3.6/dist-packages (from requests->gdown==3.6.0) (2.6)\n",
            "Requirement already satisfied: chardet<3.1.0,>=3.0.2 in /usr/local/lib/python3.6/dist-packages (from requests->gdown==3.6.0) (3.0.4)\n",
            "Requirement already satisfied: certifi>=2017.4.17 in /usr/local/lib/python3.6/dist-packages (from requests->gdown==3.6.0) (2018.11.29)\n",
            "Building wheels for collected packages: gdown\n",
            "  Running setup.py bdist_wheel for gdown ... \u001b[?25l-\b \bdone\n",
            "\u001b[?25h  Stored in directory: /root/.cache/pip/wheels/97/90/fa/25654eb65da3e6da7752db71a164e0eb8f7a6fb4335eeb46ab\n",
            "Successfully built gdown\n",
            "Installing collected packages: gdown\n",
            "Successfully installed gdown-3.6.0\n"
          ],
          "name": "stdout"
        }
      ]
    },
    {
      "cell_type": "code",
      "metadata": {
        "id": "gJFzQNNvLiDl",
        "colab_type": "code",
        "colab": {}
      },
      "source": [
        "my_file_id = \"1HPuJ4U2rjz95UdZ2N8496jTiZQ5O3pg1\""
      ],
      "execution_count": null,
      "outputs": []
    },
    {
      "cell_type": "code",
      "metadata": {
        "id": "eSdy5mxYGwjM",
        "colab_type": "code",
        "colab": {
          "base_uri": "https://localhost:8080/",
          "height": 85
        },
        "outputId": "c65b1b8a-b390-4379-f713-d68f0874fc52"
      },
      "source": [
        "!gdown https://drive.google.com/uc?id={my_file_id}"
      ],
      "execution_count": null,
      "outputs": [
        {
          "output_type": "stream",
          "text": [
            "Downloading...\n",
            "From: https://drive.google.com/uc?id=1HPuJ4U2rjz95UdZ2N8496jTiZQ5O3pg1\n",
            "To: /content/classifier.pt\n",
            "242MB [00:03, 66.7MB/s]\n"
          ],
          "name": "stdout"
        }
      ]
    }
  ]
}