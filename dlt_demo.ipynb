{
  "cells": [
    {
      "cell_type": "markdown",
      "metadata": {
        "id": "view-in-github",
        "colab_type": "text"
      },
      "source": [
        "<a href=\"https://colab.research.google.com/github/jonbaer/googlecolab/blob/master/dlt_demo.ipynb\" target=\"_parent\"><img src=\"https://colab.research.google.com/assets/colab-badge.svg\" alt=\"Open In Colab\"/></a>"
      ]
    },
    {
      "cell_type": "markdown",
      "metadata": {
        "id": "GYREioraz1m6"
      },
      "source": [
        "# **[Demo] Create a `dlt` pipeline in 4 steps** 🚀\n",
        "\n",
        "---\n",
        "\n",
        "**TL;DR: create and execute a pipeline that loads data from the [PokeAPI](https://pokeapi.co/) into a [DuckDB](https://duckdb.org/) database using the `dlt` library**"
      ]
    },
    {
      "cell_type": "markdown",
      "metadata": {
        "id": "U33sg53V4xlR"
      },
      "source": [
        "## 1 **Install `dlt`**"
      ]
    },
    {
      "cell_type": "code",
      "execution_count": null,
      "metadata": {
        "id": "GSfjew3L5Efg"
      },
      "outputs": [],
      "source": [
        "%%capture\n",
        "!pip install \"dlt[duckdb]\" # Install dlt with all the necessary DuckDB dependencies"
      ]
    },
    {
      "cell_type": "code",
      "execution_count": null,
      "metadata": {
        "colab": {
          "base_uri": "https://localhost:8080/"
        },
        "id": "t5FVypQXvr2t",
        "outputId": "c126b7bc-f1cf-4767-84d2-edf47eb81182"
      },
      "outputs": [
        {
          "output_type": "stream",
          "name": "stdout",
          "text": [
            "\u001b[39mdlt 1.6.1\u001b[0m\n"
          ]
        }
      ],
      "source": [
        "!dlt --version"
      ]
    },
    {
      "cell_type": "markdown",
      "metadata": {
        "id": "1wf1R0yQh7pv"
      },
      "source": [
        "## 2 **Import `dlt` and initialize the pipeline**"
      ]
    },
    {
      "cell_type": "code",
      "execution_count": null,
      "metadata": {
        "id": "A3NRS0y38alk"
      },
      "outputs": [],
      "source": [
        "import dlt\n",
        "\n",
        "pipeline = dlt.pipeline(pipeline_name=\"pokemon_pipeline\", destination=\"duckdb\", dataset_name=\"pokemon_data_1\")"
      ]
    },
    {
      "cell_type": "markdown",
      "metadata": {
        "id": "JgbaVBwZaYuF"
      },
      "source": [
        "## 3 **Get data from the source**\n",
        "\n",
        "We load the list of pokemons data using url."
      ]
    },
    {
      "cell_type": "code",
      "execution_count": null,
      "metadata": {
        "id": "M5CWr_eZGfps"
      },
      "outputs": [],
      "source": [
        "from dlt.sources.helpers import requests\n",
        "\n",
        "POKEMON_URL = \"https://pokeapi.co/api/v2/pokemon/\"\n",
        "\n",
        "data = requests.get(POKEMON_URL).json()[\"results\"]"
      ]
    },
    {
      "cell_type": "code",
      "execution_count": null,
      "metadata": {
        "colab": {
          "base_uri": "https://localhost:8080/"
        },
        "id": "HVlNbFKHwiRt",
        "outputId": "5fb2ed4a-4308-4347-f7f0-3a20f37fcf37"
      },
      "outputs": [
        {
          "output_type": "execute_result",
          "data": {
            "text/plain": [
              "[{'name': 'bulbasaur', 'url': 'https://pokeapi.co/api/v2/pokemon/1/'},\n",
              " {'name': 'ivysaur', 'url': 'https://pokeapi.co/api/v2/pokemon/2/'},\n",
              " {'name': 'venusaur', 'url': 'https://pokeapi.co/api/v2/pokemon/3/'},\n",
              " {'name': 'charmander', 'url': 'https://pokeapi.co/api/v2/pokemon/4/'},\n",
              " {'name': 'charmeleon', 'url': 'https://pokeapi.co/api/v2/pokemon/5/'},\n",
              " {'name': 'charizard', 'url': 'https://pokeapi.co/api/v2/pokemon/6/'},\n",
              " {'name': 'squirtle', 'url': 'https://pokeapi.co/api/v2/pokemon/7/'},\n",
              " {'name': 'wartortle', 'url': 'https://pokeapi.co/api/v2/pokemon/8/'},\n",
              " {'name': 'blastoise', 'url': 'https://pokeapi.co/api/v2/pokemon/9/'},\n",
              " {'name': 'caterpie', 'url': 'https://pokeapi.co/api/v2/pokemon/10/'},\n",
              " {'name': 'metapod', 'url': 'https://pokeapi.co/api/v2/pokemon/11/'},\n",
              " {'name': 'butterfree', 'url': 'https://pokeapi.co/api/v2/pokemon/12/'},\n",
              " {'name': 'weedle', 'url': 'https://pokeapi.co/api/v2/pokemon/13/'},\n",
              " {'name': 'kakuna', 'url': 'https://pokeapi.co/api/v2/pokemon/14/'},\n",
              " {'name': 'beedrill', 'url': 'https://pokeapi.co/api/v2/pokemon/15/'},\n",
              " {'name': 'pidgey', 'url': 'https://pokeapi.co/api/v2/pokemon/16/'},\n",
              " {'name': 'pidgeotto', 'url': 'https://pokeapi.co/api/v2/pokemon/17/'},\n",
              " {'name': 'pidgeot', 'url': 'https://pokeapi.co/api/v2/pokemon/18/'},\n",
              " {'name': 'rattata', 'url': 'https://pokeapi.co/api/v2/pokemon/19/'},\n",
              " {'name': 'raticate', 'url': 'https://pokeapi.co/api/v2/pokemon/20/'}]"
            ]
          },
          "metadata": {},
          "execution_count": 5
        }
      ],
      "source": [
        "data"
      ]
    },
    {
      "cell_type": "markdown",
      "metadata": {
        "id": "D-3RP79kugz3"
      },
      "source": [
        "## 4 **Run the pipeline**"
      ]
    },
    {
      "cell_type": "code",
      "execution_count": null,
      "metadata": {
        "colab": {
          "base_uri": "https://localhost:8080/"
        },
        "id": "CoVzXSF5sInX",
        "outputId": "e1eac9df-3f2e-4381-e48c-3019cc2c8803"
      },
      "outputs": [
        {
          "output_type": "stream",
          "name": "stdout",
          "text": [
            "Pipeline pokemon_pipeline load step completed in 0.52 seconds\n",
            "1 load package(s) were loaded to destination duckdb and into dataset pokemon_data_1\n",
            "The duckdb destination used duckdb:////content/pokemon_pipeline.duckdb location to store data\n",
            "Load package 1739877945.4241936 is LOADED and contains no failed jobs\n"
          ]
        }
      ],
      "source": [
        "# Normalize and load the data onto the locally created duckdb database 'pokemon_pipeline.duckdb'\n",
        "load_info = pipeline.run(data, table_name='pokemon')\n",
        "print(load_info)"
      ]
    },
    {
      "cell_type": "markdown",
      "metadata": {
        "id": "4QBtnFC_3o6F"
      },
      "source": [
        "## 🎉 **Finish!** 🎉"
      ]
    },
    {
      "cell_type": "markdown",
      "metadata": {
        "id": "DT2DTGZiyJ8g"
      },
      "source": [
        "## **Bonus: Query the loaded data** 🦆\n",
        "\n",
        "To access the loaded data, connect to the DuckDB database using the Python DuckDB connector"
      ]
    },
    {
      "cell_type": "code",
      "execution_count": null,
      "metadata": {
        "colab": {
          "base_uri": "https://localhost:8080/",
          "height": 305
        },
        "id": "ki1Fjk6_sTd5",
        "outputId": "c77bf979-9358-4fb3-b064-fa1ebee402ce"
      },
      "outputs": [
        {
          "output_type": "display_data",
          "data": {
            "text/plain": [
              "┌──────────────────┬────────────────┬─────────────────────┬──────────────────────────────────────────────────────────────────────────────────────────────────┬─────────────────────────────────────────────────────────────────────────────────────────┬───────────┐\n",
              "│     database     │     schema     │        name         │                                           column_names                                           │                                      column_types                                       │ temporary │\n",
              "│     varchar      │    varchar     │       varchar       │                                            varchar[]                                             │                                        varchar[]                                        │  boolean  │\n",
              "├──────────────────┼────────────────┼─────────────────────┼──────────────────────────────────────────────────────────────────────────────────────────────────┼─────────────────────────────────────────────────────────────────────────────────────────┼───────────┤\n",
              "│ pokemon_pipeline │ pokemon_data_1 │ _dlt_loads          │ [load_id, schema_name, status, inserted_at, schema_version_hash]                                 │ [VARCHAR, VARCHAR, BIGINT, TIMESTAMP WITH TIME ZONE, VARCHAR]                           │ false     │\n",
              "│ pokemon_pipeline │ pokemon_data_1 │ _dlt_pipeline_state │ [version, engine_version, pipeline_name, state, created_at, version_hash, _dlt_load_id, _dlt_id] │ [BIGINT, BIGINT, VARCHAR, VARCHAR, TIMESTAMP WITH TIME ZONE, VARCHAR, VARCHAR, VARCHAR] │ false     │\n",
              "│ pokemon_pipeline │ pokemon_data_1 │ _dlt_version        │ [version, engine_version, inserted_at, schema_name, version_hash, schema]                        │ [BIGINT, BIGINT, TIMESTAMP WITH TIME ZONE, VARCHAR, VARCHAR, VARCHAR]                   │ false     │\n",
              "│ pokemon_pipeline │ pokemon_data_1 │ pokemon             │ [name, url, _dlt_load_id, _dlt_id]                                                               │ [VARCHAR, VARCHAR, VARCHAR, VARCHAR]                                                    │ false     │\n",
              "└──────────────────┴────────────────┴─────────────────────┴──────────────────────────────────────────────────────────────────────────────────────────────────┴─────────────────────────────────────────────────────────────────────────────────────────┴───────────┘"
            ]
          },
          "metadata": {}
        }
      ],
      "source": [
        "import duckdb\n",
        "from google.colab import data_table\n",
        "data_table.enable_dataframe_formatter()\n",
        "\n",
        "# a database 'chess_pipeline.duckdb' was created in working directory so just connect to it\n",
        "conn = duckdb.connect(f\"{pipeline.pipeline_name}.duckdb\")\n",
        "\n",
        "# list all tables\n",
        "display(conn.sql(\"DESCRIBE\"))"
      ]
    },
    {
      "cell_type": "code",
      "execution_count": null,
      "metadata": {
        "colab": {
          "base_uri": "https://localhost:8080/",
          "height": 552
        },
        "id": "zRM6PrbY7y9m",
        "outputId": "3b8bdba9-3953-4b09-e529-b2c0368a6b8c"
      },
      "outputs": [
        {
          "output_type": "display_data",
          "data": {
            "text/plain": [
              "          name                                    url        _dlt_load_id  \\\n",
              "0    bulbasaur   https://pokeapi.co/api/v2/pokemon/1/  1739877945.4241936   \n",
              "1      ivysaur   https://pokeapi.co/api/v2/pokemon/2/  1739877945.4241936   \n",
              "2     venusaur   https://pokeapi.co/api/v2/pokemon/3/  1739877945.4241936   \n",
              "3   charmander   https://pokeapi.co/api/v2/pokemon/4/  1739877945.4241936   \n",
              "4   charmeleon   https://pokeapi.co/api/v2/pokemon/5/  1739877945.4241936   \n",
              "5    charizard   https://pokeapi.co/api/v2/pokemon/6/  1739877945.4241936   \n",
              "6     squirtle   https://pokeapi.co/api/v2/pokemon/7/  1739877945.4241936   \n",
              "7    wartortle   https://pokeapi.co/api/v2/pokemon/8/  1739877945.4241936   \n",
              "8    blastoise   https://pokeapi.co/api/v2/pokemon/9/  1739877945.4241936   \n",
              "9     caterpie  https://pokeapi.co/api/v2/pokemon/10/  1739877945.4241936   \n",
              "10     metapod  https://pokeapi.co/api/v2/pokemon/11/  1739877945.4241936   \n",
              "11  butterfree  https://pokeapi.co/api/v2/pokemon/12/  1739877945.4241936   \n",
              "12      weedle  https://pokeapi.co/api/v2/pokemon/13/  1739877945.4241936   \n",
              "13      kakuna  https://pokeapi.co/api/v2/pokemon/14/  1739877945.4241936   \n",
              "14    beedrill  https://pokeapi.co/api/v2/pokemon/15/  1739877945.4241936   \n",
              "15      pidgey  https://pokeapi.co/api/v2/pokemon/16/  1739877945.4241936   \n",
              "16   pidgeotto  https://pokeapi.co/api/v2/pokemon/17/  1739877945.4241936   \n",
              "17     pidgeot  https://pokeapi.co/api/v2/pokemon/18/  1739877945.4241936   \n",
              "18     rattata  https://pokeapi.co/api/v2/pokemon/19/  1739877945.4241936   \n",
              "19    raticate  https://pokeapi.co/api/v2/pokemon/20/  1739877945.4241936   \n",
              "\n",
              "           _dlt_id  \n",
              "0   j34nNVuAwwQEhg  \n",
              "1   4EVxpehlvLv6OQ  \n",
              "2   cAlCqEwMNpBw5g  \n",
              "3   zUCA5WSU9qpPbw  \n",
              "4   1otCKB6xc6ZuIQ  \n",
              "5   kqWXgFLJgdHxLA  \n",
              "6   Jz0iPGXsvIYtyQ  \n",
              "7   i7uqazQhJ+IXCQ  \n",
              "8   iVSmZgyGVO2/5w  \n",
              "9   L6cHyPeeKRFHpA  \n",
              "10  TajwnvofGQefCA  \n",
              "11  nVOFsI0UQ5MXCQ  \n",
              "12  KG8s+yivpyc7OQ  \n",
              "13  7oMYkDhQ9cDDSg  \n",
              "14  q9VMXAp+CU/esQ  \n",
              "15  g+fHXnApvRE8jw  \n",
              "16  rgxJqFPiqeXnUQ  \n",
              "17  +Uzx3A3d0MRcZw  \n",
              "18  I4VXifsuNGnmOQ  \n",
              "19  jRm8HWcBO6QcXg  "
            ],
            "text/html": [
              "\n",
              "  <div id=\"df-cad75506-4326-4c7b-ae24-8bcf0e477142\" class=\"colab-df-container\">\n",
              "    <div>\n",
              "<style scoped>\n",
              "    .dataframe tbody tr th:only-of-type {\n",
              "        vertical-align: middle;\n",
              "    }\n",
              "\n",
              "    .dataframe tbody tr th {\n",
              "        vertical-align: top;\n",
              "    }\n",
              "\n",
              "    .dataframe thead th {\n",
              "        text-align: right;\n",
              "    }\n",
              "</style>\n",
              "<table border=\"1\" class=\"dataframe\">\n",
              "  <thead>\n",
              "    <tr style=\"text-align: right;\">\n",
              "      <th></th>\n",
              "      <th>name</th>\n",
              "      <th>url</th>\n",
              "      <th>_dlt_load_id</th>\n",
              "      <th>_dlt_id</th>\n",
              "    </tr>\n",
              "  </thead>\n",
              "  <tbody>\n",
              "    <tr>\n",
              "      <th>0</th>\n",
              "      <td>bulbasaur</td>\n",
              "      <td>https://pokeapi.co/api/v2/pokemon/1/</td>\n",
              "      <td>1739877945.4241936</td>\n",
              "      <td>j34nNVuAwwQEhg</td>\n",
              "    </tr>\n",
              "    <tr>\n",
              "      <th>1</th>\n",
              "      <td>ivysaur</td>\n",
              "      <td>https://pokeapi.co/api/v2/pokemon/2/</td>\n",
              "      <td>1739877945.4241936</td>\n",
              "      <td>4EVxpehlvLv6OQ</td>\n",
              "    </tr>\n",
              "    <tr>\n",
              "      <th>2</th>\n",
              "      <td>venusaur</td>\n",
              "      <td>https://pokeapi.co/api/v2/pokemon/3/</td>\n",
              "      <td>1739877945.4241936</td>\n",
              "      <td>cAlCqEwMNpBw5g</td>\n",
              "    </tr>\n",
              "    <tr>\n",
              "      <th>3</th>\n",
              "      <td>charmander</td>\n",
              "      <td>https://pokeapi.co/api/v2/pokemon/4/</td>\n",
              "      <td>1739877945.4241936</td>\n",
              "      <td>zUCA5WSU9qpPbw</td>\n",
              "    </tr>\n",
              "    <tr>\n",
              "      <th>4</th>\n",
              "      <td>charmeleon</td>\n",
              "      <td>https://pokeapi.co/api/v2/pokemon/5/</td>\n",
              "      <td>1739877945.4241936</td>\n",
              "      <td>1otCKB6xc6ZuIQ</td>\n",
              "    </tr>\n",
              "    <tr>\n",
              "      <th>5</th>\n",
              "      <td>charizard</td>\n",
              "      <td>https://pokeapi.co/api/v2/pokemon/6/</td>\n",
              "      <td>1739877945.4241936</td>\n",
              "      <td>kqWXgFLJgdHxLA</td>\n",
              "    </tr>\n",
              "    <tr>\n",
              "      <th>6</th>\n",
              "      <td>squirtle</td>\n",
              "      <td>https://pokeapi.co/api/v2/pokemon/7/</td>\n",
              "      <td>1739877945.4241936</td>\n",
              "      <td>Jz0iPGXsvIYtyQ</td>\n",
              "    </tr>\n",
              "    <tr>\n",
              "      <th>7</th>\n",
              "      <td>wartortle</td>\n",
              "      <td>https://pokeapi.co/api/v2/pokemon/8/</td>\n",
              "      <td>1739877945.4241936</td>\n",
              "      <td>i7uqazQhJ+IXCQ</td>\n",
              "    </tr>\n",
              "    <tr>\n",
              "      <th>8</th>\n",
              "      <td>blastoise</td>\n",
              "      <td>https://pokeapi.co/api/v2/pokemon/9/</td>\n",
              "      <td>1739877945.4241936</td>\n",
              "      <td>iVSmZgyGVO2/5w</td>\n",
              "    </tr>\n",
              "    <tr>\n",
              "      <th>9</th>\n",
              "      <td>caterpie</td>\n",
              "      <td>https://pokeapi.co/api/v2/pokemon/10/</td>\n",
              "      <td>1739877945.4241936</td>\n",
              "      <td>L6cHyPeeKRFHpA</td>\n",
              "    </tr>\n",
              "    <tr>\n",
              "      <th>10</th>\n",
              "      <td>metapod</td>\n",
              "      <td>https://pokeapi.co/api/v2/pokemon/11/</td>\n",
              "      <td>1739877945.4241936</td>\n",
              "      <td>TajwnvofGQefCA</td>\n",
              "    </tr>\n",
              "    <tr>\n",
              "      <th>11</th>\n",
              "      <td>butterfree</td>\n",
              "      <td>https://pokeapi.co/api/v2/pokemon/12/</td>\n",
              "      <td>1739877945.4241936</td>\n",
              "      <td>nVOFsI0UQ5MXCQ</td>\n",
              "    </tr>\n",
              "    <tr>\n",
              "      <th>12</th>\n",
              "      <td>weedle</td>\n",
              "      <td>https://pokeapi.co/api/v2/pokemon/13/</td>\n",
              "      <td>1739877945.4241936</td>\n",
              "      <td>KG8s+yivpyc7OQ</td>\n",
              "    </tr>\n",
              "    <tr>\n",
              "      <th>13</th>\n",
              "      <td>kakuna</td>\n",
              "      <td>https://pokeapi.co/api/v2/pokemon/14/</td>\n",
              "      <td>1739877945.4241936</td>\n",
              "      <td>7oMYkDhQ9cDDSg</td>\n",
              "    </tr>\n",
              "    <tr>\n",
              "      <th>14</th>\n",
              "      <td>beedrill</td>\n",
              "      <td>https://pokeapi.co/api/v2/pokemon/15/</td>\n",
              "      <td>1739877945.4241936</td>\n",
              "      <td>q9VMXAp+CU/esQ</td>\n",
              "    </tr>\n",
              "    <tr>\n",
              "      <th>15</th>\n",
              "      <td>pidgey</td>\n",
              "      <td>https://pokeapi.co/api/v2/pokemon/16/</td>\n",
              "      <td>1739877945.4241936</td>\n",
              "      <td>g+fHXnApvRE8jw</td>\n",
              "    </tr>\n",
              "    <tr>\n",
              "      <th>16</th>\n",
              "      <td>pidgeotto</td>\n",
              "      <td>https://pokeapi.co/api/v2/pokemon/17/</td>\n",
              "      <td>1739877945.4241936</td>\n",
              "      <td>rgxJqFPiqeXnUQ</td>\n",
              "    </tr>\n",
              "    <tr>\n",
              "      <th>17</th>\n",
              "      <td>pidgeot</td>\n",
              "      <td>https://pokeapi.co/api/v2/pokemon/18/</td>\n",
              "      <td>1739877945.4241936</td>\n",
              "      <td>+Uzx3A3d0MRcZw</td>\n",
              "    </tr>\n",
              "    <tr>\n",
              "      <th>18</th>\n",
              "      <td>rattata</td>\n",
              "      <td>https://pokeapi.co/api/v2/pokemon/19/</td>\n",
              "      <td>1739877945.4241936</td>\n",
              "      <td>I4VXifsuNGnmOQ</td>\n",
              "    </tr>\n",
              "    <tr>\n",
              "      <th>19</th>\n",
              "      <td>raticate</td>\n",
              "      <td>https://pokeapi.co/api/v2/pokemon/20/</td>\n",
              "      <td>1739877945.4241936</td>\n",
              "      <td>jRm8HWcBO6QcXg</td>\n",
              "    </tr>\n",
              "  </tbody>\n",
              "</table>\n",
              "</div>\n",
              "    <div class=\"colab-df-buttons\">\n",
              "\n",
              "  <div class=\"colab-df-container\">\n",
              "    <button class=\"colab-df-convert\" onclick=\"convertToInteractive('df-cad75506-4326-4c7b-ae24-8bcf0e477142')\"\n",
              "            title=\"Convert this dataframe to an interactive table.\"\n",
              "            style=\"display:none;\">\n",
              "\n",
              "  <svg xmlns=\"http://www.w3.org/2000/svg\" height=\"24px\" viewBox=\"0 -960 960 960\">\n",
              "    <path d=\"M120-120v-720h720v720H120Zm60-500h600v-160H180v160Zm220 220h160v-160H400v160Zm0 220h160v-160H400v160ZM180-400h160v-160H180v160Zm440 0h160v-160H620v160ZM180-180h160v-160H180v160Zm440 0h160v-160H620v160Z\"/>\n",
              "  </svg>\n",
              "    </button>\n",
              "\n",
              "  <style>\n",
              "    .colab-df-container {\n",
              "      display:flex;\n",
              "      gap: 12px;\n",
              "    }\n",
              "\n",
              "    .colab-df-convert {\n",
              "      background-color: #E8F0FE;\n",
              "      border: none;\n",
              "      border-radius: 50%;\n",
              "      cursor: pointer;\n",
              "      display: none;\n",
              "      fill: #1967D2;\n",
              "      height: 32px;\n",
              "      padding: 0 0 0 0;\n",
              "      width: 32px;\n",
              "    }\n",
              "\n",
              "    .colab-df-convert:hover {\n",
              "      background-color: #E2EBFA;\n",
              "      box-shadow: 0px 1px 2px rgba(60, 64, 67, 0.3), 0px 1px 3px 1px rgba(60, 64, 67, 0.15);\n",
              "      fill: #174EA6;\n",
              "    }\n",
              "\n",
              "    .colab-df-buttons div {\n",
              "      margin-bottom: 4px;\n",
              "    }\n",
              "\n",
              "    [theme=dark] .colab-df-convert {\n",
              "      background-color: #3B4455;\n",
              "      fill: #D2E3FC;\n",
              "    }\n",
              "\n",
              "    [theme=dark] .colab-df-convert:hover {\n",
              "      background-color: #434B5C;\n",
              "      box-shadow: 0px 1px 3px 1px rgba(0, 0, 0, 0.15);\n",
              "      filter: drop-shadow(0px 1px 2px rgba(0, 0, 0, 0.3));\n",
              "      fill: #FFFFFF;\n",
              "    }\n",
              "  </style>\n",
              "\n",
              "    <script>\n",
              "      const buttonEl =\n",
              "        document.querySelector('#df-cad75506-4326-4c7b-ae24-8bcf0e477142 button.colab-df-convert');\n",
              "      buttonEl.style.display =\n",
              "        google.colab.kernel.accessAllowed ? 'block' : 'none';\n",
              "\n",
              "      async function convertToInteractive(key) {\n",
              "        const element = document.querySelector('#df-cad75506-4326-4c7b-ae24-8bcf0e477142');\n",
              "        const dataTable =\n",
              "          await google.colab.kernel.invokeFunction('convertToInteractive',\n",
              "                                                    [key], {});\n",
              "        if (!dataTable) return;\n",
              "\n",
              "        const docLinkHtml = 'Like what you see? Visit the ' +\n",
              "          '<a target=\"_blank\" href=https://colab.research.google.com/notebooks/data_table.ipynb>data table notebook</a>'\n",
              "          + ' to learn more about interactive tables.';\n",
              "        element.innerHTML = '';\n",
              "        dataTable['output_type'] = 'display_data';\n",
              "        await google.colab.output.renderOutput(dataTable, element);\n",
              "        const docLink = document.createElement('div');\n",
              "        docLink.innerHTML = docLinkHtml;\n",
              "        element.appendChild(docLink);\n",
              "      }\n",
              "    </script>\n",
              "  </div>\n",
              "\n",
              "\n",
              "<div id=\"df-a5f5266d-b81e-4dbb-8daf-a73f280b7764\">\n",
              "  <button class=\"colab-df-quickchart\" onclick=\"quickchart('df-a5f5266d-b81e-4dbb-8daf-a73f280b7764')\"\n",
              "            title=\"Suggest charts\"\n",
              "            style=\"display:none;\">\n",
              "\n",
              "<svg xmlns=\"http://www.w3.org/2000/svg\" height=\"24px\"viewBox=\"0 0 24 24\"\n",
              "     width=\"24px\">\n",
              "    <g>\n",
              "        <path d=\"M19 3H5c-1.1 0-2 .9-2 2v14c0 1.1.9 2 2 2h14c1.1 0 2-.9 2-2V5c0-1.1-.9-2-2-2zM9 17H7v-7h2v7zm4 0h-2V7h2v10zm4 0h-2v-4h2v4z\"/>\n",
              "    </g>\n",
              "</svg>\n",
              "  </button>\n",
              "\n",
              "<style>\n",
              "  .colab-df-quickchart {\n",
              "      --bg-color: #E8F0FE;\n",
              "      --fill-color: #1967D2;\n",
              "      --hover-bg-color: #E2EBFA;\n",
              "      --hover-fill-color: #174EA6;\n",
              "      --disabled-fill-color: #AAA;\n",
              "      --disabled-bg-color: #DDD;\n",
              "  }\n",
              "\n",
              "  [theme=dark] .colab-df-quickchart {\n",
              "      --bg-color: #3B4455;\n",
              "      --fill-color: #D2E3FC;\n",
              "      --hover-bg-color: #434B5C;\n",
              "      --hover-fill-color: #FFFFFF;\n",
              "      --disabled-bg-color: #3B4455;\n",
              "      --disabled-fill-color: #666;\n",
              "  }\n",
              "\n",
              "  .colab-df-quickchart {\n",
              "    background-color: var(--bg-color);\n",
              "    border: none;\n",
              "    border-radius: 50%;\n",
              "    cursor: pointer;\n",
              "    display: none;\n",
              "    fill: var(--fill-color);\n",
              "    height: 32px;\n",
              "    padding: 0;\n",
              "    width: 32px;\n",
              "  }\n",
              "\n",
              "  .colab-df-quickchart:hover {\n",
              "    background-color: var(--hover-bg-color);\n",
              "    box-shadow: 0 1px 2px rgba(60, 64, 67, 0.3), 0 1px 3px 1px rgba(60, 64, 67, 0.15);\n",
              "    fill: var(--button-hover-fill-color);\n",
              "  }\n",
              "\n",
              "  .colab-df-quickchart-complete:disabled,\n",
              "  .colab-df-quickchart-complete:disabled:hover {\n",
              "    background-color: var(--disabled-bg-color);\n",
              "    fill: var(--disabled-fill-color);\n",
              "    box-shadow: none;\n",
              "  }\n",
              "\n",
              "  .colab-df-spinner {\n",
              "    border: 2px solid var(--fill-color);\n",
              "    border-color: transparent;\n",
              "    border-bottom-color: var(--fill-color);\n",
              "    animation:\n",
              "      spin 1s steps(1) infinite;\n",
              "  }\n",
              "\n",
              "  @keyframes spin {\n",
              "    0% {\n",
              "      border-color: transparent;\n",
              "      border-bottom-color: var(--fill-color);\n",
              "      border-left-color: var(--fill-color);\n",
              "    }\n",
              "    20% {\n",
              "      border-color: transparent;\n",
              "      border-left-color: var(--fill-color);\n",
              "      border-top-color: var(--fill-color);\n",
              "    }\n",
              "    30% {\n",
              "      border-color: transparent;\n",
              "      border-left-color: var(--fill-color);\n",
              "      border-top-color: var(--fill-color);\n",
              "      border-right-color: var(--fill-color);\n",
              "    }\n",
              "    40% {\n",
              "      border-color: transparent;\n",
              "      border-right-color: var(--fill-color);\n",
              "      border-top-color: var(--fill-color);\n",
              "    }\n",
              "    60% {\n",
              "      border-color: transparent;\n",
              "      border-right-color: var(--fill-color);\n",
              "    }\n",
              "    80% {\n",
              "      border-color: transparent;\n",
              "      border-right-color: var(--fill-color);\n",
              "      border-bottom-color: var(--fill-color);\n",
              "    }\n",
              "    90% {\n",
              "      border-color: transparent;\n",
              "      border-bottom-color: var(--fill-color);\n",
              "    }\n",
              "  }\n",
              "</style>\n",
              "\n",
              "  <script>\n",
              "    async function quickchart(key) {\n",
              "      const quickchartButtonEl =\n",
              "        document.querySelector('#' + key + ' button');\n",
              "      quickchartButtonEl.disabled = true;  // To prevent multiple clicks.\n",
              "      quickchartButtonEl.classList.add('colab-df-spinner');\n",
              "      try {\n",
              "        const charts = await google.colab.kernel.invokeFunction(\n",
              "            'suggestCharts', [key], {});\n",
              "      } catch (error) {\n",
              "        console.error('Error during call to suggestCharts:', error);\n",
              "      }\n",
              "      quickchartButtonEl.classList.remove('colab-df-spinner');\n",
              "      quickchartButtonEl.classList.add('colab-df-quickchart-complete');\n",
              "    }\n",
              "    (() => {\n",
              "      let quickchartButtonEl =\n",
              "        document.querySelector('#df-a5f5266d-b81e-4dbb-8daf-a73f280b7764 button');\n",
              "      quickchartButtonEl.style.display =\n",
              "        google.colab.kernel.accessAllowed ? 'block' : 'none';\n",
              "    })();\n",
              "  </script>\n",
              "</div>\n",
              "\n",
              "  <div id=\"id_14502299-1a2e-4dfb-be4e-16ee7d486d6f\">\n",
              "    <style>\n",
              "      .colab-df-generate {\n",
              "        background-color: #E8F0FE;\n",
              "        border: none;\n",
              "        border-radius: 50%;\n",
              "        cursor: pointer;\n",
              "        display: none;\n",
              "        fill: #1967D2;\n",
              "        height: 32px;\n",
              "        padding: 0 0 0 0;\n",
              "        width: 32px;\n",
              "      }\n",
              "\n",
              "      .colab-df-generate:hover {\n",
              "        background-color: #E2EBFA;\n",
              "        box-shadow: 0px 1px 2px rgba(60, 64, 67, 0.3), 0px 1px 3px 1px rgba(60, 64, 67, 0.15);\n",
              "        fill: #174EA6;\n",
              "      }\n",
              "\n",
              "      [theme=dark] .colab-df-generate {\n",
              "        background-color: #3B4455;\n",
              "        fill: #D2E3FC;\n",
              "      }\n",
              "\n",
              "      [theme=dark] .colab-df-generate:hover {\n",
              "        background-color: #434B5C;\n",
              "        box-shadow: 0px 1px 3px 1px rgba(0, 0, 0, 0.15);\n",
              "        filter: drop-shadow(0px 1px 2px rgba(0, 0, 0, 0.3));\n",
              "        fill: #FFFFFF;\n",
              "      }\n",
              "    </style>\n",
              "    <button class=\"colab-df-generate\" onclick=\"generateWithVariable('stats_table')\"\n",
              "            title=\"Generate code using this dataframe.\"\n",
              "            style=\"display:none;\">\n",
              "\n",
              "  <svg xmlns=\"http://www.w3.org/2000/svg\" height=\"24px\"viewBox=\"0 0 24 24\"\n",
              "       width=\"24px\">\n",
              "    <path d=\"M7,19H8.4L18.45,9,17,7.55,7,17.6ZM5,21V16.75L18.45,3.32a2,2,0,0,1,2.83,0l1.4,1.43a1.91,1.91,0,0,1,.58,1.4,1.91,1.91,0,0,1-.58,1.4L9.25,21ZM18.45,9,17,7.55Zm-12,3A5.31,5.31,0,0,0,4.9,8.1,5.31,5.31,0,0,0,1,6.5,5.31,5.31,0,0,0,4.9,4.9,5.31,5.31,0,0,0,6.5,1,5.31,5.31,0,0,0,8.1,4.9,5.31,5.31,0,0,0,12,6.5,5.46,5.46,0,0,0,6.5,12Z\"/>\n",
              "  </svg>\n",
              "    </button>\n",
              "    <script>\n",
              "      (() => {\n",
              "      const buttonEl =\n",
              "        document.querySelector('#id_14502299-1a2e-4dfb-be4e-16ee7d486d6f button.colab-df-generate');\n",
              "      buttonEl.style.display =\n",
              "        google.colab.kernel.accessAllowed ? 'block' : 'none';\n",
              "\n",
              "      buttonEl.onclick = () => {\n",
              "        google.colab.notebook.generateWithVariable('stats_table');\n",
              "      }\n",
              "      })();\n",
              "    </script>\n",
              "  </div>\n",
              "\n",
              "    </div>\n",
              "  </div>\n"
            ],
            "application/vnd.google.colaboratory.intrinsic+json": {
              "type": "dataframe",
              "variable_name": "stats_table",
              "summary": "{\n  \"name\": \"stats_table\",\n  \"rows\": 20,\n  \"fields\": [\n    {\n      \"column\": \"name\",\n      \"properties\": {\n        \"dtype\": \"string\",\n        \"num_unique_values\": 20,\n        \"samples\": [\n          \"bulbasaur\",\n          \"pidgeot\",\n          \"pidgey\"\n        ],\n        \"semantic_type\": \"\",\n        \"description\": \"\"\n      }\n    },\n    {\n      \"column\": \"url\",\n      \"properties\": {\n        \"dtype\": \"string\",\n        \"num_unique_values\": 20,\n        \"samples\": [\n          \"https://pokeapi.co/api/v2/pokemon/1/\",\n          \"https://pokeapi.co/api/v2/pokemon/18/\",\n          \"https://pokeapi.co/api/v2/pokemon/16/\"\n        ],\n        \"semantic_type\": \"\",\n        \"description\": \"\"\n      }\n    },\n    {\n      \"column\": \"_dlt_load_id\",\n      \"properties\": {\n        \"dtype\": \"category\",\n        \"num_unique_values\": 1,\n        \"samples\": [\n          \"1739877945.4241936\"\n        ],\n        \"semantic_type\": \"\",\n        \"description\": \"\"\n      }\n    },\n    {\n      \"column\": \"_dlt_id\",\n      \"properties\": {\n        \"dtype\": \"string\",\n        \"num_unique_values\": 20,\n        \"samples\": [\n          \"j34nNVuAwwQEhg\"\n        ],\n        \"semantic_type\": \"\",\n        \"description\": \"\"\n      }\n    }\n  ]\n}"
            },
            "application/vnd.google.colaboratory.module+javascript": "\n      import \"https://ssl.gstatic.com/colaboratory/data_table/e523c247d1e24a05/data_table.js\";\n\n      const table = window.createDataTable({\n        data: [[{\n            'v': 0,\n            'f': \"0\",\n        },\n\"bulbasaur\",\n\"https://pokeapi.co/api/v2/pokemon/1/\",\n\"1739877945.4241936\",\n\"j34nNVuAwwQEhg\"],\n [{\n            'v': 1,\n            'f': \"1\",\n        },\n\"ivysaur\",\n\"https://pokeapi.co/api/v2/pokemon/2/\",\n\"1739877945.4241936\",\n\"4EVxpehlvLv6OQ\"],\n [{\n            'v': 2,\n            'f': \"2\",\n        },\n\"venusaur\",\n\"https://pokeapi.co/api/v2/pokemon/3/\",\n\"1739877945.4241936\",\n\"cAlCqEwMNpBw5g\"],\n [{\n            'v': 3,\n            'f': \"3\",\n        },\n\"charmander\",\n\"https://pokeapi.co/api/v2/pokemon/4/\",\n\"1739877945.4241936\",\n\"zUCA5WSU9qpPbw\"],\n [{\n            'v': 4,\n            'f': \"4\",\n        },\n\"charmeleon\",\n\"https://pokeapi.co/api/v2/pokemon/5/\",\n\"1739877945.4241936\",\n\"1otCKB6xc6ZuIQ\"],\n [{\n            'v': 5,\n            'f': \"5\",\n        },\n\"charizard\",\n\"https://pokeapi.co/api/v2/pokemon/6/\",\n\"1739877945.4241936\",\n\"kqWXgFLJgdHxLA\"],\n [{\n            'v': 6,\n            'f': \"6\",\n        },\n\"squirtle\",\n\"https://pokeapi.co/api/v2/pokemon/7/\",\n\"1739877945.4241936\",\n\"Jz0iPGXsvIYtyQ\"],\n [{\n            'v': 7,\n            'f': \"7\",\n        },\n\"wartortle\",\n\"https://pokeapi.co/api/v2/pokemon/8/\",\n\"1739877945.4241936\",\n\"i7uqazQhJ+IXCQ\"],\n [{\n            'v': 8,\n            'f': \"8\",\n        },\n\"blastoise\",\n\"https://pokeapi.co/api/v2/pokemon/9/\",\n\"1739877945.4241936\",\n\"iVSmZgyGVO2/5w\"],\n [{\n            'v': 9,\n            'f': \"9\",\n        },\n\"caterpie\",\n\"https://pokeapi.co/api/v2/pokemon/10/\",\n\"1739877945.4241936\",\n\"L6cHyPeeKRFHpA\"],\n [{\n            'v': 10,\n            'f': \"10\",\n        },\n\"metapod\",\n\"https://pokeapi.co/api/v2/pokemon/11/\",\n\"1739877945.4241936\",\n\"TajwnvofGQefCA\"],\n [{\n            'v': 11,\n            'f': \"11\",\n        },\n\"butterfree\",\n\"https://pokeapi.co/api/v2/pokemon/12/\",\n\"1739877945.4241936\",\n\"nVOFsI0UQ5MXCQ\"],\n [{\n            'v': 12,\n            'f': \"12\",\n        },\n\"weedle\",\n\"https://pokeapi.co/api/v2/pokemon/13/\",\n\"1739877945.4241936\",\n\"KG8s+yivpyc7OQ\"],\n [{\n            'v': 13,\n            'f': \"13\",\n        },\n\"kakuna\",\n\"https://pokeapi.co/api/v2/pokemon/14/\",\n\"1739877945.4241936\",\n\"7oMYkDhQ9cDDSg\"],\n [{\n            'v': 14,\n            'f': \"14\",\n        },\n\"beedrill\",\n\"https://pokeapi.co/api/v2/pokemon/15/\",\n\"1739877945.4241936\",\n\"q9VMXAp+CU/esQ\"],\n [{\n            'v': 15,\n            'f': \"15\",\n        },\n\"pidgey\",\n\"https://pokeapi.co/api/v2/pokemon/16/\",\n\"1739877945.4241936\",\n\"g+fHXnApvRE8jw\"],\n [{\n            'v': 16,\n            'f': \"16\",\n        },\n\"pidgeotto\",\n\"https://pokeapi.co/api/v2/pokemon/17/\",\n\"1739877945.4241936\",\n\"rgxJqFPiqeXnUQ\"],\n [{\n            'v': 17,\n            'f': \"17\",\n        },\n\"pidgeot\",\n\"https://pokeapi.co/api/v2/pokemon/18/\",\n\"1739877945.4241936\",\n\"+Uzx3A3d0MRcZw\"],\n [{\n            'v': 18,\n            'f': \"18\",\n        },\n\"rattata\",\n\"https://pokeapi.co/api/v2/pokemon/19/\",\n\"1739877945.4241936\",\n\"I4VXifsuNGnmOQ\"],\n [{\n            'v': 19,\n            'f': \"19\",\n        },\n\"raticate\",\n\"https://pokeapi.co/api/v2/pokemon/20/\",\n\"1739877945.4241936\",\n\"jRm8HWcBO6QcXg\"]],\n        columns: [[\"number\", \"index\"], [\"string\", \"name\"], [\"string\", \"url\"], [\"string\", \"_dlt_load_id\"], [\"string\", \"_dlt_id\"]],\n        columnOptions: [{\"width\": \"1px\", \"className\": \"index_column\"}],\n        rowsPerPage: 25,\n        helpUrl: \"https://colab.research.google.com/notebooks/data_table.ipynb\",\n        suppressOutputScrolling: true,\n        minimumWidth: undefined,\n      });\n\n      function appendQuickchartButton(parentElement) {\n        let quickchartButtonContainerElement = document.createElement('div');\n        quickchartButtonContainerElement.innerHTML = `\n<div id=\"df-38b0aa6c-aef2-41af-80f7-8b2878bde3d9\">\n  <button class=\"colab-df-quickchart\" onclick=\"quickchart('df-38b0aa6c-aef2-41af-80f7-8b2878bde3d9')\"\n            title=\"Suggest charts\"\n            style=\"display:none;\">\n    \n<svg xmlns=\"http://www.w3.org/2000/svg\" height=\"24px\"viewBox=\"0 0 24 24\"\n     width=\"24px\">\n    <g>\n        <path d=\"M19 3H5c-1.1 0-2 .9-2 2v14c0 1.1.9 2 2 2h14c1.1 0 2-.9 2-2V5c0-1.1-.9-2-2-2zM9 17H7v-7h2v7zm4 0h-2V7h2v10zm4 0h-2v-4h2v4z\"/>\n    </g>\n</svg>\n  </button>\n  \n<style>\n  .colab-df-quickchart {\n      --bg-color: #E8F0FE;\n      --fill-color: #1967D2;\n      --hover-bg-color: #E2EBFA;\n      --hover-fill-color: #174EA6;\n      --disabled-fill-color: #AAA;\n      --disabled-bg-color: #DDD;\n  }\n\n  [theme=dark] .colab-df-quickchart {\n      --bg-color: #3B4455;\n      --fill-color: #D2E3FC;\n      --hover-bg-color: #434B5C;\n      --hover-fill-color: #FFFFFF;\n      --disabled-bg-color: #3B4455;\n      --disabled-fill-color: #666;\n  }\n\n  .colab-df-quickchart {\n    background-color: var(--bg-color);\n    border: none;\n    border-radius: 50%;\n    cursor: pointer;\n    display: none;\n    fill: var(--fill-color);\n    height: 32px;\n    padding: 0;\n    width: 32px;\n  }\n\n  .colab-df-quickchart:hover {\n    background-color: var(--hover-bg-color);\n    box-shadow: 0 1px 2px rgba(60, 64, 67, 0.3), 0 1px 3px 1px rgba(60, 64, 67, 0.15);\n    fill: var(--button-hover-fill-color);\n  }\n\n  .colab-df-quickchart-complete:disabled,\n  .colab-df-quickchart-complete:disabled:hover {\n    background-color: var(--disabled-bg-color);\n    fill: var(--disabled-fill-color);\n    box-shadow: none;\n  }\n\n  .colab-df-spinner {\n    border: 2px solid var(--fill-color);\n    border-color: transparent;\n    border-bottom-color: var(--fill-color);\n    animation:\n      spin 1s steps(1) infinite;\n  }\n\n  @keyframes spin {\n    0% {\n      border-color: transparent;\n      border-bottom-color: var(--fill-color);\n      border-left-color: var(--fill-color);\n    }\n    20% {\n      border-color: transparent;\n      border-left-color: var(--fill-color);\n      border-top-color: var(--fill-color);\n    }\n    30% {\n      border-color: transparent;\n      border-left-color: var(--fill-color);\n      border-top-color: var(--fill-color);\n      border-right-color: var(--fill-color);\n    }\n    40% {\n      border-color: transparent;\n      border-right-color: var(--fill-color);\n      border-top-color: var(--fill-color);\n    }\n    60% {\n      border-color: transparent;\n      border-right-color: var(--fill-color);\n    }\n    80% {\n      border-color: transparent;\n      border-right-color: var(--fill-color);\n      border-bottom-color: var(--fill-color);\n    }\n    90% {\n      border-color: transparent;\n      border-bottom-color: var(--fill-color);\n    }\n  }\n</style>\n\n  <script>\n    async function quickchart(key) {\n      const quickchartButtonEl =\n        document.querySelector('#' + key + ' button');\n      quickchartButtonEl.disabled = true;  // To prevent multiple clicks.\n      quickchartButtonEl.classList.add('colab-df-spinner');\n      try {\n        const charts = await google.colab.kernel.invokeFunction(\n            'suggestCharts', [key], {});\n      } catch (error) {\n        console.error('Error during call to suggestCharts:', error);\n      }\n      quickchartButtonEl.classList.remove('colab-df-spinner');\n      quickchartButtonEl.classList.add('colab-df-quickchart-complete');\n    }\n    (() => {\n      let quickchartButtonEl =\n        document.querySelector('#df-38b0aa6c-aef2-41af-80f7-8b2878bde3d9 button');\n      quickchartButtonEl.style.display =\n        google.colab.kernel.accessAllowed ? 'block' : 'none';\n    })();\n  </script>\n</div>`;\n        parentElement.appendChild(quickchartButtonContainerElement);\n      }\n\n      appendQuickchartButton(table);\n    "
          },
          "metadata": {}
        }
      ],
      "source": [
        "# # this lets us query data without adding schema prefix to table names\n",
        "conn.sql(f\"SET search_path = '{pipeline.dataset_name}'\")\n",
        "stats_table = conn.sql(\"SELECT * FROM pokemon\").df()\n",
        "display(stats_table)"
      ]
    },
    {
      "cell_type": "code",
      "execution_count": null,
      "metadata": {
        "id": "4oxlpJJC8vCc"
      },
      "outputs": [],
      "source": []
    },
    {
      "cell_type": "markdown",
      "metadata": {
        "id": "ol13bwL3yENc"
      },
      "source": [
        "# **Next Steps** 👀"
      ]
    },
    {
      "cell_type": "markdown",
      "metadata": {
        "id": "nNIRk_NM1Mf6"
      },
      "source": [
        "## **[Give `dlt` a ⭐ on GitHub](https://github.com/dlt-hub/dlt)**\n",
        "## **[Join the `dlt` community on Slack](https://join.slack.com/t/dlthub-community/shared_invite/zt-1slox199h-HAE7EQoXmstkP_bTqal65g)**\n",
        "## **[Read the `dlt` docs](https://dlthub.com/docs/)**"
      ]
    }
  ],
  "metadata": {
    "colab": {
      "provenance": [],
      "include_colab_link": true
    },
    "kernelspec": {
      "display_name": "Python 3",
      "name": "python3"
    },
    "language_info": {
      "name": "python"
    }
  },
  "nbformat": 4,
  "nbformat_minor": 0
}